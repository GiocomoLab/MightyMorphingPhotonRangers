{
 "cells": [
  {
   "cell_type": "code",
   "execution_count": 1,
   "metadata": {},
   "outputs": [
    {
     "name": "stdout",
     "output_type": "stream",
     "text": [
      "G:\\My Drive\\2P_Data\\TwoTower\\4139190.1\\15_06_2018\\TwoTower_noTimeout\\TwoTower_noTimeout_1_000.mat\n"
     ]
    },
    {
     "name": "stderr",
     "output_type": "stream",
     "text": [
      "C:\\Users\\mplitt\\MightyMorphingPhotonRangers\\preprocessing.py:203: SettingWithCopyWarning: \n",
      "A value is trying to be set on a copy of a slice from a DataFrame.\n",
      "Try using .loc[row_indexer,col_indexer] = value instead\n",
      "\n",
      "See the caveats in the documentation: http://pandas.pydata.org/pandas-docs/stable/indexing.html#indexing-view-versus-copy\n",
      "  frame['ca inds'] = caInds\n",
      "C:\\Users\\mplitt\\Anaconda3\\lib\\site-packages\\pandas\\core\\frame.py:3790: SettingWithCopyWarning: \n",
      "A value is trying to be set on a copy of a slice from a DataFrame\n",
      "\n",
      "See the caveats in the documentation: http://pandas.pydata.org/pandas-docs/stable/indexing.html#indexing-view-versus-copy\n",
      "  downcast=downcast, **kwargs)\n"
     ]
    },
    {
     "name": "stdout",
     "output_type": "stream",
     "text": [
      "G:\\My Drive\\2P_Data\\TwoTower\\4139190.1\\15_06_2018\\TwoTower_noTimeout\\TwoTower_noTimeout_1_000.mat\n",
      "#subsystem#not made into numpy array\n",
      "Anot made into numpy array\n",
      "frame diff 0\n"
     ]
    },
    {
     "name": "stderr",
     "output_type": "stream",
     "text": [
      "C:\\Users\\mplitt\\MightyMorphingPhotonRangers\\utilities.py:61: RuntimeWarning: invalid value encountered in greater\n",
      "  lick_inds = np.where(licks>0)[0]\n",
      "C:\\Users\\mplitt\\Anaconda3\\lib\\site-packages\\matplotlib\\pyplot.py:522: RuntimeWarning: More than 20 figures have been opened. Figures created through the pyplot interface (`matplotlib.pyplot.figure`) are retained until explicitly closed and may consume too much memory. (To control this warning, see the rcParam `figure.max_open_warning`).\n",
      "  max_open_warning, RuntimeWarning)\n",
      "C:\\Users\\mplitt\\MightyMorphingPhotonRangers\\BayesianDecoding.py:418: RuntimeWarning: Mean of empty slice\n",
      "  mu_time[j,:] = np.nanmean(d_time[k],axis=0)\n",
      "C:\\Users\\mplitt\\Anaconda3\\lib\\site-packages\\numpy\\lib\\nanfunctions.py:1545: RuntimeWarning: Degrees of freedom <= 0 for slice.\n",
      "  keepdims=keepdims)\n"
     ]
    },
    {
     "name": "stdout",
     "output_type": "stream",
     "text": [
      "G:\\My Drive\\2P_Data\\TwoTower\\4139190.1\\15_06_2018\\TwoTower_noTimeout\\TwoTower_noTimeout_3_000.mat\n",
      "G:\\My Drive\\2P_Data\\TwoTower\\4139190.1\\15_06_2018\\TwoTower_noTimeout\\TwoTower_noTimeout_3_000.mat\n",
      "#subsystem#not made into numpy array\n",
      "Anot made into numpy array\n",
      "frame diff 0\n",
      "G:\\My Drive\\2P_Data\\TwoTower\\4139190.1\\16_06_2018\\TwoTower_noTimeout\\TwoTower_noTimeout_2_000.mat\n",
      "G:\\My Drive\\2P_Data\\TwoTower\\4139190.1\\16_06_2018\\TwoTower_noTimeout\\TwoTower_noTimeout_2_000.mat\n",
      "#subsystem#not made into numpy array\n",
      "A_keepnot made into numpy array\n",
      "frame diff 0\n",
      "G:\\My Drive\\2P_Data\\TwoTower\\4139190.1\\19_06_2018\\TwoTower_Timeout\\TwoTower_Timeout_2_000.mat\n",
      "G:\\My Drive\\2P_Data\\TwoTower\\4139190.1\\19_06_2018\\TwoTower_Timeout\\TwoTower_Timeout_2_000.mat\n",
      "#subsystem#not made into numpy array\n",
      "A_keepnot made into numpy array\n",
      "frame diff 0\n"
     ]
    },
    {
     "name": "stderr",
     "output_type": "stream",
     "text": [
      "C:\\Users\\mplitt\\MightyMorphingPhotonRangers\\utilities.py:250: RuntimeWarning: Mean of empty slice\n",
      "  zone0_speed[i]=np.nanmean(sub_frame.loc[zone0_mask,'speed'])\n",
      "C:\\Users\\mplitt\\MightyMorphingPhotonRangers\\utilities.py:251: RuntimeWarning: Mean of empty slice\n",
      "  zone1_speed[i] = np.nanmean(sub_frame.loc[zone1_mask,'speed'])\n"
     ]
    },
    {
     "name": "stdout",
     "output_type": "stream",
     "text": [
      "G:\\My Drive\\2P_Data\\TwoTower\\4139190.1\\21_06_2018\\TwoTower_Timeout\\TwoTower_Timeout_3_000.mat\n",
      "G:\\My Drive\\2P_Data\\TwoTower\\4139190.1\\21_06_2018\\TwoTower_Timeout\\TwoTower_Timeout_3_000.mat\n",
      "#subsystem#not made into numpy array\n",
      "A_keepnot made into numpy array\n",
      "frame diff 0\n",
      "G:\\My Drive\\2P_Data\\TwoTower\\4139190.1\\24_06_2018\\TwoTower_Timeout\\TwoTower_Timeout_2_000.mat\n",
      "G:\\My Drive\\2P_Data\\TwoTower\\4139190.1\\24_06_2018\\TwoTower_Timeout\\TwoTower_Timeout_2_000.mat\n",
      "#subsystem#not made into numpy array\n",
      "A_keepnot made into numpy array\n",
      "frame diff 0\n",
      "G:\\My Drive\\2P_Data\\TwoTower\\4139190.1\\25_06_2018\\TwoTower_Timeout\\TwoTower_Timeout_2_000.mat\n",
      "G:\\My Drive\\2P_Data\\TwoTower\\4139190.1\\25_06_2018\\TwoTower_Timeout\\TwoTower_Timeout_2_000.mat\n",
      "#subsystem#not made into numpy array\n",
      "A_keepnot made into numpy array\n",
      "frame diff 0\n",
      "G:\\My Drive\\2P_Data\\TwoTower\\4139190.1\\27_06_2018\\TwoTower_Timeout\\TwoTower_Timeout_2_000.mat\n",
      "G:\\My Drive\\2P_Data\\TwoTower\\4139190.1\\27_06_2018\\TwoTower_Timeout\\TwoTower_Timeout_2_000.mat\n",
      "#subsystem#not made into numpy array\n",
      "Anot made into numpy array\n",
      "frame diff 0\n",
      "G:\\My Drive\\2P_Data\\TwoTower\\4139190.1\\11_07_2018\\TwoTower_Timeout\\TwoTower_Timeout_017_023.mat\n",
      "G:\\My Drive\\2P_Data\\TwoTower\\4139190.1\\11_07_2018\\TwoTower_Timeout\\TwoTower_Timeout_017_023.mat\n",
      "#subsystem#not made into numpy array\n",
      "Anot made into numpy array\n",
      "frame diff 0\n",
      "G:\\My Drive\\2P_Data\\TwoTower\\4139190.1\\11_07_2018\\TwoTower_Timeout\\TwoTower_Timeout_017_023.mat\n",
      "G:\\My Drive\\2P_Data\\TwoTower\\4139190.1\\11_07_2018\\TwoTower_Timeout\\TwoTower_Timeout_017_023.mat\n",
      "#subsystem#not made into numpy array\n",
      "Anot made into numpy array\n",
      "frame diff 0\n",
      "error making directory\n",
      "G:\\My Drive\\2P_Data\\TwoTower\\4139190.3\\15_06_2018\\TwoTower_noTimeout\\TwoTower_noTimeout_1_000.mat\n",
      "G:\\My Drive\\2P_Data\\TwoTower\\4139190.3\\15_06_2018\\TwoTower_noTimeout\\TwoTower_noTimeout_1_000.mat\n",
      "#subsystem#not made into numpy array\n",
      "A_keepnot made into numpy array\n",
      "frame diff 0\n",
      "G:\\My Drive\\2P_Data\\TwoTower\\4139190.3\\15_06_2018\\TwoTower_noTimeout\\TwoTower_noTimeout_3_000.mat\n",
      "G:\\My Drive\\2P_Data\\TwoTower\\4139190.3\\15_06_2018\\TwoTower_noTimeout\\TwoTower_noTimeout_3_000.mat\n",
      "#subsystem#not made into numpy array\n",
      "A_keepnot made into numpy array\n",
      "frame diff 0\n",
      "G:\\My Drive\\2P_Data\\TwoTower\\4139190.3\\17_06_2018\\TwoTower_noTimeout\\TwoTower_noTimeout_2_000.mat\n",
      "G:\\My Drive\\2P_Data\\TwoTower\\4139190.3\\17_06_2018\\TwoTower_noTimeout\\TwoTower_noTimeout_2_000.mat\n",
      "#subsystem#not made into numpy array\n",
      "A_keepnot made into numpy array\n",
      "frame diff 0\n",
      "G:\\My Drive\\2P_Data\\TwoTower\\4139190.3\\19_06_2018\\TwoTower_Timeout\\TwoTower_Timeout_2_000.mat\n",
      "G:\\My Drive\\2P_Data\\TwoTower\\4139190.3\\19_06_2018\\TwoTower_Timeout\\TwoTower_Timeout_2_000.mat\n",
      "#subsystem#not made into numpy array\n",
      "A_keepnot made into numpy array\n",
      "frame diff 0\n",
      "G:\\My Drive\\2P_Data\\TwoTower\\4139190.3\\21_06_2018\\TwoTower_Timeout\\TwoTower_Timeout_2_000.mat\n",
      "G:\\My Drive\\2P_Data\\TwoTower\\4139190.3\\21_06_2018\\TwoTower_Timeout\\TwoTower_Timeout_2_000.mat\n",
      "#subsystem#not made into numpy array\n",
      "A_keepnot made into numpy array\n",
      "frame diff 0\n",
      "G:\\My Drive\\2P_Data\\TwoTower\\4139190.3\\25_06_2018\\TwoTower_Timeout\\TwoTower_Timeout_2_000.mat\n",
      "G:\\My Drive\\2P_Data\\TwoTower\\4139190.3\\25_06_2018\\TwoTower_Timeout\\TwoTower_Timeout_2_000.mat\n",
      "#subsystem#not made into numpy array\n",
      "A_keepnot made into numpy array\n",
      "frame diff 0\n",
      "G:\\My Drive\\2P_Data\\TwoTower\\4139190.3\\28_06_2018\\TwoTower_Timeout\\TwoTower_Timeout_2_000.mat\n",
      "G:\\My Drive\\2P_Data\\TwoTower\\4139190.3\\28_06_2018\\TwoTower_Timeout\\TwoTower_Timeout_2_000.mat\n",
      "#subsystem#not made into numpy array\n",
      "A_keepnot made into numpy array\n",
      "frame diff 0\n",
      "G:\\My Drive\\2P_Data\\TwoTower\\4139190.3\\12_07_2018\\TwoTower_Timeout\\TwoTower_Timeout_001_004.mat\n",
      "G:\\My Drive\\2P_Data\\TwoTower\\4139190.3\\12_07_2018\\TwoTower_Timeout\\TwoTower_Timeout_001_004.mat\n",
      "#subsystem#not made into numpy array\n",
      "A_keepnot made into numpy array\n",
      "frame diff 0\n",
      "G:\\My Drive\\2P_Data\\TwoTower\\4139190.3\\12_07_2018\\TwoTower_Timeout\\TwoTower_Timeout_001_004.mat\n",
      "G:\\My Drive\\2P_Data\\TwoTower\\4139190.3\\12_07_2018\\TwoTower_Timeout\\TwoTower_Timeout_001_004.mat\n",
      "#subsystem#not made into numpy array\n",
      "A_keepnot made into numpy array\n",
      "frame diff 0\n",
      "error making directory\n",
      "G:\\My Drive\\2P_Data\\TwoTower\\4139190.3\\12_07_2018\\TwoTower_Timeout\\TwoTower_Timeout_002_009.mat\n",
      "G:\\My Drive\\2P_Data\\TwoTower\\4139190.3\\12_07_2018\\TwoTower_Timeout\\TwoTower_Timeout_002_009.mat\n",
      "#subsystem#not made into numpy array\n",
      "A_keepnot made into numpy array\n",
      "frame diff 0\n",
      "G:\\My Drive\\2P_Data\\TwoTower\\4139190.3\\12_07_2018\\TwoTower_Timeout\\TwoTower_Timeout_002_009.mat\n",
      "G:\\My Drive\\2P_Data\\TwoTower\\4139190.3\\12_07_2018\\TwoTower_Timeout\\TwoTower_Timeout_002_009.mat\n",
      "#subsystem#not made into numpy array\n",
      "A_keepnot made into numpy array\n",
      "frame diff 0\n",
      "error making directory\n",
      "G:\\My Drive\\2P_Data\\TwoTower\\4139190.3\\14_07_2018\\TwoTower_Timeout\\TwoTower_Timeout_016_014.mat\n",
      "G:\\My Drive\\2P_Data\\TwoTower\\4139190.3\\14_07_2018\\TwoTower_Timeout\\TwoTower_Timeout_016_014.mat\n",
      "#subsystem#not made into numpy array\n",
      "A_keepnot made into numpy array\n",
      "frame diff 0\n",
      "G:\\My Drive\\2P_Data\\TwoTower\\4139190.3\\14_07_2018\\TwoTower_Timeout\\TwoTower_Timeout_016_014.mat\n",
      "G:\\My Drive\\2P_Data\\TwoTower\\4139190.3\\14_07_2018\\TwoTower_Timeout\\TwoTower_Timeout_016_014.mat\n",
      "#subsystem#not made into numpy array\n",
      "A_keepnot made into numpy array\n",
      "frame diff 0\n",
      "error making directory\n",
      "G:\\My Drive\\2P_Data\\TwoTower\\4139190.3\\14_07_2018\\TwoTower_Timeout\\TwoTower_Timeout_017_016.mat\n",
      "G:\\My Drive\\2P_Data\\TwoTower\\4139190.3\\14_07_2018\\TwoTower_Timeout\\TwoTower_Timeout_017_016.mat\n",
      "#subsystem#not made into numpy array\n",
      "A_keepnot made into numpy array\n",
      "frame diff 0\n",
      "G:\\My Drive\\2P_Data\\TwoTower\\4139190.3\\14_07_2018\\TwoTower_Timeout\\TwoTower_Timeout_017_016.mat\n",
      "G:\\My Drive\\2P_Data\\TwoTower\\4139190.3\\14_07_2018\\TwoTower_Timeout\\TwoTower_Timeout_017_016.mat\n",
      "#subsystem#not made into numpy array\n",
      "A_keepnot made into numpy array\n",
      "frame diff 0\n",
      "error making directory\n",
      "G:\\My Drive\\2P_Data\\TwoTower\\4139212.4\\08_10_2018\\TwoTower_noTimeout\\TwoTower_noTimeout_001_002.mat\n",
      "G:\\My Drive\\2P_Data\\TwoTower\\4139212.4\\08_10_2018\\TwoTower_noTimeout\\TwoTower_noTimeout_001_002.mat\n",
      "#subsystem#not made into numpy array\n",
      "Anot made into numpy array\n",
      "frame diff 0\n"
     ]
    },
    {
     "ename": "FileNotFoundError",
     "evalue": "[Errno 2] No such file or directory: 'G:\\\\My Drive\\\\NonParametricDecoding\\\\data\\\\4139212.4_08_10_2018_1\\\\ctxt_LLR.npz'",
     "output_type": "error",
     "traceback": [
      "\u001b[1;31m---------------------------------------------------------------------------\u001b[0m",
      "\u001b[1;31mFileNotFoundError\u001b[0m                         Traceback (most recent call last)",
      "\u001b[1;32m<ipython-input-1-5a6caaaa93fa>\u001b[0m in \u001b[0;36m<module>\u001b[1;34m()\u001b[0m\n\u001b[1;32m----> 1\u001b[1;33m \u001b[1;32mimport\u001b[0m \u001b[0mPlotAllScans\u001b[0m\u001b[1;33m\u001b[0m\u001b[0m\n\u001b[0m",
      "\u001b[1;32m~\\MightyMorphingPhotonRangers\\EmpiricalDensityDecoding\\PlotAllScans.py\u001b[0m in \u001b[0;36m<module>\u001b[1;34m()\u001b[0m\n\u001b[0;32m     36\u001b[0m \u001b[1;33m\u001b[0m\u001b[0m\n\u001b[0;32m     37\u001b[0m         \u001b[0mpath\u001b[0m \u001b[1;33m=\u001b[0m \u001b[0mos\u001b[0m\u001b[1;33m.\u001b[0m\u001b[0mpath\u001b[0m\u001b[1;33m.\u001b[0m\u001b[0mjoin\u001b[0m\u001b[1;33m(\u001b[0m\u001b[1;34m\"G:\\\\My Drive\\\\NonParametricDecoding\\\\data\"\u001b[0m\u001b[1;33m,\u001b[0m\u001b[1;34m\"%s_%s_%d\"\u001b[0m \u001b[1;33m%\u001b[0m\u001b[1;33m(\u001b[0m\u001b[0msess\u001b[0m\u001b[1;33m.\u001b[0m\u001b[0mMouseName\u001b[0m\u001b[1;33m,\u001b[0m \u001b[0msess\u001b[0m\u001b[1;33m.\u001b[0m\u001b[0mDateFolder\u001b[0m\u001b[1;33m,\u001b[0m \u001b[0msess\u001b[0m\u001b[1;33m.\u001b[0m\u001b[0mSessionNumber\u001b[0m\u001b[1;33m)\u001b[0m\u001b[1;33m)\u001b[0m\u001b[1;33m\u001b[0m\u001b[0m\n\u001b[1;32m---> 38\u001b[1;33m         \u001b[0mctxt_LLR\u001b[0m \u001b[1;33m=\u001b[0m \u001b[0mnp\u001b[0m\u001b[1;33m.\u001b[0m\u001b[0mload\u001b[0m\u001b[1;33m(\u001b[0m\u001b[0mos\u001b[0m\u001b[1;33m.\u001b[0m\u001b[0mpath\u001b[0m\u001b[1;33m.\u001b[0m\u001b[0mjoin\u001b[0m\u001b[1;33m(\u001b[0m\u001b[0mpath\u001b[0m\u001b[1;33m,\u001b[0m\u001b[1;34m\"ctxt_LLR.npz\"\u001b[0m\u001b[1;33m)\u001b[0m\u001b[1;33m)\u001b[0m\u001b[1;33m\u001b[0m\u001b[0m\n\u001b[0m\u001b[0;32m     39\u001b[0m \u001b[1;33m\u001b[0m\u001b[0m\n\u001b[0;32m     40\u001b[0m         \u001b[0mLLR\u001b[0m \u001b[1;33m=\u001b[0m \u001b[0mctxt_LLR\u001b[0m\u001b[1;33m[\u001b[0m\u001b[1;34m'arr_0'\u001b[0m\u001b[1;33m]\u001b[0m\u001b[1;33m\u001b[0m\u001b[0m\n",
      "\u001b[1;32m~\\Anaconda3\\lib\\site-packages\\numpy\\lib\\npyio.py\u001b[0m in \u001b[0;36mload\u001b[1;34m(file, mmap_mode, allow_pickle, fix_imports, encoding)\u001b[0m\n\u001b[0;32m    382\u001b[0m     \u001b[0mown_fid\u001b[0m \u001b[1;33m=\u001b[0m \u001b[1;32mFalse\u001b[0m\u001b[1;33m\u001b[0m\u001b[0m\n\u001b[0;32m    383\u001b[0m     \u001b[1;32mif\u001b[0m \u001b[0misinstance\u001b[0m\u001b[1;33m(\u001b[0m\u001b[0mfile\u001b[0m\u001b[1;33m,\u001b[0m \u001b[0mbasestring\u001b[0m\u001b[1;33m)\u001b[0m\u001b[1;33m:\u001b[0m\u001b[1;33m\u001b[0m\u001b[0m\n\u001b[1;32m--> 384\u001b[1;33m         \u001b[0mfid\u001b[0m \u001b[1;33m=\u001b[0m \u001b[0mopen\u001b[0m\u001b[1;33m(\u001b[0m\u001b[0mfile\u001b[0m\u001b[1;33m,\u001b[0m \u001b[1;34m\"rb\"\u001b[0m\u001b[1;33m)\u001b[0m\u001b[1;33m\u001b[0m\u001b[0m\n\u001b[0m\u001b[0;32m    385\u001b[0m         \u001b[0mown_fid\u001b[0m \u001b[1;33m=\u001b[0m \u001b[1;32mTrue\u001b[0m\u001b[1;33m\u001b[0m\u001b[0m\n\u001b[0;32m    386\u001b[0m     \u001b[1;32melif\u001b[0m \u001b[0mis_pathlib_path\u001b[0m\u001b[1;33m(\u001b[0m\u001b[0mfile\u001b[0m\u001b[1;33m)\u001b[0m\u001b[1;33m:\u001b[0m\u001b[1;33m\u001b[0m\u001b[0m\n",
      "\u001b[1;31mFileNotFoundError\u001b[0m: [Errno 2] No such file or directory: 'G:\\\\My Drive\\\\NonParametricDecoding\\\\data\\\\4139212.4_08_10_2018_1\\\\ctxt_LLR.npz'"
     ]
    }
   ],
   "source": [
    "import PlotAllScans"
   ]
  },
  {
   "cell_type": "code",
   "execution_count": null,
   "metadata": {},
   "outputs": [],
   "source": []
  }
 ],
 "metadata": {
  "kernelspec": {
   "display_name": "Python 3",
   "language": "python",
   "name": "python3"
  },
  "language_info": {
   "codemirror_mode": {
    "name": "ipython",
    "version": 3
   },
   "file_extension": ".py",
   "mimetype": "text/x-python",
   "name": "python",
   "nbconvert_exporter": "python",
   "pygments_lexer": "ipython3",
   "version": "3.6.6"
  }
 },
 "nbformat": 4,
 "nbformat_minor": 2
}
