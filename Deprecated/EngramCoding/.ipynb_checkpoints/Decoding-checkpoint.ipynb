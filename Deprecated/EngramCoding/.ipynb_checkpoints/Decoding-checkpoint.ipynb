{
 "cells": [
  {
   "cell_type": "code",
   "execution_count": 1,
   "metadata": {},
   "outputs": [],
   "source": [
    "import matplotlib.pyplot as plt\n",
    "import numpy as np\n",
    "import scipy as sp\n",
    "import sqlite3 as sql\n",
    "import os\n",
    "import pandas as pd\n",
    "from datetime import datetime\n",
    "from glob import glob\n",
    "import sklearn as sk\n",
    "import sklearn.linear_model\n",
    "\n",
    "os.sys.path.append('../')\n",
    "import PlaceCellAnalysis as pc\n",
    "import utilities as u\n",
    "import preprocessing as pp\n",
    "import behavior as b\n",
    "import BayesianDecoding as bd\n",
    "\n",
    "\n",
    "%load_ext autoreload\n",
    "%autoreload 2\n",
    "\n",
    "%matplotlib inline"
   ]
  },
  {
   "cell_type": "code",
   "execution_count": 2,
   "metadata": {},
   "outputs": [],
   "source": [
    "mice = ['4139190.1','4139190.3','4139212.2','4139219.2','4139219.3','4139224.2','4139224.3','4139224.5']\n",
    "df = pp.load_session_db()\n",
    "df = df[df['Imaging']==1]\n",
    "df = df.sort_values(['MouseName','DateTime','SessionNumber'])"
   ]
  },
  {
   "cell_type": "code",
   "execution_count": 17,
   "metadata": {},
   "outputs": [],
   "source": [
    "class LOTrialO:\n",
    "    def __init__(self,starts,stops,N):\n",
    "        self.train_mask = np.zeros([N,])\n",
    "        self.test_mask = np.zeros([N,])\n",
    "        self.c = 0\n",
    "        self.starts = starts\n",
    "        self.stops = stops\n",
    "        self.N = N\n",
    "        \n",
    "    def next(self):\n",
    "        if self.c<len(self.starts):\n",
    "            self.train_mask *= 0\n",
    "            self.test_mask *= 0\n",
    "            for t,(start,stop) in enumerate(zip(self.starts,self.stops)):\n",
    "                if t == self.c:\n",
    "                    self.test_mask[start:stop]+=1\n",
    "                else:\n",
    "                    self.train_mask[start:stop]+=1\n",
    "            self.c+=1\n",
    "            return self.train_mask>0,self.test_mask>0\n",
    "        else:\n",
    "            return None, None\n"
   ]
  },
  {
   "cell_type": "code",
   "execution_count": null,
   "metadata": {},
   "outputs": [
    {
     "name": "stdout",
     "output_type": "stream",
     "text": [
      "G:\\My Drive\\2P_Data\\TwoTower\\4139190.1\\11_07_2018\\TwoTower_Timeout\\TwoTower_Timeout_017_023.mat\n"
     ]
    },
    {
     "name": "stderr",
     "output_type": "stream",
     "text": [
      "C:\\Users\\mplitt\\MightyMorphingPhotonRangers\\preprocessing.py:199: SettingWithCopyWarning: \n",
      "A value is trying to be set on a copy of a slice from a DataFrame.\n",
      "Try using .loc[row_indexer,col_indexer] = value instead\n",
      "\n",
      "See the caveats in the documentation: http://pandas.pydata.org/pandas-docs/stable/indexing.html#indexing-view-versus-copy\n",
      "  frame['ca inds'] = caInds\n",
      "C:\\Users\\mplitt\\Anaconda3\\lib\\site-packages\\pandas\\core\\frame.py:3790: SettingWithCopyWarning: \n",
      "A value is trying to be set on a copy of a slice from a DataFrame\n",
      "\n",
      "See the caveats in the documentation: http://pandas.pydata.org/pandas-docs/stable/indexing.html#indexing-view-versus-copy\n",
      "  downcast=downcast, **kwargs)\n"
     ]
    },
    {
     "name": "stdout",
     "output_type": "stream",
     "text": [
      "G:\\My Drive\\2P_Data\\TwoTower\\4139190.1\\11_07_2018\\TwoTower_Timeout\\TwoTower_Timeout_017_023.mat\n",
      "#subsystem#not made into numpy array\n",
      "Anot made into numpy array\n",
      "frame diff 0\n",
      "0 60\n",
      "1 60\n",
      "2 60\n",
      "3 60\n",
      "4 60\n",
      "5 60\n",
      "6 60\n",
      "7 60\n",
      "8 60\n",
      "9 60\n",
      "10 60\n",
      "11 60\n",
      "12 60\n",
      "13 60\n",
      "14 60\n",
      "15 60\n",
      "16 60\n",
      "17 60\n",
      "18 60\n",
      "19 60\n",
      "20 60\n",
      "21 60\n",
      "22 60\n",
      "23 60\n",
      "24 60\n",
      "25 60\n",
      "26 60\n",
      "27 60\n",
      "28 60\n",
      "29 60\n",
      "30 60\n",
      "31 60\n",
      "32 60\n",
      "33 60\n",
      "34 60\n",
      "35 60\n",
      "36 60\n",
      "37 60\n",
      "38 60\n"
     ]
    }
   ],
   "source": [
    "for mouse in mice[:1]:\n",
    "    df_mouse = df[df['MouseName'].str.match(mouse)]\n",
    "    df_mouse = df_mouse[df_mouse['Track'].str.match('TwoTower_noTimeout') | df_mouse['Track'].str.match('TwoTower_Timeout')]\n",
    "    \n",
    "    for i in [-1]:#range(df_mouse.shape[0]):\n",
    "        sess = df_mouse.iloc[i]\n",
    "        VRDat,C,Cd, S, A = pp.load_scan_sess(sess)\n",
    "        trial_info, tstart_inds, teleport_inds = u.by_trial_info(VRDat)\n",
    "         \n",
    "        morphs = VRDat.morph._values*4\n",
    "        NTrials = tstart_inds.shape[0]\n",
    "        LOO = LOTrialO(tstart_inds.tolist(),teleport_inds.tolist(),C.shape[0])\n",
    "        \n",
    "        yhat5way = np.zeros(morphs.shape)-1\n",
    "        for t in range(NTrials):\n",
    "            print(t,NTrials)\n",
    "            train,test = LOO.next()\n",
    "            svm = sk.linear_model.LogisticRegressionCV()\n",
    "            svm.fit(C[train,:],morphs[train])\n",
    "            yhat5way[test] = svm.predict(C[test,:])\n",
    "            \n",
    "            \n",
    "        morphs = VRDat.morph._values\n",
    "        trainTrials = (trial_info['morphs']==0) | (trial_info['morphs']==1)\n",
    "        tstart_train,teleport_train = tstart_inds[trainTrials],teleport_inds[trainTrials]\n",
    "        LOO = LOTrialO(tstart_train.tolist(),teleport_train.tolist(),C.shape[0])\n",
    "        yhat2way = np.zeros(morphs.shape)-1\n",
    "        Ntrials = tstart_train.shape[0]\n",
    "        for t in range(Ntrials):\n",
    "            print(t,NTrials)\n",
    "            train,test = LOO.next()\n",
    "            svm = sk.linear_model.LogisticRegressionCV()\n",
    "            svm.fit(C[train,:],morphs[train])\n",
    "            yhat2way[test]=svm.predict(C[test,:])\n",
    "            \n",
    "        train = ((morphs==0.) | (morphs==1.)) & (VRDat.pos._values>0)\n",
    "        test = (VRDat.pos._values>0) & (!train)\n",
    "        svm = sk.linear_model.LogisticRegressionCV()\n",
    "        svm.fit(C[train,:],morphs[train])\n",
    "        yhat2way[test] = svm.predict(C[test,:])"
   ]
  },
  {
   "cell_type": "code",
   "execution_count": 22,
   "metadata": {},
   "outputs": [
    {
     "data": {
      "text/plain": [
       "<matplotlib.collections.PathCollection at 0x15381d29ac8>"
      ]
     },
     "execution_count": 22,
     "metadata": {},
     "output_type": "execute_result"
    },
    {
     "data": {
      "image/png": "[encoded data removed]",
      "text/plain": [
       "<Figure size 432x288 with 1 Axes>"
      ]
     },
     "metadata": {
      "needs_background": "light"
     },
     "output_type": "display_data"
    }
   ],
   "source": [
    "f,ax = plt.subplots()\n",
    "conf = sk.metrics.confusion_matrix(morphs[yhat5way>-1],yhat5way[yhat5way>-1])\n",
    "ax.scatter(morphs,yhat5way)"
   ]
  },
  {
   "cell_type": "code",
   "execution_count": 24,
   "metadata": {},
   "outputs": [
    {
     "data": {
      "text/plain": [
       "(array([ 8331,     0,     0,     0,     0,     0,     0,     0,     0,\n",
       "        17286], dtype=int64),\n",
       " array([0. , 0.4, 0.8, 1.2, 1.6, 2. , 2.4, 2.8, 3.2, 3.6, 4. ]))"
      ]
     },
     "execution_count": 24,
     "metadata": {},
     "output_type": "execute_result"
    }
   ],
   "source": [
    "np.histogram(morphs)"
   ]
  },
  {
   "cell_type": "code",
   "execution_count": null,
   "metadata": {},
   "outputs": [],
   "source": []
  }
 ],
 "metadata": {
  "kernelspec": {
   "display_name": "Python 3",
   "language": "python",
   "name": "python3"
  },
  "language_info": {
   "codemirror_mode": {
    "name": "ipython",
    "version": 3
   },
   "file_extension": ".py",
   "mimetype": "text/x-python",
   "name": "python",
   "nbconvert_exporter": "python",
   "pygments_lexer": "ipython3",
   "version": "3.6.6"
  }
 },
 "nbformat": 4,
 "nbformat_minor": 2
}
