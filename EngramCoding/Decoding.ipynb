{
 "cells": [
  {
   "cell_type": "code",
   "execution_count": 1,
   "metadata": {},
   "outputs": [],
   "source": [
    "import matplotlib.pyplot as plt\n",
    "import numpy as np\n",
    "import scipy as sp\n",
    "import sqlite3 as sql\n",
    "import os\n",
    "import pandas as pd\n",
    "from datetime import datetime\n",
    "from glob import glob\n",
    "import sklearn as sk\n",
    "import sklearn.linear_model\n",
    "\n",
    "os.sys.path.append('../')\n",
    "import PlaceCellAnalysis as pc\n",
    "import utilities as u\n",
    "import preprocessing as pp\n",
    "import behavior as b\n",
    "import BayesianDecoding as bd\n",
    "\n",
    "\n",
    "%load_ext autoreload\n",
    "%autoreload 2\n",
    "\n",
    "%matplotlib inline"
   ]
  },
  {
   "cell_type": "code",
   "execution_count": 2,
   "metadata": {},
   "outputs": [],
   "source": [
    "mice = ['4139190.1','4139190.3','4139212.2','4139219.2','4139219.3','4139224.2','4139224.3','4139224.5']\n",
    "df = pp.load_session_db()\n",
    "df = df[df['Imaging']==1]\n",
    "df = df.sort_values(['MouseName','DateTime','SessionNumber'])"
   ]
  },
  {
   "cell_type": "code",
   "execution_count": 17,
   "metadata": {},
   "outputs": [],
   "source": [
    "class LOTrialO:\n",
    "    def __init__(self,starts,stops,N):\n",
    "        self.train_mask = np.zeros([N,])\n",
    "        self.test_mask = np.zeros([N,])\n",
    "        self.c = 0\n",
    "        self.starts = starts\n",
    "        self.stops = stops\n",
    "        self.N = N\n",
    "        \n",
    "    def next(self):\n",
    "        if self.c<len(self.starts):\n",
    "            self.train_mask *= 0\n",
    "            self.test_mask *= 0\n",
    "            for t,(start,stop) in enumerate(zip(self.starts,self.stops)):\n",
    "                if t == self.c:\n",
    "                    self.test_mask[start:stop]+=1\n",
    "                else:\n",
    "                    self.train_mask[start:stop]+=1\n",
    "            self.c+=1\n",
    "            return self.train_mask>0,self.test_mask>0\n",
    "        else:\n",
    "            return None, None\n"
   ]
  },
  {
   "cell_type": "code",
   "execution_count": 25,
   "metadata": {},
   "outputs": [
    {
     "name": "stdout",
     "output_type": "stream",
     "text": [
      "G:\\My Drive\\2P_Data\\TwoTower\\4139190.1\\11_07_2018\\TwoTower_Timeout\\TwoTower_Timeout_017_023.mat\n"
     ]
    },
    {
     "name": "stderr",
     "output_type": "stream",
     "text": [
      "C:\\Users\\mplitt\\MightyMorphingPhotonRangers\\preprocessing.py:199: SettingWithCopyWarning: \n",
      "A value is trying to be set on a copy of a slice from a DataFrame.\n",
      "Try using .loc[row_indexer,col_indexer] = value instead\n",
      "\n",
      "See the caveats in the documentation: http://pandas.pydata.org/pandas-docs/stable/indexing.html#indexing-view-versus-copy\n",
      "  frame['ca inds'] = caInds\n",
      "C:\\Users\\mplitt\\Anaconda3\\lib\\site-packages\\pandas\\core\\frame.py:3790: SettingWithCopyWarning: \n",
      "A value is trying to be set on a copy of a slice from a DataFrame\n",
      "\n",
      "See the caveats in the documentation: http://pandas.pydata.org/pandas-docs/stable/indexing.html#indexing-view-versus-copy\n",
      "  downcast=downcast, **kwargs)\n"
     ]
    },
    {
     "name": "stdout",
     "output_type": "stream",
     "text": [
      "G:\\My Drive\\2P_Data\\TwoTower\\4139190.1\\11_07_2018\\TwoTower_Timeout\\TwoTower_Timeout_017_023.mat\n",
      "#subsystem#not made into numpy array\n",
      "Anot made into numpy array\n",
      "frame diff 0\n",
      "0 60\n",
      "1 60\n",
      "2 60\n",
      "3 60\n",
      "4 60\n",
      "5 60\n",
      "6 60\n",
      "7 60\n",
      "8 60\n",
      "9 60\n",
      "10 60\n",
      "11 60\n",
      "12 60\n",
      "13 60\n",
      "14 60\n",
      "15 60\n",
      "16 60\n",
      "17 60\n",
      "18 60\n",
      "19 60\n",
      "20 60\n",
      "21 60\n",
      "22 60\n",
      "23 60\n",
      "24 60\n",
      "25 60\n",
      "26 60\n",
      "27 60\n",
      "28 60\n",
      "29 60\n",
      "30 60\n",
      "31 60\n",
      "32 60\n",
      "33 60\n",
      "34 60\n",
      "35 60\n",
      "36 60\n",
      "37 60\n",
      "38 60\n",
      "39 60\n",
      "40 60\n",
      "41 60\n",
      "42 60\n",
      "43 60\n",
      "44 60\n",
      "45 60\n",
      "46 60\n",
      "47 60\n",
      "48 60\n",
      "49 60\n",
      "50 60\n",
      "51 60\n",
      "52 60\n",
      "53 60\n",
      "54 60\n",
      "55 60\n",
      "56 60\n",
      "57 60\n",
      "58 60\n",
      "59 60\n"
     ]
    },
    {
     "ename": "NameError",
     "evalue": "name 'triali' is not defined",
     "output_type": "error",
     "traceback": [
      "\u001b[1;31m---------------------------------------------------------------------------\u001b[0m",
      "\u001b[1;31mNameError\u001b[0m                                 Traceback (most recent call last)",
      "\u001b[1;32m<ipython-input-25-d1bd2fb01ce5>\u001b[0m in \u001b[0;36m<module>\u001b[1;34m()\u001b[0m\n\u001b[0;32m     22\u001b[0m \u001b[1;33m\u001b[0m\u001b[0m\n\u001b[0;32m     23\u001b[0m         \u001b[0mmorphs\u001b[0m \u001b[1;33m=\u001b[0m \u001b[0mVRDat\u001b[0m\u001b[1;33m.\u001b[0m\u001b[0mmorph\u001b[0m\u001b[1;33m.\u001b[0m\u001b[0m_values\u001b[0m\u001b[1;33m\u001b[0m\u001b[0m\n\u001b[1;32m---> 24\u001b[1;33m         \u001b[0mtrainTrials\u001b[0m \u001b[1;33m=\u001b[0m \u001b[1;33m(\u001b[0m\u001b[0mtrial_info\u001b[0m\u001b[1;33m[\u001b[0m\u001b[1;34m'morphs'\u001b[0m\u001b[1;33m]\u001b[0m\u001b[1;33m==\u001b[0m\u001b[1;36m0\u001b[0m\u001b[1;33m)\u001b[0m \u001b[1;33m|\u001b[0m \u001b[1;33m(\u001b[0m\u001b[0mtriali\u001b[0m\u001b[1;33m)\u001b[0m\u001b[1;33m\u001b[0m\u001b[0m\n\u001b[0m",
      "\u001b[1;31mNameError\u001b[0m: name 'triali' is not defined"
     ]
    }
   ],
   "source": [
    "for mouse in mice[:1]:\n",
    "    df_mouse = df[df['MouseName'].str.match(mouse)]\n",
    "    df_mouse = df_mouse[df_mouse['Track'].str.match('TwoTower_noTimeout') | df_mouse['Track'].str.match('TwoTower_Timeout')]\n",
    "    \n",
    "    for i in [-1]:#range(df_mouse.shape[0]):\n",
    "        sess = df_mouse.iloc[i]\n",
    "        VRDat,C,Cd, S, A = pp.load_scan_sess(sess)\n",
    "        trial_info, tstart_inds, teleport_inds = u.by_trial_info(VRDat)\n",
    "         \n",
    "        morphs = VRDat.morph._values*4\n",
    "        NTrials = tstart_inds.shape[0]\n",
    "        LOO = LOTrialO(tstart_inds.tolist(),teleport_inds.tolist(),C.shape[0])\n",
    "        \n",
    "        yhat5way = np.zeros(morphs.shape)-1\n",
    "        for t in range(NTrials):\n",
    "            print(t,NTrials)\n",
    "            train,test = LOO.next()\n",
    "            svm = sk.linear_model.LogisticRegressionCV()\n",
    "            svm.fit(C[train,:],morphs[train])\n",
    "            yhat5way[test] = svm.predict(C[test,:])\n",
    "            \n",
    "            \n",
    "        morphs = VRDat.morph._values\n",
    "        trainTrials = (trial_info['morphs']==0) | (trial_info['morphs']==1)\n",
    "        tstart_train,teleport_train = tstart_inds[trainTrials],teleport_inds[trainTrials]\n",
    "        LOO = LOTrialO(tstart_train.tolist(),teleport_train.tolist(),C.shape[0])\n",
    "        yhat2way = np.zeros(morphs.shape)-1\n",
    "        Ntrials = tstart_train.shape[0]\n",
    "        for t in range(Ntrials):\n",
    "            print(t,NTrials)\n",
    "            train,test = LOO.next()\n",
    "            svm = sk.linear_model.LogisticRegressionCV()\n",
    "            svm.fit(C[train,:],morphs[train])\n",
    "            yhat2way[test]=svm.predict(C[test,:])\n",
    "            \n",
    "        train = ((morphs==0.) | (morphs==1.)) & (VRDat.pos._values>0)\n",
    "        test = (VRDat.pos._values>0) & (!train)\n",
    "        svm = sk.linear_model.LogisticRegressionCV()\n",
    "        svm.fit(C[train,:],morphs[train])\n",
    "        yhat2way[test] = svm.predict(C[test,:])\n",
    "        \n",
    "        \n",
    "        path = \n",
    "        np.save()"
   ]
  },
  {
   "cell_type": "code",
   "execution_count": 48,
   "metadata": {},
   "outputs": [
    {
     "name": "stdout",
     "output_type": "stream",
     "text": [
      "[[6059   92   44   61 1747]\n",
      " [ 338    0    0    2  268]\n",
      " [ 207    7    0   52  199]\n",
      " [ 275    4    9    7  388]\n",
      " [1835  119   28  243 3798]]\n",
      "8714\n",
      "[0.69531786 0.03878816 0.02375488 0.03155841 0.21058068]\n",
      "222\n",
      "[0.4144144  0.         0.03153153 0.01801802 0.536036  ]\n",
      "81\n",
      "[0.54320985 0.         0.         0.11111111 0.34567901]\n",
      "365\n",
      "[0.16712329 0.00547945 0.14246576 0.01917808 0.6657534 ]\n",
      "6400\n",
      "[0.27296874 0.041875   0.03109375 0.060625   0.5934375 ]\n",
      "[[0.69531786 0.41441441 0.54320985 0.16712329 0.27296874]\n",
      " [0.03878816 0.         0.         0.00547945 0.041875  ]\n",
      " [0.02375488 0.03153153 0.         0.14246576 0.03109375]\n",
      " [0.03155841 0.01801802 0.11111111 0.01917808 0.060625  ]\n",
      " [0.21058068 0.53603601 0.34567901 0.66575342 0.59343749]]\n"
     ]
    },
    {
     "data": {
      "text/plain": [
       "<matplotlib.image.AxesImage at 0x1538057cf98>"
      ]
     },
     "execution_count": 48,
     "metadata": {},
     "output_type": "execute_result"
    },
    {
     "data": {
      "image/png": "[encoded data removed]",
      "text/plain": [
       "<Figure size 432x288 with 1 Axes>"
      ]
     },
     "metadata": {
      "needs_background": "light"
     },
     "output_type": "display_data"
    }
   ],
   "source": [
    "f,ax = plt.subplots()\n",
    "conf = sk.metrics.confusion_matrix(4*morphs[yhat5way>-1],yhat5way[yhat5way>-1])\n",
    "print(conf)\n",
    "cc = np.zeros(conf.shape)\n",
    "for j in range(conf.shape[1]):\n",
    "    print(conf[:,j].sum())\n",
    "    print(np.array(conf[:,j],dtype='float32')/np.float(conf[:,j].sum()))\n",
    "    cc[:,j]=np.array(conf[:,j],dtype='float32')/np.float(conf[:,j].sum())\n",
    "print(cc)\n",
    "ax.imshow(cc)\n",
    "# ax.scatter(morphs,yhat5way)"
   ]
  },
  {
   "cell_type": "code",
   "execution_count": 29,
   "metadata": {},
   "outputs": [
    {
     "data": {
      "text/plain": [
       "(array([8714,    0,  222,    0,    0,   81,    0,  365,    0, 6400],\n",
       "       dtype=int64),\n",
       " array([0. , 0.4, 0.8, 1.2, 1.6, 2. , 2.4, 2.8, 3.2, 3.6, 4. ]))"
      ]
     },
     "execution_count": 29,
     "metadata": {},
     "output_type": "execute_result"
    }
   ],
   "source": [
    "np.histogram(yhat5way[yhat5way>-1])"
   ]
  },
  {
   "cell_type": "code",
   "execution_count": null,
   "metadata": {},
   "outputs": [],
   "source": []
  }
 ],
 "metadata": {
  "kernelspec": {
   "display_name": "Python 3",
   "language": "python",
   "name": "python3"
  },
  "language_info": {
   "codemirror_mode": {
    "name": "ipython",
    "version": 3
   },
   "file_extension": ".py",
   "mimetype": "text/x-python",
   "name": "python",
   "nbconvert_exporter": "python",
   "pygments_lexer": "ipython3",
   "version": "3.6.6"
  }
 },
 "nbformat": 4,
 "nbformat_minor": 2
}
