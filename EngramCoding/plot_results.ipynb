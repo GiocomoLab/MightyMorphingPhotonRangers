{
 "cells": [
  {
   "cell_type": "code",
   "execution_count": 78,
   "metadata": {},
   "outputs": [
    {
     "name": "stdout",
     "output_type": "stream",
     "text": [
      "The autoreload extension is already loaded. To reload it, use:\n",
      "  %reload_ext autoreload\n"
     ]
    }
   ],
   "source": [
    "import matplotlib.pyplot as plt\n",
    "import numpy as np\n",
    "import scipy as sp\n",
    "import sqlite3 as sql\n",
    "import os\n",
    "import pandas as pd\n",
    "from datetime import datetime\n",
    "from glob import glob\n",
    "import sklearn as sk\n",
    "from sklearn import linear_model, cluster\n",
    "\n",
    "os.sys.path.append('../')\n",
    "import PlaceCellAnalysis as pc\n",
    "import utilities as u\n",
    "import preprocessing as pp\n",
    "import behavior as b\n",
    "import BayesianDecoding as bd\n",
    "\n",
    "\n",
    "%load_ext autoreload\n",
    "%autoreload 2\n",
    "\n",
    "%matplotlib inline"
   ]
  },
  {
   "cell_type": "code",
   "execution_count": 3,
   "metadata": {},
   "outputs": [],
   "source": [
    "mice = ['4139190.1','4139190.3','4139212.2','4139212.4','4139219.2','4139219.3','4139224.2','4139224.3','4139224.5']"
   ]
  },
  {
   "cell_type": "code",
   "execution_count": 59,
   "metadata": {},
   "outputs": [],
   "source": [
    "df = pp.load_session_db()\n",
    "df = df[df['Imaging']==1]\n",
    "df = df.sort_values(['MouseName','DateTime','SessionNumber'])\n"
   ]
  },
  {
   "cell_type": "code",
   "execution_count": 63,
   "metadata": {},
   "outputs": [],
   "source": [
    "mouse = '4139219.3'\n",
    "df_mouse = df[df['MouseName'].str.match(mouse)]\n",
    "df_mouse = df_mouse[ df_mouse['Track'].str.match('TwoTower_Timeout')]\n",
    "sess = df_mouse.iloc[8]\n",
    "# VRDat,C,Cd, S, A = pp.load_scan_sess(sess)\n",
    "# trial_info, tstart_inds, teleport_inds = u.by_trial_info(VRDat)\n",
    "# nm = np.unique(trial_info['morphs']).shape[0]"
   ]
  },
  {
   "cell_type": "code",
   "execution_count": 64,
   "metadata": {},
   "outputs": [
    {
     "data": {
      "text/html": [
       "<div>\n",
       "<style scoped>\n",
       "    .dataframe tbody tr th:only-of-type {\n",
       "        vertical-align: middle;\n",
       "    }\n",
       "\n",
       "    .dataframe tbody tr th {\n",
       "        vertical-align: top;\n",
       "    }\n",
       "\n",
       "    .dataframe thead th {\n",
       "        text-align: right;\n",
       "    }\n",
       "</style>\n",
       "<table border=\"1\" class=\"dataframe\">\n",
       "  <thead>\n",
       "    <tr style=\"text-align: right;\">\n",
       "      <th></th>\n",
       "      <th>MouseName</th>\n",
       "      <th>DateFolder</th>\n",
       "      <th>SessionNumber</th>\n",
       "      <th>Track</th>\n",
       "      <th>RewardCount</th>\n",
       "      <th>Imaging</th>\n",
       "      <th>ImagingRegion</th>\n",
       "      <th>DateTime</th>\n",
       "      <th>data file</th>\n",
       "      <th>scanfile</th>\n",
       "      <th>scanmat</th>\n",
       "    </tr>\n",
       "  </thead>\n",
       "  <tbody>\n",
       "    <tr>\n",
       "      <th>708</th>\n",
       "      <td>4139219.3</td>\n",
       "      <td>12_10_2018</td>\n",
       "      <td>2</td>\n",
       "      <td>TwoTower_Timeout</td>\n",
       "      <td>54</td>\n",
       "      <td>1</td>\n",
       "      <td>CA1</td>\n",
       "      <td>2018-10-12</td>\n",
       "      <td>G:\\My Drive\\\\VR_Data\\TwoTower\\4139219.3\\12_10_...</td>\n",
       "      <td>G:\\My Drive\\2P_Data\\TwoTower\\4139219.3\\12_10_2...</td>\n",
       "      <td>G:\\My Drive\\2P_Data\\TwoTower\\4139219.3\\12_10_2...</td>\n",
       "    </tr>\n",
       "    <tr>\n",
       "      <th>754</th>\n",
       "      <td>4139219.3</td>\n",
       "      <td>15_10_2018</td>\n",
       "      <td>2</td>\n",
       "      <td>TwoTower_Timeout</td>\n",
       "      <td>46</td>\n",
       "      <td>1</td>\n",
       "      <td>CA1</td>\n",
       "      <td>2018-10-15</td>\n",
       "      <td>G:\\My Drive\\\\VR_Data\\TwoTower\\4139219.3\\15_10_...</td>\n",
       "      <td>G:\\My Drive\\2P_Data\\TwoTower\\4139219.3\\15_10_2...</td>\n",
       "      <td>G:\\My Drive\\2P_Data\\TwoTower\\4139219.3\\15_10_2...</td>\n",
       "    </tr>\n",
       "    <tr>\n",
       "      <th>801</th>\n",
       "      <td>4139219.3</td>\n",
       "      <td>17_10_2018</td>\n",
       "      <td>2</td>\n",
       "      <td>TwoTower_Timeout</td>\n",
       "      <td>38</td>\n",
       "      <td>1</td>\n",
       "      <td>CA1</td>\n",
       "      <td>2018-10-17</td>\n",
       "      <td>G:\\My Drive\\\\VR_Data\\TwoTower\\4139219.3\\17_10_...</td>\n",
       "      <td>G:\\My Drive\\2P_Data\\TwoTower\\4139219.3\\17_10_2...</td>\n",
       "      <td>G:\\My Drive\\2P_Data\\TwoTower\\4139219.3\\17_10_2...</td>\n",
       "    </tr>\n",
       "    <tr>\n",
       "      <th>841</th>\n",
       "      <td>4139219.3</td>\n",
       "      <td>19_10_2018</td>\n",
       "      <td>2</td>\n",
       "      <td>TwoTower_Timeout</td>\n",
       "      <td>51</td>\n",
       "      <td>1</td>\n",
       "      <td>CA1</td>\n",
       "      <td>2018-10-19</td>\n",
       "      <td>G:\\My Drive\\\\VR_Data\\TwoTower\\4139219.3\\19_10_...</td>\n",
       "      <td>G:\\My Drive\\2P_Data\\TwoTower\\4139219.3\\19_10_2...</td>\n",
       "      <td>G:\\My Drive\\2P_Data\\TwoTower\\4139219.3\\19_10_2...</td>\n",
       "    </tr>\n",
       "    <tr>\n",
       "      <th>856</th>\n",
       "      <td>4139219.3</td>\n",
       "      <td>20_10_2018</td>\n",
       "      <td>1</td>\n",
       "      <td>TwoTower_Timeout</td>\n",
       "      <td>51</td>\n",
       "      <td>1</td>\n",
       "      <td>CA1</td>\n",
       "      <td>2018-10-20</td>\n",
       "      <td>G:\\My Drive\\\\VR_Data\\TwoTower\\4139219.3\\20_10_...</td>\n",
       "      <td>G:\\My Drive\\2P_Data\\TwoTower\\4139219.3\\20_10_2...</td>\n",
       "      <td>G:\\My Drive\\2P_Data\\TwoTower\\4139219.3\\20_10_2...</td>\n",
       "    </tr>\n",
       "    <tr>\n",
       "      <th>857</th>\n",
       "      <td>4139219.3</td>\n",
       "      <td>20_10_2018</td>\n",
       "      <td>2</td>\n",
       "      <td>TwoTower_Timeout</td>\n",
       "      <td>53</td>\n",
       "      <td>1</td>\n",
       "      <td>CA1</td>\n",
       "      <td>2018-10-20</td>\n",
       "      <td>G:\\My Drive\\\\VR_Data\\TwoTower\\4139219.3\\20_10_...</td>\n",
       "      <td>G:\\My Drive\\2P_Data\\TwoTower\\4139219.3\\20_10_2...</td>\n",
       "      <td>G:\\My Drive\\2P_Data\\TwoTower\\4139219.3\\20_10_2...</td>\n",
       "    </tr>\n",
       "    <tr>\n",
       "      <th>874</th>\n",
       "      <td>4139219.3</td>\n",
       "      <td>22_10_2018</td>\n",
       "      <td>1</td>\n",
       "      <td>TwoTower_Timeout</td>\n",
       "      <td>49</td>\n",
       "      <td>1</td>\n",
       "      <td>CA1</td>\n",
       "      <td>2018-10-22</td>\n",
       "      <td>G:\\My Drive\\\\VR_Data\\TwoTower\\4139219.3\\22_10_...</td>\n",
       "      <td>G:\\My Drive\\2P_Data\\TwoTower\\4139219.3\\22_10_2...</td>\n",
       "      <td>G:\\My Drive\\2P_Data\\TwoTower\\4139219.3\\22_10_2...</td>\n",
       "    </tr>\n",
       "    <tr>\n",
       "      <th>893</th>\n",
       "      <td>4139219.3</td>\n",
       "      <td>23_10_2018</td>\n",
       "      <td>1</td>\n",
       "      <td>TwoTower_Timeout</td>\n",
       "      <td>102</td>\n",
       "      <td>1</td>\n",
       "      <td>CA1</td>\n",
       "      <td>2018-10-23</td>\n",
       "      <td>G:\\My Drive\\\\VR_Data\\TwoTower\\4139219.3\\23_10_...</td>\n",
       "      <td>G:\\My Drive\\2P_Data\\TwoTower\\4139219.3\\23_10_2...</td>\n",
       "      <td>G:\\My Drive\\2P_Data\\TwoTower\\4139219.3\\23_10_2...</td>\n",
       "    </tr>\n",
       "    <tr>\n",
       "      <th>920</th>\n",
       "      <td>4139219.3</td>\n",
       "      <td>25_10_2018</td>\n",
       "      <td>1</td>\n",
       "      <td>TwoTower_Timeout</td>\n",
       "      <td>85</td>\n",
       "      <td>1</td>\n",
       "      <td>CA1</td>\n",
       "      <td>2018-10-25</td>\n",
       "      <td>G:\\My Drive\\\\VR_Data\\TwoTower\\4139219.3\\25_10_...</td>\n",
       "      <td>G:\\My Drive\\2P_Data\\TwoTower\\4139219.3\\25_10_2...</td>\n",
       "      <td>G:\\My Drive\\2P_Data\\TwoTower\\4139219.3\\25_10_2...</td>\n",
       "    </tr>\n",
       "    <tr>\n",
       "      <th>921</th>\n",
       "      <td>4139219.3</td>\n",
       "      <td>25_10_2018</td>\n",
       "      <td>2</td>\n",
       "      <td>TwoTower_Timeout</td>\n",
       "      <td>32</td>\n",
       "      <td>1</td>\n",
       "      <td>DG</td>\n",
       "      <td>2018-10-25</td>\n",
       "      <td>G:\\My Drive\\\\VR_Data\\TwoTower\\4139219.3\\25_10_...</td>\n",
       "      <td>G:\\My Drive\\2P_Data\\TwoTower\\4139219.3\\25_10_2...</td>\n",
       "      <td>G:\\My Drive\\2P_Data\\TwoTower\\4139219.3\\25_10_2...</td>\n",
       "    </tr>\n",
       "    <tr>\n",
       "      <th>945</th>\n",
       "      <td>4139219.3</td>\n",
       "      <td>26_10_2018</td>\n",
       "      <td>1</td>\n",
       "      <td>TwoTower_Timeout</td>\n",
       "      <td>77</td>\n",
       "      <td>1</td>\n",
       "      <td>CA1</td>\n",
       "      <td>2018-10-26</td>\n",
       "      <td>G:\\My Drive\\\\VR_Data\\TwoTower\\4139219.3\\26_10_...</td>\n",
       "      <td>G:\\My Drive\\2P_Data\\TwoTower\\4139219.3\\26_10_2...</td>\n",
       "      <td>G:\\My Drive\\2P_Data\\TwoTower\\4139219.3\\26_10_2...</td>\n",
       "    </tr>\n",
       "  </tbody>\n",
       "</table>\n",
       "</div>"
      ],
      "text/plain": [
       "     MouseName  DateFolder  SessionNumber             Track  RewardCount  \\\n",
       "708  4139219.3  12_10_2018              2  TwoTower_Timeout           54   \n",
       "754  4139219.3  15_10_2018              2  TwoTower_Timeout           46   \n",
       "801  4139219.3  17_10_2018              2  TwoTower_Timeout           38   \n",
       "841  4139219.3  19_10_2018              2  TwoTower_Timeout           51   \n",
       "856  4139219.3  20_10_2018              1  TwoTower_Timeout           51   \n",
       "857  4139219.3  20_10_2018              2  TwoTower_Timeout           53   \n",
       "874  4139219.3  22_10_2018              1  TwoTower_Timeout           49   \n",
       "893  4139219.3  23_10_2018              1  TwoTower_Timeout          102   \n",
       "920  4139219.3  25_10_2018              1  TwoTower_Timeout           85   \n",
       "921  4139219.3  25_10_2018              2  TwoTower_Timeout           32   \n",
       "945  4139219.3  26_10_2018              1  TwoTower_Timeout           77   \n",
       "\n",
       "     Imaging ImagingRegion   DateTime  \\\n",
       "708        1           CA1 2018-10-12   \n",
       "754        1           CA1 2018-10-15   \n",
       "801        1           CA1 2018-10-17   \n",
       "841        1           CA1 2018-10-19   \n",
       "856        1           CA1 2018-10-20   \n",
       "857        1           CA1 2018-10-20   \n",
       "874        1           CA1 2018-10-22   \n",
       "893        1           CA1 2018-10-23   \n",
       "920        1           CA1 2018-10-25   \n",
       "921        1            DG 2018-10-25   \n",
       "945        1           CA1 2018-10-26   \n",
       "\n",
       "                                             data file  \\\n",
       "708  G:\\My Drive\\\\VR_Data\\TwoTower\\4139219.3\\12_10_...   \n",
       "754  G:\\My Drive\\\\VR_Data\\TwoTower\\4139219.3\\15_10_...   \n",
       "801  G:\\My Drive\\\\VR_Data\\TwoTower\\4139219.3\\17_10_...   \n",
       "841  G:\\My Drive\\\\VR_Data\\TwoTower\\4139219.3\\19_10_...   \n",
       "856  G:\\My Drive\\\\VR_Data\\TwoTower\\4139219.3\\20_10_...   \n",
       "857  G:\\My Drive\\\\VR_Data\\TwoTower\\4139219.3\\20_10_...   \n",
       "874  G:\\My Drive\\\\VR_Data\\TwoTower\\4139219.3\\22_10_...   \n",
       "893  G:\\My Drive\\\\VR_Data\\TwoTower\\4139219.3\\23_10_...   \n",
       "920  G:\\My Drive\\\\VR_Data\\TwoTower\\4139219.3\\25_10_...   \n",
       "921  G:\\My Drive\\\\VR_Data\\TwoTower\\4139219.3\\25_10_...   \n",
       "945  G:\\My Drive\\\\VR_Data\\TwoTower\\4139219.3\\26_10_...   \n",
       "\n",
       "                                              scanfile  \\\n",
       "708  G:\\My Drive\\2P_Data\\TwoTower\\4139219.3\\12_10_2...   \n",
       "754  G:\\My Drive\\2P_Data\\TwoTower\\4139219.3\\15_10_2...   \n",
       "801  G:\\My Drive\\2P_Data\\TwoTower\\4139219.3\\17_10_2...   \n",
       "841  G:\\My Drive\\2P_Data\\TwoTower\\4139219.3\\19_10_2...   \n",
       "856  G:\\My Drive\\2P_Data\\TwoTower\\4139219.3\\20_10_2...   \n",
       "857  G:\\My Drive\\2P_Data\\TwoTower\\4139219.3\\20_10_2...   \n",
       "874  G:\\My Drive\\2P_Data\\TwoTower\\4139219.3\\22_10_2...   \n",
       "893  G:\\My Drive\\2P_Data\\TwoTower\\4139219.3\\23_10_2...   \n",
       "920  G:\\My Drive\\2P_Data\\TwoTower\\4139219.3\\25_10_2...   \n",
       "921  G:\\My Drive\\2P_Data\\TwoTower\\4139219.3\\25_10_2...   \n",
       "945  G:\\My Drive\\2P_Data\\TwoTower\\4139219.3\\26_10_2...   \n",
       "\n",
       "                                               scanmat  \n",
       "708  G:\\My Drive\\2P_Data\\TwoTower\\4139219.3\\12_10_2...  \n",
       "754  G:\\My Drive\\2P_Data\\TwoTower\\4139219.3\\15_10_2...  \n",
       "801  G:\\My Drive\\2P_Data\\TwoTower\\4139219.3\\17_10_2...  \n",
       "841  G:\\My Drive\\2P_Data\\TwoTower\\4139219.3\\19_10_2...  \n",
       "856  G:\\My Drive\\2P_Data\\TwoTower\\4139219.3\\20_10_2...  \n",
       "857  G:\\My Drive\\2P_Data\\TwoTower\\4139219.3\\20_10_2...  \n",
       "874  G:\\My Drive\\2P_Data\\TwoTower\\4139219.3\\22_10_2...  \n",
       "893  G:\\My Drive\\2P_Data\\TwoTower\\4139219.3\\23_10_2...  \n",
       "920  G:\\My Drive\\2P_Data\\TwoTower\\4139219.3\\25_10_2...  \n",
       "921  G:\\My Drive\\2P_Data\\TwoTower\\4139219.3\\25_10_2...  \n",
       "945  G:\\My Drive\\2P_Data\\TwoTower\\4139219.3\\26_10_2...  "
      ]
     },
     "execution_count": 64,
     "metadata": {},
     "output_type": "execute_result"
    }
   ],
   "source": [
    "df_mouse"
   ]
  },
  {
   "cell_type": "code",
   "execution_count": 73,
   "metadata": {},
   "outputs": [
    {
     "name": "stdout",
     "output_type": "stream",
     "text": [
      "G:\\My Drive\\\\VR_Data\\TwoTower\\4139219.3\\12_10_2018\\TwoTower_Timeout_2.sqlite\n"
     ]
    },
    {
     "name": "stderr",
     "output_type": "stream",
     "text": [
      "C:\\Users\\mplitt\\Anaconda3\\lib\\site-packages\\pandas\\core\\frame.py:3790: SettingWithCopyWarning: \n",
      "A value is trying to be set on a copy of a slice from a DataFrame\n",
      "\n",
      "See the caveats in the documentation: http://pandas.pydata.org/pandas-docs/stable/indexing.html#indexing-view-versus-copy\n",
      "  downcast=downcast, **kwargs)\n",
      "C:\\Users\\mplitt\\MightyMorphingPhotonRangers\\utilities.py:234: RuntimeWarning: Mean of empty slice\n",
      "  zone1_speed[i] = np.nanmean(sub_frame.loc[zone1_mask,'speed'])\n"
     ]
    },
    {
     "name": "stdout",
     "output_type": "stream",
     "text": [
      "G:\\My Drive\\\\VR_Data\\TwoTower\\4139219.3\\15_10_2018\\TwoTower_Timeout_2.sqlite\n",
      "G:\\My Drive\\\\VR_Data\\TwoTower\\4139219.3\\17_10_2018\\TwoTower_Timeout_2.sqlite\n",
      "G:\\My Drive\\\\VR_Data\\TwoTower\\4139219.3\\19_10_2018\\TwoTower_Timeout_2.sqlite\n",
      "G:\\My Drive\\\\VR_Data\\TwoTower\\4139219.3\\20_10_2018\\TwoTower_Timeout_1.sqlite\n",
      "G:\\My Drive\\\\VR_Data\\TwoTower\\4139219.3\\20_10_2018\\TwoTower_Timeout_2.sqlite\n",
      "G:\\My Drive\\\\VR_Data\\TwoTower\\4139219.3\\22_10_2018\\TwoTower_Timeout_1.sqlite\n",
      "G:\\My Drive\\\\VR_Data\\TwoTower\\4139219.3\\23_10_2018\\TwoTower_Timeout_1.sqlite\n",
      "G:\\My Drive\\\\VR_Data\\TwoTower\\4139219.3\\25_10_2018\\TwoTower_Timeout_1.sqlite\n",
      "G:\\My Drive\\\\VR_Data\\TwoTower\\4139219.3\\25_10_2018\\TwoTower_Timeout_2.sqlite\n",
      "G:\\My Drive\\\\VR_Data\\TwoTower\\4139219.3\\26_10_2018\\TwoTower_Timeout_1.sqlite\n"
     ]
    }
   ],
   "source": [
    "xx = np.linspace(0,1)\n",
    "H = np.zeros([0,])\n",
    "P = np.zeros([0,])\n",
    "Y = np.zeros([0,xx.shape[0]])\n",
    "for i in range(df_mouse.shape[0]):\n",
    "    sess = df_mouse.iloc[i]\n",
    "    path = os.path.join(\"G:\\\\My Drive\\\\EngramCoding\\\\KW\\\\S\\\\all\",\"%s_%s_%d\" % (mouse,sess.DateFolder,sess.SessionNumber))\n",
    "    print(sess['data file'])\n",
    "    VRDat = pp.behavior_dataframe(sess['data file'])\n",
    "    trial_info, tstart_inds, teleport_inds = u.by_trial_info(VRDat)\n",
    "    nm = np.unique(trial_info['morphs']).shape[0]\n",
    "    if nm>2:\n",
    "        \n",
    "        H = np.append(H,np.load(os.path.join(path,\"H.npy\")))\n",
    "        P = np.append(P,np.load(os.path.join(path,\"P.npy\")))\n",
    "        Y = np.append(Y,np.load(os.path.join(path,\"Yspl.npy\")),axis=0)\n",
    "        "
   ]
  },
  {
   "cell_type": "code",
   "execution_count": 74,
   "metadata": {},
   "outputs": [
    {
     "name": "stdout",
     "output_type": "stream",
     "text": [
      "(5319,) (5319,) (5319, 50)\n"
     ]
    }
   ],
   "source": [
    "print(H.shape,P.shape,Y.shape)"
   ]
  },
  {
   "cell_type": "code",
   "execution_count": 50,
   "metadata": {},
   "outputs": [],
   "source": [
    "# load file\n",
    "path = os.path.join(\"G:\\\\My Drive\\\\EngramCoding\\\\KW\\\\S\\\\all\",\"%s_%s_%d\" % (mouse,sess.DateFolder,sess.SessionNumber))\n",
    "H = np.load(os.path.join(path,\"H.npy\"))\n",
    "P = np.load(os.path.join(path,\"P.npy\"))\n",
    "Y = np.load(os.path.join(path,\"Yspl.npy\"))"
   ]
  },
  {
   "cell_type": "code",
   "execution_count": 54,
   "metadata": {},
   "outputs": [
    {
     "name": "stdout",
     "output_type": "stream",
     "text": [
      "(644,)\n"
     ]
    }
   ],
   "source": [
    "print(H.shape)"
   ]
  },
  {
   "cell_type": "code",
   "execution_count": 75,
   "metadata": {},
   "outputs": [
    {
     "name": "stdout",
     "output_type": "stream",
     "text": [
      "534\n"
     ]
    }
   ],
   "source": [
    "# FDR \n",
    "sort = np.argsort(P)\n",
    "P,H = P[sort], H[sort]\n",
    "Y = Y[sort,:]\n",
    "k = 0\n",
    "while P[k]<= (k+1)/Y.shape[0]*.05:\n",
    "    k+=1\n",
    "print(k)"
   ]
  },
  {
   "cell_type": "code",
   "execution_count": 77,
   "metadata": {},
   "outputs": [
    {
     "name": "stdout",
     "output_type": "stream",
     "text": [
      "0.9999999999999998\n"
     ]
    },
    {
     "data": {
      "image/png": "[encoded data removed]",
      "text/plain": [
       "<Figure size 432x288 with 1 Axes>"
      ]
     },
     "metadata": {
      "needs_background": "light"
     },
     "output_type": "display_data"
    },
    {
     "data": {
      "image/png": "[encoded data removed]",
      "text/plain": [
       "<Figure size 432x288 with 1 Axes>"
      ]
     },
     "metadata": {
      "needs_background": "light"
     },
     "output_type": "display_data"
    },
    {
     "data": {
      "image/png": "[encoded data removed]",
      "text/plain": [
       "<Figure size 432x288 with 1 Axes>"
      ]
     },
     "metadata": {
      "needs_background": "light"
     },
     "output_type": "display_data"
    },
    {
     "data": {
      "image/png": "[encoded data removed]",
      "text/plain": [
       "<Figure size 432x288 with 1 Axes>"
      ]
     },
     "metadata": {
      "needs_background": "light"
     },
     "output_type": "display_data"
    }
   ],
   "source": [
    "from sklearn import decomposition\n",
    "pca = sk.decomposition.PCA(n_components=2)\n",
    "km = sk.cluster.KMeans(n_clusters = 2)\n",
    "\n",
    "Y_pca = pca.fit_transform(Y[:k+1,:])\n",
    "f,ax = plt.subplots()\n",
    "ax.scatter(Y_pca[:,0],Y_pca[:,1])\n",
    "f,ax = plt.subplots()\n",
    "ax.scatter(Y_pca[:,2],Y_pca[:,3])\n",
    "f,ax = plt.subplots()\n",
    "xx = np.linspace(0,1)\n",
    "ax.plot(xx,pca.singular_values_[0]*pca.components_[0,:] +pca.mean_)\n",
    "ax.plot(xx,pca.singular_values_[1]*pca.components_[1,:]+pca.mean_)\n",
    "# ax.plot(xx,pca.singular_values_[2]*pca.components_[2,:]+pca.mean_)\n",
    "# ax.plot(xx,pca.components_[3,:]+pca.mean_)\n",
    "# ax.plot(xx,pca.components_[4,:]+pca.mean_)\n",
    "# ax.plot(pca.components_[5,:]+pca.mean_)\n",
    "ax.set_xlabel('morph value')\n",
    "ax.set_ylabel('activity rate')\n",
    "\n",
    "\n",
    "f,ax = plt.subplots()\n",
    "ax.plot(pca.explained_variance_ratio_[:10])\n",
    "print(pca.explained_variance_ratio_.sum())\n"
   ]
  },
  {
   "cell_type": "code",
   "execution_count": null,
   "metadata": {},
   "outputs": [],
   "source": []
  },
  {
   "cell_type": "code",
   "execution_count": null,
   "metadata": {},
   "outputs": [],
   "source": []
  },
  {
   "cell_type": "code",
   "execution_count": null,
   "metadata": {},
   "outputs": [],
   "source": [
    "for mouse in mice[0]:\n",
    "    df_mouse = df[df['MouseName'].str.match(mouse)]\n",
    "    df_mouse = df_mouse[df_mouse['Track'].str.match('TwoTower_noTimeout') | df_mouse['Track'].str.match('TwoTower_Timeout')]\n",
    "    \n",
    "    for i in range(1) : #df_mouse.shape[0]):\n",
    "\n",
    "        sess = df_mouse.iloc[i]\n",
    "        VRDat,C,Cd, S, A = pp.load_scan_sess(sess)\n",
    "        trial_info, tstart_inds, teleport_inds = u.by_trial_info(VRDat)\n",
    "        nm = np.unique(trial_info['morphs']).shape[0]\n",
    "        \n",
    "        "
   ]
  },
  {
   "cell_type": "code",
   "execution_count": null,
   "metadata": {},
   "outputs": [],
   "source": []
  }
 ],
 "metadata": {
  "kernelspec": {
   "display_name": "Python 3",
   "language": "python",
   "name": "python3"
  },
  "language_info": {
   "codemirror_mode": {
    "name": "ipython",
    "version": 3
   },
   "file_extension": ".py",
   "mimetype": "text/x-python",
   "name": "python",
   "nbconvert_exporter": "python",
   "pygments_lexer": "ipython3",
   "version": "3.6.6"
  }
 },
 "nbformat": 4,
 "nbformat_minor": 2
}
