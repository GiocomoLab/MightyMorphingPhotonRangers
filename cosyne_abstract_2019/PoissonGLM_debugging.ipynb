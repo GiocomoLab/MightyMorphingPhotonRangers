{
 "cells": [
  {
   "cell_type": "code",
   "execution_count": 1,
   "metadata": {},
   "outputs": [],
   "source": [
    "import numpy as np\n",
    "import scipy as sp\n",
    "import matplotlib.pyplot as plt\n",
    "import itertools\n",
    "\n",
    "import os\n",
    "os.sys.path.append('../')\n",
    "import utilities as u\n",
    "import preprocessing as pp\n",
    "\n",
    "\n",
    "%load_ext autoreload\n",
    "%autoreload 2\n",
    "\n",
    "%matplotlib inline"
   ]
  },
  {
   "cell_type": "code",
   "execution_count": 2,
   "metadata": {},
   "outputs": [
    {
     "name": "stdout",
     "output_type": "stream",
     "text": [
      "G:\\My Drive\\VR_Data\\TwoTower\\behavior.sqlite\n"
     ]
    },
    {
     "data": {
      "text/html": [
       "<div>\n",
       "<style scoped>\n",
       "    .dataframe tbody tr th:only-of-type {\n",
       "        vertical-align: middle;\n",
       "    }\n",
       "\n",
       "    .dataframe tbody tr th {\n",
       "        vertical-align: top;\n",
       "    }\n",
       "\n",
       "    .dataframe thead th {\n",
       "        text-align: right;\n",
       "    }\n",
       "</style>\n",
       "<table border=\"1\" class=\"dataframe\">\n",
       "  <thead>\n",
       "    <tr style=\"text-align: right;\">\n",
       "      <th></th>\n",
       "      <th>MouseName</th>\n",
       "      <th>DateFolder</th>\n",
       "      <th>SessionNumber</th>\n",
       "      <th>Track</th>\n",
       "      <th>RewardCount</th>\n",
       "      <th>Imaging</th>\n",
       "      <th>ImagingRegion</th>\n",
       "      <th>DateTime</th>\n",
       "      <th>data file</th>\n",
       "      <th>scanfile</th>\n",
       "      <th>scanmat</th>\n",
       "      <th>s2pfolder</th>\n",
       "    </tr>\n",
       "  </thead>\n",
       "  <tbody>\n",
       "    <tr>\n",
       "      <th>1371</th>\n",
       "      <td>4139265.4</td>\n",
       "      <td>07_02_2019</td>\n",
       "      <td>2</td>\n",
       "      <td>TwoTower_foraging</td>\n",
       "      <td>60</td>\n",
       "      <td>1</td>\n",
       "      <td>CA1</td>\n",
       "      <td>2019-02-07</td>\n",
       "      <td>G:\\My Drive\\VR_Data\\TwoTower\\4139265.4\\07_02_2...</td>\n",
       "      <td>None</td>\n",
       "      <td>G:\\My Drive\\2P_Data\\TwoTower\\4139265.4\\07_02_2...</td>\n",
       "      <td>G:\\My Drive\\2P_Data\\TwoTower\\4139265.4\\07_02_2...</td>\n",
       "    </tr>\n",
       "    <tr>\n",
       "      <th>1373</th>\n",
       "      <td>4139265.4</td>\n",
       "      <td>07_02_2019</td>\n",
       "      <td>4</td>\n",
       "      <td>TwoTower_foraging</td>\n",
       "      <td>60</td>\n",
       "      <td>1</td>\n",
       "      <td>CA1</td>\n",
       "      <td>2019-02-07</td>\n",
       "      <td>G:\\My Drive\\VR_Data\\TwoTower\\4139265.4\\07_02_2...</td>\n",
       "      <td>None</td>\n",
       "      <td>G:\\My Drive\\2P_Data\\TwoTower\\4139265.4\\07_02_2...</td>\n",
       "      <td>G:\\My Drive\\2P_Data\\TwoTower\\4139265.4\\07_02_2...</td>\n",
       "    </tr>\n",
       "    <tr>\n",
       "      <th>1407</th>\n",
       "      <td>4139265.4</td>\n",
       "      <td>10_02_2019</td>\n",
       "      <td>2</td>\n",
       "      <td>TwoTower_foraging</td>\n",
       "      <td>60</td>\n",
       "      <td>1</td>\n",
       "      <td>CA1</td>\n",
       "      <td>2019-02-10</td>\n",
       "      <td>G:\\My Drive\\VR_Data\\TwoTower\\4139265.4\\10_02_2...</td>\n",
       "      <td>None</td>\n",
       "      <td>G:\\My Drive\\2P_Data\\TwoTower\\4139265.4\\10_02_2...</td>\n",
       "      <td>G:\\My Drive\\2P_Data\\TwoTower\\4139265.4\\10_02_2...</td>\n",
       "    </tr>\n",
       "    <tr>\n",
       "      <th>1436</th>\n",
       "      <td>4139265.4</td>\n",
       "      <td>12_02_2019</td>\n",
       "      <td>2</td>\n",
       "      <td>TwoTower_foraging</td>\n",
       "      <td>85</td>\n",
       "      <td>1</td>\n",
       "      <td>CA1</td>\n",
       "      <td>2019-02-12</td>\n",
       "      <td>G:\\My Drive\\VR_Data\\TwoTower\\4139265.4\\12_02_2...</td>\n",
       "      <td>None</td>\n",
       "      <td>G:\\My Drive\\2P_Data\\TwoTower\\4139265.4\\12_02_2...</td>\n",
       "      <td>G:\\My Drive\\2P_Data\\TwoTower\\4139265.4\\12_02_2...</td>\n",
       "    </tr>\n",
       "    <tr>\n",
       "      <th>1459</th>\n",
       "      <td>4139265.4</td>\n",
       "      <td>15_02_2019</td>\n",
       "      <td>3</td>\n",
       "      <td>TwoTower_foraging</td>\n",
       "      <td>82</td>\n",
       "      <td>1</td>\n",
       "      <td>CA1</td>\n",
       "      <td>2019-02-15</td>\n",
       "      <td>G:\\My Drive\\VR_Data\\TwoTower\\4139265.4\\15_02_2...</td>\n",
       "      <td>None</td>\n",
       "      <td>G:\\My Drive\\2P_Data\\TwoTower\\4139265.4\\15_02_2...</td>\n",
       "      <td>G:\\My Drive\\2P_Data\\TwoTower\\4139265.4\\15_02_2...</td>\n",
       "    </tr>\n",
       "    <tr>\n",
       "      <th>1478</th>\n",
       "      <td>4139265.4</td>\n",
       "      <td>17_02_2019</td>\n",
       "      <td>2</td>\n",
       "      <td>TwoTower_foraging</td>\n",
       "      <td>94</td>\n",
       "      <td>1</td>\n",
       "      <td>CA1</td>\n",
       "      <td>2019-02-17</td>\n",
       "      <td>G:\\My Drive\\VR_Data\\TwoTower\\4139265.4\\17_02_2...</td>\n",
       "      <td>None</td>\n",
       "      <td>G:\\My Drive\\2P_Data\\TwoTower\\4139265.4\\17_02_2...</td>\n",
       "      <td>G:\\My Drive\\2P_Data\\TwoTower\\4139265.4\\17_02_2...</td>\n",
       "    </tr>\n",
       "    <tr>\n",
       "      <th>1489</th>\n",
       "      <td>4139265.4</td>\n",
       "      <td>18_02_2019</td>\n",
       "      <td>2</td>\n",
       "      <td>TwoTower_foraging</td>\n",
       "      <td>101</td>\n",
       "      <td>1</td>\n",
       "      <td>CA1</td>\n",
       "      <td>2019-02-18</td>\n",
       "      <td>G:\\My Drive\\VR_Data\\TwoTower\\4139265.4\\18_02_2...</td>\n",
       "      <td>None</td>\n",
       "      <td>G:\\My Drive\\2P_Data\\TwoTower\\4139265.4\\18_02_2...</td>\n",
       "      <td>G:\\My Drive\\2P_Data\\TwoTower\\4139265.4\\18_02_2...</td>\n",
       "    </tr>\n",
       "    <tr>\n",
       "      <th>1498</th>\n",
       "      <td>4139265.4</td>\n",
       "      <td>19_02_2019</td>\n",
       "      <td>2</td>\n",
       "      <td>TwoTower_foraging</td>\n",
       "      <td>97</td>\n",
       "      <td>1</td>\n",
       "      <td>CA1</td>\n",
       "      <td>2019-02-19</td>\n",
       "      <td>G:\\My Drive\\VR_Data\\TwoTower\\4139265.4\\19_02_2...</td>\n",
       "      <td>None</td>\n",
       "      <td>G:\\My Drive\\2P_Data\\TwoTower\\4139265.4\\19_02_2...</td>\n",
       "      <td>G:\\My Drive\\2P_Data\\TwoTower\\4139265.4\\19_02_2...</td>\n",
       "    </tr>\n",
       "    <tr>\n",
       "      <th>1510</th>\n",
       "      <td>4139265.4</td>\n",
       "      <td>20_02_2019</td>\n",
       "      <td>2</td>\n",
       "      <td>TwoTower_foraging</td>\n",
       "      <td>99</td>\n",
       "      <td>1</td>\n",
       "      <td>CA1</td>\n",
       "      <td>2019-02-20</td>\n",
       "      <td>G:\\My Drive\\VR_Data\\TwoTower\\4139265.4\\20_02_2...</td>\n",
       "      <td>None</td>\n",
       "      <td>G:\\My Drive\\2P_Data\\TwoTower\\4139265.4\\20_02_2...</td>\n",
       "      <td>G:\\My Drive\\2P_Data\\TwoTower\\4139265.4\\20_02_2...</td>\n",
       "    </tr>\n",
       "  </tbody>\n",
       "</table>\n",
       "</div>"
      ],
      "text/plain": [
       "      MouseName  DateFolder  SessionNumber              Track  RewardCount  \\\n",
       "1371  4139265.4  07_02_2019              2  TwoTower_foraging           60   \n",
       "1373  4139265.4  07_02_2019              4  TwoTower_foraging           60   \n",
       "1407  4139265.4  10_02_2019              2  TwoTower_foraging           60   \n",
       "1436  4139265.4  12_02_2019              2  TwoTower_foraging           85   \n",
       "1459  4139265.4  15_02_2019              3  TwoTower_foraging           82   \n",
       "1478  4139265.4  17_02_2019              2  TwoTower_foraging           94   \n",
       "1489  4139265.4  18_02_2019              2  TwoTower_foraging          101   \n",
       "1498  4139265.4  19_02_2019              2  TwoTower_foraging           97   \n",
       "1510  4139265.4  20_02_2019              2  TwoTower_foraging           99   \n",
       "\n",
       "      Imaging ImagingRegion   DateTime  \\\n",
       "1371        1           CA1 2019-02-07   \n",
       "1373        1           CA1 2019-02-07   \n",
       "1407        1           CA1 2019-02-10   \n",
       "1436        1           CA1 2019-02-12   \n",
       "1459        1           CA1 2019-02-15   \n",
       "1478        1           CA1 2019-02-17   \n",
       "1489        1           CA1 2019-02-18   \n",
       "1498        1           CA1 2019-02-19   \n",
       "1510        1           CA1 2019-02-20   \n",
       "\n",
       "                                              data file scanfile  \\\n",
       "1371  G:\\My Drive\\VR_Data\\TwoTower\\4139265.4\\07_02_2...     None   \n",
       "1373  G:\\My Drive\\VR_Data\\TwoTower\\4139265.4\\07_02_2...     None   \n",
       "1407  G:\\My Drive\\VR_Data\\TwoTower\\4139265.4\\10_02_2...     None   \n",
       "1436  G:\\My Drive\\VR_Data\\TwoTower\\4139265.4\\12_02_2...     None   \n",
       "1459  G:\\My Drive\\VR_Data\\TwoTower\\4139265.4\\15_02_2...     None   \n",
       "1478  G:\\My Drive\\VR_Data\\TwoTower\\4139265.4\\17_02_2...     None   \n",
       "1489  G:\\My Drive\\VR_Data\\TwoTower\\4139265.4\\18_02_2...     None   \n",
       "1498  G:\\My Drive\\VR_Data\\TwoTower\\4139265.4\\19_02_2...     None   \n",
       "1510  G:\\My Drive\\VR_Data\\TwoTower\\4139265.4\\20_02_2...     None   \n",
       "\n",
       "                                                scanmat  \\\n",
       "1371  G:\\My Drive\\2P_Data\\TwoTower\\4139265.4\\07_02_2...   \n",
       "1373  G:\\My Drive\\2P_Data\\TwoTower\\4139265.4\\07_02_2...   \n",
       "1407  G:\\My Drive\\2P_Data\\TwoTower\\4139265.4\\10_02_2...   \n",
       "1436  G:\\My Drive\\2P_Data\\TwoTower\\4139265.4\\12_02_2...   \n",
       "1459  G:\\My Drive\\2P_Data\\TwoTower\\4139265.4\\15_02_2...   \n",
       "1478  G:\\My Drive\\2P_Data\\TwoTower\\4139265.4\\17_02_2...   \n",
       "1489  G:\\My Drive\\2P_Data\\TwoTower\\4139265.4\\18_02_2...   \n",
       "1498  G:\\My Drive\\2P_Data\\TwoTower\\4139265.4\\19_02_2...   \n",
       "1510  G:\\My Drive\\2P_Data\\TwoTower\\4139265.4\\20_02_2...   \n",
       "\n",
       "                                              s2pfolder  \n",
       "1371  G:\\My Drive\\2P_Data\\TwoTower\\4139265.4\\07_02_2...  \n",
       "1373  G:\\My Drive\\2P_Data\\TwoTower\\4139265.4\\07_02_2...  \n",
       "1407  G:\\My Drive\\2P_Data\\TwoTower\\4139265.4\\10_02_2...  \n",
       "1436  G:\\My Drive\\2P_Data\\TwoTower\\4139265.4\\12_02_2...  \n",
       "1459  G:\\My Drive\\2P_Data\\TwoTower\\4139265.4\\15_02_2...  \n",
       "1478  G:\\My Drive\\2P_Data\\TwoTower\\4139265.4\\17_02_2...  \n",
       "1489  G:\\My Drive\\2P_Data\\TwoTower\\4139265.4\\18_02_2...  \n",
       "1498  G:\\My Drive\\2P_Data\\TwoTower\\4139265.4\\19_02_2...  \n",
       "1510  G:\\My Drive\\2P_Data\\TwoTower\\4139265.4\\20_02_2...  "
      ]
     },
     "execution_count": 2,
     "metadata": {},
     "output_type": "execute_result"
    }
   ],
   "source": [
    "mouse = '4139265.4'\n",
    "df = pp.load_session_db()\n",
    "\n",
    "df = df[df['RewardCount']>30]\n",
    "df = df[df['Imaging']==1]\n",
    "df = df.sort_values(['MouseName','DateTime','SessionNumber'])\n",
    "tracks = 'TwoTower_noTimeout|TwoTower_Timeout|Reversal_noTimeout|Reversal|TwoTower_foraging'\n",
    "df = df[df['Track'].str.contains(tracks,regex=True)]\n",
    "\n",
    "df = df.sort_values(['MouseName','DateTime','SessionNumber'])\n",
    "\n",
    "df_mouse = df[df['MouseName'].str.match(mouse)]\n",
    "df_mouse"
   ]
  },
  {
   "cell_type": "code",
   "execution_count": 105,
   "metadata": {},
   "outputs": [
    {
     "name": "stdout",
     "output_type": "stream",
     "text": [
      "num aberrant ttls 0.0\n"
     ]
    },
    {
     "name": "stderr",
     "output_type": "stream",
     "text": [
      "C:\\Users\\mplitt\\Anaconda3\\lib\\site-packages\\pandas\\core\\frame.py:3790: SettingWithCopyWarning: \n",
      "A value is trying to be set on a copy of a slice from a DataFrame\n",
      "\n",
      "See the caveats in the documentation: http://pandas.pydata.org/pandas-docs/stable/indexing.html#indexing-view-versus-copy\n",
      "  downcast=downcast, **kwargs)\n"
     ]
    },
    {
     "name": "stdout",
     "output_type": "stream",
     "text": [
      "frame diff 0\n"
     ]
    }
   ],
   "source": [
    "sess = df_mouse.iloc[-3]\n",
    "VRDat,Ca,S,A = pp.load_scan_sess(sess)"
   ]
  },
  {
   "cell_type": "code",
   "execution_count": 134,
   "metadata": {},
   "outputs": [
    {
     "name": "stdout",
     "output_type": "stream",
     "text": [
      "MouseName                                                4139265.4\n",
      "DateFolder                                              18_02_2019\n",
      "SessionNumber                                                    2\n",
      "Track                                            TwoTower_foraging\n",
      "RewardCount                                                    101\n",
      "Imaging                                                          1\n",
      "ImagingRegion                                                  CA1\n",
      "DateTime                                       2019-02-18 00:00:00\n",
      "data file        G:\\My Drive\\VR_Data\\TwoTower\\4139265.4\\18_02_2...\n",
      "scanfile                                                      None\n",
      "scanmat          G:\\My Drive\\2P_Data\\TwoTower\\4139265.4\\18_02_2...\n",
      "s2pfolder        G:\\My Drive\\2P_Data\\TwoTower\\4139265.4\\18_02_2...\n",
      "Name: 1489, dtype: object\n"
     ]
    }
   ],
   "source": [
    "print(sess)"
   ]
  },
  {
   "cell_type": "code",
   "execution_count": 106,
   "metadata": {},
   "outputs": [],
   "source": [
    "avec = np.linspace(0,1,num=20)\n",
    "C = np.array([(x,y) for x,y in itertools.product(avec.tolist(),avec.tolist())])\n",
    "dispersion = .01\n",
    "beta = np.ones([C.shape[0],])\n",
    "rbf = lambda x : np.exp(-np.diag(np.matmul(x-C,(x-C).T))/dispersion)\n",
    "K = lambda X: np.array(list(map(rbf,X.tolist())))\n",
    "#eta = lambda k,b: np.log(np.dot(k,b))\n",
    "#mu = lambda X,b: np.exp(np.dot(K(X),b"
   ]
  },
  {
   "cell_type": "code",
   "execution_count": 107,
   "metadata": {},
   "outputs": [
    {
     "name": "stdout",
     "output_type": "stream",
     "text": [
      "(3, 400) (400,) (3,)\n"
     ]
    },
    {
     "name": "stderr",
     "output_type": "stream",
     "text": [
      "C:\\Users\\mplitt\\Anaconda3\\lib\\site-packages\\ipykernel_launcher.py:7: RuntimeWarning: divide by zero encountered in log\n",
      "  import sys\n"
     ]
    }
   ],
   "source": [
    "A  = np.array([[0,1],[2,3],[4,5]])\n",
    "beta = np.random.randn(400)\n",
    "k = K(A)\n",
    "print(k.shape,beta.shape,eta(k,beta).shape)"
   ]
  },
  {
   "cell_type": "code",
   "execution_count": 130,
   "metadata": {},
   "outputs": [],
   "source": [
    "def objective(b,S,k,alpha):\n",
    "    u = np.dot(k,b)\n",
    "#     print(u.shape)\n",
    "#     return -(S*u - np.exp(u)).sum() + alpha*np.linalg.norm(b,ord=2)\n",
    "    return np.linalg.norm(S-np.exp(u),ord=2)**2 + alpha*np.linalg.norm(b,ord=2)\n",
    "\n",
    "def gradient(b,S,k,alpha):\n",
    "    # return gradient vector\n",
    "    u = np.dot(k,b)\n",
    "    return -((S-np.exp(u))[:,np.newaxis]*k).sum(axis=0) +2*alpha*b\n",
    "    \n",
    "\n",
    "def hessian(b,S,k,alpha):\n",
    "    H = np.zeros([b.shape[0],b.shape[0]])\n",
    "    a = np.exp(np.dot(k,b))\n",
    "    U = a[:,np.newaxis]*k\n",
    "    print(a.shape,U.shape,k.shape)\n",
    "    for i in range(S.shape[0]):\n",
    "        H+=np.matmul(U[i,:].T,k[i,:])\n",
    "        \n",
    "    H+= 2*alpha*np.eye(H.shape[0])\n",
    "        \n",
    "    return H"
   ]
  },
  {
   "cell_type": "code",
   "execution_count": 122,
   "metadata": {},
   "outputs": [
    {
     "name": "stdout",
     "output_type": "stream",
     "text": [
      "(23324, 400)\n",
      "(23324,)\n"
     ]
    }
   ],
   "source": [
    "print(k.shape)\n",
    "J = objective(beta,Y,k,.1)\n"
   ]
  },
  {
   "cell_type": "code",
   "execution_count": 109,
   "metadata": {},
   "outputs": [
    {
     "name": "stdout",
     "output_type": "stream",
     "text": [
      "Index(['time', 'morph', 'trialnum', 'pos', 'dz', 'lick', 'reward', 'tstart',\n",
      "       'teleport', 'rzone', 'toutzone', 'clickOn', 'blockWalls', 'towerJitter',\n",
      "       'wallJitter', 'bckgndJitter', 'scanning', 'manrewards', 'cmd', 'speed',\n",
      "       'lick rate', 'trial number'],\n",
      "      dtype='object')\n"
     ]
    }
   ],
   "source": [
    "print(VRDat.columns)"
   ]
  },
  {
   "cell_type": "code",
   "execution_count": 111,
   "metadata": {},
   "outputs": [],
   "source": [
    "import pickle\n",
    "fname = os.path.join(\"G:\\\\My Drive\\\\Figures\\\\TwoTower\\\\PlaceCells\\\\S\",\n",
    "                     mouse,\"%s_%s_%d_results.pkl\" % (mouse,sess['DateFolder'],sess['SessionNumber']))\n",
    "with open(fname,\"rb\") as f:\n",
    "    res= pickle.load(f)\n",
    "    \n",
    "SI = res['SI'][0]['all']+res['SI'][1]['all']\n",
    "order = np.argsort(SI)[::-1]\n"
   ]
  },
  {
   "cell_type": "code",
   "execution_count": 112,
   "metadata": {},
   "outputs": [],
   "source": [
    "X = np.zeros([VRDat.shape[0],2])\n",
    "X[:,0],X[:,1]=VRDat.pos._values,VRDat.morph._values+VRDat.bckgndJitter._values+VRDat.wallJitter._values\n",
    "mask = X[:,0]>0\n",
    "Y = S[:,order[0]]\n",
    "X,Y=X[mask,:],Y[mask]"
   ]
  },
  {
   "cell_type": "code",
   "execution_count": 121,
   "metadata": {},
   "outputs": [],
   "source": [
    "k = K(X)"
   ]
  },
  {
   "cell_type": "code",
   "execution_count": 47,
   "metadata": {},
   "outputs": [
    {
     "name": "stdout",
     "output_type": "stream",
     "text": [
      "(25954, 400)\n"
     ]
    }
   ],
   "source": [
    "print(k.shape)"
   ]
  },
  {
   "cell_type": "code",
   "execution_count": 49,
   "metadata": {},
   "outputs": [],
   "source": [
    "G=gradient(Y,k,beta)"
   ]
  },
  {
   "cell_type": "code",
   "execution_count": 50,
   "metadata": {},
   "outputs": [
    {
     "name": "stdout",
     "output_type": "stream",
     "text": [
      "(400,)\n"
     ]
    }
   ],
   "source": [
    "print(G.shape)"
   ]
  },
  {
   "cell_type": "code",
   "execution_count": 53,
   "metadata": {},
   "outputs": [
    {
     "name": "stdout",
     "output_type": "stream",
     "text": [
      "(25954,) (25954, 400) (25954, 400)\n"
     ]
    }
   ],
   "source": [
    "H = hessian(Y,k,beta)"
   ]
  },
  {
   "cell_type": "code",
   "execution_count": 17,
   "metadata": {},
   "outputs": [
    {
     "name": "stdout",
     "output_type": "stream",
     "text": [
      "-3.643243805268814e+69\n"
     ]
    }
   ],
   "source": [
    "print(H.shape)"
   ]
  },
  {
   "cell_type": "code",
   "execution_count": 133,
   "metadata": {},
   "outputs": [],
   "source": [
    "# results = sp.optimize.minimize(objective,beta,args=(Y,k,0.01),jac=gradient,hess=hessian)\n",
    "results = sp.optimize.minimize(objective,beta,args=(Y,k,0.01))"
   ]
  },
  {
   "cell_type": "code",
   "execution_count": 126,
   "metadata": {},
   "outputs": [
    {
     "data": {
      "text/plain": [
       "(400,)"
      ]
     },
     "execution_count": 126,
     "metadata": {},
     "output_type": "execute_result"
    }
   ],
   "source": [
    "results.keys()\n",
    "results.x.shape"
   ]
  },
  {
   "cell_type": "code",
   "execution_count": 132,
   "metadata": {},
   "outputs": [
    {
     "data": {
      "text/plain": [
       "[<matplotlib.lines.Line2D at 0x240067c62b0>]"
      ]
     },
     "execution_count": 132,
     "metadata": {},
     "output_type": "execute_result"
    },
    {
     "data": {
      "image/png": "[encoded data removed]",
      "text/plain": [
       "<Figure size 432x288 with 1 Axes>"
      ]
     },
     "metadata": {
      "needs_background": "light"
     },
     "output_type": "display_data"
    }
   ],
   "source": [
    "f,ax = plt.subplots()\n",
    "#ax.plot(Y)\n",
    "ax.plot(np.exp(np.dot(k,results.x)))"
   ]
  },
  {
   "cell_type": "code",
   "execution_count": 80,
   "metadata": {},
   "outputs": [
    {
     "name": "stdout",
     "output_type": "stream",
     "text": [
      "[-4.78801627e-02  4.90597168e-01 -2.76342208e-01  3.10528198e-01\n",
      " -3.37906629e-02  5.01043593e-01 -6.85813375e-01 -8.92521726e-01\n",
      " -6.88784773e-01 -9.70588239e-01 -4.42955683e-01  2.02890746e-01\n",
      "  7.40240913e-01 -1.18128124e-01  3.22183239e-01 -2.64543496e-01\n",
      " -5.59109054e-01 -7.66270422e-03 -1.44863595e+00 -2.84996724e+00\n",
      " -6.22453832e-02 -5.56205731e-01 -2.61449919e-01  6.39539132e-01\n",
      " -4.16959699e-02 -1.39882981e-01 -1.06469059e-01 -8.72193648e-01\n",
      " -1.32343637e+00 -9.70148318e-01  2.90070142e-02  6.08123336e-01\n",
      "  7.81718211e-01  1.26892963e+00  7.53685287e-01  3.16085101e-01\n",
      "  5.49904617e-02 -3.71633290e-01 -5.25803350e-01 -2.46913085e+00\n",
      "  7.00370070e-02 -4.82137114e-02 -5.35309536e-01  8.81883218e-02\n",
      " -1.11007708e-01  1.17103344e-01 -8.13796413e-01 -5.38865835e-01\n",
      " -1.26239944e+00 -4.53636001e-01  1.18828792e-01  1.09002469e+00\n",
      "  2.12060895e+00  1.92304129e+00  1.31433313e+00  5.21899397e-01\n",
      "  1.09223072e-01 -4.62546798e-01 -9.63872227e-01 -2.90108663e+00\n",
      " -2.63094035e-01 -3.96125279e-01  6.32259112e-02  2.37635156e-01\n",
      " -6.61799418e-01  6.50006683e-02  7.45339025e-02 -4.46351805e-01\n",
      "  5.91384340e-03 -6.32500935e-01  3.51989494e-02  6.72535258e-01\n",
      "  1.64676868e+00  1.40475298e+00  2.04400875e-01 -6.62509220e-01\n",
      " -2.70307364e-01 -4.41983817e-01 -5.44785373e-01 -5.71681165e+00\n",
      "  1.35781228e-01  3.58954287e-01 -1.40654072e-01 -8.14373511e-02\n",
      " -5.85709832e-01  2.93591585e-01  2.34980401e-01  4.20064335e-02\n",
      "  2.23718452e-01 -6.76714517e-02  2.31644497e-01  1.59510824e-01\n",
      " -7.95068650e-02 -8.59247836e-01 -1.66382938e+00 -1.37622973e+00\n",
      " -1.03783067e+00 -9.37978946e-01 -1.93080434e+00 -8.49734286e+00\n",
      " -6.94158121e-01 -3.62730540e-01 -5.45155990e-01 -1.48881463e-01\n",
      " -1.30695903e-02 -3.21510448e-01  4.45404410e-01  8.77317692e-02\n",
      " -1.07750275e+00  2.61917577e-01  8.71992289e-03 -3.25963228e-01\n",
      " -1.49848249e+00 -2.57104922e+00 -2.58694736e+00 -1.98192298e+00\n",
      " -1.33647411e+00 -5.23507591e-01 -1.76946775e+00 -9.21863890e+00\n",
      " -1.89536411e+00 -9.52434636e-01 -1.58127238e-01 -1.13666492e+00\n",
      " -5.16595095e-01 -6.09277969e-01 -7.71051549e-01 -6.87978696e-01\n",
      "  8.07275574e-01 -2.97960143e-01  3.39465508e-02 -2.30586226e-01\n",
      " -1.01996000e+00 -1.63792095e+00 -2.65241509e+00 -1.63160599e+00\n",
      " -7.89601972e-01 -1.21746172e-01 -6.75660983e-01 -5.63833055e+00\n",
      " -3.50266131e+00 -1.63237846e+00 -1.01696358e+00 -4.33548643e-01\n",
      " -7.78009227e-01 -1.44541759e+00 -6.65568470e-01 -3.69007735e-01\n",
      " -5.46256860e-02  4.32740494e-02 -2.04819371e-01 -1.46168643e-01\n",
      " -3.30222951e-01 -9.16684675e-01 -1.37460547e+00 -1.08381504e+00\n",
      " -2.11859960e-01  5.12263502e-01 -1.67305987e-01 -2.16341992e+00\n",
      " -4.13657401e+00 -2.25438741e+00 -1.57838500e+00 -1.42837990e+00\n",
      " -1.11284937e+00 -1.89655047e+00 -8.31748698e-01 -1.77268933e-01\n",
      "  1.94293499e-01  4.17254670e-01 -1.21828657e-01 -8.26362662e-02\n",
      " -3.19401634e-01 -7.65288583e-01 -5.36582002e-01 -4.30526297e-02\n",
      " -9.08920951e-01 -5.23959858e-01 -1.22212627e+00 -9.85646172e-01\n",
      " -2.26965702e+00 -1.76994091e+00 -1.11432512e+00 -1.19915293e+00\n",
      " -1.09481970e+00 -1.11040383e+00 -1.11455535e+00 -1.21594201e-01\n",
      " -6.11754046e-04 -1.80379909e-01 -2.29824468e-01  9.30464433e-02\n",
      " -6.72613768e-01 -1.14040399e-01 -4.69184244e-02 -5.33396520e-01\n",
      " -3.02069249e-01 -9.85634916e-01 -9.16105203e-01 -9.61042620e-01\n",
      "  3.19487363e-01 -6.36180447e-01 -1.08428598e+00 -1.14693736e+00\n",
      " -1.48884300e-01 -1.15651775e+00 -7.40583185e-01 -2.03856972e+00\n",
      " -2.11553784e+00 -1.17651744e+00 -1.00941034e+00 -1.80390998e-01\n",
      " -5.56520520e-01 -2.28165961e-01 -6.69267360e-01 -3.36079976e-01\n",
      " -1.75277184e-01 -4.87701658e-01 -7.31157317e-01 -2.14285300e-01\n",
      "  2.11990340e+00  2.23200305e-02 -1.44315575e+00 -5.74718371e-01\n",
      " -5.84792022e-01 -3.63897636e-01 -5.57558228e-01 -1.93426313e+00\n",
      " -3.39635192e+00 -2.98927375e+00 -1.48070545e+00 -1.12900491e+00\n",
      " -9.42592337e-01 -4.94404145e-01 -1.06475318e+00 -7.98150705e-01\n",
      " -3.53788692e-01 -7.87987551e-01 -3.25506131e-01  1.96589772e-01\n",
      "  2.65392985e+00 -6.63445827e-01 -1.41369207e+00 -1.42519679e+00\n",
      " -6.79922577e-01  4.74854308e-01  1.16663142e+00 -4.99992982e-01\n",
      " -1.21176569e+00 -2.45175370e+00 -2.02081622e+00 -1.14385348e+00\n",
      " -1.45794721e+00 -1.29429326e+00 -9.14147352e-01 -2.95996782e-01\n",
      " -2.38302559e-01 -2.76263590e-01 -1.86062808e-01 -1.99946343e-01\n",
      "  1.03386336e+00 -4.41609937e-01 -1.33568818e+00 -1.41514209e+00\n",
      " -5.34391683e-02  1.11968917e+00  2.61794395e+00  3.22585499e+00\n",
      "  1.67424544e+00 -4.91456858e-02 -7.73434030e-01 -1.26333943e+00\n",
      " -1.27448068e+00 -4.86864608e-01 -5.78368603e-01 -8.10487609e-01\n",
      " -7.60993307e-01 -2.68367389e-01 -1.33632110e-03 -3.72777081e-01\n",
      "  5.39914753e-01 -2.00813921e-01 -5.00569887e-01 -2.08675936e-01\n",
      " -3.14737301e-02  5.89257632e-01  2.37540053e+00  2.88313221e+00\n",
      "  2.66403867e+00  1.35599033e+00 -3.30531951e-01 -1.70449781e-01\n",
      "  3.31920187e-01 -4.07624917e-01 -4.44743471e-01 -4.85737598e-01\n",
      " -6.80373671e-01  1.26118910e-01 -7.15667065e-01  1.25647417e-01\n",
      " -9.57486184e-01 -2.34900607e-01  3.89796697e-01 -3.76780175e-01\n",
      "  1.02698728e+00  3.17033004e-01  7.71578609e-01  1.55346843e+00\n",
      "  1.46775477e+00  6.04660840e-01 -3.46618728e-01 -1.87829063e-01\n",
      " -1.42415585e-01 -3.68161860e-02  1.36159975e-01 -1.96911881e-01\n",
      " -2.59868438e-01 -5.63306881e-01 -4.06504314e-01 -1.23617645e-01\n",
      " -1.84375703e+00 -2.55228761e-01  9.44933572e-01  1.22636027e+00\n",
      "  8.58624020e-01  1.62451126e-01  2.40993375e-02  6.33777727e-01\n",
      "  2.49061347e-01  2.18207047e-01  5.44267678e-01 -8.14724864e-02\n",
      " -1.46304977e-01  3.36814029e-01  1.29768429e+00  1.88471883e+00\n",
      "  6.42751677e-01 -5.08413007e-01 -5.46560057e-01 -2.21910491e-01\n",
      " -2.71092203e+00 -5.44292387e-02  1.76874473e+00  2.79938539e+00\n",
      "  8.95643196e-01  7.50618695e-01  4.15403339e-01  3.01634337e-01\n",
      " -2.47469034e-01 -2.49262401e-01  1.18267465e-01 -3.27847306e-01\n",
      " -7.13075960e-01  8.87355952e-01  2.33511042e+00  3.53708414e+00\n",
      "  1.48413100e+00 -4.75896618e-01 -1.21311868e+00 -1.29634802e+00\n",
      " -2.46172213e+00 -1.03206526e+00  1.06778598e+00  1.56027660e+00\n",
      "  5.62294915e-01  2.65326231e-01  2.25536849e-01  6.09543095e-01\n",
      "  4.54111958e-01 -3.32887554e-01 -1.05525091e+00 -1.99342211e+00\n",
      " -8.02641486e-01  3.81678394e-01  2.84372111e+00  3.62369985e+00\n",
      "  1.46386924e+00 -2.18592022e+00 -3.59224271e+00 -3.37082932e+00\n",
      " -2.69003647e+00 -2.47764661e+00 -3.56961595e+00 -8.13203827e+00\n",
      " -8.94947033e+00 -5.86257255e+00 -1.12051874e+00  5.56268267e-01\n",
      "  5.03116248e-01 -1.56744475e+00 -4.28991430e+00 -5.99119737e+00\n",
      " -5.06580299e+00 -1.51780925e+00  1.36102768e+00  1.89716383e+00\n",
      " -2.64638233e+00 -8.33917542e+00 -1.19071770e+01 -1.25622912e+01]\n"
     ]
    }
   ],
   "source": [
    "print(results.x)"
   ]
  },
  {
   "cell_type": "code",
   "execution_count": null,
   "metadata": {},
   "outputs": [],
   "source": []
  }
 ],
 "metadata": {
  "kernelspec": {
   "display_name": "Python 3",
   "language": "python",
   "name": "python3"
  },
  "language_info": {
   "codemirror_mode": {
    "name": "ipython",
    "version": 3
   },
   "file_extension": ".py",
   "mimetype": "text/x-python",
   "name": "python",
   "nbconvert_exporter": "python",
   "pygments_lexer": "ipython3",
   "version": "3.6.6"
  }
 },
 "nbformat": 4,
 "nbformat_minor": 2
}
