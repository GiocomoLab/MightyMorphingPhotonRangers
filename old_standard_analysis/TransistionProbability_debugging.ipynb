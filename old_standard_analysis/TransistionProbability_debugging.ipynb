{
 "cells": [
  {
   "cell_type": "markdown",
   "metadata": {},
   "source": [
    "Simple idea:\n",
    "calculate covariance \n",
    "\n",
    "\n",
    "Complicated idea\n",
    "Binarize activity\n",
    "Look at probability of observing a particular state in context 1 vs context 2\n",
    "* how frequently are states repeated at all\n",
    "* calculate likelihood of state\n",
    "* calculate likelihood of state transitions"
   ]
  },
  {
   "cell_type": "code",
   "execution_count": null,
   "metadata": {},
   "outputs": [],
   "source": []
  }
 ],
 "metadata": {
  "kernelspec": {
   "display_name": "Python 3",
   "language": "python",
   "name": "python3"
  },
  "language_info": {
   "codemirror_mode": {
    "name": "ipython",
    "version": 3
   },
   "file_extension": ".py",
   "mimetype": "text/x-python",
   "name": "python",
   "nbconvert_exporter": "python",
   "pygments_lexer": "ipython3",
   "version": "3.6.4"
  }
 },
 "nbformat": 4,
 "nbformat_minor": 2
}
