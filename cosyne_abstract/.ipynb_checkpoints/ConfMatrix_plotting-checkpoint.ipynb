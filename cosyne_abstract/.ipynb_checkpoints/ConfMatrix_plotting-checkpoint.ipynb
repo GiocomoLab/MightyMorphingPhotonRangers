{
 "cells": [
  {
   "cell_type": "code",
   "execution_count": 3,
   "metadata": {},
   "outputs": [],
   "source": [
    "import matplotlib.pyplot as plt\n",
    "import numpy as np\n",
    "import scipy as sp\n",
    "import os\n",
    "import PlaceCellAnalysis as pc\n",
    "\n",
    "os.sys.path.append('../')\n",
    "import utilities as u\n",
    "import preprocessing as pp\n",
    "import behavior as b\n",
    "\n",
    "from sklearn.linear_model import LogisticRegressionCV, LogisticRegression\n",
    "from sklearn.svm import SVC, LinearSVC\n",
    "import logistic_regression"
   ]
  },
  {
   "cell_type": "code",
   "execution_count": 4,
   "metadata": {},
   "outputs": [
    {
     "name": "stdout",
     "output_type": "stream",
     "text": [
      "G:\\My Drive\\VR_Data\\TwoTower\\behavior.sqlite\n"
     ]
    }
   ],
   "source": [
    "mice = ['4139219.2', '4139219.3', '4139224.2', '4139224.3', '4139224.5',\n",
    "     '4139251.1','4139251.2','4139260.1','4139260.2','4139261.2','4139266.3','4139265.4',\n",
    "     '4139265.3','4139265.5']\n",
    "df = pp.load_session_db()\n",
    "df = df[df['RewardCount']>20]\n",
    "df = df[df['Imaging']==1]\n",
    "df = df[df['ImagingRegion']!='DG']\n",
    "df = df.sort_values(['MouseName','DateTime','SessionNumber'])\n",
    "tracks = 'TwoTower_noTimeout|TwoTower_Timeout|Reversal_noTimeout|Reversal|TwoTower_foraging'\n",
    "df = df[df['Track'].str.contains(tracks,regex=True)]\n"
   ]
  },
  {
   "cell_type": "code",
   "execution_count": 5,
   "metadata": {},
   "outputs": [],
   "source": [
    "tt_mice = ['4139219.2', '4139219.3', '4139224.2', '4139224.3', '4139224.5']\n",
    "reversal_mice = ['4139251.1','4139260.1','4139261.2']\n",
    "notask_mice = ['4139260.2','4139266.3','4139265.4','4139265.3','4139265.5']\n"
   ]
  },
  {
   "cell_type": "code",
   "execution_count": 6,
   "metadata": {},
   "outputs": [],
   "source": [
    "# sessions 0,1\n",
    "\n",
    "# session 2\n",
    "\n",
    "# session 3,4\n",
    "\n",
    "# remaining sessions"
   ]
  },
  {
   "cell_type": "code",
   "execution_count": 7,
   "metadata": {},
   "outputs": [
    {
     "name": "stdout",
     "output_type": "stream",
     "text": [
      "4139219.2\n",
      "num aberrant ttls 0.0\n"
     ]
    },
    {
     "name": "stderr",
     "output_type": "stream",
     "text": [
      "C:\\Users\\mplitt\\Anaconda3\\lib\\site-packages\\pandas\\core\\frame.py:3790: SettingWithCopyWarning: \n",
      "A value is trying to be set on a copy of a slice from a DataFrame\n",
      "\n",
      "See the caveats in the documentation: http://pandas.pydata.org/pandas-docs/stable/indexing.html#indexing-view-versus-copy\n",
      "  downcast=downcast, **kwargs)\n"
     ]
    },
    {
     "name": "stdout",
     "output_type": "stream",
     "text": [
      "frame diff 0\n"
     ]
    },
    {
     "name": "stderr",
     "output_type": "stream",
     "text": [
      "C:\\Users\\mplitt\\MightyMorphingPhotonRangers\\utilities.py:279: RuntimeWarning: Mean of empty slice\n",
      "  zone1_speed[i] = np.nanmean(sub_frame.loc[zone1_mask,'speed'])\n"
     ]
    },
    {
     "ename": "NameError",
     "evalue": "name 'Xhat' is not defined",
     "output_type": "error",
     "traceback": [
      "\u001b[1;31m---------------------------------------------------------------------------\u001b[0m",
      "\u001b[1;31mNameError\u001b[0m                                 Traceback (most recent call last)",
      "\u001b[1;32m<ipython-input-7-208504667d31>\u001b[0m in \u001b[0;36m<module>\u001b[1;34m()\u001b[0m\n\u001b[0;32m     20\u001b[0m \u001b[1;33m\u001b[0m\u001b[0m\n\u001b[0;32m     21\u001b[0m         res_dict = {'tstarts': tstart_inds, 'teleports':teleport_inds, 'pos_binned': np.digitize(VRDat.pos._values,bin_edges),\n\u001b[1;32m---> 22\u001b[1;33m             \u001b[1;34m'Xhat'\u001b[0m\u001b[1;33m:\u001b[0m\u001b[0mXhat\u001b[0m\u001b[1;33m,\u001b[0m\u001b[1;34m'lick pos'\u001b[0m\u001b[1;33m:\u001b[0m\u001b[0mu\u001b[0m\u001b[1;33m.\u001b[0m\u001b[0mlick_positions\u001b[0m\u001b[1;33m(\u001b[0m\u001b[0mVRDat\u001b[0m\u001b[1;33m.\u001b[0m\u001b[0mlick\u001b[0m\u001b[1;33m.\u001b[0m\u001b[0m_values\u001b[0m\u001b[1;33m,\u001b[0m\u001b[0mnp\u001b[0m\u001b[1;33m.\u001b[0m\u001b[0mdigitize\u001b[0m\u001b[1;33m(\u001b[0m\u001b[0mVRDat\u001b[0m\u001b[1;33m.\u001b[0m\u001b[0mpos\u001b[0m\u001b[1;33m.\u001b[0m\u001b[0m_values\u001b[0m\u001b[1;33m,\u001b[0m\u001b[0mbin_edges\u001b[0m\u001b[1;33m)\u001b[0m\u001b[1;33m)\u001b[0m\u001b[1;33m,\u001b[0m\u001b[1;33m\u001b[0m\u001b[0m\n\u001b[0m\u001b[0;32m     23\u001b[0m            \u001b[1;34m'morphs'\u001b[0m\u001b[1;33m:\u001b[0m\u001b[0mtrial_info\u001b[0m\u001b[1;33m[\u001b[0m\u001b[1;34m'morphs'\u001b[0m\u001b[1;33m]\u001b[0m\u001b[1;33m,\u001b[0m\u001b[1;34m'rewards'\u001b[0m\u001b[1;33m:\u001b[0m\u001b[0mtrial_info\u001b[0m\u001b[1;33m[\u001b[0m\u001b[1;34m'rewards'\u001b[0m\u001b[1;33m]\u001b[0m\u001b[1;33m,\u001b[0m\u001b[1;34m'pcnt'\u001b[0m\u001b[1;33m:\u001b[0m\u001b[0mtrial_info\u001b[0m\u001b[1;33m[\u001b[0m\u001b[1;34m'pcnt'\u001b[0m\u001b[1;33m]\u001b[0m\u001b[1;33m,\u001b[0m\u001b[1;33m\u001b[0m\u001b[0m\n\u001b[0;32m     24\u001b[0m             'omissions':trial_info['omissions'],'pos':VRDat.pos._values}\n",
      "\u001b[1;31mNameError\u001b[0m: name 'Xhat' is not defined"
     ]
    }
   ],
   "source": [
    "S_list = []\n",
    "U_list = []\n",
    "morphs = [0,.25,.5,.75,1]\n",
    "dirbase = \"G:\\\\My Drive\\\\Figures\\\\TwoTower\\\\COSYNE2019\\\\CMats\"\n",
    "for m,mouse in enumerate(tt_mice[:1]):\n",
    "    print(mouse)\n",
    "    df_mouse = df[df['MouseName'].str.match(mouse)]\n",
    "    df_mouse = df_mouse[df_mouse['ImagingRegion'].str.match('CA1')]\n",
    "    # no timeout \n",
    "    df_TO = df_mouse[df_mouse['Track'].str.match('TwoTower_Timeout')]\n",
    "    \n",
    "    for s in range(2,df_TO.shape[0]):\n",
    "        sess = df_TO.iloc[s]\n",
    "        VRDat,C, S, A = pp.load_scan_sess(sess)\n",
    "        trial_info, tstart_inds, teleport_inds = u.by_trial_info(VRDat)\n",
    "        S_trial_mat, occ_trial_mat, edges,centers = u.make_pos_bin_trial_matrices(S,VRDat['pos']._values,VRDat['tstart']._values,VRDat['teleport']._values)\n",
    "        bin_edges= np.arange(0,451,20)\n",
    "        bin_edges[-1]=455\n",
    "        \n",
    "        fname = os.path.join(\"G:\\\\My Drive\\\\Figures\\\\TwoTower\\\\LogReg\",mouse,\"%s_%d_Xhat.pkl\")\n",
    "        with open(fname,\"rb\") as f:\n",
    "            d = pickle.load(f)\n",
    "            Xhat = d['Xhat']\n",
    "        \n",
    "        res_dict = {'tstarts': tstart_inds, 'teleports':teleport_inds, 'pos_binned': np.digitize(VRDat.pos._values,bin_edges),\n",
    "            'Xhat':Xhat,'lick pos':u.lick_positions(VRDat.lick._values,np.digitize(VRDat.pos._values,bin_edges)),\n",
    "           'morphs':trial_info['morphs'],'rewards':trial_info['rewards'],'pcnt':trial_info['pcnt'],\n",
    "            'omissions':trial_info['omissions'],'pos':VRDat.pos._values}\n",
    "        \n",
    "        \n",
    "        \n",
    "        c,c_m0,c_m1 = logistic_regression.confusion_matrix(res_dict,check_pcnt=True,check_omissions=False)\n",
    "        f,ax = plt.subplots()\n",
    "        ax.imshow(c,cmap='viridis',vmin=0,vmax=.3,aspect='auto')\n",
    "        ax.set_xlabel('True Label')\n",
    "        ax.set_ylabel('Decoded Label')\n",
    "        \n",
    "        f,ax = plt.subplots()\n",
    "        ax.imshow(c_m0,cmap='viridis',vmin=0,vmax=.3,aspect='auto')\n",
    "        ax.set_xlabel('True Label')\n",
    "        ax.set_ylabel('Decoded Label')\n",
    "        ax.set_title('')\n",
    "        \n",
    "        f,ax = plt.subplots()\n",
    "        ax.imshow(c_m1,cmap='viridis',vmin=0,vmax=.3,aspect='auto')\n",
    "        ax.set_xlabel('True Label')\n",
    "        ax.set_ylabel('Decoded Label')"
   ]
  },
  {
   "cell_type": "code",
   "execution_count": null,
   "metadata": {},
   "outputs": [],
   "source": []
  }
 ],
 "metadata": {
  "kernelspec": {
   "display_name": "Python 3",
   "language": "python",
   "name": "python3"
  },
  "language_info": {
   "codemirror_mode": {
    "name": "ipython",
    "version": 3
   },
   "file_extension": ".py",
   "mimetype": "text/x-python",
   "name": "python",
   "nbconvert_exporter": "python",
   "pygments_lexer": "ipython3",
   "version": "3.6.6"
  }
 },
 "nbformat": 4,
 "nbformat_minor": 2
}
