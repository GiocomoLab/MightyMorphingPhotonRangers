{
 "cells": [
  {
   "cell_type": "code",
   "execution_count": 2,
   "metadata": {},
   "outputs": [],
   "source": [
    "import os\n",
    "os.sys.path.append(\"C:\\\\Users\\mplitt\\MightyMorphingPhotonRangers\")\n",
    "import numpy as np\n",
    "import matplotlib.pyplot as plt\n",
    "import utilities as u\n",
    "import preprocessing as pp\n",
    "import scipy as sp\n",
    "from plot_pca import plot_pca\n",
    "\n",
    "%load_ext autoreload\n",
    "%autoreload 2\n",
    "\n",
    "%matplotlib inline"
   ]
  },
  {
   "cell_type": "code",
   "execution_count": 3,
   "metadata": {},
   "outputs": [
    {
     "name": "stdout",
     "output_type": "stream",
     "text": [
      "G:\\My Drive\\VR_Data\\TwoTower\\behavior.sqlite\n"
     ]
    }
   ],
   "source": [
    "mice = ['4139219.2', '4139219.3', '4139224.2', '4139224.3', '4139224.5',\n",
    "     '4139251.1','4139251.2','4139260.1','4139260.2','4139261.2','4139266.3','4139265.4',\n",
    "     '4139265.3','4139265.5']\n",
    "df = pp.load_session_db()\n",
    "df = df[df['RewardCount']>20]\n",
    "df = df[df['Imaging']==1]\n",
    "df = df.sort_values(['MouseName','DateTime','SessionNumber'])\n",
    "tracks = 'TwoTower_noTimeout|TwoTower_Timeout|Reversal_noTimeout|Reversal|TwoTower_foraging'\n",
    "df = df[df['Track'].str.contains(tracks,regex=True)]\n",
    "\n",
    "\n"
   ]
  },
  {
   "cell_type": "code",
   "execution_count": 29,
   "metadata": {},
   "outputs": [
    {
     "data": {
      "text/html": [
       "<div>\n",
       "<style scoped>\n",
       "    .dataframe tbody tr th:only-of-type {\n",
       "        vertical-align: middle;\n",
       "    }\n",
       "\n",
       "    .dataframe tbody tr th {\n",
       "        vertical-align: top;\n",
       "    }\n",
       "\n",
       "    .dataframe thead th {\n",
       "        text-align: right;\n",
       "    }\n",
       "</style>\n",
       "<table border=\"1\" class=\"dataframe\">\n",
       "  <thead>\n",
       "    <tr style=\"text-align: right;\">\n",
       "      <th></th>\n",
       "      <th>MouseName</th>\n",
       "      <th>DateFolder</th>\n",
       "      <th>SessionNumber</th>\n",
       "      <th>Track</th>\n",
       "      <th>RewardCount</th>\n",
       "      <th>Imaging</th>\n",
       "      <th>ImagingRegion</th>\n",
       "      <th>DateTime</th>\n",
       "      <th>data file</th>\n",
       "      <th>scanfile</th>\n",
       "      <th>scanmat</th>\n",
       "      <th>s2pfolder</th>\n",
       "    </tr>\n",
       "  </thead>\n",
       "  <tbody>\n",
       "    <tr>\n",
       "      <th>1731</th>\n",
       "      <td>4222153.3</td>\n",
       "      <td>08_04_2019</td>\n",
       "      <td>2</td>\n",
       "      <td>TwoTower_foraging</td>\n",
       "      <td>120</td>\n",
       "      <td>1</td>\n",
       "      <td>CA1</td>\n",
       "      <td>2019-04-08</td>\n",
       "      <td>G:\\My Drive\\VR_Data\\TwoTower\\4222153.3\\08_04_2...</td>\n",
       "      <td>None</td>\n",
       "      <td>G:\\My Drive\\2P_Data\\TwoTower\\4222153.3\\08_04_2...</td>\n",
       "      <td>G:\\My Drive\\2P_Data\\TwoTower\\4222153.3\\08_04_2...</td>\n",
       "    </tr>\n",
       "    <tr>\n",
       "      <th>1754</th>\n",
       "      <td>4222153.3</td>\n",
       "      <td>10_04_2019</td>\n",
       "      <td>2</td>\n",
       "      <td>TwoTower_foraging</td>\n",
       "      <td>120</td>\n",
       "      <td>1</td>\n",
       "      <td>CA1</td>\n",
       "      <td>2019-04-10</td>\n",
       "      <td>G:\\My Drive\\VR_Data\\TwoTower\\4222153.3\\10_04_2...</td>\n",
       "      <td>None</td>\n",
       "      <td>G:\\My Drive\\2P_Data\\TwoTower\\4222153.3\\10_04_2...</td>\n",
       "      <td>G:\\My Drive\\2P_Data\\TwoTower\\4222153.3\\10_04_2...</td>\n",
       "    </tr>\n",
       "    <tr>\n",
       "      <th>1774</th>\n",
       "      <td>4222153.3</td>\n",
       "      <td>12_04_2019</td>\n",
       "      <td>2</td>\n",
       "      <td>TwoTower_foraging</td>\n",
       "      <td>99</td>\n",
       "      <td>1</td>\n",
       "      <td>CA1</td>\n",
       "      <td>2019-04-12</td>\n",
       "      <td>G:\\My Drive\\VR_Data\\TwoTower\\4222153.3\\12_04_2...</td>\n",
       "      <td>None</td>\n",
       "      <td>G:\\My Drive\\2P_Data\\TwoTower\\4222153.3\\12_04_2...</td>\n",
       "      <td>G:\\My Drive\\2P_Data\\TwoTower\\4222153.3\\12_04_2...</td>\n",
       "    </tr>\n",
       "    <tr>\n",
       "      <th>1791</th>\n",
       "      <td>4222153.3</td>\n",
       "      <td>14_04_2019</td>\n",
       "      <td>2</td>\n",
       "      <td>TwoTower_foraging</td>\n",
       "      <td>97</td>\n",
       "      <td>1</td>\n",
       "      <td>CA1</td>\n",
       "      <td>2019-04-14</td>\n",
       "      <td>G:\\My Drive\\VR_Data\\TwoTower\\4222153.3\\14_04_2...</td>\n",
       "      <td>None</td>\n",
       "      <td>G:\\My Drive\\2P_Data\\TwoTower\\4222153.3\\14_04_2...</td>\n",
       "      <td>G:\\My Drive\\2P_Data\\TwoTower\\4222153.3\\14_04_2...</td>\n",
       "    </tr>\n",
       "    <tr>\n",
       "      <th>1806</th>\n",
       "      <td>4222153.3</td>\n",
       "      <td>15_04_2019</td>\n",
       "      <td>2</td>\n",
       "      <td>TwoTower_foraging</td>\n",
       "      <td>69</td>\n",
       "      <td>1</td>\n",
       "      <td>CA1</td>\n",
       "      <td>2019-04-15</td>\n",
       "      <td>G:\\My Drive\\VR_Data\\TwoTower\\4222153.3\\15_04_2...</td>\n",
       "      <td>None</td>\n",
       "      <td>G:\\My Drive\\2P_Data\\TwoTower\\4222153.3\\15_04_2...</td>\n",
       "      <td>None</td>\n",
       "    </tr>\n",
       "    <tr>\n",
       "      <th>1807</th>\n",
       "      <td>4222153.3</td>\n",
       "      <td>15_04_2019</td>\n",
       "      <td>3</td>\n",
       "      <td>TwoTower_foraging</td>\n",
       "      <td>40</td>\n",
       "      <td>1</td>\n",
       "      <td>CA2/CA3</td>\n",
       "      <td>2019-04-15</td>\n",
       "      <td>G:\\My Drive\\VR_Data\\TwoTower\\4222153.3\\15_04_2...</td>\n",
       "      <td>None</td>\n",
       "      <td>G:\\My Drive\\2P_Data\\TwoTower\\4222153.3\\15_04_2...</td>\n",
       "      <td>None</td>\n",
       "    </tr>\n",
       "  </tbody>\n",
       "</table>\n",
       "</div>"
      ],
      "text/plain": [
       "      MouseName  DateFolder  SessionNumber              Track  RewardCount  \\\n",
       "1731  4222153.3  08_04_2019              2  TwoTower_foraging          120   \n",
       "1754  4222153.3  10_04_2019              2  TwoTower_foraging          120   \n",
       "1774  4222153.3  12_04_2019              2  TwoTower_foraging           99   \n",
       "1791  4222153.3  14_04_2019              2  TwoTower_foraging           97   \n",
       "1806  4222153.3  15_04_2019              2  TwoTower_foraging           69   \n",
       "1807  4222153.3  15_04_2019              3  TwoTower_foraging           40   \n",
       "\n",
       "      Imaging ImagingRegion   DateTime  \\\n",
       "1731        1           CA1 2019-04-08   \n",
       "1754        1           CA1 2019-04-10   \n",
       "1774        1           CA1 2019-04-12   \n",
       "1791        1           CA1 2019-04-14   \n",
       "1806        1           CA1 2019-04-15   \n",
       "1807        1       CA2/CA3 2019-04-15   \n",
       "\n",
       "                                              data file scanfile  \\\n",
       "1731  G:\\My Drive\\VR_Data\\TwoTower\\4222153.3\\08_04_2...     None   \n",
       "1754  G:\\My Drive\\VR_Data\\TwoTower\\4222153.3\\10_04_2...     None   \n",
       "1774  G:\\My Drive\\VR_Data\\TwoTower\\4222153.3\\12_04_2...     None   \n",
       "1791  G:\\My Drive\\VR_Data\\TwoTower\\4222153.3\\14_04_2...     None   \n",
       "1806  G:\\My Drive\\VR_Data\\TwoTower\\4222153.3\\15_04_2...     None   \n",
       "1807  G:\\My Drive\\VR_Data\\TwoTower\\4222153.3\\15_04_2...     None   \n",
       "\n",
       "                                                scanmat  \\\n",
       "1731  G:\\My Drive\\2P_Data\\TwoTower\\4222153.3\\08_04_2...   \n",
       "1754  G:\\My Drive\\2P_Data\\TwoTower\\4222153.3\\10_04_2...   \n",
       "1774  G:\\My Drive\\2P_Data\\TwoTower\\4222153.3\\12_04_2...   \n",
       "1791  G:\\My Drive\\2P_Data\\TwoTower\\4222153.3\\14_04_2...   \n",
       "1806  G:\\My Drive\\2P_Data\\TwoTower\\4222153.3\\15_04_2...   \n",
       "1807  G:\\My Drive\\2P_Data\\TwoTower\\4222153.3\\15_04_2...   \n",
       "\n",
       "                                              s2pfolder  \n",
       "1731  G:\\My Drive\\2P_Data\\TwoTower\\4222153.3\\08_04_2...  \n",
       "1754  G:\\My Drive\\2P_Data\\TwoTower\\4222153.3\\10_04_2...  \n",
       "1774  G:\\My Drive\\2P_Data\\TwoTower\\4222153.3\\12_04_2...  \n",
       "1791  G:\\My Drive\\2P_Data\\TwoTower\\4222153.3\\14_04_2...  \n",
       "1806                                               None  \n",
       "1807                                               None  "
      ]
     },
     "execution_count": 29,
     "metadata": {},
     "output_type": "execute_result"
    }
   ],
   "source": [
    "mouse ='4222153.3' #mice[0]\n",
    "df_mouse = df[df['MouseName'].str.match(mouse)]\n",
    "df_mouse\n"
   ]
  },
  {
   "cell_type": "code",
   "execution_count": 30,
   "metadata": {},
   "outputs": [
    {
     "data": {
      "text/plain": [
       "MouseName                                                4222153.3\n",
       "DateFolder                                              14_04_2019\n",
       "SessionNumber                                                    2\n",
       "Track                                            TwoTower_foraging\n",
       "RewardCount                                                     97\n",
       "Imaging                                                          1\n",
       "ImagingRegion                                                  CA1\n",
       "DateTime                                       2019-04-14 00:00:00\n",
       "data file        G:\\My Drive\\VR_Data\\TwoTower\\4222153.3\\14_04_2...\n",
       "scanfile                                                      None\n",
       "scanmat          G:\\My Drive\\2P_Data\\TwoTower\\4222153.3\\14_04_2...\n",
       "s2pfolder        G:\\My Drive\\2P_Data\\TwoTower\\4222153.3\\14_04_2...\n",
       "Name: 1791, dtype: object"
      ]
     },
     "execution_count": 30,
     "metadata": {},
     "output_type": "execute_result"
    }
   ],
   "source": [
    "sess = df_mouse.iloc[-3]\n",
    "sess"
   ]
  },
  {
   "cell_type": "code",
   "execution_count": 31,
   "metadata": {},
   "outputs": [
    {
     "name": "stdout",
     "output_type": "stream",
     "text": [
      "num aberrant ttls 0.0\n",
      "29849 (29849,) (29849, 21) 97280\n"
     ]
    },
    {
     "name": "stderr",
     "output_type": "stream",
     "text": [
      "C:\\Users\\mplitt\\Anaconda3\\lib\\site-packages\\pandas\\core\\frame.py:4034: SettingWithCopyWarning: \n",
      "A value is trying to be set on a copy of a slice from a DataFrame\n",
      "\n",
      "See the caveats in the documentation: http://pandas.pydata.org/pandas-docs/stable/indexing.html#indexing-view-versus-copy\n",
      "  downcast=downcast, **kwargs)\n"
     ]
    },
    {
     "name": "stdout",
     "output_type": "stream",
     "text": [
      "frame diff 0\n"
     ]
    }
   ],
   "source": [
    "\n",
    "VRDat,C, S, A = pp.load_scan_sess(sess,fneu_coeff=.7,analysis='s2p')\n",
    "trial_info, tstart_inds, teleport_inds = u.by_trial_info(VRDat)\n",
    "pcnt = np.zeros([VRDat.shape[0],])\n",
    "for i,(start,stop) in enumerate(zip(tstart_inds,teleport_inds)):\n",
    "    pcnt[start:stop] = int(trial_info['rewards'][i]>0)\n",
    "\n",
    "S = sp.ndimage.filters.gaussian_filter1d(S,10.,axis=0)"
   ]
  },
  {
   "cell_type": "code",
   "execution_count": 32,
   "metadata": {},
   "outputs": [
    {
     "name": "stdout",
     "output_type": "stream",
     "text": [
      "(29849, 504)\n",
      "(29849,)\n",
      "(4471,) (4471, 504)\n"
     ]
    },
    {
     "data": {
      "image/png": "[encoded data removed]",
      "text/plain": [
       "<Figure size 432x288 with 4 Axes>"
      ]
     },
     "metadata": {
      "needs_background": "light"
     },
     "output_type": "display_data"
    }
   ],
   "source": [
    "\n",
    "f,ax = plot_pca(S,VRDat,pcnt,plot_err=True)"
   ]
  },
  {
   "cell_type": "code",
   "execution_count": 23,
   "metadata": {},
   "outputs": [
    {
     "data": {
      "text/plain": [
       "13383.0"
      ]
     },
     "execution_count": 23,
     "metadata": {},
     "output_type": "execute_result"
    }
   ],
   "source": [
    "sum(pcnt)"
   ]
  },
  {
   "cell_type": "code",
   "execution_count": 24,
   "metadata": {},
   "outputs": [
    {
     "data": {
      "text/plain": [
       "(23163,)"
      ]
     },
     "execution_count": 24,
     "metadata": {},
     "output_type": "execute_result"
    }
   ],
   "source": [
    "pcnt.shape"
   ]
  },
  {
   "cell_type": "code",
   "execution_count": null,
   "metadata": {},
   "outputs": [],
   "source": []
  }
 ],
 "metadata": {
  "kernelspec": {
   "display_name": "Python 3",
   "language": "python",
   "name": "python3"
  },
  "language_info": {
   "codemirror_mode": {
    "name": "ipython",
    "version": 3
   },
   "file_extension": ".py",
   "mimetype": "text/x-python",
   "name": "python",
   "nbconvert_exporter": "python",
   "pygments_lexer": "ipython3",
   "version": "3.7.3"
  }
 },
 "nbformat": 4,
 "nbformat_minor": 2
}
