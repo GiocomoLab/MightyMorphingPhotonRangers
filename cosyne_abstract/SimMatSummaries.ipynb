{
 "cells": [
  {
   "cell_type": "code",
   "execution_count": 1,
   "metadata": {},
   "outputs": [
    {
     "name": "stderr",
     "output_type": "stream",
     "text": [
      "C:\\Users\\mplitt\\Anaconda3\\lib\\site-packages\\h5py\\__init__.py:36: FutureWarning: Conversion of the second argument of issubdtype from `float` to `np.floating` is deprecated. In future, it will be treated as `np.float64 == np.dtype(float).type`.\n",
      "  from ._conv import register_converters as _register_converters\n"
     ]
    }
   ],
   "source": [
    "import matplotlib.pyplot as plt\n",
    "import numpy as np\n",
    "import scipy as sp\n",
    "import os\n",
    "import PlaceCellAnalysis as pc\n",
    "os.sys.path.append('../')\n",
    "import utilities as u\n",
    "import preprocessing as pp\n",
    "import behavior as b\n",
    "import BayesianDecoding as bd\n",
    "import SimilarityMatrixAnalysis as sm\n",
    "import pickle\n",
    "\n",
    "\n",
    "%load_ext autoreload\n",
    "%autoreload 2\n",
    "\n",
    "%matplotlib inline"
   ]
  },
  {
   "cell_type": "code",
   "execution_count": 2,
   "metadata": {},
   "outputs": [],
   "source": [
    "df = pp.load_session_db()\n",
    "df = df[df['RewardCount']>20]\n",
    "df = df[df['Imaging']==1]\n",
    "df = df.sort_values(['MouseName','DateTime','SessionNumber'])\n",
    "\n",
    "mouse = '4139224.3'\n",
    "\n",
    "df_mouse = df[df['MouseName'].str.match(mouse)]\n",
    "df_sess = df_mouse[df_mouse['Track'].str.match('TwoTower_Timeout')]\n",
    "df_sess = df_sess[df_sess['ImagingRegion'].str.match('CA1') | df_sess['ImagingRegion'].str.match('')]"
   ]
  },
  {
   "cell_type": "code",
   "execution_count": null,
   "metadata": {},
   "outputs": [],
   "source": [
    "mice = ['4139190.1','4139212.2','4139219.2','4139219.3','4139224.2','4139224.3','4139224.5']\n"
   ]
  },
  {
   "cell_type": "code",
   "execution_count": null,
   "metadata": {},
   "outputs": [
    {
     "name": "stderr",
     "output_type": "stream",
     "text": [
      "C:\\Users\\mplitt\\Anaconda3\\lib\\site-packages\\ipykernel_launcher.py:72: RuntimeWarning: invalid value encountered in true_divide\n",
      "C:\\Users\\mplitt\\Anaconda3\\lib\\site-packages\\ipykernel_launcher.py:73: RuntimeWarning: invalid value encountered in true_divide\n",
      "C:\\Users\\mplitt\\Anaconda3\\lib\\site-packages\\matplotlib\\colors.py:897: UserWarning: Warning: converting a masked element to nan.\n",
      "  dtype = np.min_scalar_type(value)\n",
      "C:\\Users\\mplitt\\Anaconda3\\lib\\site-packages\\numpy\\ma\\core.py:716: UserWarning: Warning: converting a masked element to nan.\n",
      "  data = np.array(a, copy=False, subok=subok)\n",
      "C:\\Users\\mplitt\\Anaconda3\\lib\\site-packages\\matplotlib\\pyplot.py:528: RuntimeWarning: More than 20 figures have been opened. Figures created through the pyplot interface (`matplotlib.pyplot.figure`) are retained until explicitly closed and may consume too much memory. (To control this warning, see the rcParam `figure.max_open_warning`).\n",
      "  max_open_warning, RuntimeWarning)\n"
     ]
    }
   ],
   "source": [
    "\n",
    "UUU,SSS = np.zeros([5,5]),np.zeros([450,450])\n",
    "for mouse in mice:\n",
    "# mouse = '4139224.3'\n",
    "\n",
    "    df_mouse = df[df['MouseName'].str.match(mouse)]\n",
    "    df_sess = df_mouse[df_mouse['Track'].str.match('TwoTower_Timeout')]\n",
    "    df_sess = df_sess[df_sess['ImagingRegion'].str.match('CA1') | df_sess['ImagingRegion'].str.match('')]\n",
    "\n",
    "    dirbase = \"G:\\\\My Drive\\\\Figures\\\\TwoTower\\\\COSYNE2019\\\\SimMats\\\\%s\\\\\" % mouse\n",
    "\n",
    "    U0,U1 = [],[]\n",
    "    UU = np.zeros([5,5])\n",
    "    SS= np.zeros([450,450])\n",
    "    count = 0\n",
    "    for i in range(df_sess.shape[0]):\n",
    "        try:\n",
    "            fname = \"%s\\\\%s_%s_%d_\" % (dirbase,mouse,df_sess['DateFolder'].iloc[i],df_sess['SessionNumber'].iloc[i])\n",
    "            with open(fname+\"results_corr.pkl\",'rb') as f:\n",
    "                sm_res = pickle.load(f)\n",
    "\n",
    "            S_corr = sm_res['S']\n",
    "\n",
    "        #     VRDat=pp.behavior_dataframe(df_sess['data file'].iloc[i])\n",
    "            #VRDat,C,Cd, Spikes, A = pp.load_scan_sess(df_sess.iloc[i])\n",
    "            #trial_info, tstart_inds, teleport_inds = u.by_trial_info(VRDat)\n",
    "            if S_corr.shape[0]>200:\n",
    "                ms = np.array([0, .25, .5, .75,1.])\n",
    "\n",
    "            else:\n",
    "                ms = np.array([0.,1.])\n",
    "        #     ms = np.unique(trial_info['morphs'])\n",
    "            m = ms.shape[0]\n",
    "\n",
    "            U = np.zeros([m,m,S_corr.shape[2]])\n",
    "            for p in range(S_corr.shape[2]):\n",
    "                U[:,:,p], trash = sm.morph_mean_simmat(S_corr[:,:,p],m)\n",
    "            f_U,ax_U = plt.subplots(figsize=[5,5])\n",
    "            ax_U.imshow(np.nanmean(U,axis=-1),cmap='Greys')\n",
    "            f_U.savefig(fname+\"U_corr.pdf\",format='pdf')\n",
    "            f_U.savefig(fname+\"U_corr.svg\",format='svg')\n",
    "            \n",
    "            S_corr[np.isnan(S_corr)]=0\n",
    "            U[np.isnan(U)]=0\n",
    "            if m ==5:\n",
    "                SS += np.nanmean(S_corr,axis=-1)\n",
    "                UU += np.nanmean(U,axis=-1)\n",
    "                count += 1\n",
    "            f,ax = plt.subplots(figsize=[5,3])\n",
    "\n",
    "\n",
    "            ax.errorbar(ms,np.nanmean(U[0,:,:],axis=-1),np.nanstd(U[0,:,:],axis=-1),\n",
    "                               color=plt.cm.cool(np.float(0)),ecolor=plt.cm.cool(np.float(0)))\n",
    "            U0.append(np.nanmean(U[0,:,:],axis=-1))\n",
    "\n",
    "            ax.errorbar(ms,np.nanmean(U[-1,:,:],axis=-1),np.nanstd(U[-1,:,:],axis=-1),\n",
    "                               color=plt.cm.cool(np.float(1)),ecolor=plt.cm.cool(np.float(1)))\n",
    "            U1.append(np.nanmean(U[-1,:,:],axis=-1))\n",
    "\n",
    "            f.savefig(fname+\"Uline_corr.pdf\",format='pdf')\n",
    "            f.savefig(fname+\"Uline_corr.svg\",format='svg')\n",
    "\n",
    "            ax.spines['top'].set_visible(False)\n",
    "            ax.spines['right'].set_visible(False)\n",
    "            ax.set_ylim([.1, .3])\n",
    "            ax.set_yticks([.1,.2,.3])\n",
    "            ax.set_xticks([0,.25,.5,.75,1.])\n",
    "        except:\n",
    "            pass\n",
    "\n",
    "\n",
    "    SS/=count\n",
    "    UU/=count\n",
    "    \n",
    "    f_S,ax_S = sm.plot_simmat(SS,5)\n",
    "    f_S.savefig(\"G:\\\\My Drive\\\\Figures\\\\TwoTower\\\\COSYNE2019\\\\SimMats\\\\%s_S_corr.pdf\" % mouse,format='pdf')\n",
    "    f_S.savefig( \"G:\\\\My Drive\\\\Figures\\\\TwoTower\\\\COSYNE2019\\\\SimMats\\\\%s_S_corr.svg\" % mouse,format='svg')\n",
    "\n",
    "    f_U,ax_U=plt.subplots()\n",
    "    ax_U.imshow(UU,cmap='Greys')\n",
    "    f_U.savefig(\"G:\\\\My Drive\\\\Figures\\\\TwoTower\\\\COSYNE2019\\\\SimMats\\\\%s_U_corr.pdf\" % mouse,format='pdf')\n",
    "    f_U.savefig( \"G:\\\\My Drive\\\\Figures\\\\TwoTower\\\\COSYNE2019\\\\SimMats\\\\%s_U_corr.svg\" % mouse,format='svg')\n",
    "    \n",
    "    SSS+=SS\n",
    "    UUU+=UU"
   ]
  },
  {
   "cell_type": "code",
   "execution_count": null,
   "metadata": {},
   "outputs": [],
   "source": [
    "f_S,ax_S = sm.plot_simmat(SSS,5)\n",
    "f_S.savefig(\"G:\\\\My Drive\\\\Figures\\\\TwoTower\\\\COSYNE2019\\\\SimMats\\\\MEAN_S_corr.pdf\" ,format='pdf')\n",
    "f_S.savefig( \"G:\\\\My Drive\\\\Figures\\\\TwoTower\\\\COSYNE2019\\\\SimMats\\\\MEAN_S_corr.svg\",format='svg')\n",
    "\n",
    "f_U,ax_U=plt.subplots()\n",
    "ax_U.imshow(UUU,cmap='Greys')\n",
    "f_U.savefig(\"G:\\\\My Drive\\\\Figures\\\\TwoTower\\\\COSYNE2019\\\\SimMats\\\\MEAN_U_corr.pdf\" ,format='pdf')\n",
    "f_U.savefig( \"G:\\\\My Drive\\\\Figures\\\\TwoTower\\\\COSYNE2019\\\\SimMats\\\\MEAN_U_corr.svg\",format='svg')"
   ]
  },
  {
   "cell_type": "code",
   "execution_count": null,
   "metadata": {},
   "outputs": [],
   "source": []
  }
 ],
 "metadata": {
  "kernelspec": {
   "display_name": "Python 3",
   "language": "python",
   "name": "python3"
  },
  "language_info": {
   "codemirror_mode": {
    "name": "ipython",
    "version": 3
   },
   "file_extension": ".py",
   "mimetype": "text/x-python",
   "name": "python",
   "nbconvert_exporter": "python",
   "pygments_lexer": "ipython3",
   "version": "3.6.4"
  }
 },
 "nbformat": 4,
 "nbformat_minor": 2
}
