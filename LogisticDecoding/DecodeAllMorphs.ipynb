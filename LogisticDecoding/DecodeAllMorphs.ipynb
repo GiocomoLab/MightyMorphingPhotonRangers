{
 "cells": [
  {
   "cell_type": "code",
   "execution_count": 1,
   "metadata": {},
   "outputs": [],
   "source": [
    "import matplotlib.pyplot as plt\n",
    "import numpy as np\n",
    "import scipy as sp\n",
    "import scipy.signal\n",
    "import sqlite3 as sql\n",
    "import os\n",
    "import pandas as pd\n",
    "from datetime import datetime\n",
    "from glob import glob\n",
    "import sklearn as sk\n",
    "import sklearn.linear_model\n",
    "\n",
    "os.sys.path.append('../')\n",
    "import PlaceCellAnalysis as pc\n",
    "import utilities as u\n",
    "import preprocessing as pp\n",
    "import behavior as b\n",
    "import BayesianDecoding as bd\n",
    "\n",
    "\n",
    "%load_ext autoreload\n",
    "%autoreload 2\n",
    "\n",
    "%matplotlib inline"
   ]
  },
  {
   "cell_type": "code",
   "execution_count": 2,
   "metadata": {},
   "outputs": [
    {
     "data": {
      "text/html": [
       "<div>\n",
       "<style scoped>\n",
       "    .dataframe tbody tr th:only-of-type {\n",
       "        vertical-align: middle;\n",
       "    }\n",
       "\n",
       "    .dataframe tbody tr th {\n",
       "        vertical-align: top;\n",
       "    }\n",
       "\n",
       "    .dataframe thead th {\n",
       "        text-align: right;\n",
       "    }\n",
       "</style>\n",
       "<table border=\"1\" class=\"dataframe\">\n",
       "  <thead>\n",
       "    <tr style=\"text-align: right;\">\n",
       "      <th></th>\n",
       "      <th>MouseName</th>\n",
       "      <th>DateFolder</th>\n",
       "      <th>SessionNumber</th>\n",
       "      <th>Track</th>\n",
       "      <th>RewardCount</th>\n",
       "      <th>Imaging</th>\n",
       "      <th>ImagingRegion</th>\n",
       "      <th>DateTime</th>\n",
       "      <th>data file</th>\n",
       "      <th>scanfile</th>\n",
       "      <th>scanmat</th>\n",
       "    </tr>\n",
       "  </thead>\n",
       "  <tbody>\n",
       "    <tr>\n",
       "      <th>823</th>\n",
       "      <td>4139224.3</td>\n",
       "      <td>18_10_2018</td>\n",
       "      <td>1</td>\n",
       "      <td>TwoTower_noTimeout</td>\n",
       "      <td>61</td>\n",
       "      <td>1</td>\n",
       "      <td>CA1</td>\n",
       "      <td>2018-10-18</td>\n",
       "      <td>G:\\My Drive\\\\VR_Data\\TwoTower\\4139224.3\\18_10_...</td>\n",
       "      <td>G:\\My Drive\\2P_Data\\TwoTower\\4139224.3\\18_10_2...</td>\n",
       "      <td>G:\\My Drive\\2P_Data\\TwoTower\\4139224.3\\18_10_2...</td>\n",
       "    </tr>\n",
       "    <tr>\n",
       "      <th>825</th>\n",
       "      <td>4139224.3</td>\n",
       "      <td>18_10_2018</td>\n",
       "      <td>3</td>\n",
       "      <td>TwoTower_noTimeout</td>\n",
       "      <td>41</td>\n",
       "      <td>1</td>\n",
       "      <td>CA1</td>\n",
       "      <td>2018-10-18</td>\n",
       "      <td>G:\\My Drive\\\\VR_Data\\TwoTower\\4139224.3\\18_10_...</td>\n",
       "      <td>G:\\My Drive\\2P_Data\\TwoTower\\4139224.3\\18_10_2...</td>\n",
       "      <td>G:\\My Drive\\2P_Data\\TwoTower\\4139224.3\\18_10_2...</td>\n",
       "    </tr>\n",
       "    <tr>\n",
       "      <th>859</th>\n",
       "      <td>4139224.3</td>\n",
       "      <td>20_10_2018</td>\n",
       "      <td>2</td>\n",
       "      <td>TwoTower_noTimeout</td>\n",
       "      <td>60</td>\n",
       "      <td>1</td>\n",
       "      <td>CA1</td>\n",
       "      <td>2018-10-20</td>\n",
       "      <td>G:\\My Drive\\\\VR_Data\\TwoTower\\4139224.3\\20_10_...</td>\n",
       "      <td>G:\\My Drive\\2P_Data\\TwoTower\\4139224.3\\20_10_2...</td>\n",
       "      <td>G:\\My Drive\\2P_Data\\TwoTower\\4139224.3\\20_10_2...</td>\n",
       "    </tr>\n",
       "    <tr>\n",
       "      <th>897</th>\n",
       "      <td>4139224.3</td>\n",
       "      <td>23_10_2018</td>\n",
       "      <td>1</td>\n",
       "      <td>TwoTower_Timeout</td>\n",
       "      <td>48</td>\n",
       "      <td>1</td>\n",
       "      <td>CA1</td>\n",
       "      <td>2018-10-23</td>\n",
       "      <td>G:\\My Drive\\\\VR_Data\\TwoTower\\4139224.3\\23_10_...</td>\n",
       "      <td>G:\\My Drive\\2P_Data\\TwoTower\\4139224.3\\23_10_2...</td>\n",
       "      <td>G:\\My Drive\\2P_Data\\TwoTower\\4139224.3\\23_10_2...</td>\n",
       "    </tr>\n",
       "    <tr>\n",
       "      <th>927</th>\n",
       "      <td>4139224.3</td>\n",
       "      <td>25_10_2018</td>\n",
       "      <td>1</td>\n",
       "      <td>TwoTower_Timeout</td>\n",
       "      <td>69</td>\n",
       "      <td>1</td>\n",
       "      <td></td>\n",
       "      <td>2018-10-25</td>\n",
       "      <td>G:\\My Drive\\\\VR_Data\\TwoTower\\4139224.3\\25_10_...</td>\n",
       "      <td>G:\\My Drive\\2P_Data\\TwoTower\\4139224.3\\25_10_2...</td>\n",
       "      <td>G:\\My Drive\\2P_Data\\TwoTower\\4139224.3\\25_10_2...</td>\n",
       "    </tr>\n",
       "    <tr>\n",
       "      <th>951</th>\n",
       "      <td>4139224.3</td>\n",
       "      <td>26_10_2018</td>\n",
       "      <td>3</td>\n",
       "      <td>TwoTower_Timeout</td>\n",
       "      <td>72</td>\n",
       "      <td>1</td>\n",
       "      <td>CA1</td>\n",
       "      <td>2018-10-26</td>\n",
       "      <td>G:\\My Drive\\\\VR_Data\\TwoTower\\4139224.3\\26_10_...</td>\n",
       "      <td>G:\\My Drive\\2P_Data\\TwoTower\\4139224.3\\26_10_2...</td>\n",
       "      <td>G:\\My Drive\\2P_Data\\TwoTower\\4139224.3\\26_10_2...</td>\n",
       "    </tr>\n",
       "    <tr>\n",
       "      <th>967</th>\n",
       "      <td>4139224.3</td>\n",
       "      <td>27_10_2018</td>\n",
       "      <td>4</td>\n",
       "      <td>TwoTower_Timeout</td>\n",
       "      <td>67</td>\n",
       "      <td>1</td>\n",
       "      <td>CA1</td>\n",
       "      <td>2018-10-27</td>\n",
       "      <td>G:\\My Drive\\\\VR_Data\\TwoTower\\4139224.3\\27_10_...</td>\n",
       "      <td>G:\\My Drive\\2P_Data\\TwoTower\\4139224.3\\27_10_2...</td>\n",
       "      <td>G:\\My Drive\\2P_Data\\TwoTower\\4139224.3\\27_10_2...</td>\n",
       "    </tr>\n",
       "    <tr>\n",
       "      <th>977</th>\n",
       "      <td>4139224.3</td>\n",
       "      <td>29_10_2018</td>\n",
       "      <td>1</td>\n",
       "      <td>TwoTower_Timeout</td>\n",
       "      <td>71</td>\n",
       "      <td>1</td>\n",
       "      <td>CA1</td>\n",
       "      <td>2018-10-29</td>\n",
       "      <td>G:\\My Drive\\\\VR_Data\\TwoTower\\4139224.3\\29_10_...</td>\n",
       "      <td>G:\\My Drive\\2P_Data\\TwoTower\\4139224.3\\29_10_2...</td>\n",
       "      <td>G:\\My Drive\\2P_Data\\TwoTower\\4139224.3\\29_10_2...</td>\n",
       "    </tr>\n",
       "    <tr>\n",
       "      <th>988</th>\n",
       "      <td>4139224.3</td>\n",
       "      <td>30_10_2018</td>\n",
       "      <td>1</td>\n",
       "      <td>TwoTower_Timeout</td>\n",
       "      <td>78</td>\n",
       "      <td>1</td>\n",
       "      <td>CA1</td>\n",
       "      <td>2018-10-30</td>\n",
       "      <td>G:\\My Drive\\\\VR_Data\\TwoTower\\4139224.3\\30_10_...</td>\n",
       "      <td>G:\\My Drive\\2P_Data\\TwoTower\\4139224.3\\30_10_2...</td>\n",
       "      <td>G:\\My Drive\\2P_Data\\TwoTower\\4139224.3\\30_10_2...</td>\n",
       "    </tr>\n",
       "    <tr>\n",
       "      <th>1001</th>\n",
       "      <td>4139224.3</td>\n",
       "      <td>31_10_2018</td>\n",
       "      <td>2</td>\n",
       "      <td>TwoTower_Timeout</td>\n",
       "      <td>66</td>\n",
       "      <td>1</td>\n",
       "      <td>CA1</td>\n",
       "      <td>2018-10-31</td>\n",
       "      <td>G:\\My Drive\\\\VR_Data\\TwoTower\\4139224.3\\31_10_...</td>\n",
       "      <td>G:\\My Drive\\2P_Data\\TwoTower\\4139224.3\\31_10_2...</td>\n",
       "      <td>G:\\My Drive\\2P_Data\\TwoTower\\4139224.3\\31_10_2...</td>\n",
       "    </tr>\n",
       "    <tr>\n",
       "      <th>1012</th>\n",
       "      <td>4139224.3</td>\n",
       "      <td>02_11_2018</td>\n",
       "      <td>1</td>\n",
       "      <td>TwoTower_Timeout</td>\n",
       "      <td>64</td>\n",
       "      <td>1</td>\n",
       "      <td>CA1</td>\n",
       "      <td>2018-11-02</td>\n",
       "      <td>G:\\My Drive\\\\VR_Data\\TwoTower\\4139224.3\\02_11_...</td>\n",
       "      <td>G:\\My Drive\\2P_Data\\TwoTower\\4139224.3\\02_11_2...</td>\n",
       "      <td>G:\\My Drive\\2P_Data\\TwoTower\\4139224.3\\02_11_2...</td>\n",
       "    </tr>\n",
       "  </tbody>\n",
       "</table>\n",
       "</div>"
      ],
      "text/plain": [
       "      MouseName  DateFolder  SessionNumber               Track  RewardCount  \\\n",
       "823   4139224.3  18_10_2018              1  TwoTower_noTimeout           61   \n",
       "825   4139224.3  18_10_2018              3  TwoTower_noTimeout           41   \n",
       "859   4139224.3  20_10_2018              2  TwoTower_noTimeout           60   \n",
       "897   4139224.3  23_10_2018              1    TwoTower_Timeout           48   \n",
       "927   4139224.3  25_10_2018              1    TwoTower_Timeout           69   \n",
       "951   4139224.3  26_10_2018              3    TwoTower_Timeout           72   \n",
       "967   4139224.3  27_10_2018              4    TwoTower_Timeout           67   \n",
       "977   4139224.3  29_10_2018              1    TwoTower_Timeout           71   \n",
       "988   4139224.3  30_10_2018              1    TwoTower_Timeout           78   \n",
       "1001  4139224.3  31_10_2018              2    TwoTower_Timeout           66   \n",
       "1012  4139224.3  02_11_2018              1    TwoTower_Timeout           64   \n",
       "\n",
       "      Imaging ImagingRegion   DateTime  \\\n",
       "823         1           CA1 2018-10-18   \n",
       "825         1           CA1 2018-10-18   \n",
       "859         1           CA1 2018-10-20   \n",
       "897         1           CA1 2018-10-23   \n",
       "927         1               2018-10-25   \n",
       "951         1           CA1 2018-10-26   \n",
       "967         1           CA1 2018-10-27   \n",
       "977         1           CA1 2018-10-29   \n",
       "988         1           CA1 2018-10-30   \n",
       "1001        1           CA1 2018-10-31   \n",
       "1012        1           CA1 2018-11-02   \n",
       "\n",
       "                                              data file  \\\n",
       "823   G:\\My Drive\\\\VR_Data\\TwoTower\\4139224.3\\18_10_...   \n",
       "825   G:\\My Drive\\\\VR_Data\\TwoTower\\4139224.3\\18_10_...   \n",
       "859   G:\\My Drive\\\\VR_Data\\TwoTower\\4139224.3\\20_10_...   \n",
       "897   G:\\My Drive\\\\VR_Data\\TwoTower\\4139224.3\\23_10_...   \n",
       "927   G:\\My Drive\\\\VR_Data\\TwoTower\\4139224.3\\25_10_...   \n",
       "951   G:\\My Drive\\\\VR_Data\\TwoTower\\4139224.3\\26_10_...   \n",
       "967   G:\\My Drive\\\\VR_Data\\TwoTower\\4139224.3\\27_10_...   \n",
       "977   G:\\My Drive\\\\VR_Data\\TwoTower\\4139224.3\\29_10_...   \n",
       "988   G:\\My Drive\\\\VR_Data\\TwoTower\\4139224.3\\30_10_...   \n",
       "1001  G:\\My Drive\\\\VR_Data\\TwoTower\\4139224.3\\31_10_...   \n",
       "1012  G:\\My Drive\\\\VR_Data\\TwoTower\\4139224.3\\02_11_...   \n",
       "\n",
       "                                               scanfile  \\\n",
       "823   G:\\My Drive\\2P_Data\\TwoTower\\4139224.3\\18_10_2...   \n",
       "825   G:\\My Drive\\2P_Data\\TwoTower\\4139224.3\\18_10_2...   \n",
       "859   G:\\My Drive\\2P_Data\\TwoTower\\4139224.3\\20_10_2...   \n",
       "897   G:\\My Drive\\2P_Data\\TwoTower\\4139224.3\\23_10_2...   \n",
       "927   G:\\My Drive\\2P_Data\\TwoTower\\4139224.3\\25_10_2...   \n",
       "951   G:\\My Drive\\2P_Data\\TwoTower\\4139224.3\\26_10_2...   \n",
       "967   G:\\My Drive\\2P_Data\\TwoTower\\4139224.3\\27_10_2...   \n",
       "977   G:\\My Drive\\2P_Data\\TwoTower\\4139224.3\\29_10_2...   \n",
       "988   G:\\My Drive\\2P_Data\\TwoTower\\4139224.3\\30_10_2...   \n",
       "1001  G:\\My Drive\\2P_Data\\TwoTower\\4139224.3\\31_10_2...   \n",
       "1012  G:\\My Drive\\2P_Data\\TwoTower\\4139224.3\\02_11_2...   \n",
       "\n",
       "                                                scanmat  \n",
       "823   G:\\My Drive\\2P_Data\\TwoTower\\4139224.3\\18_10_2...  \n",
       "825   G:\\My Drive\\2P_Data\\TwoTower\\4139224.3\\18_10_2...  \n",
       "859   G:\\My Drive\\2P_Data\\TwoTower\\4139224.3\\20_10_2...  \n",
       "897   G:\\My Drive\\2P_Data\\TwoTower\\4139224.3\\23_10_2...  \n",
       "927   G:\\My Drive\\2P_Data\\TwoTower\\4139224.3\\25_10_2...  \n",
       "951   G:\\My Drive\\2P_Data\\TwoTower\\4139224.3\\26_10_2...  \n",
       "967   G:\\My Drive\\2P_Data\\TwoTower\\4139224.3\\27_10_2...  \n",
       "977   G:\\My Drive\\2P_Data\\TwoTower\\4139224.3\\29_10_2...  \n",
       "988   G:\\My Drive\\2P_Data\\TwoTower\\4139224.3\\30_10_2...  \n",
       "1001  G:\\My Drive\\2P_Data\\TwoTower\\4139224.3\\31_10_2...  \n",
       "1012  G:\\My Drive\\2P_Data\\TwoTower\\4139224.3\\02_11_2...  "
      ]
     },
     "execution_count": 2,
     "metadata": {},
     "output_type": "execute_result"
    }
   ],
   "source": [
    "# load session\n",
    "mouse = '4139224.3'\n",
    "df = pp.load_session_db()\n",
    "\n",
    "\n",
    "#df = df[df['RewardCount']>30]\n",
    "df = df[df['Imaging']==1]\n",
    "df = df.sort_values(['MouseName','DateTime','SessionNumber'])\n",
    "\n",
    "df_mouse = df[df['MouseName'].str.match(mouse)]\n",
    "df_mouse = df_mouse[df_mouse['Track'].str.match('TwoTower_noTimeout') | df_mouse['Track'].str.match('TwoTower_Timeout')]\n",
    "df_mouse"
   ]
  },
  {
   "cell_type": "code",
   "execution_count": 20,
   "metadata": {},
   "outputs": [
    {
     "name": "stdout",
     "output_type": "stream",
     "text": [
      "G:\\My Drive\\2P_Data\\TwoTower\\4139224.3\\30_10_2018\\TwoTower_Timeout\\TwoTower_Timeout_001_002.mat\n"
     ]
    },
    {
     "name": "stderr",
     "output_type": "stream",
     "text": [
      "C:\\Users\\mplitt\\MightyMorphingPhotonRangers\\preprocessing.py:203: SettingWithCopyWarning: \n",
      "A value is trying to be set on a copy of a slice from a DataFrame.\n",
      "Try using .loc[row_indexer,col_indexer] = value instead\n",
      "\n",
      "See the caveats in the documentation: http://pandas.pydata.org/pandas-docs/stable/indexing.html#indexing-view-versus-copy\n",
      "  #print(np.arange(numCaFrames).shape,np.arange(0,1/fr*numCaFrames,1/fr).shape,fr,numCaFrames)\n",
      "C:\\Users\\mplitt\\Anaconda3\\lib\\site-packages\\pandas\\core\\frame.py:3790: SettingWithCopyWarning: \n",
      "A value is trying to be set on a copy of a slice from a DataFrame\n",
      "\n",
      "See the caveats in the documentation: http://pandas.pydata.org/pandas-docs/stable/indexing.html#indexing-view-versus-copy\n",
      "  downcast=downcast, **kwargs)\n"
     ]
    },
    {
     "name": "stdout",
     "output_type": "stream",
     "text": [
      "G:\\My Drive\\2P_Data\\TwoTower\\4139224.3\\30_10_2018\\TwoTower_Timeout\\TwoTower_Timeout_001_002.mat\n",
      "#subsystem#not made into numpy array\n",
      "Anot made into numpy array\n",
      "frame diff 0\n"
     ]
    },
    {
     "name": "stderr",
     "output_type": "stream",
     "text": [
      "C:\\Users\\mplitt\\MightyMorphingPhotonRangers\\utilities.py:203: RuntimeWarning: Mean of empty slice\n",
      "  zone1_speed[i] = np.nanmean(sub_frame.loc[zone1_mask,'speed'])\n"
     ]
    }
   ],
   "source": [
    "VRDat,C,Cd, S, A = pp.load_scan_sess(df_mouse.iloc[8])\n",
    "trial_info, tstart_inds, teleport_inds = u.by_trial_info(VRDat)"
   ]
  },
  {
   "cell_type": "code",
   "execution_count": 21,
   "metadata": {},
   "outputs": [
    {
     "name": "stdout",
     "output_type": "stream",
     "text": [
      "Index(['time', 'pos', 'dz', 'morph', 'lick', 'reward', 'tstart', 'teleport',\n",
      "       'clickOn', 'towerJitter', 'wallJitter', 'bckgndJitter', 'speed',\n",
      "       'lick rate', 'ca inds', 'trial number'],\n",
      "      dtype='object')\n"
     ]
    }
   ],
   "source": [
    "print(VRDat.columns)"
   ]
  },
  {
   "cell_type": "code",
   "execution_count": 22,
   "metadata": {},
   "outputs": [],
   "source": [
    "morphs = VRDat.morph._values*4\n",
    "bin_edges= np.arange(0,451,50)\n",
    "pos_binned= np.digitize(VRDat.pos._values,bin_edges)\n",
    "y = pos_binned + morphs*pos_binned.max()\n",
    "mask = (VRDat.pos>0) & (VRDat.pos<450)"
   ]
  },
  {
   "cell_type": "code",
   "execution_count": 24,
   "metadata": {},
   "outputs": [
    {
     "data": {
      "text/plain": [
       "[<matplotlib.lines.Line2D at 0x2148f27dd30>]"
      ]
     },
     "execution_count": 24,
     "metadata": {},
     "output_type": "execute_result"
    },
    {
     "data": {
      "image/png": "[encoded data removed]",
      "text/plain": [
       "<Figure size 432x288 with 1 Axes>"
      ]
     },
     "metadata": {
      "needs_background": "light"
     },
     "output_type": "display_data"
    }
   ],
   "source": [
    "f,ax = plt.subplots()\n",
    "ax.plot(y[:5000])"
   ]
  },
  {
   "cell_type": "code",
   "execution_count": null,
   "metadata": {},
   "outputs": [
    {
     "name": "stdout",
     "output_type": "stream",
     "text": [
      "0\n"
     ]
    },
    {
     "name": "stderr",
     "output_type": "stream",
     "text": [
      "C:\\Users\\mplitt\\Anaconda3\\lib\\site-packages\\sklearn\\model_selection\\_split.py:605: Warning: The least populated class in y has only 1 members, which is too few. The minimum number of members in any class cannot be less than n_splits=3.\n",
      "  % (min_groups, self.n_splits)), Warning)\n"
     ]
    },
    {
     "name": "stdout",
     "output_type": "stream",
     "text": [
      "1\n",
      "2\n",
      "3\n",
      "4\n",
      "5\n",
      "6\n",
      "7\n",
      "8\n",
      "9\n",
      "10\n",
      "11\n",
      "12\n",
      "13\n"
     ]
    }
   ],
   "source": [
    "\n",
    "LOO = u.LOTrialO(tstart_inds.tolist(),teleport_inds.tolist(),C.shape[0])\n",
    "yhat = np.zeros(y.shape)-1\n",
    "\n",
    "for t in range(tstart_inds.shape[0]):\n",
    "    print(t)\n",
    "    train,test = LOO.next()\n",
    "    model = sk.linear_model.LogisticRegressionCV()\n",
    "    model.fit(C[train,:],y[train])\n",
    "    yhat[test] = model.predict(C[test,:])"
   ]
  },
  {
   "cell_type": "code",
   "execution_count": 30,
   "metadata": {},
   "outputs": [
    {
     "name": "stdout",
     "output_type": "stream",
     "text": [
      "[[  0.   0.   0. ...   0.   0.   0.]\n",
      " [216. 127.  56. ...   0.   0.   0.]\n",
      " [374. 129.   9. ...   0.   0.   0.]\n",
      " ...\n",
      " [  0.  20. 178. ...   0.   0.   0.]\n",
      " [ 15.  48. 161. ...   0.   0.   0.]\n",
      " [  0.   6.  93. ...   0.   0.   0.]]\n"
     ]
    },
    {
     "data": {
      "text/plain": [
       "<matplotlib.image.AxesImage at 0x2148f5b2748>"
      ]
     },
     "execution_count": 30,
     "metadata": {},
     "output_type": "execute_result"
    },
    {
     "data": {
      "image/png": "[encoded data removed]",
      "text/plain": [
       "<Figure size 432x288 with 1 Axes>"
      ]
     },
     "metadata": {
      "needs_background": "light"
     },
     "output_type": "display_data"
    }
   ],
   "source": [
    "c,tr,tr = np.histogram2d(y,yhat,bins=np.unique(y))\n",
    "f,ax = plt.subplots()\n",
    "print(c)\n",
    "ax.imshow(c)"
   ]
  },
  {
   "cell_type": "code",
   "execution_count": 32,
   "metadata": {},
   "outputs": [
    {
     "data": {
      "text/plain": [
       "[<matplotlib.lines.Line2D at 0x2148f663358>]"
      ]
     },
     "execution_count": 32,
     "metadata": {},
     "output_type": "execute_result"
    },
    {
     "data": {
      "image/png": "[encoded data removed]",
      "text/plain": [
       "<Figure size 432x288 with 1 Axes>"
      ]
     },
     "metadata": {
      "needs_background": "light"
     },
     "output_type": "display_data"
    }
   ],
   "source": [
    "f,ax = plt.subplots()\n",
    "ax.plot(yhat)\n",
    "ax.plot(y)"
   ]
  },
  {
   "cell_type": "code",
   "execution_count": null,
   "metadata": {},
   "outputs": [],
   "source": []
  }
 ],
 "metadata": {
  "kernelspec": {
   "display_name": "Python 3",
   "language": "python",
   "name": "python3"
  },
  "language_info": {
   "codemirror_mode": {
    "name": "ipython",
    "version": 3
   },
   "file_extension": ".py",
   "mimetype": "text/x-python",
   "name": "python",
   "nbconvert_exporter": "python",
   "pygments_lexer": "ipython3",
   "version": "3.6.6"
  }
 },
 "nbformat": 4,
 "nbformat_minor": 2
}
