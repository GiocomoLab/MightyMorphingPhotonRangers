{
 "cells": [
  {
   "cell_type": "code",
   "execution_count": 1,
   "metadata": {},
   "outputs": [
    {
     "name": "stderr",
     "output_type": "stream",
     "text": [
      "C:\\Users\\mplitt\\Anaconda3\\lib\\site-packages\\h5py\\__init__.py:36: FutureWarning: Conversion of the second argument of issubdtype from `float` to `np.floating` is deprecated. In future, it will be treated as `np.float64 == np.dtype(float).type`.\n",
      "  from ._conv import register_converters as _register_converters\n"
     ]
    }
   ],
   "source": [
    "import matplotlib.pyplot as plt\n",
    "\n",
    "import scipy as sp\n",
    "import scipy.io\n",
    "import numpy as np\n",
    "import os\n",
    "os.sys.path.append('../behavior')\n",
    "os.sys.path.append('../')\n",
    "from behavior_analysis import process_data as pd\n",
    "from behavior_analysis import loadmat_sbx\n",
    "\n",
    "import sklearn as sk\n",
    "from sklearn.decomposition import PCA, KernelPCA\n",
    "from sklearn.discriminant_analysis import LinearDiscriminantAnalysis as LDA\n",
    "import pandas \n",
    "import h5py\n",
    "from utilities import load_ca_mat\n",
    "from scipy.ndimage.filters import gaussian_filter\n",
    "\n",
    "%load_ext autoreload\n",
    "%autoreload 2\n",
    "\n",
    "%matplotlib inline"
   ]
  },
  {
   "cell_type": "code",
   "execution_count": 2,
   "metadata": {},
   "outputs": [],
   "source": [
    "CaDataDir = \"Z://2P_data/2AFC_V3/4058541.1/CA1/\"\n",
    "mouse = \"4058541.1\"\n",
    "CaFiles = [\"CA1_001_004\", \"CA1_002_008\", \"CA1_003_002\",\"CA1_004_002\",\"CA1_005_001\"] \n",
    "vr_dir = \"Z://VR/2AFC_V3/\"\n",
    "BehaviorFiles = [\"1_imaging_\",\"2_imaging_3_\",  \"3_\", \"4_imaging_\", \"5_imaging_\"]"
   ]
  },
  {
   "cell_type": "code",
   "execution_count": null,
   "metadata": {},
   "outputs": [
    {
     "name": "stdout",
     "output_type": "stream",
     "text": [
      "(120,)\n",
      "(119, 4)\n",
      "Z://2P_data/2AFC_V3/4058541.1/CA1/CA1_001_004_cnmf_results.mat\n",
      "(246,)\n",
      "(245, 4)\n",
      "Z://2P_data/2AFC_V3/4058541.1/CA1/CA1_002_008_cnmf_results.mat\n",
      "(240,)\n",
      "(239, 4)\n",
      "Z://2P_data/2AFC_V3/4058541.1/CA1/CA1_003_002_cnmf_results.mat\n",
      "(178,)\n",
      "(177, 4)\n",
      "Z://2P_data/2AFC_V3/4058541.1/CA1/CA1_004_002_cnmf_results.mat\n",
      "#subsystem#not made into numpy array\n"
     ]
    }
   ],
   "source": [
    "sessions = []\n",
    "Behavior = []\n",
    "Ca_Dat = []\n",
    "\n",
    "for i in range(len(CaFiles)):\n",
    "    info = loadmat_sbx(CaDataDir + \"/rawDat/\" + CaFiles[i] + \".mat\")['info']\n",
    "    sess = \"2AFC_Test_PostSurg_\" + BehaviorFiles[i]\n",
    "    c = pd(mouse,sess,basedir='work')\n",
    "    behavior,tstart_inds,reward_inds,first_lick_inds = c.align_to_ca(sess,info)\n",
    "    \n",
    "    fname= CaDataDir+ CaFiles[i] +\"_cnmf_results.mat\"\n",
    "    print(fname)\n",
    "    ca_dat = load_ca_mat(fname)\n",
    "    \n",
    "    sessions.append(sess)\n",
    "    Behavior.append(behavior)\n",
    "    Ca_Dat.append(ca_dat)"
   ]
  },
  {
   "cell_type": "code",
   "execution_count": null,
   "metadata": {},
   "outputs": [],
   "source": []
  }
 ],
 "metadata": {
  "kernelspec": {
   "display_name": "Python 3",
   "language": "python",
   "name": "python3"
  },
  "language_info": {
   "codemirror_mode": {
    "name": "ipython",
    "version": 3
   },
   "file_extension": ".py",
   "mimetype": "text/x-python",
   "name": "python",
   "nbconvert_exporter": "python",
   "pygments_lexer": "ipython3",
   "version": "3.6.4"
  }
 },
 "nbformat": 4,
 "nbformat_minor": 2
}
