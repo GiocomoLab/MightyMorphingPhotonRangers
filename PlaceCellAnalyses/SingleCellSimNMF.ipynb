{
 "cells": [
  {
   "cell_type": "code",
   "execution_count": 16,
   "metadata": {},
   "outputs": [
    {
     "name": "stdout",
     "output_type": "stream",
     "text": [
      "The autoreload extension is already loaded. To reload it, use:\n",
      "  %reload_ext autoreload\n"
     ]
    }
   ],
   "source": [
    "# import stuff\n",
    "import os\n",
    "os.sys.path.append(\"C:\\\\Users\\mplitt\\MightyMorphingPhotonRangers\")\n",
    "import numpy as np\n",
    "import matplotlib.pyplot as plt\n",
    "import utilities as u\n",
    "import preprocessing as pp\n",
    "import behavior as b\n",
    "import SimilarityMatrixAnalysis as sm\n",
    "import scipy as sp\n",
    "import PlaceCellAnalysis as pc\n",
    "import matplotlib.gridspec as gridspec\n",
    "import sklearn as sk\n",
    "import SingleCellSimNMF as scnmf \n",
    "\n",
    "\n",
    "%load_ext autoreload\n",
    "%autoreload 2\n",
    "\n",
    "%matplotlib inline"
   ]
  },
  {
   "cell_type": "code",
   "execution_count": 17,
   "metadata": {},
   "outputs": [
    {
     "name": "stdout",
     "output_type": "stream",
     "text": [
      "G:\\My Drive\\VR_Data\\TwoTower\\behavior.sqlite\n",
      "G:\\My Drive\\VR_Data\\TwoTower\\4222174.0\\30_05_2019\\RuningTraining_1.sqlite\n",
      "file doesn't exist, errors to come!!!\n",
      "G:\\My Drive\\VR_Data\\TwoTower\\4222168.1\\09_08_2019\\RuningTraining_1.sqlite\n",
      "file doesn't exist, errors to come!!!\n",
      "G:\\My Drive\\VR_Data\\TwoTower\\4222169.2\\26_08_2019\\TwoTower_Timeout_0.sqlite\n",
      "file doesn't exist, errors to come!!!\n"
     ]
    }
   ],
   "source": [
    "# pick session\n",
    "df = pp.load_session_db()\n",
    "\n",
    "\n",
    "df = df[df['RewardCount']>30]\n",
    "df = df[df['Imaging']==1]\n",
    "df = df.sort_values(['MouseName','DateTime','SessionNumber'])\n",
    "tracks = 'TwoTower_noTimeout|TwoTower_Timeout|Reversal_noTimeout|Reversal|TwoTower_foraging|FreqMorph_Decision|FreqMorph_Timeout'\n",
    "tracks = 'TwoTower_foraging'\n",
    "df = df[df['Track'].str.contains(tracks,regex=True)]\n",
    "df = df[(df['ImagingRegion']==\"\") | (df['ImagingRegion']==\"CA1\")]"
   ]
  },
  {
   "cell_type": "code",
   "execution_count": 3,
   "metadata": {},
   "outputs": [
    {
     "name": "stdout",
     "output_type": "stream",
     "text": [
      "num aberrant ttls 0.0\n",
      "34737 (34737,) (34737, 21) 113863\n",
      "(113863,) (113863, 21)\n"
     ]
    },
    {
     "name": "stderr",
     "output_type": "stream",
     "text": [
      "C:\\Users\\mplitt\\Anaconda3\\lib\\site-packages\\pandas\\core\\frame.py:4034: SettingWithCopyWarning: \n",
      "A value is trying to be set on a copy of a slice from a DataFrame\n",
      "\n",
      "See the caveats in the documentation: http://pandas.pydata.org/pandas-docs/stable/indexing.html#indexing-view-versus-copy\n",
      "  downcast=downcast, **kwargs)\n"
     ]
    },
    {
     "name": "stdout",
     "output_type": "stream",
     "text": [
      "frame diff 0\n"
     ]
    },
    {
     "name": "stderr",
     "output_type": "stream",
     "text": [
      "  0%|                                                                                            | 0/9 [00:00<?, ?it/s]"
     ]
    },
    {
     "name": "stdout",
     "output_type": "stream",
     "text": [
      "replicate 0\n",
      "replicate 1\n",
      "replicate 2\n"
     ]
    },
    {
     "name": "stderr",
     "output_type": "stream",
     "text": [
      " 11%|█████████▎                                                                          | 1/9 [00:27<03:43, 27.93s/it]"
     ]
    },
    {
     "name": "stdout",
     "output_type": "stream",
     "text": [
      "replicate 0\n",
      "replicate 1\n",
      "replicate 2\n"
     ]
    },
    {
     "name": "stderr",
     "output_type": "stream",
     "text": [
      " 22%|██████████████████▋                                                                 | 2/9 [01:56<05:22, 46.10s/it]"
     ]
    },
    {
     "name": "stdout",
     "output_type": "stream",
     "text": [
      "replicate 0\n",
      "replicate 1\n",
      "replicate 2\n"
     ]
    },
    {
     "name": "stderr",
     "output_type": "stream",
     "text": [
      " 33%|████████████████████████████                                                        | 3/9 [03:44<06:27, 64.66s/it]"
     ]
    },
    {
     "name": "stdout",
     "output_type": "stream",
     "text": [
      "replicate 0\n",
      "replicate 1\n",
      "replicate 2\n"
     ]
    },
    {
     "name": "stderr",
     "output_type": "stream",
     "text": [
      " 44%|████████████████████████████████████▉                                              | 4/9 [06:53<08:29, 101.85s/it]"
     ]
    },
    {
     "name": "stdout",
     "output_type": "stream",
     "text": [
      "replicate 0\n",
      "replicate 1\n",
      "replicate 2\n"
     ]
    },
    {
     "name": "stderr",
     "output_type": "stream",
     "text": [
      " 56%|██████████████████████████████████████████████                                     | 5/9 [11:01<09:43, 145.94s/it]"
     ]
    },
    {
     "name": "stdout",
     "output_type": "stream",
     "text": [
      "replicate 0\n",
      "replicate 1\n",
      "replicate 2\n"
     ]
    },
    {
     "name": "stderr",
     "output_type": "stream",
     "text": [
      " 67%|███████████████████████████████████████████████████████▎                           | 6/9 [15:35<09:13, 184.36s/it]"
     ]
    },
    {
     "name": "stdout",
     "output_type": "stream",
     "text": [
      "replicate 0\n",
      "replicate 1\n",
      "replicate 2\n"
     ]
    },
    {
     "name": "stderr",
     "output_type": "stream",
     "text": [
      " 78%|████████████████████████████████████████████████████████████████▌                  | 7/9 [20:42<07:22, 221.04s/it]"
     ]
    },
    {
     "name": "stdout",
     "output_type": "stream",
     "text": [
      "replicate 0\n",
      "replicate 1\n",
      "replicate 2\n"
     ]
    },
    {
     "name": "stderr",
     "output_type": "stream",
     "text": [
      " 89%|█████████████████████████████████████████████████████████████████████████▊         | 8/9 [26:11<04:13, 253.56s/it]"
     ]
    },
    {
     "name": "stdout",
     "output_type": "stream",
     "text": [
      "replicate 0\n"
     ]
    },
    {
     "ename": "KeyboardInterrupt",
     "evalue": "",
     "output_type": "error",
     "traceback": [
      "\u001b[1;31m---------------------------------------------------------------------------\u001b[0m",
      "\u001b[1;31mKeyboardInterrupt\u001b[0m                         Traceback (most recent call last)",
      "\u001b[1;32m<ipython-input-3-104e548f0b0f>\u001b[0m in \u001b[0;36m<module>\u001b[1;34m\u001b[0m\n\u001b[0;32m      4\u001b[0m \u001b[0msess\u001b[0m \u001b[1;33m=\u001b[0m \u001b[0mdf_mouse\u001b[0m\u001b[1;33m[\u001b[0m\u001b[0mdf_mouse\u001b[0m\u001b[1;33m[\u001b[0m\u001b[1;34m'DateFolder'\u001b[0m\u001b[1;33m]\u001b[0m\u001b[1;33m.\u001b[0m\u001b[0mstr\u001b[0m\u001b[1;33m.\u001b[0m\u001b[0mmatch\u001b[0m\u001b[1;33m(\u001b[0m\u001b[0mdate\u001b[0m\u001b[1;33m)\u001b[0m\u001b[1;33m]\u001b[0m\u001b[1;33m.\u001b[0m\u001b[0miloc\u001b[0m\u001b[1;33m[\u001b[0m\u001b[1;36m0\u001b[0m\u001b[1;33m]\u001b[0m\u001b[1;33m\u001b[0m\u001b[1;33m\u001b[0m\u001b[0m\n\u001b[0;32m      5\u001b[0m \u001b[0mss_flat\u001b[0m\u001b[1;33m,\u001b[0m\u001b[0mem\u001b[0m \u001b[1;33m=\u001b[0m \u001b[0mscnmf\u001b[0m\u001b[1;33m.\u001b[0m\u001b[0msim_triu\u001b[0m\u001b[1;33m(\u001b[0m\u001b[0msess\u001b[0m\u001b[1;33m,\u001b[0m\u001b[0mbinned\u001b[0m\u001b[1;33m=\u001b[0m\u001b[1;32mFalse\u001b[0m\u001b[1;33m)\u001b[0m\u001b[1;33m\u001b[0m\u001b[1;33m\u001b[0m\u001b[0m\n\u001b[1;32m----> 6\u001b[1;33m \u001b[0mresults\u001b[0m\u001b[1;33m,\u001b[0m \u001b[1;33m(\u001b[0m\u001b[0mf\u001b[0m\u001b[1;33m,\u001b[0m\u001b[0max\u001b[0m\u001b[1;33m)\u001b[0m\u001b[1;33m=\u001b[0m\u001b[0mscnmf\u001b[0m\u001b[1;33m.\u001b[0m\u001b[0mrun_ensemble\u001b[0m\u001b[1;33m(\u001b[0m\u001b[0mss_flat\u001b[0m\u001b[1;33m)\u001b[0m\u001b[1;33m\u001b[0m\u001b[1;33m\u001b[0m\u001b[0m\n\u001b[0m",
      "\u001b[1;32m~\\MightyMorphingPhotonRangers\\PlaceCellAnalyses\\SingleCellSimNMF.py\u001b[0m in \u001b[0;36mrun_ensemble\u001b[1;34m(ss_flat)\u001b[0m\n\u001b[0;32m     18\u001b[0m     \u001b[1;34m'''run ensemble on single session'''\u001b[0m\u001b[1;33m\u001b[0m\u001b[1;33m\u001b[0m\u001b[0m\n\u001b[0;32m     19\u001b[0m \u001b[1;33m\u001b[0m\u001b[0m\n\u001b[1;32m---> 20\u001b[1;33m     \u001b[0mresults\u001b[0m \u001b[1;33m=\u001b[0m \u001b[0mensemble\u001b[0m\u001b[1;33m.\u001b[0m\u001b[0mfit_ensemble_cv\u001b[0m\u001b[1;33m(\u001b[0m\u001b[0mss_flat\u001b[0m\u001b[1;33m,\u001b[0m \u001b[0mnp\u001b[0m\u001b[1;33m.\u001b[0m\u001b[0marange\u001b[0m\u001b[1;33m(\u001b[0m\u001b[1;36m1\u001b[0m\u001b[1;33m,\u001b[0m\u001b[1;36m10\u001b[0m\u001b[1;33m)\u001b[0m\u001b[1;33m,\u001b[0m\u001b[0mn_replicates\u001b[0m\u001b[1;33m=\u001b[0m\u001b[1;36m3\u001b[0m\u001b[1;33m)\u001b[0m\u001b[1;33m\u001b[0m\u001b[1;33m\u001b[0m\u001b[0m\n\u001b[0m\u001b[0;32m     21\u001b[0m     \u001b[0mf\u001b[0m\u001b[1;33m,\u001b[0m\u001b[0max\u001b[0m \u001b[1;33m=\u001b[0m \u001b[0mplt\u001b[0m\u001b[1;33m.\u001b[0m\u001b[0msubplots\u001b[0m\u001b[1;33m(\u001b[0m\u001b[1;33m)\u001b[0m\u001b[1;33m\u001b[0m\u001b[1;33m\u001b[0m\u001b[0m\n\u001b[0;32m     22\u001b[0m     \u001b[0max\u001b[0m \u001b[1;33m=\u001b[0m \u001b[0mplots\u001b[0m\u001b[1;33m.\u001b[0m\u001b[0mplot_rmse\u001b[0m\u001b[1;33m(\u001b[0m\u001b[0mresults\u001b[0m\u001b[1;33m,\u001b[0m\u001b[0mplot_svd\u001b[0m\u001b[1;33m=\u001b[0m\u001b[1;32mFalse\u001b[0m\u001b[1;33m)\u001b[0m\u001b[1;33m\u001b[0m\u001b[1;33m\u001b[0m\u001b[0m\n",
      "\u001b[1;32m~\\nmftools-master\\nmftools\\ensemble.py\u001b[0m in \u001b[0;36mfit_ensemble_cv\u001b[1;34m(data, ranks, n_replicates, M)\u001b[0m\n\u001b[0;32m     24\u001b[0m             \u001b[1;32mfor\u001b[0m \u001b[0mm\u001b[0m \u001b[1;32min\u001b[0m \u001b[0mrange\u001b[0m\u001b[1;33m(\u001b[0m\u001b[0mn_replicates\u001b[0m\u001b[1;33m)\u001b[0m\u001b[1;33m:\u001b[0m\u001b[1;33m\u001b[0m\u001b[1;33m\u001b[0m\u001b[0m\n\u001b[0;32m     25\u001b[0m                 \u001b[0mprint\u001b[0m\u001b[1;33m(\u001b[0m\u001b[1;34m\"replicate\"\u001b[0m\u001b[1;33m,\u001b[0m\u001b[0mm\u001b[0m\u001b[1;33m)\u001b[0m\u001b[1;33m\u001b[0m\u001b[1;33m\u001b[0m\u001b[0m\n\u001b[1;32m---> 26\u001b[1;33m                 \u001b[0mU\u001b[0m\u001b[1;33m,\u001b[0m\u001b[0mVt\u001b[0m\u001b[1;33m,\u001b[0m\u001b[0mtrain_err\u001b[0m\u001b[1;33m,\u001b[0m\u001b[0mtest_err\u001b[0m \u001b[1;33m=\u001b[0m \u001b[0mcv_pca\u001b[0m\u001b[1;33m(\u001b[0m\u001b[0mdata\u001b[0m\u001b[1;33m,\u001b[0m\u001b[0mr\u001b[0m\u001b[1;33m,\u001b[0m\u001b[0mnonneg\u001b[0m\u001b[1;33m=\u001b[0m\u001b[1;32mTrue\u001b[0m\u001b[1;33m,\u001b[0m\u001b[0mM\u001b[0m\u001b[1;33m=\u001b[0m\u001b[0mM\u001b[0m\u001b[1;33m)\u001b[0m\u001b[1;33m\u001b[0m\u001b[1;33m\u001b[0m\u001b[0m\n\u001b[0m\u001b[0;32m     27\u001b[0m                 \u001b[0mresults\u001b[0m\u001b[1;33m[\u001b[0m\u001b[0mr\u001b[0m\u001b[1;33m]\u001b[0m\u001b[1;33m[\u001b[0m\u001b[1;34m'factors'\u001b[0m\u001b[1;33m]\u001b[0m\u001b[1;33m.\u001b[0m\u001b[0mappend\u001b[0m\u001b[1;33m(\u001b[0m\u001b[1;33m[\u001b[0m\u001b[0mU\u001b[0m\u001b[1;33m,\u001b[0m \u001b[0mVt\u001b[0m\u001b[1;33m]\u001b[0m\u001b[1;33m)\u001b[0m\u001b[1;33m\u001b[0m\u001b[1;33m\u001b[0m\u001b[0m\n\u001b[0;32m     28\u001b[0m                 \u001b[1;31m#est = np.dot(W, H)\u001b[0m\u001b[1;33m\u001b[0m\u001b[1;33m\u001b[0m\u001b[1;33m\u001b[0m\u001b[0m\n",
      "\u001b[1;32m~\\CensoredLstsq\\cv.py\u001b[0m in \u001b[0;36mcv_pca\u001b[1;34m(data, rank, M, p_holdout, nonneg)\u001b[0m\n\u001b[0;32m     89\u001b[0m     \u001b[1;32mwhile\u001b[0m \u001b[1;33m(\u001b[0m\u001b[0md_resid\u001b[0m\u001b[1;33m>\u001b[0m\u001b[0mtol\u001b[0m\u001b[1;33m)\u001b[0m \u001b[1;32mand\u001b[0m \u001b[1;33m(\u001b[0m\u001b[0mitr\u001b[0m\u001b[1;33m<\u001b[0m\u001b[1;36m50\u001b[0m\u001b[1;33m)\u001b[0m\u001b[1;33m:\u001b[0m\u001b[1;33m\u001b[0m\u001b[1;33m\u001b[0m\u001b[0m\n\u001b[0;32m     90\u001b[0m     \u001b[1;31m# for itr in range(50):\u001b[0m\u001b[1;33m\u001b[0m\u001b[1;33m\u001b[0m\u001b[1;33m\u001b[0m\u001b[0m\n\u001b[1;32m---> 91\u001b[1;33m         \u001b[0mVt\u001b[0m \u001b[1;33m=\u001b[0m \u001b[0msolver\u001b[0m\u001b[1;33m(\u001b[0m\u001b[0mU\u001b[0m\u001b[1;33m,\u001b[0m \u001b[0mdata\u001b[0m\u001b[1;33m,\u001b[0m \u001b[0mM\u001b[0m\u001b[1;33m)\u001b[0m\u001b[1;33m\u001b[0m\u001b[1;33m\u001b[0m\u001b[0m\n\u001b[0m\u001b[0;32m     92\u001b[0m         \u001b[0mU\u001b[0m \u001b[1;33m=\u001b[0m \u001b[0msolver\u001b[0m\u001b[1;33m(\u001b[0m\u001b[0mVt\u001b[0m\u001b[1;33m.\u001b[0m\u001b[0mT\u001b[0m\u001b[1;33m,\u001b[0m \u001b[0mdata\u001b[0m\u001b[1;33m.\u001b[0m\u001b[0mT\u001b[0m\u001b[1;33m,\u001b[0m \u001b[0mM\u001b[0m\u001b[1;33m.\u001b[0m\u001b[0mT\u001b[0m\u001b[1;33m)\u001b[0m\u001b[1;33m.\u001b[0m\u001b[0mT\u001b[0m\u001b[1;33m\u001b[0m\u001b[1;33m\u001b[0m\u001b[0m\n\u001b[0;32m     93\u001b[0m         \u001b[1;32mif\u001b[0m \u001b[0mitr\u001b[0m\u001b[1;33m%\u001b[0m\u001b[1;36m5\u001b[0m\u001b[1;33m==\u001b[0m\u001b[1;36m0\u001b[0m\u001b[1;33m:\u001b[0m\u001b[1;33m\u001b[0m\u001b[1;33m\u001b[0m\u001b[0m\n",
      "\u001b[1;32m~\\CensoredLstsq\\cv.py\u001b[0m in \u001b[0;36mcensored_nnlstsq\u001b[1;34m(A, B, M)\u001b[0m\n\u001b[0;32m     58\u001b[0m     \u001b[0mX\u001b[0m \u001b[1;33m=\u001b[0m \u001b[0mnp\u001b[0m\u001b[1;33m.\u001b[0m\u001b[0mempty\u001b[0m\u001b[1;33m(\u001b[0m\u001b[1;33m(\u001b[0m\u001b[0mB\u001b[0m\u001b[1;33m.\u001b[0m\u001b[0mshape\u001b[0m\u001b[1;33m[\u001b[0m\u001b[1;36m1\u001b[0m\u001b[1;33m]\u001b[0m\u001b[1;33m,\u001b[0m \u001b[0mA\u001b[0m\u001b[1;33m.\u001b[0m\u001b[0mshape\u001b[0m\u001b[1;33m[\u001b[0m\u001b[1;36m1\u001b[0m\u001b[1;33m]\u001b[0m\u001b[1;33m)\u001b[0m\u001b[1;33m)\u001b[0m\u001b[1;33m\u001b[0m\u001b[1;33m\u001b[0m\u001b[0m\n\u001b[0;32m     59\u001b[0m     \u001b[1;32mfor\u001b[0m \u001b[0mn\u001b[0m \u001b[1;32min\u001b[0m \u001b[0mrange\u001b[0m\u001b[1;33m(\u001b[0m\u001b[0mB\u001b[0m\u001b[1;33m.\u001b[0m\u001b[0mshape\u001b[0m\u001b[1;33m[\u001b[0m\u001b[1;36m1\u001b[0m\u001b[1;33m]\u001b[0m\u001b[1;33m)\u001b[0m\u001b[1;33m:\u001b[0m\u001b[1;33m\u001b[0m\u001b[1;33m\u001b[0m\u001b[0m\n\u001b[1;32m---> 60\u001b[1;33m         \u001b[0mX\u001b[0m\u001b[1;33m[\u001b[0m\u001b[0mn\u001b[0m\u001b[1;33m]\u001b[0m \u001b[1;33m=\u001b[0m \u001b[0mnnlstsq\u001b[0m\u001b[1;33m(\u001b[0m\u001b[0mT\u001b[0m\u001b[1;33m[\u001b[0m\u001b[0mn\u001b[0m\u001b[1;33m]\u001b[0m\u001b[1;33m,\u001b[0m \u001b[0mrhs\u001b[0m\u001b[1;33m[\u001b[0m\u001b[0mn\u001b[0m\u001b[1;33m]\u001b[0m\u001b[1;33m,\u001b[0m \u001b[0mis_input_prod\u001b[0m\u001b[1;33m=\u001b[0m\u001b[1;32mTrue\u001b[0m\u001b[1;33m)\u001b[0m\u001b[1;33m[\u001b[0m\u001b[1;36m0\u001b[0m\u001b[1;33m]\u001b[0m\u001b[1;33m.\u001b[0m\u001b[0mT\u001b[0m\u001b[1;33m\u001b[0m\u001b[1;33m\u001b[0m\u001b[0m\n\u001b[0m\u001b[0;32m     61\u001b[0m     \u001b[1;32mreturn\u001b[0m \u001b[0mX\u001b[0m\u001b[1;33m.\u001b[0m\u001b[0mT\u001b[0m\u001b[1;33m\u001b[0m\u001b[1;33m\u001b[0m\u001b[0m\n\u001b[0;32m     62\u001b[0m \u001b[1;33m\u001b[0m\u001b[0m\n",
      "\u001b[1;32m~\\CensoredLstsq\\nnls.py\u001b[0m in \u001b[0;36mnnlsm_blockpivot\u001b[1;34m(A, B, is_input_prod, init)\u001b[0m\n\u001b[0;32m    159\u001b[0m         \u001b[0mnum_eq\u001b[0m \u001b[1;33m+=\u001b[0m \u001b[0mtemp_eq\u001b[0m\u001b[1;33m\u001b[0m\u001b[1;33m\u001b[0m\u001b[0m\n\u001b[0;32m    160\u001b[0m         \u001b[0mX\u001b[0m\u001b[1;33m[\u001b[0m\u001b[0mabs\u001b[0m\u001b[1;33m(\u001b[0m\u001b[0mX\u001b[0m\u001b[1;33m)\u001b[0m \u001b[1;33m<\u001b[0m \u001b[1;36m1e-12\u001b[0m\u001b[1;33m]\u001b[0m \u001b[1;33m=\u001b[0m \u001b[1;36m0\u001b[0m\u001b[1;33m\u001b[0m\u001b[1;33m\u001b[0m\u001b[0m\n\u001b[1;32m--> 161\u001b[1;33m         \u001b[0mY\u001b[0m\u001b[1;33m[\u001b[0m\u001b[1;33m:\u001b[0m\u001b[1;33m,\u001b[0m \u001b[0mnot_opt_cols\u001b[0m\u001b[1;33m]\u001b[0m \u001b[1;33m=\u001b[0m \u001b[0mAtA\u001b[0m\u001b[1;33m.\u001b[0m\u001b[0mdot\u001b[0m\u001b[1;33m(\u001b[0m\u001b[0mX\u001b[0m\u001b[1;33m[\u001b[0m\u001b[1;33m:\u001b[0m\u001b[1;33m,\u001b[0m \u001b[0mnot_opt_cols\u001b[0m\u001b[1;33m]\u001b[0m\u001b[1;33m)\u001b[0m \u001b[1;33m-\u001b[0m \u001b[0mAtB\u001b[0m\u001b[1;33m[\u001b[0m\u001b[1;33m:\u001b[0m\u001b[1;33m,\u001b[0m \u001b[0mnot_opt_cols\u001b[0m\u001b[1;33m]\u001b[0m\u001b[1;33m\u001b[0m\u001b[1;33m\u001b[0m\u001b[0m\n\u001b[0m\u001b[0;32m    162\u001b[0m         \u001b[0mY\u001b[0m\u001b[1;33m[\u001b[0m\u001b[0mabs\u001b[0m\u001b[1;33m(\u001b[0m\u001b[0mY\u001b[0m\u001b[1;33m)\u001b[0m \u001b[1;33m<\u001b[0m \u001b[1;36m1e-12\u001b[0m\u001b[1;33m]\u001b[0m \u001b[1;33m=\u001b[0m \u001b[1;36m0\u001b[0m\u001b[1;33m\u001b[0m\u001b[1;33m\u001b[0m\u001b[0m\n\u001b[0;32m    163\u001b[0m \u001b[1;33m\u001b[0m\u001b[0m\n",
      "\u001b[1;31mKeyboardInterrupt\u001b[0m: "
     ]
    }
   ],
   "source": [
    "mouse = '4139265.5'\n",
    "date = '19_02_2019'\n",
    "df_mouse = df[df['MouseName'].str.match(mouse)]\n",
    "sess = df_mouse[df_mouse['DateFolder'].str.match(date)].iloc[0]\n",
    "ss_flat,em = scnmf.sim_triu(sess,binned=False)\n",
    "results, (f,ax)=scnmf.run_ensemble(ss_flat)"
   ]
  },
  {
   "cell_type": "code",
   "execution_count": null,
   "metadata": {},
   "outputs": [],
   "source": [
    "# f.savefig(os.path.join(\"G:\\\\My Drive\\\\manuscripts\\\\MightyMorphinPhotonRangers\\\\Figures\",'4139265.5_19_02_2019_cellnmf_rmse.pdf'),format='pdf')"
   ]
  },
  {
   "cell_type": "code",
   "execution_count": null,
   "metadata": {},
   "outputs": [],
   "source": [
    "f,ax = scnmf.plot_factors(results,3,120)\n",
    "f.savefig(os.path.join(\"G:\\\\My Drive\\\\manuscripts\\\\MightyMorphinPhotonRangers_manuscript\\\\Figures\",'4139265.5_19_02_2019_cellnmf_3factors.pdf'),format='pdf')"
   ]
  },
  {
   "cell_type": "code",
   "execution_count": null,
   "metadata": {},
   "outputs": [],
   "source": [
    "W = results[2]['factors'][0][0]\n",
    "f,ax = plt.subplots()\n",
    "ax.scatter(W[:,0],W[:,1])\n",
    "f.savefig(os.path.join(\"G:\\\\My Drive\\\\manuscripts\\\\MightyMorphinPhotonRangers\\\\Figures\",'4139265.5_19_02_2019_cellnmf_weights_scatter.pdf'),format='pdf')"
   ]
  },
  {
   "cell_type": "code",
   "execution_count": null,
   "metadata": {},
   "outputs": [],
   "source": [
    "\n",
    "mouse = '4222153.2'\n",
    "date = '18_04_2019';\n",
    "df_mouse = df[df['MouseName'].str.match(mouse)]\n",
    "sess = df_mouse[df_mouse['DateFolder'].str.match(date)].iloc[0]\n",
    "ss_flat,em = scnmf.sim_triu(sess,binned=False)\n",
    "results, (f,ax)=scnmf.run_ensemble(ss_flat)"
   ]
  },
  {
   "cell_type": "code",
   "execution_count": null,
   "metadata": {},
   "outputs": [],
   "source": [
    "# f.savefig(os.path.join(\"G:\\\\My Drive\\\\manuscripts\\\\MightyMorphinPhotonRangers\\\\Figures\",'4222153.2_18_04_2019_cellnmf_rmse.pdf'),format='pdf')"
   ]
  },
  {
   "cell_type": "code",
   "execution_count": null,
   "metadata": {},
   "outputs": [],
   "source": [
    "f,ax = plt.subplots()\n",
    "W = results[2]['factors'][0][0]\n",
    "ax.scatter(W[:,0],W[:,1])\n",
    "# f.savefig(os.path.join(\"G:\\\\My Drive\\\\manuscripts\\\\MightyMorphinPhotonRangers\\\\Figures\",'4222153.2_18_04_2019_cellnmf_weights_scatter.pdf'),format='pdf')"
   ]
  },
  {
   "cell_type": "code",
   "execution_count": null,
   "metadata": {},
   "outputs": [],
   "source": [
    "f,ax = scnmf.plot_factors(results,3,em.shape[0],downsample=1.)"
   ]
  },
  {
   "cell_type": "code",
   "execution_count": null,
   "metadata": {},
   "outputs": [],
   "source": [
    "f.savefig(os.path.join(\"G:\\\\My Drive\\\\manuscripts\\\\MightyMorphinPhotonRangers_Manuscript\\\\Figures\",'4222153.2_18_04_2019_cellnmf_3factors.pdf'),format='pdf')"
   ]
  },
  {
   "cell_type": "code",
   "execution_count": 21,
   "metadata": {},
   "outputs": [
    {
     "name": "stdout",
     "output_type": "stream",
     "text": [
      "4139265.3\n",
      "num aberrant ttls 0.0\n",
      "35085 (35085,) (35085, 21) 115307\n",
      "(115307,) (115307, 21)\n",
      "frame diff 0\n",
      "num aberrant ttls 0.0\n",
      "33140 (33140,) (33140, 21) 109003\n",
      "(109003,) (109003, 21)\n",
      "frame diff 0\n",
      "num aberrant ttls 0.0\n",
      "38209 (38209,) (38209, 21) 126969\n",
      "(126969,) (126969, 21)\n",
      "frame diff 0\n",
      "num aberrant ttls 0.0\n",
      "33547 (33547,) (33547, 21) 110218\n",
      "(110218,) (110218, 21)\n",
      "frame diff 0\n",
      "num aberrant ttls 0.0\n",
      "32038 (32038,) (32038, 21) 105022\n",
      "(105022,) (105022, 21)\n",
      "frame diff 0\n",
      "4139265.4\n",
      "num aberrant ttls 0.0\n",
      "30897 (30897,) (30897, 21) 102093\n",
      "(102093,) (102093, 21)\n",
      "frame diff 0\n",
      "num aberrant ttls 0.0\n",
      "29023 (29023,) (29023, 21) 95160\n",
      "(95160,) (95160, 21)\n",
      "frame diff 0\n",
      "num aberrant ttls 0.0\n",
      "31116 (31116,) (31116, 21) 102131\n",
      "(102131,) (102131, 21)\n",
      "frame diff 0\n",
      "num aberrant ttls 0.0\n",
      "31932 (31932,) (31932, 21) 105228\n",
      "(105228,) (105228, 21)\n",
      "frame diff 0\n",
      "num aberrant ttls 0.0\n",
      "30493 (30493,) (30493, 21) 100982\n",
      "(100982,) (100982, 21)\n",
      "frame diff 0\n",
      "num aberrant ttls 0.0\n",
      "32084 (32084,) (32084, 21) 105601\n",
      "(105601,) (105601, 21)\n",
      "frame diff 0\n",
      "4139265.5\n",
      "num aberrant ttls 0.0\n",
      "34737 (34737,) (34737, 21) 113863\n",
      "(113863,) (113863, 21)\n",
      "frame diff 0\n",
      "num aberrant ttls 0.0\n",
      "36018 (36018,) (36018, 21) 118606\n",
      "(118606,) (118606, 21)\n",
      "frame diff 0\n",
      "num aberrant ttls 0.0\n",
      "40272 (40272,) (40272, 21) 133982\n",
      "(133982,) (133982, 21)\n",
      "frame diff 0\n",
      "num aberrant ttls 0.0\n",
      "36659 (36659,) (36659, 21) 120387\n",
      "(120387,) (120387, 21)\n",
      "frame diff 0\n",
      "num aberrant ttls 0.0\n",
      "36583 (36583,) (36583, 21) 124384\n",
      "(124384,) (124384, 21)\n",
      "frame diff 0\n",
      "4222168.1\n",
      "num aberrant ttls 0.0\n",
      "38388 (38388,) (38388, 21) 106947\n",
      "(106947,) (106947, 21)\n",
      "frame diff 0\n",
      "num aberrant ttls 0.0\n",
      "29491 (29491,) (29491, 21) 83119\n",
      "(83119,) (83119, 21)\n",
      "frame diff 0\n",
      "num aberrant ttls 0.0\n",
      "30135 (30135,) (30135, 21) 84894\n",
      "(84894,) (84894, 21)\n",
      "frame diff 0\n",
      "num aberrant ttls 0.0\n",
      "35249 (35249,) (35249, 21) 99523\n",
      "(99523,) (99523, 21)\n",
      "frame diff 0\n",
      "num aberrant ttls 0.0\n",
      "31233 (31233,) (31233, 21) 89128\n",
      "(89128,) (89128, 21)\n",
      "frame diff 0\n"
     ]
    },
    {
     "name": "stderr",
     "output_type": "stream",
     "text": [
      "\n",
      "  0%|                                                                                            | 0/9 [00:00<?, ?it/s]"
     ]
    },
    {
     "name": "stdout",
     "output_type": "stream",
     "text": [
      "replicate 0\n",
      "replicate 1\n",
      "replicate 2\n"
     ]
    },
    {
     "name": "stderr",
     "output_type": "stream",
     "text": [
      "\n",
      " 11%|█████████▎                                                                          | 1/9 [01:07<08:58, 67.31s/it]"
     ]
    },
    {
     "name": "stdout",
     "output_type": "stream",
     "text": [
      "replicate 0\n",
      "replicate 1\n",
      "replicate 2\n"
     ]
    },
    {
     "name": "stderr",
     "output_type": "stream",
     "text": [
      "\n",
      " 22%|██████████████████▍                                                                | 2/9 [04:57<13:34, 116.31s/it]"
     ]
    },
    {
     "name": "stdout",
     "output_type": "stream",
     "text": [
      "replicate 0\n",
      "replicate 1\n",
      "replicate 2\n"
     ]
    },
    {
     "name": "stderr",
     "output_type": "stream",
     "text": [
      "\n",
      " 33%|███████████████████████████▋                                                       | 3/9 [09:32<16:22, 163.80s/it]"
     ]
    },
    {
     "name": "stdout",
     "output_type": "stream",
     "text": [
      "replicate 0\n",
      "replicate 1\n",
      "replicate 2\n"
     ]
    },
    {
     "name": "stderr",
     "output_type": "stream",
     "text": [
      "\n",
      " 44%|████████████████████████████████████▉                                              | 4/9 [16:17<19:41, 236.21s/it]"
     ]
    },
    {
     "name": "stdout",
     "output_type": "stream",
     "text": [
      "replicate 0\n",
      "replicate 1\n",
      "replicate 2\n"
     ]
    },
    {
     "name": "stderr",
     "output_type": "stream",
     "text": [
      "\n",
      " 56%|██████████████████████████████████████████████                                     | 5/9 [22:47<18:49, 282.42s/it]"
     ]
    },
    {
     "name": "stdout",
     "output_type": "stream",
     "text": [
      "replicate 0\n",
      "replicate 1\n",
      "replicate 2\n"
     ]
    },
    {
     "name": "stderr",
     "output_type": "stream",
     "text": [
      "\n",
      " 67%|███████████████████████████████████████████████████████▎                           | 6/9 [30:58<17:14, 344.85s/it]"
     ]
    },
    {
     "name": "stdout",
     "output_type": "stream",
     "text": [
      "replicate 0\n",
      "replicate 1\n",
      "replicate 2\n"
     ]
    },
    {
     "name": "stderr",
     "output_type": "stream",
     "text": [
      "\n",
      " 78%|████████████████████████████████████████████████████████████████▌                  | 7/9 [39:56<13:25, 402.84s/it]"
     ]
    },
    {
     "name": "stdout",
     "output_type": "stream",
     "text": [
      "replicate 0\n",
      "replicate 1\n",
      "replicate 2\n"
     ]
    },
    {
     "name": "stderr",
     "output_type": "stream",
     "text": [
      "\n",
      " 89%|█████████████████████████████████████████████████████████████████████████▊         | 8/9 [49:25<07:32, 452.72s/it]"
     ]
    },
    {
     "name": "stdout",
     "output_type": "stream",
     "text": [
      "replicate 0\n",
      "replicate 1\n",
      "replicate 2\n"
     ]
    },
    {
     "name": "stderr",
     "output_type": "stream",
     "text": [
      "\n",
      "100%|███████████████████████████████████████████████████████████████████████████████████| 9/9 [59:28<00:00, 497.82s/it]"
     ]
    },
    {
     "data": {
      "image/png": "[encoded data removed]",
      "text/plain": [
       "<Figure size 432x288 with 1 Axes>"
      ]
     },
     "metadata": {
      "needs_background": "light"
     },
     "output_type": "display_data"
    }
   ],
   "source": [
    "cellmat_rare = scnmf.build_matrix(df,['4139265.3','4139265.4','4139265.5','4222168.1'],first_sess = [5,5,5,3])\n",
    "results_rare,fig_rare = scnmf.run_ensemble(cellmat_rare)\n"
   ]
  },
  {
   "cell_type": "code",
   "execution_count": 22,
   "metadata": {},
   "outputs": [
    {
     "name": "stdout",
     "output_type": "stream",
     "text": [
      "(28409, 45)\n"
     ]
    }
   ],
   "source": [
    "print(cellmat_rare.shape)"
   ]
  },
  {
   "cell_type": "code",
   "execution_count": 23,
   "metadata": {},
   "outputs": [],
   "source": [
    "pca = sk.decomposition.PCA()\n",
    "cm_rare = pca.fit_transform(cellmat_rare)"
   ]
  },
  {
   "cell_type": "code",
   "execution_count": 24,
   "metadata": {},
   "outputs": [
    {
     "name": "stdout",
     "output_type": "stream",
     "text": [
      "(28409, 45)\n"
     ]
    }
   ],
   "source": [
    "print(cm_rare.shape)"
   ]
  },
  {
   "cell_type": "code",
   "execution_count": 25,
   "metadata": {},
   "outputs": [
    {
     "data": {
      "text/plain": [
       "<matplotlib.collections.PathCollection at 0x237036ad668>"
      ]
     },
     "execution_count": 25,
     "metadata": {},
     "output_type": "execute_result"
    },
    {
     "data": {
      "image/png": "[encoded data removed]",
      "text/plain": [
       "<Figure size 432x288 with 1 Axes>"
      ]
     },
     "metadata": {
      "needs_background": "light"
     },
     "output_type": "display_data"
    }
   ],
   "source": [
    "f,ax = plt.subplots()\n",
    "ax.scatter(cm_rare[:,0],cm_rare[:,2])"
   ]
  },
  {
   "cell_type": "code",
   "execution_count": 26,
   "metadata": {},
   "outputs": [
    {
     "data": {
      "text/plain": [
       "[<matplotlib.lines.Line2D at 0x23702c62780>]"
      ]
     },
     "execution_count": 26,
     "metadata": {},
     "output_type": "execute_result"
    },
    {
     "data": {
      "image/png": "[encoded data removed]",
      "text/plain": [
       "<Figure size 432x288 with 1 Axes>"
      ]
     },
     "metadata": {
      "needs_background": "light"
     },
     "output_type": "display_data"
    }
   ],
   "source": [
    "f,ax = plt.subplots()\n",
    "ax.plot(pca.explained_variance_[:10])"
   ]
  },
  {
   "cell_type": "code",
   "execution_count": null,
   "metadata": {},
   "outputs": [],
   "source": []
  },
  {
   "cell_type": "code",
   "execution_count": 27,
   "metadata": {},
   "outputs": [],
   "source": [
    "fig_rare[0].savefig(os.path.join(\"G:\\\\My Drive\\\\manuscripts\\\\MightyMorphinPhotonRangers_manuscript\\\\Figures\",'rare_cellnmf_rmse.pdf'),format='pdf')"
   ]
  },
  {
   "cell_type": "code",
   "execution_count": 28,
   "metadata": {},
   "outputs": [
    {
     "data": {
      "image/png": "[encoded data removed]",
      "text/plain": [
       "<Figure size 1080x720 with 6 Axes>"
      ]
     },
     "metadata": {
      "needs_background": "light"
     },
     "output_type": "display_data"
    }
   ],
   "source": [
    "f_factors_rare,ax_factors_rare = scnmf.plot_factors(results_rare,2,10,downsample=.1)"
   ]
  },
  {
   "cell_type": "code",
   "execution_count": 29,
   "metadata": {},
   "outputs": [],
   "source": [
    "f_factors_rare.savefig(os.path.join(\"G:\\\\My Drive\\\\manuscripts\\\\MightyMorphinPhotonRangers_Manuscript\\\\Figures\",'rare_cellnmf_2factors.pdf'),format='pdf')"
   ]
  },
  {
   "cell_type": "code",
   "execution_count": null,
   "metadata": {},
   "outputs": [],
   "source": [
    "W = results_rare[2]['factors'][0][0]\n",
    "f,ax = plt.subplots()\n",
    "ax.scatter(W[:,0],W[:,2])\n",
    "f.savefig(os.path.join(\"G:\\\\My Drive\\\\manuscripts\\\\MightyMorphinPhotonRangers_Manuscript\\\\Figures\",'rare_cellnmf_weights_scatter.pdf'),format='pdf')"
   ]
  },
  {
   "cell_type": "code",
   "execution_count": 12,
   "metadata": {},
   "outputs": [
    {
     "name": "stdout",
     "output_type": "stream",
     "text": [
      "4222153.2\n",
      "num aberrant ttls 0.0\n",
      "35248 (35248,) (35248, 21) 116195\n",
      "(116195,) (116195, 21)\n"
     ]
    },
    {
     "name": "stderr",
     "output_type": "stream",
     "text": [
      "C:\\Users\\mplitt\\Anaconda3\\lib\\site-packages\\pandas\\core\\frame.py:4034: SettingWithCopyWarning: \n",
      "A value is trying to be set on a copy of a slice from a DataFrame\n",
      "\n",
      "See the caveats in the documentation: http://pandas.pydata.org/pandas-docs/stable/indexing.html#indexing-view-versus-copy\n",
      "  downcast=downcast, **kwargs)\n"
     ]
    },
    {
     "name": "stdout",
     "output_type": "stream",
     "text": [
      "frame diff 0\n",
      "num aberrant ttls 0.0\n",
      "33545 (33545,) (33545, 21) 121243\n",
      "(121243,) (121243, 21)\n",
      "frame diff 0\n",
      "num aberrant ttls 0.0\n",
      "38697 (38697,) (38697, 21) 129389\n",
      "(129389,) (129389, 21)\n",
      "frame diff 0\n",
      "num aberrant ttls 0.0\n",
      "37344 (37344,) (37344, 21) 121463\n",
      "(121463,) (121463, 21)\n",
      "frame diff 0\n",
      "4222153.1\n",
      "num aberrant ttls 0.0\n",
      "36036 (36036,) (36036, 21) 118455\n",
      "(118455,) (118455, 21)\n",
      "frame diff 0\n",
      "num aberrant ttls 0.0\n",
      "33778 (33778,) (33778, 21) 111444\n",
      "(111444,) (111444, 21)\n",
      "frame diff 0\n",
      "num aberrant ttls 0.0\n",
      "35977 (35977,) (35977, 21) 118959\n",
      "(118959,) (118959, 21)\n",
      "frame diff 0\n",
      "4222153.3\n",
      "num aberrant ttls 0.0\n",
      "22769 (22769,) (22769, 21) 72892\n",
      "(72892,) (72892, 21)\n",
      "frame diff 0\n",
      "4222174.1\n",
      "num aberrant ttls 0.0\n",
      "29526 (29526,) (29526, 21) 83238\n",
      "(83238,) (83238, 21)\n",
      "frame diff 0\n",
      "num aberrant ttls 0.0\n",
      "34560 (34560,) (34560, 21) 97310\n",
      "(97310,) (97310, 21)\n",
      "frame diff 0\n",
      "num aberrant ttls 0.0\n",
      "30879 (30879,) (30879, 21) 86531\n",
      "(86531,) (86531, 21)\n",
      "frame diff 0\n",
      "num aberrant ttls 0.0\n",
      "28286 (28286,) (28286, 21) 80945\n",
      "(80945,) (80945, 21)\n",
      "frame diff 0\n",
      "num aberrant ttls 0.0\n",
      "31882 (31882,) (31882, 21) 91565\n",
      "(91565,) (91565, 21)\n",
      "frame diff 0\n"
     ]
    },
    {
     "name": "stderr",
     "output_type": "stream",
     "text": [
      "  0%|                                                                                            | 0/9 [00:00<?, ?it/s]"
     ]
    },
    {
     "name": "stdout",
     "output_type": "stream",
     "text": [
      "replicate 0\n",
      "replicate 1\n",
      "replicate 2\n"
     ]
    },
    {
     "name": "stderr",
     "output_type": "stream",
     "text": [
      " 11%|█████████▎                                                                          | 1/9 [00:28<03:48, 28.55s/it]"
     ]
    },
    {
     "name": "stdout",
     "output_type": "stream",
     "text": [
      "replicate 0\n",
      "replicate 1\n",
      "replicate 2\n"
     ]
    },
    {
     "name": "stderr",
     "output_type": "stream",
     "text": [
      " 22%|██████████████████▋                                                                 | 2/9 [02:41<06:58, 59.72s/it]"
     ]
    },
    {
     "name": "stdout",
     "output_type": "stream",
     "text": [
      "replicate 0\n",
      "replicate 1\n",
      "replicate 2\n"
     ]
    },
    {
     "name": "stderr",
     "output_type": "stream",
     "text": [
      " 33%|███████████████████████████▋                                                       | 3/9 [06:16<10:38, 106.44s/it]"
     ]
    },
    {
     "name": "stdout",
     "output_type": "stream",
     "text": [
      "replicate 0\n",
      "replicate 1\n",
      "replicate 2\n"
     ]
    },
    {
     "name": "stderr",
     "output_type": "stream",
     "text": [
      " 44%|████████████████████████████████████▉                                              | 4/9 [10:05<11:56, 143.27s/it]"
     ]
    },
    {
     "name": "stdout",
     "output_type": "stream",
     "text": [
      "replicate 0\n",
      "replicate 1\n",
      "replicate 2\n"
     ]
    },
    {
     "name": "stderr",
     "output_type": "stream",
     "text": [
      " 56%|██████████████████████████████████████████████                                     | 5/9 [14:56<12:30, 187.66s/it]"
     ]
    },
    {
     "name": "stdout",
     "output_type": "stream",
     "text": [
      "replicate 0\n",
      "replicate 1\n",
      "replicate 2\n"
     ]
    },
    {
     "name": "stderr",
     "output_type": "stream",
     "text": [
      " 67%|███████████████████████████████████████████████████████▎                           | 6/9 [19:37<10:46, 215.43s/it]"
     ]
    },
    {
     "name": "stdout",
     "output_type": "stream",
     "text": [
      "replicate 0\n",
      "replicate 1\n",
      "replicate 2\n"
     ]
    },
    {
     "name": "stderr",
     "output_type": "stream",
     "text": [
      " 78%|████████████████████████████████████████████████████████████████▌                  | 7/9 [24:56<08:12, 246.49s/it]"
     ]
    },
    {
     "name": "stdout",
     "output_type": "stream",
     "text": [
      "replicate 0\n",
      "replicate 1\n",
      "replicate 2\n"
     ]
    },
    {
     "name": "stderr",
     "output_type": "stream",
     "text": [
      " 89%|█████████████████████████████████████████████████████████████████████████▊         | 8/9 [30:43<04:36, 276.92s/it]"
     ]
    },
    {
     "name": "stdout",
     "output_type": "stream",
     "text": [
      "replicate 0\n",
      "replicate 1\n",
      "replicate 2\n"
     ]
    },
    {
     "name": "stderr",
     "output_type": "stream",
     "text": [
      "100%|███████████████████████████████████████████████████████████████████████████████████| 9/9 [37:26<00:00, 314.51s/it]\n"
     ]
    },
    {
     "data": {
      "image/png": "[encoded data removed]",
      "text/plain": [
       "<Figure size 432x288 with 1 Axes>"
      ]
     },
     "metadata": {
      "needs_background": "light"
     },
     "output_type": "display_data"
    }
   ],
   "source": [
    "\n",
    "cellmat_fam = scnmf.build_matrix(df,['4222153.2','4222153.1','4222153.3','4222174.1'],first_sess=4)\n",
    "results_fam,fig_fam = scnmf.run_ensemble(cellmat_fam)"
   ]
  },
  {
   "cell_type": "code",
   "execution_count": 62,
   "metadata": {},
   "outputs": [],
   "source": [
    "fig_fam[0].savefig(os.path.join(\"G:\\\\My Drive\\\\manuscripts\\\\MightyMorphinPhotonRangers\\\\Figures\",'fam_cellnmf_rmse.pdf'),format='pdf')"
   ]
  },
  {
   "cell_type": "code",
   "execution_count": 27,
   "metadata": {},
   "outputs": [
    {
     "data": {
      "image/png": "[encoded data removed]",
      "text/plain": [
       "<Figure size 1440x1080 with 12 Axes>"
      ]
     },
     "metadata": {
      "needs_background": "light"
     },
     "output_type": "display_data"
    }
   ],
   "source": [
    "f_factors_fam,ax_factors_fam = scnmf.plot_factors(results_fam,3,10,downsample=.1)"
   ]
  },
  {
   "cell_type": "code",
   "execution_count": 25,
   "metadata": {},
   "outputs": [],
   "source": [
    "f_factors_fam.savefig(os.path.join(\"G:\\\\My Drive\\\\manuscripts\\\\MightyMorphinPhotonRangers_Manuscript\\\\Figures\",'fam_cellnmf_3factors.pdf'),format='pdf')"
   ]
  },
  {
   "cell_type": "code",
   "execution_count": 76,
   "metadata": {},
   "outputs": [
    {
     "data": {
      "image/png": "[encoded data removed]",
      "text/plain": [
       "<Figure size 432x288 with 1 Axes>"
      ]
     },
     "metadata": {
      "needs_background": "light"
     },
     "output_type": "display_data"
    }
   ],
   "source": [
    "W = results_fam[2]['factors'][0][0]\n",
    "f,ax = plt.subplots()\n",
    "ax.scatter(W[:,0],W[:,1])\n",
    "f.savefig(os.path.join(\"G:\\\\My Drive\\\\manuscripts\\\\MightyMorphinPhotonRangers\\\\Figures\",'fam_cellnmf_weights_scatter.pdf'),format='pdf')"
   ]
  },
  {
   "cell_type": "code",
   "execution_count": null,
   "metadata": {},
   "outputs": [],
   "source": []
  }
 ],
 "metadata": {
  "kernelspec": {
   "display_name": "Python 3",
   "language": "python",
   "name": "python3"
  },
  "language_info": {
   "codemirror_mode": {
    "name": "ipython",
    "version": 3
   },
   "file_extension": ".py",
   "mimetype": "text/x-python",
   "name": "python",
   "nbconvert_exporter": "python",
   "pygments_lexer": "ipython3",
   "version": "3.7.3"
  }
 },
 "nbformat": 4,
 "nbformat_minor": 2
}
