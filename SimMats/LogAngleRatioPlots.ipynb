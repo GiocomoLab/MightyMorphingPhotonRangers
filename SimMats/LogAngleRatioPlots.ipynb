{
 "cells": [
  {
   "cell_type": "code",
   "execution_count": 1,
   "metadata": {},
   "outputs": [],
   "source": [
    "import os\n",
    "os.sys.path.append(\"C:\\\\Users\\mplitt\\MightyMorphingPhotonRangers\")\n",
    "import numpy as np\n",
    "import matplotlib.pyplot as plt\n",
    "import utilities as u\n",
    "import preprocessing as pp\n",
    "import behavior as b\n",
    "import SimilarityMatrixAnalysis as sm\n",
    "import scipy as sp\n",
    "import PlaceCellAnalysis as pc\n",
    "\n",
    "\n",
    "%load_ext autoreload\n",
    "%autoreload 2\n",
    "\n",
    "%matplotlib inline"
   ]
  },
  {
   "cell_type": "code",
   "execution_count": null,
   "metadata": {},
   "outputs": [],
   "source": []
  }
 ],
 "metadata": {
  "kernelspec": {
   "display_name": "Python 3",
   "language": "python",
   "name": "python3"
  },
  "language_info": {
   "codemirror_mode": {
    "name": "ipython",
    "version": 3
   },
   "file_extension": ".py",
   "mimetype": "text/x-python",
   "name": "python",
   "nbconvert_exporter": "python",
   "pygments_lexer": "ipython3",
   "version": "3.7.3"
  }
 },
 "nbformat": 4,
 "nbformat_minor": 2
}
