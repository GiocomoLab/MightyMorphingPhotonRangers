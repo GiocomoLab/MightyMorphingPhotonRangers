{
 "cells": [
  {
   "cell_type": "code",
   "execution_count": 107,
   "metadata": {},
   "outputs": [
    {
     "name": "stdout",
     "output_type": "stream",
     "text": [
      "The autoreload extension is already loaded. To reload it, use:\n",
      "  %reload_ext autoreload\n"
     ]
    }
   ],
   "source": [
    "import os\n",
    "os.sys.path.append(\"C:\\\\Users\\mplitt\\MightyMorphingPhotonRangers\")\n",
    "import numpy as np\n",
    "import matplotlib.pyplot as plt\n",
    "import utilities as u\n",
    "import preprocessing as pp\n",
    "import behavior as b\n",
    "import SimilarityMatrixAnalysis as sm\n",
    "import scipy as sp\n",
    "import PlaceCellAnalysis as pc\n",
    "import matplotlib.gridspec as gridspec\n",
    "\n",
    "\n",
    "%load_ext autoreload\n",
    "%autoreload 2\n",
    "\n",
    "%matplotlib inline"
   ]
  },
  {
   "cell_type": "code",
   "execution_count": 131,
   "metadata": {},
   "outputs": [
    {
     "name": "stdout",
     "output_type": "stream",
     "text": [
      "G:\\My Drive\\VR_Data\\TwoTower\\behavior.sqlite\n",
      "G:\\My Drive\\VR_Data\\TwoTower\\4222174.0\\30_05_2019\\RuningTraining_1.sqlite\n",
      "file doesn't exist, errors to come!!!\n"
     ]
    }
   ],
   "source": [
    "df = pp.load_session_db()\n",
    "\n",
    "\n",
    "df = df[df['RewardCount']>30]\n",
    "df = df[df['Imaging']==1]\n",
    "df = df.sort_values(['MouseName','DateTime','SessionNumber'])\n",
    "tracks = 'TwoTower_noTimeout|TwoTower_Timeout|Reversal_noTimeout|Reversal|TwoTower_foraging|FreqMorph_Decision|FreqMorph_Timeout'\n",
    "df = df[df['Track'].str.contains(tracks,regex=True)]"
   ]
  },
  {
   "cell_type": "code",
   "execution_count": 132,
   "metadata": {},
   "outputs": [],
   "source": [
    "morph_rare = ['4139265.3','4139265.4','4139265.5','4222175.0']\n",
    "morph_familiar = ['4222153.2','4222154.1','4222153.1','4222174.1','4222157.3']"
   ]
  },
  {
   "cell_type": "code",
   "execution_count": 123,
   "metadata": {},
   "outputs": [
    {
     "data": {
      "text/html": [
       "<div>\n",
       "<style scoped>\n",
       "    .dataframe tbody tr th:only-of-type {\n",
       "        vertical-align: middle;\n",
       "    }\n",
       "\n",
       "    .dataframe tbody tr th {\n",
       "        vertical-align: top;\n",
       "    }\n",
       "\n",
       "    .dataframe thead th {\n",
       "        text-align: right;\n",
       "    }\n",
       "</style>\n",
       "<table border=\"1\" class=\"dataframe\">\n",
       "  <thead>\n",
       "    <tr style=\"text-align: right;\">\n",
       "      <th></th>\n",
       "      <th>MouseName</th>\n",
       "      <th>DateFolder</th>\n",
       "      <th>SessionNumber</th>\n",
       "      <th>Track</th>\n",
       "      <th>RewardCount</th>\n",
       "      <th>Imaging</th>\n",
       "      <th>ImagingRegion</th>\n",
       "      <th>DateTime</th>\n",
       "      <th>data file</th>\n",
       "      <th>scanfile</th>\n",
       "      <th>scanmat</th>\n",
       "      <th>s2pfolder</th>\n",
       "    </tr>\n",
       "  </thead>\n",
       "  <tbody>\n",
       "    <tr>\n",
       "      <th>1992</th>\n",
       "      <td>4222174.1</td>\n",
       "      <td>04_06_2019</td>\n",
       "      <td>1</td>\n",
       "      <td>TwoTower_foraging</td>\n",
       "      <td>80</td>\n",
       "      <td>1</td>\n",
       "      <td>CA1</td>\n",
       "      <td>2019-06-04</td>\n",
       "      <td>G:\\My Drive\\VR_Data\\TwoTower\\4222174.1\\04_06_2...</td>\n",
       "      <td>None</td>\n",
       "      <td>G:\\My Drive\\2P_Data\\TwoTower\\4222174.1\\04_06_2...</td>\n",
       "      <td>G:\\My Drive\\2P_Data\\TwoTower\\4222174.1\\04_06_2...</td>\n",
       "    </tr>\n",
       "    <tr>\n",
       "      <th>2024</th>\n",
       "      <td>4222174.1</td>\n",
       "      <td>06_06_2019</td>\n",
       "      <td>2</td>\n",
       "      <td>TwoTower_foraging</td>\n",
       "      <td>91</td>\n",
       "      <td>1</td>\n",
       "      <td>CA1</td>\n",
       "      <td>2019-06-06</td>\n",
       "      <td>G:\\My Drive\\VR_Data\\TwoTower\\4222174.1\\06_06_2...</td>\n",
       "      <td>None</td>\n",
       "      <td>G:\\My Drive\\2P_Data\\TwoTower\\4222174.1\\06_06_2...</td>\n",
       "      <td>G:\\My Drive\\2P_Data\\TwoTower\\4222174.1\\06_06_2...</td>\n",
       "    </tr>\n",
       "    <tr>\n",
       "      <th>2046</th>\n",
       "      <td>4222174.1</td>\n",
       "      <td>08_06_2019</td>\n",
       "      <td>2</td>\n",
       "      <td>TwoTower_foraging</td>\n",
       "      <td>67</td>\n",
       "      <td>1</td>\n",
       "      <td>CA1</td>\n",
       "      <td>2019-06-08</td>\n",
       "      <td>G:\\My Drive\\VR_Data\\TwoTower\\4222174.1\\08_06_2...</td>\n",
       "      <td>None</td>\n",
       "      <td>G:\\My Drive\\2P_Data\\TwoTower\\4222174.1\\08_06_2...</td>\n",
       "      <td>G:\\My Drive\\2P_Data\\TwoTower\\4222174.1\\08_06_2...</td>\n",
       "    </tr>\n",
       "    <tr>\n",
       "      <th>2073</th>\n",
       "      <td>4222174.1</td>\n",
       "      <td>11_06_2019</td>\n",
       "      <td>2</td>\n",
       "      <td>TwoTower_foraging</td>\n",
       "      <td>64</td>\n",
       "      <td>1</td>\n",
       "      <td>CA1</td>\n",
       "      <td>2019-06-11</td>\n",
       "      <td>G:\\My Drive\\VR_Data\\TwoTower\\4222174.1\\11_06_2...</td>\n",
       "      <td>None</td>\n",
       "      <td>G:\\My Drive\\2P_Data\\TwoTower\\4222174.1\\11_06_2...</td>\n",
       "      <td>G:\\My Drive\\2P_Data\\TwoTower\\4222174.1\\11_06_2...</td>\n",
       "    </tr>\n",
       "    <tr>\n",
       "      <th>2095</th>\n",
       "      <td>4222174.1</td>\n",
       "      <td>13_06_2019</td>\n",
       "      <td>2</td>\n",
       "      <td>TwoTower_foraging</td>\n",
       "      <td>66</td>\n",
       "      <td>1</td>\n",
       "      <td>CA1</td>\n",
       "      <td>2019-06-13</td>\n",
       "      <td>G:\\My Drive\\VR_Data\\TwoTower\\4222174.1\\13_06_2...</td>\n",
       "      <td>None</td>\n",
       "      <td>G:\\My Drive\\2P_Data\\TwoTower\\4222174.1\\13_06_2...</td>\n",
       "      <td>G:\\My Drive\\2P_Data\\TwoTower\\4222174.1\\13_06_2...</td>\n",
       "    </tr>\n",
       "    <tr>\n",
       "      <th>2108</th>\n",
       "      <td>4222174.1</td>\n",
       "      <td>14_06_2019</td>\n",
       "      <td>2</td>\n",
       "      <td>TwoTower_foraging</td>\n",
       "      <td>70</td>\n",
       "      <td>1</td>\n",
       "      <td>CA1</td>\n",
       "      <td>2019-06-14</td>\n",
       "      <td>G:\\My Drive\\VR_Data\\TwoTower\\4222174.1\\14_06_2...</td>\n",
       "      <td>None</td>\n",
       "      <td>G:\\My Drive\\2P_Data\\TwoTower\\4222174.1\\14_06_2...</td>\n",
       "      <td>G:\\My Drive\\2P_Data\\TwoTower\\4222174.1\\14_06_2...</td>\n",
       "    </tr>\n",
       "  </tbody>\n",
       "</table>\n",
       "</div>"
      ],
      "text/plain": [
       "      MouseName  DateFolder  SessionNumber              Track  RewardCount  \\\n",
       "1992  4222174.1  04_06_2019              1  TwoTower_foraging           80   \n",
       "2024  4222174.1  06_06_2019              2  TwoTower_foraging           91   \n",
       "2046  4222174.1  08_06_2019              2  TwoTower_foraging           67   \n",
       "2073  4222174.1  11_06_2019              2  TwoTower_foraging           64   \n",
       "2095  4222174.1  13_06_2019              2  TwoTower_foraging           66   \n",
       "2108  4222174.1  14_06_2019              2  TwoTower_foraging           70   \n",
       "\n",
       "      Imaging ImagingRegion   DateTime  \\\n",
       "1992        1           CA1 2019-06-04   \n",
       "2024        1           CA1 2019-06-06   \n",
       "2046        1           CA1 2019-06-08   \n",
       "2073        1           CA1 2019-06-11   \n",
       "2095        1           CA1 2019-06-13   \n",
       "2108        1           CA1 2019-06-14   \n",
       "\n",
       "                                              data file scanfile  \\\n",
       "1992  G:\\My Drive\\VR_Data\\TwoTower\\4222174.1\\04_06_2...     None   \n",
       "2024  G:\\My Drive\\VR_Data\\TwoTower\\4222174.1\\06_06_2...     None   \n",
       "2046  G:\\My Drive\\VR_Data\\TwoTower\\4222174.1\\08_06_2...     None   \n",
       "2073  G:\\My Drive\\VR_Data\\TwoTower\\4222174.1\\11_06_2...     None   \n",
       "2095  G:\\My Drive\\VR_Data\\TwoTower\\4222174.1\\13_06_2...     None   \n",
       "2108  G:\\My Drive\\VR_Data\\TwoTower\\4222174.1\\14_06_2...     None   \n",
       "\n",
       "                                                scanmat  \\\n",
       "1992  G:\\My Drive\\2P_Data\\TwoTower\\4222174.1\\04_06_2...   \n",
       "2024  G:\\My Drive\\2P_Data\\TwoTower\\4222174.1\\06_06_2...   \n",
       "2046  G:\\My Drive\\2P_Data\\TwoTower\\4222174.1\\08_06_2...   \n",
       "2073  G:\\My Drive\\2P_Data\\TwoTower\\4222174.1\\11_06_2...   \n",
       "2095  G:\\My Drive\\2P_Data\\TwoTower\\4222174.1\\13_06_2...   \n",
       "2108  G:\\My Drive\\2P_Data\\TwoTower\\4222174.1\\14_06_2...   \n",
       "\n",
       "                                              s2pfolder  \n",
       "1992  G:\\My Drive\\2P_Data\\TwoTower\\4222174.1\\04_06_2...  \n",
       "2024  G:\\My Drive\\2P_Data\\TwoTower\\4222174.1\\06_06_2...  \n",
       "2046  G:\\My Drive\\2P_Data\\TwoTower\\4222174.1\\08_06_2...  \n",
       "2073  G:\\My Drive\\2P_Data\\TwoTower\\4222174.1\\11_06_2...  \n",
       "2095  G:\\My Drive\\2P_Data\\TwoTower\\4222174.1\\13_06_2...  \n",
       "2108  G:\\My Drive\\2P_Data\\TwoTower\\4222174.1\\14_06_2...  "
      ]
     },
     "execution_count": 123,
     "metadata": {},
     "output_type": "execute_result"
    }
   ],
   "source": [
    "mouse = '4222174.1'\n",
    "df_mouse = df[df['MouseName'].str.match(mouse)]\n",
    "df_mouse"
   ]
  },
  {
   "cell_type": "code",
   "execution_count": 81,
   "metadata": {},
   "outputs": [],
   "source": [
    "sess = df_mouse.iloc[-1]"
   ]
  },
  {
   "cell_type": "code",
   "execution_count": 82,
   "metadata": {},
   "outputs": [],
   "source": [
    "def sess_lar(sess,max_pos=450,cellmask = None):\n",
    "    VRDat, C, S, A = pp.load_scan_sess(sess,fneu_coeff=0.7)\n",
    "    trial_info, tstart_inds, teleport_inds = u.by_trial_info(VRDat)\n",
    "\n",
    "\n",
    "    effMorph = trial_info['morphs'] +  trial_info['wallJitter'] + trial_info['bckgndJitter']\n",
    "    effMorph = (effMorph+.25)/1.5\n",
    "\n",
    "    msort = np.argsort(effMorph)\n",
    "\n",
    "    S_trial_mat, occ_trial_mat, edges,centers = u.make_pos_bin_trial_matrices(S,VRDat['pos']._values,VRDat['tstart']._values,VRDat['teleport']._values,bin_size=10)\n",
    "    posmask = centers<=max_pos\n",
    "    S_tm = S_trial_mat[:,posmask,:].reshape([S_trial_mat.shape[0],-1])\n",
    "    S_tm_norm = S_tm/np.linalg.norm(S_tm,ord=2,axis=1)[:,np.newaxis]\n",
    "\n",
    "\n",
    "    lar = np.zeros(effMorph.shape)\n",
    "    for trial in range(effMorph.shape[0]):\n",
    "        mask0 = trial_info['morphs']==0\n",
    "        mask1 = trial_info['morphs']==1\n",
    "        if trial_info['morphs'][trial]==0:\n",
    "            mask0[trial]=False\n",
    "        elif trial_info['morphs'][trial]==1:\n",
    "            mask1[trial]=False\n",
    "            \n",
    "        centroid0, centroid1 = np.nanmean(S_tm[mask0,:],axis=0), np.nanmean(S_tm[mask1,:],axis=0)\n",
    "        centroid0/np.linalg.norm(centroid0,ord=2)\n",
    "        centroid1/np.linalg.norm(centroid1,ord=2)\n",
    "        \n",
    "        lar[trial]= np.log(np.dot(S_tm_norm[trial,:],centroid0)/np.dot(S_tm_norm[trial,:],centroid1))\n",
    "    return lar, effMorph\n",
    "        \n",
    "\n",
    "    "
   ]
  },
  {
   "cell_type": "code",
   "execution_count": 85,
   "metadata": {},
   "outputs": [
    {
     "name": "stdout",
     "output_type": "stream",
     "text": [
      "num aberrant ttls 0.0\n",
      "34560 (34560,) (34560, 21) 97310\n",
      "frame diff 0\n"
     ]
    }
   ],
   "source": [
    "lar,em = sess_lar(sess,max_pos=450)"
   ]
  },
  {
   "cell_type": "code",
   "execution_count": 86,
   "metadata": {},
   "outputs": [
    {
     "data": {
      "text/plain": [
       "<matplotlib.collections.PathCollection at 0x2d1b314c710>"
      ]
     },
     "execution_count": 86,
     "metadata": {},
     "output_type": "execute_result"
    },
    {
     "data": {
      "image/png": "[encoded data removed]",
      "text/plain": [
       "<Figure size 432x288 with 1 Axes>"
      ]
     },
     "metadata": {
      "needs_background": "light"
     },
     "output_type": "display_data"
    }
   ],
   "source": [
    "f,ax = plt.subplots()\n",
    "ax.scatter(em,lar)"
   ]
  },
  {
   "cell_type": "code",
   "execution_count": 104,
   "metadata": {},
   "outputs": [],
   "source": [
    "def LAR_list_maker(mlist,firstSess = None):\n",
    "    LAR, EM = {},{}\n",
    "    \n",
    "    if firstSess is None:\n",
    "        firstSess = len(mlist)*[5]\n",
    "    elif isinstance(firstSess,int):\n",
    "        firstSess = len(mlist)*[firstSess]\n",
    "    else:\n",
    "        pass\n",
    "    \n",
    "    \n",
    "    for mouse,f_ind in zip(mlist,firstSess): \n",
    "        LAR[mouse],EM[mouse] = [],[]\n",
    "        df_mouse = df[df['MouseName'].str.match(mouse)]\n",
    "        for mat_ind,sess_ind in enumerate(np.arange(f_ind,df_mouse.shape[0])):\n",
    "            print(\"session ind\",sess_ind)\n",
    "            \n",
    "            sess = df_mouse.iloc[sess_ind]\n",
    "#             print(sess)\n",
    "            lar, em = sess_lar(sess)\n",
    "            LAR[mouse].append(lar)\n",
    "            EM[mouse].append(em)\n",
    "    return LAR, EM"
   ]
  },
  {
   "cell_type": "code",
   "execution_count": 124,
   "metadata": {},
   "outputs": [
    {
     "name": "stdout",
     "output_type": "stream",
     "text": [
      "session ind 5\n",
      "num aberrant ttls 0.0\n",
      "35085 (35085,) (35085, 21) 115307\n"
     ]
    },
    {
     "name": "stderr",
     "output_type": "stream",
     "text": [
      "C:\\Users\\mplitt\\Anaconda3\\lib\\site-packages\\pandas\\core\\frame.py:4034: SettingWithCopyWarning: \n",
      "A value is trying to be set on a copy of a slice from a DataFrame\n",
      "\n",
      "See the caveats in the documentation: http://pandas.pydata.org/pandas-docs/stable/indexing.html#indexing-view-versus-copy\n",
      "  downcast=downcast, **kwargs)\n"
     ]
    },
    {
     "name": "stdout",
     "output_type": "stream",
     "text": [
      "frame diff 0\n",
      "session ind 6\n",
      "num aberrant ttls 0.0\n",
      "33140 (33140,) (33140, 21) 109003\n",
      "frame diff 0\n",
      "session ind 7\n",
      "num aberrant ttls 0.0\n",
      "38209 (38209,) (38209, 21) 126969\n",
      "frame diff 0\n",
      "session ind 8\n",
      "num aberrant ttls 0.0\n",
      "33547 (33547,) (33547, 21) 110218\n",
      "frame diff 0\n",
      "session ind 9\n",
      "num aberrant ttls 0.0\n",
      "32038 (32038,) (32038, 21) 105022\n",
      "frame diff 0\n",
      "session ind 5\n",
      "num aberrant ttls 0.0\n",
      "30897 (30897,) (30897, 21) 102093\n",
      "frame diff 0\n",
      "session ind 6\n",
      "num aberrant ttls 0.0\n",
      "29023 (29023,) (29023, 21) 95160\n",
      "frame diff 0\n",
      "session ind 7\n",
      "num aberrant ttls 0.0\n",
      "31116 (31116,) (31116, 21) 102131\n",
      "frame diff 0\n",
      "session ind 8\n",
      "num aberrant ttls 0.0\n",
      "31932 (31932,) (31932, 21) 105228\n",
      "frame diff 0\n",
      "session ind 9\n",
      "num aberrant ttls 0.0\n",
      "30493 (30493,) (30493, 21) 100982\n",
      "frame diff 0\n",
      "session ind 10\n",
      "num aberrant ttls 0.0\n",
      "32084 (32084,) (32084, 21) 105601\n",
      "frame diff 0\n",
      "session ind 5\n",
      "num aberrant ttls 0.0\n",
      "34737 (34737,) (34737, 21) 113863\n",
      "frame diff 0\n",
      "session ind 6\n",
      "num aberrant ttls 0.0\n",
      "36018 (36018,) (36018, 21) 118606\n",
      "frame diff 0\n",
      "session ind 7\n",
      "num aberrant ttls 0.0\n",
      "40272 (40272,) (40272, 21) 133982\n",
      "frame diff 0\n",
      "session ind 8\n",
      "num aberrant ttls 0.0\n",
      "36659 (36659,) (36659, 21) 120387\n",
      "frame diff 0\n",
      "session ind 9\n",
      "num aberrant ttls 0.0\n",
      "36583 (36583,) (36583, 21) 124384\n",
      "frame diff 0\n"
     ]
    }
   ],
   "source": [
    "LAR_rare,EM_rare = LAR_list_maker(morph_rare)"
   ]
  },
  {
   "cell_type": "code",
   "execution_count": 154,
   "metadata": {},
   "outputs": [],
   "source": [
    "\n",
    "def plot_LAR(LAR,EM,cmap='copper'):\n",
    "    cmap = plt.cm.get_cmap(cmap)\n",
    "    f = plt.figure()\n",
    "    gs = gridspec.GridSpec(1,5)\n",
    "    ax_scat = f.add_subplot(gs[:,:4])\n",
    "    ax_hist = f.add_subplot(gs[:,-1])\n",
    "    N = len(LAR.keys())\n",
    "    print(N)\n",
    "    for i,mouse in enumerate(LAR.keys()):\n",
    "#         print(LAR[mouse])\n",
    "        lar,em = np.array(LAR[mouse]).ravel(),np.array(EM[mouse]).ravel()\n",
    "        print(lar.shape)\n",
    "        ax_scat.scatter(em,lar) #,color=cmap(np.float(i/N)),alpha=.4,s=8)\n",
    "        ax_hist.hist(lar,bins=50,orientation='horizontal',color=cmap(np.float(i/N)),alpha=.4)\n",
    "    ax_hist.set_ylim([-1.2,1.2])\n",
    "    ax_scat.set_ylim([-1.2,1.2])\n",
    "    ax_hist.set_yticks([])\n",
    "    return f,(ax_scat,ax_hist)"
   ]
  },
  {
   "cell_type": "code",
   "execution_count": 155,
   "metadata": {},
   "outputs": [
    {
     "name": "stdout",
     "output_type": "stream",
     "text": [
      "4\n",
      "(600,)\n",
      "(720,)\n",
      "(600,)\n",
      "(0,)\n"
     ]
    },
    {
     "data": {
      "text/plain": [
       "(<Figure size 432x288 with 2 Axes>,\n",
       " (<matplotlib.axes._subplots.AxesSubplot at 0x2d1811e3400>,\n",
       "  <matplotlib.axes._subplots.AxesSubplot at 0x2d181205dd8>))"
      ]
     },
     "execution_count": 155,
     "metadata": {},
     "output_type": "execute_result"
    },
    {
     "data": {
      "image/png": "[encoded data removed]",
      "text/plain": [
       "<Figure size 432x288 with 2 Axes>"
      ]
     },
     "metadata": {
      "needs_background": "light"
     },
     "output_type": "display_data"
    }
   ],
   "source": [
    "plot_LAR(LAR_rare,EM_rare)"
   ]
  },
  {
   "cell_type": "code",
   "execution_count": null,
   "metadata": {},
   "outputs": [
    {
     "name": "stdout",
     "output_type": "stream",
     "text": [
      "session ind 5\n",
      "num aberrant ttls 0.0\n",
      "33545 (33545,) (33545, 21) 121243\n"
     ]
    }
   ],
   "source": [
    "LAR_fam,EM_fam = LAR_list_maker(morph_familiar)"
   ]
  },
  {
   "cell_type": "code",
   "execution_count": null,
   "metadata": {},
   "outputs": [],
   "source": [
    "\n",
    "plot_LAR(LAR_fam,EM_fam)"
   ]
  },
  {
   "cell_type": "code",
   "execution_count": null,
   "metadata": {},
   "outputs": [],
   "source": [
    "lar = []\n",
    "for k,v in LAR_rare.items():\n",
    "    lar.extend(reduce(lambda x,y: x+y, v) )"
   ]
  },
  {
   "cell_type": "code",
   "execution_count": null,
   "metadata": {},
   "outputs": [],
   "source": []
  }
 ],
 "metadata": {
  "kernelspec": {
   "display_name": "Python 3",
   "language": "python",
   "name": "python3"
  },
  "language_info": {
   "codemirror_mode": {
    "name": "ipython",
    "version": 3
   },
   "file_extension": ".py",
   "mimetype": "text/x-python",
   "name": "python",
   "nbconvert_exporter": "python",
   "pygments_lexer": "ipython3",
   "version": "3.7.3"
  }
 },
 "nbformat": 4,
 "nbformat_minor": 2
}
