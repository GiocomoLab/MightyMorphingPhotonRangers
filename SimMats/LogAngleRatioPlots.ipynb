{
 "cells": [
  {
   "cell_type": "code",
   "execution_count": 2,
   "metadata": {},
   "outputs": [],
   "source": [
    "import os\n",
    "os.sys.path.append(\"C:\\\\Users\\mplitt\\MightyMorphingPhotonRangers\")\n",
    "import numpy as np\n",
    "import matplotlib.pyplot as plt\n",
    "import utilities as u\n",
    "import preprocessing as pp\n",
    "import behavior as b\n",
    "import SimilarityMatrixAnalysis as sm\n",
    "import scipy as sp\n",
    "import PlaceCellAnalysis as pc\n",
    "import matplotlib.gridspec as gridspec\n",
    "from sklearn.svm import SVC\n",
    "from sklearn.linear_model import LinearRegression as linreg\n",
    "\n",
    "from scipy.interpolate import interp1d as spline\n",
    "\n",
    "%load_ext autoreload\n",
    "%autoreload 2\n",
    "\n",
    "%matplotlib inline"
   ]
  },
  {
   "cell_type": "code",
   "execution_count": 3,
   "metadata": {},
   "outputs": [
    {
     "name": "stdout",
     "output_type": "stream",
     "text": [
      "G:\\My Drive\\VR_Data\\TwoTower\\behavior.sqlite\n",
      "G:\\My Drive\\VR_Data\\TwoTower\\4222174.0\\30_05_2019\\RuningTraining_1.sqlite\n",
      "file doesn't exist, errors to come!!!\n",
      "G:\\My Drive\\VR_Data\\TwoTower\\4222168.1\\09_08_2019\\RuningTraining_1.sqlite\n",
      "file doesn't exist, errors to come!!!\n",
      "G:\\My Drive\\VR_Data\\TwoTower\\4222169.2\\26_08_2019\\TwoTower_Timeout_0.sqlite\n",
      "file doesn't exist, errors to come!!!\n"
     ]
    }
   ],
   "source": [
    "df = pp.load_session_db()\n",
    "\n",
    "\n",
    "df = df[df['RewardCount']>30]\n",
    "df = df[df['Imaging']==1]\n",
    "df = df.sort_values(['MouseName','DateTime','SessionNumber'])\n",
    "# tracks = 'TwoTower_noTimeout|TwoTower_Timeout|Reversal_noTimeout|Reversal|TwoTower_foraging|FreqMorph_Decision|FreqMorph_Timeout'\n",
    "tracks = 'TwoTower_foraging|FreqMorph_Decision|FreqMorph_Timeout|TwoTower_noTimeout|TwoTower_Timeout'\n",
    "df = df[df['Track'].str.contains(tracks,regex=True)]"
   ]
  },
  {
   "cell_type": "code",
   "execution_count": 4,
   "metadata": {},
   "outputs": [],
   "source": [
    "morph_rare = ['4139265.3','4139265.4','4139265.5','4222168.1'] #,'4139266.3'] #,'4222175.0']\n",
    "# morph_familiar = ['4222153.2','4222154.1','4222153.1','4222157.3','4222174.1','4222153.3']\n",
    "morph_familiar = ['4222153.1','4222153.2','4222153.3','4222174.1','4222154.1']"
   ]
  },
  {
   "cell_type": "code",
   "execution_count": 5,
   "metadata": {},
   "outputs": [],
   "source": [
    "def sess_lar(sess,max_pos=450,cellmask = None):\n",
    "    VRDat, C, S, A = pp.load_scan_sess(sess,fneu_coeff=0.7)\n",
    "    trial_info, tstart_inds, teleport_inds = u.by_trial_info(VRDat)\n",
    "\n",
    "\n",
    "    effMorph = trial_info['morphs'] +  trial_info['wallJitter'] + trial_info['bckgndJitter']\n",
    "    effMorph = (effMorph+.3)/1.6\n",
    "    rewards = 1.*(trial_info['rewards']>0)\n",
    "\n",
    "    msort = np.argsort(effMorph)\n",
    "\n",
    "    S_trial_mat, occ_trial_mat, edges,centers = u.make_pos_bin_trial_matrices(S,VRDat['pos']._values,VRDat['tstart']._values,VRDat['teleport']._values,bin_size=10,speed=VRDat['speed']._values)\n",
    "    S_trial_mat[np.isnan(S_trial_mat)]=0\n",
    "    posmask = centers<=max_pos\n",
    "    S_tm = S_trial_mat[:,posmask,:].reshape([S_trial_mat.shape[0],-1])\n",
    "    S_tm_norm = S_tm/np.linalg.norm(S_tm,ord=2,axis=1)[:,np.newaxis]\n",
    "   # S_sm = np.matmul(S_tm_norm,S_tm_norm.T)\n",
    "\n",
    "\n",
    "    lar = np.zeros(effMorph.shape)\n",
    "    sim0 = np.zeros(effMorph.shape)\n",
    "    sim1 = np.zeros(effMorph.shape)\n",
    "    for trial in range(effMorph.shape[0]):\n",
    "        mask0 = trial_info['morphs']==0\n",
    "        mask1 = trial_info['morphs']==1\n",
    "        if trial_info['morphs'][trial]==0:\n",
    "            mask0[trial]=False\n",
    "        elif trial_info['morphs'][trial]==1:\n",
    "            mask1[trial]=False\n",
    "            \n",
    "        centroid0, centroid1 = np.nanmean(S_tm[mask0,:],axis=0), np.nanmean(S_tm[mask1,:],axis=0)\n",
    "        cd = centroid0-centroid1\n",
    "        cd/=np.linalg.norm(cd.ravel(),ord=2)\n",
    "        centroid0/=np.linalg.norm(centroid0.ravel(),ord=2)\n",
    "        centroid1/=np.linalg.norm(centroid1.ravel(),ord=2)\n",
    "        \n",
    "        sim0[trial],sim1[trial] = np.dot(S_tm_norm[trial,:],centroid0), np.dot(S_tm_norm[trial,:],centroid1) \n",
    "#         print(effMorph[trial],sim0[trial],sim1[trial])\n",
    "#         lar[trial]= np.log(np.dot(S_tm_norm[trial,:],centroid0)/np.dot(S_tm_norm[trial,:],centroid1))\n",
    "        lar[trial] = np.dot(S_tm_norm[trial,:],cd)\n",
    "    return lar, effMorph, sim0, sim1\n",
    "        \n",
    "\n",
    "    "
   ]
  },
  {
   "cell_type": "code",
   "execution_count": 6,
   "metadata": {},
   "outputs": [
    {
     "data": {
      "text/html": [
       "<div>\n",
       "<style scoped>\n",
       "    .dataframe tbody tr th:only-of-type {\n",
       "        vertical-align: middle;\n",
       "    }\n",
       "\n",
       "    .dataframe tbody tr th {\n",
       "        vertical-align: top;\n",
       "    }\n",
       "\n",
       "    .dataframe thead th {\n",
       "        text-align: right;\n",
       "    }\n",
       "</style>\n",
       "<table border=\"1\" class=\"dataframe\">\n",
       "  <thead>\n",
       "    <tr style=\"text-align: right;\">\n",
       "      <th></th>\n",
       "      <th>MouseName</th>\n",
       "      <th>DateFolder</th>\n",
       "      <th>SessionNumber</th>\n",
       "      <th>Track</th>\n",
       "      <th>RewardCount</th>\n",
       "      <th>Imaging</th>\n",
       "      <th>ImagingRegion</th>\n",
       "      <th>DateTime</th>\n",
       "      <th>data file</th>\n",
       "      <th>scanfile</th>\n",
       "      <th>scanmat</th>\n",
       "      <th>s2pfolder</th>\n",
       "    </tr>\n",
       "  </thead>\n",
       "  <tbody>\n",
       "    <tr>\n",
       "      <th>1717</th>\n",
       "      <td>4222154.1</td>\n",
       "      <td>08_04_2019</td>\n",
       "      <td>1</td>\n",
       "      <td>TwoTower_foraging</td>\n",
       "      <td>120</td>\n",
       "      <td>1</td>\n",
       "      <td>CA1</td>\n",
       "      <td>2019-04-08</td>\n",
       "      <td>G:\\My Drive\\VR_Data\\TwoTower\\4222154.1\\08_04_2...</td>\n",
       "      <td>None</td>\n",
       "      <td>G:\\My Drive\\2P_Data\\TwoTower\\4222154.1\\08_04_2...</td>\n",
       "      <td>G:\\My Drive\\2P_Data\\TwoTower\\4222154.1\\08_04_2...</td>\n",
       "    </tr>\n",
       "    <tr>\n",
       "      <th>1741</th>\n",
       "      <td>4222154.1</td>\n",
       "      <td>10_04_2019</td>\n",
       "      <td>4</td>\n",
       "      <td>TwoTower_foraging</td>\n",
       "      <td>120</td>\n",
       "      <td>1</td>\n",
       "      <td>CA1</td>\n",
       "      <td>2019-04-10</td>\n",
       "      <td>G:\\My Drive\\VR_Data\\TwoTower\\4222154.1\\10_04_2...</td>\n",
       "      <td>None</td>\n",
       "      <td>G:\\My Drive\\2P_Data\\TwoTower\\4222154.1\\10_04_2...</td>\n",
       "      <td>G:\\My Drive\\2P_Data\\TwoTower\\4222154.1\\10_04_2...</td>\n",
       "    </tr>\n",
       "    <tr>\n",
       "      <th>1762</th>\n",
       "      <td>4222154.1</td>\n",
       "      <td>12_04_2019</td>\n",
       "      <td>2</td>\n",
       "      <td>TwoTower_foraging</td>\n",
       "      <td>95</td>\n",
       "      <td>1</td>\n",
       "      <td>CA1</td>\n",
       "      <td>2019-04-12</td>\n",
       "      <td>G:\\My Drive\\VR_Data\\TwoTower\\4222154.1\\12_04_2...</td>\n",
       "      <td>None</td>\n",
       "      <td>G:\\My Drive\\2P_Data\\TwoTower\\4222154.1\\12_04_2...</td>\n",
       "      <td>G:\\My Drive\\2P_Data\\TwoTower\\4222154.1\\12_04_2...</td>\n",
       "    </tr>\n",
       "    <tr>\n",
       "      <th>1782</th>\n",
       "      <td>4222154.1</td>\n",
       "      <td>14_04_2019</td>\n",
       "      <td>2</td>\n",
       "      <td>TwoTower_foraging</td>\n",
       "      <td>96</td>\n",
       "      <td>1</td>\n",
       "      <td>CA1</td>\n",
       "      <td>2019-04-14</td>\n",
       "      <td>G:\\My Drive\\VR_Data\\TwoTower\\4222154.1\\14_04_2...</td>\n",
       "      <td>None</td>\n",
       "      <td>G:\\My Drive\\2P_Data\\TwoTower\\4222154.1\\14_04_2...</td>\n",
       "      <td>G:\\My Drive\\2P_Data\\TwoTower\\4222154.1\\14_04_2...</td>\n",
       "    </tr>\n",
       "    <tr>\n",
       "      <th>1797</th>\n",
       "      <td>4222154.1</td>\n",
       "      <td>15_04_2019</td>\n",
       "      <td>2</td>\n",
       "      <td>TwoTower_foraging</td>\n",
       "      <td>102</td>\n",
       "      <td>1</td>\n",
       "      <td>CA1</td>\n",
       "      <td>2019-04-15</td>\n",
       "      <td>G:\\My Drive\\VR_Data\\TwoTower\\4222154.1\\15_04_2...</td>\n",
       "      <td>None</td>\n",
       "      <td>G:\\My Drive\\2P_Data\\TwoTower\\4222154.1\\15_04_2...</td>\n",
       "      <td>G:\\My Drive\\2P_Data\\TwoTower\\4222154.1\\15_04_2...</td>\n",
       "    </tr>\n",
       "    <tr>\n",
       "      <th>1810</th>\n",
       "      <td>4222154.1</td>\n",
       "      <td>16_04_2019</td>\n",
       "      <td>2</td>\n",
       "      <td>TwoTower_foraging</td>\n",
       "      <td>71</td>\n",
       "      <td>1</td>\n",
       "      <td>CA1</td>\n",
       "      <td>2019-04-16</td>\n",
       "      <td>G:\\My Drive\\VR_Data\\TwoTower\\4222154.1\\16_04_2...</td>\n",
       "      <td>None</td>\n",
       "      <td>G:\\My Drive\\2P_Data\\TwoTower\\4222154.1\\16_04_2...</td>\n",
       "      <td>G:\\My Drive\\2P_Data\\TwoTower\\4222154.1\\16_04_2...</td>\n",
       "    </tr>\n",
       "    <tr>\n",
       "      <th>1819</th>\n",
       "      <td>4222154.1</td>\n",
       "      <td>17_04_2019</td>\n",
       "      <td>2</td>\n",
       "      <td>TwoTower_foraging</td>\n",
       "      <td>78</td>\n",
       "      <td>1</td>\n",
       "      <td>CA1</td>\n",
       "      <td>2019-04-17</td>\n",
       "      <td>G:\\My Drive\\VR_Data\\TwoTower\\4222154.1\\17_04_2...</td>\n",
       "      <td>None</td>\n",
       "      <td>G:\\My Drive\\2P_Data\\TwoTower\\4222154.1\\17_04_2...</td>\n",
       "      <td>G:\\My Drive\\2P_Data\\TwoTower\\4222154.1\\17_04_2...</td>\n",
       "    </tr>\n",
       "    <tr>\n",
       "      <th>1828</th>\n",
       "      <td>4222154.1</td>\n",
       "      <td>18_04_2019</td>\n",
       "      <td>2</td>\n",
       "      <td>TwoTower_foraging</td>\n",
       "      <td>70</td>\n",
       "      <td>1</td>\n",
       "      <td>CA1</td>\n",
       "      <td>2019-04-18</td>\n",
       "      <td>G:\\My Drive\\VR_Data\\TwoTower\\4222154.1\\18_04_2...</td>\n",
       "      <td>None</td>\n",
       "      <td>G:\\My Drive\\2P_Data\\TwoTower\\4222154.1\\18_04_2...</td>\n",
       "      <td>G:\\My Drive\\2P_Data\\TwoTower\\4222154.1\\18_04_2...</td>\n",
       "    </tr>\n",
       "    <tr>\n",
       "      <th>1836</th>\n",
       "      <td>4222154.1</td>\n",
       "      <td>19_04_2019</td>\n",
       "      <td>2</td>\n",
       "      <td>TwoTower_foraging</td>\n",
       "      <td>79</td>\n",
       "      <td>1</td>\n",
       "      <td>CA1</td>\n",
       "      <td>2019-04-19</td>\n",
       "      <td>G:\\My Drive\\VR_Data\\TwoTower\\4222154.1\\19_04_2...</td>\n",
       "      <td>None</td>\n",
       "      <td>G:\\My Drive\\2P_Data\\TwoTower\\4222154.1\\19_04_2...</td>\n",
       "      <td>G:\\My Drive\\2P_Data\\TwoTower\\4222154.1\\19_04_2...</td>\n",
       "    </tr>\n",
       "  </tbody>\n",
       "</table>\n",
       "</div>"
      ],
      "text/plain": [
       "      MouseName  DateFolder  SessionNumber              Track  RewardCount  \\\n",
       "1717  4222154.1  08_04_2019              1  TwoTower_foraging          120   \n",
       "1741  4222154.1  10_04_2019              4  TwoTower_foraging          120   \n",
       "1762  4222154.1  12_04_2019              2  TwoTower_foraging           95   \n",
       "1782  4222154.1  14_04_2019              2  TwoTower_foraging           96   \n",
       "1797  4222154.1  15_04_2019              2  TwoTower_foraging          102   \n",
       "1810  4222154.1  16_04_2019              2  TwoTower_foraging           71   \n",
       "1819  4222154.1  17_04_2019              2  TwoTower_foraging           78   \n",
       "1828  4222154.1  18_04_2019              2  TwoTower_foraging           70   \n",
       "1836  4222154.1  19_04_2019              2  TwoTower_foraging           79   \n",
       "\n",
       "      Imaging ImagingRegion   DateTime  \\\n",
       "1717        1           CA1 2019-04-08   \n",
       "1741        1           CA1 2019-04-10   \n",
       "1762        1           CA1 2019-04-12   \n",
       "1782        1           CA1 2019-04-14   \n",
       "1797        1           CA1 2019-04-15   \n",
       "1810        1           CA1 2019-04-16   \n",
       "1819        1           CA1 2019-04-17   \n",
       "1828        1           CA1 2019-04-18   \n",
       "1836        1           CA1 2019-04-19   \n",
       "\n",
       "                                              data file scanfile  \\\n",
       "1717  G:\\My Drive\\VR_Data\\TwoTower\\4222154.1\\08_04_2...     None   \n",
       "1741  G:\\My Drive\\VR_Data\\TwoTower\\4222154.1\\10_04_2...     None   \n",
       "1762  G:\\My Drive\\VR_Data\\TwoTower\\4222154.1\\12_04_2...     None   \n",
       "1782  G:\\My Drive\\VR_Data\\TwoTower\\4222154.1\\14_04_2...     None   \n",
       "1797  G:\\My Drive\\VR_Data\\TwoTower\\4222154.1\\15_04_2...     None   \n",
       "1810  G:\\My Drive\\VR_Data\\TwoTower\\4222154.1\\16_04_2...     None   \n",
       "1819  G:\\My Drive\\VR_Data\\TwoTower\\4222154.1\\17_04_2...     None   \n",
       "1828  G:\\My Drive\\VR_Data\\TwoTower\\4222154.1\\18_04_2...     None   \n",
       "1836  G:\\My Drive\\VR_Data\\TwoTower\\4222154.1\\19_04_2...     None   \n",
       "\n",
       "                                                scanmat  \\\n",
       "1717  G:\\My Drive\\2P_Data\\TwoTower\\4222154.1\\08_04_2...   \n",
       "1741  G:\\My Drive\\2P_Data\\TwoTower\\4222154.1\\10_04_2...   \n",
       "1762  G:\\My Drive\\2P_Data\\TwoTower\\4222154.1\\12_04_2...   \n",
       "1782  G:\\My Drive\\2P_Data\\TwoTower\\4222154.1\\14_04_2...   \n",
       "1797  G:\\My Drive\\2P_Data\\TwoTower\\4222154.1\\15_04_2...   \n",
       "1810  G:\\My Drive\\2P_Data\\TwoTower\\4222154.1\\16_04_2...   \n",
       "1819  G:\\My Drive\\2P_Data\\TwoTower\\4222154.1\\17_04_2...   \n",
       "1828  G:\\My Drive\\2P_Data\\TwoTower\\4222154.1\\18_04_2...   \n",
       "1836  G:\\My Drive\\2P_Data\\TwoTower\\4222154.1\\19_04_2...   \n",
       "\n",
       "                                              s2pfolder  \n",
       "1717  G:\\My Drive\\2P_Data\\TwoTower\\4222154.1\\08_04_2...  \n",
       "1741  G:\\My Drive\\2P_Data\\TwoTower\\4222154.1\\10_04_2...  \n",
       "1762  G:\\My Drive\\2P_Data\\TwoTower\\4222154.1\\12_04_2...  \n",
       "1782  G:\\My Drive\\2P_Data\\TwoTower\\4222154.1\\14_04_2...  \n",
       "1797  G:\\My Drive\\2P_Data\\TwoTower\\4222154.1\\15_04_2...  \n",
       "1810  G:\\My Drive\\2P_Data\\TwoTower\\4222154.1\\16_04_2...  \n",
       "1819  G:\\My Drive\\2P_Data\\TwoTower\\4222154.1\\17_04_2...  \n",
       "1828  G:\\My Drive\\2P_Data\\TwoTower\\4222154.1\\18_04_2...  \n",
       "1836  G:\\My Drive\\2P_Data\\TwoTower\\4222154.1\\19_04_2...  "
      ]
     },
     "execution_count": 6,
     "metadata": {},
     "output_type": "execute_result"
    }
   ],
   "source": [
    "mouse = '4222154.1'\n",
    "df_mouse = df[df['MouseName'].str.match(mouse)]\n",
    "df_mouse\n"
   ]
  },
  {
   "cell_type": "code",
   "execution_count": 10,
   "metadata": {},
   "outputs": [
    {
     "name": "stdout",
     "output_type": "stream",
     "text": [
      "num aberrant ttls 0.0\n",
      "32644 (32644,) (32644, 21) 106559\n",
      "(106559,) (106559, 21)\n",
      "frame diff 0\n"
     ]
    }
   ],
   "source": [
    "sess = df_mouse.iloc[4]\n",
    "lar, effMorph, sim0, sim1 = sess_lar(sess)\n",
    "\n",
    "\n"
   ]
  },
  {
   "cell_type": "code",
   "execution_count": 11,
   "metadata": {},
   "outputs": [],
   "source": [
    "def LAR_list_maker(mlist,firstSess = None,max_pos=450.):\n",
    "    LAR, EM,S0,S1 = {},{},{},{}\n",
    "    \n",
    "    if firstSess is None:\n",
    "        firstSess = len(mlist)*[5]\n",
    "    elif isinstance(firstSess,int):\n",
    "        firstSess = len(mlist)*[firstSess]\n",
    "    else:\n",
    "        pass\n",
    "    \n",
    "    \n",
    "    for mouse,f_ind in zip(mlist,firstSess): \n",
    "        LAR[mouse],EM[mouse],S0[mouse],S1[mouse] = [],[],[],[]\n",
    "        df_mouse = df[df['MouseName'].str.match(mouse)]\n",
    "        for mat_ind,sess_ind in enumerate(np.arange(f_ind,df_mouse.shape[0]).tolist()):\n",
    "            print(\"session ind\",sess_ind)\n",
    "            \n",
    "            sess = df_mouse.iloc[sess_ind]\n",
    "#             print(sess)\n",
    "            lar, em,s0,s1 = sess_lar(sess,max_pos=max_pos)\n",
    "            LAR[mouse].append(lar)\n",
    "            EM[mouse].append(em)\n",
    "            S0[mouse].append(s0)\n",
    "            S1[mouse].append(s1)\n",
    "    return LAR, EM,S0,S1"
   ]
  },
  {
   "cell_type": "code",
   "execution_count": null,
   "metadata": {},
   "outputs": [
    {
     "name": "stdout",
     "output_type": "stream",
     "text": [
      "session ind 5\n",
      "num aberrant ttls 0.0\n",
      "35085 (35085,) (35085, 21) 115307\n",
      "(115307,) (115307, 21)\n",
      "frame diff 0\n"
     ]
    }
   ],
   "source": [
    "LAR_rare,EM_rare,S0_rare,S1_rare = LAR_list_maker(morph_rare,firstSess=[5,5,5,3])"
   ]
  },
  {
   "cell_type": "code",
   "execution_count": null,
   "metadata": {},
   "outputs": [],
   "source": [
    "LAR_fam,EM_fam,S0_fam,S1_fam = LAR_list_maker(morph_familiar,firstSess=4)"
   ]
  },
  {
   "cell_type": "code",
   "execution_count": null,
   "metadata": {},
   "outputs": [],
   "source": [
    "\n",
    "def plot_LAR(LAR,EM,cmap='copper',ymin=-1.2,ymax=1.2):\n",
    "    cmap = plt.cm.get_cmap(cmap)\n",
    "    f = plt.figure()\n",
    "    gs = gridspec.GridSpec(1,5)\n",
    "    ax_scat = f.add_subplot(gs[:,:4])\n",
    "    ax_hist = f.add_subplot(gs[:,-1])\n",
    "    N = len(LAR.keys())\n",
    "    bins = np.linspace(ymin,ymax)\n",
    "    print(N)\n",
    "    for i,mouse in enumerate(LAR.keys()):\n",
    "        if len(LAR[mouse])>0:\n",
    "            print(mouse)\n",
    "            lar,em = np.concatenate(LAR[mouse]),np.concatenate(EM[mouse])\n",
    "#             lar/=np.amax(lar)-np.amin(lar)\n",
    "#             lar-=lar.mean()\n",
    "#             lar/=np.amax(np.abs(lar))\n",
    "            print(lar.shape)\n",
    "            ax_scat.scatter(em,lar,color=cmap(np.float(i/N)),alpha=.4,s=8)\n",
    "            hist,edges = np.histogram(lar,bins=bins)\n",
    "            ax_hist.fill_betweenx(edges[1:],hist/hist.sum(),color=cmap(np.float(i/N)),alpha=.4)\n",
    "#             ax_hist.hist(lar,bins=50,orientation='horizontal',color=cmap(np.float(i/N)),alpha=.4,density=True)\n",
    "    ax_hist.set_ylim([ymin,ymax])\n",
    "    ax_scat.set_ylim([ymin,ymax])\n",
    "    ax_hist.set_yticks([])\n",
    "    return f,(ax_scat,ax_hist)"
   ]
  },
  {
   "cell_type": "code",
   "execution_count": null,
   "metadata": {},
   "outputs": [],
   "source": [
    "basedir = \"G:\\\\My Drive\\\\manuscripts\\\\MightyMorphinPhotonRangers_Manuscript\\\\Figures\\\\\""
   ]
  },
  {
   "cell_type": "code",
   "execution_count": null,
   "metadata": {},
   "outputs": [],
   "source": [
    "f,ax = plot_LAR(S0_rare,EM_rare,ymin=0,ymax=0.6)\n",
    "# f.savefig(os.path.join(basedir,'rare_sim0.pdf'),format='pdf')\n",
    "\n",
    "f,ax = plot_LAR(S0_fam,EM_fam,cmap='cividis',ymin=0,ymax=.6)\n",
    "# f.savefig(os.path.join(basedir,'fam_sim0.pdf'),format='pdf')"
   ]
  },
  {
   "cell_type": "code",
   "execution_count": null,
   "metadata": {},
   "outputs": [],
   "source": [
    "f,ax = plot_LAR(S1_rare,EM_rare,ymin=0,ymax=.6)\n",
    "# f.savefig(os.path.join(basedir,'rare_sim1.pdf'),format='pdf')\n",
    "f,ax = plot_LAR(S1_fam,EM_fam,cmap='cividis',ymin=0,ymax=.6)\n",
    "# f.savefig(os.path.join(basedir,'fam_sim1.pdf'),format='pdf')"
   ]
  },
  {
   "cell_type": "code",
   "execution_count": null,
   "metadata": {},
   "outputs": [],
   "source": [
    "f,ax = plot_LAR(LAR_rare,EM_rare,cmap='copper',ymin=-.5,ymax=.5)\n",
    "# f.savefig(os.path.join(basedir,'rare_simratio.pdf'),format='pdf')"
   ]
  },
  {
   "cell_type": "code",
   "execution_count": null,
   "metadata": {},
   "outputs": [],
   "source": [
    "f,ax = plot_LAR(LAR_fam,EM_fam,cmap='cividis',ymin=-.5,ymax=.5)\n",
    "# f.savefig(os.path.join(basedir,'fam_simratio.pdf'),format='pdf')"
   ]
  },
  {
   "cell_type": "code",
   "execution_count": null,
   "metadata": {},
   "outputs": [],
   "source": [
    "\n",
    "def mega_lar(LAR,exclude=()):\n",
    "    mega_lar =  []\n",
    "    for k,v in LAR.items():\n",
    "        if k not in exclude:\n",
    "            mega_lar.extend(v)\n",
    "   \n",
    "    return np.concatenate(mega_lar)\n",
    "\n",
    "\n",
    "mega_lar_fam = mega_lar(LAR_fam)\n",
    "mega_lar_rare = mega_lar(LAR_rare)\n",
    "\n",
    "mega_em_fam = mega_lar(EM_fam)\n",
    "mega_em_rare = mega_lar(EM_rare)\n",
    "\n",
    "mega_s0_fam = mega_lar(S0_fam)\n",
    "mega_s1_fam = mega_lar(S1_fam)\n",
    "\n",
    "mega_s0_rare = mega_lar(S0_rare)\n",
    "mega_s1_rare = mega_lar(S1_rare)\n",
    "\n"
   ]
  },
  {
   "cell_type": "code",
   "execution_count": null,
   "metadata": {},
   "outputs": [],
   "source": [
    "theta = np.linspace(-.1,1.1,num=200) # possible morph values\n",
    "f1,f2 = 4, 12 # actual frequencies the mouse sees\n",
    "\n",
    "mm = np.log10(f1*(1-theta) + f2*(theta)) # log of the linear combinations of the stimuli\n",
    "# scale this so it's back in the range of the morph values without distortion\n",
    "theta_corrected = (mm-np.amin(mm))/(np.amax(mm)-np.amin(mm))*1.2 - .1 \n",
    "theta_corrected[0],theta_corrected[-1]=-.1,1.1 # hard code the edges to correct float errors\n",
    "\n",
    "# splines for going between the two spaces\n",
    "morph_2_logstim = spline(theta,theta_corrected)\n",
    "logstim_2_morph = spline(theta_corrected,theta)\n",
    "\n",
    "gaussian = lambda mu,sigma,x: np.exp(-(mu-x)**2/sigma**2)\n",
    "def gaussian_dens(mu,sigma,x):\n",
    "    v = gaussian(mu,sigma,x)\n",
    "    return v/v.sum()\n",
    "\n",
    "def mult_and_norm(dens1,dens2):\n",
    "    post = dens1*dens2\n",
    "    return post/post.sum()\n",
    "\n",
    "\n",
    "def run_posterior_inference(p_theta,samp=np.linspace(-.1,1.1,num=1000)):\n",
    "    '''function runs probabilistic inference and makes a few helpful plots\n",
    "    Inputs: p_theta - the stimulus prior in log-space sampled at the values of previously defined theta\n",
    "    Returns: figure and axes handles'''\n",
    "    \n",
    "    samp_mask = (samp>=-.1) & (samp<=1.1)\n",
    "    ### RUN SOME DEMOS OF WHAT THE INFERENCE PROCESS LOOKS LIKE AT DIFFERENT STIMULUS VALUES\n",
    "    \n",
    "    # likelihood - zero centered gaussian with fixed variance in log space\n",
    "    p_s_theta = gaussian_dens(0,.2,samp)\n",
    "\n",
    "    # posterior - multiply likelihood and posterior and normalize to be a valid distribution\n",
    "    p_theta_s = mult_and_norm(p_s_theta,p_theta)\n",
    "\n",
    "    f_post_demo,ax_post_demo = plt.subplots(1,5,figsize=[15,3])\n",
    "    ax_post_demo[0].plot(samp,p_theta,label='prior')\n",
    "    ax_post_demo[0].plot(samp,p_s_theta,label='likelihood',alpha=.4)\n",
    "    ax_post_demo[0].plot(samp,p_theta_s,label='posterior')\n",
    "    \n",
    "    ax_post_demo[0].spines['right'].set_visible(False)\n",
    "    ax_post_demo[0].spines['top'].set_visible(False)\n",
    "#     ax_post_demo[0].set_ylim([0,.05])\n",
    "    # repeat above for a few other stimulus values\n",
    "    for i,s in enumerate([.25,.5,.75,1]):\n",
    "        # likelihood \n",
    "        p_s_theta = gaussian_dens(s,.2,samp)\n",
    "\n",
    "        # posterior \n",
    "        p_theta_s = mult_and_norm(p_s_theta,p_theta)\n",
    "\n",
    "\n",
    "        ax_post_demo[i+1].plot(samp[samp_mask],p_theta[samp_mask],label='prior')\n",
    "        ax_post_demo[i+1].plot(samp[samp_mask],p_s_theta[samp_mask],label='likelihood',alpha=.4)\n",
    "        ax_post_demo[i+1].plot(samp[samp_mask],p_theta_s[samp_mask],label='posterior')\n",
    "        ax_post_demo[i+1].spines['right'].set_visible(False)\n",
    "        ax_post_demo[i+1].spines['top'].set_visible(False)\n",
    "#         ax_post_demo[i+1].set_ylim([0,.05])\n",
    "\n",
    "    ax_post_demo[-1].legend()\n",
    "    ### CALCULATE POSTERIOR AT RANGE OF STIMULUS VALUES AND PLOT\n",
    "        \n",
    "    f_post_dens,ax_post_dens = plt.subplots()\n",
    "    ax_post_dens.spines['right'].set_visible(False)\n",
    "    ax_post_dens.spines['top'].set_visible(False)\n",
    "    theta_hat=[] # keep track of MAP estimate\n",
    "    p_shat = [] # posterior at current value of stimulus\n",
    "   \n",
    "    for i,s in enumerate(theta): # sample log-spaced values\n",
    "        p_s_theta = gaussian_dens(s,.3,samp) # likelihood\n",
    "        p_theta_s = mult_and_norm(p_s_theta,p_theta) # posterior\n",
    "        \n",
    "        \n",
    "        ax_post_dens.plot(logstim_2_morph(samp),p_theta_s,color=plt.cm.cool(1-i/100.)) # convert back from logspace\n",
    "        theta_hat.append(samp[np.argmax(p_theta_s)]) # MAP estimate\n",
    "        p_shat.append((p_s_theta*p_theta).sum())\n",
    "\n",
    "    ax_post_dens.set_ylabel('P')\n",
    "    ax_post_dens.set_xlabel('morph value')\n",
    "    ax_post_dens.set_title('Posterior density for different stimulus values')\n",
    "\n",
    "    ## PLOT MAP ESTIMATE\n",
    "    f_MAP,ax_MAP = plt.subplots(1,2,figsize=[10,3])\n",
    "    f_MAP.subplots_adjust(wspace=.5)\n",
    "    ax_MAP[0].spines['right'].set_visible(False)\n",
    "    ax_MAP[0].spines['top'].set_visible(False)\n",
    "    ax_MAP[0].scatter(logstim_2_morph(theta),logstim_2_morph(np.array(theta_hat)))\n",
    "    ax_MAP[0].set_ylim([1.3,-.3])\n",
    "    ax_MAP[0].set_ylabel('MAP morph estimate')\n",
    "    ax_MAP[0].set_xlabel('true morph value')\n",
    "    \n",
    "    ax_MAP[1].spines['right'].set_visible(False)\n",
    "    ax_MAP[1].spines['top'].set_visible(False)\n",
    "    ax_MAP[1].scatter(logstim_2_morph(theta),np.array(theta_hat))\n",
    "    ax_MAP[1].set_ylim([1.3,-.3])\n",
    "    ax_MAP[1].set_ylabel('log-scale MAP morph estimate')\n",
    "    ax_MAP[1].set_xlabel('true morph value')\n",
    "    \n",
    "    return np.array(theta_hat),(f_post_demo,ax_post_demo),(f_post_dens,ax_post_dens),(f_MAP,ax_MAP)\n",
    "\n",
    "\n",
    "def convert_prior_to_log(prior,samp = np.linspace(-.1,1.1,num=1000)):\n",
    "    '''convert a prior distribution in stimulus space to logspace for proper sampling\n",
    "    Input: prior - arbitrary distribution assumed to be sampled in the range of values of theta variable\n",
    "    Returns: log_dens - log space density for use with run_posterior_inference\n",
    "             log_sampling_spline - log space cummulative distribution spline for sampling with kWTA_network_model (defined below)'''\n",
    "    samp_mask = (samp>=-.1) & (samp<=1.1)\n",
    "    # normalize to ensure prior is a proper distribution\n",
    "    prior/=prior.sum()\n",
    "    # go to cummulative distribution so that conversion maintains density\n",
    "    cum_prior = np.cumsum(prior)\n",
    "    cum_prior[0],cum_prior[-1] = 0,1 # correct for float errors\n",
    "    cum_spline = spline(samp,cum_prior) # fit a linear interpolation spline so that we can arbitrarily sample\n",
    "    log_cum_spline = spline(morph_2_logstim(samp),cum_prior)\n",
    "    log_cum = log_cum_spline(samp) # sample cummulative distribution in log space\n",
    "    log_sampling_spline = spline(cum_prior,morph_2_logstim(samp))  # create transposed spline for sampling values according to their probability\n",
    "    \n",
    "    f,ax = plt.subplots(1,2)\n",
    "    \n",
    "    \n",
    "    for a in range(2):\n",
    "        ax[a].spines['right'].set_visible(False)\n",
    "        ax[a].spines['top'].set_visible(False)\n",
    "        \n",
    "    ax[0].plot(samp[samp_mask],cum_prior[samp_mask],label='morph space')\n",
    "    ax[0].plot(morph_2_logstim(samp[samp_mask]),cum_prior[samp_mask],label='log space')\n",
    "    ax[0].legend()\n",
    "    ax[0].set_ylabel('Cum Prob')\n",
    "    ax[0].set_xlabel('morph')\n",
    "    \n",
    "    ax[1].plot(samp[samp_mask],prior[samp_mask])\n",
    "    #convert cumulative density back to density\n",
    "    log_dens = log_cum[1:]-log_cum[:-1]\n",
    "    log_dens[:10]= log_dens[10] # stretching at the end of the spline causes artifacts so we're just clamping those values \n",
    "    log_dens = np.append(log_dens,log_dens[-1])\n",
    "    log_dens /=log_dens.sum()\n",
    "    ax[1].plot(morph_2_logstim(samp[samp_mask]),log_dens[samp_mask])\n",
    "    ax[1].set_ylabel('Prob')\n",
    "    ax[1].set_xlabel('morph')\n",
    "#     ax[1].set_ylim([0,.05])\n",
    "    \n",
    "    return log_dens, log_sampling_spline\n",
    "\n",
    "samp = np.linspace(-.1,1.1,num=1000)\n",
    "rare_prior = np.zeros(samp.shape)\n",
    "rare_prior = gaussian(0,.2,samp)+gaussian(1,.2,samp)\n",
    "rare_prior /= rare_prior.sum()\n",
    "\n",
    "rare_log_dens, rare_lcs = convert_prior_to_log(rare_prior)\n",
    "\n",
    "rare_p_shat, (f_post_demo,ax_post_demo),(f_post_dens,ax_post_dens),(f_MAP,ax_MAP) = run_posterior_inference(rare_log_dens)\n",
    "\n",
    "fam_prior = np.ones(samp.shape)\n",
    "fam_prior/=1000\n",
    "\n",
    "fam_log_dens, fam_lcs = convert_prior_to_log(fam_prior)\n",
    "\n",
    "fam_p_shat,(f_post_demo,ax_post_demo),(f_post_dens,ax_post_dens),(f_MAP,ax_MAP) = run_posterior_inference(fam_log_dens)\n"
   ]
  },
  {
   "cell_type": "code",
   "execution_count": null,
   "metadata": {},
   "outputs": [],
   "source": [
    "##\n",
    "rare_map_spline = spline(logstim_2_morph(theta),rare_p_shat)\n",
    "fam_map_spline = spline(logstim_2_morph(theta),fam_p_shat)\n",
    "\n",
    "\n",
    "\n",
    "mega_em_rare_n = (mega_em_rare-mega_em_rare.min())/(mega_em_rare.max()-mega_em_rare.min())*1.2 -.1\n",
    "mega_em_fam_n = (mega_em_fam-mega_em_fam.min())/(mega_em_fam.max()-mega_em_fam.min())*1.2 -.1\n",
    "\n",
    "\n",
    "\n",
    "rare_reg = linreg()\n",
    "rare_reg.fit(rare_map_spline(mega_em_rare_n[:,np.newaxis]),mega_lar_rare.reshape([-1,1]))\n",
    "\n",
    "\n",
    "f,ax = plt.subplots(1,2)\n",
    "f.subplots_adjust(wspace=.5)\n",
    "ax[0].scatter(mega_em_rare_n,mega_lar_rare,color=plt.cm.copper(1.),alpha=.3)\n",
    "ax[0].scatter(logstim_2_morph(theta),rare_reg.coef_*rare_p_shat + rare_reg.intercept_,color='orange')\n",
    "ax[0].set_ylim([-1.1,1.1])\n",
    "ax[0].set_xlim([-.2,1.2])\n",
    "ax[0].set_ylabel('LSR')\n",
    "ax[0].set_xlabel('morph')\n",
    "\n",
    "fam_reg = linreg()\n",
    "fam_reg.fit(fam_map_spline(mega_em_fam[:,np.newaxis]),mega_lar_fam.reshape([-1,1]))\n",
    "ax[1].scatter(mega_em_fam_n,mega_lar_fam,color=plt.cm.cividis(0.),alpha=.3)\n",
    "ax[1].scatter(logstim_2_morph(theta),fam_reg.coef_*fam_p_shat + fam_reg.intercept_,color='blue')\n",
    "ax[1].set_ylim([-1,1])\n",
    "ax[1].set_xlim([-.2,1.2])\n",
    "\n",
    "# f.savefig(\"G:\\\\My Drive\\\\manuscripts\\\\MightyMorphinPhotonRangers_Manuscript\\\\Figures\\\\LSR_MAP_regression.png\",format='png')\n",
    "# f.savefig(\"G:\\\\My Drive\\\\manuscripts\\\\MightyMorphinPhotonRangers_Manuscript\\\\Figures\\\\LSR_MAP_regression.pdf\",format='pdf')\n"
   ]
  },
  {
   "cell_type": "code",
   "execution_count": null,
   "metadata": {},
   "outputs": [],
   "source": [
    "EM_rare_n = {}\n",
    "for k,v in EM_rare.items():\n",
    "    EM_rare_n[k]=(v-mega_em_rare.min())/(mega_em_rare.max()-mega_em_rare.min())*1.2-.1\n",
    "f,ax = plot_LAR(LAR_rare,EM_rare_n,cmap='copper',ymin=-.5,ymax=.5)\n",
    "ax[0].scatter(logstim_2_morph(theta),rare_reg.coef_*rare_p_shat + rare_reg.intercept_,color='orange')\n",
    "# f.savefig(\"G:\\\\My Drive\\\\manuscripts\\\\MightyMorphinPhotonRangers_Manuscript\\\\Figures\\\\rare_LSR_MAP_regression.pdf\",format='pdf')"
   ]
  },
  {
   "cell_type": "code",
   "execution_count": null,
   "metadata": {},
   "outputs": [],
   "source": [
    "EM_fam_n = {}\n",
    "for k,v in EM_fam.items():\n",
    "    EM_fam_n[k]=(v-mega_em_fam.min())/(mega_em_fam.max()-mega_em_fam.min())*1.2-.1\n",
    "f,ax = plot_LAR(LAR_fam,EM_fam_n,cmap='cividis',ymin=-.3,ymax=.3)\n",
    "ax[0].scatter(logstim_2_morph(theta),fam_reg.coef_*fam_p_shat + fam_reg.intercept_,color='blue')\n",
    "# f.savefig(\"G:\\\\My Drive\\\\manuscripts\\\\MightyMorphinPhotonRangers_Manuscript\\\\Figures\\\\fam_LSR_MAP_regression.pdf\",format='pdf')"
   ]
  },
  {
   "cell_type": "code",
   "execution_count": null,
   "metadata": {},
   "outputs": [],
   "source": []
  },
  {
   "cell_type": "code",
   "execution_count": null,
   "metadata": {},
   "outputs": [],
   "source": []
  },
  {
   "cell_type": "code",
   "execution_count": null,
   "metadata": {},
   "outputs": [],
   "source": []
  },
  {
   "cell_type": "code",
   "execution_count": null,
   "metadata": {},
   "outputs": [],
   "source": []
  },
  {
   "cell_type": "code",
   "execution_count": null,
   "metadata": {},
   "outputs": [],
   "source": [
    "f,ax = plt.subplots()\n",
    "bins = np.linspace(-1,1)\n",
    "fam_hist,edges = np.histogram(mega_lar_fam,bins)\n",
    "rare_hist,edges = np.histogram(mega_lar_rare,bins)\n",
    "ax.fill_between(edges[1:],fam_hist/fam_hist.sum(),alpha=.3,color=plt.cm.cividis(0.))\n",
    "ax.fill_between(edges[1:],rare_hist/rare_hist.sum(),alpha=.3,color=plt.cm.copper(.9))\n",
    "ax.set_xlim([-.5,.5])\n",
    "# f.savefig(os.path.join(basedir,'lsr_hist.pdf'),format='pdf')"
   ]
  },
  {
   "cell_type": "code",
   "execution_count": null,
   "metadata": {},
   "outputs": [],
   "source": [
    "morph_bins = np.linspace(0,1,num=51)\n",
    "mega_em_rare_bin = np.digitize(mega_em_rare,morph_bins,right=True)\n",
    "mega_em_fam_bin = np.digitize(mega_em_fam,morph_bins,right=True)\n",
    "\n",
    "em_ = morph_bins[1:]\n",
    "rare_,rare_sig = np.zeros([50,]),np.zeros([50,])\n",
    "\n",
    "fam_,fam_sig = np.zeros([50,]), np.zeros([50,])\n",
    "for j in range(50):\n",
    "    r_mask = mega_em_rare_bin==j\n",
    "    if r_mask.sum()>0:\n",
    "        rare_[j]= np.nanmean(mega_lar_rare[r_mask])\n",
    "        rare_sig[j]=sp.stats.iqr(mega_lar_rare[r_mask])\n",
    "    else:\n",
    "        rare_[j]=np.nan\n",
    "        rare_sig[j]=np.nan\n",
    "    \n",
    "    f_mask = mega_em_fam_bin==j\n",
    "    if f_mask.sum()>0:\n",
    "        fam_[j]= np.nanmedian(mega_lar_fam[f_mask])\n",
    "        fam_sig[j]=sp.stats.iqr(mega_lar_fam[f_mask])\n",
    "    else:\n",
    "        fam_[j]=np.nan\n",
    "        fam_sig[j]=np.nan\n",
    "\n",
    "        \n",
    "# r_a,r_b = np.percentile(rare_[~np.isnan(rare_)],5), np.percentile(rare_[~np.isnan(rare_)],95)\n",
    "# f_a,f_b = np.percentile(fam_[~np.isnan(fam_)],5), np.percentile(fam_[~np.isnan(fam_)],95)\n",
    "\n",
    "# rare_norm,fam_norm = (rare_-r_a)/(r_b-r_a),(fam_-f_a)/(f_b-f_a)\n",
    "# rare_norm_sig,fam_norm_sig = np.zeros([50,]),np.zeros([50,])\n",
    "# for j in range(50):\n",
    "#     r_mask = mega_em_rare_bin==j\n",
    "#     if r_mask.sum()>0:\n",
    "#         rare_[j]= np.nanmedian(mega_lar_rare[r_mask])\n",
    "#         rare_sig[j]=sp.stats.iqr(mega_lar_rare[r_mask])\n",
    "#     else:\n",
    "#         rare_[j]=np.nan\n",
    "#         rare_sig[j]=np.nan\n",
    "    \n",
    "#     f_mask = mega_em_fam_bin==j\n",
    "#     if f_mask.sum()>0:\n",
    "#         fam_[j]= np.nanmedian(mega_lar_fam[f_mask])\n",
    "#         fam_sig[j]=sp.stats.iqr(mega_lar_fam[f_mask])\n",
    "#     else:\n",
    "#         fam_[j]=np.nan\n",
    "#         fam_sig[j]=np.nan\n",
    "        "
   ]
  },
  {
   "cell_type": "code",
   "execution_count": null,
   "metadata": {},
   "outputs": [],
   "source": [
    "f,ax = plt.subplots()\n",
    "ax.fill_between(em_,rare_+rare_sig,y2 = rare_-rare_sig,color=plt.cm.copper(1.),alpha=.4)\n",
    "ax.fill_between(em_,fam_+fam_sig,y2 = fam_-fam_sig,color=plt.cm.cividis(0.),alpha=.4)\n",
    "\n",
    "\n",
    "\n",
    "r_a,r_b = np.percentile(rare_[~np.isnan(rare_)],25), np.percentile(rare_[~np.isnan(rare_)],75)\n",
    "f_a,f_b = np.percentile(fam_[~np.isnan(fam_)],25), np.percentile(fam_[~np.isnan(fam_)],75)\n",
    "\n",
    "rare_norm,fam_norm = (rare_-r_a)/(r_b-r_a),(fam_-f_a)/(f_b-f_a)\n",
    "r_sig_norm,f_sig_norm = (rare_sig-r_a)/(r_b-r_a), (fam_sig-f_a)/(f_b-f_a)\n",
    "\n",
    "f,ax = plt.subplots()\n",
    "ax.scatter(em_,rare_norm,color=plt.cm.copper(1.))\n",
    "ax.scatter(em_,fam_norm,color=plt.cm.cividis(0.))\n",
    "# ax.fill_between(em_,rare_norm+r_sig_norm,y2 = rare_-r_sig_norm,color=plt.cm.copper(1.),alpha=.4)\n",
    "# ax.fill_between(em_,fam_norm+f_sig_norm,y2 = fam_-f_sig_norm,color=plt.cm.cividis(0.),alpha=.4)\n"
   ]
  },
  {
   "cell_type": "code",
   "execution_count": null,
   "metadata": {},
   "outputs": [],
   "source": [
    "f,ax = plt.subplots()\n",
    "bins = np.linspace(0,.6)\n",
    "fam_hist,edges = np.histogram(mega_s0_fam,bins)\n",
    "rare_hist,edges = np.histogram(mega_s0_rare,bins)\n",
    "ax.fill_between(edges[1:],fam_hist/fam_hist.sum(),alpha=.3,color=plt.cm.cividis(0.))\n",
    "ax.fill_between(edges[1:],rare_hist/rare_hist.sum(),alpha=.3,color=plt.cm.copper(.9))"
   ]
  },
  {
   "cell_type": "code",
   "execution_count": null,
   "metadata": {},
   "outputs": [],
   "source": [
    "f,ax = plt.subplots()\n",
    "bins = np.linspace(0,.6)\n",
    "fam_hist,edges = np.histogram(mega_s1_fam,bins)\n",
    "rare_hist,edges = np.histogram(mega_s1_rare,bins)\n",
    "ax.fill_between(edges[1:],fam_hist/fam_hist.sum(),alpha=.3,color=plt.cm.cividis(0.))\n",
    "ax.fill_between(edges[1:],rare_hist/rare_hist.sum(),alpha=.3,color=plt.cm.copper(.9))"
   ]
  },
  {
   "cell_type": "code",
   "execution_count": null,
   "metadata": {},
   "outputs": [],
   "source": [
    "# plot distributions of absolute values and cdfs \n",
    "f,ax = plt.subplots()\n",
    "bins = np.linspace(0,1)\n",
    "fam_hist,edges = np.histogram(np.abs(mega_lar_fam),bins)\n",
    "rare_hist,edges = np.histogram(np.abs(mega_lar_rare),bins)\n",
    "ax.fill_between(edges[1:],fam_hist/fam_hist.sum(),alpha=.3,color=plt.cm.cividis(0.))\n",
    "ax.fill_between(edges[1:],rare_hist/rare_hist.sum(),alpha=.3,color=plt.cm.copper(.9))\n",
    "\n",
    "# f.savefig(os.path.join(basedir,'abs_lsr_hist.pdf'),format='pdf')"
   ]
  },
  {
   "cell_type": "code",
   "execution_count": null,
   "metadata": {},
   "outputs": [],
   "source": [
    "f,ax = plt.subplots()\n",
    "print(fam_hist.shape)\n",
    "fam_hist =fam_hist/fam_hist.sum()\n",
    "rare_hist= rare_hist/rare_hist.sum()\n",
    "\n",
    "ax.plot(bins[1:],np.cumsum(fam_hist))\n",
    "ax.plot(bins[1:],np.cumsum(rare_hist))\n",
    "ax.plot(bins[1:],bins[1:])\n",
    "ax.plot(bins[1::5],.5*np.ones([10,]),alpha=.3,color='black')\n",
    "# f.savefig(os.path.join(basedir,'abs_lsr_cdf.pdf'),format='pdf')\n"
   ]
  },
  {
   "cell_type": "code",
   "execution_count": null,
   "metadata": {},
   "outputs": [],
   "source": [
    "U,p = sp.stats.mannwhitneyu(np.abs(mega_lar_rare),np.abs(mega_lar_fam))\n",
    "print(U,p)"
   ]
  },
  {
   "cell_type": "code",
   "execution_count": null,
   "metadata": {},
   "outputs": [],
   "source": [
    "# compare against null hypothesis of uniform distribution, median is shifted higher than uniform distribution\n",
    "uniform_null = np.random.uniform(low=0,high=np.amax(np.abs(mega_lar_rare)),size=int(1E7))\n",
    "U_u,p_u = sp.stats.mannwhitneyu(np.abs(mega_lar_rare),uniform_null)\n",
    "print(U_u,p_u)"
   ]
  },
  {
   "cell_type": "code",
   "execution_count": null,
   "metadata": {},
   "outputs": [],
   "source": [
    "r_u = 1- 2*U_u/mega_lar_rare.shape[0]/1E7\n",
    "print(r_u)\n",
    "print(1-U_u/mega_lar_rare.shape[0]/1E7)"
   ]
  },
  {
   "cell_type": "code",
   "execution_count": null,
   "metadata": {},
   "outputs": [],
   "source": [
    "r = 1- 2*U/mega_lar_rare.shape[0]/mega_lar_fam.shape[0]\n",
    "print(r)\n",
    "print(1-U/mega_lar_rare.shape[0]/mega_lar_fam.shape[0])"
   ]
  },
  {
   "cell_type": "code",
   "execution_count": null,
   "metadata": {},
   "outputs": [],
   "source": [
    "basedir = \"G:\\\\My Drive\\\\manuscripts\\\\MightyMorphinPhotonRangers_Manuscript\\\\Figures\""
   ]
  },
  {
   "cell_type": "markdown",
   "metadata": {},
   "source": [
    "# LAR over sessions within mouse"
   ]
  },
  {
   "cell_type": "code",
   "execution_count": null,
   "metadata": {},
   "outputs": [],
   "source": [
    "def _plot_LAR_session(lar,em,color='red',ymin=-1.2,ymax=1.2,f=None,gs=None,ax_scat = None,ax_hist=None):\n",
    "    \n",
    "    if f is None:\n",
    "        f = plt.figure()\n",
    "        gs = gridspec.GridSpec(1,5)\n",
    "        ax_scat = f.add_subplot(gs[:,:4])\n",
    "        ax_hist = f.add_subplot(gs[:,-1])\n",
    "    \n",
    "   \n",
    "    bins = np.linspace(-1,1)\n",
    "    ax_scat.scatter(em,lar,color=color,alpha=.6,s=8)\n",
    "    hist,edges = np.histogram(lar,bins=bins)\n",
    "    ax_hist.fill_betweenx(edges[1:],hist/hist.sum(),color=color,alpha=.4)\n",
    "#     ax_hist.hist(lar,bins=50,orientation='horizontal',color=color,alpha=.4,density=True)\n",
    "    ax_hist.set_ylim([ymin,ymax])\n",
    "    ax_scat.set_ylim([ymin,ymax])\n",
    "    ax_hist.set_yticks([])\n",
    "    return {'f':f,'ax_scat':ax_scat,'gs':gs,'ax_hist':ax_hist}"
   ]
  },
  {
   "cell_type": "code",
   "execution_count": null,
   "metadata": {},
   "outputs": [],
   "source": [
    "\n",
    "mouse = '4222168.1'\n",
    "df_mouse = df[df['MouseName'].str.match(mouse)]\n",
    "df_mouse\n"
   ]
  },
  {
   "cell_type": "code",
   "execution_count": null,
   "metadata": {},
   "outputs": [],
   "source": [
    "sess = df_mouse.iloc[0]\n",
    "_lar,_em,sim0,sim1 = sess_lar(sess,max_pos=450.)"
   ]
  },
  {
   "cell_type": "code",
   "execution_count": null,
   "metadata": {},
   "outputs": [],
   "source": [
    "edges = np.linspace(-1,1)\n",
    "\n",
    "\n",
    "f_cdf,ax_cdf = plt.subplots()\n",
    "\n",
    "hist,trsh = np.histogram(_lar,edges)\n",
    "hist = hist/hist.sum()\n",
    "ax_cdf.plot(edges[1:],np.cumsum(hist),color='red')\n",
    "\n",
    "fig_d = _plot_LAR_session(_lar,_em,color='red')\n",
    "\n",
    "N = len(LAR_rare[mouse])\n",
    "for sess, (lar,em) in enumerate(zip(LAR_rare[mouse],EM_rare[mouse])):\n",
    "    print(sess)\n",
    "    hist,trsh = np.histogram(lar,edges)\n",
    "    hist=hist/hist.sum()\n",
    "    ax_cdf.plot(edges[1:],np.cumsum(hist),color=plt.cm.bone(np.float(sess)/N))\n",
    "    \n",
    "    fig_d = _plot_LAR_session(lar,em,**fig_d,color=plt.cm.bone(np.float(sess)/N))\n",
    "    \n",
    "f_cdf.savefig(os.path.join(basedir,\"%s_sess_lsr_cdf.pdf\" % mouse),format='pdf')\n",
    "fig_d['f'].savefig(os.path.join(basedir,\"%s_sess_lsr.pdf\" % mouse), format = 'pdf')"
   ]
  },
  {
   "cell_type": "code",
   "execution_count": null,
   "metadata": {},
   "outputs": [],
   "source": [
    "mouse = '4222193.3'\n",
    "df_mouse = df[df['MouseName'].str.match(mouse)]\n",
    "df_mouse\n"
   ]
  },
  {
   "cell_type": "code",
   "execution_count": null,
   "metadata": {},
   "outputs": [],
   "source": [
    "sess = df_mouse.iloc[1]\n",
    "_lar,_em,sim0,sim1 = sess_lar(sess,max_pos=450.)"
   ]
  },
  {
   "cell_type": "code",
   "execution_count": null,
   "metadata": {},
   "outputs": [],
   "source": [
    "edges = np.linspace(-1,1)\n",
    "\n",
    "\n",
    "\n",
    "f_cdf,ax_cdf = plt.subplots()\n",
    "\n",
    "hist,trsh = np.histogram(_lar,edges)\n",
    "hist = hist/hist.sum()\n",
    "ax_cdf.plot(edges[1:],np.cumsum(hist),color='red')\n",
    "\n",
    "fig_d = _plot_LAR_session(_lar,_em,color='red')\n",
    "\n",
    "N = len(LAR_fam[mouse])\n",
    "for sess, (lar,em) in enumerate(zip(LAR_fam[mouse],EM_fam[mouse])):\n",
    "    hist,trsh = np.histogram(lar,edges)\n",
    "    hist=hist/hist.sum()\n",
    "    ax_cdf.plot(edges[1:],np.cumsum(hist),color=plt.cm.bone(np.float(sess)/N))\n",
    "    fig_d = _plot_LAR_session(lar,em,**fig_d,color=plt.cm.bone(np.float(sess)/N))\n",
    "    \n",
    "    \n",
    "# f_cdf.savefig(os.path.join(basedir,\"%s_sess_lsr_cdf.pdf\" % mouse),format='pdf')\n",
    "# fig_d['f'].savefig(os.path.join(basedir,\"%s_sess_lsr.pdf\" % mouse), format = 'pdf')"
   ]
  },
  {
   "cell_type": "code",
   "execution_count": null,
   "metadata": {},
   "outputs": [],
   "source": [
    "edges = np.linspace(-1,1)\n",
    "\n",
    "\n",
    "\n",
    "f_cdf,ax_cdf = plt.subplots()\n",
    "\n",
    "hist,trsh = np.histogram(_lar,edges)\n",
    "hist = hist/hist.sum()\n",
    "ax_cdf.plot(edges[1:],np.cumsum(hist),color='red')\n",
    "\n",
    "fig_d = _plot_LAR_session(_lar,_em,color='red')\n",
    "\n",
    "N = len(LAR_dg[mouse])\n",
    "for sess, (lar,em) in enumerate(zip(LAR_dg[mouse],EM_dg[mouse])):\n",
    "    hist,trsh = np.histogram(lar,edges)\n",
    "    hist=hist/hist.sum()\n",
    "    ax_cdf.plot(edges[1:],np.cumsum(hist),color=plt.cm.bone(np.float(sess)/N))\n",
    "    fig_d = _plot_LAR_session(lar,em,**fig_d,color=plt.cm.bone(np.float(sess)/N),ymin=-.15,ymax=.15)\n",
    "    \n",
    "ax_cdf.set_xlim([-.2,.2])\n",
    "# f_cdf.savefig(os.path.join(basedir,\"%s_sess_lsr_cdf.pdf\" % mouse),format='pdf')\n",
    "# fig_d['f'].savefig(os.path.join(basedir,\"%s_sess_lsr.pdf\" % mouse), format = 'pdf')"
   ]
  },
  {
   "cell_type": "code",
   "execution_count": 42,
   "metadata": {},
   "outputs": [
    {
     "name": "stdout",
     "output_type": "stream",
     "text": [
      "num aberrant ttls 0.0\n",
      "22392 (22392,) (22392, 21) 74301\n",
      "(74301,) (74301, 21)\n",
      "frame diff 0\n",
      "num aberrant ttls 0.0\n",
      "13506 (13506,) (13506, 21) 45655\n",
      "(45655,) (45655, 21)\n",
      "frame diff 0\n",
      "num aberrant ttls 0.0\n",
      "19948 (19948,) (19948, 21) 65960\n",
      "(65960,) (65960, 21)\n",
      "frame diff 0\n",
      "num aberrant ttls 0.0\n",
      "21698 (21698,) (21698, 21) 60178\n",
      "(60178,) (60178, 21)\n",
      "frame diff 0\n"
     ]
    },
    {
     "data": {
      "image/png": "[encoded data removed]",
      "text/plain": [
       "<Figure size 432x288 with 1 Axes>"
      ]
     },
     "metadata": {
      "needs_background": "light"
     },
     "output_type": "display_data"
    }
   ],
   "source": [
    "f,ax = plt.subplots()\n",
    "bins = np.linspace(-1,1,num=25)\n",
    "rare_hist,edges = np.histogram(mega_lar_rare,bins)\n",
    "\n",
    "ax.fill_between(edges[1:],rare_hist/rare_hist.sum(),alpha=.3,color='green')\n",
    "\n",
    "N =4\n",
    "for i,mouse in enumerate(morph_rare):\n",
    "    df_mouse = df[df['MouseName'].str.match(mouse)]\n",
    "    sess = df_mouse.iloc[2]\n",
    "    _lar,_em,sim0,sim1 = sess_lar(sess,max_pos=450.)\n",
    "    _hist,edges = np.histogram(_lar,bins)\n",
    "    ax.fill_between(edges[1:],_hist/_hist.sum() + (i+1)/4,y2=(i+1)/4,alpha=.3,color=plt.cm.copper(np.float(i/N)))\n",
    "    \n",
    "# f.savefig(os.path.join(basedir,\"sess3_v_latecomparison_rare.pdf\"), format = 'pdf')"
   ]
  },
  {
   "cell_type": "code",
   "execution_count": 43,
   "metadata": {},
   "outputs": [
    {
     "name": "stdout",
     "output_type": "stream",
     "text": [
      "num aberrant ttls 0.0\n",
      "one frame correction\n",
      "31722 (31722,) (31722, 21) 103701\n",
      "(103701,) (103701, 21)\n",
      "frame diff 0\n",
      "num aberrant ttls 0.0\n",
      "35978 (35978,) (35978, 21) 119008\n",
      "(119008,) (119008, 21)\n",
      "frame diff 0\n",
      "num aberrant ttls 0.0\n",
      "24296 (24296,) (24296, 21) 79674\n",
      "(79674,) (79674, 21)\n",
      "frame diff 0\n",
      "num aberrant ttls 0.0\n",
      "33583 (33583,) (33583, 21) 110386\n",
      "(110386,) (110386, 21)\n",
      "frame diff 0\n",
      "num aberrant ttls 0.0\n",
      "26012 (26012,) (26012, 21) 85076\n",
      "(85076,) (85076, 21)\n",
      "frame diff 0\n"
     ]
    },
    {
     "data": {
      "image/png": "[encoded data removed]",
      "text/plain": [
       "<Figure size 432x288 with 1 Axes>"
      ]
     },
     "metadata": {
      "needs_background": "light"
     },
     "output_type": "display_data"
    }
   ],
   "source": [
    "f,ax = plt.subplots()\n",
    "bins = np.linspace(-1,1,num=25)\n",
    "fam_hist,edges = np.histogram(mega_lar_fam,bins)\n",
    "\n",
    "ax.fill_between(edges[1:],fam_hist/fam_hist.sum(),alpha=.3,color='green')\n",
    "\n",
    "N =5\n",
    "for i,mouse in enumerate(morph_familiar):\n",
    "    df_mouse = df[df['MouseName'].str.match(mouse)]\n",
    "    sess = df_mouse.iloc[1]\n",
    "    _lar,_em,sim0,sim1 = sess_lar(sess,max_pos=450.)\n",
    "    _hist,edges = np.histogram(_lar,bins)\n",
    "    ax.fill_between(edges[1:],_hist/_hist.sum()+(i+1)/4,y2=(i+1)/4,alpha=.3,color=plt.cm.cividis(np.float(i/N)))\n",
    "\n",
    "f.savefig(os.path.join(basedir,\"sess3_v_latecomparison_fam.pdf\"), format = 'pdf')"
   ]
  },
  {
   "cell_type": "code",
   "execution_count": null,
   "metadata": {},
   "outputs": [],
   "source": []
  },
  {
   "cell_type": "markdown",
   "metadata": {},
   "source": [
    "# comparison with familar morph with discrimination"
   ]
  },
  {
   "cell_type": "code",
   "execution_count": 48,
   "metadata": {},
   "outputs": [
    {
     "name": "stdout",
     "output_type": "stream",
     "text": [
      "session ind 2\n",
      "num aberrant ttls 0.0\n",
      "24514 (24514,) (24514, 21) 69410\n",
      "(69410,) (69410, 21)\n",
      "frame diff 0\n"
     ]
    },
    {
     "name": "stderr",
     "output_type": "stream",
     "text": [
      "C:\\Users\\mplitt\\MightyMorphingPhotonRangers\\utilities.py:326: RuntimeWarning: Mean of empty slice\n",
      "  zone1_speed[i] = np.nanmean(sub_frame.loc[zone1_mask,'speed'])\n",
      "C:\\Users\\mplitt\\MightyMorphingPhotonRangers\\utilities.py:325: RuntimeWarning: Mean of empty slice\n",
      "  zone0_speed[i]=np.nanmean(sub_frame.loc[zone0_mask,'speed'])\n"
     ]
    },
    {
     "name": "stdout",
     "output_type": "stream",
     "text": [
      "session ind 3\n",
      "num aberrant ttls 0.0\n",
      "30893 (30893,) (30893, 21) 86929\n",
      "(86929,) (86929, 21)\n",
      "frame diff 0\n",
      "session ind 4\n",
      "num aberrant ttls 0.0\n",
      "26850 (26850,) (26850, 21) 75392\n",
      "(75392,) (75392, 21)\n",
      "frame diff 0\n",
      "session ind 5\n",
      "num aberrant ttls 0.0\n",
      "27977 (27977,) (27977, 21) 78367\n",
      "(78367,) (78367, 21)\n",
      "frame diff 0\n",
      "session ind 6\n",
      "num aberrant ttls 0.0\n",
      "30469 (30469,) (30469, 21) 85961\n",
      "(85961,) (85961, 21)\n",
      "frame diff 0\n",
      "session ind 7\n",
      "num aberrant ttls 0.0\n",
      "27484 (27484,) (27484, 21) 78628\n",
      "(78628,) (78628, 21)\n",
      "frame diff 0\n",
      "session ind 8\n",
      "num aberrant ttls 0.0\n",
      "24753 (24753,) (24753, 21) 71281\n",
      "(71281,) (71281, 21)\n",
      "frame diff 0\n",
      "session ind 9\n",
      "num aberrant ttls 0.0\n",
      "22270 (22270,) (22270, 21) 63586\n",
      "(63586,) (63586, 21)\n",
      "frame diff 0\n",
      "session ind 10\n",
      "num aberrant ttls 0.0\n",
      "21653 (21653,) (21653, 21) 60130\n",
      "(60130,) (60130, 21)\n",
      "frame diff 0\n",
      "session ind 11\n",
      "num aberrant ttls 0.0\n",
      "25328 (25328,) (25328, 21) 70221\n",
      "(70221,) (70221, 21)\n",
      "frame diff 0\n",
      "session ind 2\n",
      "num aberrant ttls 0.0\n",
      "29484 (29484,) (29484, 21) 83520\n",
      "(83520,) (83520, 21)\n",
      "frame diff 0\n",
      "session ind 3\n",
      "num aberrant ttls 0.0\n",
      "33495 (33495,) (33495, 21) 95693\n",
      "(95693,) (95693, 21)\n",
      "frame diff 0\n",
      "session ind 4\n",
      "num aberrant ttls 0.0\n",
      "38042 (38042,) (38042, 21) 108168\n",
      "(108168,) (108168, 21)\n",
      "frame diff 0\n",
      "session ind 5\n",
      "num aberrant ttls 0.0\n",
      "34691 (34691,) (34691, 21) 97442\n",
      "(97442,) (97442, 21)\n",
      "frame diff 0\n",
      "session ind 6\n",
      "num aberrant ttls 0.0\n",
      "34659 (34659,) (34659, 21) 98374\n",
      "(98374,) (98374, 21)\n",
      "frame diff 0\n",
      "session ind 7\n",
      "num aberrant ttls 0.0\n",
      "32236 (32236,) (32236, 21) 90870\n",
      "(90870,) (90870, 21)\n",
      "frame diff 0\n",
      "session ind 8\n",
      "num aberrant ttls 0.0\n",
      "41188 (41188,) (41188, 21) 113868\n",
      "(113868,) (113868, 21)\n",
      "frame diff 0\n",
      "session ind 9\n",
      "num aberrant ttls 0.0\n",
      "33013 (33013,) (33013, 21) 92747\n",
      "(92747,) (92747, 21)\n",
      "frame diff 0\n",
      "session ind 10\n",
      "num aberrant ttls 0.0\n",
      "33940 (33940,) (33940, 21) 96301\n",
      "(96301,) (96301, 21)\n",
      "frame diff 0\n",
      "session ind 2\n",
      "num aberrant ttls 0.0\n",
      "24265 (24265,) (24265, 21) 68399\n",
      "(68399,) (68399, 21)\n",
      "frame diff 0\n",
      "session ind 3\n",
      "num aberrant ttls 0.0\n",
      "26470 (26470,) (26470, 21) 75797\n",
      "(75797,) (75797, 21)\n",
      "frame diff 0\n",
      "session ind 2\n",
      "num aberrant ttls 0.0\n",
      "26730 (26730,) (26730, 21) 75628\n",
      "(75628,) (75628, 21)\n",
      "frame diff 0\n",
      "session ind 3\n",
      "num aberrant ttls 0.0\n",
      "34004 (34004,) (34004, 21) 97441\n",
      "(97441,) (97441, 21)\n",
      "frame diff 0\n",
      "session ind 4\n",
      "num aberrant ttls 0.0\n",
      "35380 (35380,) (35380, 21) 100286\n",
      "(100286,) (100286, 21)\n",
      "frame diff 0\n",
      "session ind 5\n",
      "num aberrant ttls 0.0\n",
      "34589 (34589,) (34589, 21) 98774\n",
      "(98774,) (98774, 21)\n",
      "frame diff 0\n",
      "session ind 6\n",
      "num aberrant ttls 0.0\n",
      "32079 (32079,) (32079, 21) 88950\n",
      "(88950,) (88950, 21)\n",
      "frame diff 0\n",
      "session ind 7\n",
      "num aberrant ttls 0.0\n",
      "37673 (37673,) (37673, 21) 105147\n",
      "(105147,) (105147, 21)\n",
      "frame diff 0\n",
      "session ind 8\n",
      "num aberrant ttls 0.0\n",
      "37991 (37991,) (37991, 21) 104764\n",
      "(104764,) (104764, 21)\n",
      "frame diff 0\n",
      "session ind 9\n",
      "num aberrant ttls 0.0\n",
      "34051 (34051,) (34051, 21) 95801\n",
      "(95801,) (95801, 21)\n",
      "frame diff 0\n",
      "session ind 10\n",
      "num aberrant ttls 0.0\n",
      "29230 (29230,) (29230, 21) 82299\n",
      "(82299,) (82299, 21)\n",
      "frame diff 0\n"
     ]
    }
   ],
   "source": [
    "LAR_fd,EM_fd,S0_fd,S1_fd = LAR_list_maker(['4222157.4','4222169.1','4222169.2','4222169.4'],firstSess=2)"
   ]
  },
  {
   "cell_type": "code",
   "execution_count": 43,
   "metadata": {},
   "outputs": [
    {
     "name": "stdout",
     "output_type": "stream",
     "text": [
      "4\n",
      "4222157.4\n",
      "(1030,)\n",
      "4222169.1\n",
      "(297,)\n",
      "4222169.2\n",
      "(135,)\n",
      "4222169.4\n",
      "(320,)\n",
      "4\n",
      "4222157.4\n",
      "(1030,)\n",
      "4222169.1\n",
      "(297,)\n",
      "4222169.2\n",
      "(135,)\n",
      "4222169.4\n",
      "(320,)\n"
     ]
    },
    {
     "data": {
      "image/png": "[encoded data removed]",
      "text/plain": [
       "<Figure size 432x288 with 2 Axes>"
      ]
     },
     "metadata": {
      "needs_background": "light"
     },
     "output_type": "display_data"
    },
    {
     "data": {
      "image/png": "[encoded data removed]",
      "text/plain": [
       "<Figure size 432x288 with 2 Axes>"
      ]
     },
     "metadata": {
      "needs_background": "light"
     },
     "output_type": "display_data"
    }
   ],
   "source": [
    "f,ax = plot_LAR(S0_fd,EM_fd,cmap='bone',ymin=0,ymax=.6)\n",
    "# ax[0].set_ylim([0,.6])\n",
    "\n",
    "f,ax = plot_LAR(S1_fd,EM_fd,cmap='bone',ymin=0,ymax=.6)\n",
    "# ax[0].set_ylim([0,.6])"
   ]
  },
  {
   "cell_type": "code",
   "execution_count": 48,
   "metadata": {},
   "outputs": [
    {
     "name": "stdout",
     "output_type": "stream",
     "text": [
      "4\n",
      "4222157.4\n",
      "(1030,)\n",
      "4222169.1\n",
      "(297,)\n",
      "4222169.2\n",
      "(135,)\n",
      "4222169.4\n",
      "(320,)\n"
     ]
    },
    {
     "data": {
      "image/png": "[encoded data removed]",
      "text/plain": [
       "<Figure size 432x288 with 2 Axes>"
      ]
     },
     "metadata": {
      "needs_background": "light"
     },
     "output_type": "display_data"
    }
   ],
   "source": [
    "f,ax = plot_LAR(LAR_fd,EM_fd,cmap='bone')\n",
    "f.savefig(os.path.join(basedir,'fd_simratio.pdf'),format='pdf')\n",
    "\n"
   ]
  },
  {
   "cell_type": "code",
   "execution_count": 45,
   "metadata": {},
   "outputs": [],
   "source": [
    "mega_lar_fd = mega_lar(LAR_fd)"
   ]
  },
  {
   "cell_type": "code",
   "execution_count": 49,
   "metadata": {},
   "outputs": [
    {
     "data": {
      "image/png": "[encoded data removed]",
      "text/plain": [
       "<Figure size 432x288 with 1 Axes>"
      ]
     },
     "metadata": {
      "needs_background": "light"
     },
     "output_type": "display_data"
    }
   ],
   "source": [
    "f,ax = plt.subplots()\n",
    "bins = np.linspace(-1,1)\n",
    "fam_hist,edges = np.histogram(mega_lar_fam,bins)\n",
    "rare_hist,edges = np.histogram(mega_lar_rare,bins)\n",
    "fd_hist,edges = np.histogram(mega_lar_fd,bins)\n",
    "ax.fill_between(edges[1:],fam_hist/fam_hist.sum(),alpha=.3,color=plt.cm.cividis(0.))\n",
    "ax.fill_between(edges[1:],rare_hist/rare_hist.sum(),alpha=.3,color=plt.cm.copper(.9))\n",
    "ax.fill_between(edges[1:],fd_hist/fd_hist.sum(),alpha=.3,color=plt.cm.bone(0.))\n",
    "f.savefig(os.path.join(basedir,'lsr_hist_fd.pdf'),format='pdf')"
   ]
  },
  {
   "cell_type": "code",
   "execution_count": null,
   "metadata": {},
   "outputs": [],
   "source": []
  },
  {
   "cell_type": "code",
   "execution_count": 52,
   "metadata": {},
   "outputs": [
    {
     "name": "stdout",
     "output_type": "stream",
     "text": [
      "session ind 5\n",
      "num aberrant ttls 0.0\n",
      "26741 (26741,) (26741, 20) 83632\n",
      "frame diff 0\n",
      "session ind 6\n",
      "num aberrant ttls 0.0\n",
      "23611 (23611,) (23611, 20) 75002\n",
      "frame diff 0\n",
      "session ind 7\n",
      "num aberrant ttls 0.0\n",
      "28600 (28600,) (28600, 20) 90254\n",
      "frame diff 0\n",
      "session ind 8\n",
      "num aberrant ttls 0.0\n",
      "24063 (24063,) (24063, 20) 76746\n",
      "frame diff 0\n",
      "session ind 9\n",
      "num aberrant ttls 0.0\n",
      "27943 (27943,) (27943, 20) 90302\n",
      "frame diff 0\n",
      "session ind 5\n",
      "num aberrant ttls 0.0\n",
      "31376 (31376,) (31376, 20) 99274\n",
      "frame diff 0\n",
      "session ind 6\n",
      "num aberrant ttls 0.0\n",
      "29572 (29572,) (29572, 20) 92598\n",
      "frame diff 0\n",
      "session ind 7\n",
      "num aberrant ttls 0.0\n",
      "37977 (37977,) (37977, 20) 121175\n",
      "frame diff 0\n",
      "session ind 8\n",
      "num aberrant ttls 0.0\n",
      "32188 (32188,) (32188, 20) 101194\n",
      "frame diff 0\n",
      "session ind 9\n",
      "num aberrant ttls 0.0\n",
      "28824 (28824,) (28824, 20) 89367\n",
      "frame diff 0\n",
      "session ind 10\n",
      "num aberrant ttls 0.0\n",
      "28114 (28114,) (28114, 20) 88941\n",
      "frame diff 0\n",
      "session ind 5\n",
      "num aberrant ttls 0.0\n",
      "18855 (18855,) (18855, 20) 59619\n",
      "frame diff 0\n",
      "session ind 6\n",
      "num aberrant ttls 0.0\n",
      "29679 (29679,) (29679, 20) 92950\n",
      "frame diff 0\n",
      "session ind 7\n",
      "num aberrant ttls 0.0\n",
      "25040 (25040,) (25040, 20) 78534\n",
      "frame diff 0\n",
      "session ind 8\n",
      "num aberrant ttls 0.0\n",
      "21275 (21275,) (21275, 20) 66495\n",
      "frame diff 0\n",
      "session ind 9\n",
      "num aberrant ttls 0.0\n",
      "21639 (21639,) (21639, 20) 66372\n",
      "frame diff 0\n",
      "session ind 10\n",
      "num aberrant ttls 0.0\n",
      "28466 (28466,) (28466, 20) 89830\n",
      "frame diff 0\n"
     ]
    }
   ],
   "source": [
    "LAR_rd,EM_rd,S0_rd,S1_rd = LAR_list_maker(['4139224.2','4139224.3','4139224.5'],firstSess=5)"
   ]
  },
  {
   "cell_type": "code",
   "execution_count": 53,
   "metadata": {},
   "outputs": [
    {
     "name": "stdout",
     "output_type": "stream",
     "text": [
      "3\n",
      "4139224.2\n",
      "(449,)\n",
      "4139224.3\n",
      "(540,)\n",
      "4139224.5\n",
      "(623,)\n"
     ]
    },
    {
     "data": {
      "image/png": "[encoded data removed]",
      "text/plain": [
       "<Figure size 432x288 with 2 Axes>"
      ]
     },
     "metadata": {
      "needs_background": "light"
     },
     "output_type": "display_data"
    }
   ],
   "source": [
    "f,ax = plot_LAR(LAR_rd,EM_rd,cmap='bone')"
   ]
  },
  {
   "cell_type": "code",
   "execution_count": 179,
   "metadata": {},
   "outputs": [
    {
     "name": "stdout",
     "output_type": "stream",
     "text": [
      "session ind 4\n",
      "num aberrant ttls 0.0\n",
      "17258 (17258,) (17258, 21) 45680\n",
      "(45680,) (45680, 21)\n"
     ]
    },
    {
     "name": "stderr",
     "output_type": "stream",
     "text": [
      "C:\\Users\\mplitt\\Anaconda3\\lib\\site-packages\\pandas\\core\\frame.py:4034: SettingWithCopyWarning: \n",
      "A value is trying to be set on a copy of a slice from a DataFrame\n",
      "\n",
      "See the caveats in the documentation: http://pandas.pydata.org/pandas-docs/stable/indexing.html#indexing-view-versus-copy\n",
      "  downcast=downcast, **kwargs)\n"
     ]
    },
    {
     "name": "stdout",
     "output_type": "stream",
     "text": [
      "frame diff 0\n"
     ]
    },
    {
     "name": "stderr",
     "output_type": "stream",
     "text": [
      "C:\\Users\\mplitt\\MightyMorphingPhotonRangers\\utilities.py:122: RuntimeWarning: invalid value encountered in true_divide\n",
      "  return frmap, occupancy/occupancy.ravel().sum()\n",
      "C:\\Users\\mplitt\\Anaconda3\\lib\\site-packages\\ipykernel_launcher.py:16: RuntimeWarning: invalid value encountered in true_divide\n",
      "  app.launch_new_instance()\n",
      "C:\\Users\\mplitt\\Anaconda3\\lib\\site-packages\\ipykernel_launcher.py:31: RuntimeWarning: Mean of empty slice\n",
      "C:\\Users\\mplitt\\Anaconda3\\lib\\site-packages\\ipykernel_launcher.py:34: RuntimeWarning: invalid value encountered in true_divide\n"
     ]
    },
    {
     "name": "stdout",
     "output_type": "stream",
     "text": [
      "session ind 5\n",
      "num aberrant ttls 0.0\n",
      "25985 (25985,) (25985, 21) 70127\n",
      "(70127,) (70127, 21)\n",
      "frame diff 0\n",
      "session ind 6\n",
      "num aberrant ttls 0.0\n",
      "28101 (28101,) (28101, 21) 76551\n",
      "(76551,) (76551, 21)\n",
      "frame diff 0\n",
      "session ind 7\n",
      "num aberrant ttls 0.0\n",
      "21828 (21828,) (21828, 21) 58775\n",
      "(58775,) (58775, 21)\n",
      "frame diff 0\n"
     ]
    }
   ],
   "source": [
    "LAR_dg, EM_dg, S0_df, S1_df = LAR_list_maker(['4222193.3'],firstSess=4)"
   ]
  },
  {
   "cell_type": "code",
   "execution_count": 181,
   "metadata": {},
   "outputs": [
    {
     "name": "stdout",
     "output_type": "stream",
     "text": [
      "1\n",
      "4222193.3\n",
      "(395,)\n"
     ]
    },
    {
     "data": {
      "image/png": "[encoded data removed]",
      "text/plain": [
       "<Figure size 432x288 with 2 Axes>"
      ]
     },
     "metadata": {
      "needs_background": "light"
     },
     "output_type": "display_data"
    }
   ],
   "source": [
    "f,ax = plot_LAR(LAR_dg,EM_dg,cmap='bone',ymin=-.1,ymax=.1)"
   ]
  },
  {
   "cell_type": "code",
   "execution_count": null,
   "metadata": {},
   "outputs": [],
   "source": []
  }
 ],
 "metadata": {
  "kernelspec": {
   "display_name": "Python 3",
   "language": "python",
   "name": "python3"
  },
  "language_info": {
   "codemirror_mode": {
    "name": "ipython",
    "version": 3
   },
   "file_extension": ".py",
   "mimetype": "text/x-python",
   "name": "python",
   "nbconvert_exporter": "python",
   "pygments_lexer": "ipython3",
   "version": "3.7.3"
  }
 },
 "nbformat": 4,
 "nbformat_minor": 2
}
