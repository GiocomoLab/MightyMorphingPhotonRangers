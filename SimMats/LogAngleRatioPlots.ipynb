{
 "cells": [
  {
   "cell_type": "code",
   "execution_count": 1,
   "metadata": {},
   "outputs": [],
   "source": [
    "import os\n",
    "os.sys.path.append(\"C:\\\\Users\\mplitt\\MightyMorphingPhotonRangers\")\n",
    "import numpy as np\n",
    "import matplotlib.pyplot as plt\n",
    "import utilities as u\n",
    "import preprocessing as pp\n",
    "import behavior as b\n",
    "import SimilarityMatrixAnalysis as sm\n",
    "import scipy as sp\n",
    "import PlaceCellAnalysis as pc\n",
    "\n",
    "\n",
    "%load_ext autoreload\n",
    "%autoreload 2\n",
    "\n",
    "%matplotlib inline"
   ]
  },
  {
   "cell_type": "code",
   "execution_count": null,
   "metadata": {},
   "outputs": [],
   "source": [
    "df = pp.load_session_db()\n",
    "\n",
    "\n",
    "df = df[df['RewardCount']>30]\n",
    "df = df[df['Imaging']==1]\n",
    "df = df.sort_values(['MouseName','DateTime','SessionNumber'])\n",
    "tracks = 'TwoTower_noTimeout|TwoTower_Timeout|Reversal_noTimeout|Reversal|TwoTower_foraging'\n",
    "df = df[df['Track'].str.contains(tracks,regex=True)]"
   ]
  },
  {
   "cell_type": "code",
   "execution_count": null,
   "metadata": {},
   "outputs": [],
   "source": [
    "morph_rare = ['4139265.3','4139265.4','4139265.5','4222175.0']\n",
    "morph_familiar = ['4222153.2','4222154.1','4222153.1','4222174.1','4222157.3']"
   ]
  },
  {
   "cell_type": "code",
   "execution_count": null,
   "metadata": {},
   "outputs": [],
   "source": []
  },
  {
   "cell_type": "code",
   "execution_count": null,
   "metadata": {},
   "outputs": [],
   "source": [
    "def LAR_list_maker(mlist):\n",
    "    LAR_list = []\n",
    "    for mouse in mlist: \n",
    "        df_mouse = df[df['MouseName'].str.match(mouse)]\n",
    "        for mat_ind,sess_ind in enumerate(np.arange(5,df_mouse.shape[0])):\n",
    "            print(\"session ind\",sess_ind)\n",
    "            sess = df_mouse.iloc[sess_ind]\n",
    "\n",
    "            VRDat, C, S, A = pp.load_scan_sess(sess,fneu_coeff=0.7)\n",
    "            trial_info, tstart_inds, teleport_inds = u.by_trial_info(VRDat)\n",
    "\n",
    "\n",
    "            effMorph = trial_info['morphs'] +  trial_info['wallJitter'] + trial_info['bckgndJitter']\n",
    "            effMorph = (effMorph+.25)/1.5\n",
    "            \n",
    "            msort = np.argsort(effMorph)\n",
    "           \n",
    "            S_trial_mat, occ_trial_mat, edges,centers = u.make_pos_bin_trial_matrices(S,VRDat['pos']._values,VRDat['tstart']._values,VRDat['teleport']._values,bin_size=10)\n",
    "            S_tm = S_trial_mat.reshape([S_trial_mat.shape[0],-1])\n",
    "            S_tm_norm = S_tm/np.linalg.norm(S_tm,ord=2,axis=1)[:,np.newaxis]\n",
    "            \n",
    "            \n",
    "            centroid0, centroid1 = np.zeros([])\n",
    "\n",
    "            U_tmp = np.zeros([morphs.shape[0],morphs.shape[0]])\n",
    "\n",
    "            for row,morph_r in enumerate(range(np.amax(effMorph_dig)+1)):\n",
    "                for col, morph_c in enumerate(range(np.amax(effMorph_dig)+1)):\n",
    "                    mask = np.matmul((effMorph_dig==morph_r).reshape([-1,1]),(effMorph_dig==morph_c).reshape([1,-1]))\n",
    "\n",
    "                    U_tmp[row,col] = np.nanmean( SM[mask].ravel())\n",
    "\n",
    "            if mat_ind == 0:\n",
    "\n",
    "                U = np.zeros([U_tmp.shape[0],U_tmp.shape[1],df_mouse.shape[0]-5])\n",
    "\n",
    "            U[:,:,mat_ind]=U_tmp\n",
    "\n",
    "\n",
    "        U_list.append(U)\n",
    "        \n",
    "    return U_list"
   ]
  }
 ],
 "metadata": {
  "kernelspec": {
   "display_name": "Python 3",
   "language": "python",
   "name": "python3"
  },
  "language_info": {
   "codemirror_mode": {
    "name": "ipython",
    "version": 3
   },
   "file_extension": ".py",
   "mimetype": "text/x-python",
   "name": "python",
   "nbconvert_exporter": "python",
   "pygments_lexer": "ipython3",
   "version": "3.7.3"
  }
 },
 "nbformat": 4,
 "nbformat_minor": 2
}
