{
 "cells": [
  {
   "cell_type": "code",
   "execution_count": 1,
   "metadata": {},
   "outputs": [],
   "source": [
    "import os\n",
    "os.sys.path.append(\"C:\\\\Users\\mplitt\\MightyMorphingPhotonRangers\")\n",
    "import numpy as np\n",
    "import matplotlib.pyplot as plt\n",
    "import utilities as u\n",
    "import preprocessing as pp\n",
    "import behavior as b\n",
    "import SimilarityMatrixAnalysis as sm\n",
    "import scipy as sp\n",
    "import PlaceCellAnalysis as pc\n",
    "\n",
    "\n",
    "%load_ext autoreload\n",
    "%autoreload 2\n",
    "\n",
    "%matplotlib inline"
   ]
  },
  {
   "cell_type": "code",
   "execution_count": 75,
   "metadata": {},
   "outputs": [
    {
     "name": "stdout",
     "output_type": "stream",
     "text": [
      "G:\\My Drive\\VR_Data\\TwoTower\\behavior.sqlite\n",
      "G:\\My Drive\\VR_Data\\TwoTower\\4222174.0\\30_05_2019\\RuningTraining_1.sqlite\n",
      "file doesn't exist, errors to come!!!\n"
     ]
    }
   ],
   "source": [
    "df = pp.load_session_db()\n",
    "\n",
    "\n",
    "df = df[df['RewardCount']>30]\n",
    "df = df[df['Imaging']==1]\n",
    "df = df.sort_values(['MouseName','DateTime','SessionNumber'])\n",
    "tracks = 'TwoTower_noTimeout|TwoTower_Timeout|Reversal_noTimeout|Reversal|TwoTower_foraging|FreqMorph_Decision|FreqMorph_Timeout'\n",
    "df = df[df['Track'].str.contains(tracks,regex=True)]"
   ]
  },
  {
   "cell_type": "code",
   "execution_count": 57,
   "metadata": {},
   "outputs": [],
   "source": [
    "morph_rare = ['4139265.3','4139265.4','4139265.5','4222175.0','4139266.3']\n",
    "morph_familiar = ['4222153.2','4222154.1','4222153.1','4222174.1','4222157.3']"
   ]
  },
  {
   "cell_type": "code",
   "execution_count": 76,
   "metadata": {},
   "outputs": [
    {
     "data": {
      "text/html": [
       "<div>\n",
       "<style scoped>\n",
       "    .dataframe tbody tr th:only-of-type {\n",
       "        vertical-align: middle;\n",
       "    }\n",
       "\n",
       "    .dataframe tbody tr th {\n",
       "        vertical-align: top;\n",
       "    }\n",
       "\n",
       "    .dataframe thead th {\n",
       "        text-align: right;\n",
       "    }\n",
       "</style>\n",
       "<table border=\"1\" class=\"dataframe\">\n",
       "  <thead>\n",
       "    <tr style=\"text-align: right;\">\n",
       "      <th></th>\n",
       "      <th>MouseName</th>\n",
       "      <th>DateFolder</th>\n",
       "      <th>SessionNumber</th>\n",
       "      <th>Track</th>\n",
       "      <th>RewardCount</th>\n",
       "      <th>Imaging</th>\n",
       "      <th>ImagingRegion</th>\n",
       "      <th>DateTime</th>\n",
       "      <th>data file</th>\n",
       "      <th>scanfile</th>\n",
       "      <th>scanmat</th>\n",
       "      <th>s2pfolder</th>\n",
       "    </tr>\n",
       "  </thead>\n",
       "  <tbody>\n",
       "    <tr>\n",
       "      <th>1992</th>\n",
       "      <td>4222174.1</td>\n",
       "      <td>04_06_2019</td>\n",
       "      <td>1</td>\n",
       "      <td>TwoTower_foraging</td>\n",
       "      <td>80</td>\n",
       "      <td>1</td>\n",
       "      <td>CA1</td>\n",
       "      <td>2019-06-04</td>\n",
       "      <td>G:\\My Drive\\VR_Data\\TwoTower\\4222174.1\\04_06_2...</td>\n",
       "      <td>None</td>\n",
       "      <td>G:\\My Drive\\2P_Data\\TwoTower\\4222174.1\\04_06_2...</td>\n",
       "      <td>G:\\My Drive\\2P_Data\\TwoTower\\4222174.1\\04_06_2...</td>\n",
       "    </tr>\n",
       "    <tr>\n",
       "      <th>2024</th>\n",
       "      <td>4222174.1</td>\n",
       "      <td>06_06_2019</td>\n",
       "      <td>2</td>\n",
       "      <td>TwoTower_foraging</td>\n",
       "      <td>91</td>\n",
       "      <td>1</td>\n",
       "      <td>CA1</td>\n",
       "      <td>2019-06-06</td>\n",
       "      <td>G:\\My Drive\\VR_Data\\TwoTower\\4222174.1\\06_06_2...</td>\n",
       "      <td>None</td>\n",
       "      <td>G:\\My Drive\\2P_Data\\TwoTower\\4222174.1\\06_06_2...</td>\n",
       "      <td>G:\\My Drive\\2P_Data\\TwoTower\\4222174.1\\06_06_2...</td>\n",
       "    </tr>\n",
       "    <tr>\n",
       "      <th>2046</th>\n",
       "      <td>4222174.1</td>\n",
       "      <td>08_06_2019</td>\n",
       "      <td>2</td>\n",
       "      <td>TwoTower_foraging</td>\n",
       "      <td>67</td>\n",
       "      <td>1</td>\n",
       "      <td>CA1</td>\n",
       "      <td>2019-06-08</td>\n",
       "      <td>G:\\My Drive\\VR_Data\\TwoTower\\4222174.1\\08_06_2...</td>\n",
       "      <td>None</td>\n",
       "      <td>G:\\My Drive\\2P_Data\\TwoTower\\4222174.1\\08_06_2...</td>\n",
       "      <td>G:\\My Drive\\2P_Data\\TwoTower\\4222174.1\\08_06_2...</td>\n",
       "    </tr>\n",
       "    <tr>\n",
       "      <th>2073</th>\n",
       "      <td>4222174.1</td>\n",
       "      <td>11_06_2019</td>\n",
       "      <td>2</td>\n",
       "      <td>TwoTower_foraging</td>\n",
       "      <td>64</td>\n",
       "      <td>1</td>\n",
       "      <td>CA1</td>\n",
       "      <td>2019-06-11</td>\n",
       "      <td>G:\\My Drive\\VR_Data\\TwoTower\\4222174.1\\11_06_2...</td>\n",
       "      <td>None</td>\n",
       "      <td>G:\\My Drive\\2P_Data\\TwoTower\\4222174.1\\11_06_2...</td>\n",
       "      <td>G:\\My Drive\\2P_Data\\TwoTower\\4222174.1\\11_06_2...</td>\n",
       "    </tr>\n",
       "    <tr>\n",
       "      <th>2095</th>\n",
       "      <td>4222174.1</td>\n",
       "      <td>13_06_2019</td>\n",
       "      <td>2</td>\n",
       "      <td>TwoTower_foraging</td>\n",
       "      <td>66</td>\n",
       "      <td>1</td>\n",
       "      <td>CA1</td>\n",
       "      <td>2019-06-13</td>\n",
       "      <td>G:\\My Drive\\VR_Data\\TwoTower\\4222174.1\\13_06_2...</td>\n",
       "      <td>None</td>\n",
       "      <td>G:\\My Drive\\2P_Data\\TwoTower\\4222174.1\\13_06_2...</td>\n",
       "      <td>G:\\My Drive\\2P_Data\\TwoTower\\4222174.1\\13_06_2...</td>\n",
       "    </tr>\n",
       "    <tr>\n",
       "      <th>2108</th>\n",
       "      <td>4222174.1</td>\n",
       "      <td>14_06_2019</td>\n",
       "      <td>2</td>\n",
       "      <td>TwoTower_foraging</td>\n",
       "      <td>70</td>\n",
       "      <td>1</td>\n",
       "      <td>CA1</td>\n",
       "      <td>2019-06-14</td>\n",
       "      <td>G:\\My Drive\\VR_Data\\TwoTower\\4222174.1\\14_06_2...</td>\n",
       "      <td>None</td>\n",
       "      <td>G:\\My Drive\\2P_Data\\TwoTower\\4222174.1\\14_06_2...</td>\n",
       "      <td>G:\\My Drive\\2P_Data\\TwoTower\\4222174.1\\14_06_2...</td>\n",
       "    </tr>\n",
       "  </tbody>\n",
       "</table>\n",
       "</div>"
      ],
      "text/plain": [
       "      MouseName  DateFolder  SessionNumber              Track  RewardCount  \\\n",
       "1992  4222174.1  04_06_2019              1  TwoTower_foraging           80   \n",
       "2024  4222174.1  06_06_2019              2  TwoTower_foraging           91   \n",
       "2046  4222174.1  08_06_2019              2  TwoTower_foraging           67   \n",
       "2073  4222174.1  11_06_2019              2  TwoTower_foraging           64   \n",
       "2095  4222174.1  13_06_2019              2  TwoTower_foraging           66   \n",
       "2108  4222174.1  14_06_2019              2  TwoTower_foraging           70   \n",
       "\n",
       "      Imaging ImagingRegion   DateTime  \\\n",
       "1992        1           CA1 2019-06-04   \n",
       "2024        1           CA1 2019-06-06   \n",
       "2046        1           CA1 2019-06-08   \n",
       "2073        1           CA1 2019-06-11   \n",
       "2095        1           CA1 2019-06-13   \n",
       "2108        1           CA1 2019-06-14   \n",
       "\n",
       "                                              data file scanfile  \\\n",
       "1992  G:\\My Drive\\VR_Data\\TwoTower\\4222174.1\\04_06_2...     None   \n",
       "2024  G:\\My Drive\\VR_Data\\TwoTower\\4222174.1\\06_06_2...     None   \n",
       "2046  G:\\My Drive\\VR_Data\\TwoTower\\4222174.1\\08_06_2...     None   \n",
       "2073  G:\\My Drive\\VR_Data\\TwoTower\\4222174.1\\11_06_2...     None   \n",
       "2095  G:\\My Drive\\VR_Data\\TwoTower\\4222174.1\\13_06_2...     None   \n",
       "2108  G:\\My Drive\\VR_Data\\TwoTower\\4222174.1\\14_06_2...     None   \n",
       "\n",
       "                                                scanmat  \\\n",
       "1992  G:\\My Drive\\2P_Data\\TwoTower\\4222174.1\\04_06_2...   \n",
       "2024  G:\\My Drive\\2P_Data\\TwoTower\\4222174.1\\06_06_2...   \n",
       "2046  G:\\My Drive\\2P_Data\\TwoTower\\4222174.1\\08_06_2...   \n",
       "2073  G:\\My Drive\\2P_Data\\TwoTower\\4222174.1\\11_06_2...   \n",
       "2095  G:\\My Drive\\2P_Data\\TwoTower\\4222174.1\\13_06_2...   \n",
       "2108  G:\\My Drive\\2P_Data\\TwoTower\\4222174.1\\14_06_2...   \n",
       "\n",
       "                                              s2pfolder  \n",
       "1992  G:\\My Drive\\2P_Data\\TwoTower\\4222174.1\\04_06_2...  \n",
       "2024  G:\\My Drive\\2P_Data\\TwoTower\\4222174.1\\06_06_2...  \n",
       "2046  G:\\My Drive\\2P_Data\\TwoTower\\4222174.1\\08_06_2...  \n",
       "2073  G:\\My Drive\\2P_Data\\TwoTower\\4222174.1\\11_06_2...  \n",
       "2095  G:\\My Drive\\2P_Data\\TwoTower\\4222174.1\\13_06_2...  \n",
       "2108  G:\\My Drive\\2P_Data\\TwoTower\\4222174.1\\14_06_2...  "
      ]
     },
     "execution_count": 76,
     "metadata": {},
     "output_type": "execute_result"
    }
   ],
   "source": [
    "mouse = '4222174.1'\n",
    "df_mouse = df[df['MouseName'].str.match(mouse)]\n",
    "df_mouse"
   ]
  },
  {
   "cell_type": "code",
   "execution_count": 81,
   "metadata": {},
   "outputs": [],
   "source": [
    "sess = df_mouse.iloc[-1]"
   ]
  },
  {
   "cell_type": "code",
   "execution_count": 82,
   "metadata": {},
   "outputs": [],
   "source": [
    "def sess_lar(sess,max_pos=450,cellmask = None):\n",
    "    VRDat, C, S, A = pp.load_scan_sess(sess,fneu_coeff=0.7)\n",
    "    trial_info, tstart_inds, teleport_inds = u.by_trial_info(VRDat)\n",
    "\n",
    "\n",
    "    effMorph = trial_info['morphs'] +  trial_info['wallJitter'] + trial_info['bckgndJitter']\n",
    "    effMorph = (effMorph+.25)/1.5\n",
    "\n",
    "    msort = np.argsort(effMorph)\n",
    "\n",
    "    S_trial_mat, occ_trial_mat, edges,centers = u.make_pos_bin_trial_matrices(S,VRDat['pos']._values,VRDat['tstart']._values,VRDat['teleport']._values,bin_size=10)\n",
    "    posmask = centers<=max_pos\n",
    "    S_tm = S_trial_mat[:,posmask,:].reshape([S_trial_mat.shape[0],-1])\n",
    "    S_tm_norm = S_tm/np.linalg.norm(S_tm,ord=2,axis=1)[:,np.newaxis]\n",
    "\n",
    "\n",
    "    lar = np.zeros(effMorph.shape)\n",
    "    for trial in range(effMorph.shape[0]):\n",
    "        mask0 = trial_info['morphs']==0\n",
    "        mask1 = trial_info['morphs']==1\n",
    "        if trial_info['morphs'][trial]==0:\n",
    "            mask0[trial]=False\n",
    "        elif trial_info['morphs'][trial]==1:\n",
    "            mask1[trial]=False\n",
    "            \n",
    "        centroid0, centroid1 = np.nanmean(S_tm[mask0,:],axis=0), np.nanmean(S_tm[mask1,:],axis=0)\n",
    "        centroid0/np.linalg.norm(centroid0,ord=2)\n",
    "        centroid1/np.linalg.norm(centroid1,ord=2)\n",
    "        \n",
    "        lar[trial]= np.log(np.dot(S_tm_norm[trial,:],centroid0)/np.dot(S_tm_norm[trial,:],centroid1))\n",
    "    return lar, effMorph\n",
    "        \n",
    "\n",
    "    "
   ]
  },
  {
   "cell_type": "code",
   "execution_count": 85,
   "metadata": {},
   "outputs": [
    {
     "name": "stdout",
     "output_type": "stream",
     "text": [
      "num aberrant ttls 0.0\n",
      "34560 (34560,) (34560, 21) 97310\n",
      "frame diff 0\n"
     ]
    }
   ],
   "source": [
    "lar,em = sess_lar(sess,max_pos=450)"
   ]
  },
  {
   "cell_type": "code",
   "execution_count": 86,
   "metadata": {},
   "outputs": [
    {
     "data": {
      "text/plain": [
       "<matplotlib.collections.PathCollection at 0x2d1b314c710>"
      ]
     },
     "execution_count": 86,
     "metadata": {},
     "output_type": "execute_result"
    },
    {
     "data": {
      "image/png": "[encoded data removed]",
      "text/plain": [
       "<Figure size 432x288 with 1 Axes>"
      ]
     },
     "metadata": {
      "needs_background": "light"
     },
     "output_type": "display_data"
    }
   ],
   "source": [
    "f,ax = plt.subplots()\n",
    "ax.scatter(em,lar)"
   ]
  },
  {
   "cell_type": "code",
   "execution_count": 65,
   "metadata": {},
   "outputs": [],
   "source": [
    "def LAR_list_maker(mlist,firstSess = None):\n",
    "    LAR, EM = {},{}\n",
    "    \n",
    "    if firstSess is None:\n",
    "        firstSess = len(mlist)*[5]\n",
    "    \n",
    "    for mouse,f_ind in zip(mlist,firstSess): \n",
    "        LAR[mouse],EM[mouse] = [],[]\n",
    "        df_mouse = df[df['MouseName'].str.match(mouse)]\n",
    "        for mat_ind,sess_ind in enumerate(np.arange(f_ind,df_mouse.shape[0])):\n",
    "            print(\"session ind\",sess_ind)\n",
    "            sess = df_mouse.iloc[sess_ind]\n",
    "\n",
    "            lar, em = sess_lar(sess)\n",
    "            LAR[mouse].append(lar)\n",
    "            EM[mouse].append(em)\n",
    "          "
   ]
  },
  {
   "cell_type": "code",
   "execution_count": 88,
   "metadata": {},
   "outputs": [
    {
     "name": "stdout",
     "output_type": "stream",
     "text": [
      "[5, 5, 5, 5, 5]\n"
     ]
    }
   ],
   "source": [
    "print(5*[5])"
   ]
  },
  {
   "cell_type": "code",
   "execution_count": null,
   "metadata": {},
   "outputs": [],
   "source": []
  }
 ],
 "metadata": {
  "kernelspec": {
   "display_name": "Python 3",
   "language": "python",
   "name": "python3"
  },
  "language_info": {
   "codemirror_mode": {
    "name": "ipython",
    "version": 3
   },
   "file_extension": ".py",
   "mimetype": "text/x-python",
   "name": "python",
   "nbconvert_exporter": "python",
   "pygments_lexer": "ipython3",
   "version": "3.7.3"
  }
 },
 "nbformat": 4,
 "nbformat_minor": 2
}
