{
 "cells": [
  {
   "cell_type": "code",
   "execution_count": 2,
   "metadata": {},
   "outputs": [],
   "source": [
    "import os\n",
    "os.sys.path.append(\"C:\\\\Users\\mplitt\\MightyMorphingPhotonRangers\")\n",
    "import numpy as np\n",
    "import matplotlib.pyplot as plt\n",
    "import utilities as u\n",
    "import preprocessing as pp\n",
    "import behavior as b\n",
    "import SimilarityMatrixAnalysis as sm\n",
    "import scipy as sp\n",
    "import PlaceCellAnalysis as pc\n",
    "\n",
    "\n",
    "%load_ext autoreload\n",
    "%autoreload 2\n",
    "\n",
    "%matplotlib inline"
   ]
  },
  {
   "cell_type": "code",
   "execution_count": 60,
   "metadata": {},
   "outputs": [
    {
     "name": "stdout",
     "output_type": "stream",
     "text": [
      "G:\\My Drive\\VR_Data\\TwoTower\\behavior.sqlite\n"
     ]
    },
    {
     "data": {
      "text/html": [
       "<div>\n",
       "<style scoped>\n",
       "    .dataframe tbody tr th:only-of-type {\n",
       "        vertical-align: middle;\n",
       "    }\n",
       "\n",
       "    .dataframe tbody tr th {\n",
       "        vertical-align: top;\n",
       "    }\n",
       "\n",
       "    .dataframe thead th {\n",
       "        text-align: right;\n",
       "    }\n",
       "</style>\n",
       "<table border=\"1\" class=\"dataframe\">\n",
       "  <thead>\n",
       "    <tr style=\"text-align: right;\">\n",
       "      <th></th>\n",
       "      <th>MouseName</th>\n",
       "      <th>DateFolder</th>\n",
       "      <th>SessionNumber</th>\n",
       "      <th>Track</th>\n",
       "      <th>RewardCount</th>\n",
       "      <th>Imaging</th>\n",
       "      <th>ImagingRegion</th>\n",
       "      <th>DateTime</th>\n",
       "      <th>data file</th>\n",
       "      <th>scanfile</th>\n",
       "      <th>scanmat</th>\n",
       "      <th>s2pfolder</th>\n",
       "    </tr>\n",
       "  </thead>\n",
       "  <tbody>\n",
       "    <tr>\n",
       "      <th>1724</th>\n",
       "      <td>4222153.1</td>\n",
       "      <td>08_04_2019</td>\n",
       "      <td>1</td>\n",
       "      <td>TwoTower_foraging</td>\n",
       "      <td>120</td>\n",
       "      <td>1</td>\n",
       "      <td>CA1</td>\n",
       "      <td>2019-04-08</td>\n",
       "      <td>G:\\My Drive\\VR_Data\\TwoTower\\4222153.1\\08_04_2...</td>\n",
       "      <td>None</td>\n",
       "      <td>G:\\My Drive\\2P_Data\\TwoTower\\4222153.1\\08_04_2...</td>\n",
       "      <td>G:\\My Drive\\2P_Data\\TwoTower\\4222153.1\\08_04_2...</td>\n",
       "    </tr>\n",
       "    <tr>\n",
       "      <th>1747</th>\n",
       "      <td>4222153.1</td>\n",
       "      <td>10_04_2019</td>\n",
       "      <td>2</td>\n",
       "      <td>TwoTower_foraging</td>\n",
       "      <td>92</td>\n",
       "      <td>1</td>\n",
       "      <td>CA1</td>\n",
       "      <td>2019-04-10</td>\n",
       "      <td>G:\\My Drive\\VR_Data\\TwoTower\\4222153.1\\10_04_2...</td>\n",
       "      <td>None</td>\n",
       "      <td>G:\\My Drive\\2P_Data\\TwoTower\\4222153.1\\10_04_2...</td>\n",
       "      <td>G:\\My Drive\\2P_Data\\TwoTower\\4222153.1\\10_04_2...</td>\n",
       "    </tr>\n",
       "    <tr>\n",
       "      <th>1768</th>\n",
       "      <td>4222153.1</td>\n",
       "      <td>12_04_2019</td>\n",
       "      <td>2</td>\n",
       "      <td>TwoTower_foraging</td>\n",
       "      <td>82</td>\n",
       "      <td>1</td>\n",
       "      <td>CA1</td>\n",
       "      <td>2019-04-12</td>\n",
       "      <td>G:\\My Drive\\VR_Data\\TwoTower\\4222153.1\\12_04_2...</td>\n",
       "      <td>None</td>\n",
       "      <td>G:\\My Drive\\2P_Data\\TwoTower\\4222153.1\\12_04_2...</td>\n",
       "      <td>G:\\My Drive\\2P_Data\\TwoTower\\4222153.1\\12_04_2...</td>\n",
       "    </tr>\n",
       "    <tr>\n",
       "      <th>1794</th>\n",
       "      <td>4222153.1</td>\n",
       "      <td>14_04_2019</td>\n",
       "      <td>2</td>\n",
       "      <td>TwoTower_foraging</td>\n",
       "      <td>82</td>\n",
       "      <td>1</td>\n",
       "      <td>CA1</td>\n",
       "      <td>2019-04-14</td>\n",
       "      <td>G:\\My Drive\\VR_Data\\TwoTower\\4222153.1\\14_04_2...</td>\n",
       "      <td>None</td>\n",
       "      <td>G:\\My Drive\\2P_Data\\TwoTower\\4222153.1\\14_04_2...</td>\n",
       "      <td>G:\\My Drive\\2P_Data\\TwoTower\\4222153.1\\14_04_2...</td>\n",
       "    </tr>\n",
       "    <tr>\n",
       "      <th>1803</th>\n",
       "      <td>4222153.1</td>\n",
       "      <td>15_04_2019</td>\n",
       "      <td>2</td>\n",
       "      <td>TwoTower_foraging</td>\n",
       "      <td>74</td>\n",
       "      <td>1</td>\n",
       "      <td>CA1</td>\n",
       "      <td>2019-04-15</td>\n",
       "      <td>G:\\My Drive\\VR_Data\\TwoTower\\4222153.1\\15_04_2...</td>\n",
       "      <td>None</td>\n",
       "      <td>G:\\My Drive\\2P_Data\\TwoTower\\4222153.1\\15_04_2...</td>\n",
       "      <td>G:\\My Drive\\2P_Data\\TwoTower\\4222153.1\\15_04_2...</td>\n",
       "    </tr>\n",
       "  </tbody>\n",
       "</table>\n",
       "</div>"
      ],
      "text/plain": [
       "      MouseName  DateFolder  SessionNumber              Track  RewardCount  \\\n",
       "1724  4222153.1  08_04_2019              1  TwoTower_foraging          120   \n",
       "1747  4222153.1  10_04_2019              2  TwoTower_foraging           92   \n",
       "1768  4222153.1  12_04_2019              2  TwoTower_foraging           82   \n",
       "1794  4222153.1  14_04_2019              2  TwoTower_foraging           82   \n",
       "1803  4222153.1  15_04_2019              2  TwoTower_foraging           74   \n",
       "\n",
       "      Imaging ImagingRegion   DateTime  \\\n",
       "1724        1           CA1 2019-04-08   \n",
       "1747        1           CA1 2019-04-10   \n",
       "1768        1           CA1 2019-04-12   \n",
       "1794        1           CA1 2019-04-14   \n",
       "1803        1           CA1 2019-04-15   \n",
       "\n",
       "                                              data file scanfile  \\\n",
       "1724  G:\\My Drive\\VR_Data\\TwoTower\\4222153.1\\08_04_2...     None   \n",
       "1747  G:\\My Drive\\VR_Data\\TwoTower\\4222153.1\\10_04_2...     None   \n",
       "1768  G:\\My Drive\\VR_Data\\TwoTower\\4222153.1\\12_04_2...     None   \n",
       "1794  G:\\My Drive\\VR_Data\\TwoTower\\4222153.1\\14_04_2...     None   \n",
       "1803  G:\\My Drive\\VR_Data\\TwoTower\\4222153.1\\15_04_2...     None   \n",
       "\n",
       "                                                scanmat  \\\n",
       "1724  G:\\My Drive\\2P_Data\\TwoTower\\4222153.1\\08_04_2...   \n",
       "1747  G:\\My Drive\\2P_Data\\TwoTower\\4222153.1\\10_04_2...   \n",
       "1768  G:\\My Drive\\2P_Data\\TwoTower\\4222153.1\\12_04_2...   \n",
       "1794  G:\\My Drive\\2P_Data\\TwoTower\\4222153.1\\14_04_2...   \n",
       "1803  G:\\My Drive\\2P_Data\\TwoTower\\4222153.1\\15_04_2...   \n",
       "\n",
       "                                              s2pfolder  \n",
       "1724  G:\\My Drive\\2P_Data\\TwoTower\\4222153.1\\08_04_2...  \n",
       "1747  G:\\My Drive\\2P_Data\\TwoTower\\4222153.1\\10_04_2...  \n",
       "1768  G:\\My Drive\\2P_Data\\TwoTower\\4222153.1\\12_04_2...  \n",
       "1794  G:\\My Drive\\2P_Data\\TwoTower\\4222153.1\\14_04_2...  \n",
       "1803  G:\\My Drive\\2P_Data\\TwoTower\\4222153.1\\15_04_2...  "
      ]
     },
     "execution_count": 60,
     "metadata": {},
     "output_type": "execute_result"
    }
   ],
   "source": [
    "mouse = '4222153.1'\n",
    "df = pp.load_session_db()\n",
    "\n",
    "\n",
    "df = df[df['RewardCount']>30]\n",
    "df = df[df['Imaging']==1]\n",
    "df = df.sort_values(['MouseName','DateTime','SessionNumber'])\n",
    "tracks = 'TwoTower_noTimeout|TwoTower_Timeout|Reversal_noTimeout|Reversal|TwoTower_foraging'\n",
    "df = df[df['Track'].str.contains(tracks,regex=True)]\n",
    "\n",
    "df_mouse = df[df['MouseName'].str.match(mouse)]\n",
    "# df_mouse = df_mouse[df_mouse['Track'].str.match('TwoTower_noTimeout') | df_mouse['Track'].str.match('TwoTower_Timeout')]\n",
    "df_mouse"
   ]
  },
  {
   "cell_type": "code",
   "execution_count": 61,
   "metadata": {},
   "outputs": [
    {
     "name": "stdout",
     "output_type": "stream",
     "text": [
      "G:\\My Drive\\VR_Data\\TwoTower\\4222153.1\\14_04_2019\\TwoTower_foraging_2.sqlite\n"
     ]
    }
   ],
   "source": [
    "sess = df_mouse.iloc[-2]\n",
    "print(sess['data file'])"
   ]
  },
  {
   "cell_type": "code",
   "execution_count": null,
   "metadata": {},
   "outputs": [],
   "source": [
    "VRDat,C, S, A = pp.load_scan_sess(sess)\n",
    "trial_info, tstart_inds, teleport_inds = u.by_trial_info(VRDat)\n"
   ]
  },
  {
   "cell_type": "code",
   "execution_count": null,
   "metadata": {},
   "outputs": [],
   "source": [
    "S_trial_mat, occ_trial_mat, edges,centers = u.make_pos_bin_trial_matrices(S,VRDat['pos']._values,VRDat['tstart']._values,VRDat['teleport']._values,bin_size=10,speed=VRDat.speed._values)\n",
    "S_trial_mat[np.isnan(S_trial_mat)]=0\n",
    "S_trial_mat = sp.ndimage.filters.gaussian_filter1d(S_trial_mat,3,axis=1)"
   ]
  },
  {
   "cell_type": "code",
   "execution_count": null,
   "metadata": {},
   "outputs": [],
   "source": [
    "print(S.shape)\n",
    "print(np.sum(np.isnan(S)))\n",
    "print(S_trial_mat.shape)"
   ]
  },
  {
   "cell_type": "code",
   "execution_count": null,
   "metadata": {},
   "outputs": [],
   "source": [
    "effMorph = trial_info['morphs'] +  trial_info['wallJitter'] + trial_info['bckgndJitter']\n",
    "msort = np.argsort(effMorph)\n"
   ]
  },
  {
   "cell_type": "code",
   "execution_count": null,
   "metadata": {},
   "outputs": [],
   "source": [
    "S_pc = S_trial_mat[:,:,:]\n",
    "# nanmask = 1-np.isnan(S_pc)"
   ]
  },
  {
   "cell_type": "code",
   "execution_count": null,
   "metadata": {},
   "outputs": [],
   "source": [
    "# S_tmat = sp.stats.zscore(np.reshape(S_pc,[S_trial_mat.shape[0],-1]),axis=-1)\n",
    "S_tmat = np.reshape(S_pc,[S_trial_mat.shape[0],-1])\n",
    "S_tmat = S_tmat/np.linalg.norm(S_tmat,ord=2,axis=-1)[:,np.newaxis]\n",
    "# nanmask = np.reshape(nanmask,[S_trial_mat.shape[0],-1])"
   ]
  },
  {
   "cell_type": "code",
   "execution_count": null,
   "metadata": {},
   "outputs": [],
   "source": [
    "S_t_rmat = np.matmul(S_tmat,S_tmat.T) #/np.matmul(nanmask,nanmask.T)"
   ]
  },
  {
   "cell_type": "code",
   "execution_count": null,
   "metadata": {},
   "outputs": [],
   "source": [
    "print(S_t_rmat.shape)\n",
    "print(S_t_rmat)"
   ]
  },
  {
   "cell_type": "code",
   "execution_count": null,
   "metadata": {},
   "outputs": [],
   "source": [
    "import sklearn as sk\n",
    "import sklearn.cluster as clust\n"
   ]
  },
  {
   "cell_type": "code",
   "execution_count": null,
   "metadata": {},
   "outputs": [],
   "source": [
    "score = []\n",
    "for c in range(2,10):\n",
    "    spectclust = clust.SpectralClustering(n_clusters=c,affinity='precomputed')\n",
    "    labels = spectclust.fit_predict(S_t_rmat)\n",
    "    \n",
    "    \n",
    "#     aggclust = clust.AgglomerativeClustering(n_clusters=c,affinity='cosine',linkage=\"average\")\n",
    "#     aggclust.fit(S_tmat)\n",
    "#     s=sk.metrics.silhouette_score(S_tmat,aggclust.labels_,metric='cosine')\n",
    "    s=sk.metrics.silhouette_score(S_tmat,labels,metric='cosine')\n",
    "    score.append(np.round(100.*s))\n",
    "    print(s*100.)\n",
    "    \n",
    "\n",
    "c = np.argmax(score)+2\n",
    "# aggclust = clust.AgglomerativeClustering(n_clusters=c,affinity='cosine',linkage=\"average\")\n",
    "# aggclust.fit(S_tmat)\n",
    "spectclust = clust.SpectralClustering(n_clusters=c,affinity='precomputed')\n",
    "spectclust.fit(S_t_rmat)"
   ]
  },
  {
   "cell_type": "code",
   "execution_count": null,
   "metadata": {},
   "outputs": [],
   "source": [
    "f,ax= plt.subplots()\n",
    "ax.plot(np.arange(2,10),score)\n",
    "print(c)"
   ]
  },
  {
   "cell_type": "code",
   "execution_count": null,
   "metadata": {},
   "outputs": [],
   "source": [
    "# clustsort = np.argsort(aggclust.labels_)\n",
    "# clustsort = np.argsort(spectclust.labels_)\n",
    "\n",
    "# sort clusters by average morph values \n",
    "clustmean = np.array([effMorph[spectclust.labels_==i].mean() for i in range(c)])\n",
    "clusterOrder = np.argsort(clustmean)\n",
    "labels = np.zeros(effMorph.shape)\n",
    "\n",
    "for i,cl in enumerate(clusterOrder.tolist()):\n",
    "    labels[spectclust.labels_==cl]=i\n",
    "    \n",
    "clustsort = np.argsort(labels)  \n"
   ]
  },
  {
   "cell_type": "code",
   "execution_count": null,
   "metadata": {},
   "outputs": [],
   "source": [
    "import matplotlib.gridspec as gridspec\n",
    "f = plt.figure(figsize=[30,12])\n",
    "gs = gridspec.GridSpec(14,30)\n",
    "x=np.arange(effMorph.size)\n",
    "rmask = trial_info['rewards']==0\n",
    "tnumber = np.arange(x.shape[0])/x.shape[0]\n",
    "vmax = .5\n",
    "# f,ax = plt.subplots(2,3,figsize=[20,10],sharex=True)\n",
    "ax = f.add_subplot(gs[:10,:10])\n",
    "ax.imshow(S_t_rmat,cmap='Greys',vmin=0,vmax=vmax,aspect='auto')\n",
    "ax.set_yticks([])\n",
    "ax.set_xticks([])\n",
    "ax = f.add_subplot(gs[10:12,:10])\n",
    "ax.scatter(x,effMorph,c=effMorph,cmap='cool')\n",
    "ax.set_xlim([0,x.shape[0]])\n",
    "ax.set_yticks([])\n",
    "ax.set_xticks([])\n",
    "ax = f.add_subplot(gs[12:,:10])\n",
    "ax.scatter(x,tnumber,c=tnumber,cmap='viridis')\n",
    "ax.set_xlim([0,x.shape[0]])\n",
    "ax.set_yticks([])\n",
    "# ax[0,0].imshow(S_t_rmat,cmap='Greys',vmin=0,vmax=.5,aspect='auto')\n",
    "S_agg_sort = S_t_rmat[clustsort,:]\n",
    "S_agg_sort = S_agg_sort[:,clustsort]\n",
    "S_rmat_sort = S_t_rmat[msort,:]\n",
    "S_rmat_sort = S_rmat_sort[:,msort]\n",
    "\n",
    "\n",
    "ax = f.add_subplot(gs[:10,10:20])\n",
    "ax.imshow(S_rmat_sort,cmap='Greys',vmin=0,vmax=vmax,aspect='auto')\n",
    "ax.set_yticks([])\n",
    "ax.set_xticks([])\n",
    "ax = f.add_subplot(gs[10:12,10:20])\n",
    "ax.scatter(x,effMorph[msort],c=effMorph[msort],cmap='cool')\n",
    "ax.scatter(x[rmask],effMorph[msort[rmask]],c='black',s=10)\n",
    "ax.set_xlim([0,x.shape[0]])\n",
    "ax.set_yticks([])\n",
    "ax.set_xticks([])\n",
    "ax = f.add_subplot(gs[12:,10:20])\n",
    "ax.scatter(x,tnumber[msort],c=tnumber[msort],cmap='viridis')\n",
    "ax.set_xlim([0,x.shape[0]])\n",
    "ax.set_yticks([])\n",
    "\n",
    "\n",
    "ax = f.add_subplot(gs[:10,20:])\n",
    "ax.imshow(S_agg_sort,cmap='Greys',vmin=0,vmax=vmax,aspect='auto')\n",
    "ax.set_yticks([])\n",
    "ax.set_xticks([])\n",
    "ax = f.add_subplot(gs[10:12,20:])\n",
    "ax.scatter(x,effMorph[clustsort],c=effMorph[clustsort],cmap='cool')\n",
    "ax.set_yticks([])\n",
    "ax.set_xticks([])\n",
    "# tmpeff = np.copy(effMorph[1:])\n",
    "# ax.scatter(x[:-1],tmpeff[clustsort[1:]],c=tmpeff[clustsort[1:]],cmap='cool')\n",
    "ax.scatter(x[rmask],effMorph[clustsort[rmask]],c='black',s=10)\n",
    "ax.set_xlim([0,x.shape[0]])\n",
    "ax = f.add_subplot(gs[12:,20:])\n",
    "ax.scatter(x,tnumber[clustsort],c=tnumber[clustsort],cmap='viridis')\n",
    "ax.set_xlim([0,x.shape[0]])\n",
    "ax.set_yticks([])\n"
   ]
  },
  {
   "cell_type": "code",
   "execution_count": null,
   "metadata": {},
   "outputs": [],
   "source": [
    "lem = sk.manifold.SpectralEmbedding(affinity='precomputed',n_components=3)\n"
   ]
  },
  {
   "cell_type": "code",
   "execution_count": null,
   "metadata": {},
   "outputs": [],
   "source": [
    "X = lem.fit_transform(S_t_rmat)"
   ]
  },
  {
   "cell_type": "code",
   "execution_count": null,
   "metadata": {},
   "outputs": [],
   "source": [
    "# lem = sk.manifold.MDS(dissimilarity='precomputed')\n",
    "# X = lem.fit_transform(1-S_t_rmat)"
   ]
  },
  {
   "cell_type": "code",
   "execution_count": null,
   "metadata": {},
   "outputs": [],
   "source": [
    "from mpl_toolkits.mplot3d import Axes3D\n",
    "fig = plt.figure()\n",
    "ax = fig.add_subplot(111, projection='3d')\n",
    "ax.scatter(X[:,0],X[:,1],X[:,2],c=effMorph,cmap='cool')\n",
    "\n",
    "f,ax = plt.subplots()\n",
    "ax.scatter(X[:,0],X[:,1],c=effMorph,cmap='cool')\n",
    "\n"
   ]
  },
  {
   "cell_type": "code",
   "execution_count": 58,
   "metadata": {},
   "outputs": [],
   "source": [
    "S[np.isnan(S)]=0\n",
    "S_sm = sp.ndimage.filters.gaussian_filter1d(S,10,axis=0)"
   ]
  },
  {
   "cell_type": "code",
   "execution_count": 59,
   "metadata": {},
   "outputs": [],
   "source": [
    "S_sm_n = S_sm/(np.linalg.norm(S_sm,ord=2,axis=1)[:,np.newaxis]+.001)"
   ]
  },
  {
   "cell_type": "code",
   "execution_count": 60,
   "metadata": {},
   "outputs": [
    {
     "name": "stdout",
     "output_type": "stream",
     "text": [
      "(35100, 1888)\n"
     ]
    }
   ],
   "source": [
    "print(S_sm_n.shape)"
   ]
  },
  {
   "cell_type": "code",
   "execution_count": 61,
   "metadata": {},
   "outputs": [],
   "source": [
    "S_cos = np.matmul(S_sm_n,S_sm_n.T)"
   ]
  },
  {
   "cell_type": "code",
   "execution_count": 197,
   "metadata": {},
   "outputs": [
    {
     "name": "stdout",
     "output_type": "stream",
     "text": [
      "(32038, 32038)\n"
     ]
    }
   ],
   "source": [
    "print(S_cos.shape)"
   ]
  },
  {
   "cell_type": "code",
   "execution_count": 198,
   "metadata": {},
   "outputs": [],
   "source": [
    "lem = sk.manifold.SpectralEmbedding(affinity='precomputed',n_components=5)\n",
    "X = lem.fit_transform(S_cos+.0001)\n"
   ]
  },
  {
   "cell_type": "code",
   "execution_count": 199,
   "metadata": {},
   "outputs": [
    {
     "name": "stdout",
     "output_type": "stream",
     "text": [
      "(32038, 5)\n"
     ]
    }
   ],
   "source": [
    "print(X.shape)"
   ]
  },
  {
   "cell_type": "code",
   "execution_count": 219,
   "metadata": {},
   "outputs": [
    {
     "data": {
      "image/png": "[encoded data removed]",
      "text/plain": [
       "<Figure size 432x288 with 2 Axes>"
      ]
     },
     "metadata": {
      "needs_background": "light"
     },
     "output_type": "display_data"
    }
   ],
   "source": [
    "\n",
    "from mpl_toolkits.mplot3d import Axes3D\n",
    "fig = plt.figure()\n",
    "p_ax = fig.add_subplot(121, projection='3d')\n",
    "mask = (VRDat['pos']._values>0) & (VRDat['morph']._values>=0)\n",
    "p_ax.scatter(X[mask,0],X[mask,1],X[mask,2],c=VRDat['pos']._values[mask],cmap='magma')\n",
    "m_ax = fig.add_subplot(122, projection='3d')\n",
    "m_ax.scatter(X[mask,0],X[mask,1],X[mask,2],c=VRDat['morph']._values[mask],s=1,cmap='cool')\n",
    "m_ax.view_init(20,0)\n"
   ]
  },
  {
   "cell_type": "code",
   "execution_count": null,
   "metadata": {},
   "outputs": [],
   "source": []
  },
  {
   "cell_type": "code",
   "execution_count": null,
   "metadata": {},
   "outputs": [],
   "source": []
  }
 ],
 "metadata": {
  "kernelspec": {
   "display_name": "Python 3",
   "language": "python",
   "name": "python3"
  },
  "language_info": {
   "codemirror_mode": {
    "name": "ipython",
    "version": 3
   },
   "file_extension": ".py",
   "mimetype": "text/x-python",
   "name": "python",
   "nbconvert_exporter": "python",
   "pygments_lexer": "ipython3",
   "version": "3.7.3"
  }
 },
 "nbformat": 4,
 "nbformat_minor": 2
}
