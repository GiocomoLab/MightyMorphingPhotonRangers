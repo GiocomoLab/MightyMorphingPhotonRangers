{
 "cells": [
  {
   "cell_type": "code",
   "execution_count": 1,
   "metadata": {},
   "outputs": [],
   "source": [
    "import os\n",
    "os.sys.path.append(\"C:\\\\Users\\mplitt\\MightyMorphingPhotonRangers\")\n",
    "import numpy as np\n",
    "import matplotlib.pyplot as plt\n",
    "import utilities as u\n",
    "import preprocessing as pp\n",
    "import behavior as b\n",
    "import SimilarityMatrixAnalysis as sm\n",
    "import scipy as sp\n",
    "import PlaceCellAnalysis as pc\n",
    "\n",
    "\n",
    "%load_ext autoreload\n",
    "%autoreload 2\n",
    "\n",
    "%matplotlib inline"
   ]
  },
  {
   "cell_type": "code",
   "execution_count": 2,
   "metadata": {},
   "outputs": [
    {
     "name": "stdout",
     "output_type": "stream",
     "text": [
      "G:\\My Drive\\VR_Data\\TwoTower\\behavior.sqlite\n"
     ]
    }
   ],
   "source": [
    "df = pp.load_session_db()\n",
    "\n",
    "\n",
    "df = df[df['RewardCount']>30]\n",
    "df = df[df['Imaging']==1]\n",
    "df = df.sort_values(['MouseName','DateTime','SessionNumber'])\n",
    "tracks = 'TwoTower_noTimeout|TwoTower_Timeout|Reversal_noTimeout|Reversal|TwoTower_foraging'\n",
    "df = df[df['Track'].str.contains(tracks,regex=True)]"
   ]
  },
  {
   "cell_type": "code",
   "execution_count": 3,
   "metadata": {},
   "outputs": [],
   "source": [
    "morph_rare = ['4139265.3','4139265.4','4139265.5']\n",
    "morph_familiar = ['4222153.2','4222154.1','4222153.1']"
   ]
  },
  {
   "cell_type": "code",
   "execution_count": 4,
   "metadata": {},
   "outputs": [],
   "source": [
    "\n",
    "def U_list_maker(mlist):\n",
    "    U_list = []\n",
    "    morphs = np.linspace(0,1,num=11)[1:]\n",
    "    #effMorph_dig = np.digitize(effMorph,morphs,right=True)\n",
    "    for mouse in mlist: #['4139265.3','4139265.4','4139265.5']:\n",
    "        df_mouse = df[df['MouseName'].str.match(mouse)]\n",
    "\n",
    "        for mat_ind,sess_ind in enumerate(np.arange(5,df_mouse.shape[0])):\n",
    "            print(\"session ind\",sess_ind)\n",
    "            sess = df_mouse.iloc[sess_ind]\n",
    "\n",
    "            VRDat, C, S, A = pp.load_scan_sess(sess,fneu_coeff=0.7)\n",
    "            trial_info, tstart_inds, teleport_inds = u.by_trial_info(VRDat)\n",
    "\n",
    "\n",
    "            effMorph = trial_info['morphs'] +  trial_info['wallJitter'] + trial_info['bckgndJitter']\n",
    "            effMorph= (effMorph-np.amin(effMorph))/(np.amax(effMorph)-np.amin(effMorph))\n",
    "            msort = np.argsort(effMorph)\n",
    "            effMorph=effMorph[msort]\n",
    "            effMorph_dig = np.digitize(effMorph,morphs,right=True)\n",
    "            #print(effMorph_dig)\n",
    "            S_trial_mat, occ_trial_mat, edges,centers = u.make_pos_bin_trial_matrices(S,VRDat['pos']._values,VRDat['tstart']._values,VRDat['teleport']._values,bin_size=10)\n",
    "            S_trial_mat=S_trial_mat[msort,:,:]\n",
    "            S_tm = S_trial_mat.reshape([S_trial_mat.shape[0],-1])\n",
    "            #S_tm = sp.stats.zscore(S_tm,axis=1)\n",
    "            S_tm/=np.linalg.norm(S_tm,ord=2,axis=1)[:,np.newaxis]\n",
    "            SM=np.matmul(S_tm,S_tm.T)\n",
    "            SM[np.diag_indices(S_tm.shape[0])]=np.nan\n",
    "\n",
    "            U_tmp = np.zeros([morphs.shape[0],morphs.shape[0]])\n",
    "\n",
    "            for row,morph_r in enumerate(range(np.amax(effMorph_dig)+1)):\n",
    "                for col, morph_c in enumerate(range(np.amax(effMorph_dig)+1)):\n",
    "                    mask = np.matmul((effMorph_dig==morph_r).reshape([-1,1]),(effMorph_dig==morph_c).reshape([1,-1]))\n",
    "\n",
    "                    U_tmp[row,col] = np.nanmean( SM[mask].ravel())\n",
    "\n",
    "            if mat_ind == 0:\n",
    "\n",
    "                U = np.zeros([U_tmp.shape[0],U_tmp.shape[1],df_mouse.shape[0]-5])\n",
    "\n",
    "            U[:,:,mat_ind]=U_tmp\n",
    "\n",
    "\n",
    "        U_list.append(U)\n",
    "        \n",
    "    return U_list"
   ]
  },
  {
   "cell_type": "code",
   "execution_count": 5,
   "metadata": {},
   "outputs": [
    {
     "name": "stdout",
     "output_type": "stream",
     "text": [
      "session ind 5\n",
      "num aberrant ttls 0.0\n",
      "35085 (35085,) (35085, 21) 115307\n"
     ]
    },
    {
     "name": "stderr",
     "output_type": "stream",
     "text": [
      "C:\\Users\\mplitt\\Anaconda3\\lib\\site-packages\\pandas\\core\\frame.py:4034: SettingWithCopyWarning: \n",
      "A value is trying to be set on a copy of a slice from a DataFrame\n",
      "\n",
      "See the caveats in the documentation: http://pandas.pydata.org/pandas-docs/stable/indexing.html#indexing-view-versus-copy\n",
      "  downcast=downcast, **kwargs)\n"
     ]
    },
    {
     "name": "stdout",
     "output_type": "stream",
     "text": [
      "frame diff 0\n",
      "session ind 6\n",
      "num aberrant ttls 0.0\n",
      "33140 (33140,) (33140, 21) 109003\n",
      "frame diff 0\n",
      "session ind 7\n",
      "num aberrant ttls 0.0\n",
      "38209 (38209,) (38209, 21) 126969\n",
      "frame diff 0\n",
      "session ind 8\n",
      "num aberrant ttls 0.0\n",
      "33547 (33547,) (33547, 21) 110218\n",
      "frame diff 0\n",
      "session ind 9\n",
      "num aberrant ttls 0.0\n",
      "32038 (32038,) (32038, 21) 105022\n",
      "frame diff 0\n",
      "session ind 5\n",
      "num aberrant ttls 0.0\n",
      "30897 (30897,) (30897, 21) 102093\n",
      "frame diff 0\n",
      "session ind 6\n",
      "num aberrant ttls 0.0\n",
      "29023 (29023,) (29023, 21) 95160\n",
      "frame diff 0\n",
      "session ind 7\n",
      "num aberrant ttls 0.0\n",
      "31116 (31116,) (31116, 21) 102131\n",
      "frame diff 0\n",
      "session ind 8\n",
      "num aberrant ttls 0.0\n",
      "31932 (31932,) (31932, 21) 105228\n",
      "frame diff 0\n",
      "session ind 9\n",
      "num aberrant ttls 0.0\n",
      "30493 (30493,) (30493, 21) 100982\n",
      "frame diff 0\n",
      "session ind 10\n",
      "num aberrant ttls 0.0\n",
      "32084 (32084,) (32084, 21) 105601\n",
      "frame diff 0\n",
      "session ind 5\n",
      "num aberrant ttls 0.0\n",
      "34737 (34737,) (34737, 21) 113863\n",
      "frame diff 0\n",
      "session ind 6\n",
      "num aberrant ttls 0.0\n",
      "36018 (36018,) (36018, 21) 118606\n",
      "frame diff 0\n",
      "session ind 7\n",
      "num aberrant ttls 0.0\n",
      "40272 (40272,) (40272, 21) 133982\n",
      "frame diff 0\n",
      "session ind 8\n",
      "num aberrant ttls 0.0\n",
      "36659 (36659,) (36659, 21) 120387\n",
      "frame diff 0\n",
      "session ind 9\n",
      "num aberrant ttls 0.0\n",
      "36583 (36583,) (36583, 21) 124384\n",
      "frame diff 0\n",
      "session ind 5\n",
      "num aberrant ttls 0.0\n",
      "33545 (33545,) (33545, 21) 121243\n",
      "frame diff 0\n",
      "session ind 6\n",
      "num aberrant ttls 0.0\n",
      "38697 (38697,) (38697, 21) 129389\n",
      "frame diff 0\n",
      "session ind 7\n",
      "num aberrant ttls 0.0\n",
      "37344 (37344,) (37344, 21) 121463\n",
      "frame diff 0\n",
      "session ind 5\n",
      "num aberrant ttls 0.0\n",
      "28890 (28890,) (28890, 21) 94524\n",
      "frame diff 0\n",
      "session ind 6\n",
      "num aberrant ttls 0.0\n",
      "31805 (31805,) (31805, 21) 105737\n",
      "frame diff 0\n",
      "session ind 7\n",
      "num aberrant ttls 0.0\n",
      "33473 (33473,) (33473, 21) 110483\n",
      "frame diff 0\n",
      "session ind 8\n",
      "num aberrant ttls 0.0\n",
      "34639 (34639,) (34639, 21) 115107\n",
      "frame diff 0\n",
      "session ind 5\n",
      "num aberrant ttls 0.0\n",
      "33778 (33778,) (33778, 21) 111444\n",
      "frame diff 0\n",
      "session ind 6\n",
      "num aberrant ttls 0.0\n",
      "35977 (35977,) (35977, 21) 118959\n",
      "frame diff 0\n"
     ]
    }
   ],
   "source": [
    "U_rare = U_list_maker(morph_rare)\n",
    "U_fam = U_list_maker(morph_familiar)"
   ]
  },
  {
   "cell_type": "code",
   "execution_count": 8,
   "metadata": {},
   "outputs": [
    {
     "data": {
      "image/png": "[encoded data removed]",
      "text/plain": [
       "<Figure size 432x288 with 1 Axes>"
      ]
     },
     "metadata": {
      "needs_background": "light"
     },
     "output_type": "display_data"
    },
    {
     "data": {
      "image/png": "[encoded data removed]",
      "text/plain": [
       "<Figure size 432x288 with 1 Axes>"
      ]
     },
     "metadata": {
      "needs_background": "light"
     },
     "output_type": "display_data"
    }
   ],
   "source": [
    "\n",
    "def U_mean_mat(U_list):\n",
    "    U_mean = np.zeros(U_list[0].shape[:-1])\n",
    "    for mouse in range(len(U_list)):\n",
    "        U_tmp = U_list[mouse]\n",
    "        U_tmp/=np.amax(U_tmp)\n",
    "        U_mean+=U_tmp.mean(axis=-1)\n",
    "        #U_mean+=U_list[mouse].mean(axis=-1)\n",
    "    U_mean/=mouse\n",
    "    f_U,ax_U = plt.subplots()\n",
    "    ax_U.imshow(U_mean,cmap='Greys')\n",
    "# f_U.savefig(\"G:\\\\My Drive\\\\LabEvening_2019\\\\MorphSimMat_mean_MorphNaive.pdf\",format='pdf')\n",
    "\n",
    "U_mean_mat(U_rare)\n",
    "U_mean_mat(U_fam)"
   ]
  },
  {
   "cell_type": "code",
   "execution_count": 215,
   "metadata": {},
   "outputs": [
    {
     "data": {
      "image/png": "[encoded data removed]",
      "text/plain": [
       "<Figure size 288x720 with 2 Axes>"
      ]
     },
     "metadata": {
      "needs_background": "light"
     },
     "output_type": "display_data"
    }
   ],
   "source": [
    "def U_mouse_plots(U_list)\n",
    "f,ax = plt.subplots(2,2,figsize=[8,10])\n",
    "#morphs = np.array([0,.25,.5,.75,1])\n",
    "for mouse in range(len(U_list)):\n",
    "    color = mouse/np.float(len(U_list))\n",
    "    U_tmp = U_list[mouse]\n",
    "    U_mean = U_tmp.mean(axis=-1)\n",
    "    U_sem = sp.stats.sem(U_tmp,axis=-1)\n",
    "    \n",
    "#     ax.plot(morphs,U_mean[0,:])\n",
    "\n",
    "    for ind,m in enumerate([0,-1]): #range(morphs.shape[0]):\n",
    "#         mask = np.ones(morphs.shape)\n",
    "#         mask[m]=0\n",
    "#         mask = mask>0\n",
    "        ax[ind].fill_between(morphs,U_mean[m,:]+U_sem[m,:],y2=U_mean[m,:]-U_sem[m,:],color=plt.cm.copper(color),alpha=.5)\n",
    "        ax[ind].set_ylim([0,.3])\n",
    "        ax[ind].set_xlim([0,1])"
   ]
  },
  {
   "cell_type": "code",
   "execution_count": null,
   "metadata": {},
   "outputs": [],
   "source": []
  }
 ],
 "metadata": {
  "kernelspec": {
   "display_name": "Python 3",
   "language": "python",
   "name": "python3"
  },
  "language_info": {
   "codemirror_mode": {
    "name": "ipython",
    "version": 3
   },
   "file_extension": ".py",
   "mimetype": "text/x-python",
   "name": "python",
   "nbconvert_exporter": "python",
   "pygments_lexer": "ipython3",
   "version": "3.7.3"
  }
 },
 "nbformat": 4,
 "nbformat_minor": 2
}
