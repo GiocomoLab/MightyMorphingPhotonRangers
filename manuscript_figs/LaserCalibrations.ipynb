{
 "cells": [
  {
   "cell_type": "code",
   "execution_count": 14,
   "metadata": {},
   "outputs": [],
   "source": [
    "import os\n",
    "os.sys.path.append(\"C:\\\\Users\\mplitt\\MightyMorphingPhotonRangers\")\n",
    "import numpy as np\n",
    "import matplotlib.pyplot as plt\n",
    "import utilities as u\n",
    "import preprocessing as pp\n",
    "import behavior as b\n",
    "import SimilarityMatrixAnalysis as sm\n",
    "import scipy as sp\n",
    "import PlaceCellAnalysis as pc\n",
    "import matplotlib.gridspec as gridspec\n",
    "\n",
    "\n",
    "\n",
    "from scipy.interpolate import interp1d as spline\n",
    "\n",
    "%load_ext autoreload\n",
    "%autoreload 2\n",
    "\n",
    "%matplotlib inline"
   ]
  },
  {
   "cell_type": "code",
   "execution_count": 15,
   "metadata": {},
   "outputs": [],
   "source": [
    "pockels = [0, 10 ,20, 30, 40, 50, 60, 70, 80, 90, 100]\n",
    "mw = [4, 13.7, 28, 42.5, 57, 73, 88, 103, 119, 136, 154]\n",
    "mw_v_pockels = spline(pockels,mw)"
   ]
  },
  {
   "cell_type": "code",
   "execution_count": 16,
   "metadata": {},
   "outputs": [
    {
     "data": {
      "text/plain": [
       "[<matplotlib.lines.Line2D at 0x1a5c043d7b8>]"
      ]
     },
     "execution_count": 16,
     "metadata": {},
     "output_type": "execute_result"
    },
    {
     "data": {
      "image/png": "[encoded data removed]",
      "text/plain": [
       "<Figure size 432x288 with 1 Axes>"
      ]
     },
     "metadata": {
      "needs_background": "light"
     },
     "output_type": "display_data"
    }
   ],
   "source": [
    "f,ax = plt.subplots()\n",
    "ax.scatter(pockels,mw)\n",
    "x = np.linspace(0,100)\n",
    "ax.plot(x,mw_v_pockels(x))"
   ]
  },
  {
   "cell_type": "code",
   "execution_count": 17,
   "metadata": {},
   "outputs": [],
   "source": [
    "rare = ['4139265.3','4139265.4','4139265.5','4222168.1']\n",
    "frequent = ['4222153.1', '4222153.2','4222153.3','4222174.1','4222154.1']\n",
    "fd = ['4222157.4','4222169.1','4222169.2','4222169.4']"
   ]
  },
  {
   "cell_type": "code",
   "execution_count": 18,
   "metadata": {},
   "outputs": [
    {
     "name": "stdout",
     "output_type": "stream",
     "text": [
      "G:\\My Drive\\VR_Data\\TwoTower\\behavior.sqlite\n",
      "G:\\My Drive\\VR_Data\\TwoTower\\4222174.0\\30_05_2019\\RuningTraining_1.sqlite\n",
      "file doesn't exist, errors to come!!!\n",
      "G:\\My Drive\\VR_Data\\TwoTower\\4222168.1\\09_08_2019\\RuningTraining_1.sqlite\n",
      "file doesn't exist, errors to come!!!\n",
      "G:\\My Drive\\VR_Data\\TwoTower\\4222169.2\\26_08_2019\\TwoTower_Timeout_0.sqlite\n",
      "file doesn't exist, errors to come!!!\n"
     ]
    }
   ],
   "source": [
    "df = pp.load_session_db()\n",
    "\n",
    "\n",
    "df = df[df['RewardCount']>30]\n",
    "df = df[df['Imaging']==1]\n",
    "df = df.sort_values(['MouseName','DateTime','SessionNumber'])\n",
    "# tracks = 'TwoTower_noTimeout|TwoTower_Timeout|Reversal_noTimeout|Reversal|TwoTower_foraging|FreqMorph_Decision|FreqMorph_Timeout'\n",
    "tracks = 'TwoTower_foraging' #|FreqMorph_Decision|FreqMorph_Timeout|TwoTower_noTimeout|TwoTower_Timeout'\n",
    "df = df[df['Track'].str.contains(tracks,regex=True)]\n",
    "regions = 'CA2|CA3|DG'\n",
    "df = df[~df['ImagingRegion'].str.contains(regions,regex=True)]"
   ]
  },
  {
   "cell_type": "code",
   "execution_count": 27,
   "metadata": {},
   "outputs": [
    {
     "data": {
      "text/html": [
       "<div>\n",
       "<style scoped>\n",
       "    .dataframe tbody tr th:only-of-type {\n",
       "        vertical-align: middle;\n",
       "    }\n",
       "\n",
       "    .dataframe tbody tr th {\n",
       "        vertical-align: top;\n",
       "    }\n",
       "\n",
       "    .dataframe thead th {\n",
       "        text-align: right;\n",
       "    }\n",
       "</style>\n",
       "<table border=\"1\" class=\"dataframe\">\n",
       "  <thead>\n",
       "    <tr style=\"text-align: right;\">\n",
       "      <th></th>\n",
       "      <th>MouseName</th>\n",
       "      <th>DateFolder</th>\n",
       "      <th>SessionNumber</th>\n",
       "      <th>Track</th>\n",
       "      <th>RewardCount</th>\n",
       "      <th>Imaging</th>\n",
       "      <th>ImagingRegion</th>\n",
       "      <th>DateTime</th>\n",
       "      <th>data file</th>\n",
       "      <th>scanfile</th>\n",
       "      <th>scanmat</th>\n",
       "      <th>s2pfolder</th>\n",
       "    </tr>\n",
       "  </thead>\n",
       "  <tbody>\n",
       "    <tr>\n",
       "      <th>1727</th>\n",
       "      <td>4222153.2</td>\n",
       "      <td>08_04_2019</td>\n",
       "      <td>1</td>\n",
       "      <td>TwoTower_foraging</td>\n",
       "      <td>86</td>\n",
       "      <td>1</td>\n",
       "      <td>CA1</td>\n",
       "      <td>2019-04-08</td>\n",
       "      <td>G:\\My Drive\\VR_Data\\TwoTower\\4222153.2\\08_04_2...</td>\n",
       "      <td>None</td>\n",
       "      <td>G:\\My Drive\\2P_Data\\TwoTower\\4222153.2\\08_04_2...</td>\n",
       "      <td>G:\\My Drive\\2P_Data\\TwoTower\\4222153.2\\08_04_2...</td>\n",
       "    </tr>\n",
       "    <tr>\n",
       "      <th>1751</th>\n",
       "      <td>4222153.2</td>\n",
       "      <td>10_04_2019</td>\n",
       "      <td>3</td>\n",
       "      <td>TwoTower_foraging</td>\n",
       "      <td>80</td>\n",
       "      <td>1</td>\n",
       "      <td>CA1</td>\n",
       "      <td>2019-04-10</td>\n",
       "      <td>G:\\My Drive\\VR_Data\\TwoTower\\4222153.2\\10_04_2...</td>\n",
       "      <td>None</td>\n",
       "      <td>G:\\My Drive\\2P_Data\\TwoTower\\4222153.2\\10_04_2...</td>\n",
       "      <td>G:\\My Drive\\2P_Data\\TwoTower\\4222153.2\\10_04_2...</td>\n",
       "    </tr>\n",
       "    <tr>\n",
       "      <th>1771</th>\n",
       "      <td>4222153.2</td>\n",
       "      <td>12_04_2019</td>\n",
       "      <td>2</td>\n",
       "      <td>TwoTower_foraging</td>\n",
       "      <td>86</td>\n",
       "      <td>1</td>\n",
       "      <td>CA1</td>\n",
       "      <td>2019-04-12</td>\n",
       "      <td>G:\\My Drive\\VR_Data\\TwoTower\\4222153.2\\12_04_2...</td>\n",
       "      <td>None</td>\n",
       "      <td>G:\\My Drive\\2P_Data\\TwoTower\\4222153.2\\12_04_2...</td>\n",
       "      <td>G:\\My Drive\\2P_Data\\TwoTower\\4222153.2\\12_04_2...</td>\n",
       "    </tr>\n",
       "    <tr>\n",
       "      <th>1788</th>\n",
       "      <td>4222153.2</td>\n",
       "      <td>14_04_2019</td>\n",
       "      <td>2</td>\n",
       "      <td>TwoTower_foraging</td>\n",
       "      <td>96</td>\n",
       "      <td>1</td>\n",
       "      <td>CA1</td>\n",
       "      <td>2019-04-14</td>\n",
       "      <td>G:\\My Drive\\VR_Data\\TwoTower\\4222153.2\\14_04_2...</td>\n",
       "      <td>None</td>\n",
       "      <td>G:\\My Drive\\2P_Data\\TwoTower\\4222153.2\\14_04_2...</td>\n",
       "      <td>G:\\My Drive\\2P_Data\\TwoTower\\4222153.2\\14_04_2...</td>\n",
       "    </tr>\n",
       "    <tr>\n",
       "      <th>1800</th>\n",
       "      <td>4222153.2</td>\n",
       "      <td>15_04_2019</td>\n",
       "      <td>2</td>\n",
       "      <td>TwoTower_foraging</td>\n",
       "      <td>103</td>\n",
       "      <td>1</td>\n",
       "      <td>CA1</td>\n",
       "      <td>2019-04-15</td>\n",
       "      <td>G:\\My Drive\\VR_Data\\TwoTower\\4222153.2\\15_04_2...</td>\n",
       "      <td>None</td>\n",
       "      <td>G:\\My Drive\\2P_Data\\TwoTower\\4222153.2\\15_04_2...</td>\n",
       "      <td>G:\\My Drive\\2P_Data\\TwoTower\\4222153.2\\15_04_2...</td>\n",
       "    </tr>\n",
       "    <tr>\n",
       "      <th>1816</th>\n",
       "      <td>4222153.2</td>\n",
       "      <td>16_04_2019</td>\n",
       "      <td>2</td>\n",
       "      <td>TwoTower_foraging</td>\n",
       "      <td>98</td>\n",
       "      <td>1</td>\n",
       "      <td>CA1</td>\n",
       "      <td>2019-04-16</td>\n",
       "      <td>G:\\My Drive\\VR_Data\\TwoTower\\4222153.2\\16_04_2...</td>\n",
       "      <td>None</td>\n",
       "      <td>G:\\My Drive\\2P_Data\\TwoTower\\4222153.2\\16_04_2...</td>\n",
       "      <td>G:\\My Drive\\2P_Data\\TwoTower\\4222153.2\\16_04_2...</td>\n",
       "    </tr>\n",
       "    <tr>\n",
       "      <th>1825</th>\n",
       "      <td>4222153.2</td>\n",
       "      <td>17_04_2019</td>\n",
       "      <td>2</td>\n",
       "      <td>TwoTower_foraging</td>\n",
       "      <td>77</td>\n",
       "      <td>1</td>\n",
       "      <td>CA1</td>\n",
       "      <td>2019-04-17</td>\n",
       "      <td>G:\\My Drive\\VR_Data\\TwoTower\\4222153.2\\17_04_2...</td>\n",
       "      <td>None</td>\n",
       "      <td>G:\\My Drive\\2P_Data\\TwoTower\\4222153.2\\17_04_2...</td>\n",
       "      <td>G:\\My Drive\\2P_Data\\TwoTower\\4222153.2\\17_04_2...</td>\n",
       "    </tr>\n",
       "    <tr>\n",
       "      <th>1833</th>\n",
       "      <td>4222153.2</td>\n",
       "      <td>18_04_2019</td>\n",
       "      <td>3</td>\n",
       "      <td>TwoTower_foraging</td>\n",
       "      <td>70</td>\n",
       "      <td>1</td>\n",
       "      <td>CA1</td>\n",
       "      <td>2019-04-18</td>\n",
       "      <td>G:\\My Drive\\VR_Data\\TwoTower\\4222153.2\\18_04_2...</td>\n",
       "      <td>None</td>\n",
       "      <td>G:\\My Drive\\2P_Data\\TwoTower\\4222153.2\\18_04_2...</td>\n",
       "      <td>G:\\My Drive\\2P_Data\\TwoTower\\4222153.2\\18_04_2...</td>\n",
       "    </tr>\n",
       "  </tbody>\n",
       "</table>\n",
       "</div>"
      ],
      "text/plain": [
       "      MouseName  DateFolder  SessionNumber              Track  RewardCount  \\\n",
       "1727  4222153.2  08_04_2019              1  TwoTower_foraging           86   \n",
       "1751  4222153.2  10_04_2019              3  TwoTower_foraging           80   \n",
       "1771  4222153.2  12_04_2019              2  TwoTower_foraging           86   \n",
       "1788  4222153.2  14_04_2019              2  TwoTower_foraging           96   \n",
       "1800  4222153.2  15_04_2019              2  TwoTower_foraging          103   \n",
       "1816  4222153.2  16_04_2019              2  TwoTower_foraging           98   \n",
       "1825  4222153.2  17_04_2019              2  TwoTower_foraging           77   \n",
       "1833  4222153.2  18_04_2019              3  TwoTower_foraging           70   \n",
       "\n",
       "      Imaging ImagingRegion   DateTime  \\\n",
       "1727        1           CA1 2019-04-08   \n",
       "1751        1           CA1 2019-04-10   \n",
       "1771        1           CA1 2019-04-12   \n",
       "1788        1           CA1 2019-04-14   \n",
       "1800        1           CA1 2019-04-15   \n",
       "1816        1           CA1 2019-04-16   \n",
       "1825        1           CA1 2019-04-17   \n",
       "1833        1           CA1 2019-04-18   \n",
       "\n",
       "                                              data file scanfile  \\\n",
       "1727  G:\\My Drive\\VR_Data\\TwoTower\\4222153.2\\08_04_2...     None   \n",
       "1751  G:\\My Drive\\VR_Data\\TwoTower\\4222153.2\\10_04_2...     None   \n",
       "1771  G:\\My Drive\\VR_Data\\TwoTower\\4222153.2\\12_04_2...     None   \n",
       "1788  G:\\My Drive\\VR_Data\\TwoTower\\4222153.2\\14_04_2...     None   \n",
       "1800  G:\\My Drive\\VR_Data\\TwoTower\\4222153.2\\15_04_2...     None   \n",
       "1816  G:\\My Drive\\VR_Data\\TwoTower\\4222153.2\\16_04_2...     None   \n",
       "1825  G:\\My Drive\\VR_Data\\TwoTower\\4222153.2\\17_04_2...     None   \n",
       "1833  G:\\My Drive\\VR_Data\\TwoTower\\4222153.2\\18_04_2...     None   \n",
       "\n",
       "                                                scanmat  \\\n",
       "1727  G:\\My Drive\\2P_Data\\TwoTower\\4222153.2\\08_04_2...   \n",
       "1751  G:\\My Drive\\2P_Data\\TwoTower\\4222153.2\\10_04_2...   \n",
       "1771  G:\\My Drive\\2P_Data\\TwoTower\\4222153.2\\12_04_2...   \n",
       "1788  G:\\My Drive\\2P_Data\\TwoTower\\4222153.2\\14_04_2...   \n",
       "1800  G:\\My Drive\\2P_Data\\TwoTower\\4222153.2\\15_04_2...   \n",
       "1816  G:\\My Drive\\2P_Data\\TwoTower\\4222153.2\\16_04_2...   \n",
       "1825  G:\\My Drive\\2P_Data\\TwoTower\\4222153.2\\17_04_2...   \n",
       "1833  G:\\My Drive\\2P_Data\\TwoTower\\4222153.2\\18_04_2...   \n",
       "\n",
       "                                              s2pfolder  \n",
       "1727  G:\\My Drive\\2P_Data\\TwoTower\\4222153.2\\08_04_2...  \n",
       "1751  G:\\My Drive\\2P_Data\\TwoTower\\4222153.2\\10_04_2...  \n",
       "1771  G:\\My Drive\\2P_Data\\TwoTower\\4222153.2\\12_04_2...  \n",
       "1788  G:\\My Drive\\2P_Data\\TwoTower\\4222153.2\\14_04_2...  \n",
       "1800  G:\\My Drive\\2P_Data\\TwoTower\\4222153.2\\15_04_2...  \n",
       "1816  G:\\My Drive\\2P_Data\\TwoTower\\4222153.2\\16_04_2...  \n",
       "1825  G:\\My Drive\\2P_Data\\TwoTower\\4222153.2\\17_04_2...  \n",
       "1833  G:\\My Drive\\2P_Data\\TwoTower\\4222153.2\\18_04_2...  "
      ]
     },
     "execution_count": 27,
     "metadata": {},
     "output_type": "execute_result"
    }
   ],
   "source": [
    "mouse = '4222153.2'\n",
    "df_mouse = df[df['MouseName'].str.match(mouse)]\n",
    "df_mouse"
   ]
  },
  {
   "cell_type": "code",
   "execution_count": 28,
   "metadata": {},
   "outputs": [],
   "source": [
    "sess = df_mouse.iloc[-1]"
   ]
  },
  {
   "cell_type": "code",
   "execution_count": 29,
   "metadata": {},
   "outputs": [
    {
     "name": "stdout",
     "output_type": "stream",
     "text": [
      "G:\\My Drive\\2P_Data\\TwoTower\\4222153.2\\18_04_2019\\TwoTower_foraging\\TwoTower_foraging_003_003.mat\n"
     ]
    }
   ],
   "source": [
    "print(sess.scanmat)"
   ]
  },
  {
   "cell_type": "code",
   "execution_count": 30,
   "metadata": {},
   "outputs": [],
   "source": [
    "info = pp.loadmat_sbx(sess.scanmat)"
   ]
  },
  {
   "cell_type": "code",
   "execution_count": 31,
   "metadata": {},
   "outputs": [
    {
     "name": "stdout",
     "output_type": "stream",
     "text": [
      "dict_keys(['frame', 'line', 'event_id', 'resfreq', 'postTriggerSamples', 'recordsPerBuffer', 'bytesPerBuffer', 'channels', 'ballmotion', 'abort_bit', 'scanbox_version', 'scanmode', 'config', 'sz', 'otwave', 'otwave_um', 'otparam', 'otwavestyle', 'volscan', 'power_depth_link', 'opto2pow', 'area_line', 'calibration', 'objective', 'messages', 'usernotes', 'nChan', 'max_idx', 'fr'])\n"
     ]
    }
   ],
   "source": [
    "print(info.keys())"
   ]
  },
  {
   "cell_type": "code",
   "execution_count": 32,
   "metadata": {},
   "outputs": [
    {
     "name": "stdout",
     "output_type": "stream",
     "text": [
      "frame [  133   133   133 ... 37341 37342 37344]\n",
      "line [117 247 376 ... 370 508 160]\n",
      "event_id [1 1 1 ... 1 1 1]\n",
      "resfreq 7916\n",
      "postTriggerSamples 5000\n",
      "recordsPerBuffer 512\n",
      "bytesPerBuffer 10240000\n",
      "channels 2\n",
      "ballmotion []\n",
      "abort_bit 0\n",
      "scanbox_version 2\n",
      "scanmode 1\n",
      "config {'wavelength': 920, 'frames': 0, 'lines': 512, 'magnification': 1, 'magnification_list': array(['1.0', '1.2', '1.4', '1.7', '2.0', '2.4', '2.8', '3.4', '4.0',\n",
      "       '4.8', '5.7', '6.7', '8.0'], dtype='<U3'), 'pmt0_gain': 0.8, 'pmt1_gain': 0, 'knobby': {'pos': {'x': 330.67, 'y': -38.17, 'z': -1752.34, 'a': 15}, 'schedule': array([[  0,   0,  10,   0,  30],\n",
      "       [  0,   0,  10,   0,  60],\n",
      "       [  0,   0,  10,   0,  90],\n",
      "       [  0,   0,  10,   0, 120],\n",
      "       [  0,   0,  10,   0, 150],\n",
      "       [  0,   0,  10,   0, 180]], dtype=uint8)}}\n",
      "sz [512 796]\n",
      "otwave []\n",
      "otwave_um []\n",
      "otparam []\n",
      "otwavestyle 1\n",
      "volscan 0\n",
      "power_depth_link 0\n",
      "opto2pow []\n",
      "area_line 1\n",
      "calibration [<scipy.io.matlab.mio5_params.mat_struct object at 0x000001A5C1DEA828>\n",
      " <scipy.io.matlab.mio5_params.mat_struct object at 0x000001A5C1DEA898>\n",
      " <scipy.io.matlab.mio5_params.mat_struct object at 0x000001A5C1DEA8D0>\n",
      " <scipy.io.matlab.mio5_params.mat_struct object at 0x000001A5C1DEA908>\n",
      " <scipy.io.matlab.mio5_params.mat_struct object at 0x000001A5C1DEA940>\n",
      " <scipy.io.matlab.mio5_params.mat_struct object at 0x000001A5C1DEA978>\n",
      " <scipy.io.matlab.mio5_params.mat_struct object at 0x000001A5C1DEA9B0>\n",
      " <scipy.io.matlab.mio5_params.mat_struct object at 0x000001A5C1DEA9E8>\n",
      " <scipy.io.matlab.mio5_params.mat_struct object at 0x000001A5C1DEAA20>\n",
      " <scipy.io.matlab.mio5_params.mat_struct object at 0x000001A5C1DEAA58>\n",
      " <scipy.io.matlab.mio5_params.mat_struct object at 0x000001A5C1DEAA90>\n",
      " <scipy.io.matlab.mio5_params.mat_struct object at 0x000001A5C1DEAAC8>\n",
      " <scipy.io.matlab.mio5_params.mat_struct object at 0x000001A5C1DEAB00>]\n",
      "objective Nikon 16x/0.8w/WD3.0\n",
      "messages []\n",
      "usernotes []\n",
      "nChan 1\n",
      "max_idx 37344\n",
      "fr 15.4609375\n"
     ]
    }
   ],
   "source": [
    "for k,v in info.items():\n",
    "    print(k,v)"
   ]
  },
  {
   "cell_type": "code",
   "execution_count": 33,
   "metadata": {},
   "outputs": [
    {
     "data": {
      "text/plain": [
       "114.0"
      ]
     },
     "execution_count": 33,
     "metadata": {},
     "output_type": "execute_result"
    }
   ],
   "source": [
    "150*.76\n"
   ]
  },
  {
   "cell_type": "code",
   "execution_count": 35,
   "metadata": {},
   "outputs": [
    {
     "name": "stdout",
     "output_type": "stream",
     "text": [
      "23.33076923076923\n",
      "18.6 29.3\n"
     ]
    }
   ],
   "source": [
    "weights = np.array([24.1, 23, 22.9, 21.4, 28.8, 29.3, 28.0, 23.1, 22.3, 18.7, 21.7, 21.4, 18.6])\n",
    "print(weights.mean())\n",
    "print(np.amin(weights),np.amax(weights))"
   ]
  },
  {
   "cell_type": "code",
   "execution_count": 36,
   "metadata": {},
   "outputs": [
    {
     "data": {
      "text/plain": [
       "5.533333333333333"
      ]
     },
     "execution_count": 36,
     "metadata": {},
     "output_type": "execute_result"
    }
   ],
   "source": [
    "166/30\n"
   ]
  },
  {
   "cell_type": "code",
   "execution_count": 39,
   "metadata": {},
   "outputs": [
    {
     "data": {
      "text/plain": [
       "0.085"
      ]
     },
     "execution_count": 39,
     "metadata": {},
     "output_type": "execute_result"
    }
   ],
   "source": [
    ".17*10/20."
   ]
  },
  {
   "cell_type": "code",
   "execution_count": 41,
   "metadata": {},
   "outputs": [
    {
     "name": "stdout",
     "output_type": "stream",
     "text": [
      "[0.1875  0.34375 0.5     0.65625 0.8125 ]\n"
     ]
    }
   ],
   "source": [
    "print((np.array([0,.25,.5,.75,1])+.3)/1.6)"
   ]
  },
  {
   "cell_type": "code",
   "execution_count": 42,
   "metadata": {},
   "outputs": [
    {
     "data": {
      "text/plain": [
       "0.0625"
      ]
     },
     "execution_count": 42,
     "metadata": {},
     "output_type": "execute_result"
    }
   ],
   "source": [
    ".1/1.6"
   ]
  },
  {
   "cell_type": "code",
   "execution_count": 47,
   "metadata": {},
   "outputs": [
    {
     "data": {
      "text/plain": [
       "0.3125"
      ]
     },
     "execution_count": 47,
     "metadata": {},
     "output_type": "execute_result"
    }
   ],
   "source": [
    ".1875+.0625*2"
   ]
  },
  {
   "cell_type": "code",
   "execution_count": 45,
   "metadata": {},
   "outputs": [
    {
     "data": {
      "text/plain": [
       "0.15625"
      ]
     },
     "execution_count": 45,
     "metadata": {},
     "output_type": "execute_result"
    }
   ],
   "source": [
    ".34375-.0625*3"
   ]
  },
  {
   "cell_type": "code",
   "execution_count": 48,
   "metadata": {},
   "outputs": [
    {
     "data": {
      "text/plain": [
       "0.6875"
      ]
     },
     "execution_count": 48,
     "metadata": {},
     "output_type": "execute_result"
    }
   ],
   "source": [
    ".8125-.0625*2"
   ]
  },
  {
   "cell_type": "code",
   "execution_count": 49,
   "metadata": {},
   "outputs": [
    {
     "data": {
      "text/plain": [
       "0.020000000000000073"
      ]
     },
     "execution_count": 49,
     "metadata": {},
     "output_type": "execute_result"
    }
   ],
   "source": [
    ".2*1.6-.3"
   ]
  },
  {
   "cell_type": "code",
   "execution_count": null,
   "metadata": {},
   "outputs": [],
   "source": []
  }
 ],
 "metadata": {
  "kernelspec": {
   "display_name": "Python 3",
   "language": "python",
   "name": "python3"
  },
  "language_info": {
   "codemirror_mode": {
    "name": "ipython",
    "version": 3
   },
   "file_extension": ".py",
   "mimetype": "text/x-python",
   "name": "python",
   "nbconvert_exporter": "python",
   "pygments_lexer": "ipython3",
   "version": "3.7.3"
  }
 },
 "nbformat": 4,
 "nbformat_minor": 2
}
