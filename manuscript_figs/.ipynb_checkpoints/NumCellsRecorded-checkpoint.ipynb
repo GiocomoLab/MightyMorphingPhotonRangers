{
 "cells": [
  {
   "cell_type": "code",
   "execution_count": 1,
   "metadata": {},
   "outputs": [],
   "source": [
    "#import shit"
   ]
  },
  {
   "cell_type": "code",
   "execution_count": null,
   "metadata": {},
   "outputs": [],
   "source": [
    "# load session data frame"
   ]
  },
  {
   "cell_type": "code",
   "execution_count": 2,
   "metadata": {},
   "outputs": [],
   "source": [
    "morph_rare = ['4139265.3','4139265.4','4139265.5']\n",
    "morph_familiar = ['4222153.1','4222153.2','4222153.3','4222174.1']"
   ]
  },
  {
   "cell_type": "code",
   "execution_count": null,
   "metadata": {},
   "outputs": [],
   "source": [
    "def plot_num_cells(mice, cmap, first_session = 1):\n",
    "    cm = plt.cm.\n",
    "    N = len(mice)\n",
    "    f,ax = plt.subplots()\n",
    "    for i,mouse in enumerate(mice):\n",
    "        ncells = []\n",
    "        for sess in range(first_sess,df_mouse.shape[0]):\n",
    "            VRDat, C, S, A = pp.load_scan_sess(sess,fneu_coeff=.7,analysis='s2p')\n",
    "            ncells.append(S.shape[1])\n",
    "    \n",
    "    "
   ]
  }
 ],
 "metadata": {
  "kernelspec": {
   "display_name": "Python 3",
   "language": "python",
   "name": "python3"
  },
  "language_info": {
   "codemirror_mode": {
    "name": "ipython",
    "version": 3
   },
   "file_extension": ".py",
   "mimetype": "text/x-python",
   "name": "python",
   "nbconvert_exporter": "python",
   "pygments_lexer": "ipython3",
   "version": "3.7.3"
  }
 },
 "nbformat": 4,
 "nbformat_minor": 2
}
