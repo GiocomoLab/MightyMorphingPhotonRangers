{
 "cells": [
  {
   "cell_type": "code",
   "execution_count": 1,
   "metadata": {},
   "outputs": [],
   "source": [
    "import os\n",
    "os.sys.path.append(\"C:\\\\Users\\mplitt\\MightyMorphingPhotonRangers\")\n",
    "import numpy as np\n",
    "import matplotlib.pyplot as plt\n",
    "import utilities as u\n",
    "import preprocessing as pp\n",
    "import behavior as b\n",
    "import SimilarityMatrixAnalysis as sm\n",
    "import scipy as sp\n",
    "import PlaceCellAnalysis as pc\n",
    "import matplotlib.gridspec as gridspec\n",
    "\n",
    "\n",
    "\n",
    "%load_ext autoreload\n",
    "%autoreload 2\n",
    "\n",
    "%matplotlib inline"
   ]
  },
  {
   "cell_type": "code",
   "execution_count": 2,
   "metadata": {},
   "outputs": [
    {
     "name": "stdout",
     "output_type": "stream",
     "text": [
      "G:\\My Drive\\VR_Data\\TwoTower\\behavior.sqlite\n",
      "G:\\My Drive\\VR_Data\\TwoTower\\4222174.0\\30_05_2019\\RuningTraining_1.sqlite\n",
      "file doesn't exist, errors to come!!!\n",
      "G:\\My Drive\\VR_Data\\TwoTower\\4222168.1\\09_08_2019\\RuningTraining_1.sqlite\n",
      "file doesn't exist, errors to come!!!\n",
      "G:\\My Drive\\VR_Data\\TwoTower\\4222169.2\\26_08_2019\\TwoTower_Timeout_0.sqlite\n",
      "file doesn't exist, errors to come!!!\n"
     ]
    }
   ],
   "source": [
    "# load session data frame\n",
    "df = pp.load_session_db()\n",
    "\n",
    "\n",
    "df = df[df['RewardCount']>30]\n",
    "df = df[df['Imaging']==1]\n",
    "df = df.sort_values(['MouseName','DateTime','SessionNumber'])\n",
    "tracks = 'TwoTower_foraging'\n",
    "df = df[df['Track'].str.contains(tracks,regex=True)]"
   ]
  },
  {
   "cell_type": "code",
   "execution_count": 3,
   "metadata": {},
   "outputs": [],
   "source": [
    "morph_rare = ['4139265.3','4139265.4','4139265.5','4222168.1']\n",
    "morph_familiar = ['4222153.1','4222153.2','4222153.3','4222174.1','4222154.1']"
   ]
  },
  {
   "cell_type": "code",
   "execution_count": 17,
   "metadata": {},
   "outputs": [],
   "source": [
    "def num_int(mice, first_sess = []): \n",
    "    \n",
    "    N = len(mice)\n",
    "    NITrials,D = [] ,[]\n",
    "    for i,(mouse,_fs) in enumerate(zip(mice,first_sess)):\n",
    "        print(mouse)\n",
    "        df_mouse = df[df['MouseName'].str.match(mouse)]\n",
    "        nitrials,d = [],[]\n",
    "        \n",
    "        for sess_ind in range(_fs,df_mouse.shape[0]):\n",
    "            sess = df_mouse.iloc[sess_ind]\n",
    "            VRDat = pp.behavior_dataframe(sess['data file'])\n",
    "            trial_info, tstart_inds, teleport_inds = u.by_trial_info(VRDat)\n",
    "            nitrials.append(((trial_info['morphs']>0) & (trial_info['morphs']<1)).sum())\n",
    "            d.append(trial_info['morphs'].shape[0])\n",
    "        \n",
    "        NITrials.append(nitrials)\n",
    "        D.append(d)\n",
    "#         ax.plot(np.arange(8,8+len(ncells)),ncells,color=cm(np.float(i)/N),marker='x')\n",
    "    return NITrials, D#, f,ax"
   ]
  },
  {
   "cell_type": "code",
   "execution_count": 18,
   "metadata": {},
   "outputs": [
    {
     "name": "stdout",
     "output_type": "stream",
     "text": [
      "4139265.3\n",
      "4139265.4\n",
      "4139265.5\n",
      "4222168.1\n"
     ]
    }
   ],
   "source": [
    "rare_NTrials,rare_N = num_int(morph_rare,[2,2,2,0])"
   ]
  },
  {
   "cell_type": "code",
   "execution_count": 25,
   "metadata": {},
   "outputs": [
    {
     "name": "stdout",
     "output_type": "stream",
     "text": [
      "0\n",
      "[45, 0, 0, 60, 60, 60, 60, 60]\n",
      "1\n",
      "[30, 0, 0, 60, 60, 60, 60, 60, 60]\n",
      "2\n",
      "[45, 0, 0, 60, 60, 60, 60, 60]\n",
      "3\n",
      "[30, 0, 29, 43, 48, 48, 48, 48]\n"
     ]
    },
    {
     "data": {
      "image/png": "[encoded data removed]",
      "text/plain": [
       "<Figure size 432x288 with 1 Axes>"
      ]
     },
     "metadata": {
      "needs_background": "light"
     },
     "output_type": "display_data"
    }
   ],
   "source": [
    "f,ax = plt.subplots()\n",
    "sessNum = [3,5,7,8,9,10,11,12,13,14]\n",
    "for i,(rm,n) in enumerate(zip(rare_NTrials,rare_N)):\n",
    "    print(i)\n",
    "    print(rm)\n",
    "    ax.plot(sessNum[:len(rm)],np.cumsum(rm)+3*i,color=plt.cm.copper(np.float(i)/len(rare_NTrials)),marker='x')\n",
    "#     ax[1].plot(sessNum[:len(rm)],np.cumsum(rm)/np.cumsum(n),color=plt.cm.copper(np.float(i)/len(rare_NTrials)),marker='x') # need to include non imaging trials for this calculation\n",
    "\n",
    "f.savefig(\"G:\\\\My Drive\\\\manuscripts\\\\MightyMorphinPhotonRangers_Manuscript\\\\Figures\\\\python_outputs\\\\int_trial_count_all.pdf\",format=\"pdf\")"
   ]
  },
  {
   "cell_type": "code",
   "execution_count": null,
   "metadata": {},
   "outputs": [],
   "source": []
  }
 ],
 "metadata": {
  "kernelspec": {
   "display_name": "Python 3",
   "language": "python",
   "name": "python3"
  },
  "language_info": {
   "codemirror_mode": {
    "name": "ipython",
    "version": 3
   },
   "file_extension": ".py",
   "mimetype": "text/x-python",
   "name": "python",
   "nbconvert_exporter": "python",
   "pygments_lexer": "ipython3",
   "version": "3.7.3"
  }
 },
 "nbformat": 4,
 "nbformat_minor": 2
}
