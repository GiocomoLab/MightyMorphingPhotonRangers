{
 "cells": [
  {
   "cell_type": "code",
   "execution_count": 3,
   "metadata": {},
   "outputs": [],
   "source": [
    "import os\n",
    "os.sys.path.append(\"C:\\\\Users\\mplitt\\MightyMorphingPhotonRangers\")\n",
    "import numpy as np\n",
    "import matplotlib.pyplot as plt\n",
    "import utilities as u\n",
    "import preprocessing as pp\n",
    "import behavior as b\n",
    "import SimilarityMatrixAnalysis as sm\n",
    "import scipy as sp\n",
    "import PlaceCellAnalysis as pc\n",
    "import matplotlib.gridspec as gridspec\n",
    "\n",
    "\n",
    "\n",
    "%load_ext autoreload\n",
    "%autoreload 2\n",
    "\n",
    "%matplotlib inline"
   ]
  },
  {
   "cell_type": "code",
   "execution_count": 4,
   "metadata": {},
   "outputs": [
    {
     "name": "stdout",
     "output_type": "stream",
     "text": [
      "G:\\My Drive\\VR_Data\\TwoTower\\behavior.sqlite\n",
      "G:\\My Drive\\VR_Data\\TwoTower\\4222174.0\\30_05_2019\\RuningTraining_1.sqlite\n",
      "file doesn't exist, errors to come!!!\n",
      "G:\\My Drive\\VR_Data\\TwoTower\\4222168.1\\09_08_2019\\RuningTraining_1.sqlite\n",
      "file doesn't exist, errors to come!!!\n"
     ]
    }
   ],
   "source": [
    "# load session data frame\n",
    "df = pp.load_session_db()\n",
    "\n",
    "\n",
    "df = df[df['RewardCount']>30]\n",
    "df = df[df['Imaging']==1]\n",
    "df = df.sort_values(['MouseName','DateTime','SessionNumber'])\n",
    "tracks = 'TwoTower_foraging'\n",
    "df = df[df['Track'].str.contains(tracks,regex=True)]"
   ]
  },
  {
   "cell_type": "code",
   "execution_count": 5,
   "metadata": {},
   "outputs": [],
   "source": [
    "morph_rare = ['4139265.3','4139265.4','4139265.5']\n",
    "morph_familiar = ['4222153.1','4222153.2','4222153.3','4222174.1']"
   ]
  },
  {
   "cell_type": "code",
   "execution_count": 12,
   "metadata": {},
   "outputs": [],
   "source": [
    "def plot_num_cells(mice, cmap, first_sess = 1):\n",
    "    cm = plt.cm.get_cmap(cmap)\n",
    "    N = len(mice)\n",
    "    f,ax = plt.subplots()\n",
    "    for i,mouse in enumerate(mice):\n",
    "        df_mouse = df[df['MouseName'].str.match(mouse)]\n",
    "        ncells = []\n",
    "        for sess_ind in range(first_sess,df_mouse.shape[0]):\n",
    "            sess = df_mouse.iloc[sess_ind]\n",
    "            VRDat, C, S, A = pp.load_scan_sess(sess,fneu_coeff=.7,analysis='s2p')\n",
    "            ncells.append(S.shape[1])\n",
    "            \n",
    "        ax.plot(ncells,color=cm(np.float(i)/N))\n",
    "    return f,ax\n",
    "    "
   ]
  },
  {
   "cell_type": "code",
   "execution_count": 13,
   "metadata": {},
   "outputs": [
    {
     "name": "stdout",
     "output_type": "stream",
     "text": [
      "num aberrant ttls 0.0\n",
      "20963 (20963,) (20963, 21) 69486\n"
     ]
    },
    {
     "name": "stderr",
     "output_type": "stream",
     "text": [
      "C:\\Users\\mplitt\\Anaconda3\\lib\\site-packages\\pandas\\core\\frame.py:4034: SettingWithCopyWarning: \n",
      "A value is trying to be set on a copy of a slice from a DataFrame\n",
      "\n",
      "See the caveats in the documentation: http://pandas.pydata.org/pandas-docs/stable/indexing.html#indexing-view-versus-copy\n",
      "  downcast=downcast, **kwargs)\n"
     ]
    },
    {
     "name": "stdout",
     "output_type": "stream",
     "text": [
      "frame diff 0\n",
      "num aberrant ttls 0.0\n",
      "22392 (22392,) (22392, 21) 74301\n",
      "frame diff 0\n",
      "num aberrant ttls 0.0\n",
      "30909 (30909,) (30909, 21) 102031\n",
      "frame diff 0\n",
      "num aberrant ttls 0.0\n",
      "27389 (27389,) (27389, 21) 90435\n",
      "frame diff 0\n",
      "num aberrant ttls 0.0\n",
      "35085 (35085,) (35085, 21) 115307\n",
      "frame diff 0\n",
      "num aberrant ttls 0.0\n",
      "33140 (33140,) (33140, 21) 109003\n",
      "frame diff 0\n",
      "num aberrant ttls 0.0\n",
      "38209 (38209,) (38209, 21) 126969\n",
      "frame diff 0\n",
      "num aberrant ttls 0.0\n",
      "33547 (33547,) (33547, 21) 110218\n",
      "frame diff 0\n",
      "num aberrant ttls 0.0\n",
      "32038 (32038,) (32038, 21) 105022\n",
      "frame diff 0\n",
      "num aberrant ttls 0.0\n",
      "16060 (16060,) (16060, 21) 51653\n",
      "frame diff 0\n",
      "num aberrant ttls 0.0\n",
      "13506 (13506,) (13506, 21) 45655\n",
      "frame diff 0\n",
      "num aberrant ttls 0.0\n",
      "24444 (24444,) (24444, 21) 81436\n",
      "frame diff 0\n",
      "num aberrant ttls 0.0\n",
      "23918 (23918,) (23918, 21) 77428\n",
      "frame diff 0\n",
      "num aberrant ttls 0.0\n",
      "30897 (30897,) (30897, 21) 102093\n",
      "frame diff 0\n",
      "num aberrant ttls 0.0\n",
      "29023 (29023,) (29023, 21) 95160\n",
      "frame diff 0\n",
      "num aberrant ttls 0.0\n",
      "31116 (31116,) (31116, 21) 102131\n",
      "frame diff 0\n",
      "num aberrant ttls 0.0\n",
      "31932 (31932,) (31932, 21) 105228\n",
      "frame diff 0\n",
      "num aberrant ttls 0.0\n",
      "30493 (30493,) (30493, 21) 100982\n",
      "frame diff 0\n",
      "num aberrant ttls 0.0\n",
      "32084 (32084,) (32084, 21) 105601\n",
      "frame diff 0\n",
      "num aberrant ttls 0.0\n",
      "16765 (16765,) (16765, 21) 54428\n",
      "frame diff 0\n",
      "num aberrant ttls 0.0\n",
      "19948 (19948,) (19948, 21) 65960\n",
      "frame diff 0\n",
      "num aberrant ttls 0.0\n",
      "24614 (24614,) (24614, 21) 80936\n",
      "frame diff 0\n",
      "num aberrant ttls 0.0\n",
      "24357 (24357,) (24357, 21) 80386\n",
      "frame diff 0\n",
      "num aberrant ttls 0.0\n",
      "34737 (34737,) (34737, 21) 113863\n",
      "frame diff 0\n",
      "num aberrant ttls 0.0\n",
      "36018 (36018,) (36018, 21) 118606\n",
      "frame diff 0\n",
      "num aberrant ttls 0.0\n",
      "40272 (40272,) (40272, 21) 133982\n",
      "frame diff 0\n",
      "num aberrant ttls 0.0\n",
      "36659 (36659,) (36659, 21) 120387\n",
      "frame diff 0\n",
      "num aberrant ttls 0.0\n",
      "36583 (36583,) (36583, 21) 124384\n",
      "frame diff 0\n"
     ]
    },
    {
     "data": {
      "image/png": "[encoded data removed]",
      "text/plain": [
       "<Figure size 432x288 with 1 Axes>"
      ]
     },
     "metadata": {
      "needs_background": "light"
     },
     "output_type": "display_data"
    }
   ],
   "source": [
    "f,ax = plot_num_cells(morph_rare,'copper')"
   ]
  },
  {
   "cell_type": "code",
   "execution_count": null,
   "metadata": {},
   "outputs": [],
   "source": []
  }
 ],
 "metadata": {
  "kernelspec": {
   "display_name": "Python 3",
   "language": "python",
   "name": "python3"
  },
  "language_info": {
   "codemirror_mode": {
    "name": "ipython",
    "version": 3
   },
   "file_extension": ".py",
   "mimetype": "text/x-python",
   "name": "python",
   "nbconvert_exporter": "python",
   "pygments_lexer": "ipython3",
   "version": "3.7.3"
  }
 },
 "nbformat": 4,
 "nbformat_minor": 2
}
