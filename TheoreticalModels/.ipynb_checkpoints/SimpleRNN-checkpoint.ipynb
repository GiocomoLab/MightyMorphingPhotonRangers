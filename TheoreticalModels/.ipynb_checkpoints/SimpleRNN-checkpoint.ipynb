{
 "cells": [
  {
   "cell_type": "code",
   "execution_count": 1,
   "metadata": {},
   "outputs": [],
   "source": [
    "import numpy as np\n",
    "import scipy as sp\n",
    "import matplotlib.pyplot as plt\n",
    "\n",
    "\n",
    "%load_ext autoreload\n",
    "%autoreload 2\n",
    "\n",
    "%matplotlib inline"
   ]
  },
  {
   "cell_type": "code",
   "execution_count": 71,
   "metadata": {},
   "outputs": [],
   "source": [
    "# initialize network\n",
    "N = 10 # number of neurons\n",
    "m= 3 # number of input neurons\n",
    "\n",
    "W = np.random.rand(N,N)-.5\n",
    "W+=W.T/2\n",
    "W[np.diag_indices(N)]=0\n",
    "W*=0\n",
    "\n",
    "\n",
    "J = 5.*(np.random.rand(N,m)-.5)\n",
    "v0, v1 = np.array([-1,-1,-1])[:,np.newaxis], np.array([1,1,1])[:,np.newaxis]\n",
    "\n",
    "sigmoid = lambda x: 2 / (1 + np.exp(-5*x)) -1"
   ]
  },
  {
   "cell_type": "code",
   "execution_count": 72,
   "metadata": {},
   "outputs": [
    {
     "data": {
      "text/plain": [
       "Text(0.5, 1.0, 'activation function')"
      ]
     },
     "execution_count": 72,
     "metadata": {},
     "output_type": "execute_result"
    },
    {
     "data": {
      "image/png": "[encoded data removed]",
      "text/plain": [
       "<Figure size 432x288 with 1 Axes>"
      ]
     },
     "metadata": {
      "needs_background": "light"
     },
     "output_type": "display_data"
    }
   ],
   "source": [
    "f,ax = plt.subplots()\n",
    "x = np.linspace(-10,10)\n",
    "ax.plot(x,sigmoid(x))\n",
    "ax.set_title('activation function')"
   ]
  },
  {
   "cell_type": "code",
   "execution_count": 73,
   "metadata": {},
   "outputs": [],
   "source": [
    "S0 = sigmoid(np.matmul(J,v0))\n",
    "S1 = sigmoid(np.matmul(J,v1))"
   ]
  },
  {
   "cell_type": "code",
   "execution_count": 74,
   "metadata": {},
   "outputs": [
    {
     "name": "stdout",
     "output_type": "stream",
     "text": [
      "[[-0.99754685]\n",
      " [-0.9955775 ]\n",
      " [ 0.99999997]\n",
      " [ 0.97733886]\n",
      " [-0.98712576]\n",
      " [-0.71690581]\n",
      " [ 0.99999839]\n",
      " [-0.99999999]\n",
      " [ 1.        ]\n",
      " [-1.        ]] [[ 0.99754685]\n",
      " [ 0.9955775 ]\n",
      " [-0.99999997]\n",
      " [-0.97733886]\n",
      " [ 0.98712576]\n",
      " [ 0.71690581]\n",
      " [-0.99999839]\n",
      " [ 0.99999999]\n",
      " [-1.        ]\n",
      " [ 1.        ]]\n"
     ]
    }
   ],
   "source": [
    "print(S0,S1)"
   ]
  },
  {
   "cell_type": "code",
   "execution_count": 75,
   "metadata": {},
   "outputs": [],
   "source": [
    "# basic hopfield\n",
    "\n",
    "alpha = .1 # learning rate\n",
    "tau = .001 # decay rate\n",
    "\n",
    "T = 100 # number of training loops\n",
    "\n",
    "for t in range(T):\n",
    "    for S in [S0,S1]:\n",
    "        \n",
    "        delta_W = alpha*np.matmul(S,S.T)\n",
    "        delta_W[np.diag_indices(N)]=0\n",
    "        \n",
    "        W+=delta_W\n",
    "        "
   ]
  },
  {
   "cell_type": "code",
   "execution_count": 76,
   "metadata": {},
   "outputs": [
    {
     "name": "stdout",
     "output_type": "stream",
     "text": [
      "[[  0.          19.86270394 -19.95093642 -19.49882608  19.6940838\n",
      "   14.30294269 -19.95090488  19.95093669 -19.95093695  19.9509369 ]\n",
      " [ 19.86270394   0.         -19.91154939 -19.4603316   19.65520385\n",
      "   14.2747059  -19.91151792  19.91154967 -19.91154992  19.91154987]\n",
      " [-19.95093642 -19.91154939   0.          19.5467767  -19.7425146\n",
      "  -14.33811583  19.99996724 -19.99999913  19.99999938 -19.99999933]\n",
      " [-19.49882608 -19.4603316   19.5467767    0.         -19.29512733\n",
      "  -14.01319823  19.54674581 -19.54677697  19.54677722 -19.54677717]\n",
      " [ 19.6940838   19.65520385 -19.7425146  -19.29512733   0.\n",
      "   14.15352387 -19.74248339  19.74251487 -19.74251512  19.74251507]\n",
      " [ 14.30294269  14.2747059  -14.33811583 -14.01319823  14.15352387\n",
      "    0.         -14.33809317  14.33811603 -14.33811621  14.33811618]\n",
      " [-19.95090488 -19.91151792  19.99996724  19.54674581 -19.74248339\n",
      "  -14.33809317   0.         -19.99996752  19.99996777 -19.99996772]\n",
      " [ 19.95093669  19.91154967 -19.99999913 -19.54677697  19.74251487\n",
      "   14.33811603 -19.99996752   0.         -19.99999966  19.99999961]\n",
      " [-19.95093695 -19.91154992  19.99999938  19.54677722 -19.74251512\n",
      "  -14.33811621  19.99996777 -19.99999966   0.         -19.99999986]\n",
      " [ 19.9509369   19.91154987 -19.99999933 -19.54677717  19.74251507\n",
      "   14.33811618 -19.99996772  19.99999961 -19.99999986   0.        ]]\n"
     ]
    }
   ],
   "source": [
    "print(W)"
   ]
  },
  {
   "cell_type": "code",
   "execution_count": 77,
   "metadata": {},
   "outputs": [
    {
     "name": "stdout",
     "output_type": "stream",
     "text": [
      "[[-0.99754685  0.99754685]\n",
      " [-0.9955775   0.9955775 ]\n",
      " [ 0.99999997  0.99999997]\n",
      " [ 0.97733886  0.97733886]\n",
      " [-0.98712576 -0.98712576]\n",
      " [-0.71690581 -0.71690581]\n",
      " [ 0.99999839  0.99999839]\n",
      " [-0.99999999 -0.99999999]\n",
      " [ 1.          1.        ]\n",
      " [-1.         -1.        ]]\n",
      "0.7945097087621088\n",
      "0.008084716880807544\n",
      "0.008084716880807544\n",
      "0.008084716880807544\n",
      "0.008084716880807544\n",
      "0.008084716880807544\n",
      "0.008084716880807544\n",
      "0.008084716880807544\n",
      "0.008084716880807544\n",
      "0.008084716880807544\n",
      "0.008084716880807544\n",
      "[[[-0.99754685 -1.        ]]\n",
      "\n",
      " [[-0.9955775  -1.        ]]\n",
      "\n",
      " [[ 0.99999997  1.        ]]\n",
      "\n",
      " [[ 0.97733886  1.        ]]\n",
      "\n",
      " [[-0.98712576 -1.        ]]\n",
      "\n",
      " [[-0.71690581 -1.        ]]\n",
      "\n",
      " [[ 0.99999839  1.        ]]\n",
      "\n",
      " [[-0.99999999 -1.        ]]\n",
      "\n",
      " [[ 1.          1.        ]]\n",
      "\n",
      " [[-1.         -1.        ]]]\n"
     ]
    }
   ],
   "source": [
    "\n",
    "St = np.copy(S0)\n",
    "St[:2]*=-1\n",
    "print(np.concatenate((S0,St),axis=-1))\n",
    "print(((S0-St).ravel()**2).mean())\n",
    "for t in range(10):\n",
    "    St = sigmoid(np.matmul(W,St))\n",
    "    print(((S0-St).ravel()**2).mean())\n",
    "print(np.concatenate((S0[:,np.newaxis],St[:,np.newaxis]),axis=-1))"
   ]
  },
  {
   "cell_type": "code",
   "execution_count": 78,
   "metadata": {},
   "outputs": [],
   "source": [
    "# stochastic gradient descent hopfield\n",
    "\n",
    "# initialize W\n",
    "N = 10 # number of neurons\n",
    "m= 3 # number of input neurons\n",
    "\n",
    "W = np.random.rand(N,N)-.5\n",
    "W+=W.T/2\n",
    "W[np.diag_indices(N)]=0\n",
    "\n",
    "\n",
    "T=1000\n",
    "eta = 1\n",
    "# do until convergence\n",
    "for t in range(T):\n",
    "\n",
    "\n",
    "#     sample a target pattern,S/yp, at frequency that is relevant to task\n",
    "    for yp in [S0,S1]:\n",
    "        \n",
    "        yd = np.copy(yp)\n",
    "        for dv in range(4):\n",
    "            yd = sigmoid(np.matmul(W,yd))\n",
    "            \n",
    "        W += eta*(yp*yp.T - yd*yd.T)\n",
    "        W[np.diag_indices_from(W)]=0\n",
    "\n",
    "\n",
    "#     let network evolve from yp for a few steps (2-4)to yd\n",
    "\n",
    "#     update weights W+= eta*(yp*yp.T - yd*yd.T)"
   ]
  },
  {
   "cell_type": "code",
   "execution_count": 79,
   "metadata": {},
   "outputs": [
    {
     "name": "stdout",
     "output_type": "stream",
     "text": [
      "[[ 0.          0.55453487  0.39577698 -0.45214452  0.79151108  0.2609092\n",
      "  -0.07172182 -0.41702033 -1.1022416  -1.06695523]\n",
      " [ 0.8258564   0.         -1.52274908  1.90670423 -1.79986094  0.27623493\n",
      "  -0.39953354  1.27457674  1.04275809  1.40785052]\n",
      " [ 0.18215457 -1.63521455  0.          1.24198752 -1.46818114  0.35198448\n",
      "   0.50428621  0.11028418  2.24061006  0.03677153]\n",
      " [-0.71822976  1.66824644  1.25908942  0.          1.98467815 -0.34306621\n",
      "   0.03129475 -0.78103041 -0.48425621 -1.66073586]\n",
      " [ 0.58178453 -1.80619766 -1.15906195  1.75777811  0.          0.36148894\n",
      "  -0.14484022  1.22520432  0.57515976  1.41918753]\n",
      " [ 0.24308229  0.14248773  0.40926148 -0.20473685  0.32316148  0.\n",
      "  -1.06659279  0.67696172 -1.91230175 -0.14034674]\n",
      " [-0.12490493 -0.27145623  0.51759479 -0.1551861  -0.26375862 -0.9636931\n",
      "   0.         -0.71279528  1.45018257 -1.29649174]\n",
      " [-0.52637265  1.39874795  0.02856737 -1.19757955  1.28879287  0.71254772\n",
      "  -1.16669462  0.         -2.10149542 -0.23279958]\n",
      " [-0.78401421  1.04062654  2.39841738 -0.25494163  0.22244143 -2.18592724\n",
      "   1.50288236 -1.93125431  0.         -2.12136678]\n",
      " [-1.09412746  1.11920317  0.02834229 -1.54454123  1.22845485 -0.05549628\n",
      "  -0.98125918 -0.14861852 -1.88365246  0.        ]]\n"
     ]
    }
   ],
   "source": [
    "print(W)"
   ]
  },
  {
   "cell_type": "code",
   "execution_count": 80,
   "metadata": {},
   "outputs": [
    {
     "name": "stdout",
     "output_type": "stream",
     "text": [
      "[[[-0.99754685  0.99754685]]\n",
      "\n",
      " [[-0.9955775   0.9955775 ]]\n",
      "\n",
      " [[ 0.99999997  0.99999997]]\n",
      "\n",
      " [[ 0.97733886  0.97733886]]\n",
      "\n",
      " [[-0.98712576 -0.98712576]]\n",
      "\n",
      " [[-0.71690581 -0.71690581]]\n",
      "\n",
      " [[ 0.99999839  0.99999839]]\n",
      "\n",
      " [[-0.99999999 -0.99999999]]\n",
      "\n",
      " [[ 1.          1.        ]]\n",
      "\n",
      " [[-1.         -1.        ]]]\n",
      "0.7945097087621088\n",
      "0.4238942981760253\n",
      "0.028132282532478466\n",
      "0.008761571438793853\n",
      "0.008020798042264559\n",
      "0.00820156757551305\n",
      "0.008095816838452747\n",
      "0.008141884512676122\n",
      "0.008120202376998304\n",
      "0.00813017598800269\n",
      "0.008125641488735642\n",
      "[[[-0.99754685 -0.99704441]]\n",
      "\n",
      " [[-0.9955775  -0.99209068]]\n",
      "\n",
      " [[ 0.99999997  1.        ]]\n",
      "\n",
      " [[ 0.97733886  0.94726158]]\n",
      "\n",
      " [[-0.98712576 -0.9730885 ]]\n",
      "\n",
      " [[-0.71690581 -1.        ]]\n",
      "\n",
      " [[ 0.99999839  1.        ]]\n",
      "\n",
      " [[-0.99999999 -1.        ]]\n",
      "\n",
      " [[ 1.          1.        ]]\n",
      "\n",
      " [[-1.         -1.        ]]]\n"
     ]
    }
   ],
   "source": [
    "St = np.copy(S0)\n",
    "St[:2]*=-1\n",
    "print(np.concatenate((S0[:,np.newaxis],St[:,np.newaxis]),axis=-1))\n",
    "print(((S0-St).ravel()**2).mean())\n",
    "for t in range(10):\n",
    "    St = sigmoid(np.matmul(W,St))\n",
    "    print(((S0-St).ravel()**2).mean())\n",
    "print(np.concatenate((S0[:,np.newaxis],St[:,np.newaxis]),axis=-1))"
   ]
  },
  {
   "cell_type": "code",
   "execution_count": 83,
   "metadata": {},
   "outputs": [
    {
     "name": "stdout",
     "output_type": "stream",
     "text": [
      "0.008084499592529559 3.877862986508101\n",
      "0.008084499592529559 3.877862986508101\n",
      "0.9429833411849531 0.9429833411849533\n",
      "3.877862986508101 0.008084499592529559\n",
      "3.877862986508101 0.008084499592529559\n"
     ]
    }
   ],
   "source": [
    "morphs = [0,.25,.5,.75,1]\n",
    "for m in morphs:\n",
    "    St = sigmoid(np.matmul(J,(1-m)*v0 + m*v1))\n",
    "    for t in range(10):\n",
    "        St = sigmoid(np.matmul(W,St))\n",
    "    print(((S0-St).ravel()**2).mean(),((S1-St).ravel()**2).mean())"
   ]
  },
  {
   "cell_type": "code",
   "execution_count": 131,
   "metadata": {},
   "outputs": [],
   "source": [
    "# repeat SGD hopfield with more relevant training to rare morph\n",
    "# stochastic gradient descent hopfield\n",
    "\n",
    "# initialize W\n",
    "N = 100 # number of neurons\n",
    "k= 3 # number of input neurons\n",
    "\n",
    "W = np.random.rand(N,N)-.5\n",
    "W+=W.T/2\n",
    "W[np.diag_indices(N)]=0\n",
    "\n",
    "J = 5.*(np.random.rand(N,k)-.5)\n",
    "v0, v1 = np.array([-1,-1,-1])[:,np.newaxis], np.array([1,1,1])[:,np.newaxis]\n",
    "S0 = sigmoid(np.matmul(J,v0))\n",
    "S1 = sigmoid(np.matmul(J,v1))\n",
    "\n",
    "T=10000\n",
    "eta = 1\n",
    "# do until convergence\n",
    "for t in range(T):\n",
    "\n",
    "\n",
    "#     sample a target pattern,S/yp, at frequency that is relevant to task\n",
    "    # rare morph \n",
    "    if np.random.rand()<=.5:\n",
    "        m = 0\n",
    "    else:\n",
    "        m=1\n",
    "    yp = sigmoid(np.matmul(J,(1-m)*v0 + m*v1 + np.random.rand(3,1)-.5))\n",
    "    \n",
    "    yd = np.copy(yp)\n",
    "    for dv in range(4):\n",
    "        yd = sigmoid(np.matmul(W,yd))\n",
    "            \n",
    "    W += eta*(yp*yp.T - yd*yd.T)\n",
    "    W[np.diag_indices_from(W)]=0\n",
    "\n",
    "\n",
    "#     let network evolve from yp for a few steps (2-4)to yd\n",
    "\n",
    "#     update weights W+= eta*(yp*yp.T - yd*yd.T)"
   ]
  },
  {
   "cell_type": "code",
   "execution_count": 132,
   "metadata": {},
   "outputs": [
    {
     "name": "stdout",
     "output_type": "stream",
     "text": [
      "0.0913466823840948 3.709549560742272\n",
      "0.0913466823840948 3.709549560742272\n",
      "0.9004486507144598 0.9004486507144597\n",
      "3.709549560742272 0.0913466823840948\n",
      "3.709549560742272 0.0913466823840948\n"
     ]
    }
   ],
   "source": [
    "morphs = [0,.25,.5,.75,1]\n",
    "for m in morphs:\n",
    "    St = sigmoid(np.matmul(J,(1-m)*v0 + m*v1))\n",
    "    for t in range(10):\n",
    "        St = sigmoid(np.matmul(W,St))\n",
    "    print(((S0-St).ravel()**2).mean(),((S1-St).ravel()**2).mean())"
   ]
  },
  {
   "cell_type": "code",
   "execution_count": 140,
   "metadata": {},
   "outputs": [],
   "source": [
    "# repeat SGD hopfield with more relevant training to rare morph\n",
    "# stochastic gradient descent hopfield\n",
    "\n",
    "# initialize W\n",
    "N = 1000 # number of neurons\n",
    "k= 3 # number of input neurons\n",
    "\n",
    "W = np.random.rand(N,N)-.5\n",
    "W+=W.T/2\n",
    "W[np.diag_indices(N)]=0\n",
    "\n",
    "\n",
    "J = 5.*(np.random.rand(N,k)-.5)\n",
    "v0, v1 = np.array([-1,-1,-1])[:,np.newaxis], np.array([1,1,1])[:,np.newaxis]\n",
    "S0 = sigmoid(np.matmul(J,v0))\n",
    "S1 = sigmoid(np.matmul(J,v1))\n",
    "\n",
    "T=1000\n",
    "eta = .1\n",
    "# do until convergence\n",
    "for t in range(T):\n",
    "\n",
    "\n",
    "#     sample a target pattern,S/yp, at frequency that is relevant to task\n",
    "    # rare morph \n",
    "    m = morphs[np.random.randint(5)]\n",
    "    m = np.random.randint(2)\n",
    "    yp = sigmoid(np.matmul(J,(1-m)*v0 + m*v1 + .0*np.random.rand(3,1)-.5))\n",
    "    \n",
    "    yd = np.copy(yp)\n",
    "    for dv in range(4):\n",
    "        yd = sigmoid(np.matmul(W,yd))\n",
    "            \n",
    "    W += eta*(yp*yp.T - yd*yd.T)\n",
    "    W[np.diag_indices_from(W)]=0\n",
    "\n",
    "\n",
    "#     let network evolve from yp for a few steps (2-4)to yd\n",
    "\n",
    "#     update weights W+= eta*(yp*yp.T - yd*yd.T)"
   ]
  },
  {
   "cell_type": "code",
   "execution_count": 141,
   "metadata": {},
   "outputs": [
    {
     "name": "stdout",
     "output_type": "stream",
     "text": [
      "0.1124956762229607 3.631778993969364\n",
      "0.1124956762229607 3.631778993969364\n",
      "0.8721538076876497 0.8721538076876497\n",
      "3.631778993969364 0.1124956762229607\n",
      "3.631778993969364 0.1124956762229607\n"
     ]
    }
   ],
   "source": [
    "morphs = [0,.25,.5,.75,1]\n",
    "for m in morphs:\n",
    "    St = sigmoid(np.matmul(J,(1-m)*v0 + m*v1))\n",
    "    for t in range(10):\n",
    "        St = sigmoid(np.matmul(W,St))\n",
    "    print(((S0-St).ravel()**2).mean(),((S1-St).ravel()**2).mean())"
   ]
  },
  {
   "cell_type": "code",
   "execution_count": null,
   "metadata": {},
   "outputs": [],
   "source": [
    "# probe resulting network with intermediate representations"
   ]
  },
  {
   "cell_type": "code",
   "execution_count": null,
   "metadata": {},
   "outputs": [],
   "source": []
  }
 ],
 "metadata": {
  "kernelspec": {
   "display_name": "Python 3",
   "language": "python",
   "name": "python3"
  },
  "language_info": {
   "codemirror_mode": {
    "name": "ipython",
    "version": 3
   },
   "file_extension": ".py",
   "mimetype": "text/x-python",
   "name": "python",
   "nbconvert_exporter": "python",
   "pygments_lexer": "ipython3",
   "version": "3.7.3"
  }
 },
 "nbformat": 4,
 "nbformat_minor": 2
}
