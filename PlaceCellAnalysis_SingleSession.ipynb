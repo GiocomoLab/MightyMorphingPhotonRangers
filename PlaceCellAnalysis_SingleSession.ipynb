{
 "cells": [
  {
   "cell_type": "code",
   "execution_count": 1,
   "metadata": {},
   "outputs": [
    {
     "name": "stderr",
     "output_type": "stream",
     "text": [
      "C:\\Users\\mplitt\\Anaconda3\\lib\\site-packages\\h5py\\__init__.py:36: FutureWarning: Conversion of the second argument of issubdtype from `float` to `np.floating` is deprecated. In future, it will be treated as `np.float64 == np.dtype(float).type`.\n",
      "  from ._conv import register_converters as _register_converters\n"
     ]
    }
   ],
   "source": [
    "#imports\n",
    "import matplotlib.pyplot as plt\n",
    "import numpy as np\n",
    "import scipy as sp\n",
    "from scipy.ndimage.filters import gaussian_filter1d\n",
    "import sqlite3 as sql\n",
    "import os\n",
    "import pandas as pd\n",
    "from datetime import datetime\n",
    "from glob import glob\n",
    "\n",
    "os.sys.path.append('../')\n",
    "import utilities as u\n",
    "import preprocessing as pp\n",
    "\n",
    "\n",
    "%load_ext autoreload\n",
    "%autoreload 2\n",
    "\n",
    "%matplotlib inline"
   ]
  },
  {
   "cell_type": "code",
   "execution_count": 2,
   "metadata": {},
   "outputs": [
    {
     "data": {
      "text/html": [
       "<div>\n",
       "<style scoped>\n",
       "    .dataframe tbody tr th:only-of-type {\n",
       "        vertical-align: middle;\n",
       "    }\n",
       "\n",
       "    .dataframe tbody tr th {\n",
       "        vertical-align: top;\n",
       "    }\n",
       "\n",
       "    .dataframe thead th {\n",
       "        text-align: right;\n",
       "    }\n",
       "</style>\n",
       "<table border=\"1\" class=\"dataframe\">\n",
       "  <thead>\n",
       "    <tr style=\"text-align: right;\">\n",
       "      <th></th>\n",
       "      <th>MouseName</th>\n",
       "      <th>DateFolder</th>\n",
       "      <th>SessionNumber</th>\n",
       "      <th>Track</th>\n",
       "      <th>RewardCount</th>\n",
       "      <th>Imaging</th>\n",
       "      <th>DateTime</th>\n",
       "      <th>data file</th>\n",
       "      <th>scanfile</th>\n",
       "      <th>scanmat</th>\n",
       "    </tr>\n",
       "  </thead>\n",
       "  <tbody>\n",
       "    <tr>\n",
       "      <th>213</th>\n",
       "      <td>4139190.1</td>\n",
       "      <td>15_06_2018</td>\n",
       "      <td>1</td>\n",
       "      <td>TwoTower_noTimeout</td>\n",
       "      <td>56</td>\n",
       "      <td>1</td>\n",
       "      <td>2018-06-15</td>\n",
       "      <td>G:\\My Drive\\\\VR_Data\\TwoTower\\4139190.1\\15_06_...</td>\n",
       "      <td>G:\\My Drive\\2P_Data\\TwoTower\\4139190.1\\15_06_2...</td>\n",
       "      <td>G:\\My Drive\\2P_Data\\TwoTower\\4139190.1\\15_06_2...</td>\n",
       "    </tr>\n",
       "    <tr>\n",
       "      <th>212</th>\n",
       "      <td>4139190.1</td>\n",
       "      <td>15_06_2018</td>\n",
       "      <td>3</td>\n",
       "      <td>TwoTower_noTimeout</td>\n",
       "      <td>48</td>\n",
       "      <td>1</td>\n",
       "      <td>2018-06-15</td>\n",
       "      <td>G:\\My Drive\\\\VR_Data\\TwoTower\\4139190.1\\15_06_...</td>\n",
       "      <td>G:\\My Drive\\2P_Data\\TwoTower\\4139190.1\\15_06_2...</td>\n",
       "      <td>G:\\My Drive\\2P_Data\\TwoTower\\4139190.1\\15_06_2...</td>\n",
       "    </tr>\n",
       "    <tr>\n",
       "      <th>151</th>\n",
       "      <td>4139190.1</td>\n",
       "      <td>16_06_2018</td>\n",
       "      <td>2</td>\n",
       "      <td>TwoTower_noTimeout</td>\n",
       "      <td>59</td>\n",
       "      <td>1</td>\n",
       "      <td>2018-06-16</td>\n",
       "      <td>G:\\My Drive\\\\VR_Data\\TwoTower\\4139190.1\\16_06_...</td>\n",
       "      <td>G:\\My Drive\\2P_Data\\TwoTower\\4139190.1\\16_06_2...</td>\n",
       "      <td>G:\\My Drive\\2P_Data\\TwoTower\\4139190.1\\16_06_2...</td>\n",
       "    </tr>\n",
       "    <tr>\n",
       "      <th>210</th>\n",
       "      <td>4139190.1</td>\n",
       "      <td>19_06_2018</td>\n",
       "      <td>2</td>\n",
       "      <td>TwoTower_Timeout</td>\n",
       "      <td>75</td>\n",
       "      <td>1</td>\n",
       "      <td>2018-06-19</td>\n",
       "      <td>G:\\My Drive\\\\VR_Data\\TwoTower\\4139190.1\\19_06_...</td>\n",
       "      <td>G:\\My Drive\\2P_Data\\TwoTower\\4139190.1\\19_06_2...</td>\n",
       "      <td>G:\\My Drive\\2P_Data\\TwoTower\\4139190.1\\19_06_2...</td>\n",
       "    </tr>\n",
       "    <tr>\n",
       "      <th>175</th>\n",
       "      <td>4139190.1</td>\n",
       "      <td>21_06_2018</td>\n",
       "      <td>3</td>\n",
       "      <td>TwoTower_Timeout</td>\n",
       "      <td>92</td>\n",
       "      <td>1</td>\n",
       "      <td>2018-06-21</td>\n",
       "      <td>G:\\My Drive\\\\VR_Data\\TwoTower\\4139190.1\\21_06_...</td>\n",
       "      <td>G:\\My Drive\\2P_Data\\TwoTower\\4139190.1\\21_06_2...</td>\n",
       "      <td>G:\\My Drive\\2P_Data\\TwoTower\\4139190.1\\21_06_2...</td>\n",
       "    </tr>\n",
       "    <tr>\n",
       "      <th>169</th>\n",
       "      <td>4139190.1</td>\n",
       "      <td>24_06_2018</td>\n",
       "      <td>2</td>\n",
       "      <td>TwoTower_Timeout</td>\n",
       "      <td>104</td>\n",
       "      <td>1</td>\n",
       "      <td>2018-06-24</td>\n",
       "      <td>G:\\My Drive\\\\VR_Data\\TwoTower\\4139190.1\\24_06_...</td>\n",
       "      <td>G:\\My Drive\\2P_Data\\TwoTower\\4139190.1\\24_06_2...</td>\n",
       "      <td>G:\\My Drive\\2P_Data\\TwoTower\\4139190.1\\24_06_2...</td>\n",
       "    </tr>\n",
       "    <tr>\n",
       "      <th>173</th>\n",
       "      <td>4139190.1</td>\n",
       "      <td>25_06_2018</td>\n",
       "      <td>2</td>\n",
       "      <td>TwoTower_Timeout</td>\n",
       "      <td>62</td>\n",
       "      <td>1</td>\n",
       "      <td>2018-06-25</td>\n",
       "      <td>G:\\My Drive\\\\VR_Data\\TwoTower\\4139190.1\\25_06_...</td>\n",
       "      <td>G:\\My Drive\\2P_Data\\TwoTower\\4139190.1\\25_06_2...</td>\n",
       "      <td>G:\\My Drive\\2P_Data\\TwoTower\\4139190.1\\25_06_2...</td>\n",
       "    </tr>\n",
       "    <tr>\n",
       "      <th>205</th>\n",
       "      <td>4139190.1</td>\n",
       "      <td>27_06_2018</td>\n",
       "      <td>2</td>\n",
       "      <td>TwoTower_Timeout</td>\n",
       "      <td>81</td>\n",
       "      <td>1</td>\n",
       "      <td>2018-06-27</td>\n",
       "      <td>G:\\My Drive\\\\VR_Data\\TwoTower\\4139190.1\\27_06_...</td>\n",
       "      <td>G:\\My Drive\\2P_Data\\TwoTower\\4139190.1\\27_06_2...</td>\n",
       "      <td>G:\\My Drive\\2P_Data\\TwoTower\\4139190.1\\27_06_2...</td>\n",
       "    </tr>\n",
       "    <tr>\n",
       "      <th>4</th>\n",
       "      <td>4139190.1</td>\n",
       "      <td>11_07_2018</td>\n",
       "      <td>17</td>\n",
       "      <td>TwoTower_Timeout</td>\n",
       "      <td>58</td>\n",
       "      <td>1</td>\n",
       "      <td>2018-07-11</td>\n",
       "      <td>G:\\My Drive\\\\VR_Data\\TwoTower\\4139190.1\\11_07_...</td>\n",
       "      <td>G:\\My Drive\\2P_Data\\TwoTower\\4139190.1\\11_07_2...</td>\n",
       "      <td>G:\\My Drive\\2P_Data\\TwoTower\\4139190.1\\11_07_2...</td>\n",
       "    </tr>\n",
       "    <tr>\n",
       "      <th>225</th>\n",
       "      <td>4139190.1</td>\n",
       "      <td>11_07_2018</td>\n",
       "      <td>17</td>\n",
       "      <td>TwoTower_Timeout</td>\n",
       "      <td>58</td>\n",
       "      <td>1</td>\n",
       "      <td>2018-07-11</td>\n",
       "      <td>G:\\My Drive\\\\VR_Data\\TwoTower\\4139190.1\\11_07_...</td>\n",
       "      <td>G:\\My Drive\\2P_Data\\TwoTower\\4139190.1\\11_07_2...</td>\n",
       "      <td>G:\\My Drive\\2P_Data\\TwoTower\\4139190.1\\11_07_2...</td>\n",
       "    </tr>\n",
       "  </tbody>\n",
       "</table>\n",
       "</div>"
      ],
      "text/plain": [
       "     MouseName  DateFolder  SessionNumber               Track  RewardCount  \\\n",
       "213  4139190.1  15_06_2018              1  TwoTower_noTimeout           56   \n",
       "212  4139190.1  15_06_2018              3  TwoTower_noTimeout           48   \n",
       "151  4139190.1  16_06_2018              2  TwoTower_noTimeout           59   \n",
       "210  4139190.1  19_06_2018              2    TwoTower_Timeout           75   \n",
       "175  4139190.1  21_06_2018              3    TwoTower_Timeout           92   \n",
       "169  4139190.1  24_06_2018              2    TwoTower_Timeout          104   \n",
       "173  4139190.1  25_06_2018              2    TwoTower_Timeout           62   \n",
       "205  4139190.1  27_06_2018              2    TwoTower_Timeout           81   \n",
       "4    4139190.1  11_07_2018             17    TwoTower_Timeout           58   \n",
       "225  4139190.1  11_07_2018             17    TwoTower_Timeout           58   \n",
       "\n",
       "     Imaging   DateTime                                          data file  \\\n",
       "213        1 2018-06-15  G:\\My Drive\\\\VR_Data\\TwoTower\\4139190.1\\15_06_...   \n",
       "212        1 2018-06-15  G:\\My Drive\\\\VR_Data\\TwoTower\\4139190.1\\15_06_...   \n",
       "151        1 2018-06-16  G:\\My Drive\\\\VR_Data\\TwoTower\\4139190.1\\16_06_...   \n",
       "210        1 2018-06-19  G:\\My Drive\\\\VR_Data\\TwoTower\\4139190.1\\19_06_...   \n",
       "175        1 2018-06-21  G:\\My Drive\\\\VR_Data\\TwoTower\\4139190.1\\21_06_...   \n",
       "169        1 2018-06-24  G:\\My Drive\\\\VR_Data\\TwoTower\\4139190.1\\24_06_...   \n",
       "173        1 2018-06-25  G:\\My Drive\\\\VR_Data\\TwoTower\\4139190.1\\25_06_...   \n",
       "205        1 2018-06-27  G:\\My Drive\\\\VR_Data\\TwoTower\\4139190.1\\27_06_...   \n",
       "4          1 2018-07-11  G:\\My Drive\\\\VR_Data\\TwoTower\\4139190.1\\11_07_...   \n",
       "225        1 2018-07-11  G:\\My Drive\\\\VR_Data\\TwoTower\\4139190.1\\11_07_...   \n",
       "\n",
       "                                              scanfile  \\\n",
       "213  G:\\My Drive\\2P_Data\\TwoTower\\4139190.1\\15_06_2...   \n",
       "212  G:\\My Drive\\2P_Data\\TwoTower\\4139190.1\\15_06_2...   \n",
       "151  G:\\My Drive\\2P_Data\\TwoTower\\4139190.1\\16_06_2...   \n",
       "210  G:\\My Drive\\2P_Data\\TwoTower\\4139190.1\\19_06_2...   \n",
       "175  G:\\My Drive\\2P_Data\\TwoTower\\4139190.1\\21_06_2...   \n",
       "169  G:\\My Drive\\2P_Data\\TwoTower\\4139190.1\\24_06_2...   \n",
       "173  G:\\My Drive\\2P_Data\\TwoTower\\4139190.1\\25_06_2...   \n",
       "205  G:\\My Drive\\2P_Data\\TwoTower\\4139190.1\\27_06_2...   \n",
       "4    G:\\My Drive\\2P_Data\\TwoTower\\4139190.1\\11_07_2...   \n",
       "225  G:\\My Drive\\2P_Data\\TwoTower\\4139190.1\\11_07_2...   \n",
       "\n",
       "                                               scanmat  \n",
       "213  G:\\My Drive\\2P_Data\\TwoTower\\4139190.1\\15_06_2...  \n",
       "212  G:\\My Drive\\2P_Data\\TwoTower\\4139190.1\\15_06_2...  \n",
       "151  G:\\My Drive\\2P_Data\\TwoTower\\4139190.1\\16_06_2...  \n",
       "210  G:\\My Drive\\2P_Data\\TwoTower\\4139190.1\\19_06_2...  \n",
       "175  G:\\My Drive\\2P_Data\\TwoTower\\4139190.1\\21_06_2...  \n",
       "169  G:\\My Drive\\2P_Data\\TwoTower\\4139190.1\\24_06_2...  \n",
       "173  G:\\My Drive\\2P_Data\\TwoTower\\4139190.1\\25_06_2...  \n",
       "205  G:\\My Drive\\2P_Data\\TwoTower\\4139190.1\\27_06_2...  \n",
       "4    G:\\My Drive\\2P_Data\\TwoTower\\4139190.1\\11_07_2...  \n",
       "225  G:\\My Drive\\2P_Data\\TwoTower\\4139190.1\\11_07_2...  "
      ]
     },
     "execution_count": 2,
     "metadata": {},
     "output_type": "execute_result"
    }
   ],
   "source": [
    "# load session\n",
    "mouse = '4139190.1'\n",
    "df = pp.load_session_db()\n",
    "\n",
    "\n",
    "df = df[df['RewardCount']>30]\n",
    "df = df[df['Imaging']==1]\n",
    "df = df.sort_values(['MouseName','DateTime','SessionNumber'])\n",
    "\n",
    "df_mouse = df[df['MouseName'].str.match(mouse)]\n",
    "df_mouse = df_mouse[df_mouse['Track'].str.match('TwoTower_noTimeout') | df_mouse['Track'].str.match('TwoTower_Timeout')]\n",
    "df_mouse\n"
   ]
  },
  {
   "cell_type": "code",
   "execution_count": 3,
   "metadata": {},
   "outputs": [
    {
     "name": "stdout",
     "output_type": "stream",
     "text": [
      "G:\\My Drive\\2P_Data\\TwoTower\\4139190.1\\15_06_2018\\TwoTower_noTimeout\\TwoTower_noTimeout_1_000.mat\n"
     ]
    },
    {
     "name": "stderr",
     "output_type": "stream",
     "text": [
      "C:\\Users\\mplitt\\MightyMorphingPhotonRangers\\preprocessing.py:156: SettingWithCopyWarning: \n",
      "A value is trying to be set on a copy of a slice from a DataFrame.\n",
      "Try using .loc[row_indexer,col_indexer] = value instead\n",
      "\n",
      "See the caveats in the documentation: http://pandas.pydata.org/pandas-docs/stable/indexing.html#indexing-view-versus-copy\n",
      "  frame['ca inds'] = caInds\n",
      "C:\\Users\\mplitt\\Anaconda3\\lib\\site-packages\\pandas\\core\\frame.py:3035: SettingWithCopyWarning: \n",
      "A value is trying to be set on a copy of a slice from a DataFrame\n",
      "\n",
      "See the caveats in the documentation: http://pandas.pydata.org/pandas-docs/stable/indexing.html#indexing-view-versus-copy\n",
      "  downcast=downcast, **kwargs)\n"
     ]
    },
    {
     "name": "stdout",
     "output_type": "stream",
     "text": [
      "G:\\My Drive\\2P_Data\\TwoTower\\4139190.1\\15_06_2018\\TwoTower_noTimeout\\TwoTower_noTimeout_1_000.mat\n",
      "#subsystem#not made into numpy array\n"
     ]
    }
   ],
   "source": [
    "# load behavior\n",
    "sess = df_mouse.iloc[0]\n",
    "VRDat, C = pp.load_scan_sess(sess)\n",
    "C_z = sp.stats.zscore(C,axis=0)\n",
    "    "
   ]
  },
  {
   "cell_type": "code",
   "execution_count": 4,
   "metadata": {},
   "outputs": [],
   "source": [
    "# by trial info and position binned neural data\n",
    "trial_info, tstart_inds, teleport_inds = u.by_trial_info(VRDat)\n",
    "C_trial_mat, occ_trial_mat, edges,centers = u.make_pos_bin_trial_matrices(C,VRDat['pos']._values,VRDat['tstart']._values,VRDat['teleport']._values)\n",
    "C_morph_dict = u.trial_type_dict(C_trial_mat,trial_info['morphs'])\n",
    "occ_morph_dict = u.trial_type_dict(occ_trial_mat,trial_info['morphs'])"
   ]
  },
  {
   "cell_type": "code",
   "execution_count": 5,
   "metadata": {},
   "outputs": [
    {
     "name": "stdout",
     "output_type": "stream",
     "text": [
      "dict_keys(['morphs', 'max_pos', 'rewards', 'zone0_licks', 'zone1_licks', 'zone0_speed', 'zone1_speed', 'pcnt', 'wallJitter', 'towerJitter', 'bckgndJitter', 'clickOn', 'pos_lick'])\n"
     ]
    },
    {
     "data": {
      "image/png": "[encoded data removed]",
      "text/plain": [
       "<matplotlib.figure.Figure at 0x1b06c66bfd0>"
      ]
     },
     "metadata": {},
     "output_type": "display_data"
    }
   ],
   "source": [
    "f,ax = plt.subplots()\n",
    "ax.imshow(C_morph_dict[1][:,:,0],cmap='Greys')\n",
    "print(trial_info.keys())"
   ]
  },
  {
   "cell_type": "code",
   "execution_count": null,
   "metadata": {},
   "outputs": [],
   "source": []
  },
  {
   "cell_type": "code",
   "execution_count": 8,
   "metadata": {},
   "outputs": [
    {
     "name": "stdout",
     "output_type": "stream",
     "text": [
      "(30, 90, 1319)\n"
     ]
    },
    {
     "ename": "TypeError",
     "evalue": "spatial_info_perm_test() missing 2 required positional arguments: 'tstart' and 'tstop'",
     "output_type": "error",
     "traceback": [
      "\u001b[1;31m---------------------------------------------------------------------------\u001b[0m",
      "\u001b[1;31mTypeError\u001b[0m                                 Traceback (most recent call last)",
      "\u001b[1;32m<ipython-input-8-082d0311f6e1>\u001b[0m in \u001b[0;36m<module>\u001b[1;34m()\u001b[0m\n\u001b[0;32m     20\u001b[0m     \u001b[1;31m#for z in zip(si_e.tolist(),si_o.tolist(),si_all.tolist()):\u001b[0m\u001b[1;33m\u001b[0m\u001b[1;33m\u001b[0m\u001b[0m\n\u001b[0;32m     21\u001b[0m     \u001b[1;31m#    print(z)\u001b[0m\u001b[1;33m\u001b[0m\u001b[1;33m\u001b[0m\u001b[0m\n\u001b[1;32m---> 22\u001b[1;33m     \u001b[0mp_e\u001b[0m\u001b[1;33m,\u001b[0m \u001b[0mshuffled_SI\u001b[0m \u001b[1;33m=\u001b[0m \u001b[0mu\u001b[0m\u001b[1;33m.\u001b[0m\u001b[0mspatial_info_perm_test\u001b[0m\u001b[1;33m(\u001b[0m\u001b[0msi_e\u001b[0m\u001b[1;33m,\u001b[0m\u001b[0mC\u001b[0m\u001b[1;33m,\u001b[0m\u001b[0mVRDat\u001b[0m\u001b[1;33m[\u001b[0m\u001b[1;34m'pos'\u001b[0m\u001b[1;33m]\u001b[0m\u001b[1;33m,\u001b[0m\u001b[0mnperms\u001b[0m \u001b[1;33m=\u001b[0m \u001b[1;36m100\u001b[0m\u001b[1;33m)\u001b[0m\u001b[1;33m\u001b[0m\u001b[0m\n\u001b[0m\u001b[0;32m     23\u001b[0m     \u001b[0mp_o\u001b[0m\u001b[1;33m,\u001b[0m \u001b[0mshuffled_SI\u001b[0m \u001b[1;33m=\u001b[0m \u001b[0mu\u001b[0m\u001b[1;33m.\u001b[0m\u001b[0mspatial_info_perm_test\u001b[0m\u001b[1;33m(\u001b[0m\u001b[0msi_o\u001b[0m\u001b[1;33m,\u001b[0m\u001b[0mC\u001b[0m\u001b[1;33m,\u001b[0m\u001b[0mVRDat\u001b[0m\u001b[1;33m[\u001b[0m\u001b[1;34m'pos'\u001b[0m\u001b[1;33m]\u001b[0m\u001b[1;33m,\u001b[0m\u001b[0mnperms\u001b[0m \u001b[1;33m=\u001b[0m \u001b[1;36m100\u001b[0m\u001b[1;33m,\u001b[0m\u001b[0mshuffled_SI\u001b[0m \u001b[1;33m=\u001b[0m \u001b[0mshuffled_SI\u001b[0m\u001b[1;33m)\u001b[0m\u001b[1;33m\u001b[0m\u001b[0m\n\u001b[0;32m     24\u001b[0m \u001b[1;33m\u001b[0m\u001b[0m\n",
      "\u001b[1;31mTypeError\u001b[0m: spatial_info_perm_test() missing 2 required positional arguments: 'tstart' and 'tstop'"
     ]
    }
   ],
   "source": [
    "# find place cells in 2 extremes from split halves (even-odd) procedure\n",
    "### something is off here\n",
    "masks={}\n",
    "for k in [0,1]:\n",
    "    print(C_morph_dict[k].shape)\n",
    "    fr_even, occ_even = np.nanmean(C_morph_dict[k][0::2,:,:],axis=0), occ_morph_dict[k][0::2,:].sum(axis=0)\n",
    "    occ_even = occ_even/occ_even.sum()\n",
    "    fr_odd, occ_odd = np.nanmean(C_morph_dict[k][1::2,:,:],axis = 0), occ_morph_dict[k][1::2,:].sum(axis=0)\n",
    "    occ_odd = occ_odd/occ_odd.sum()\n",
    "\n",
    "    si_e = u.spatial_info(fr_even,occ_even)\n",
    "    si_o = u.spatial_info(fr_odd,occ_odd)\n",
    "    \n",
    "\n",
    "    \n",
    "    mask = VRDat['morph']._values==k\n",
    "    \n",
    "    fr_all, occ_all = u.rate_map(C[mask,:],VRDat.loc[mask,'pos']._values,bin_size=5)\n",
    "    si_all = u.spatial_info(fr_all,occ_all/occ_all.sum())\n",
    "    #for z in zip(si_e.tolist(),si_o.tolist(),si_all.tolist()):\n",
    "    #    print(z)\n",
    "    p_e, shuffled_SI = u.spatial_info_perm_test(si_e,C,VRDat['pos'],nperms = 100)\n",
    "    p_o, shuffled_SI = u.spatial_info_perm_test(si_o,C,VRDat['pos'],nperms = 100,shuffled_SI = shuffled_SI)\n",
    "    \n",
    "    \n",
    "    \n",
    "    p = np.multiply(p_e>.95,p_o>.95)\n",
    "    masks[k] = p\n",
    "\n"
   ]
  },
  {
   "cell_type": "code",
   "execution_count": null,
   "metadata": {},
   "outputs": [],
   "source": [
    "# plot place cell results using these cells\n",
    "    # highlight reward zones\n",
    "\n",
    "f, ax = plt.subplots(2,2,figsize=[10,15])\n",
    "fmaps_0 = np.squeeze(C_morph_dict[0][:,:,masks[0]].mean(axis=0))\n",
    "maxInds_0 = np.argmax(fmaps_0,axis=0)\n",
    "sort_0 = np.argsort(maxInds_0)\n",
    "\n",
    "fmaps_1 = np.squeeze(np.nanmean(C_morph_dict[1][:,:,masks[1]],axis=0))\n",
    "maxInds_1 = np.argmax(fmaps_1,axis=0)\n",
    "sort_1 = np.argsort(maxInds_1)\n",
    "\n",
    "ax[0,0].imshow(fmaps_0[:,sort_0].T,cmap='Greys',aspect='auto')\n",
    "ax[0,1].imshow(np.squeeze(np.nanmean(C_morph_dict[1][:,:,masks[0]],axis=0))[:,sort_0].T,cmap='Greys',aspect='auto')\n",
    "\n",
    "ax[1,1].imshow(fmaps_1[:,sort_1].T, cmap = 'Greys', aspect = 'auto')\n",
    "ax[1,0].imshow(np.squeeze(np.nanmean(C_morph_dict[0][:,:,masks[1]],axis=0))[:,sort_1].T,cmap='Greys',aspect='auto')\n",
    "    "
   ]
  },
  {
   "cell_type": "code",
   "execution_count": 8,
   "metadata": {},
   "outputs": [],
   "source": [
    "# statistics of place cells\n",
    "\n",
    "# number in each environment\n",
    "\n",
    "# number with place fields in both\n",
    "    # including, excluding reward zones\n",
    "    \n",
    "# reward zone cells\n",
    "\n",
    "# place field shift distribution\n",
    "\n"
   ]
  },
  {
   "cell_type": "code",
   "execution_count": 9,
   "metadata": {},
   "outputs": [],
   "source": [
    "# non rewarded lick-triggered average"
   ]
  },
  {
   "cell_type": "code",
   "execution_count": 23,
   "metadata": {},
   "outputs": [],
   "source": [
    "masks, FR, SI = u.place_cells_split_halves(C, VRDat['pos']._values,trial_info, VRDat['tstart']._values, VRDat['teleport']._values)"
   ]
  },
  {
   "cell_type": "code",
   "execution_count": 25,
   "metadata": {},
   "outputs": [
    {
     "name": "stdout",
     "output_type": "stream",
     "text": [
      "[ True  True  True ...  True False False]\n",
      "[   0    1    2    3    4    6    7    8    9   17   20   21   22   26\n",
      "   28   31   36   37   38   39   40   41   43   44   45   48   49   50\n",
      "   51   54   60   62   66   67   68   69   71   74   75   79   81   82\n",
      "   83   84   85   87   88   91   96   97   98   99  102  103  106  108\n",
      "  109  112  117  118  120  122  123  124  125  127  128  129  135  136\n",
      "  143  144  145  147  149  150  151  153  154  155  158  164  170  172\n",
      "  177  178  180  181  183  185  187  191  192  193  199  202  203  204\n",
      "  209  210  211  216  217  218  219  221  222  225  226  234  236  240\n",
      "  243  244  245  247  251  252  256  260  261  263  264  265  266  272\n",
      "  273  274  277  281  284  285  288  289  290  293  294  295  296  300\n",
      "  301  304  305  306  307  308  310  311  313  315  316  317  321  323\n",
      "  324  326  329  331  334  336  338  339  340  342  344  345  346  349\n",
      "  350  351  355  356  357  360  361  369  371  373  375  376  380  381\n",
      "  382  383  385  386  387  389  391  392  393  398  400  402  403  409\n",
      "  410  411  413  414  415  416  417  418  419  421  423  425  426  428\n",
      "  434  435  438  439  440  442  444  445  446  448  450  451  452  456\n",
      "  457  459  463  464  465  466  467  469  471  474  477  478  481  483\n",
      "  484  485  488  489  491  499  501  505  506  508  511  512  513  515\n",
      "  519  520  521  522  525  526  527  529  530  533  534  535  536  539\n",
      "  540  543  544  546  548  551  552  554  556  557  558  560  561  562\n",
      "  564  565  566  567  570  571  573  578  579  580  581  583  584  586\n",
      "  588  590  591  593  594  595  596  598  600  601  605  612  614  615\n",
      "  616  617  620  621  622  628  632  633  634  635  642  643  644  645\n",
      "  647  648  650  652  655  656  657  658  660  663  669  670  671  673\n",
      "  676  679  682  683  686  687  690  696  697  700  701  702  703  704\n",
      "  707  709  710  711  715  718  720  723  725  726  729  732  735  737\n",
      "  738  739  741  743  745  748  749  750  754  755  757  759  761  762\n",
      "  764  768  770  773  774  775  776  788  789  791  792  795  796  797\n",
      "  798  799  800  801  802  803  804  805  807  808  811  812  813  814\n",
      "  815  817  819  821  822  825  827  828  829  830  832  833  834  835\n",
      "  837  839  841  844  845  847  851  853  854  855  856  862  864  868\n",
      "  869  872  880  881  885  888  892  895  897  898  903  904  907  910\n",
      "  913  914  917  919  922  923  924  925  928  934  935  937  940  941\n",
      "  944  948  949  950  953  954  955  957  966  967  968  969  970  972\n",
      "  973  974  976  977  980  981  982  983  985  986  989  990  992  993\n",
      "  994  996  997 1001 1004 1005 1006 1007 1011 1013 1014 1016 1018 1019\n",
      " 1020 1023 1024 1029 1030 1035 1037 1039 1040 1041 1043 1045 1047 1053\n",
      " 1054 1055 1057 1058 1060 1063 1064 1065 1068 1069 1071 1073 1074 1075\n",
      " 1078 1079 1080 1081 1082 1086 1088 1090 1092 1094 1095 1097 1098 1099\n",
      " 1101 1103 1104 1105 1107 1108 1109 1110 1112 1115 1116 1121 1123 1125\n",
      " 1126 1129 1130 1131 1134 1135 1137 1138 1140 1141 1143 1145 1147 1148\n",
      " 1151 1154 1157 1158 1159 1161 1162 1163 1164 1167 1168 1175 1176 1178\n",
      " 1181 1185 1186 1187 1189 1190 1191 1196 1197 1202 1208 1209 1216 1217\n",
      " 1218 1219 1221 1223 1224 1229 1230 1232 1234 1236 1237 1238 1241 1245\n",
      " 1247 1252 1253 1255 1258 1259 1260 1262 1267 1269 1270 1271 1272 1273\n",
      " 1275 1276 1278 1279 1281 1283 1284 1286 1287 1288 1290 1291 1295 1296\n",
      " 1297 1300 1303 1305 1309 1310 1312 1317 1318]\n"
     ]
    }
   ],
   "source": [
    "print(masks[0])\n",
    "print(np.where(masks[1]==True)[0])\n"
   ]
  },
  {
   "cell_type": "code",
   "execution_count": 19,
   "metadata": {},
   "outputs": [
    {
     "data": {
      "text/plain": [
       "array([0.00440896, 0.00768459, 0.00531126, ..., 0.00208628, 0.0026612 ,\n",
       "       0.00316457])"
      ]
     },
     "execution_count": 19,
     "metadata": {},
     "output_type": "execute_result"
    }
   ],
   "source": [
    "SI[0]['odd']"
   ]
  },
  {
   "cell_type": "code",
   "execution_count": null,
   "metadata": {},
   "outputs": [],
   "source": []
  }
 ],
 "metadata": {
  "kernelspec": {
   "display_name": "Python 3",
   "language": "python",
   "name": "python3"
  },
  "language_info": {
   "codemirror_mode": {
    "name": "ipython",
    "version": 3
   },
   "file_extension": ".py",
   "mimetype": "text/x-python",
   "name": "python",
   "nbconvert_exporter": "python",
   "pygments_lexer": "ipython3",
   "version": "3.6.4"
  }
 },
 "nbformat": 4,
 "nbformat_minor": 2
}
