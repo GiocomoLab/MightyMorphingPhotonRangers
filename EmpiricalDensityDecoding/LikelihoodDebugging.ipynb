{
 "cells": [
  {
   "cell_type": "code",
   "execution_count": 2,
   "metadata": {},
   "outputs": [],
   "source": [
    "import matplotlib.pyplot as plt\n",
    "import numpy as np\n",
    "import scipy as sp\n",
    "import sqlite3 as sql\n",
    "import os\n",
    "import pandas as pd\n",
    "from datetime import datetime\n",
    "from glob import glob\n",
    "import sklearn as sk\n",
    "import sklearn.linear_model\n",
    "\n",
    "os.sys.path.append('../')\n",
    "import PlaceCellAnalysis as pc\n",
    "import utilities as u\n",
    "import preprocessing as pp\n",
    "import behavior as b\n",
    "import BayesianDecoding as bd\n",
    "import SplineEncodingModel.LinearRegressionSpline as lrsp\n",
    "import EmpiricalDensityDecoding.SplineEncoding as edse\n",
    "\n",
    "\n",
    "%load_ext autoreload\n",
    "%autoreload 2\n",
    "\n",
    "%matplotlib inline"
   ]
  },
  {
   "cell_type": "code",
   "execution_count": 3,
   "metadata": {},
   "outputs": [
    {
     "name": "stdout",
     "output_type": "stream",
     "text": [
      "G:\\My Drive\\VR_Data\\TwoTower\\behavior.sqlite\n"
     ]
    },
    {
     "data": {
      "text/html": [
       "<div>\n",
       "<style scoped>\n",
       "    .dataframe tbody tr th:only-of-type {\n",
       "        vertical-align: middle;\n",
       "    }\n",
       "\n",
       "    .dataframe tbody tr th {\n",
       "        vertical-align: top;\n",
       "    }\n",
       "\n",
       "    .dataframe thead th {\n",
       "        text-align: right;\n",
       "    }\n",
       "</style>\n",
       "<table border=\"1\" class=\"dataframe\">\n",
       "  <thead>\n",
       "    <tr style=\"text-align: right;\">\n",
       "      <th></th>\n",
       "      <th>MouseName</th>\n",
       "      <th>DateFolder</th>\n",
       "      <th>SessionNumber</th>\n",
       "      <th>Track</th>\n",
       "      <th>RewardCount</th>\n",
       "      <th>Imaging</th>\n",
       "      <th>ImagingRegion</th>\n",
       "      <th>DateTime</th>\n",
       "      <th>data file</th>\n",
       "      <th>scanfile</th>\n",
       "      <th>scanmat</th>\n",
       "      <th>s2pfolder</th>\n",
       "    </tr>\n",
       "  </thead>\n",
       "  <tbody>\n",
       "    <tr>\n",
       "      <th>1403</th>\n",
       "      <td>4139265.3</td>\n",
       "      <td>10_02_2019</td>\n",
       "      <td>1</td>\n",
       "      <td>TwoTower_foraging</td>\n",
       "      <td>60</td>\n",
       "      <td>1</td>\n",
       "      <td>CA1</td>\n",
       "      <td>2019-02-10</td>\n",
       "      <td>G:\\My Drive\\VR_Data\\TwoTower\\4139265.3\\10_02_2...</td>\n",
       "      <td>None</td>\n",
       "      <td>G:\\My Drive\\2P_Data\\TwoTower\\4139265.3\\10_02_2...</td>\n",
       "      <td>G:\\My Drive\\2P_Data\\TwoTower\\4139265.3\\10_02_2...</td>\n",
       "    </tr>\n",
       "    <tr>\n",
       "      <th>1405</th>\n",
       "      <td>4139265.3</td>\n",
       "      <td>10_02_2019</td>\n",
       "      <td>3</td>\n",
       "      <td>TwoTower_foraging</td>\n",
       "      <td>60</td>\n",
       "      <td>1</td>\n",
       "      <td>CA1</td>\n",
       "      <td>2019-02-10</td>\n",
       "      <td>G:\\My Drive\\VR_Data\\TwoTower\\4139265.3\\10_02_2...</td>\n",
       "      <td>None</td>\n",
       "      <td>G:\\My Drive\\2P_Data\\TwoTower\\4139265.3\\10_02_2...</td>\n",
       "      <td>G:\\My Drive\\2P_Data\\TwoTower\\4139265.3\\10_02_2...</td>\n",
       "    </tr>\n",
       "    <tr>\n",
       "      <th>1433</th>\n",
       "      <td>4139265.3</td>\n",
       "      <td>12_02_2019</td>\n",
       "      <td>2</td>\n",
       "      <td>TwoTower_foraging</td>\n",
       "      <td>90</td>\n",
       "      <td>1</td>\n",
       "      <td>CA1</td>\n",
       "      <td>2019-02-12</td>\n",
       "      <td>G:\\My Drive\\VR_Data\\TwoTower\\4139265.3\\12_02_2...</td>\n",
       "      <td>None</td>\n",
       "      <td>G:\\My Drive\\2P_Data\\TwoTower\\4139265.3\\12_02_2...</td>\n",
       "      <td>G:\\My Drive\\2P_Data\\TwoTower\\4139265.3\\12_02_2...</td>\n",
       "    </tr>\n",
       "    <tr>\n",
       "      <th>1455</th>\n",
       "      <td>4139265.3</td>\n",
       "      <td>15_02_2019</td>\n",
       "      <td>4</td>\n",
       "      <td>TwoTower_foraging</td>\n",
       "      <td>72</td>\n",
       "      <td>1</td>\n",
       "      <td>CA1</td>\n",
       "      <td>2019-02-15</td>\n",
       "      <td>G:\\My Drive\\VR_Data\\TwoTower\\4139265.3\\15_02_2...</td>\n",
       "      <td>None</td>\n",
       "      <td>G:\\My Drive\\2P_Data\\TwoTower\\4139265.3\\15_02_2...</td>\n",
       "      <td>G:\\My Drive\\2P_Data\\TwoTower\\4139265.3\\15_02_2...</td>\n",
       "    </tr>\n",
       "    <tr>\n",
       "      <th>1475</th>\n",
       "      <td>4139265.3</td>\n",
       "      <td>17_02_2019</td>\n",
       "      <td>2</td>\n",
       "      <td>TwoTower_foraging</td>\n",
       "      <td>81</td>\n",
       "      <td>1</td>\n",
       "      <td>CA1</td>\n",
       "      <td>2019-02-17</td>\n",
       "      <td>G:\\My Drive\\VR_Data\\TwoTower\\4139265.3\\17_02_2...</td>\n",
       "      <td>None</td>\n",
       "      <td>G:\\My Drive\\2P_Data\\TwoTower\\4139265.3\\17_02_2...</td>\n",
       "      <td>G:\\My Drive\\2P_Data\\TwoTower\\4139265.3\\17_02_2...</td>\n",
       "    </tr>\n",
       "    <tr>\n",
       "      <th>1495</th>\n",
       "      <td>4139265.3</td>\n",
       "      <td>19_02_2019</td>\n",
       "      <td>2</td>\n",
       "      <td>TwoTower_foraging</td>\n",
       "      <td>92</td>\n",
       "      <td>1</td>\n",
       "      <td>CA1</td>\n",
       "      <td>2019-02-19</td>\n",
       "      <td>G:\\My Drive\\VR_Data\\TwoTower\\4139265.3\\19_02_2...</td>\n",
       "      <td>None</td>\n",
       "      <td>G:\\My Drive\\2P_Data\\TwoTower\\4139265.3\\19_02_2...</td>\n",
       "      <td>G:\\My Drive\\2P_Data\\TwoTower\\4139265.3\\19_02_2...</td>\n",
       "    </tr>\n",
       "    <tr>\n",
       "      <th>1513</th>\n",
       "      <td>4139265.3</td>\n",
       "      <td>21_02_2019</td>\n",
       "      <td>2</td>\n",
       "      <td>TwoTower_foraging</td>\n",
       "      <td>90</td>\n",
       "      <td>1</td>\n",
       "      <td>CA1</td>\n",
       "      <td>2019-02-21</td>\n",
       "      <td>G:\\My Drive\\VR_Data\\TwoTower\\4139265.3\\21_02_2...</td>\n",
       "      <td>None</td>\n",
       "      <td>G:\\My Drive\\2P_Data\\TwoTower\\4139265.3\\21_02_2...</td>\n",
       "      <td>G:\\My Drive\\2P_Data\\TwoTower\\4139265.3\\21_02_2...</td>\n",
       "    </tr>\n",
       "    <tr>\n",
       "      <th>1522</th>\n",
       "      <td>4139265.3</td>\n",
       "      <td>22_02_2019</td>\n",
       "      <td>2</td>\n",
       "      <td>TwoTower_foraging</td>\n",
       "      <td>90</td>\n",
       "      <td>1</td>\n",
       "      <td>CA1</td>\n",
       "      <td>2019-02-22</td>\n",
       "      <td>G:\\My Drive\\VR_Data\\TwoTower\\4139265.3\\22_02_2...</td>\n",
       "      <td>None</td>\n",
       "      <td>G:\\My Drive\\2P_Data\\TwoTower\\4139265.3\\22_02_2...</td>\n",
       "      <td>G:\\My Drive\\2P_Data\\TwoTower\\4139265.3\\22_02_2...</td>\n",
       "    </tr>\n",
       "    <tr>\n",
       "      <th>1531</th>\n",
       "      <td>4139265.3</td>\n",
       "      <td>23_02_2019</td>\n",
       "      <td>2</td>\n",
       "      <td>TwoTower_foraging</td>\n",
       "      <td>93</td>\n",
       "      <td>1</td>\n",
       "      <td>CA1</td>\n",
       "      <td>2019-02-23</td>\n",
       "      <td>G:\\My Drive\\VR_Data\\TwoTower\\4139265.3\\23_02_2...</td>\n",
       "      <td>None</td>\n",
       "      <td>G:\\My Drive\\2P_Data\\TwoTower\\4139265.3\\23_02_2...</td>\n",
       "      <td>G:\\My Drive\\2P_Data\\TwoTower\\4139265.3\\23_02_2...</td>\n",
       "    </tr>\n",
       "    <tr>\n",
       "      <th>1537</th>\n",
       "      <td>4139265.3</td>\n",
       "      <td>24_02_2019</td>\n",
       "      <td>2</td>\n",
       "      <td>TwoTower_foraging</td>\n",
       "      <td>97</td>\n",
       "      <td>1</td>\n",
       "      <td>CA1</td>\n",
       "      <td>2019-02-24</td>\n",
       "      <td>G:\\My Drive\\VR_Data\\TwoTower\\4139265.3\\24_02_2...</td>\n",
       "      <td>None</td>\n",
       "      <td>G:\\My Drive\\2P_Data\\TwoTower\\4139265.3\\24_02_2...</td>\n",
       "      <td>G:\\My Drive\\2P_Data\\TwoTower\\4139265.3\\24_02_2...</td>\n",
       "    </tr>\n",
       "  </tbody>\n",
       "</table>\n",
       "</div>"
      ],
      "text/plain": [
       "      MouseName  DateFolder  SessionNumber              Track  RewardCount  \\\n",
       "1403  4139265.3  10_02_2019              1  TwoTower_foraging           60   \n",
       "1405  4139265.3  10_02_2019              3  TwoTower_foraging           60   \n",
       "1433  4139265.3  12_02_2019              2  TwoTower_foraging           90   \n",
       "1455  4139265.3  15_02_2019              4  TwoTower_foraging           72   \n",
       "1475  4139265.3  17_02_2019              2  TwoTower_foraging           81   \n",
       "1495  4139265.3  19_02_2019              2  TwoTower_foraging           92   \n",
       "1513  4139265.3  21_02_2019              2  TwoTower_foraging           90   \n",
       "1522  4139265.3  22_02_2019              2  TwoTower_foraging           90   \n",
       "1531  4139265.3  23_02_2019              2  TwoTower_foraging           93   \n",
       "1537  4139265.3  24_02_2019              2  TwoTower_foraging           97   \n",
       "\n",
       "      Imaging ImagingRegion   DateTime  \\\n",
       "1403        1           CA1 2019-02-10   \n",
       "1405        1           CA1 2019-02-10   \n",
       "1433        1           CA1 2019-02-12   \n",
       "1455        1           CA1 2019-02-15   \n",
       "1475        1           CA1 2019-02-17   \n",
       "1495        1           CA1 2019-02-19   \n",
       "1513        1           CA1 2019-02-21   \n",
       "1522        1           CA1 2019-02-22   \n",
       "1531        1           CA1 2019-02-23   \n",
       "1537        1           CA1 2019-02-24   \n",
       "\n",
       "                                              data file scanfile  \\\n",
       "1403  G:\\My Drive\\VR_Data\\TwoTower\\4139265.3\\10_02_2...     None   \n",
       "1405  G:\\My Drive\\VR_Data\\TwoTower\\4139265.3\\10_02_2...     None   \n",
       "1433  G:\\My Drive\\VR_Data\\TwoTower\\4139265.3\\12_02_2...     None   \n",
       "1455  G:\\My Drive\\VR_Data\\TwoTower\\4139265.3\\15_02_2...     None   \n",
       "1475  G:\\My Drive\\VR_Data\\TwoTower\\4139265.3\\17_02_2...     None   \n",
       "1495  G:\\My Drive\\VR_Data\\TwoTower\\4139265.3\\19_02_2...     None   \n",
       "1513  G:\\My Drive\\VR_Data\\TwoTower\\4139265.3\\21_02_2...     None   \n",
       "1522  G:\\My Drive\\VR_Data\\TwoTower\\4139265.3\\22_02_2...     None   \n",
       "1531  G:\\My Drive\\VR_Data\\TwoTower\\4139265.3\\23_02_2...     None   \n",
       "1537  G:\\My Drive\\VR_Data\\TwoTower\\4139265.3\\24_02_2...     None   \n",
       "\n",
       "                                                scanmat  \\\n",
       "1403  G:\\My Drive\\2P_Data\\TwoTower\\4139265.3\\10_02_2...   \n",
       "1405  G:\\My Drive\\2P_Data\\TwoTower\\4139265.3\\10_02_2...   \n",
       "1433  G:\\My Drive\\2P_Data\\TwoTower\\4139265.3\\12_02_2...   \n",
       "1455  G:\\My Drive\\2P_Data\\TwoTower\\4139265.3\\15_02_2...   \n",
       "1475  G:\\My Drive\\2P_Data\\TwoTower\\4139265.3\\17_02_2...   \n",
       "1495  G:\\My Drive\\2P_Data\\TwoTower\\4139265.3\\19_02_2...   \n",
       "1513  G:\\My Drive\\2P_Data\\TwoTower\\4139265.3\\21_02_2...   \n",
       "1522  G:\\My Drive\\2P_Data\\TwoTower\\4139265.3\\22_02_2...   \n",
       "1531  G:\\My Drive\\2P_Data\\TwoTower\\4139265.3\\23_02_2...   \n",
       "1537  G:\\My Drive\\2P_Data\\TwoTower\\4139265.3\\24_02_2...   \n",
       "\n",
       "                                              s2pfolder  \n",
       "1403  G:\\My Drive\\2P_Data\\TwoTower\\4139265.3\\10_02_2...  \n",
       "1405  G:\\My Drive\\2P_Data\\TwoTower\\4139265.3\\10_02_2...  \n",
       "1433  G:\\My Drive\\2P_Data\\TwoTower\\4139265.3\\12_02_2...  \n",
       "1455  G:\\My Drive\\2P_Data\\TwoTower\\4139265.3\\15_02_2...  \n",
       "1475  G:\\My Drive\\2P_Data\\TwoTower\\4139265.3\\17_02_2...  \n",
       "1495  G:\\My Drive\\2P_Data\\TwoTower\\4139265.3\\19_02_2...  \n",
       "1513  G:\\My Drive\\2P_Data\\TwoTower\\4139265.3\\21_02_2...  \n",
       "1522  G:\\My Drive\\2P_Data\\TwoTower\\4139265.3\\22_02_2...  \n",
       "1531  G:\\My Drive\\2P_Data\\TwoTower\\4139265.3\\23_02_2...  \n",
       "1537  G:\\My Drive\\2P_Data\\TwoTower\\4139265.3\\24_02_2...  "
      ]
     },
     "execution_count": 3,
     "metadata": {},
     "output_type": "execute_result"
    }
   ],
   "source": [
    "# load session\n",
    "mouse = '4139265.3'\n",
    "df = pp.load_session_db()\n",
    "\n",
    "\n",
    "#df = df[df['RewardCount']>30]\n",
    "df = df[df['Imaging']==1]\n",
    "df = df.sort_values(['MouseName','DateTime','SessionNumber'])\n",
    "\n",
    "df_mouse = df[df['MouseName'].str.match(mouse)]\n",
    "df_mouse = df_mouse[df_mouse['Track'].str.match('TwoTower_noTimeout') | df_mouse['Track'].str.match('TwoTower_Timeout') | df_mouse['Track'].str.match('TwoTower_foraging')]\n",
    "df_mouse"
   ]
  },
  {
   "cell_type": "code",
   "execution_count": 4,
   "metadata": {},
   "outputs": [
    {
     "name": "stdout",
     "output_type": "stream",
     "text": [
      "num aberrant ttls 0.0\n",
      "33547 (33547,) (33547, 21) 110218\n"
     ]
    },
    {
     "name": "stderr",
     "output_type": "stream",
     "text": [
      "C:\\Users\\mplitt\\Anaconda3\\lib\\site-packages\\pandas\\core\\frame.py:4034: SettingWithCopyWarning: \n",
      "A value is trying to be set on a copy of a slice from a DataFrame\n",
      "\n",
      "See the caveats in the documentation: http://pandas.pydata.org/pandas-docs/stable/indexing.html#indexing-view-versus-copy\n",
      "  downcast=downcast, **kwargs)\n"
     ]
    },
    {
     "name": "stdout",
     "output_type": "stream",
     "text": [
      "frame diff 0\n"
     ]
    }
   ],
   "source": [
    "VRDat,C, S, A = pp.load_scan_sess(df_mouse.iloc[-2])\n",
    "trial_info, tstart_inds, teleport_inds = u.by_trial_info(VRDat)\n"
   ]
  },
  {
   "cell_type": "code",
   "execution_count": 5,
   "metadata": {},
   "outputs": [],
   "source": [
    "train_inds = (VRDat['pos']>0) & (VRDat['pos']<450)\n",
    "inds0 = (VRDat['morph']==0) & (VRDat['pos']>0)\n",
    "inds1 = (VRDat['morph']==1) & (VRDat['pos']>0)"
   ]
  },
  {
   "cell_type": "code",
   "execution_count": 6,
   "metadata": {},
   "outputs": [],
   "source": [
    "effMorph =VRDat.morph._values[train_inds]+VRDat.bckgndJitter._values[train_inds]+ VRDat.wallJitter._values[train_inds]\n",
    "# print(np.amin(effMorph))\n",
    "# effMorph = effMorph-np.amin(effMorph)\n",
    "effMorph = (effMorph-np.amin(effMorph))/(np.amax(effMorph)-np.amin(effMorph)+.01)+.001"
   ]
  },
  {
   "cell_type": "code",
   "execution_count": 7,
   "metadata": {},
   "outputs": [
    {
     "name": "stdout",
     "output_type": "stream",
     "text": [
      "0.001 0.9936371497805992\n"
     ]
    }
   ],
   "source": [
    "# print(np.amin(effMorph[train_inds]),np.amax(effMorph[train_inds]))\n",
    "print(np.amin(effMorph),np.amax(effMorph))"
   ]
  },
  {
   "cell_type": "code",
   "execution_count": 8,
   "metadata": {},
   "outputs": [
    {
     "name": "stdout",
     "output_type": "stream",
     "text": [
      "(33547, 1628)\n"
     ]
    }
   ],
   "source": [
    "Cz = (C-np.amin(C,axis=0).reshape([1,-1]))/(np.amax(C,axis=0).reshape([1,-1])-np.amin(C,axis=0).reshape([1,-1])+1)*100. + .001\n",
    "print(Cz.shape)"
   ]
  },
  {
   "cell_type": "code",
   "execution_count": 10,
   "metadata": {},
   "outputs": [],
   "source": [
    "FEATS = np.zeros([train_inds.sum(),3])\n",
    "FEATS[:,0],FEATS[:,1], FEATS[:,2] = VRDat.pos._values[train_inds],effMorph,Cz[train_inds,1000]\n",
    "Count,edges = np.histogramdd(FEATS,bins=[45,10,10])\n",
    "centers = []\n",
    "for ed in edges:\n",
    "    centers.append(ed[:-1]+ (ed[1:]-ed[:-1]).mean())"
   ]
  },
  {
   "cell_type": "code",
   "execution_count": 11,
   "metadata": {},
   "outputs": [
    {
     "name": "stdout",
     "output_type": "stream",
     "text": [
      "26160.0\n"
     ]
    }
   ],
   "source": [
    "print(Count.ravel().sum())"
   ]
  },
  {
   "cell_type": "code",
   "execution_count": 12,
   "metadata": {},
   "outputs": [
    {
     "name": "stdout",
     "output_type": "stream",
     "text": [
      "(45,) (10,) (10,)\n",
      "[array([1.37573377e-01, 1.01336849e+01, 2.01297964e+01, 3.01259078e+01,\n",
      "       4.01220193e+01, 5.01181308e+01, 6.01142423e+01, 7.01103538e+01,\n",
      "       8.01064653e+01, 9.01025768e+01, 1.00098688e+02, 1.10094800e+02,\n",
      "       1.20090911e+02, 1.30087023e+02, 1.40083134e+02, 1.50079246e+02,\n",
      "       1.60075357e+02, 1.70071469e+02, 1.80067580e+02, 1.90063692e+02,\n",
      "       2.00059803e+02, 2.10055915e+02, 2.20052026e+02, 2.30048138e+02,\n",
      "       2.40044249e+02, 2.50040361e+02, 2.60036472e+02, 2.70032584e+02,\n",
      "       2.80028695e+02, 2.90024807e+02, 3.00020918e+02, 3.10017029e+02,\n",
      "       3.20013141e+02, 3.30009252e+02, 3.40005364e+02, 3.50001475e+02,\n",
      "       3.59997587e+02, 3.69993698e+02, 3.79989810e+02, 3.89985921e+02,\n",
      "       3.99982033e+02, 4.09978144e+02, 4.19974256e+02, 4.29970367e+02,\n",
      "       4.39966479e+02, 4.49962590e+02]), array([0.001     , 0.10026371, 0.19952743, 0.29879114, 0.39805486,\n",
      "       0.49731857, 0.59658229, 0.695846  , 0.79510972, 0.89437343,\n",
      "       0.99363715]), array([1.00000005e-03, 9.99500629e+00, 1.99890126e+01, 2.99830189e+01,\n",
      "       3.99770252e+01, 4.99710315e+01, 5.99650378e+01, 6.99590440e+01,\n",
      "       7.99530503e+01, 8.99470566e+01, 9.99410629e+01])]\n"
     ]
    }
   ],
   "source": [
    "print(centers[0].shape,centers[1].shape,centers[2].shape)\n",
    "print(edges)"
   ]
  },
  {
   "cell_type": "code",
   "execution_count": 13,
   "metadata": {},
   "outputs": [],
   "source": [
    "P,M,Z = np.meshgrid(centers[0],centers[1],centers[2],indexing='ij')"
   ]
  },
  {
   "cell_type": "code",
   "execution_count": 14,
   "metadata": {},
   "outputs": [
    {
     "name": "stdout",
     "output_type": "stream",
     "text": [
      "(45, 10, 10) (45, 10, 10) (45, 10, 10) (45, 10, 10)\n"
     ]
    }
   ],
   "source": [
    "print(Count.shape,P.shape,M.shape,Z.shape)"
   ]
  },
  {
   "cell_type": "code",
   "execution_count": 37,
   "metadata": {},
   "outputs": [
    {
     "name": "stdout",
     "output_type": "stream",
     "text": [
      "(7,)\n",
      "(4500, 175)\n"
     ]
    }
   ],
   "source": [
    "encmdl = edse.EncodingModel()\n",
    "spl_basis = encmdl.make_design_matrix(P.ravel(),M.ravel(),Z.ravel())\n",
    "print(spl_basis.shape)\n",
    "encmdl.fit_linear(spl_basis,Count.ravel())\n",
    "Count_hat = encmdl.predict_linear(spl_basis)"
   ]
  },
  {
   "cell_type": "code",
   "execution_count": 38,
   "metadata": {},
   "outputs": [],
   "source": [
    "Count_hat = Count_hat.reshape([45,10,10])"
   ]
  },
  {
   "cell_type": "code",
   "execution_count": 39,
   "metadata": {},
   "outputs": [
    {
     "data": {
      "text/plain": [
       "<matplotlib.image.AxesImage at 0x2b7102aad30>"
      ]
     },
     "execution_count": 39,
     "metadata": {},
     "output_type": "execute_result"
    },
    {
     "data": {
      "image/png": "[encoded data removed]",
      "text/plain": [
       "<Figure size 432x288 with 4 Axes>"
      ]
     },
     "metadata": {
      "needs_background": "light"
     },
     "output_type": "display_data"
    }
   ],
   "source": [
    "f,ax = plt.subplots(2,2)\n",
    "ax[0,0].imshow(Count_hat[:,0,::-1].T,aspect = 'auto')\n",
    "ax[1,0].imshow(Count[:,5,::-1].T,aspect='auto')"
   ]
  },
  {
   "cell_type": "code",
   "execution_count": 42,
   "metadata": {},
   "outputs": [
    {
     "ename": "ValueError",
     "evalue": "`bins[1]` must be monotonically increasing, when an array",
     "output_type": "error",
     "traceback": [
      "\u001b[1;31m---------------------------------------------------------------------------\u001b[0m",
      "\u001b[1;31mValueError\u001b[0m                                Traceback (most recent call last)",
      "\u001b[1;32m<ipython-input-42-0f1552ddea9f>\u001b[0m in \u001b[0;36m<module>\u001b[1;34m\u001b[0m\n\u001b[0;32m      6\u001b[0m \u001b[1;33m\u001b[0m\u001b[0m\n\u001b[0;32m      7\u001b[0m     \u001b[0mcell\u001b[0m \u001b[1;33m=\u001b[0m \u001b[0mc\u001b[0m\u001b[1;33m\u001b[0m\u001b[1;33m\u001b[0m\u001b[0m\n\u001b[1;32m----> 8\u001b[1;33m     \u001b[0mpdf0\u001b[0m \u001b[1;33m=\u001b[0m \u001b[0mbd\u001b[0m\u001b[1;33m.\u001b[0m\u001b[0mempirical_density\u001b[0m\u001b[1;33m(\u001b[0m\u001b[0mVRDat\u001b[0m\u001b[1;33m[\u001b[0m\u001b[1;34m'pos'\u001b[0m\u001b[1;33m]\u001b[0m\u001b[1;33m.\u001b[0m\u001b[0mloc\u001b[0m\u001b[1;33m[\u001b[0m\u001b[0minds0\u001b[0m\u001b[1;33m]\u001b[0m\u001b[1;33m.\u001b[0m\u001b[0m_values\u001b[0m\u001b[1;33m,\u001b[0m\u001b[0mCz\u001b[0m\u001b[1;33m[\u001b[0m\u001b[0minds0\u001b[0m\u001b[1;33m,\u001b[0m\u001b[0mcell\u001b[0m\u001b[1;33m]\u001b[0m\u001b[1;33m,\u001b[0m\u001b[0mybins\u001b[0m\u001b[1;33m=\u001b[0m\u001b[0mnp\u001b[0m\u001b[1;33m.\u001b[0m\u001b[0mlinspace\u001b[0m\u001b[1;33m(\u001b[0m\u001b[1;36m0\u001b[0m\u001b[1;33m,\u001b[0m\u001b[1;36m100\u001b[0m\u001b[1;33m,\u001b[0m\u001b[0mnum\u001b[0m\u001b[1;33m=\u001b[0m\u001b[1;36m10\u001b[0m\u001b[1;33m)\u001b[0m\u001b[1;33m)\u001b[0m\u001b[1;33m\u001b[0m\u001b[1;33m\u001b[0m\u001b[0m\n\u001b[0m\u001b[0;32m      9\u001b[0m     \u001b[0mpdf1\u001b[0m \u001b[1;33m=\u001b[0m \u001b[0mbd\u001b[0m\u001b[1;33m.\u001b[0m\u001b[0mempirical_density\u001b[0m\u001b[1;33m(\u001b[0m\u001b[0mVRDat\u001b[0m\u001b[1;33m[\u001b[0m\u001b[1;34m'pos'\u001b[0m\u001b[1;33m]\u001b[0m\u001b[1;33m.\u001b[0m\u001b[0mloc\u001b[0m\u001b[1;33m[\u001b[0m\u001b[0minds1\u001b[0m\u001b[1;33m]\u001b[0m\u001b[1;33m.\u001b[0m\u001b[0m_values\u001b[0m\u001b[1;33m,\u001b[0m\u001b[0mCz\u001b[0m\u001b[1;33m[\u001b[0m\u001b[0minds1\u001b[0m\u001b[1;33m,\u001b[0m\u001b[0mcell\u001b[0m\u001b[1;33m]\u001b[0m\u001b[1;33m,\u001b[0m\u001b[0mybins\u001b[0m\u001b[1;33m=\u001b[0m\u001b[0mnp\u001b[0m\u001b[1;33m.\u001b[0m\u001b[0mlinspace\u001b[0m\u001b[1;33m(\u001b[0m\u001b[1;36m0\u001b[0m\u001b[1;33m,\u001b[0m\u001b[1;36m100\u001b[0m\u001b[1;33m,\u001b[0m\u001b[0mnum\u001b[0m\u001b[1;33m=\u001b[0m\u001b[1;36m10\u001b[0m\u001b[1;33m)\u001b[0m\u001b[1;33m)\u001b[0m\u001b[1;33m\u001b[0m\u001b[1;33m\u001b[0m\u001b[0m\n\u001b[0;32m     10\u001b[0m \u001b[1;33m\u001b[0m\u001b[0m\n",
      "\u001b[1;32m~\\MightyMorphingPhotonRangers\\BayesianDecoding.py\u001b[0m in \u001b[0;36m__init__\u001b[1;34m(self, x, y, xbins, ybins, sigma)\u001b[0m\n\u001b[0;32m     20\u001b[0m     \u001b[1;32mdef\u001b[0m \u001b[0m__init__\u001b[0m\u001b[1;33m(\u001b[0m\u001b[0mself\u001b[0m\u001b[1;33m,\u001b[0m\u001b[0mx\u001b[0m\u001b[1;33m,\u001b[0m\u001b[0my\u001b[0m\u001b[1;33m,\u001b[0m\u001b[0mxbins\u001b[0m \u001b[1;33m=\u001b[0m \u001b[0mnp\u001b[0m\u001b[1;33m.\u001b[0m\u001b[0marange\u001b[0m\u001b[1;33m(\u001b[0m\u001b[1;36m0\u001b[0m\u001b[1;33m,\u001b[0m\u001b[1;36m451\u001b[0m\u001b[1;33m,\u001b[0m\u001b[1;36m5\u001b[0m\u001b[1;33m)\u001b[0m\u001b[1;33m,\u001b[0m\u001b[0mybins\u001b[0m\u001b[1;33m=\u001b[0m\u001b[0mnp\u001b[0m\u001b[1;33m.\u001b[0m\u001b[0marange\u001b[0m\u001b[1;33m(\u001b[0m\u001b[1;33m-\u001b[0m\u001b[1;36m2\u001b[0m\u001b[1;33m,\u001b[0m\u001b[1;36m15\u001b[0m\u001b[1;33m,\u001b[0m\u001b[1;36m.5\u001b[0m\u001b[1;33m)\u001b[0m\u001b[1;33m,\u001b[0m\u001b[0msigma\u001b[0m\u001b[1;33m=\u001b[0m\u001b[1;33m(\u001b[0m\u001b[1;36m2\u001b[0m\u001b[1;33m,\u001b[0m\u001b[1;36m2\u001b[0m\u001b[1;33m)\u001b[0m\u001b[1;33m)\u001b[0m\u001b[1;33m:\u001b[0m\u001b[1;33m\u001b[0m\u001b[1;33m\u001b[0m\u001b[0m\n\u001b[0;32m     21\u001b[0m         \u001b[0mybins\u001b[0m \u001b[1;33m=\u001b[0m \u001b[0mnp\u001b[0m\u001b[1;33m.\u001b[0m\u001b[0mappend\u001b[0m\u001b[1;33m(\u001b[0m\u001b[0mybins\u001b[0m\u001b[1;33m,\u001b[0m\u001b[1;36m25\u001b[0m\u001b[1;33m)\u001b[0m\u001b[1;33m\u001b[0m\u001b[1;33m\u001b[0m\u001b[0m\n\u001b[1;32m---> 22\u001b[1;33m         \u001b[0mH\u001b[0m\u001b[1;33m,\u001b[0m\u001b[0mxedge\u001b[0m\u001b[1;33m,\u001b[0m\u001b[0myedge\u001b[0m \u001b[1;33m=\u001b[0m \u001b[0mnp\u001b[0m\u001b[1;33m.\u001b[0m\u001b[0mhistogram2d\u001b[0m\u001b[1;33m(\u001b[0m\u001b[0mx\u001b[0m\u001b[1;33m,\u001b[0m\u001b[0my\u001b[0m\u001b[1;33m,\u001b[0m\u001b[0mbins\u001b[0m\u001b[1;33m=\u001b[0m\u001b[1;33m[\u001b[0m\u001b[0mxbins\u001b[0m\u001b[1;33m,\u001b[0m\u001b[0mybins\u001b[0m\u001b[1;33m]\u001b[0m\u001b[1;33m)\u001b[0m\u001b[1;33m\u001b[0m\u001b[1;33m\u001b[0m\u001b[0m\n\u001b[0m\u001b[0;32m     23\u001b[0m         \u001b[0mH_smooth\u001b[0m \u001b[1;33m=\u001b[0m \u001b[0mgaussian_filter\u001b[0m\u001b[1;33m(\u001b[0m\u001b[0mH\u001b[0m\u001b[1;33m,\u001b[0m\u001b[0msigma\u001b[0m\u001b[1;33m,\u001b[0m\u001b[0mmode\u001b[0m\u001b[1;33m=\u001b[0m\u001b[1;34m'nearest'\u001b[0m\u001b[1;33m)\u001b[0m\u001b[1;33m\u001b[0m\u001b[1;33m\u001b[0m\u001b[0m\n\u001b[0;32m     24\u001b[0m \u001b[1;33m\u001b[0m\u001b[0m\n",
      "\u001b[1;32m~\\Anaconda3\\lib\\site-packages\\numpy\\lib\\twodim_base.py\u001b[0m in \u001b[0;36mhistogram2d\u001b[1;34m(x, y, bins, range, normed, weights, density)\u001b[0m\n\u001b[0;32m    698\u001b[0m         \u001b[0mxedges\u001b[0m \u001b[1;33m=\u001b[0m \u001b[0myedges\u001b[0m \u001b[1;33m=\u001b[0m \u001b[0masarray\u001b[0m\u001b[1;33m(\u001b[0m\u001b[0mbins\u001b[0m\u001b[1;33m)\u001b[0m\u001b[1;33m\u001b[0m\u001b[1;33m\u001b[0m\u001b[0m\n\u001b[0;32m    699\u001b[0m         \u001b[0mbins\u001b[0m \u001b[1;33m=\u001b[0m \u001b[1;33m[\u001b[0m\u001b[0mxedges\u001b[0m\u001b[1;33m,\u001b[0m \u001b[0myedges\u001b[0m\u001b[1;33m]\u001b[0m\u001b[1;33m\u001b[0m\u001b[1;33m\u001b[0m\u001b[0m\n\u001b[1;32m--> 700\u001b[1;33m     \u001b[0mhist\u001b[0m\u001b[1;33m,\u001b[0m \u001b[0medges\u001b[0m \u001b[1;33m=\u001b[0m \u001b[0mhistogramdd\u001b[0m\u001b[1;33m(\u001b[0m\u001b[1;33m[\u001b[0m\u001b[0mx\u001b[0m\u001b[1;33m,\u001b[0m \u001b[0my\u001b[0m\u001b[1;33m]\u001b[0m\u001b[1;33m,\u001b[0m \u001b[0mbins\u001b[0m\u001b[1;33m,\u001b[0m \u001b[0mrange\u001b[0m\u001b[1;33m,\u001b[0m \u001b[0mnormed\u001b[0m\u001b[1;33m,\u001b[0m \u001b[0mweights\u001b[0m\u001b[1;33m,\u001b[0m \u001b[0mdensity\u001b[0m\u001b[1;33m)\u001b[0m\u001b[1;33m\u001b[0m\u001b[1;33m\u001b[0m\u001b[0m\n\u001b[0m\u001b[0;32m    701\u001b[0m     \u001b[1;32mreturn\u001b[0m \u001b[0mhist\u001b[0m\u001b[1;33m,\u001b[0m \u001b[0medges\u001b[0m\u001b[1;33m[\u001b[0m\u001b[1;36m0\u001b[0m\u001b[1;33m]\u001b[0m\u001b[1;33m,\u001b[0m \u001b[0medges\u001b[0m\u001b[1;33m[\u001b[0m\u001b[1;36m1\u001b[0m\u001b[1;33m]\u001b[0m\u001b[1;33m\u001b[0m\u001b[1;33m\u001b[0m\u001b[0m\n\u001b[0;32m    702\u001b[0m \u001b[1;33m\u001b[0m\u001b[0m\n",
      "\u001b[1;32m~\\Anaconda3\\lib\\site-packages\\numpy\\lib\\histograms.py\u001b[0m in \u001b[0;36mhistogramdd\u001b[1;34m(sample, bins, range, normed, weights, density)\u001b[0m\n\u001b[0;32m   1036\u001b[0m                 raise ValueError(\n\u001b[0;32m   1037\u001b[0m                     \u001b[1;34m'`bins[{}]` must be monotonically increasing, when an array'\u001b[0m\u001b[1;33m\u001b[0m\u001b[1;33m\u001b[0m\u001b[0m\n\u001b[1;32m-> 1038\u001b[1;33m                     .format(i))\n\u001b[0m\u001b[0;32m   1039\u001b[0m         \u001b[1;32melse\u001b[0m\u001b[1;33m:\u001b[0m\u001b[1;33m\u001b[0m\u001b[1;33m\u001b[0m\u001b[0m\n\u001b[0;32m   1040\u001b[0m             raise ValueError(\n",
      "\u001b[1;31mValueError\u001b[0m: `bins[1]` must be monotonically increasing, when an array"
     ]
    }
   ],
   "source": [
    "#cell = 118\n",
    "x = np.linspace(0,450,num=45)\n",
    "y = np.linspace(0,100,num = 10)\n",
    "X,Y = np.meshgrid(x,y)\n",
    "for c in range(0,Cz.shape[1],100):\n",
    "\n",
    "    cell = c\n",
    "    pdf0 = bd.empirical_density(VRDat['pos'].loc[inds0]._values,Cz[inds0,cell],ybins=np.linspace(0,100,num=10))\n",
    "    pdf1 = bd.empirical_density(VRDat['pos'].loc[inds1]._values,Cz[inds1,cell],ybins=np.linspace(0,100,num=10))\n",
    "    \n",
    "    \n",
    "    PXY0 = np.zeros([x.size,y.size])\n",
    "    PXY1 = np.zeros([x.size,y.size])\n",
    "    for i,xx in enumerate(x.tolist()):\n",
    "        for j,yy in enumerate(y.tolist()):\n",
    "            PXY0[i,j]=pdf0.Likelihood(xx,yy)\n",
    "            PXY1[i,j]=pdf1.Likelihood(xx,yy)\n",
    "    \n",
    "   \n",
    "    f,ax = plt.subplots(1,3)\n",
    "    ax[0].imshow(PXY0.T[::-1,:],aspect='auto')\n",
    "    ax[1].imshow(PXY1.T[::-1,:],aspect='auto')\n",
    "    ax[2].imshow(PXY0.T[::-1,:]-PXY1.T[::-1,:],aspect='auto',cmap='cool')\n",
    "   \n",
    "\n",
    "\n",
    "    ###\n",
    "    FEATS[:,2] = Cz[train_inds,c]\n",
    "    Count,edges = np.histogramdd(FEATS,bins=[45,10,10])\n",
    "    encmdl.fit_linear(spl_basis,Count.ravel())\n",
    "    Count_hat = encmdl.predict_linear(spl_basis)\n",
    "    Count_hat = Count_hat.reshape([45,10,10])\n",
    "    f,ax = plt.subplots(1,3)\n",
    "    Ch_0 = np.squeeze(Count_hat[:,1,::-1].T)\n",
    "#     print(Ch_0.shape)\n",
    "    Ch_0/=Ch_0.sum(axis=0)[np.newaxis,:]\n",
    "    Ch_1 = np.squeeze(Count_hat[:,-1,::-1].T)\n",
    "    Ch_1/=Ch_1.sum(axis=0)[np.newaxis,:]\n",
    "    ax[0].imshow(Ch_0,aspect = 'auto')\n",
    "    ax[1].imshow(Ch_1,aspect='auto')\n",
    "    ax[2].imshow(Ch_0-Ch_1,aspect='auto',cmap='cool')#,vmin=-.2,vmax=.2)\n",
    "    "
   ]
  },
  {
   "cell_type": "code",
   "execution_count": 43,
   "metadata": {},
   "outputs": [
    {
     "data": {
      "text/plain": [
       "<scipy.stats._distn_infrastructure.rv_frozen at 0x2b712eed240>"
      ]
     },
     "execution_count": 43,
     "metadata": {},
     "output_type": "execute_result"
    }
   ],
   "source": [
    "sp.stats.gamma(1,1)"
   ]
  },
  {
   "cell_type": "code",
   "execution_count": 50,
   "metadata": {},
   "outputs": [],
   "source": [
    "x = np.linspace(0,450)\n",
    "y = np.linspace(-3,15)\n",
    "xx,yy = np.meshgrid(x,y)"
   ]
  },
  {
   "cell_type": "code",
   "execution_count": 51,
   "metadata": {},
   "outputs": [
    {
     "name": "stdout",
     "output_type": "stream",
     "text": [
      "(50, 50)\n"
     ]
    }
   ],
   "source": [
    "print(xx.shape)"
   ]
  },
  {
   "cell_type": "code",
   "execution_count": 151,
   "metadata": {},
   "outputs": [
    {
     "data": {
      "text/plain": [
       "0.18365446328092436"
      ]
     },
     "execution_count": 151,
     "metadata": {},
     "output_type": "execute_result"
    }
   ],
   "source": [
    "C.shape[0]**(-1./6)"
   ]
  },
  {
   "cell_type": "code",
   "execution_count": null,
   "metadata": {},
   "outputs": [],
   "source": []
  }
 ],
 "metadata": {
  "kernelspec": {
   "display_name": "Python 3",
   "language": "python",
   "name": "python3"
  },
  "language_info": {
   "codemirror_mode": {
    "name": "ipython",
    "version": 3
   },
   "file_extension": ".py",
   "mimetype": "text/x-python",
   "name": "python",
   "nbconvert_exporter": "python",
   "pygments_lexer": "ipython3",
   "version": "3.7.3"
  }
 },
 "nbformat": 4,
 "nbformat_minor": 2
}
