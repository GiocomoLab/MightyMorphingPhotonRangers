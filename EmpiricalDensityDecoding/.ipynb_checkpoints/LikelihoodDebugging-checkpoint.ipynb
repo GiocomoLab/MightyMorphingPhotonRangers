{
 "cells": [
  {
   "cell_type": "code",
   "execution_count": 1,
   "metadata": {},
   "outputs": [],
   "source": [
    "import matplotlib.pyplot as plt\n",
    "import numpy as np\n",
    "import scipy as sp\n",
    "import sqlite3 as sql\n",
    "import os\n",
    "import pandas as pd\n",
    "from datetime import datetime\n",
    "from glob import glob\n",
    "import sklearn as sk\n",
    "import sklearn.linear_model\n",
    "\n",
    "os.sys.path.append('../')\n",
    "import PlaceCellAnalysis as pc\n",
    "import utilities as u\n",
    "import preprocessing as pp\n",
    "import behavior as b\n",
    "import BayesianDecoding as bd\n",
    "import SplineEncodingModel.LinearRegressionSpline as lrsp\n",
    "import EmpiricalDensityDecoding.SplineEncoding as edse\n",
    "\n",
    "\n",
    "%load_ext autoreload\n",
    "%autoreload 2\n",
    "\n",
    "%matplotlib inline"
   ]
  },
  {
   "cell_type": "code",
   "execution_count": 2,
   "metadata": {},
   "outputs": [
    {
     "name": "stdout",
     "output_type": "stream",
     "text": [
      "G:\\My Drive\\VR_Data\\TwoTower\\behavior.sqlite\n"
     ]
    },
    {
     "data": {
      "text/html": [
       "<div>\n",
       "<style scoped>\n",
       "    .dataframe tbody tr th:only-of-type {\n",
       "        vertical-align: middle;\n",
       "    }\n",
       "\n",
       "    .dataframe tbody tr th {\n",
       "        vertical-align: top;\n",
       "    }\n",
       "\n",
       "    .dataframe thead th {\n",
       "        text-align: right;\n",
       "    }\n",
       "</style>\n",
       "<table border=\"1\" class=\"dataframe\">\n",
       "  <thead>\n",
       "    <tr style=\"text-align: right;\">\n",
       "      <th></th>\n",
       "      <th>MouseName</th>\n",
       "      <th>DateFolder</th>\n",
       "      <th>SessionNumber</th>\n",
       "      <th>Track</th>\n",
       "      <th>RewardCount</th>\n",
       "      <th>Imaging</th>\n",
       "      <th>ImagingRegion</th>\n",
       "      <th>DateTime</th>\n",
       "      <th>data file</th>\n",
       "      <th>scanfile</th>\n",
       "      <th>scanmat</th>\n",
       "      <th>s2pfolder</th>\n",
       "    </tr>\n",
       "  </thead>\n",
       "  <tbody>\n",
       "    <tr>\n",
       "      <th>1403</th>\n",
       "      <td>4139265.3</td>\n",
       "      <td>10_02_2019</td>\n",
       "      <td>1</td>\n",
       "      <td>TwoTower_foraging</td>\n",
       "      <td>60</td>\n",
       "      <td>1</td>\n",
       "      <td>CA1</td>\n",
       "      <td>2019-02-10</td>\n",
       "      <td>G:\\My Drive\\VR_Data\\TwoTower\\4139265.3\\10_02_2...</td>\n",
       "      <td>None</td>\n",
       "      <td>G:\\My Drive\\2P_Data\\TwoTower\\4139265.3\\10_02_2...</td>\n",
       "      <td>G:\\My Drive\\2P_Data\\TwoTower\\4139265.3\\10_02_2...</td>\n",
       "    </tr>\n",
       "    <tr>\n",
       "      <th>1405</th>\n",
       "      <td>4139265.3</td>\n",
       "      <td>10_02_2019</td>\n",
       "      <td>3</td>\n",
       "      <td>TwoTower_foraging</td>\n",
       "      <td>60</td>\n",
       "      <td>1</td>\n",
       "      <td>CA1</td>\n",
       "      <td>2019-02-10</td>\n",
       "      <td>G:\\My Drive\\VR_Data\\TwoTower\\4139265.3\\10_02_2...</td>\n",
       "      <td>None</td>\n",
       "      <td>G:\\My Drive\\2P_Data\\TwoTower\\4139265.3\\10_02_2...</td>\n",
       "      <td>G:\\My Drive\\2P_Data\\TwoTower\\4139265.3\\10_02_2...</td>\n",
       "    </tr>\n",
       "    <tr>\n",
       "      <th>1433</th>\n",
       "      <td>4139265.3</td>\n",
       "      <td>12_02_2019</td>\n",
       "      <td>2</td>\n",
       "      <td>TwoTower_foraging</td>\n",
       "      <td>90</td>\n",
       "      <td>1</td>\n",
       "      <td>CA1</td>\n",
       "      <td>2019-02-12</td>\n",
       "      <td>G:\\My Drive\\VR_Data\\TwoTower\\4139265.3\\12_02_2...</td>\n",
       "      <td>None</td>\n",
       "      <td>G:\\My Drive\\2P_Data\\TwoTower\\4139265.3\\12_02_2...</td>\n",
       "      <td>G:\\My Drive\\2P_Data\\TwoTower\\4139265.3\\12_02_2...</td>\n",
       "    </tr>\n",
       "    <tr>\n",
       "      <th>1455</th>\n",
       "      <td>4139265.3</td>\n",
       "      <td>15_02_2019</td>\n",
       "      <td>4</td>\n",
       "      <td>TwoTower_foraging</td>\n",
       "      <td>72</td>\n",
       "      <td>1</td>\n",
       "      <td>CA1</td>\n",
       "      <td>2019-02-15</td>\n",
       "      <td>G:\\My Drive\\VR_Data\\TwoTower\\4139265.3\\15_02_2...</td>\n",
       "      <td>None</td>\n",
       "      <td>G:\\My Drive\\2P_Data\\TwoTower\\4139265.3\\15_02_2...</td>\n",
       "      <td>G:\\My Drive\\2P_Data\\TwoTower\\4139265.3\\15_02_2...</td>\n",
       "    </tr>\n",
       "    <tr>\n",
       "      <th>1475</th>\n",
       "      <td>4139265.3</td>\n",
       "      <td>17_02_2019</td>\n",
       "      <td>2</td>\n",
       "      <td>TwoTower_foraging</td>\n",
       "      <td>81</td>\n",
       "      <td>1</td>\n",
       "      <td>CA1</td>\n",
       "      <td>2019-02-17</td>\n",
       "      <td>G:\\My Drive\\VR_Data\\TwoTower\\4139265.3\\17_02_2...</td>\n",
       "      <td>None</td>\n",
       "      <td>G:\\My Drive\\2P_Data\\TwoTower\\4139265.3\\17_02_2...</td>\n",
       "      <td>G:\\My Drive\\2P_Data\\TwoTower\\4139265.3\\17_02_2...</td>\n",
       "    </tr>\n",
       "    <tr>\n",
       "      <th>1495</th>\n",
       "      <td>4139265.3</td>\n",
       "      <td>19_02_2019</td>\n",
       "      <td>2</td>\n",
       "      <td>TwoTower_foraging</td>\n",
       "      <td>92</td>\n",
       "      <td>1</td>\n",
       "      <td>CA1</td>\n",
       "      <td>2019-02-19</td>\n",
       "      <td>G:\\My Drive\\VR_Data\\TwoTower\\4139265.3\\19_02_2...</td>\n",
       "      <td>None</td>\n",
       "      <td>G:\\My Drive\\2P_Data\\TwoTower\\4139265.3\\19_02_2...</td>\n",
       "      <td>G:\\My Drive\\2P_Data\\TwoTower\\4139265.3\\19_02_2...</td>\n",
       "    </tr>\n",
       "    <tr>\n",
       "      <th>1513</th>\n",
       "      <td>4139265.3</td>\n",
       "      <td>21_02_2019</td>\n",
       "      <td>2</td>\n",
       "      <td>TwoTower_foraging</td>\n",
       "      <td>90</td>\n",
       "      <td>1</td>\n",
       "      <td>CA1</td>\n",
       "      <td>2019-02-21</td>\n",
       "      <td>G:\\My Drive\\VR_Data\\TwoTower\\4139265.3\\21_02_2...</td>\n",
       "      <td>None</td>\n",
       "      <td>G:\\My Drive\\2P_Data\\TwoTower\\4139265.3\\21_02_2...</td>\n",
       "      <td>G:\\My Drive\\2P_Data\\TwoTower\\4139265.3\\21_02_2...</td>\n",
       "    </tr>\n",
       "    <tr>\n",
       "      <th>1522</th>\n",
       "      <td>4139265.3</td>\n",
       "      <td>22_02_2019</td>\n",
       "      <td>2</td>\n",
       "      <td>TwoTower_foraging</td>\n",
       "      <td>90</td>\n",
       "      <td>1</td>\n",
       "      <td>CA1</td>\n",
       "      <td>2019-02-22</td>\n",
       "      <td>G:\\My Drive\\VR_Data\\TwoTower\\4139265.3\\22_02_2...</td>\n",
       "      <td>None</td>\n",
       "      <td>G:\\My Drive\\2P_Data\\TwoTower\\4139265.3\\22_02_2...</td>\n",
       "      <td>G:\\My Drive\\2P_Data\\TwoTower\\4139265.3\\22_02_2...</td>\n",
       "    </tr>\n",
       "    <tr>\n",
       "      <th>1531</th>\n",
       "      <td>4139265.3</td>\n",
       "      <td>23_02_2019</td>\n",
       "      <td>2</td>\n",
       "      <td>TwoTower_foraging</td>\n",
       "      <td>93</td>\n",
       "      <td>1</td>\n",
       "      <td>CA1</td>\n",
       "      <td>2019-02-23</td>\n",
       "      <td>G:\\My Drive\\VR_Data\\TwoTower\\4139265.3\\23_02_2...</td>\n",
       "      <td>None</td>\n",
       "      <td>G:\\My Drive\\2P_Data\\TwoTower\\4139265.3\\23_02_2...</td>\n",
       "      <td>G:\\My Drive\\2P_Data\\TwoTower\\4139265.3\\23_02_2...</td>\n",
       "    </tr>\n",
       "    <tr>\n",
       "      <th>1537</th>\n",
       "      <td>4139265.3</td>\n",
       "      <td>24_02_2019</td>\n",
       "      <td>2</td>\n",
       "      <td>TwoTower_foraging</td>\n",
       "      <td>97</td>\n",
       "      <td>1</td>\n",
       "      <td>CA1</td>\n",
       "      <td>2019-02-24</td>\n",
       "      <td>G:\\My Drive\\VR_Data\\TwoTower\\4139265.3\\24_02_2...</td>\n",
       "      <td>None</td>\n",
       "      <td>G:\\My Drive\\2P_Data\\TwoTower\\4139265.3\\24_02_2...</td>\n",
       "      <td>G:\\My Drive\\2P_Data\\TwoTower\\4139265.3\\24_02_2...</td>\n",
       "    </tr>\n",
       "  </tbody>\n",
       "</table>\n",
       "</div>"
      ],
      "text/plain": [
       "      MouseName  DateFolder  SessionNumber              Track  RewardCount  \\\n",
       "1403  4139265.3  10_02_2019              1  TwoTower_foraging           60   \n",
       "1405  4139265.3  10_02_2019              3  TwoTower_foraging           60   \n",
       "1433  4139265.3  12_02_2019              2  TwoTower_foraging           90   \n",
       "1455  4139265.3  15_02_2019              4  TwoTower_foraging           72   \n",
       "1475  4139265.3  17_02_2019              2  TwoTower_foraging           81   \n",
       "1495  4139265.3  19_02_2019              2  TwoTower_foraging           92   \n",
       "1513  4139265.3  21_02_2019              2  TwoTower_foraging           90   \n",
       "1522  4139265.3  22_02_2019              2  TwoTower_foraging           90   \n",
       "1531  4139265.3  23_02_2019              2  TwoTower_foraging           93   \n",
       "1537  4139265.3  24_02_2019              2  TwoTower_foraging           97   \n",
       "\n",
       "      Imaging ImagingRegion   DateTime  \\\n",
       "1403        1           CA1 2019-02-10   \n",
       "1405        1           CA1 2019-02-10   \n",
       "1433        1           CA1 2019-02-12   \n",
       "1455        1           CA1 2019-02-15   \n",
       "1475        1           CA1 2019-02-17   \n",
       "1495        1           CA1 2019-02-19   \n",
       "1513        1           CA1 2019-02-21   \n",
       "1522        1           CA1 2019-02-22   \n",
       "1531        1           CA1 2019-02-23   \n",
       "1537        1           CA1 2019-02-24   \n",
       "\n",
       "                                              data file scanfile  \\\n",
       "1403  G:\\My Drive\\VR_Data\\TwoTower\\4139265.3\\10_02_2...     None   \n",
       "1405  G:\\My Drive\\VR_Data\\TwoTower\\4139265.3\\10_02_2...     None   \n",
       "1433  G:\\My Drive\\VR_Data\\TwoTower\\4139265.3\\12_02_2...     None   \n",
       "1455  G:\\My Drive\\VR_Data\\TwoTower\\4139265.3\\15_02_2...     None   \n",
       "1475  G:\\My Drive\\VR_Data\\TwoTower\\4139265.3\\17_02_2...     None   \n",
       "1495  G:\\My Drive\\VR_Data\\TwoTower\\4139265.3\\19_02_2...     None   \n",
       "1513  G:\\My Drive\\VR_Data\\TwoTower\\4139265.3\\21_02_2...     None   \n",
       "1522  G:\\My Drive\\VR_Data\\TwoTower\\4139265.3\\22_02_2...     None   \n",
       "1531  G:\\My Drive\\VR_Data\\TwoTower\\4139265.3\\23_02_2...     None   \n",
       "1537  G:\\My Drive\\VR_Data\\TwoTower\\4139265.3\\24_02_2...     None   \n",
       "\n",
       "                                                scanmat  \\\n",
       "1403  G:\\My Drive\\2P_Data\\TwoTower\\4139265.3\\10_02_2...   \n",
       "1405  G:\\My Drive\\2P_Data\\TwoTower\\4139265.3\\10_02_2...   \n",
       "1433  G:\\My Drive\\2P_Data\\TwoTower\\4139265.3\\12_02_2...   \n",
       "1455  G:\\My Drive\\2P_Data\\TwoTower\\4139265.3\\15_02_2...   \n",
       "1475  G:\\My Drive\\2P_Data\\TwoTower\\4139265.3\\17_02_2...   \n",
       "1495  G:\\My Drive\\2P_Data\\TwoTower\\4139265.3\\19_02_2...   \n",
       "1513  G:\\My Drive\\2P_Data\\TwoTower\\4139265.3\\21_02_2...   \n",
       "1522  G:\\My Drive\\2P_Data\\TwoTower\\4139265.3\\22_02_2...   \n",
       "1531  G:\\My Drive\\2P_Data\\TwoTower\\4139265.3\\23_02_2...   \n",
       "1537  G:\\My Drive\\2P_Data\\TwoTower\\4139265.3\\24_02_2...   \n",
       "\n",
       "                                              s2pfolder  \n",
       "1403  G:\\My Drive\\2P_Data\\TwoTower\\4139265.3\\10_02_2...  \n",
       "1405  G:\\My Drive\\2P_Data\\TwoTower\\4139265.3\\10_02_2...  \n",
       "1433  G:\\My Drive\\2P_Data\\TwoTower\\4139265.3\\12_02_2...  \n",
       "1455  G:\\My Drive\\2P_Data\\TwoTower\\4139265.3\\15_02_2...  \n",
       "1475  G:\\My Drive\\2P_Data\\TwoTower\\4139265.3\\17_02_2...  \n",
       "1495  G:\\My Drive\\2P_Data\\TwoTower\\4139265.3\\19_02_2...  \n",
       "1513  G:\\My Drive\\2P_Data\\TwoTower\\4139265.3\\21_02_2...  \n",
       "1522  G:\\My Drive\\2P_Data\\TwoTower\\4139265.3\\22_02_2...  \n",
       "1531  G:\\My Drive\\2P_Data\\TwoTower\\4139265.3\\23_02_2...  \n",
       "1537  G:\\My Drive\\2P_Data\\TwoTower\\4139265.3\\24_02_2...  "
      ]
     },
     "execution_count": 2,
     "metadata": {},
     "output_type": "execute_result"
    }
   ],
   "source": [
    "# load session\n",
    "mouse = '4139265.3'\n",
    "df = pp.load_session_db()\n",
    "\n",
    "\n",
    "#df = df[df['RewardCount']>30]\n",
    "df = df[df['Imaging']==1]\n",
    "df = df.sort_values(['MouseName','DateTime','SessionNumber'])\n",
    "\n",
    "df_mouse = df[df['MouseName'].str.match(mouse)]\n",
    "df_mouse = df_mouse[df_mouse['Track'].str.match('TwoTower_noTimeout') | df_mouse['Track'].str.match('TwoTower_Timeout') | df_mouse['Track'].str.match('TwoTower_foraging')]\n",
    "df_mouse"
   ]
  },
  {
   "cell_type": "code",
   "execution_count": 24,
   "metadata": {},
   "outputs": [
    {
     "name": "stdout",
     "output_type": "stream",
     "text": [
      "num aberrant ttls 0.0\n",
      "32038 (32038,) (32038, 21) 105022\n"
     ]
    },
    {
     "name": "stderr",
     "output_type": "stream",
     "text": [
      "C:\\Users\\mplitt\\Anaconda3\\lib\\site-packages\\pandas\\core\\frame.py:4034: SettingWithCopyWarning: \n",
      "A value is trying to be set on a copy of a slice from a DataFrame\n",
      "\n",
      "See the caveats in the documentation: http://pandas.pydata.org/pandas-docs/stable/indexing.html#indexing-view-versus-copy\n",
      "  downcast=downcast, **kwargs)\n"
     ]
    },
    {
     "name": "stdout",
     "output_type": "stream",
     "text": [
      "frame diff 0\n"
     ]
    }
   ],
   "source": [
    "VRDat,C, S, A = pp.load_scan_sess(df_mouse.iloc[-1])\n",
    "trial_info, tstart_inds, teleport_inds = u.by_trial_info(VRDat)\n"
   ]
  },
  {
   "cell_type": "code",
   "execution_count": 25,
   "metadata": {},
   "outputs": [],
   "source": [
    "train_inds = (VRDat['pos']>0) & (VRDat['pos']<450)\n",
    "inds0 = (VRDat['morph']==0) & (VRDat['pos']>0)\n",
    "inds1 = (VRDat['morph']==1) & (VRDat['pos']>0)"
   ]
  },
  {
   "cell_type": "code",
   "execution_count": 26,
   "metadata": {},
   "outputs": [],
   "source": [
    "effMorph =VRDat.morph._values+VRDat.bckgndJitter._values + VRDat.wallJitter._values\n",
    "effMorph = (effMorph-np.amin(effMorph))/(np.amax(effMorph)-np.amin(effMorph)+.01)+.001"
   ]
  },
  {
   "cell_type": "code",
   "execution_count": 27,
   "metadata": {},
   "outputs": [
    {
     "name": "stdout",
     "output_type": "stream",
     "text": [
      "(32038, 1634)\n"
     ]
    }
   ],
   "source": [
    "Cz = (C-np.amin(C,axis=0).reshape([1,-1]))/(np.amax(C,axis=0).reshape([1,-1])-np.amin(C,axis=0).reshape([1,-1])+1)*100. + .001\n",
    "print(Cz.shape)"
   ]
  },
  {
   "cell_type": "code",
   "execution_count": 28,
   "metadata": {},
   "outputs": [
    {
     "name": "stdout",
     "output_type": "stream",
     "text": [
      "(7,)\n"
     ]
    }
   ],
   "source": [
    "encmdl = edse.EncodingModel()"
   ]
  },
  {
   "cell_type": "code",
   "execution_count": 29,
   "metadata": {},
   "outputs": [],
   "source": [
    "spl_basis = encmdl.make_design_matrix(VRDat.pos._values[train_inds],effMorph[train_inds],Cz[train_inds,:],100)"
   ]
  },
  {
   "cell_type": "code",
   "execution_count": 30,
   "metadata": {},
   "outputs": [],
   "source": [
    "encmdl.fit_linear(spl_basis,Cz[train_inds,100])"
   ]
  },
  {
   "cell_type": "code",
   "execution_count": 31,
   "metadata": {},
   "outputs": [],
   "source": [
    "Y = encmdl.predict_linear(spl_basis)"
   ]
  },
  {
   "cell_type": "code",
   "execution_count": 33,
   "metadata": {},
   "outputs": [
    {
     "data": {
      "image/png": "[encoded data removed]",
      "text/plain": [
       "<Figure size 432x288 with 3 Axes>"
      ]
     },
     "metadata": {
      "needs_background": "light"
     },
     "output_type": "display_data"
    }
   ],
   "source": [
    "#cell = 118\n",
    "x = np.linspace(0,450,num=100)\n",
    "y = np.linspace(0,1,num = 100)\n",
    "X,Y = np.meshgrid(x,y)\n",
    "# for c in range(0,Cz.shape[1],100):\n",
    "for c in range(100,101):\n",
    "    cell = c\n",
    "    pdf0 = bd.empirical_density(VRDat['pos'].loc[inds0]._values,Cz[inds0,cell])\n",
    "    pdf1 = bd.empirical_density(VRDat['pos'].loc[inds1]._values,Cz[inds1,cell])\n",
    "    \n",
    "    \n",
    "    PXY0 = np.zeros([x.size,y.size])\n",
    "    PXY1 = np.zeros([x.size,y.size])\n",
    "    for i,xx in enumerate(x.tolist()):\n",
    "        for j,yy in enumerate(y.tolist()):\n",
    "            PXY0[i,j]=pdf0.Likelihood(xx,yy)\n",
    "            PXY1[i,j]=pdf1.Likelihood(xx,yy)\n",
    "    \n",
    "    #f = plt.figure(figsize=[10,10])\n",
    "    #ax = f.add_subplot(121,projection='3d')\n",
    "    #ax.plot_surface(X,Y,PXY0.T,cmap='viridis')\n",
    "    #ax.view_init(30,20)\n",
    "    #ax.set_zlim([0,.2])\n",
    "    \n",
    "    #aax = f.add_subplot(122,projection='3d')\n",
    "    #aax.plot_surface(X,Y,PXY1.T,cmap='viridis')\n",
    "    \n",
    "    #aax.view_init(30,40)\n",
    "    \n",
    "    #f, ax = plt.subplots()\n",
    "    #ax.plot(S[:,c])\n",
    "    #aax.set_zlim([0,.2])\n",
    "    f,ax = plt.subplots(1,3)\n",
    "    #ax[0,0].imshow(pdf0.z.T[::-1,:],aspect='auto')\n",
    "    ax[0].imshow(PXY0.T[::-1,:],aspect='auto')\n",
    "    #ax[1,0].imshow(pdf1.z.T[::-1,:],aspect='auto')\n",
    "    ax[1].imshow(PXY1.T[::-1,:],aspect='auto')\n",
    "    ax[2].imshow(PXY0.T[::-1,:]-PXY1.T[::-1,:],aspect='auto',cmap='cool')\n",
    "    #print(PXY0.sum(axis=1)/(18./20),PXY1.sum(axis=1))"
   ]
  },
  {
   "cell_type": "code",
   "execution_count": 17,
   "metadata": {},
   "outputs": [
    {
     "data": {
      "image/png": "[encoded data removed]",
      "text/plain": [
       "<Figure size 432x288 with 1 Axes>"
      ]
     },
     "metadata": {
      "needs_background": "light"
     },
     "output_type": "display_data"
    }
   ],
   "source": []
  },
  {
   "cell_type": "code",
   "execution_count": 50,
   "metadata": {},
   "outputs": [],
   "source": [
    "x = np.linspace(0,450)\n",
    "y = np.linspace(-3,15)\n",
    "xx,yy = np.meshgrid(x,y)"
   ]
  },
  {
   "cell_type": "code",
   "execution_count": 51,
   "metadata": {},
   "outputs": [
    {
     "name": "stdout",
     "output_type": "stream",
     "text": [
      "(50, 50)\n"
     ]
    }
   ],
   "source": [
    "print(xx.shape)"
   ]
  },
  {
   "cell_type": "code",
   "execution_count": 151,
   "metadata": {},
   "outputs": [
    {
     "data": {
      "text/plain": [
       "0.18365446328092436"
      ]
     },
     "execution_count": 151,
     "metadata": {},
     "output_type": "execute_result"
    }
   ],
   "source": [
    "C.shape[0]**(-1./6)"
   ]
  },
  {
   "cell_type": "code",
   "execution_count": null,
   "metadata": {},
   "outputs": [],
   "source": []
  }
 ],
 "metadata": {
  "kernelspec": {
   "display_name": "Python 3",
   "language": "python",
   "name": "python3"
  },
  "language_info": {
   "codemirror_mode": {
    "name": "ipython",
    "version": 3
   },
   "file_extension": ".py",
   "mimetype": "text/x-python",
   "name": "python",
   "nbconvert_exporter": "python",
   "pygments_lexer": "ipython3",
   "version": "3.7.3"
  }
 },
 "nbformat": 4,
 "nbformat_minor": 2
}
