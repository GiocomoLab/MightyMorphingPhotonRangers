{
 "cells": [
  {
   "cell_type": "code",
   "execution_count": 1,
   "metadata": {},
   "outputs": [],
   "source": [
    "import os\n",
    "os.sys.path.append(\"C:\\\\Users\\mplitt\\MightyMorphingPhotonRangers\")\n",
    "import utilities as u\n",
    "import preprocessing as pp\n",
    "from SplineEncodingModel import PopDecodingCV as pdcv\n",
    "\n",
    "%load_ext autoreload\n",
    "%autoreload 2\n",
    "\n"
   ]
  },
  {
   "cell_type": "code",
   "execution_count": 2,
   "metadata": {},
   "outputs": [],
   "source": [
    "morph_rare = ['4139265.3','4139265.4','4139265.5','4222175.0']\n",
    "morph_fam = ['4222153.2','4222154.1','4222153.1','4222157.3','4222174.1']\n",
    "\n",
    "fam_dec = ['4139278.2','4222157.4']\n",
    "rare_dec  = ['4139224.2','4139224.3','4139224.5','4139219.2','4139219.3','4139251.1','4139260.1','4139261.2']"
   ]
  },
  {
   "cell_type": "code",
   "execution_count": 4,
   "metadata": {},
   "outputs": [
    {
     "name": "stdout",
     "output_type": "stream",
     "text": [
      "['4139265.3', '4139265.4', '4139265.5', '4222175.0', '4222153.2', '4222154.1', '4222153.1', '4222157.3', '4222174.1']\n"
     ]
    }
   ],
   "source": [
    "print(morph_rare+morph_fam)"
   ]
  },
  {
   "cell_type": "code",
   "execution_count": 3,
   "metadata": {},
   "outputs": [
    {
     "name": "stdout",
     "output_type": "stream",
     "text": [
      "G:\\My Drive\\VR_Data\\TwoTower\\behavior.sqlite\n",
      "G:\\My Drive\\VR_Data\\TwoTower\\4222174.0\\30_05_2019\\RuningTraining_1.sqlite\n",
      "file doesn't exist, errors to come!!!\n"
     ]
    }
   ],
   "source": [
    "\n",
    "df = pp.load_session_db()\n",
    "\n",
    "\n",
    "df = df[df['RewardCount']>30]\n",
    "df = df[df['Imaging']==1]\n",
    "df = df.sort_values(['MouseName','DateTime','SessionNumber'])\n",
    "tracks = 'TwoTower_noTimeout|TwoTower_Timeout|Reversal_noTimeout|Reversal|TwoTower_foraging'\n",
    "df = df[df['Track'].str.contains(tracks,regex=True)]\n",
    "\n"
   ]
  },
  {
   "cell_type": "code",
   "execution_count": null,
   "metadata": {},
   "outputs": [
    {
     "name": "stdout",
     "output_type": "stream",
     "text": [
      "MouseName                                                4139224.2\n",
      "DateFolder                                              17_10_2018\n",
      "SessionNumber                                                    1\n",
      "Track                                           TwoTower_noTimeout\n",
      "RewardCount                                                     60\n",
      "Imaging                                                          1\n",
      "ImagingRegion                                                  CA1\n",
      "DateTime                                       2018-10-17 00:00:00\n",
      "data file        G:\\My Drive\\VR_Data\\TwoTower\\4139224.2\\17_10_2...\n",
      "scanfile         G:\\My Drive\\2P_Data\\TwoTower\\4139224.2\\17_10_2...\n",
      "scanmat          G:\\My Drive\\2P_Data\\TwoTower\\4139224.2\\17_10_2...\n",
      "s2pfolder        G:\\My Drive\\2P_Data\\TwoTower\\4139224.2\\17_10_2...\n",
      "Name: 787, dtype: object\n",
      "num aberrant ttls 0.0\n",
      "21152 (21152,) (21152, 20) 66872\n"
     ]
    },
    {
     "name": "stderr",
     "output_type": "stream",
     "text": [
      "C:\\Users\\mplitt\\Anaconda3\\lib\\site-packages\\pandas\\core\\frame.py:4034: SettingWithCopyWarning: \n",
      "A value is trying to be set on a copy of a slice from a DataFrame\n",
      "\n",
      "See the caveats in the documentation: http://pandas.pydata.org/pandas-docs/stable/indexing.html#indexing-view-versus-copy\n",
      "  downcast=downcast, **kwargs)\n"
     ]
    },
    {
     "name": "stdout",
     "output_type": "stream",
     "text": [
      "frame diff 0\n",
      "training fold 0\n",
      "training fold 1\n",
      "training fold 2\n",
      "4 cells included in decoding model\n",
      "start fold  0\n",
      "decoding fold 0\n",
      "\t total timepoints = 5831\n",
      "\t timepoint 0\n",
      "\t timepoint 1000\n",
      "\t timepoint 2000\n",
      "\t timepoint 3000\n",
      "\t timepoint 4000\n",
      "\t timepoint 5000\n",
      "start fold  1\n",
      "decoding fold 1\n",
      "\t total timepoints = 6025\n",
      "\t timepoint 0\n",
      "\t timepoint 1000\n",
      "\t timepoint 2000\n",
      "\t timepoint 3000\n",
      "\t timepoint 4000\n",
      "\t timepoint 5000\n",
      "\t timepoint 6000\n",
      "start fold  2\n",
      "decoding fold 2\n",
      "\t total timepoints = 5967\n",
      "\t timepoint 0\n",
      "\t timepoint 1000\n",
      "\t timepoint 2000\n",
      "\t timepoint 3000\n",
      "\t timepoint 4000\n",
      "\t timepoint 5000\n"
     ]
    },
    {
     "name": "stderr",
     "output_type": "stream",
     "text": [
      "C:\\Users\\mplitt\\Anaconda3\\lib\\site-packages\\matplotlib\\pyplot.py:514: RuntimeWarning: More than 20 figures have been opened. Figures created through the pyplot interface (`matplotlib.pyplot.figure`) are retained until explicitly closed and may consume too much memory. (To control this warning, see the rcParam `figure.max_open_warning`).\n",
      "  max_open_warning, RuntimeWarning)\n"
     ]
    },
    {
     "name": "stdout",
     "output_type": "stream",
     "text": [
      "MouseName                                                4139224.2\n",
      "DateFolder                                              18_10_2018\n",
      "SessionNumber                                                    2\n",
      "Track                                           TwoTower_noTimeout\n",
      "RewardCount                                                     58\n",
      "Imaging                                                          1\n",
      "ImagingRegion                                                  CA1\n",
      "DateTime                                       2018-10-18 00:00:00\n",
      "data file        G:\\My Drive\\VR_Data\\TwoTower\\4139224.2\\18_10_2...\n",
      "scanfile         G:\\My Drive\\2P_Data\\TwoTower\\4139224.2\\18_10_2...\n",
      "scanmat          G:\\My Drive\\2P_Data\\TwoTower\\4139224.2\\18_10_2...\n",
      "s2pfolder        G:\\My Drive\\2P_Data\\TwoTower\\4139224.2\\18_10_2...\n",
      "Name: 802, dtype: object\n",
      "num aberrant ttls 0.0\n",
      "25965 (25965,) (25965, 20) 80655\n"
     ]
    },
    {
     "name": "stderr",
     "output_type": "stream",
     "text": [
      "C:\\Users\\mplitt\\Anaconda3\\lib\\site-packages\\pandas\\core\\frame.py:4034: SettingWithCopyWarning: \n",
      "A value is trying to be set on a copy of a slice from a DataFrame\n",
      "\n",
      "See the caveats in the documentation: http://pandas.pydata.org/pandas-docs/stable/indexing.html#indexing-view-versus-copy\n",
      "  downcast=downcast, **kwargs)\n"
     ]
    },
    {
     "name": "stdout",
     "output_type": "stream",
     "text": [
      "frame diff 0\n",
      "training fold 0\n",
      "training fold 1\n",
      "training fold 2\n",
      "99 cells included in decoding model\n",
      "start fold  0\n",
      "decoding fold 0\n",
      "\t total timepoints = 7708\n",
      "\t timepoint 0\n",
      "\t timepoint 1000\n",
      "\t timepoint 2000\n",
      "\t timepoint 3000\n",
      "\t timepoint 4000\n",
      "\t timepoint 5000\n",
      "\t timepoint 6000\n",
      "\t timepoint 7000\n",
      "start fold  1\n",
      "decoding fold 1\n",
      "\t total timepoints = 7372\n",
      "\t timepoint 0\n",
      "\t timepoint 1000\n",
      "\t timepoint 2000\n",
      "\t timepoint 3000\n",
      "\t timepoint 4000\n",
      "\t timepoint 5000\n",
      "\t timepoint 6000\n",
      "\t timepoint 7000\n",
      "start fold  2\n",
      "decoding fold 2\n",
      "\t total timepoints = 7381\n",
      "\t timepoint 0\n",
      "\t timepoint 1000\n",
      "\t timepoint 2000\n",
      "\t timepoint 3000\n",
      "\t timepoint 4000\n",
      "\t timepoint 5000\n",
      "\t timepoint 6000\n",
      "\t timepoint 7000\n"
     ]
    },
    {
     "name": "stderr",
     "output_type": "stream",
     "text": [
      "C:\\Users\\mplitt\\Anaconda3\\lib\\site-packages\\matplotlib\\pyplot.py:514: RuntimeWarning: More than 20 figures have been opened. Figures created through the pyplot interface (`matplotlib.pyplot.figure`) are retained until explicitly closed and may consume too much memory. (To control this warning, see the rcParam `figure.max_open_warning`).\n",
      "  max_open_warning, RuntimeWarning)\n"
     ]
    },
    {
     "name": "stdout",
     "output_type": "stream",
     "text": [
      "MouseName                                                4139224.2\n",
      "DateFolder                                              19_10_2018\n",
      "SessionNumber                                                    2\n",
      "Track                                           TwoTower_noTimeout\n",
      "RewardCount                                                     60\n",
      "Imaging                                                          1\n",
      "ImagingRegion                                                  CA1\n",
      "DateTime                                       2018-10-19 00:00:00\n",
      "data file        G:\\My Drive\\VR_Data\\TwoTower\\4139224.2\\19_10_2...\n",
      "scanfile         G:\\My Drive\\2P_Data\\TwoTower\\4139224.2\\19_10_2...\n",
      "scanmat          G:\\My Drive\\2P_Data\\TwoTower\\4139224.2\\19_10_2...\n",
      "s2pfolder        G:\\My Drive\\2P_Data\\TwoTower\\4139224.2\\19_10_2...\n",
      "Name: 826, dtype: object\n",
      "num aberrant ttls 0.0\n",
      "17637 (17637,) (17637, 20) 53532\n"
     ]
    },
    {
     "name": "stderr",
     "output_type": "stream",
     "text": [
      "C:\\Users\\mplitt\\Anaconda3\\lib\\site-packages\\pandas\\core\\frame.py:4034: SettingWithCopyWarning: \n",
      "A value is trying to be set on a copy of a slice from a DataFrame\n",
      "\n",
      "See the caveats in the documentation: http://pandas.pydata.org/pandas-docs/stable/indexing.html#indexing-view-versus-copy\n",
      "  downcast=downcast, **kwargs)\n"
     ]
    },
    {
     "name": "stdout",
     "output_type": "stream",
     "text": [
      "frame diff 0\n",
      "training fold 0\n",
      "training fold 1\n",
      "training fold 2\n",
      "96 cells included in decoding model\n",
      "start fold  0\n",
      "decoding fold 0\n",
      "\t total timepoints = 5113\n",
      "\t timepoint 0\n",
      "\t timepoint 1000\n",
      "\t timepoint 2000\n",
      "\t timepoint 3000\n",
      "\t timepoint 4000\n",
      "\t timepoint 5000\n",
      "start fold  1\n",
      "decoding fold 1\n",
      "\t total timepoints = 5306\n",
      "\t timepoint 0\n",
      "\t timepoint 1000\n",
      "\t timepoint 2000\n",
      "\t timepoint 3000\n",
      "\t timepoint 4000\n",
      "\t timepoint 5000\n",
      "start fold  2\n",
      "decoding fold 2\n",
      "\t total timepoints = 5040\n",
      "\t timepoint 0\n",
      "\t timepoint 1000\n",
      "\t timepoint 2000\n",
      "\t timepoint 3000\n",
      "\t timepoint 4000\n",
      "\t timepoint 5000\n"
     ]
    },
    {
     "name": "stderr",
     "output_type": "stream",
     "text": [
      "C:\\Users\\mplitt\\Anaconda3\\lib\\site-packages\\matplotlib\\pyplot.py:514: RuntimeWarning: More than 20 figures have been opened. Figures created through the pyplot interface (`matplotlib.pyplot.figure`) are retained until explicitly closed and may consume too much memory. (To control this warning, see the rcParam `figure.max_open_warning`).\n",
      "  max_open_warning, RuntimeWarning)\n"
     ]
    },
    {
     "name": "stdout",
     "output_type": "stream",
     "text": [
      "MouseName                                                4139224.2\n",
      "DateFolder                                              22_10_2018\n",
      "SessionNumber                                                    1\n",
      "Track                                             TwoTower_Timeout\n",
      "RewardCount                                                     40\n",
      "Imaging                                                          1\n",
      "ImagingRegion                                                  CA1\n",
      "DateTime                                       2018-10-22 00:00:00\n",
      "data file        G:\\My Drive\\VR_Data\\TwoTower\\4139224.2\\22_10_2...\n",
      "scanfile         G:\\My Drive\\2P_Data\\TwoTower\\4139224.2\\22_10_2...\n",
      "scanmat          G:\\My Drive\\2P_Data\\TwoTower\\4139224.2\\22_10_2...\n",
      "s2pfolder        G:\\My Drive\\2P_Data\\TwoTower\\4139224.2\\22_10_2...\n",
      "Name: 859, dtype: object\n",
      "num aberrant ttls 0.0\n",
      "17800 (17800,) (17800, 20) 55249\n"
     ]
    },
    {
     "name": "stderr",
     "output_type": "stream",
     "text": [
      "C:\\Users\\mplitt\\Anaconda3\\lib\\site-packages\\pandas\\core\\frame.py:4034: SettingWithCopyWarning: \n",
      "A value is trying to be set on a copy of a slice from a DataFrame\n",
      "\n",
      "See the caveats in the documentation: http://pandas.pydata.org/pandas-docs/stable/indexing.html#indexing-view-versus-copy\n",
      "  downcast=downcast, **kwargs)\n"
     ]
    },
    {
     "name": "stdout",
     "output_type": "stream",
     "text": [
      "frame diff 0\n"
     ]
    },
    {
     "name": "stderr",
     "output_type": "stream",
     "text": [
      "C:\\Users\\mplitt\\MightyMorphingPhotonRangers\\utilities.py:324: RuntimeWarning: Mean of empty slice\n",
      "  zone1_speed[i] = np.nanmean(sub_frame.loc[zone1_mask,'speed'])\n"
     ]
    },
    {
     "name": "stdout",
     "output_type": "stream",
     "text": [
      "training fold 0\n",
      "training fold 1\n",
      "training fold 2\n",
      "163 cells included in decoding model\n",
      "start fold  0\n",
      "decoding fold 0\n",
      "\t total timepoints = 4144\n",
      "\t timepoint 0\n",
      "\t timepoint 1000\n",
      "\t timepoint 2000\n",
      "\t timepoint 3000\n",
      "\t timepoint 4000\n",
      "start fold  1\n",
      "decoding fold 1\n",
      "\t total timepoints = 4024\n",
      "\t timepoint 0\n",
      "\t timepoint 1000\n",
      "\t timepoint 2000\n",
      "\t timepoint 3000\n",
      "\t timepoint 4000\n",
      "start fold  2\n",
      "decoding fold 2\n",
      "\t total timepoints = 3879\n",
      "\t timepoint 0\n",
      "\t timepoint 1000\n",
      "\t timepoint 2000\n",
      "\t timepoint 3000\n"
     ]
    },
    {
     "name": "stderr",
     "output_type": "stream",
     "text": [
      "C:\\Users\\mplitt\\MightyMorphingPhotonRangers\\utilities.py:324: RuntimeWarning: Mean of empty slice\n",
      "  zone1_speed[i] = np.nanmean(sub_frame.loc[zone1_mask,'speed'])\n",
      "C:\\Users\\mplitt\\Anaconda3\\lib\\site-packages\\matplotlib\\pyplot.py:514: RuntimeWarning: More than 20 figures have been opened. Figures created through the pyplot interface (`matplotlib.pyplot.figure`) are retained until explicitly closed and may consume too much memory. (To control this warning, see the rcParam `figure.max_open_warning`).\n",
      "  max_open_warning, RuntimeWarning)\n"
     ]
    },
    {
     "name": "stdout",
     "output_type": "stream",
     "text": [
      "MouseName                                                4139224.2\n",
      "DateFolder                                              25_10_2018\n",
      "SessionNumber                                                    1\n",
      "Track                                             TwoTower_Timeout\n",
      "RewardCount                                                     57\n",
      "Imaging                                                          1\n",
      "ImagingRegion                                                  CA1\n",
      "DateTime                                       2018-10-25 00:00:00\n",
      "data file        G:\\My Drive\\VR_Data\\TwoTower\\4139224.2\\25_10_2...\n",
      "scanfile         G:\\My Drive\\2P_Data\\TwoTower\\4139224.2\\25_10_2...\n",
      "scanmat          G:\\My Drive\\2P_Data\\TwoTower\\4139224.2\\25_10_2...\n",
      "s2pfolder        G:\\My Drive\\2P_Data\\TwoTower\\4139224.2\\25_10_2...\n",
      "Name: 906, dtype: object\n",
      "num aberrant ttls 0.0\n",
      "21795 (21795,) (21795, 20) 67334\n"
     ]
    },
    {
     "name": "stderr",
     "output_type": "stream",
     "text": [
      "C:\\Users\\mplitt\\Anaconda3\\lib\\site-packages\\pandas\\core\\frame.py:4034: SettingWithCopyWarning: \n",
      "A value is trying to be set on a copy of a slice from a DataFrame\n",
      "\n",
      "See the caveats in the documentation: http://pandas.pydata.org/pandas-docs/stable/indexing.html#indexing-view-versus-copy\n",
      "  downcast=downcast, **kwargs)\n"
     ]
    },
    {
     "name": "stdout",
     "output_type": "stream",
     "text": [
      "frame diff 0\n",
      "training fold 0\n",
      "training fold 1\n",
      "training fold 2\n",
      "234 cells included in decoding model\n",
      "start fold  0\n",
      "decoding fold 0\n",
      "\t total timepoints = 4778\n",
      "\t timepoint 0\n",
      "\t timepoint 1000\n",
      "\t timepoint 2000\n",
      "\t timepoint 3000\n",
      "\t timepoint 4000\n",
      "start fold  1\n",
      "decoding fold 1\n",
      "\t total timepoints = 5072\n",
      "\t timepoint 0\n",
      "\t timepoint 1000\n",
      "\t timepoint 2000\n",
      "\t timepoint 3000\n",
      "\t timepoint 4000\n",
      "\t timepoint 5000\n",
      "start fold  2\n",
      "decoding fold 2\n",
      "\t total timepoints = 4865\n",
      "\t timepoint 0\n",
      "\t timepoint 1000\n",
      "\t timepoint 2000\n",
      "\t timepoint 3000\n",
      "\t timepoint 4000\n"
     ]
    },
    {
     "name": "stderr",
     "output_type": "stream",
     "text": [
      "C:\\Users\\mplitt\\MightyMorphingPhotonRangers\\utilities.py:324: RuntimeWarning: Mean of empty slice\n",
      "  zone1_speed[i] = np.nanmean(sub_frame.loc[zone1_mask,'speed'])\n",
      "C:\\Users\\mplitt\\Anaconda3\\lib\\site-packages\\matplotlib\\pyplot.py:514: RuntimeWarning: More than 20 figures have been opened. Figures created through the pyplot interface (`matplotlib.pyplot.figure`) are retained until explicitly closed and may consume too much memory. (To control this warning, see the rcParam `figure.max_open_warning`).\n",
      "  max_open_warning, RuntimeWarning)\n"
     ]
    },
    {
     "name": "stdout",
     "output_type": "stream",
     "text": [
      "MouseName                                                4139224.2\n",
      "DateFolder                                              27_10_2018\n",
      "SessionNumber                                                    3\n",
      "Track                                             TwoTower_Timeout\n",
      "RewardCount                                                     68\n",
      "Imaging                                                          1\n",
      "ImagingRegion                                                  CA1\n",
      "DateTime                                       2018-10-27 00:00:00\n",
      "data file        G:\\My Drive\\VR_Data\\TwoTower\\4139224.2\\27_10_2...\n",
      "scanfile         G:\\My Drive\\2P_Data\\TwoTower\\4139224.2\\27_10_2...\n",
      "scanmat          G:\\My Drive\\2P_Data\\TwoTower\\4139224.2\\27_10_2...\n",
      "s2pfolder        G:\\My Drive\\2P_Data\\TwoTower\\4139224.2\\27_10_2...\n",
      "Name: 943, dtype: object\n",
      "num aberrant ttls 0.0\n",
      "26741 (26741,) (26741, 20) 83632\n"
     ]
    },
    {
     "name": "stderr",
     "output_type": "stream",
     "text": [
      "C:\\Users\\mplitt\\Anaconda3\\lib\\site-packages\\pandas\\core\\frame.py:4034: SettingWithCopyWarning: \n",
      "A value is trying to be set on a copy of a slice from a DataFrame\n",
      "\n",
      "See the caveats in the documentation: http://pandas.pydata.org/pandas-docs/stable/indexing.html#indexing-view-versus-copy\n",
      "  downcast=downcast, **kwargs)\n"
     ]
    },
    {
     "name": "stdout",
     "output_type": "stream",
     "text": [
      "frame diff 0\n"
     ]
    },
    {
     "name": "stderr",
     "output_type": "stream",
     "text": [
      "C:\\Users\\mplitt\\MightyMorphingPhotonRangers\\utilities.py:323: RuntimeWarning: Mean of empty slice\n",
      "  zone0_speed[i]=np.nanmean(sub_frame.loc[zone0_mask,'speed'])\n"
     ]
    },
    {
     "name": "stdout",
     "output_type": "stream",
     "text": [
      "training fold 0\n",
      "training fold 1\n",
      "training fold 2\n",
      "249 cells included in decoding model\n",
      "start fold  0\n",
      "decoding fold 0\n",
      "\t total timepoints = 7135\n",
      "\t timepoint 0\n",
      "\t timepoint 1000\n",
      "\t timepoint 2000\n",
      "\t timepoint 3000\n",
      "\t timepoint 4000\n",
      "\t timepoint 5000\n",
      "\t timepoint 6000\n",
      "\t timepoint 7000\n",
      "start fold  1\n",
      "decoding fold 1\n",
      "\t total timepoints = 6878\n",
      "\t timepoint 0\n",
      "\t timepoint 1000\n",
      "\t timepoint 2000\n",
      "\t timepoint 3000\n",
      "\t timepoint 4000\n",
      "\t timepoint 5000\n",
      "\t timepoint 6000\n",
      "start fold  2\n",
      "decoding fold 2\n",
      "\t total timepoints = 6670\n",
      "\t timepoint 0\n",
      "\t timepoint 1000\n",
      "\t timepoint 2000\n",
      "\t timepoint 3000\n",
      "\t timepoint 4000\n",
      "\t timepoint 5000\n",
      "\t timepoint 6000\n"
     ]
    },
    {
     "name": "stderr",
     "output_type": "stream",
     "text": [
      "C:\\Users\\mplitt\\MightyMorphingPhotonRangers\\utilities.py:324: RuntimeWarning: Mean of empty slice\n",
      "  zone1_speed[i] = np.nanmean(sub_frame.loc[zone1_mask,'speed'])\n",
      "C:\\Users\\mplitt\\MightyMorphingPhotonRangers\\utilities.py:323: RuntimeWarning: Mean of empty slice\n",
      "  zone0_speed[i]=np.nanmean(sub_frame.loc[zone0_mask,'speed'])\n",
      "C:\\Users\\mplitt\\Anaconda3\\lib\\site-packages\\matplotlib\\pyplot.py:514: RuntimeWarning: More than 20 figures have been opened. Figures created through the pyplot interface (`matplotlib.pyplot.figure`) are retained until explicitly closed and may consume too much memory. (To control this warning, see the rcParam `figure.max_open_warning`).\n",
      "  max_open_warning, RuntimeWarning)\n"
     ]
    },
    {
     "name": "stdout",
     "output_type": "stream",
     "text": [
      "MouseName                                                4139224.2\n",
      "DateFolder                                              29_10_2018\n",
      "SessionNumber                                                    2\n",
      "Track                                             TwoTower_Timeout\n",
      "RewardCount                                                     60\n",
      "Imaging                                                          1\n",
      "ImagingRegion                                                  CA1\n",
      "DateTime                                       2018-10-29 00:00:00\n",
      "data file        G:\\My Drive\\VR_Data\\TwoTower\\4139224.2\\29_10_2...\n",
      "scanfile         G:\\My Drive\\2P_Data\\TwoTower\\4139224.2\\29_10_2...\n",
      "scanmat          G:\\My Drive\\2P_Data\\TwoTower\\4139224.2\\29_10_2...\n",
      "s2pfolder        G:\\My Drive\\2P_Data\\TwoTower\\4139224.2\\29_10_2...\n",
      "Name: 956, dtype: object\n",
      "num aberrant ttls 0.0\n",
      "23611 (23611,) (23611, 20) 75002\n"
     ]
    },
    {
     "name": "stderr",
     "output_type": "stream",
     "text": [
      "C:\\Users\\mplitt\\Anaconda3\\lib\\site-packages\\pandas\\core\\frame.py:4034: SettingWithCopyWarning: \n",
      "A value is trying to be set on a copy of a slice from a DataFrame\n",
      "\n",
      "See the caveats in the documentation: http://pandas.pydata.org/pandas-docs/stable/indexing.html#indexing-view-versus-copy\n",
      "  downcast=downcast, **kwargs)\n"
     ]
    },
    {
     "name": "stdout",
     "output_type": "stream",
     "text": [
      "frame diff 0\n",
      "training fold 0\n",
      "training fold 1\n",
      "training fold 2\n",
      "96 cells included in decoding model\n",
      "start fold  0\n",
      "decoding fold 0\n",
      "\t total timepoints = 5941\n",
      "\t timepoint 0\n",
      "\t timepoint 1000\n",
      "\t timepoint 2000\n",
      "\t timepoint 3000\n",
      "\t timepoint 4000\n",
      "\t timepoint 5000\n",
      "start fold  1\n",
      "decoding fold 1\n",
      "\t total timepoints = 5340\n",
      "\t timepoint 0\n",
      "\t timepoint 1000\n",
      "\t timepoint 2000\n",
      "\t timepoint 3000\n",
      "\t timepoint 4000\n",
      "\t timepoint 5000\n",
      "start fold  2\n",
      "decoding fold 2\n",
      "\t total timepoints = 5695\n",
      "\t timepoint 0\n",
      "\t timepoint 1000\n",
      "\t timepoint 2000\n",
      "\t timepoint 3000\n",
      "\t timepoint 4000\n",
      "\t timepoint 5000\n"
     ]
    },
    {
     "name": "stderr",
     "output_type": "stream",
     "text": [
      "C:\\Users\\mplitt\\MightyMorphingPhotonRangers\\utilities.py:324: RuntimeWarning: Mean of empty slice\n",
      "  zone1_speed[i] = np.nanmean(sub_frame.loc[zone1_mask,'speed'])\n",
      "C:\\Users\\mplitt\\Anaconda3\\lib\\site-packages\\matplotlib\\pyplot.py:514: RuntimeWarning: More than 20 figures have been opened. Figures created through the pyplot interface (`matplotlib.pyplot.figure`) are retained until explicitly closed and may consume too much memory. (To control this warning, see the rcParam `figure.max_open_warning`).\n",
      "  max_open_warning, RuntimeWarning)\n"
     ]
    },
    {
     "name": "stdout",
     "output_type": "stream",
     "text": [
      "MouseName                                                4139224.2\n",
      "DateFolder                                              31_10_2018\n",
      "SessionNumber                                                    2\n",
      "Track                                             TwoTower_Timeout\n",
      "RewardCount                                                     70\n",
      "Imaging                                                          1\n",
      "ImagingRegion                                                  CA1\n",
      "DateTime                                       2018-10-31 00:00:00\n",
      "data file        G:\\My Drive\\VR_Data\\TwoTower\\4139224.2\\31_10_2...\n",
      "scanfile         G:\\My Drive\\2P_Data\\TwoTower\\4139224.2\\31_10_2...\n",
      "scanmat          G:\\My Drive\\2P_Data\\TwoTower\\4139224.2\\31_10_2...\n",
      "s2pfolder        G:\\My Drive\\2P_Data\\TwoTower\\4139224.2\\31_10_2...\n",
      "Name: 979, dtype: object\n",
      "num aberrant ttls 0.0\n",
      "28600 (28600,) (28600, 20) 90254\n"
     ]
    },
    {
     "name": "stderr",
     "output_type": "stream",
     "text": [
      "C:\\Users\\mplitt\\Anaconda3\\lib\\site-packages\\pandas\\core\\frame.py:4034: SettingWithCopyWarning: \n",
      "A value is trying to be set on a copy of a slice from a DataFrame\n",
      "\n",
      "See the caveats in the documentation: http://pandas.pydata.org/pandas-docs/stable/indexing.html#indexing-view-versus-copy\n",
      "  downcast=downcast, **kwargs)\n"
     ]
    },
    {
     "name": "stdout",
     "output_type": "stream",
     "text": [
      "frame diff 0\n",
      "training fold 0\n",
      "training fold 1\n",
      "training fold 2\n",
      "122 cells included in decoding model\n",
      "start fold  0\n",
      "decoding fold 0\n",
      "\t total timepoints = 7512\n",
      "\t timepoint 0\n",
      "\t timepoint 1000\n",
      "\t timepoint 2000\n",
      "\t timepoint 3000\n",
      "\t timepoint 4000\n",
      "\t timepoint 5000\n",
      "\t timepoint 6000\n",
      "\t timepoint 7000\n",
      "start fold  1\n",
      "decoding fold 1\n",
      "\t total timepoints = 6608\n",
      "\t timepoint 0\n",
      "\t timepoint 1000\n",
      "\t timepoint 2000\n",
      "\t timepoint 3000\n",
      "\t timepoint 4000\n",
      "\t timepoint 5000\n",
      "\t timepoint 6000\n",
      "start fold  2\n",
      "decoding fold 2\n",
      "\t total timepoints = 7630\n",
      "\t timepoint 0\n",
      "\t timepoint 1000\n",
      "\t timepoint 2000\n",
      "\t timepoint 3000\n",
      "\t timepoint 4000\n",
      "\t timepoint 5000\n",
      "\t timepoint 6000\n",
      "\t timepoint 7000\n"
     ]
    },
    {
     "name": "stderr",
     "output_type": "stream",
     "text": [
      "C:\\Users\\mplitt\\MightyMorphingPhotonRangers\\utilities.py:324: RuntimeWarning: Mean of empty slice\n",
      "  zone1_speed[i] = np.nanmean(sub_frame.loc[zone1_mask,'speed'])\n",
      "C:\\Users\\mplitt\\Anaconda3\\lib\\site-packages\\matplotlib\\pyplot.py:514: RuntimeWarning: More than 20 figures have been opened. Figures created through the pyplot interface (`matplotlib.pyplot.figure`) are retained until explicitly closed and may consume too much memory. (To control this warning, see the rcParam `figure.max_open_warning`).\n",
      "  max_open_warning, RuntimeWarning)\n"
     ]
    },
    {
     "name": "stdout",
     "output_type": "stream",
     "text": [
      "MouseName                                                4139224.2\n",
      "DateFolder                                              01_11_2018\n",
      "SessionNumber                                                    1\n",
      "Track                                             TwoTower_Timeout\n",
      "RewardCount                                                     74\n",
      "Imaging                                                          1\n",
      "ImagingRegion                                                  CA1\n",
      "DateTime                                       2018-11-01 00:00:00\n",
      "data file        G:\\My Drive\\VR_Data\\TwoTower\\4139224.2\\01_11_2...\n",
      "scanfile         G:\\My Drive\\2P_Data\\TwoTower\\4139224.2\\01_11_2...\n",
      "scanmat          G:\\My Drive\\2P_Data\\TwoTower\\4139224.2\\01_11_2...\n",
      "s2pfolder        G:\\My Drive\\2P_Data\\TwoTower\\4139224.2\\01_11_2...\n",
      "Name: 990, dtype: object\n",
      "num aberrant ttls 0.0\n",
      "24063 (24063,) (24063, 20) 76746\n"
     ]
    },
    {
     "name": "stderr",
     "output_type": "stream",
     "text": [
      "C:\\Users\\mplitt\\Anaconda3\\lib\\site-packages\\pandas\\core\\frame.py:4034: SettingWithCopyWarning: \n",
      "A value is trying to be set on a copy of a slice from a DataFrame\n",
      "\n",
      "See the caveats in the documentation: http://pandas.pydata.org/pandas-docs/stable/indexing.html#indexing-view-versus-copy\n",
      "  downcast=downcast, **kwargs)\n"
     ]
    },
    {
     "name": "stdout",
     "output_type": "stream",
     "text": [
      "frame diff 0\n",
      "training fold 0\n",
      "training fold 1\n",
      "training fold 2\n",
      "138 cells included in decoding model\n",
      "start fold  0\n",
      "decoding fold 0\n",
      "\t total timepoints = 5724\n",
      "\t timepoint 0\n",
      "\t timepoint 1000\n",
      "\t timepoint 2000\n",
      "\t timepoint 3000\n",
      "\t timepoint 4000\n",
      "\t timepoint 5000\n",
      "start fold  1\n",
      "decoding fold 1\n",
      "\t total timepoints = 6159\n",
      "\t timepoint 0\n",
      "\t timepoint 1000\n",
      "\t timepoint 2000\n",
      "\t timepoint 3000\n",
      "\t timepoint 4000\n",
      "\t timepoint 5000\n",
      "\t timepoint 6000\n",
      "start fold  2\n",
      "decoding fold 2\n",
      "\t total timepoints = 6223\n",
      "\t timepoint 0\n",
      "\t timepoint 1000\n",
      "\t timepoint 2000\n",
      "\t timepoint 3000\n",
      "\t timepoint 4000\n",
      "\t timepoint 5000\n",
      "\t timepoint 6000\n"
     ]
    },
    {
     "name": "stderr",
     "output_type": "stream",
     "text": [
      "C:\\Users\\mplitt\\MightyMorphingPhotonRangers\\utilities.py:324: RuntimeWarning: Mean of empty slice\n",
      "  zone1_speed[i] = np.nanmean(sub_frame.loc[zone1_mask,'speed'])\n",
      "C:\\Users\\mplitt\\Anaconda3\\lib\\site-packages\\matplotlib\\pyplot.py:514: RuntimeWarning: More than 20 figures have been opened. Figures created through the pyplot interface (`matplotlib.pyplot.figure`) are retained until explicitly closed and may consume too much memory. (To control this warning, see the rcParam `figure.max_open_warning`).\n",
      "  max_open_warning, RuntimeWarning)\n"
     ]
    },
    {
     "name": "stdout",
     "output_type": "stream",
     "text": [
      "MouseName                                                4139224.2\n",
      "DateFolder                                              02_11_2018\n",
      "SessionNumber                                                    1\n",
      "Track                                             TwoTower_Timeout\n",
      "RewardCount                                                     65\n",
      "Imaging                                                          1\n",
      "ImagingRegion                                                  CA1\n",
      "DateTime                                       2018-11-02 00:00:00\n",
      "data file        G:\\My Drive\\VR_Data\\TwoTower\\4139224.2\\02_11_2...\n",
      "scanfile         G:\\My Drive\\2P_Data\\TwoTower\\4139224.2\\02_11_2...\n",
      "scanmat          G:\\My Drive\\2P_Data\\TwoTower\\4139224.2\\02_11_2...\n",
      "s2pfolder        G:\\My Drive\\2P_Data\\TwoTower\\4139224.2\\02_11_2...\n",
      "Name: 997, dtype: object\n",
      "num aberrant ttls 0.0\n",
      "27943 (27943,) (27943, 20) 90302\n"
     ]
    },
    {
     "name": "stderr",
     "output_type": "stream",
     "text": [
      "C:\\Users\\mplitt\\Anaconda3\\lib\\site-packages\\pandas\\core\\frame.py:4034: SettingWithCopyWarning: \n",
      "A value is trying to be set on a copy of a slice from a DataFrame\n",
      "\n",
      "See the caveats in the documentation: http://pandas.pydata.org/pandas-docs/stable/indexing.html#indexing-view-versus-copy\n",
      "  downcast=downcast, **kwargs)\n"
     ]
    },
    {
     "name": "stdout",
     "output_type": "stream",
     "text": [
      "frame diff 0\n",
      "training fold 0\n",
      "training fold 1\n",
      "training fold 2\n",
      "129 cells included in decoding model\n",
      "start fold  0\n",
      "decoding fold 0\n",
      "\t total timepoints = 7900\n",
      "\t timepoint 0\n",
      "\t timepoint 1000\n",
      "\t timepoint 2000\n",
      "\t timepoint 3000\n",
      "\t timepoint 4000\n",
      "\t timepoint 5000\n",
      "\t timepoint 6000\n",
      "\t timepoint 7000\n",
      "start fold  1\n",
      "decoding fold 1\n",
      "\t total timepoints = 6774\n",
      "\t timepoint 0\n",
      "\t timepoint 1000\n",
      "\t timepoint 2000\n",
      "\t timepoint 3000\n",
      "\t timepoint 4000\n",
      "\t timepoint 5000\n",
      "\t timepoint 6000\n",
      "start fold  2\n",
      "decoding fold 2\n",
      "\t total timepoints = 6702\n",
      "\t timepoint 0\n",
      "\t timepoint 1000\n",
      "\t timepoint 2000\n",
      "\t timepoint 3000\n",
      "\t timepoint 4000\n",
      "\t timepoint 5000\n",
      "\t timepoint 6000\n"
     ]
    },
    {
     "name": "stderr",
     "output_type": "stream",
     "text": [
      "C:\\Users\\mplitt\\MightyMorphingPhotonRangers\\utilities.py:324: RuntimeWarning: Mean of empty slice\n",
      "  zone1_speed[i] = np.nanmean(sub_frame.loc[zone1_mask,'speed'])\n",
      "C:\\Users\\mplitt\\Anaconda3\\lib\\site-packages\\matplotlib\\pyplot.py:514: RuntimeWarning: More than 20 figures have been opened. Figures created through the pyplot interface (`matplotlib.pyplot.figure`) are retained until explicitly closed and may consume too much memory. (To control this warning, see the rcParam `figure.max_open_warning`).\n",
      "  max_open_warning, RuntimeWarning)\n"
     ]
    },
    {
     "name": "stdout",
     "output_type": "stream",
     "text": [
      "MouseName                                                4139224.3\n",
      "DateFolder                                              18_10_2018\n",
      "SessionNumber                                                    1\n",
      "Track                                           TwoTower_noTimeout\n",
      "RewardCount                                                     61\n",
      "Imaging                                                          1\n",
      "ImagingRegion                                                  CA1\n",
      "DateTime                                       2018-10-18 00:00:00\n",
      "data file        G:\\My Drive\\VR_Data\\TwoTower\\4139224.3\\18_10_2...\n",
      "scanfile         G:\\My Drive\\2P_Data\\TwoTower\\4139224.3\\18_10_2...\n",
      "scanmat          G:\\My Drive\\2P_Data\\TwoTower\\4139224.3\\18_10_2...\n",
      "s2pfolder        G:\\My Drive\\2P_Data\\TwoTower\\4139224.3\\18_10_2...\n",
      "Name: 805, dtype: object\n",
      "num aberrant ttls 0.0\n",
      "25648 (25648,) (25648, 20) 79658\n"
     ]
    },
    {
     "name": "stderr",
     "output_type": "stream",
     "text": [
      "C:\\Users\\mplitt\\Anaconda3\\lib\\site-packages\\pandas\\core\\frame.py:4034: SettingWithCopyWarning: \n",
      "A value is trying to be set on a copy of a slice from a DataFrame\n",
      "\n",
      "See the caveats in the documentation: http://pandas.pydata.org/pandas-docs/stable/indexing.html#indexing-view-versus-copy\n",
      "  downcast=downcast, **kwargs)\n"
     ]
    },
    {
     "name": "stdout",
     "output_type": "stream",
     "text": [
      "frame diff 0\n",
      "training fold 0\n",
      "training fold 1\n",
      "training fold 2\n",
      "17 cells included in decoding model\n",
      "start fold  0\n",
      "decoding fold 0\n",
      "\t total timepoints = 7569\n",
      "\t timepoint 0\n",
      "\t timepoint 1000\n",
      "\t timepoint 2000\n",
      "\t timepoint 3000\n",
      "\t timepoint 4000\n",
      "\t timepoint 5000\n",
      "\t timepoint 6000\n",
      "\t timepoint 7000\n",
      "start fold  1\n",
      "decoding fold 1\n",
      "\t total timepoints = 7609\n",
      "\t timepoint 0\n",
      "\t timepoint 1000\n",
      "\t timepoint 2000\n",
      "\t timepoint 3000\n",
      "\t timepoint 4000\n",
      "\t timepoint 5000\n",
      "\t timepoint 6000\n",
      "\t timepoint 7000\n",
      "start fold  2\n",
      "decoding fold 2\n",
      "\t total timepoints = 7005\n",
      "\t timepoint 0\n",
      "\t timepoint 1000\n",
      "\t timepoint 2000\n",
      "\t timepoint 3000\n",
      "\t timepoint 4000\n",
      "\t timepoint 5000\n",
      "\t timepoint 6000\n",
      "\t timepoint 7000\n"
     ]
    },
    {
     "name": "stderr",
     "output_type": "stream",
     "text": [
      "C:\\Users\\mplitt\\Anaconda3\\lib\\site-packages\\matplotlib\\pyplot.py:514: RuntimeWarning: More than 20 figures have been opened. Figures created through the pyplot interface (`matplotlib.pyplot.figure`) are retained until explicitly closed and may consume too much memory. (To control this warning, see the rcParam `figure.max_open_warning`).\n",
      "  max_open_warning, RuntimeWarning)\n"
     ]
    },
    {
     "name": "stdout",
     "output_type": "stream",
     "text": [
      "MouseName                                                4139224.3\n",
      "DateFolder                                              18_10_2018\n",
      "SessionNumber                                                    3\n",
      "Track                                           TwoTower_noTimeout\n",
      "RewardCount                                                     41\n",
      "Imaging                                                          1\n",
      "ImagingRegion                                                  CA1\n",
      "DateTime                                       2018-10-18 00:00:00\n",
      "data file        G:\\My Drive\\VR_Data\\TwoTower\\4139224.3\\18_10_2...\n",
      "scanfile         G:\\My Drive\\2P_Data\\TwoTower\\4139224.3\\18_10_2...\n",
      "scanmat          G:\\My Drive\\2P_Data\\TwoTower\\4139224.3\\18_10_2...\n",
      "s2pfolder        G:\\My Drive\\2P_Data\\TwoTower\\4139224.3\\18_10_2...\n",
      "Name: 807, dtype: object\n",
      "num aberrant ttls 0.0\n",
      "18064 (18064,) (18064, 20) 57521\n"
     ]
    },
    {
     "name": "stderr",
     "output_type": "stream",
     "text": [
      "C:\\Users\\mplitt\\Anaconda3\\lib\\site-packages\\pandas\\core\\frame.py:4034: SettingWithCopyWarning: \n",
      "A value is trying to be set on a copy of a slice from a DataFrame\n",
      "\n",
      "See the caveats in the documentation: http://pandas.pydata.org/pandas-docs/stable/indexing.html#indexing-view-versus-copy\n",
      "  downcast=downcast, **kwargs)\n"
     ]
    },
    {
     "name": "stdout",
     "output_type": "stream",
     "text": [
      "frame diff 0\n",
      "training fold 0\n",
      "training fold 1\n",
      "training fold 2\n",
      "48 cells included in decoding model\n",
      "start fold  0\n",
      "decoding fold 0\n",
      "\t total timepoints = 4879\n",
      "\t timepoint 0\n",
      "\t timepoint 1000\n",
      "\t timepoint 2000\n",
      "\t timepoint 3000\n",
      "\t timepoint 4000\n",
      "start fold  1\n",
      "decoding fold 1\n",
      "\t total timepoints = 4948\n",
      "\t timepoint 0\n",
      "\t timepoint 1000\n",
      "\t timepoint 2000\n",
      "\t timepoint 3000\n",
      "\t timepoint 4000\n",
      "start fold  2\n",
      "decoding fold 2\n",
      "\t total timepoints = 4491\n",
      "\t timepoint 0\n",
      "\t timepoint 1000\n",
      "\t timepoint 2000\n",
      "\t timepoint 3000\n",
      "\t timepoint 4000\n"
     ]
    },
    {
     "name": "stderr",
     "output_type": "stream",
     "text": [
      "C:\\Users\\mplitt\\Anaconda3\\lib\\site-packages\\matplotlib\\pyplot.py:514: RuntimeWarning: More than 20 figures have been opened. Figures created through the pyplot interface (`matplotlib.pyplot.figure`) are retained until explicitly closed and may consume too much memory. (To control this warning, see the rcParam `figure.max_open_warning`).\n",
      "  max_open_warning, RuntimeWarning)\n"
     ]
    },
    {
     "name": "stdout",
     "output_type": "stream",
     "text": [
      "MouseName                                                4139224.3\n",
      "DateFolder                                              20_10_2018\n",
      "SessionNumber                                                    2\n",
      "Track                                           TwoTower_noTimeout\n",
      "RewardCount                                                     60\n",
      "Imaging                                                          1\n",
      "ImagingRegion                                                  CA1\n",
      "DateTime                                       2018-10-20 00:00:00\n",
      "data file        G:\\My Drive\\VR_Data\\TwoTower\\4139224.3\\20_10_2...\n",
      "scanfile         G:\\My Drive\\2P_Data\\TwoTower\\4139224.3\\20_10_2...\n",
      "scanmat          G:\\My Drive\\2P_Data\\TwoTower\\4139224.3\\20_10_2...\n",
      "s2pfolder        G:\\My Drive\\2P_Data\\TwoTower\\4139224.3\\20_10_2...\n",
      "Name: 841, dtype: object\n",
      "num aberrant ttls 0.0\n",
      "30967 (30967,) (30967, 20) 97394\n"
     ]
    },
    {
     "name": "stderr",
     "output_type": "stream",
     "text": [
      "C:\\Users\\mplitt\\Anaconda3\\lib\\site-packages\\pandas\\core\\frame.py:4034: SettingWithCopyWarning: \n",
      "A value is trying to be set on a copy of a slice from a DataFrame\n",
      "\n",
      "See the caveats in the documentation: http://pandas.pydata.org/pandas-docs/stable/indexing.html#indexing-view-versus-copy\n",
      "  downcast=downcast, **kwargs)\n"
     ]
    },
    {
     "name": "stdout",
     "output_type": "stream",
     "text": [
      "frame diff 0\n",
      "training fold 0\n",
      "training fold 1\n",
      "training fold 2\n",
      "291 cells included in decoding model\n",
      "start fold  0\n",
      "decoding fold 0\n",
      "\t total timepoints = 9111\n",
      "\t timepoint 0\n",
      "\t timepoint 1000\n",
      "\t timepoint 2000\n",
      "\t timepoint 3000\n",
      "\t timepoint 4000\n",
      "\t timepoint 5000\n",
      "\t timepoint 6000\n",
      "\t timepoint 7000\n",
      "\t timepoint 8000\n",
      "\t timepoint 9000\n",
      "start fold  1\n",
      "decoding fold 1\n",
      "\t total timepoints = 8692\n",
      "\t timepoint 0\n",
      "\t timepoint 1000\n",
      "\t timepoint 2000\n",
      "\t timepoint 3000\n",
      "\t timepoint 4000\n",
      "\t timepoint 5000\n",
      "\t timepoint 6000\n",
      "\t timepoint 7000\n",
      "\t timepoint 8000\n",
      "start fold  2\n",
      "decoding fold 2\n",
      "\t total timepoints = 9680\n",
      "\t timepoint 0\n",
      "\t timepoint 1000\n",
      "\t timepoint 2000\n",
      "\t timepoint 3000\n",
      "\t timepoint 4000\n",
      "\t timepoint 5000\n",
      "\t timepoint 6000\n",
      "\t timepoint 7000\n",
      "\t timepoint 8000\n",
      "\t timepoint 9000\n"
     ]
    },
    {
     "name": "stderr",
     "output_type": "stream",
     "text": [
      "C:\\Users\\mplitt\\Anaconda3\\lib\\site-packages\\matplotlib\\pyplot.py:514: RuntimeWarning: More than 20 figures have been opened. Figures created through the pyplot interface (`matplotlib.pyplot.figure`) are retained until explicitly closed and may consume too much memory. (To control this warning, see the rcParam `figure.max_open_warning`).\n",
      "  max_open_warning, RuntimeWarning)\n"
     ]
    },
    {
     "name": "stdout",
     "output_type": "stream",
     "text": [
      "MouseName                                                4139224.3\n",
      "DateFolder                                              23_10_2018\n",
      "SessionNumber                                                    1\n",
      "Track                                             TwoTower_Timeout\n",
      "RewardCount                                                     48\n",
      "Imaging                                                          1\n",
      "ImagingRegion                                                  CA1\n",
      "DateTime                                       2018-10-23 00:00:00\n",
      "data file        G:\\My Drive\\VR_Data\\TwoTower\\4139224.3\\23_10_2...\n",
      "scanfile         G:\\My Drive\\2P_Data\\TwoTower\\4139224.3\\23_10_2...\n",
      "scanmat          G:\\My Drive\\2P_Data\\TwoTower\\4139224.3\\23_10_2...\n",
      "s2pfolder        G:\\My Drive\\2P_Data\\TwoTower\\4139224.3\\23_10_2...\n",
      "Name: 879, dtype: object\n",
      "num aberrant ttls 0.0\n",
      "21303 (21303,) (21303, 20) 68083\n"
     ]
    },
    {
     "name": "stderr",
     "output_type": "stream",
     "text": [
      "C:\\Users\\mplitt\\Anaconda3\\lib\\site-packages\\pandas\\core\\frame.py:4034: SettingWithCopyWarning: \n",
      "A value is trying to be set on a copy of a slice from a DataFrame\n",
      "\n",
      "See the caveats in the documentation: http://pandas.pydata.org/pandas-docs/stable/indexing.html#indexing-view-versus-copy\n",
      "  downcast=downcast, **kwargs)\n"
     ]
    },
    {
     "name": "stdout",
     "output_type": "stream",
     "text": [
      "frame diff 0\n"
     ]
    },
    {
     "name": "stderr",
     "output_type": "stream",
     "text": [
      "C:\\Users\\mplitt\\MightyMorphingPhotonRangers\\utilities.py:324: RuntimeWarning: Mean of empty slice\n",
      "  zone1_speed[i] = np.nanmean(sub_frame.loc[zone1_mask,'speed'])\n"
     ]
    },
    {
     "name": "stdout",
     "output_type": "stream",
     "text": [
      "training fold 0\n"
     ]
    },
    {
     "name": "stderr",
     "output_type": "stream",
     "text": [
      "C:\\Users\\mplitt\\MightyMorphingPhotonRangers\\SplineEncodingModel\\LinearRegressionSpline.py:291: RuntimeWarning: divide by zero encountered in log\n",
      "  return (rate-np.multiply(y,np.log(rate))).sum()  + f_l2\n"
     ]
    },
    {
     "name": "stdout",
     "output_type": "stream",
     "text": [
      "training fold 1\n"
     ]
    },
    {
     "name": "stderr",
     "output_type": "stream",
     "text": [
      "C:\\Users\\mplitt\\MightyMorphingPhotonRangers\\SplineEncodingModel\\LinearRegressionSpline.py:291: RuntimeWarning: divide by zero encountered in log\n",
      "  return (rate-np.multiply(y,np.log(rate))).sum()  + f_l2\n",
      "C:\\Users\\mplitt\\Anaconda3\\lib\\site-packages\\numpy\\core\\_methods.py:36: RuntimeWarning: invalid value encountered in reduce\n",
      "  return umr_sum(a, axis, dtype, out, keepdims, initial)\n",
      "C:\\Users\\mplitt\\MightyMorphingPhotonRangers\\SplineEncodingModel\\LinearRegressionSpline.py:291: RuntimeWarning: divide by zero encountered in log\n",
      "  return (rate-np.multiply(y,np.log(rate))).sum()  + f_l2\n",
      "C:\\Users\\mplitt\\Anaconda3\\lib\\site-packages\\numpy\\core\\_methods.py:36: RuntimeWarning: invalid value encountered in reduce\n",
      "  return umr_sum(a, axis, dtype, out, keepdims, initial)\n",
      "C:\\Users\\mplitt\\MightyMorphingPhotonRangers\\SplineEncodingModel\\LinearRegressionSpline.py:291: RuntimeWarning: divide by zero encountered in log\n",
      "  return (rate-np.multiply(y,np.log(rate))).sum()  + f_l2\n",
      "C:\\Users\\mplitt\\Anaconda3\\lib\\site-packages\\numpy\\core\\_methods.py:36: RuntimeWarning: invalid value encountered in reduce\n",
      "  return umr_sum(a, axis, dtype, out, keepdims, initial)\n",
      "C:\\Users\\mplitt\\MightyMorphingPhotonRangers\\SplineEncodingModel\\LinearRegressionSpline.py:291: RuntimeWarning: divide by zero encountered in log\n",
      "  return (rate-np.multiply(y,np.log(rate))).sum()  + f_l2\n",
      "C:\\Users\\mplitt\\Anaconda3\\lib\\site-packages\\numpy\\core\\_methods.py:36: RuntimeWarning: invalid value encountered in reduce\n",
      "  return umr_sum(a, axis, dtype, out, keepdims, initial)\n",
      "C:\\Users\\mplitt\\MightyMorphingPhotonRangers\\SplineEncodingModel\\LinearRegressionSpline.py:291: RuntimeWarning: divide by zero encountered in log\n",
      "  return (rate-np.multiply(y,np.log(rate))).sum()  + f_l2\n",
      "C:\\Users\\mplitt\\Anaconda3\\lib\\site-packages\\numpy\\core\\_methods.py:36: RuntimeWarning: invalid value encountered in reduce\n",
      "  return umr_sum(a, axis, dtype, out, keepdims, initial)\n",
      "C:\\Users\\mplitt\\MightyMorphingPhotonRangers\\SplineEncodingModel\\LinearRegressionSpline.py:291: RuntimeWarning: divide by zero encountered in log\n",
      "  return (rate-np.multiply(y,np.log(rate))).sum()  + f_l2\n",
      "C:\\Users\\mplitt\\Anaconda3\\lib\\site-packages\\numpy\\core\\_methods.py:36: RuntimeWarning: invalid value encountered in reduce\n",
      "  return umr_sum(a, axis, dtype, out, keepdims, initial)\n",
      "C:\\Users\\mplitt\\MightyMorphingPhotonRangers\\SplineEncodingModel\\LinearRegressionSpline.py:291: RuntimeWarning: divide by zero encountered in log\n",
      "  return (rate-np.multiply(y,np.log(rate))).sum()  + f_l2\n",
      "C:\\Users\\mplitt\\Anaconda3\\lib\\site-packages\\numpy\\core\\_methods.py:36: RuntimeWarning: invalid value encountered in reduce\n",
      "  return umr_sum(a, axis, dtype, out, keepdims, initial)\n",
      "C:\\Users\\mplitt\\MightyMorphingPhotonRangers\\SplineEncodingModel\\LinearRegressionSpline.py:291: RuntimeWarning: divide by zero encountered in log\n",
      "  return (rate-np.multiply(y,np.log(rate))).sum()  + f_l2\n",
      "C:\\Users\\mplitt\\Anaconda3\\lib\\site-packages\\numpy\\core\\_methods.py:36: RuntimeWarning: invalid value encountered in reduce\n",
      "  return umr_sum(a, axis, dtype, out, keepdims, initial)\n",
      "C:\\Users\\mplitt\\MightyMorphingPhotonRangers\\SplineEncodingModel\\LinearRegressionSpline.py:291: RuntimeWarning: divide by zero encountered in log\n",
      "  return (rate-np.multiply(y,np.log(rate))).sum()  + f_l2\n",
      "C:\\Users\\mplitt\\Anaconda3\\lib\\site-packages\\numpy\\core\\_methods.py:36: RuntimeWarning: invalid value encountered in reduce\n",
      "  return umr_sum(a, axis, dtype, out, keepdims, initial)\n",
      "C:\\Users\\mplitt\\MightyMorphingPhotonRangers\\SplineEncodingModel\\LinearRegressionSpline.py:291: RuntimeWarning: divide by zero encountered in log\n",
      "  return (rate-np.multiply(y,np.log(rate))).sum()  + f_l2\n",
      "C:\\Users\\mplitt\\Anaconda3\\lib\\site-packages\\numpy\\core\\_methods.py:36: RuntimeWarning: invalid value encountered in reduce\n",
      "  return umr_sum(a, axis, dtype, out, keepdims, initial)\n",
      "C:\\Users\\mplitt\\MightyMorphingPhotonRangers\\SplineEncodingModel\\LinearRegressionSpline.py:291: RuntimeWarning: divide by zero encountered in log\n",
      "  return (rate-np.multiply(y,np.log(rate))).sum()  + f_l2\n",
      "C:\\Users\\mplitt\\Anaconda3\\lib\\site-packages\\numpy\\core\\_methods.py:36: RuntimeWarning: invalid value encountered in reduce\n",
      "  return umr_sum(a, axis, dtype, out, keepdims, initial)\n",
      "C:\\Users\\mplitt\\MightyMorphingPhotonRangers\\SplineEncodingModel\\LinearRegressionSpline.py:291: RuntimeWarning: divide by zero encountered in log\n",
      "  return (rate-np.multiply(y,np.log(rate))).sum()  + f_l2\n",
      "C:\\Users\\mplitt\\Anaconda3\\lib\\site-packages\\numpy\\core\\_methods.py:36: RuntimeWarning: invalid value encountered in reduce\n",
      "  return umr_sum(a, axis, dtype, out, keepdims, initial)\n",
      "C:\\Users\\mplitt\\MightyMorphingPhotonRangers\\SplineEncodingModel\\LinearRegressionSpline.py:291: RuntimeWarning: divide by zero encountered in log\n",
      "  return (rate-np.multiply(y,np.log(rate))).sum()  + f_l2\n",
      "C:\\Users\\mplitt\\Anaconda3\\lib\\site-packages\\numpy\\core\\_methods.py:36: RuntimeWarning: invalid value encountered in reduce\n",
      "  return umr_sum(a, axis, dtype, out, keepdims, initial)\n",
      "C:\\Users\\mplitt\\MightyMorphingPhotonRangers\\SplineEncodingModel\\LinearRegressionSpline.py:291: RuntimeWarning: divide by zero encountered in log\n",
      "  return (rate-np.multiply(y,np.log(rate))).sum()  + f_l2\n",
      "C:\\Users\\mplitt\\Anaconda3\\lib\\site-packages\\numpy\\core\\_methods.py:36: RuntimeWarning: invalid value encountered in reduce\n",
      "  return umr_sum(a, axis, dtype, out, keepdims, initial)\n",
      "C:\\Users\\mplitt\\MightyMorphingPhotonRangers\\SplineEncodingModel\\LinearRegressionSpline.py:291: RuntimeWarning: divide by zero encountered in log\n",
      "  return (rate-np.multiply(y,np.log(rate))).sum()  + f_l2\n",
      "C:\\Users\\mplitt\\Anaconda3\\lib\\site-packages\\numpy\\core\\_methods.py:36: RuntimeWarning: invalid value encountered in reduce\n",
      "  return umr_sum(a, axis, dtype, out, keepdims, initial)\n",
      "C:\\Users\\mplitt\\MightyMorphingPhotonRangers\\SplineEncodingModel\\LinearRegressionSpline.py:291: RuntimeWarning: divide by zero encountered in log\n",
      "  return (rate-np.multiply(y,np.log(rate))).sum()  + f_l2\n",
      "C:\\Users\\mplitt\\Anaconda3\\lib\\site-packages\\numpy\\core\\_methods.py:36: RuntimeWarning: invalid value encountered in reduce\n",
      "  return umr_sum(a, axis, dtype, out, keepdims, initial)\n",
      "C:\\Users\\mplitt\\MightyMorphingPhotonRangers\\SplineEncodingModel\\LinearRegressionSpline.py:291: RuntimeWarning: divide by zero encountered in log\n",
      "  return (rate-np.multiply(y,np.log(rate))).sum()  + f_l2\n",
      "C:\\Users\\mplitt\\Anaconda3\\lib\\site-packages\\numpy\\core\\_methods.py:36: RuntimeWarning: invalid value encountered in reduce\n",
      "  return umr_sum(a, axis, dtype, out, keepdims, initial)\n",
      "C:\\Users\\mplitt\\MightyMorphingPhotonRangers\\SplineEncodingModel\\LinearRegressionSpline.py:291: RuntimeWarning: divide by zero encountered in log\n",
      "  return (rate-np.multiply(y,np.log(rate))).sum()  + f_l2\n",
      "C:\\Users\\mplitt\\Anaconda3\\lib\\site-packages\\numpy\\core\\_methods.py:36: RuntimeWarning: invalid value encountered in reduce\n",
      "  return umr_sum(a, axis, dtype, out, keepdims, initial)\n",
      "C:\\Users\\mplitt\\MightyMorphingPhotonRangers\\SplineEncodingModel\\LinearRegressionSpline.py:291: RuntimeWarning: divide by zero encountered in log\n",
      "  return (rate-np.multiply(y,np.log(rate))).sum()  + f_l2\n",
      "C:\\Users\\mplitt\\Anaconda3\\lib\\site-packages\\numpy\\core\\_methods.py:36: RuntimeWarning: invalid value encountered in reduce\n",
      "  return umr_sum(a, axis, dtype, out, keepdims, initial)\n",
      "C:\\Users\\mplitt\\MightyMorphingPhotonRangers\\SplineEncodingModel\\LinearRegressionSpline.py:291: RuntimeWarning: divide by zero encountered in log\n",
      "  return (rate-np.multiply(y,np.log(rate))).sum()  + f_l2\n",
      "C:\\Users\\mplitt\\Anaconda3\\lib\\site-packages\\numpy\\core\\_methods.py:36: RuntimeWarning: invalid value encountered in reduce\n",
      "  return umr_sum(a, axis, dtype, out, keepdims, initial)\n",
      "C:\\Users\\mplitt\\MightyMorphingPhotonRangers\\SplineEncodingModel\\LinearRegressionSpline.py:291: RuntimeWarning: divide by zero encountered in log\n",
      "  return (rate-np.multiply(y,np.log(rate))).sum()  + f_l2\n",
      "C:\\Users\\mplitt\\Anaconda3\\lib\\site-packages\\numpy\\core\\_methods.py:36: RuntimeWarning: invalid value encountered in reduce\n",
      "  return umr_sum(a, axis, dtype, out, keepdims, initial)\n",
      "C:\\Users\\mplitt\\MightyMorphingPhotonRangers\\SplineEncodingModel\\LinearRegressionSpline.py:291: RuntimeWarning: divide by zero encountered in log\n",
      "  return (rate-np.multiply(y,np.log(rate))).sum()  + f_l2\n",
      "C:\\Users\\mplitt\\Anaconda3\\lib\\site-packages\\numpy\\core\\_methods.py:36: RuntimeWarning: invalid value encountered in reduce\n",
      "  return umr_sum(a, axis, dtype, out, keepdims, initial)\n",
      "C:\\Users\\mplitt\\MightyMorphingPhotonRangers\\SplineEncodingModel\\LinearRegressionSpline.py:291: RuntimeWarning: divide by zero encountered in log\n",
      "  return (rate-np.multiply(y,np.log(rate))).sum()  + f_l2\n",
      "C:\\Users\\mplitt\\Anaconda3\\lib\\site-packages\\numpy\\core\\_methods.py:36: RuntimeWarning: invalid value encountered in reduce\n",
      "  return umr_sum(a, axis, dtype, out, keepdims, initial)\n",
      "C:\\Users\\mplitt\\MightyMorphingPhotonRangers\\SplineEncodingModel\\LinearRegressionSpline.py:291: RuntimeWarning: divide by zero encountered in log\n",
      "  return (rate-np.multiply(y,np.log(rate))).sum()  + f_l2\n",
      "C:\\Users\\mplitt\\Anaconda3\\lib\\site-packages\\numpy\\core\\_methods.py:36: RuntimeWarning: invalid value encountered in reduce\n",
      "  return umr_sum(a, axis, dtype, out, keepdims, initial)\n",
      "C:\\Users\\mplitt\\MightyMorphingPhotonRangers\\SplineEncodingModel\\LinearRegressionSpline.py:291: RuntimeWarning: divide by zero encountered in log\n",
      "  return (rate-np.multiply(y,np.log(rate))).sum()  + f_l2\n",
      "C:\\Users\\mplitt\\Anaconda3\\lib\\site-packages\\numpy\\core\\_methods.py:36: RuntimeWarning: invalid value encountered in reduce\n",
      "  return umr_sum(a, axis, dtype, out, keepdims, initial)\n",
      "C:\\Users\\mplitt\\MightyMorphingPhotonRangers\\SplineEncodingModel\\LinearRegressionSpline.py:291: RuntimeWarning: divide by zero encountered in log\n",
      "  return (rate-np.multiply(y,np.log(rate))).sum()  + f_l2\n",
      "C:\\Users\\mplitt\\Anaconda3\\lib\\site-packages\\numpy\\core\\_methods.py:36: RuntimeWarning: invalid value encountered in reduce\n",
      "  return umr_sum(a, axis, dtype, out, keepdims, initial)\n",
      "C:\\Users\\mplitt\\MightyMorphingPhotonRangers\\SplineEncodingModel\\LinearRegressionSpline.py:291: RuntimeWarning: divide by zero encountered in log\n",
      "  return (rate-np.multiply(y,np.log(rate))).sum()  + f_l2\n",
      "C:\\Users\\mplitt\\Anaconda3\\lib\\site-packages\\numpy\\core\\_methods.py:36: RuntimeWarning: invalid value encountered in reduce\n",
      "  return umr_sum(a, axis, dtype, out, keepdims, initial)\n",
      "C:\\Users\\mplitt\\MightyMorphingPhotonRangers\\SplineEncodingModel\\LinearRegressionSpline.py:291: RuntimeWarning: divide by zero encountered in log\n",
      "  return (rate-np.multiply(y,np.log(rate))).sum()  + f_l2\n",
      "C:\\Users\\mplitt\\Anaconda3\\lib\\site-packages\\numpy\\core\\_methods.py:36: RuntimeWarning: invalid value encountered in reduce\n",
      "  return umr_sum(a, axis, dtype, out, keepdims, initial)\n"
     ]
    },
    {
     "name": "stdout",
     "output_type": "stream",
     "text": [
      "training fold 2\n",
      "335 cells included in decoding model\n",
      "start fold  0\n",
      "decoding fold 0\n",
      "\t total timepoints = 6129\n",
      "\t timepoint 0\n",
      "\t timepoint 1000\n",
      "\t timepoint 2000\n",
      "\t timepoint 3000\n",
      "\t timepoint 4000\n",
      "\t timepoint 5000\n",
      "\t timepoint 6000\n",
      "start fold  1\n",
      "decoding fold 1\n",
      "\t total timepoints = 5310\n",
      "\t timepoint 0\n",
      "\t timepoint 1000\n",
      "\t timepoint 2000\n",
      "\t timepoint 3000\n",
      "\t timepoint 4000\n",
      "\t timepoint 5000\n",
      "start fold  2\n",
      "decoding fold 2\n",
      "\t total timepoints = 5337\n",
      "\t timepoint 0\n",
      "\t timepoint 1000\n",
      "\t timepoint 2000\n",
      "\t timepoint 3000\n",
      "\t timepoint 4000\n",
      "\t timepoint 5000\n"
     ]
    },
    {
     "name": "stderr",
     "output_type": "stream",
     "text": [
      "C:\\Users\\mplitt\\MightyMorphingPhotonRangers\\utilities.py:324: RuntimeWarning: Mean of empty slice\n",
      "  zone1_speed[i] = np.nanmean(sub_frame.loc[zone1_mask,'speed'])\n",
      "C:\\Users\\mplitt\\Anaconda3\\lib\\site-packages\\matplotlib\\pyplot.py:514: RuntimeWarning: More than 20 figures have been opened. Figures created through the pyplot interface (`matplotlib.pyplot.figure`) are retained until explicitly closed and may consume too much memory. (To control this warning, see the rcParam `figure.max_open_warning`).\n",
      "  max_open_warning, RuntimeWarning)\n"
     ]
    },
    {
     "name": "stdout",
     "output_type": "stream",
     "text": [
      "MouseName                                                4139224.3\n",
      "DateFolder                                              25_10_2018\n",
      "SessionNumber                                                    1\n",
      "Track                                             TwoTower_Timeout\n",
      "RewardCount                                                     69\n",
      "Imaging                                                          1\n",
      "ImagingRegion                                                     \n",
      "DateTime                                       2018-10-25 00:00:00\n",
      "data file        G:\\My Drive\\VR_Data\\TwoTower\\4139224.3\\25_10_2...\n",
      "scanfile         G:\\My Drive\\2P_Data\\TwoTower\\4139224.3\\25_10_2...\n",
      "scanmat          G:\\My Drive\\2P_Data\\TwoTower\\4139224.3\\25_10_2...\n",
      "s2pfolder        G:\\My Drive\\2P_Data\\TwoTower\\4139224.3\\25_10_2...\n",
      "Name: 909, dtype: object\n",
      "num aberrant ttls 0.0\n",
      "26207 (26207,) (26207, 20) 79774\n"
     ]
    },
    {
     "name": "stderr",
     "output_type": "stream",
     "text": [
      "C:\\Users\\mplitt\\Anaconda3\\lib\\site-packages\\pandas\\core\\frame.py:4034: SettingWithCopyWarning: \n",
      "A value is trying to be set on a copy of a slice from a DataFrame\n",
      "\n",
      "See the caveats in the documentation: http://pandas.pydata.org/pandas-docs/stable/indexing.html#indexing-view-versus-copy\n",
      "  downcast=downcast, **kwargs)\n"
     ]
    },
    {
     "name": "stdout",
     "output_type": "stream",
     "text": [
      "frame diff 0\n"
     ]
    },
    {
     "name": "stderr",
     "output_type": "stream",
     "text": [
      "C:\\Users\\mplitt\\MightyMorphingPhotonRangers\\utilities.py:323: RuntimeWarning: Mean of empty slice\n",
      "  zone0_speed[i]=np.nanmean(sub_frame.loc[zone0_mask,'speed'])\n"
     ]
    },
    {
     "name": "stdout",
     "output_type": "stream",
     "text": [
      "training fold 0\n",
      "training fold 1\n",
      "training fold 2\n",
      "163 cells included in decoding model\n",
      "start fold  0\n",
      "decoding fold 0\n",
      "\t total timepoints = 7655\n",
      "\t timepoint 0\n",
      "\t timepoint 1000\n",
      "\t timepoint 2000\n",
      "\t timepoint 3000\n",
      "\t timepoint 4000\n",
      "\t timepoint 5000\n",
      "\t timepoint 6000\n",
      "\t timepoint 7000\n",
      "start fold  1\n",
      "decoding fold 1\n",
      "\t total timepoints = 7294\n",
      "\t timepoint 0\n",
      "\t timepoint 1000\n",
      "\t timepoint 2000\n",
      "\t timepoint 3000\n",
      "\t timepoint 4000\n",
      "\t timepoint 5000\n",
      "\t timepoint 6000\n",
      "\t timepoint 7000\n",
      "start fold  2\n",
      "decoding fold 2\n",
      "\t total timepoints = 6534\n",
      "\t timepoint 0\n",
      "\t timepoint 1000\n",
      "\t timepoint 2000\n",
      "\t timepoint 3000\n",
      "\t timepoint 4000\n",
      "\t timepoint 5000\n",
      "\t timepoint 6000\n"
     ]
    },
    {
     "name": "stderr",
     "output_type": "stream",
     "text": [
      "C:\\Users\\mplitt\\MightyMorphingPhotonRangers\\utilities.py:324: RuntimeWarning: Mean of empty slice\n",
      "  zone1_speed[i] = np.nanmean(sub_frame.loc[zone1_mask,'speed'])\n",
      "C:\\Users\\mplitt\\MightyMorphingPhotonRangers\\utilities.py:323: RuntimeWarning: Mean of empty slice\n",
      "  zone0_speed[i]=np.nanmean(sub_frame.loc[zone0_mask,'speed'])\n",
      "C:\\Users\\mplitt\\Anaconda3\\lib\\site-packages\\matplotlib\\pyplot.py:514: RuntimeWarning: More than 20 figures have been opened. Figures created through the pyplot interface (`matplotlib.pyplot.figure`) are retained until explicitly closed and may consume too much memory. (To control this warning, see the rcParam `figure.max_open_warning`).\n",
      "  max_open_warning, RuntimeWarning)\n"
     ]
    },
    {
     "name": "stdout",
     "output_type": "stream",
     "text": [
      "MouseName                                                4139224.3\n",
      "DateFolder                                              26_10_2018\n",
      "SessionNumber                                                    3\n",
      "Track                                             TwoTower_Timeout\n",
      "RewardCount                                                     72\n",
      "Imaging                                                          1\n",
      "ImagingRegion                                                  CA1\n",
      "DateTime                                       2018-10-26 00:00:00\n",
      "data file        G:\\My Drive\\VR_Data\\TwoTower\\4139224.3\\26_10_2...\n",
      "scanfile         G:\\My Drive\\2P_Data\\TwoTower\\4139224.3\\26_10_2...\n",
      "scanmat          G:\\My Drive\\2P_Data\\TwoTower\\4139224.3\\26_10_2...\n",
      "s2pfolder        G:\\My Drive\\2P_Data\\TwoTower\\4139224.3\\26_10_2...\n",
      "Name: 933, dtype: object\n",
      "num aberrant ttls 0.0\n",
      "31376 (31376,) (31376, 20) 99274\n"
     ]
    },
    {
     "name": "stderr",
     "output_type": "stream",
     "text": [
      "C:\\Users\\mplitt\\Anaconda3\\lib\\site-packages\\pandas\\core\\frame.py:4034: SettingWithCopyWarning: \n",
      "A value is trying to be set on a copy of a slice from a DataFrame\n",
      "\n",
      "See the caveats in the documentation: http://pandas.pydata.org/pandas-docs/stable/indexing.html#indexing-view-versus-copy\n",
      "  downcast=downcast, **kwargs)\n"
     ]
    },
    {
     "name": "stdout",
     "output_type": "stream",
     "text": [
      "frame diff 0\n",
      "training fold 0\n",
      "training fold 1\n",
      "training fold 2\n",
      "346 cells included in decoding model\n",
      "start fold  0\n",
      "decoding fold 0\n",
      "\t total timepoints = 7888\n",
      "\t timepoint 0\n",
      "\t timepoint 1000\n",
      "\t timepoint 2000\n",
      "\t timepoint 3000\n",
      "\t timepoint 4000\n",
      "\t timepoint 5000\n",
      "\t timepoint 6000\n",
      "\t timepoint 7000\n",
      "start fold  1\n",
      "decoding fold 1\n",
      "\t total timepoints = 8321\n",
      "\t timepoint 0\n",
      "\t timepoint 1000\n",
      "\t timepoint 2000\n",
      "\t timepoint 3000\n",
      "\t timepoint 4000\n",
      "\t timepoint 5000\n",
      "\t timepoint 6000\n",
      "\t timepoint 7000\n",
      "\t timepoint 8000\n",
      "start fold  2\n",
      "decoding fold 2\n",
      "\t total timepoints = 8690\n",
      "\t timepoint 0\n",
      "\t timepoint 1000\n",
      "\t timepoint 2000\n",
      "\t timepoint 3000\n",
      "\t timepoint 4000\n",
      "\t timepoint 5000\n",
      "\t timepoint 6000\n",
      "\t timepoint 7000\n",
      "\t timepoint 8000\n"
     ]
    },
    {
     "name": "stderr",
     "output_type": "stream",
     "text": [
      "C:\\Users\\mplitt\\MightyMorphingPhotonRangers\\utilities.py:324: RuntimeWarning: Mean of empty slice\n",
      "  zone1_speed[i] = np.nanmean(sub_frame.loc[zone1_mask,'speed'])\n",
      "C:\\Users\\mplitt\\Anaconda3\\lib\\site-packages\\matplotlib\\pyplot.py:514: RuntimeWarning: More than 20 figures have been opened. Figures created through the pyplot interface (`matplotlib.pyplot.figure`) are retained until explicitly closed and may consume too much memory. (To control this warning, see the rcParam `figure.max_open_warning`).\n",
      "  max_open_warning, RuntimeWarning)\n"
     ]
    },
    {
     "name": "stdout",
     "output_type": "stream",
     "text": [
      "MouseName                                                4139224.3\n",
      "DateFolder                                              27_10_2018\n",
      "SessionNumber                                                    4\n",
      "Track                                             TwoTower_Timeout\n",
      "RewardCount                                                     67\n",
      "Imaging                                                          1\n",
      "ImagingRegion                                                  CA1\n",
      "DateTime                                       2018-10-27 00:00:00\n",
      "data file        G:\\My Drive\\VR_Data\\TwoTower\\4139224.3\\27_10_2...\n",
      "scanfile         G:\\My Drive\\2P_Data\\TwoTower\\4139224.3\\27_10_2...\n",
      "scanmat          G:\\My Drive\\2P_Data\\TwoTower\\4139224.3\\27_10_2...\n",
      "s2pfolder        G:\\My Drive\\2P_Data\\TwoTower\\4139224.3\\27_10_2...\n",
      "Name: 949, dtype: object\n",
      "num aberrant ttls 0.0\n",
      "29572 (29572,) (29572, 20) 92598\n"
     ]
    },
    {
     "name": "stderr",
     "output_type": "stream",
     "text": [
      "C:\\Users\\mplitt\\Anaconda3\\lib\\site-packages\\pandas\\core\\frame.py:4034: SettingWithCopyWarning: \n",
      "A value is trying to be set on a copy of a slice from a DataFrame\n",
      "\n",
      "See the caveats in the documentation: http://pandas.pydata.org/pandas-docs/stable/indexing.html#indexing-view-versus-copy\n",
      "  downcast=downcast, **kwargs)\n"
     ]
    },
    {
     "name": "stdout",
     "output_type": "stream",
     "text": [
      "frame diff 0\n",
      "training fold 0\n",
      "training fold 1\n",
      "training fold 2\n",
      "407 cells included in decoding model\n",
      "start fold  0\n",
      "decoding fold 0\n",
      "\t total timepoints = 8073\n",
      "\t timepoint 0\n",
      "\t timepoint 1000\n",
      "\t timepoint 2000\n",
      "\t timepoint 3000\n",
      "\t timepoint 4000\n",
      "\t timepoint 5000\n",
      "\t timepoint 6000\n",
      "\t timepoint 7000\n",
      "\t timepoint 8000\n",
      "start fold  1\n",
      "decoding fold 1\n",
      "\t total timepoints = 7691\n",
      "\t timepoint 0\n",
      "\t timepoint 1000\n",
      "\t timepoint 2000\n",
      "\t timepoint 3000\n",
      "\t timepoint 4000\n",
      "\t timepoint 5000\n",
      "\t timepoint 6000\n",
      "\t timepoint 7000\n",
      "start fold  2\n",
      "decoding fold 2\n",
      "\t total timepoints = 7968\n",
      "\t timepoint 0\n",
      "\t timepoint 1000\n",
      "\t timepoint 2000\n",
      "\t timepoint 3000\n",
      "\t timepoint 4000\n",
      "\t timepoint 5000\n",
      "\t timepoint 6000\n",
      "\t timepoint 7000\n"
     ]
    },
    {
     "name": "stderr",
     "output_type": "stream",
     "text": [
      "C:\\Users\\mplitt\\MightyMorphingPhotonRangers\\utilities.py:324: RuntimeWarning: Mean of empty slice\n",
      "  zone1_speed[i] = np.nanmean(sub_frame.loc[zone1_mask,'speed'])\n",
      "C:\\Users\\mplitt\\Anaconda3\\lib\\site-packages\\matplotlib\\pyplot.py:514: RuntimeWarning: More than 20 figures have been opened. Figures created through the pyplot interface (`matplotlib.pyplot.figure`) are retained until explicitly closed and may consume too much memory. (To control this warning, see the rcParam `figure.max_open_warning`).\n",
      "  max_open_warning, RuntimeWarning)\n"
     ]
    },
    {
     "name": "stdout",
     "output_type": "stream",
     "text": [
      "MouseName                                                4139224.3\n",
      "DateFolder                                              29_10_2018\n",
      "SessionNumber                                                    1\n",
      "Track                                             TwoTower_Timeout\n",
      "RewardCount                                                     71\n",
      "Imaging                                                          1\n",
      "ImagingRegion                                                  CA1\n",
      "DateTime                                       2018-10-29 00:00:00\n",
      "data file        G:\\My Drive\\VR_Data\\TwoTower\\4139224.3\\29_10_2...\n",
      "scanfile         G:\\My Drive\\2P_Data\\TwoTower\\4139224.3\\29_10_2...\n",
      "scanmat          G:\\My Drive\\2P_Data\\TwoTower\\4139224.3\\29_10_2...\n",
      "s2pfolder        G:\\My Drive\\2P_Data\\TwoTower\\4139224.3\\29_10_2...\n",
      "Name: 959, dtype: object\n",
      "num aberrant ttls 0.0\n",
      "37977 (37977,) (37977, 20) 121175\n"
     ]
    },
    {
     "name": "stderr",
     "output_type": "stream",
     "text": [
      "C:\\Users\\mplitt\\Anaconda3\\lib\\site-packages\\pandas\\core\\frame.py:4034: SettingWithCopyWarning: \n",
      "A value is trying to be set on a copy of a slice from a DataFrame\n",
      "\n",
      "See the caveats in the documentation: http://pandas.pydata.org/pandas-docs/stable/indexing.html#indexing-view-versus-copy\n",
      "  downcast=downcast, **kwargs)\n"
     ]
    },
    {
     "name": "stdout",
     "output_type": "stream",
     "text": [
      "frame diff 0\n",
      "training fold 0\n",
      "training fold 1\n",
      "training fold 2\n",
      "244 cells included in decoding model\n",
      "start fold  0\n",
      "decoding fold 0\n",
      "\t total timepoints = 10650\n",
      "\t timepoint 0\n",
      "\t timepoint 1000\n",
      "\t timepoint 2000\n",
      "\t timepoint 3000\n",
      "\t timepoint 4000\n",
      "\t timepoint 5000\n",
      "\t timepoint 6000\n",
      "\t timepoint 7000\n",
      "\t timepoint 8000\n",
      "\t timepoint 9000\n",
      "\t timepoint 10000\n",
      "start fold  1\n",
      "decoding fold 1\n",
      "\t total timepoints = 10751\n",
      "\t timepoint 0\n",
      "\t timepoint 1000\n",
      "\t timepoint 2000\n",
      "\t timepoint 3000\n",
      "\t timepoint 4000\n",
      "\t timepoint 5000\n",
      "\t timepoint 6000\n",
      "\t timepoint 7000\n",
      "\t timepoint 8000\n",
      "\t timepoint 9000\n",
      "\t timepoint 10000\n",
      "start fold  2\n",
      "decoding fold 2\n",
      "\t total timepoints = 11074\n",
      "\t timepoint 0\n",
      "\t timepoint 1000\n",
      "\t timepoint 2000\n",
      "\t timepoint 3000\n",
      "\t timepoint 4000\n",
      "\t timepoint 5000\n",
      "\t timepoint 6000\n",
      "\t timepoint 7000\n",
      "\t timepoint 8000\n",
      "\t timepoint 9000\n",
      "\t timepoint 10000\n",
      "\t timepoint 11000\n"
     ]
    },
    {
     "name": "stderr",
     "output_type": "stream",
     "text": [
      "C:\\Users\\mplitt\\MightyMorphingPhotonRangers\\utilities.py:324: RuntimeWarning: Mean of empty slice\n",
      "  zone1_speed[i] = np.nanmean(sub_frame.loc[zone1_mask,'speed'])\n",
      "C:\\Users\\mplitt\\Anaconda3\\lib\\site-packages\\matplotlib\\pyplot.py:514: RuntimeWarning: More than 20 figures have been opened. Figures created through the pyplot interface (`matplotlib.pyplot.figure`) are retained until explicitly closed and may consume too much memory. (To control this warning, see the rcParam `figure.max_open_warning`).\n",
      "  max_open_warning, RuntimeWarning)\n"
     ]
    },
    {
     "name": "stdout",
     "output_type": "stream",
     "text": [
      "MouseName                                                4139224.3\n",
      "DateFolder                                              30_10_2018\n",
      "SessionNumber                                                    1\n",
      "Track                                             TwoTower_Timeout\n",
      "RewardCount                                                     78\n",
      "Imaging                                                          1\n",
      "ImagingRegion                                                  CA1\n",
      "DateTime                                       2018-10-30 00:00:00\n",
      "data file        G:\\My Drive\\VR_Data\\TwoTower\\4139224.3\\30_10_2...\n",
      "scanfile         G:\\My Drive\\2P_Data\\TwoTower\\4139224.3\\30_10_2...\n",
      "scanmat          G:\\My Drive\\2P_Data\\TwoTower\\4139224.3\\30_10_2...\n",
      "s2pfolder        G:\\My Drive\\2P_Data\\TwoTower\\4139224.3\\30_10_2...\n",
      "Name: 970, dtype: object\n",
      "num aberrant ttls 0.0\n",
      "32188 (32188,) (32188, 20) 101194\n"
     ]
    },
    {
     "name": "stderr",
     "output_type": "stream",
     "text": [
      "C:\\Users\\mplitt\\Anaconda3\\lib\\site-packages\\pandas\\core\\frame.py:4034: SettingWithCopyWarning: \n",
      "A value is trying to be set on a copy of a slice from a DataFrame\n",
      "\n",
      "See the caveats in the documentation: http://pandas.pydata.org/pandas-docs/stable/indexing.html#indexing-view-versus-copy\n",
      "  downcast=downcast, **kwargs)\n"
     ]
    },
    {
     "name": "stdout",
     "output_type": "stream",
     "text": [
      "frame diff 0\n",
      "training fold 0\n",
      "training fold 1\n",
      "training fold 2\n",
      "328 cells included in decoding model\n",
      "start fold  0\n",
      "decoding fold 0\n",
      "\t total timepoints = 9115\n",
      "\t timepoint 0\n",
      "\t timepoint 1000\n",
      "\t timepoint 2000\n",
      "\t timepoint 3000\n",
      "\t timepoint 4000\n",
      "\t timepoint 5000\n",
      "\t timepoint 6000\n",
      "\t timepoint 7000\n",
      "\t timepoint 8000\n",
      "\t timepoint 9000\n",
      "start fold  1\n",
      "decoding fold 1\n",
      "\t total timepoints = 8636\n",
      "\t timepoint 0\n",
      "\t timepoint 1000\n",
      "\t timepoint 2000\n",
      "\t timepoint 3000\n",
      "\t timepoint 4000\n",
      "\t timepoint 5000\n",
      "\t timepoint 6000\n",
      "\t timepoint 7000\n",
      "\t timepoint 8000\n",
      "start fold  2\n",
      "decoding fold 2\n",
      "\t total timepoints = 9700\n",
      "\t timepoint 0\n",
      "\t timepoint 1000\n",
      "\t timepoint 2000\n",
      "\t timepoint 3000\n",
      "\t timepoint 4000\n",
      "\t timepoint 5000\n",
      "\t timepoint 6000\n",
      "\t timepoint 7000\n",
      "\t timepoint 8000\n",
      "\t timepoint 9000\n"
     ]
    },
    {
     "name": "stderr",
     "output_type": "stream",
     "text": [
      "C:\\Users\\mplitt\\MightyMorphingPhotonRangers\\utilities.py:324: RuntimeWarning: Mean of empty slice\n",
      "  zone1_speed[i] = np.nanmean(sub_frame.loc[zone1_mask,'speed'])\n",
      "C:\\Users\\mplitt\\Anaconda3\\lib\\site-packages\\matplotlib\\pyplot.py:514: RuntimeWarning: More than 20 figures have been opened. Figures created through the pyplot interface (`matplotlib.pyplot.figure`) are retained until explicitly closed and may consume too much memory. (To control this warning, see the rcParam `figure.max_open_warning`).\n",
      "  max_open_warning, RuntimeWarning)\n"
     ]
    },
    {
     "name": "stdout",
     "output_type": "stream",
     "text": [
      "MouseName                                                4139224.3\n",
      "DateFolder                                              31_10_2018\n",
      "SessionNumber                                                    2\n",
      "Track                                             TwoTower_Timeout\n",
      "RewardCount                                                     66\n",
      "Imaging                                                          1\n",
      "ImagingRegion                                                  CA1\n",
      "DateTime                                       2018-10-31 00:00:00\n",
      "data file        G:\\My Drive\\VR_Data\\TwoTower\\4139224.3\\31_10_2...\n",
      "scanfile         G:\\My Drive\\2P_Data\\TwoTower\\4139224.3\\31_10_2...\n",
      "scanmat          G:\\My Drive\\2P_Data\\TwoTower\\4139224.3\\31_10_2...\n",
      "s2pfolder        G:\\My Drive\\2P_Data\\TwoTower\\4139224.3\\31_10_2...\n",
      "Name: 983, dtype: object\n",
      "num aberrant ttls 0.0\n",
      "28824 (28824,) (28824, 20) 89367\n"
     ]
    },
    {
     "name": "stderr",
     "output_type": "stream",
     "text": [
      "C:\\Users\\mplitt\\Anaconda3\\lib\\site-packages\\pandas\\core\\frame.py:4034: SettingWithCopyWarning: \n",
      "A value is trying to be set on a copy of a slice from a DataFrame\n",
      "\n",
      "See the caveats in the documentation: http://pandas.pydata.org/pandas-docs/stable/indexing.html#indexing-view-versus-copy\n",
      "  downcast=downcast, **kwargs)\n"
     ]
    },
    {
     "name": "stdout",
     "output_type": "stream",
     "text": [
      "frame diff 0\n",
      "training fold 0\n",
      "training fold 1\n",
      "training fold 2\n",
      "125 cells included in decoding model\n",
      "start fold  0\n",
      "decoding fold 0\n",
      "\t total timepoints = 6961\n",
      "\t timepoint 0\n",
      "\t timepoint 1000\n",
      "\t timepoint 2000\n",
      "\t timepoint 3000\n",
      "\t timepoint 4000\n",
      "\t timepoint 5000\n",
      "\t timepoint 6000\n",
      "start fold  1\n",
      "decoding fold 1\n",
      "\t total timepoints = 6839\n",
      "\t timepoint 0\n",
      "\t timepoint 1000\n",
      "\t timepoint 2000\n",
      "\t timepoint 3000\n",
      "\t timepoint 4000\n",
      "\t timepoint 5000\n",
      "\t timepoint 6000\n",
      "start fold  2\n",
      "decoding fold 2\n",
      "\t total timepoints = 8690\n",
      "\t timepoint 0\n",
      "\t timepoint 1000\n",
      "\t timepoint 2000\n",
      "\t timepoint 3000\n",
      "\t timepoint 4000\n",
      "\t timepoint 5000\n",
      "\t timepoint 6000\n",
      "\t timepoint 7000\n",
      "\t timepoint 8000\n"
     ]
    },
    {
     "name": "stderr",
     "output_type": "stream",
     "text": [
      "C:\\Users\\mplitt\\MightyMorphingPhotonRangers\\utilities.py:324: RuntimeWarning: Mean of empty slice\n",
      "  zone1_speed[i] = np.nanmean(sub_frame.loc[zone1_mask,'speed'])\n",
      "C:\\Users\\mplitt\\Anaconda3\\lib\\site-packages\\matplotlib\\pyplot.py:514: RuntimeWarning: More than 20 figures have been opened. Figures created through the pyplot interface (`matplotlib.pyplot.figure`) are retained until explicitly closed and may consume too much memory. (To control this warning, see the rcParam `figure.max_open_warning`).\n",
      "  max_open_warning, RuntimeWarning)\n"
     ]
    },
    {
     "name": "stdout",
     "output_type": "stream",
     "text": [
      "MouseName                                                4139224.3\n",
      "DateFolder                                              02_11_2018\n",
      "SessionNumber                                                    1\n",
      "Track                                             TwoTower_Timeout\n",
      "RewardCount                                                     64\n",
      "Imaging                                                          1\n",
      "ImagingRegion                                                  CA1\n",
      "DateTime                                       2018-11-02 00:00:00\n",
      "data file        G:\\My Drive\\VR_Data\\TwoTower\\4139224.3\\02_11_2...\n",
      "scanfile         G:\\My Drive\\2P_Data\\TwoTower\\4139224.3\\02_11_2...\n",
      "scanmat          G:\\My Drive\\2P_Data\\TwoTower\\4139224.3\\02_11_2...\n",
      "s2pfolder        G:\\My Drive\\2P_Data\\TwoTower\\4139224.3\\02_11_2...\n",
      "Name: 993, dtype: object\n",
      "num aberrant ttls 0.0\n",
      "28114 (28114,) (28114, 20) 88941\n"
     ]
    },
    {
     "name": "stderr",
     "output_type": "stream",
     "text": [
      "C:\\Users\\mplitt\\Anaconda3\\lib\\site-packages\\pandas\\core\\frame.py:4034: SettingWithCopyWarning: \n",
      "A value is trying to be set on a copy of a slice from a DataFrame\n",
      "\n",
      "See the caveats in the documentation: http://pandas.pydata.org/pandas-docs/stable/indexing.html#indexing-view-versus-copy\n",
      "  downcast=downcast, **kwargs)\n"
     ]
    },
    {
     "name": "stdout",
     "output_type": "stream",
     "text": [
      "frame diff 0\n",
      "training fold 0\n",
      "training fold 1\n",
      "training fold 2\n",
      "221 cells included in decoding model\n",
      "start fold  0\n",
      "decoding fold 0\n",
      "\t total timepoints = 7509\n",
      "\t timepoint 0\n",
      "\t timepoint 1000\n",
      "\t timepoint 2000\n",
      "\t timepoint 3000\n",
      "\t timepoint 4000\n",
      "\t timepoint 5000\n",
      "\t timepoint 6000\n",
      "\t timepoint 7000\n",
      "start fold  1\n",
      "decoding fold 1\n",
      "\t total timepoints = 7529\n",
      "\t timepoint 0\n",
      "\t timepoint 1000\n",
      "\t timepoint 2000\n",
      "\t timepoint 3000\n",
      "\t timepoint 4000\n",
      "\t timepoint 5000\n",
      "\t timepoint 6000\n",
      "\t timepoint 7000\n",
      "start fold  2\n",
      "decoding fold 2\n",
      "\t total timepoints = 7086\n",
      "\t timepoint 0\n",
      "\t timepoint 1000\n",
      "\t timepoint 2000\n",
      "\t timepoint 3000\n",
      "\t timepoint 4000\n",
      "\t timepoint 5000\n",
      "\t timepoint 6000\n",
      "\t timepoint 7000\n"
     ]
    },
    {
     "name": "stderr",
     "output_type": "stream",
     "text": [
      "C:\\Users\\mplitt\\MightyMorphingPhotonRangers\\utilities.py:324: RuntimeWarning: Mean of empty slice\n",
      "  zone1_speed[i] = np.nanmean(sub_frame.loc[zone1_mask,'speed'])\n",
      "C:\\Users\\mplitt\\Anaconda3\\lib\\site-packages\\matplotlib\\pyplot.py:514: RuntimeWarning: More than 20 figures have been opened. Figures created through the pyplot interface (`matplotlib.pyplot.figure`) are retained until explicitly closed and may consume too much memory. (To control this warning, see the rcParam `figure.max_open_warning`).\n",
      "  max_open_warning, RuntimeWarning)\n"
     ]
    },
    {
     "name": "stdout",
     "output_type": "stream",
     "text": [
      "MouseName                                                4139224.5\n",
      "DateFolder                                              18_10_2018\n",
      "SessionNumber                                                    1\n",
      "Track                                           TwoTower_noTimeout\n",
      "RewardCount                                                     65\n",
      "Imaging                                                          1\n",
      "ImagingRegion                                                  CA1\n",
      "DateTime                                       2018-10-18 00:00:00\n",
      "data file        G:\\My Drive\\VR_Data\\TwoTower\\4139224.5\\18_10_2...\n",
      "scanfile         G:\\My Drive\\2P_Data\\TwoTower\\4139224.5\\18_10_2...\n",
      "scanmat          G:\\My Drive\\2P_Data\\TwoTower\\4139224.5\\18_10_2...\n",
      "s2pfolder        G:\\My Drive\\2P_Data\\TwoTower\\4139224.5\\18_10_2...\n",
      "Name: 808, dtype: object\n",
      "num aberrant ttls 0.0\n",
      "16404 (16404,) (16404, 20) 48743\n"
     ]
    },
    {
     "name": "stderr",
     "output_type": "stream",
     "text": [
      "C:\\Users\\mplitt\\Anaconda3\\lib\\site-packages\\pandas\\core\\frame.py:4034: SettingWithCopyWarning: \n",
      "A value is trying to be set on a copy of a slice from a DataFrame\n",
      "\n",
      "See the caveats in the documentation: http://pandas.pydata.org/pandas-docs/stable/indexing.html#indexing-view-versus-copy\n",
      "  downcast=downcast, **kwargs)\n"
     ]
    },
    {
     "name": "stdout",
     "output_type": "stream",
     "text": [
      "frame diff 0\n",
      "training fold 0\n",
      "training fold 1\n",
      "training fold 2\n",
      "9 cells included in decoding model\n",
      "start fold  0\n",
      "decoding fold 0\n",
      "\t total timepoints = 4467\n",
      "\t timepoint 0\n",
      "\t timepoint 1000\n",
      "\t timepoint 2000\n",
      "\t timepoint 3000\n",
      "\t timepoint 4000\n",
      "start fold  1\n",
      "decoding fold 1\n",
      "\t total timepoints = 4751\n",
      "\t timepoint 0\n",
      "\t timepoint 1000\n",
      "\t timepoint 2000\n",
      "\t timepoint 3000\n",
      "\t timepoint 4000\n",
      "start fold  2\n",
      "decoding fold 2\n",
      "\t total timepoints = 4637\n",
      "\t timepoint 0\n",
      "\t timepoint 1000\n",
      "\t timepoint 2000\n",
      "\t timepoint 3000\n",
      "\t timepoint 4000\n"
     ]
    },
    {
     "name": "stderr",
     "output_type": "stream",
     "text": [
      "C:\\Users\\mplitt\\Anaconda3\\lib\\site-packages\\matplotlib\\pyplot.py:514: RuntimeWarning: More than 20 figures have been opened. Figures created through the pyplot interface (`matplotlib.pyplot.figure`) are retained until explicitly closed and may consume too much memory. (To control this warning, see the rcParam `figure.max_open_warning`).\n",
      "  max_open_warning, RuntimeWarning)\n"
     ]
    },
    {
     "name": "stdout",
     "output_type": "stream",
     "text": [
      "MouseName                                                4139224.5\n",
      "DateFolder                                              19_10_2018\n",
      "SessionNumber                                                    2\n",
      "Track                                           TwoTower_noTimeout\n",
      "RewardCount                                                     46\n",
      "Imaging                                                          1\n",
      "ImagingRegion                                                  CA1\n",
      "DateTime                                       2018-10-19 00:00:00\n",
      "data file        G:\\My Drive\\VR_Data\\TwoTower\\4139224.5\\19_10_2...\n",
      "scanfile         G:\\My Drive\\2P_Data\\TwoTower\\4139224.5\\19_10_2...\n",
      "scanmat          G:\\My Drive\\2P_Data\\TwoTower\\4139224.5\\19_10_2...\n",
      "s2pfolder        G:\\My Drive\\2P_Data\\TwoTower\\4139224.5\\19_10_2...\n",
      "Name: 811, dtype: object\n",
      "num aberrant ttls 0.0\n",
      "15431 (15431,) (15431, 20) 47390\n"
     ]
    },
    {
     "name": "stderr",
     "output_type": "stream",
     "text": [
      "C:\\Users\\mplitt\\Anaconda3\\lib\\site-packages\\pandas\\core\\frame.py:4034: SettingWithCopyWarning: \n",
      "A value is trying to be set on a copy of a slice from a DataFrame\n",
      "\n",
      "See the caveats in the documentation: http://pandas.pydata.org/pandas-docs/stable/indexing.html#indexing-view-versus-copy\n",
      "  downcast=downcast, **kwargs)\n"
     ]
    },
    {
     "name": "stdout",
     "output_type": "stream",
     "text": [
      "frame diff 0\n",
      "training fold 0\n",
      "training fold 1\n",
      "training fold 2\n",
      "6 cells included in decoding model\n",
      "start fold  0\n",
      "decoding fold 0\n",
      "\t total timepoints = 4503\n",
      "\t timepoint 0\n",
      "\t timepoint 1000\n",
      "\t timepoint 2000\n",
      "\t timepoint 3000\n",
      "\t timepoint 4000\n",
      "start fold  1\n",
      "decoding fold 1\n",
      "\t total timepoints = 4246\n",
      "\t timepoint 0\n",
      "\t timepoint 1000\n",
      "\t timepoint 2000\n",
      "\t timepoint 3000\n",
      "\t timepoint 4000\n",
      "start fold  2\n",
      "decoding fold 2\n",
      "\t total timepoints = 4022\n",
      "\t timepoint 0\n",
      "\t timepoint 1000\n",
      "\t timepoint 2000\n",
      "\t timepoint 3000\n",
      "\t timepoint 4000\n"
     ]
    },
    {
     "name": "stderr",
     "output_type": "stream",
     "text": [
      "C:\\Users\\mplitt\\Anaconda3\\lib\\site-packages\\matplotlib\\pyplot.py:514: RuntimeWarning: More than 20 figures have been opened. Figures created through the pyplot interface (`matplotlib.pyplot.figure`) are retained until explicitly closed and may consume too much memory. (To control this warning, see the rcParam `figure.max_open_warning`).\n",
      "  max_open_warning, RuntimeWarning)\n"
     ]
    },
    {
     "name": "stdout",
     "output_type": "stream",
     "text": [
      "MouseName                                                4139224.5\n",
      "DateFolder                                              20_10_2018\n",
      "SessionNumber                                                    2\n",
      "Track                                           TwoTower_noTimeout\n",
      "RewardCount                                                     57\n",
      "Imaging                                                          1\n",
      "ImagingRegion                                                  CA1\n",
      "DateTime                                       2018-10-20 00:00:00\n",
      "data file        G:\\My Drive\\VR_Data\\TwoTower\\4139224.5\\20_10_2...\n",
      "scanfile         G:\\My Drive\\2P_Data\\TwoTower\\4139224.5\\20_10_2...\n",
      "scanmat          G:\\My Drive\\2P_Data\\TwoTower\\4139224.5\\20_10_2...\n",
      "s2pfolder        G:\\My Drive\\2P_Data\\TwoTower\\4139224.5\\20_10_2...\n",
      "Name: 843, dtype: object\n",
      "num aberrant ttls 0.0\n",
      "17446 (17446,) (17446, 20) 55257\n"
     ]
    },
    {
     "name": "stderr",
     "output_type": "stream",
     "text": [
      "C:\\Users\\mplitt\\Anaconda3\\lib\\site-packages\\pandas\\core\\frame.py:4034: SettingWithCopyWarning: \n",
      "A value is trying to be set on a copy of a slice from a DataFrame\n",
      "\n",
      "See the caveats in the documentation: http://pandas.pydata.org/pandas-docs/stable/indexing.html#indexing-view-versus-copy\n",
      "  downcast=downcast, **kwargs)\n"
     ]
    },
    {
     "name": "stdout",
     "output_type": "stream",
     "text": [
      "frame diff 0\n",
      "training fold 0\n",
      "training fold 1\n",
      "training fold 2\n",
      "17 cells included in decoding model\n",
      "start fold  0\n",
      "decoding fold 0\n",
      "\t total timepoints = 4991\n",
      "\t timepoint 0\n",
      "\t timepoint 1000\n",
      "\t timepoint 2000\n",
      "\t timepoint 3000\n",
      "\t timepoint 4000\n",
      "start fold  1\n",
      "decoding fold 1\n",
      "\t total timepoints = 4916\n",
      "\t timepoint 0\n",
      "\t timepoint 1000\n",
      "\t timepoint 2000\n",
      "\t timepoint 3000\n",
      "\t timepoint 4000\n",
      "start fold  2\n",
      "decoding fold 2\n",
      "\t total timepoints = 5052\n",
      "\t timepoint 0\n",
      "\t timepoint 1000\n",
      "\t timepoint 2000\n",
      "\t timepoint 3000\n",
      "\t timepoint 4000\n",
      "\t timepoint 5000\n"
     ]
    },
    {
     "name": "stderr",
     "output_type": "stream",
     "text": [
      "C:\\Users\\mplitt\\Anaconda3\\lib\\site-packages\\matplotlib\\pyplot.py:514: RuntimeWarning: More than 20 figures have been opened. Figures created through the pyplot interface (`matplotlib.pyplot.figure`) are retained until explicitly closed and may consume too much memory. (To control this warning, see the rcParam `figure.max_open_warning`).\n",
      "  max_open_warning, RuntimeWarning)\n"
     ]
    },
    {
     "name": "stdout",
     "output_type": "stream",
     "text": [
      "MouseName                                                4139224.5\n",
      "DateFolder                                              23_10_2018\n",
      "SessionNumber                                                    2\n",
      "Track                                             TwoTower_Timeout\n",
      "RewardCount                                                     80\n",
      "Imaging                                                          1\n",
      "ImagingRegion                                                  CA1\n",
      "DateTime                                       2018-10-23 00:00:00\n",
      "data file        G:\\My Drive\\VR_Data\\TwoTower\\4139224.5\\23_10_2...\n",
      "scanfile         G:\\My Drive\\2P_Data\\TwoTower\\4139224.5\\23_10_2...\n",
      "scanmat          G:\\My Drive\\2P_Data\\TwoTower\\4139224.5\\23_10_2...\n",
      "s2pfolder        G:\\My Drive\\2P_Data\\TwoTower\\4139224.5\\23_10_2...\n",
      "Name: 883, dtype: object\n",
      "num aberrant ttls 0.0\n",
      "21790 (21790,) (21790, 20) 69745\n"
     ]
    },
    {
     "name": "stderr",
     "output_type": "stream",
     "text": [
      "C:\\Users\\mplitt\\Anaconda3\\lib\\site-packages\\pandas\\core\\frame.py:4034: SettingWithCopyWarning: \n",
      "A value is trying to be set on a copy of a slice from a DataFrame\n",
      "\n",
      "See the caveats in the documentation: http://pandas.pydata.org/pandas-docs/stable/indexing.html#indexing-view-versus-copy\n",
      "  downcast=downcast, **kwargs)\n"
     ]
    },
    {
     "name": "stdout",
     "output_type": "stream",
     "text": [
      "frame diff 0\n"
     ]
    },
    {
     "name": "stderr",
     "output_type": "stream",
     "text": [
      "C:\\Users\\mplitt\\MightyMorphingPhotonRangers\\utilities.py:324: RuntimeWarning: Mean of empty slice\n",
      "  zone1_speed[i] = np.nanmean(sub_frame.loc[zone1_mask,'speed'])\n"
     ]
    },
    {
     "name": "stdout",
     "output_type": "stream",
     "text": [
      "training fold 0\n",
      "training fold 1\n",
      "training fold 2\n",
      "69 cells included in decoding model\n",
      "start fold  0\n",
      "decoding fold 0\n",
      "\t total timepoints = 5763\n",
      "\t timepoint 0\n",
      "\t timepoint 1000\n",
      "\t timepoint 2000\n",
      "\t timepoint 3000\n",
      "\t timepoint 4000\n",
      "\t timepoint 5000\n",
      "start fold  1\n",
      "decoding fold 1\n",
      "\t total timepoints = 5519\n",
      "\t timepoint 0\n",
      "\t timepoint 1000\n",
      "\t timepoint 2000\n",
      "\t timepoint 3000\n",
      "\t timepoint 4000\n",
      "\t timepoint 5000\n",
      "start fold  2\n",
      "decoding fold 2\n",
      "\t total timepoints = 5992\n",
      "\t timepoint 0\n",
      "\t timepoint 1000\n",
      "\t timepoint 2000\n",
      "\t timepoint 3000\n",
      "\t timepoint 4000\n",
      "\t timepoint 5000\n"
     ]
    },
    {
     "name": "stderr",
     "output_type": "stream",
     "text": [
      "C:\\Users\\mplitt\\MightyMorphingPhotonRangers\\utilities.py:324: RuntimeWarning: Mean of empty slice\n",
      "  zone1_speed[i] = np.nanmean(sub_frame.loc[zone1_mask,'speed'])\n",
      "C:\\Users\\mplitt\\Anaconda3\\lib\\site-packages\\matplotlib\\pyplot.py:514: RuntimeWarning: More than 20 figures have been opened. Figures created through the pyplot interface (`matplotlib.pyplot.figure`) are retained until explicitly closed and may consume too much memory. (To control this warning, see the rcParam `figure.max_open_warning`).\n",
      "  max_open_warning, RuntimeWarning)\n"
     ]
    },
    {
     "name": "stdout",
     "output_type": "stream",
     "text": [
      "MouseName                                                4139224.5\n",
      "DateFolder                                              25_10_2018\n",
      "SessionNumber                                                    2\n",
      "Track                                             TwoTower_Timeout\n",
      "RewardCount                                                     71\n",
      "Imaging                                                          1\n",
      "ImagingRegion                                                  CA1\n",
      "DateTime                                       2018-10-25 00:00:00\n",
      "data file        G:\\My Drive\\VR_Data\\TwoTower\\4139224.5\\25_10_2...\n",
      "scanfile         G:\\My Drive\\2P_Data\\TwoTower\\4139224.5\\25_10_2...\n",
      "scanmat          G:\\My Drive\\2P_Data\\TwoTower\\4139224.5\\25_10_2...\n",
      "s2pfolder        G:\\My Drive\\2P_Data\\TwoTower\\4139224.5\\25_10_2...\n",
      "Name: 913, dtype: object\n",
      "num aberrant ttls 0.0\n",
      "18881 (18881,) (18881, 20) 57538\n"
     ]
    },
    {
     "name": "stderr",
     "output_type": "stream",
     "text": [
      "C:\\Users\\mplitt\\Anaconda3\\lib\\site-packages\\pandas\\core\\frame.py:4034: SettingWithCopyWarning: \n",
      "A value is trying to be set on a copy of a slice from a DataFrame\n",
      "\n",
      "See the caveats in the documentation: http://pandas.pydata.org/pandas-docs/stable/indexing.html#indexing-view-versus-copy\n",
      "  downcast=downcast, **kwargs)\n"
     ]
    },
    {
     "name": "stdout",
     "output_type": "stream",
     "text": [
      "frame diff 0\n",
      "training fold 0\n",
      "training fold 1\n",
      "training fold 2\n",
      "77 cells included in decoding model\n",
      "start fold  0\n",
      "decoding fold 0\n",
      "\t total timepoints = 5097\n",
      "\t timepoint 0\n",
      "\t timepoint 1000\n",
      "\t timepoint 2000\n",
      "\t timepoint 3000\n",
      "\t timepoint 4000\n",
      "\t timepoint 5000\n",
      "start fold  1\n",
      "decoding fold 1\n",
      "\t total timepoints = 5303\n",
      "\t timepoint 0\n",
      "\t timepoint 1000\n",
      "\t timepoint 2000\n",
      "\t timepoint 3000\n",
      "\t timepoint 4000\n",
      "\t timepoint 5000\n",
      "start fold  2\n",
      "decoding fold 2\n",
      "\t total timepoints = 4656\n",
      "\t timepoint 0\n",
      "\t timepoint 1000\n",
      "\t timepoint 2000\n",
      "\t timepoint 3000\n",
      "\t timepoint 4000\n"
     ]
    },
    {
     "name": "stderr",
     "output_type": "stream",
     "text": [
      "C:\\Users\\mplitt\\MightyMorphingPhotonRangers\\utilities.py:324: RuntimeWarning: Mean of empty slice\n",
      "  zone1_speed[i] = np.nanmean(sub_frame.loc[zone1_mask,'speed'])\n",
      "C:\\Users\\mplitt\\Anaconda3\\lib\\site-packages\\matplotlib\\pyplot.py:514: RuntimeWarning: More than 20 figures have been opened. Figures created through the pyplot interface (`matplotlib.pyplot.figure`) are retained until explicitly closed and may consume too much memory. (To control this warning, see the rcParam `figure.max_open_warning`).\n",
      "  max_open_warning, RuntimeWarning)\n"
     ]
    },
    {
     "name": "stdout",
     "output_type": "stream",
     "text": [
      "MouseName                                                4139224.5\n",
      "DateFolder                                              26_10_2018\n",
      "SessionNumber                                                    2\n",
      "Track                                             TwoTower_Timeout\n",
      "RewardCount                                                     50\n",
      "Imaging                                                          1\n",
      "ImagingRegion                                                  CA1\n",
      "DateTime                                       2018-10-26 00:00:00\n",
      "data file        G:\\My Drive\\VR_Data\\TwoTower\\4139224.5\\26_10_2...\n",
      "scanfile         G:\\My Drive\\2P_Data\\TwoTower\\4139224.5\\26_10_2...\n",
      "scanmat          G:\\My Drive\\2P_Data\\TwoTower\\4139224.5\\26_10_2...\n",
      "s2pfolder        G:\\My Drive\\2P_Data\\TwoTower\\4139224.5\\26_10_2...\n",
      "Name: 937, dtype: object\n",
      "num aberrant ttls 0.0\n",
      "18855 (18855,) (18855, 20) 59619\n"
     ]
    },
    {
     "name": "stderr",
     "output_type": "stream",
     "text": [
      "C:\\Users\\mplitt\\Anaconda3\\lib\\site-packages\\pandas\\core\\frame.py:4034: SettingWithCopyWarning: \n",
      "A value is trying to be set on a copy of a slice from a DataFrame\n",
      "\n",
      "See the caveats in the documentation: http://pandas.pydata.org/pandas-docs/stable/indexing.html#indexing-view-versus-copy\n",
      "  downcast=downcast, **kwargs)\n"
     ]
    },
    {
     "name": "stdout",
     "output_type": "stream",
     "text": [
      "frame diff 0\n",
      "training fold 0\n",
      "training fold 1\n",
      "training fold 2\n",
      "81 cells included in decoding model\n",
      "start fold  0\n",
      "decoding fold 0\n",
      "\t total timepoints = 4113\n",
      "\t timepoint 0\n",
      "\t timepoint 1000\n",
      "\t timepoint 2000\n",
      "\t timepoint 3000\n",
      "\t timepoint 4000\n",
      "start fold  1\n",
      "decoding fold 1\n",
      "\t total timepoints = 4132\n",
      "\t timepoint 0\n",
      "\t timepoint 1000\n",
      "\t timepoint 2000\n",
      "\t timepoint 3000\n",
      "\t timepoint 4000\n",
      "start fold  2\n",
      "decoding fold 2\n",
      "\t total timepoints = 4133\n",
      "\t timepoint 0\n",
      "\t timepoint 1000\n",
      "\t timepoint 2000\n",
      "\t timepoint 3000\n",
      "\t timepoint 4000\n"
     ]
    },
    {
     "name": "stderr",
     "output_type": "stream",
     "text": [
      "C:\\Users\\mplitt\\MightyMorphingPhotonRangers\\utilities.py:324: RuntimeWarning: Mean of empty slice\n",
      "  zone1_speed[i] = np.nanmean(sub_frame.loc[zone1_mask,'speed'])\n",
      "C:\\Users\\mplitt\\Anaconda3\\lib\\site-packages\\matplotlib\\pyplot.py:514: RuntimeWarning: More than 20 figures have been opened. Figures created through the pyplot interface (`matplotlib.pyplot.figure`) are retained until explicitly closed and may consume too much memory. (To control this warning, see the rcParam `figure.max_open_warning`).\n",
      "  max_open_warning, RuntimeWarning)\n"
     ]
    },
    {
     "name": "stdout",
     "output_type": "stream",
     "text": [
      "MouseName                                                4139224.5\n",
      "DateFolder                                              27_10_2018\n",
      "SessionNumber                                                    2\n",
      "Track                                             TwoTower_Timeout\n",
      "RewardCount                                                     95\n",
      "Imaging                                                          1\n",
      "ImagingRegion                                                  CA1\n",
      "DateTime                                       2018-10-27 00:00:00\n",
      "data file        G:\\My Drive\\VR_Data\\TwoTower\\4139224.5\\27_10_2...\n",
      "scanfile         G:\\My Drive\\2P_Data\\TwoTower\\4139224.5\\27_10_2...\n",
      "scanmat          G:\\My Drive\\2P_Data\\TwoTower\\4139224.5\\27_10_2...\n",
      "s2pfolder        G:\\My Drive\\2P_Data\\TwoTower\\4139224.5\\27_10_2...\n",
      "Name: 952, dtype: object\n",
      "num aberrant ttls 0.0\n",
      "29679 (29679,) (29679, 20) 92950\n"
     ]
    },
    {
     "name": "stderr",
     "output_type": "stream",
     "text": [
      "C:\\Users\\mplitt\\Anaconda3\\lib\\site-packages\\pandas\\core\\frame.py:4034: SettingWithCopyWarning: \n",
      "A value is trying to be set on a copy of a slice from a DataFrame\n",
      "\n",
      "See the caveats in the documentation: http://pandas.pydata.org/pandas-docs/stable/indexing.html#indexing-view-versus-copy\n",
      "  downcast=downcast, **kwargs)\n"
     ]
    },
    {
     "name": "stdout",
     "output_type": "stream",
     "text": [
      "frame diff 0\n",
      "training fold 0\n",
      "training fold 1\n",
      "training fold 2\n",
      "209 cells included in decoding model\n",
      "start fold  0\n",
      "decoding fold 0\n",
      "\t total timepoints = 7794\n",
      "\t timepoint 0\n",
      "\t timepoint 1000\n",
      "\t timepoint 2000\n",
      "\t timepoint 3000\n",
      "\t timepoint 4000\n",
      "\t timepoint 5000\n",
      "\t timepoint 6000\n",
      "\t timepoint 7000\n",
      "start fold  1\n",
      "decoding fold 1\n",
      "\t total timepoints = 7745\n",
      "\t timepoint 0\n",
      "\t timepoint 1000\n",
      "\t timepoint 2000\n",
      "\t timepoint 3000\n",
      "\t timepoint 4000\n",
      "\t timepoint 5000\n",
      "\t timepoint 6000\n",
      "\t timepoint 7000\n",
      "start fold  2\n",
      "decoding fold 2\n",
      "\t total timepoints = 8260\n",
      "\t timepoint 0\n",
      "\t timepoint 1000\n",
      "\t timepoint 2000\n",
      "\t timepoint 3000\n",
      "\t timepoint 4000\n",
      "\t timepoint 5000\n",
      "\t timepoint 6000\n",
      "\t timepoint 7000\n",
      "\t timepoint 8000\n"
     ]
    },
    {
     "name": "stderr",
     "output_type": "stream",
     "text": [
      "C:\\Users\\mplitt\\MightyMorphingPhotonRangers\\utilities.py:324: RuntimeWarning: Mean of empty slice\n",
      "  zone1_speed[i] = np.nanmean(sub_frame.loc[zone1_mask,'speed'])\n",
      "C:\\Users\\mplitt\\Anaconda3\\lib\\site-packages\\matplotlib\\pyplot.py:514: RuntimeWarning: More than 20 figures have been opened. Figures created through the pyplot interface (`matplotlib.pyplot.figure`) are retained until explicitly closed and may consume too much memory. (To control this warning, see the rcParam `figure.max_open_warning`).\n",
      "  max_open_warning, RuntimeWarning)\n"
     ]
    },
    {
     "name": "stdout",
     "output_type": "stream",
     "text": [
      "MouseName                                                4139224.5\n",
      "DateFolder                                              29_10_2018\n",
      "SessionNumber                                                    1\n",
      "Track                                             TwoTower_Timeout\n",
      "RewardCount                                                     97\n",
      "Imaging                                                          1\n",
      "ImagingRegion                                                  CA1\n",
      "DateTime                                       2018-10-29 00:00:00\n",
      "data file        G:\\My Drive\\VR_Data\\TwoTower\\4139224.5\\29_10_2...\n",
      "scanfile         G:\\My Drive\\2P_Data\\TwoTower\\4139224.5\\29_10_2...\n",
      "scanmat          G:\\My Drive\\2P_Data\\TwoTower\\4139224.5\\29_10_2...\n",
      "s2pfolder        G:\\My Drive\\2P_Data\\TwoTower\\4139224.5\\29_10_2...\n",
      "Name: 962, dtype: object\n",
      "num aberrant ttls 0.0\n",
      "25040 (25040,) (25040, 20) 78534\n"
     ]
    },
    {
     "name": "stderr",
     "output_type": "stream",
     "text": [
      "C:\\Users\\mplitt\\Anaconda3\\lib\\site-packages\\pandas\\core\\frame.py:4034: SettingWithCopyWarning: \n",
      "A value is trying to be set on a copy of a slice from a DataFrame\n",
      "\n",
      "See the caveats in the documentation: http://pandas.pydata.org/pandas-docs/stable/indexing.html#indexing-view-versus-copy\n",
      "  downcast=downcast, **kwargs)\n"
     ]
    },
    {
     "name": "stdout",
     "output_type": "stream",
     "text": [
      "frame diff 0\n"
     ]
    },
    {
     "name": "stderr",
     "output_type": "stream",
     "text": [
      "C:\\Users\\mplitt\\MightyMorphingPhotonRangers\\utilities.py:323: RuntimeWarning: Mean of empty slice\n",
      "  zone0_speed[i]=np.nanmean(sub_frame.loc[zone0_mask,'speed'])\n"
     ]
    },
    {
     "name": "stdout",
     "output_type": "stream",
     "text": [
      "training fold 0\n",
      "training fold 1\n",
      "training fold 2\n",
      "78 cells included in decoding model\n",
      "start fold  0\n",
      "decoding fold 0\n",
      "\t total timepoints = 6344\n",
      "\t timepoint 0\n",
      "\t timepoint 1000\n",
      "\t timepoint 2000\n",
      "\t timepoint 3000\n",
      "\t timepoint 4000\n",
      "\t timepoint 5000\n",
      "\t timepoint 6000\n",
      "start fold  1\n",
      "decoding fold 1\n",
      "\t total timepoints = 6402\n",
      "\t timepoint 0\n",
      "\t timepoint 1000\n",
      "\t timepoint 2000\n",
      "\t timepoint 3000\n",
      "\t timepoint 4000\n",
      "\t timepoint 5000\n",
      "\t timepoint 6000\n",
      "start fold  2\n",
      "decoding fold 2\n",
      "\t total timepoints = 6603\n",
      "\t timepoint 0\n",
      "\t timepoint 1000\n",
      "\t timepoint 2000\n",
      "\t timepoint 3000\n",
      "\t timepoint 4000\n",
      "\t timepoint 5000\n",
      "\t timepoint 6000\n"
     ]
    },
    {
     "name": "stderr",
     "output_type": "stream",
     "text": [
      "C:\\Users\\mplitt\\MightyMorphingPhotonRangers\\utilities.py:324: RuntimeWarning: Mean of empty slice\n",
      "  zone1_speed[i] = np.nanmean(sub_frame.loc[zone1_mask,'speed'])\n",
      "C:\\Users\\mplitt\\MightyMorphingPhotonRangers\\utilities.py:323: RuntimeWarning: Mean of empty slice\n",
      "  zone0_speed[i]=np.nanmean(sub_frame.loc[zone0_mask,'speed'])\n",
      "C:\\Users\\mplitt\\Anaconda3\\lib\\site-packages\\matplotlib\\pyplot.py:514: RuntimeWarning: More than 20 figures have been opened. Figures created through the pyplot interface (`matplotlib.pyplot.figure`) are retained until explicitly closed and may consume too much memory. (To control this warning, see the rcParam `figure.max_open_warning`).\n",
      "  max_open_warning, RuntimeWarning)\n"
     ]
    },
    {
     "name": "stdout",
     "output_type": "stream",
     "text": [
      "MouseName                                                4139224.5\n",
      "DateFolder                                              30_10_2018\n",
      "SessionNumber                                                    1\n",
      "Track                                             TwoTower_Timeout\n",
      "RewardCount                                                     68\n",
      "Imaging                                                          1\n",
      "ImagingRegion                                                  CA1\n",
      "DateTime                                       2018-10-30 00:00:00\n",
      "data file        G:\\My Drive\\VR_Data\\TwoTower\\4139224.5\\30_10_2...\n",
      "scanfile         G:\\My Drive\\2P_Data\\TwoTower\\4139224.5\\30_10_2...\n",
      "scanmat          G:\\My Drive\\2P_Data\\TwoTower\\4139224.5\\30_10_2...\n",
      "s2pfolder        G:\\My Drive\\2P_Data\\TwoTower\\4139224.5\\30_10_2...\n",
      "Name: 973, dtype: object\n",
      "num aberrant ttls 0.0\n",
      "21275 (21275,) (21275, 20) 66495\n"
     ]
    },
    {
     "name": "stderr",
     "output_type": "stream",
     "text": [
      "C:\\Users\\mplitt\\Anaconda3\\lib\\site-packages\\pandas\\core\\frame.py:4034: SettingWithCopyWarning: \n",
      "A value is trying to be set on a copy of a slice from a DataFrame\n",
      "\n",
      "See the caveats in the documentation: http://pandas.pydata.org/pandas-docs/stable/indexing.html#indexing-view-versus-copy\n",
      "  downcast=downcast, **kwargs)\n"
     ]
    },
    {
     "name": "stdout",
     "output_type": "stream",
     "text": [
      "frame diff 0\n",
      "training fold 0\n",
      "training fold 1\n",
      "training fold 2\n",
      "287 cells included in decoding model\n",
      "start fold  0\n",
      "decoding fold 0\n",
      "\t total timepoints = 5603\n",
      "\t timepoint 0\n",
      "\t timepoint 1000\n",
      "\t timepoint 2000\n",
      "\t timepoint 3000\n",
      "\t timepoint 4000\n",
      "\t timepoint 5000\n",
      "start fold  1\n",
      "decoding fold 1\n",
      "\t total timepoints = 4800\n",
      "\t timepoint 0\n",
      "\t timepoint 1000\n",
      "\t timepoint 2000\n",
      "\t timepoint 3000\n",
      "\t timepoint 4000\n",
      "start fold  2\n",
      "decoding fold 2\n",
      "\t total timepoints = 5669\n",
      "\t timepoint 0\n",
      "\t timepoint 1000\n",
      "\t timepoint 2000\n",
      "\t timepoint 3000\n",
      "\t timepoint 4000\n",
      "\t timepoint 5000\n"
     ]
    },
    {
     "name": "stderr",
     "output_type": "stream",
     "text": [
      "C:\\Users\\mplitt\\MightyMorphingPhotonRangers\\utilities.py:324: RuntimeWarning: Mean of empty slice\n",
      "  zone1_speed[i] = np.nanmean(sub_frame.loc[zone1_mask,'speed'])\n",
      "C:\\Users\\mplitt\\Anaconda3\\lib\\site-packages\\matplotlib\\pyplot.py:514: RuntimeWarning: More than 20 figures have been opened. Figures created through the pyplot interface (`matplotlib.pyplot.figure`) are retained until explicitly closed and may consume too much memory. (To control this warning, see the rcParam `figure.max_open_warning`).\n",
      "  max_open_warning, RuntimeWarning)\n"
     ]
    },
    {
     "name": "stdout",
     "output_type": "stream",
     "text": [
      "MouseName                                                4139224.5\n",
      "DateFolder                                              31_10_2018\n",
      "SessionNumber                                                    1\n",
      "Track                                             TwoTower_Timeout\n",
      "RewardCount                                                     65\n",
      "Imaging                                                          1\n",
      "ImagingRegion                                                  CA1\n",
      "DateTime                                       2018-10-31 00:00:00\n",
      "data file        G:\\My Drive\\VR_Data\\TwoTower\\4139224.5\\31_10_2...\n",
      "scanfile         G:\\My Drive\\2P_Data\\TwoTower\\4139224.5\\31_10_2...\n",
      "scanmat          G:\\My Drive\\2P_Data\\TwoTower\\4139224.5\\31_10_2...\n",
      "s2pfolder        G:\\My Drive\\2P_Data\\TwoTower\\4139224.5\\31_10_2...\n",
      "Name: 986, dtype: object\n",
      "num aberrant ttls 0.0\n",
      "21639 (21639,) (21639, 20) 66372\n"
     ]
    },
    {
     "name": "stderr",
     "output_type": "stream",
     "text": [
      "C:\\Users\\mplitt\\Anaconda3\\lib\\site-packages\\pandas\\core\\frame.py:4034: SettingWithCopyWarning: \n",
      "A value is trying to be set on a copy of a slice from a DataFrame\n",
      "\n",
      "See the caveats in the documentation: http://pandas.pydata.org/pandas-docs/stable/indexing.html#indexing-view-versus-copy\n",
      "  downcast=downcast, **kwargs)\n"
     ]
    },
    {
     "name": "stdout",
     "output_type": "stream",
     "text": [
      "frame diff 0\n",
      "training fold 0\n",
      "training fold 1\n",
      "training fold 2\n",
      "216 cells included in decoding model\n",
      "start fold  0\n",
      "decoding fold 0\n",
      "\t total timepoints = 5110\n",
      "\t timepoint 0\n",
      "\t timepoint 1000\n",
      "\t timepoint 2000\n",
      "\t timepoint 3000\n",
      "\t timepoint 4000\n",
      "\t timepoint 5000\n",
      "start fold  1\n",
      "decoding fold 1\n",
      "\t total timepoints = 5083\n",
      "\t timepoint 0\n",
      "\t timepoint 1000\n",
      "\t timepoint 2000\n",
      "\t timepoint 3000\n",
      "\t timepoint 4000\n",
      "\t timepoint 5000\n",
      "start fold  2\n",
      "decoding fold 2\n",
      "\t total timepoints = 5650\n",
      "\t timepoint 0\n",
      "\t timepoint 1000\n",
      "\t timepoint 2000\n",
      "\t timepoint 3000\n",
      "\t timepoint 4000\n",
      "\t timepoint 5000\n"
     ]
    },
    {
     "name": "stderr",
     "output_type": "stream",
     "text": [
      "C:\\Users\\mplitt\\MightyMorphingPhotonRangers\\utilities.py:324: RuntimeWarning: Mean of empty slice\n",
      "  zone1_speed[i] = np.nanmean(sub_frame.loc[zone1_mask,'speed'])\n",
      "C:\\Users\\mplitt\\Anaconda3\\lib\\site-packages\\matplotlib\\pyplot.py:514: RuntimeWarning: More than 20 figures have been opened. Figures created through the pyplot interface (`matplotlib.pyplot.figure`) are retained until explicitly closed and may consume too much memory. (To control this warning, see the rcParam `figure.max_open_warning`).\n",
      "  max_open_warning, RuntimeWarning)\n"
     ]
    },
    {
     "name": "stdout",
     "output_type": "stream",
     "text": [
      "MouseName                                                4139224.5\n",
      "DateFolder                                              02_11_2018\n",
      "SessionNumber                                                    1\n",
      "Track                                             TwoTower_Timeout\n",
      "RewardCount                                                     88\n",
      "Imaging                                                          1\n",
      "ImagingRegion                                                  CA1\n",
      "DateTime                                       2018-11-02 00:00:00\n",
      "data file        G:\\My Drive\\VR_Data\\TwoTower\\4139224.5\\02_11_2...\n",
      "scanfile         G:\\My Drive\\2P_Data\\TwoTower\\4139224.5\\02_11_2...\n",
      "scanmat          G:\\My Drive\\2P_Data\\TwoTower\\4139224.5\\02_11_2...\n",
      "s2pfolder        G:\\My Drive\\2P_Data\\TwoTower\\4139224.5\\02_11_2...\n",
      "Name: 995, dtype: object\n",
      "num aberrant ttls 0.0\n",
      "28466 (28466,) (28466, 20) 89830\n"
     ]
    },
    {
     "name": "stderr",
     "output_type": "stream",
     "text": [
      "C:\\Users\\mplitt\\Anaconda3\\lib\\site-packages\\pandas\\core\\frame.py:4034: SettingWithCopyWarning: \n",
      "A value is trying to be set on a copy of a slice from a DataFrame\n",
      "\n",
      "See the caveats in the documentation: http://pandas.pydata.org/pandas-docs/stable/indexing.html#indexing-view-versus-copy\n",
      "  downcast=downcast, **kwargs)\n"
     ]
    },
    {
     "name": "stdout",
     "output_type": "stream",
     "text": [
      "frame diff 0\n",
      "training fold 0\n",
      "training fold 1\n",
      "training fold 2\n",
      "139 cells included in decoding model\n",
      "start fold  0\n",
      "decoding fold 0\n",
      "\t total timepoints = 6807\n",
      "\t timepoint 0\n",
      "\t timepoint 1000\n",
      "\t timepoint 2000\n",
      "\t timepoint 3000\n",
      "\t timepoint 4000\n",
      "\t timepoint 5000\n",
      "\t timepoint 6000\n",
      "start fold  1\n",
      "decoding fold 1\n",
      "\t total timepoints = 6678\n",
      "\t timepoint 0\n",
      "\t timepoint 1000\n",
      "\t timepoint 2000\n",
      "\t timepoint 3000\n",
      "\t timepoint 4000\n",
      "\t timepoint 5000\n",
      "\t timepoint 6000\n",
      "start fold  2\n",
      "decoding fold 2\n",
      "\t total timepoints = 7607\n",
      "\t timepoint 0\n",
      "\t timepoint 1000\n",
      "\t timepoint 2000\n",
      "\t timepoint 3000\n",
      "\t timepoint 4000\n",
      "\t timepoint 5000\n",
      "\t timepoint 6000\n",
      "\t timepoint 7000\n"
     ]
    },
    {
     "name": "stderr",
     "output_type": "stream",
     "text": [
      "C:\\Users\\mplitt\\MightyMorphingPhotonRangers\\utilities.py:324: RuntimeWarning: Mean of empty slice\n",
      "  zone1_speed[i] = np.nanmean(sub_frame.loc[zone1_mask,'speed'])\n",
      "C:\\Users\\mplitt\\Anaconda3\\lib\\site-packages\\matplotlib\\pyplot.py:514: RuntimeWarning: More than 20 figures have been opened. Figures created through the pyplot interface (`matplotlib.pyplot.figure`) are retained until explicitly closed and may consume too much memory. (To control this warning, see the rcParam `figure.max_open_warning`).\n",
      "  max_open_warning, RuntimeWarning)\n"
     ]
    },
    {
     "name": "stdout",
     "output_type": "stream",
     "text": [
      "MouseName                                                4139219.2\n",
      "DateFolder                                              08_10_2018\n",
      "SessionNumber                                                    1\n",
      "Track                                           TwoTower_noTimeout\n",
      "RewardCount                                                     63\n",
      "Imaging                                                          1\n",
      "ImagingRegion                                                  CA1\n",
      "DateTime                                       2018-10-08 00:00:00\n",
      "data file        G:\\My Drive\\VR_Data\\TwoTower\\4139219.2\\08_10_2...\n",
      "scanfile         G:\\My Drive\\2P_Data\\TwoTower\\4139219.2\\08_10_2...\n",
      "scanmat          G:\\My Drive\\2P_Data\\TwoTower\\4139219.2\\08_10_2...\n",
      "s2pfolder        G:\\My Drive\\2P_Data\\TwoTower\\4139219.2\\08_10_2...\n",
      "Name: 616, dtype: object\n",
      "num aberrant ttls 0.0\n",
      "23896 (23896,) (23896, 20) 75957\n"
     ]
    },
    {
     "name": "stderr",
     "output_type": "stream",
     "text": [
      "C:\\Users\\mplitt\\Anaconda3\\lib\\site-packages\\pandas\\core\\frame.py:4034: SettingWithCopyWarning: \n",
      "A value is trying to be set on a copy of a slice from a DataFrame\n",
      "\n",
      "See the caveats in the documentation: http://pandas.pydata.org/pandas-docs/stable/indexing.html#indexing-view-versus-copy\n",
      "  downcast=downcast, **kwargs)\n"
     ]
    },
    {
     "name": "stdout",
     "output_type": "stream",
     "text": [
      "frame diff 0\n",
      "training fold 0\n",
      "training fold 1\n",
      "training fold 2\n",
      "6 cells included in decoding model\n",
      "start fold  0\n",
      "decoding fold 0\n",
      "\t total timepoints = 6813\n",
      "\t timepoint 0\n",
      "\t timepoint 1000\n",
      "\t timepoint 2000\n",
      "\t timepoint 3000\n",
      "\t timepoint 4000\n",
      "\t timepoint 5000\n",
      "\t timepoint 6000\n",
      "start fold  1\n",
      "decoding fold 1\n",
      "\t total timepoints = 6925\n",
      "\t timepoint 0\n",
      "\t timepoint 1000\n",
      "\t timepoint 2000\n",
      "\t timepoint 3000\n",
      "\t timepoint 4000\n",
      "\t timepoint 5000\n",
      "\t timepoint 6000\n",
      "start fold  2\n",
      "decoding fold 2\n",
      "\t total timepoints = 6341\n",
      "\t timepoint 0\n",
      "\t timepoint 1000\n",
      "\t timepoint 2000\n",
      "\t timepoint 3000\n",
      "\t timepoint 4000\n",
      "\t timepoint 5000\n",
      "\t timepoint 6000\n"
     ]
    },
    {
     "name": "stderr",
     "output_type": "stream",
     "text": [
      "C:\\Users\\mplitt\\Anaconda3\\lib\\site-packages\\matplotlib\\pyplot.py:514: RuntimeWarning: More than 20 figures have been opened. Figures created through the pyplot interface (`matplotlib.pyplot.figure`) are retained until explicitly closed and may consume too much memory. (To control this warning, see the rcParam `figure.max_open_warning`).\n",
      "  max_open_warning, RuntimeWarning)\n"
     ]
    },
    {
     "name": "stdout",
     "output_type": "stream",
     "text": [
      "MouseName                                                4139219.2\n",
      "DateFolder                                              10_10_2018\n",
      "SessionNumber                                                    2\n",
      "Track                                           TwoTower_noTimeout\n",
      "RewardCount                                                     86\n",
      "Imaging                                                          1\n",
      "ImagingRegion                                                  CA1\n",
      "DateTime                                       2018-10-10 00:00:00\n",
      "data file        G:\\My Drive\\VR_Data\\TwoTower\\4139219.2\\10_10_2...\n",
      "scanfile         G:\\My Drive\\2P_Data\\TwoTower\\4139219.2\\10_10_2...\n",
      "scanmat          G:\\My Drive\\2P_Data\\TwoTower\\4139219.2\\10_10_2...\n",
      "s2pfolder        G:\\My Drive\\2P_Data\\TwoTower\\4139219.2\\10_10_2...\n",
      "Name: 651, dtype: object\n",
      "num aberrant ttls 0.0\n",
      "30960 (30960,) (30960, 20) 98149\n"
     ]
    },
    {
     "name": "stderr",
     "output_type": "stream",
     "text": [
      "C:\\Users\\mplitt\\Anaconda3\\lib\\site-packages\\pandas\\core\\frame.py:4034: SettingWithCopyWarning: \n",
      "A value is trying to be set on a copy of a slice from a DataFrame\n",
      "\n",
      "See the caveats in the documentation: http://pandas.pydata.org/pandas-docs/stable/indexing.html#indexing-view-versus-copy\n",
      "  downcast=downcast, **kwargs)\n"
     ]
    },
    {
     "name": "stdout",
     "output_type": "stream",
     "text": [
      "frame diff 0\n",
      "training fold 0\n",
      "training fold 1\n",
      "training fold 2\n",
      "150 cells included in decoding model\n",
      "start fold  0\n",
      "decoding fold 0\n",
      "\t total timepoints = 8968\n",
      "\t timepoint 0\n",
      "\t timepoint 1000\n",
      "\t timepoint 2000\n",
      "\t timepoint 3000\n",
      "\t timepoint 4000\n",
      "\t timepoint 5000\n",
      "\t timepoint 6000\n",
      "\t timepoint 7000\n",
      "\t timepoint 8000\n",
      "start fold  1\n",
      "decoding fold 1\n",
      "\t total timepoints = 8992\n",
      "\t timepoint 0\n",
      "\t timepoint 1000\n",
      "\t timepoint 2000\n",
      "\t timepoint 3000\n",
      "\t timepoint 4000\n",
      "\t timepoint 5000\n",
      "\t timepoint 6000\n",
      "\t timepoint 7000\n",
      "\t timepoint 8000\n",
      "start fold  2\n",
      "decoding fold 2\n",
      "\t total timepoints = 9505\n",
      "\t timepoint 0\n",
      "\t timepoint 1000\n",
      "\t timepoint 2000\n",
      "\t timepoint 3000\n",
      "\t timepoint 4000\n",
      "\t timepoint 5000\n",
      "\t timepoint 6000\n",
      "\t timepoint 7000\n",
      "\t timepoint 8000\n",
      "\t timepoint 9000\n"
     ]
    },
    {
     "name": "stderr",
     "output_type": "stream",
     "text": [
      "C:\\Users\\mplitt\\Anaconda3\\lib\\site-packages\\matplotlib\\pyplot.py:514: RuntimeWarning: More than 20 figures have been opened. Figures created through the pyplot interface (`matplotlib.pyplot.figure`) are retained until explicitly closed and may consume too much memory. (To control this warning, see the rcParam `figure.max_open_warning`).\n",
      "  max_open_warning, RuntimeWarning)\n"
     ]
    },
    {
     "name": "stdout",
     "output_type": "stream",
     "text": [
      "MouseName                                                4139219.2\n",
      "DateFolder                                              12_10_2018\n",
      "SessionNumber                                                    1\n",
      "Track                                             TwoTower_Timeout\n",
      "RewardCount                                                     54\n",
      "Imaging                                                          1\n",
      "ImagingRegion                                                  CA1\n",
      "DateTime                                       2018-10-12 00:00:00\n",
      "data file        G:\\My Drive\\VR_Data\\TwoTower\\4139219.2\\12_10_2...\n",
      "scanfile         G:\\My Drive\\2P_Data\\TwoTower\\4139219.2\\12_10_2...\n",
      "scanmat          G:\\My Drive\\2P_Data\\TwoTower\\4139219.2\\12_10_2...\n",
      "s2pfolder        G:\\My Drive\\2P_Data\\TwoTower\\4139219.2\\12_10_2...\n",
      "Name: 689, dtype: object\n",
      "num aberrant ttls 0.0\n",
      "24805 (24805,) (24805, 20) 76931\n"
     ]
    },
    {
     "name": "stderr",
     "output_type": "stream",
     "text": [
      "C:\\Users\\mplitt\\Anaconda3\\lib\\site-packages\\pandas\\core\\frame.py:4034: SettingWithCopyWarning: \n",
      "A value is trying to be set on a copy of a slice from a DataFrame\n",
      "\n",
      "See the caveats in the documentation: http://pandas.pydata.org/pandas-docs/stable/indexing.html#indexing-view-versus-copy\n",
      "  downcast=downcast, **kwargs)\n"
     ]
    },
    {
     "name": "stdout",
     "output_type": "stream",
     "text": [
      "frame diff 0\n"
     ]
    },
    {
     "name": "stderr",
     "output_type": "stream",
     "text": [
      "C:\\Users\\mplitt\\MightyMorphingPhotonRangers\\utilities.py:323: RuntimeWarning: Mean of empty slice\n",
      "  zone0_speed[i]=np.nanmean(sub_frame.loc[zone0_mask,'speed'])\n",
      "C:\\Users\\mplitt\\MightyMorphingPhotonRangers\\utilities.py:324: RuntimeWarning: Mean of empty slice\n",
      "  zone1_speed[i] = np.nanmean(sub_frame.loc[zone1_mask,'speed'])\n"
     ]
    },
    {
     "name": "stdout",
     "output_type": "stream",
     "text": [
      "training fold 0\n",
      "training fold 1\n",
      "training fold 2\n",
      "92 cells included in decoding model\n",
      "start fold  0\n",
      "decoding fold 0\n",
      "\t total timepoints = 6158\n",
      "\t timepoint 0\n",
      "\t timepoint 1000\n",
      "\t timepoint 2000\n",
      "\t timepoint 3000\n",
      "\t timepoint 4000\n",
      "\t timepoint 5000\n",
      "\t timepoint 6000\n",
      "start fold  1\n",
      "decoding fold 1\n",
      "\t total timepoints = 5796\n",
      "\t timepoint 0\n",
      "\t timepoint 1000\n",
      "\t timepoint 2000\n",
      "\t timepoint 3000\n",
      "\t timepoint 4000\n",
      "\t timepoint 5000\n",
      "start fold  2\n",
      "decoding fold 2\n",
      "\t total timepoints = 5274\n",
      "\t timepoint 0\n",
      "\t timepoint 1000\n",
      "\t timepoint 2000\n",
      "\t timepoint 3000\n",
      "\t timepoint 4000\n",
      "\t timepoint 5000\n"
     ]
    },
    {
     "name": "stderr",
     "output_type": "stream",
     "text": [
      "C:\\Users\\mplitt\\MightyMorphingPhotonRangers\\utilities.py:323: RuntimeWarning: Mean of empty slice\n",
      "  zone0_speed[i]=np.nanmean(sub_frame.loc[zone0_mask,'speed'])\n",
      "C:\\Users\\mplitt\\MightyMorphingPhotonRangers\\utilities.py:324: RuntimeWarning: Mean of empty slice\n",
      "  zone1_speed[i] = np.nanmean(sub_frame.loc[zone1_mask,'speed'])\n",
      "C:\\Users\\mplitt\\Anaconda3\\lib\\site-packages\\matplotlib\\pyplot.py:514: RuntimeWarning: More than 20 figures have been opened. Figures created through the pyplot interface (`matplotlib.pyplot.figure`) are retained until explicitly closed and may consume too much memory. (To control this warning, see the rcParam `figure.max_open_warning`).\n",
      "  max_open_warning, RuntimeWarning)\n"
     ]
    },
    {
     "name": "stdout",
     "output_type": "stream",
     "text": [
      "MouseName                                                4139219.2\n",
      "DateFolder                                              15_10_2018\n",
      "SessionNumber                                                    2\n",
      "Track                                             TwoTower_Timeout\n",
      "RewardCount                                                     54\n",
      "Imaging                                                          1\n",
      "ImagingRegion                                                  CA1\n",
      "DateTime                                       2018-10-15 00:00:00\n",
      "data file        G:\\My Drive\\VR_Data\\TwoTower\\4139219.2\\15_10_2...\n",
      "scanfile         G:\\My Drive\\2P_Data\\TwoTower\\4139219.2\\15_10_2...\n",
      "scanmat          G:\\My Drive\\2P_Data\\TwoTower\\4139219.2\\15_10_2...\n",
      "s2pfolder        G:\\My Drive\\2P_Data\\TwoTower\\4139219.2\\15_10_2...\n",
      "Name: 735, dtype: object\n",
      "num aberrant ttls 0.0\n",
      "17614 (17614,) (17614, 20) 55670\n"
     ]
    },
    {
     "name": "stderr",
     "output_type": "stream",
     "text": [
      "C:\\Users\\mplitt\\Anaconda3\\lib\\site-packages\\pandas\\core\\frame.py:4034: SettingWithCopyWarning: \n",
      "A value is trying to be set on a copy of a slice from a DataFrame\n",
      "\n",
      "See the caveats in the documentation: http://pandas.pydata.org/pandas-docs/stable/indexing.html#indexing-view-versus-copy\n",
      "  downcast=downcast, **kwargs)\n"
     ]
    },
    {
     "name": "stdout",
     "output_type": "stream",
     "text": [
      "frame diff 0\n",
      "training fold 0\n",
      "training fold 1\n",
      "training fold 2\n",
      "210 cells included in decoding model\n",
      "start fold  0\n",
      "decoding fold 0\n",
      "\t total timepoints = 4858\n",
      "\t timepoint 0\n",
      "\t timepoint 1000\n",
      "\t timepoint 2000\n",
      "\t timepoint 3000\n",
      "\t timepoint 4000\n",
      "start fold  1\n",
      "decoding fold 1\n",
      "\t total timepoints = 4504\n",
      "\t timepoint 0\n",
      "\t timepoint 1000\n",
      "\t timepoint 2000\n",
      "\t timepoint 3000\n",
      "\t timepoint 4000\n",
      "start fold  2\n",
      "decoding fold 2\n",
      "\t total timepoints = 5087\n",
      "\t timepoint 0\n",
      "\t timepoint 1000\n",
      "\t timepoint 2000\n",
      "\t timepoint 3000\n",
      "\t timepoint 4000\n",
      "\t timepoint 5000\n"
     ]
    },
    {
     "name": "stderr",
     "output_type": "stream",
     "text": [
      "C:\\Users\\mplitt\\MightyMorphingPhotonRangers\\utilities.py:324: RuntimeWarning: Mean of empty slice\n",
      "  zone1_speed[i] = np.nanmean(sub_frame.loc[zone1_mask,'speed'])\n",
      "C:\\Users\\mplitt\\Anaconda3\\lib\\site-packages\\matplotlib\\pyplot.py:514: RuntimeWarning: More than 20 figures have been opened. Figures created through the pyplot interface (`matplotlib.pyplot.figure`) are retained until explicitly closed and may consume too much memory. (To control this warning, see the rcParam `figure.max_open_warning`).\n",
      "  max_open_warning, RuntimeWarning)\n"
     ]
    },
    {
     "name": "stdout",
     "output_type": "stream",
     "text": [
      "MouseName                                                4139219.2\n",
      "DateFolder                                              17_10_2018\n",
      "SessionNumber                                                    6\n",
      "Track                                             TwoTower_Timeout\n",
      "RewardCount                                                     53\n",
      "Imaging                                                          1\n",
      "ImagingRegion                                                  CA1\n",
      "DateTime                                       2018-10-17 00:00:00\n",
      "data file        G:\\My Drive\\VR_Data\\TwoTower\\4139219.2\\17_10_2...\n",
      "scanfile         G:\\My Drive\\2P_Data\\TwoTower\\4139219.2\\17_10_2...\n",
      "scanmat          G:\\My Drive\\2P_Data\\TwoTower\\4139219.2\\17_10_2...\n",
      "s2pfolder        G:\\My Drive\\2P_Data\\TwoTower\\4139219.2\\17_10_2...\n",
      "Name: 780, dtype: object\n",
      "num aberrant ttls 0.0\n",
      "14831 (14831,) (14831, 20) 47727\n"
     ]
    },
    {
     "name": "stderr",
     "output_type": "stream",
     "text": [
      "C:\\Users\\mplitt\\Anaconda3\\lib\\site-packages\\pandas\\core\\frame.py:4034: SettingWithCopyWarning: \n",
      "A value is trying to be set on a copy of a slice from a DataFrame\n",
      "\n",
      "See the caveats in the documentation: http://pandas.pydata.org/pandas-docs/stable/indexing.html#indexing-view-versus-copy\n",
      "  downcast=downcast, **kwargs)\n"
     ]
    },
    {
     "name": "stdout",
     "output_type": "stream",
     "text": [
      "frame diff 0\n",
      "training fold 0\n",
      "training fold 1\n",
      "training fold 2\n",
      "39 cells included in decoding model\n",
      "start fold  0\n",
      "decoding fold 0\n",
      "\t total timepoints = 3708\n",
      "\t timepoint 0\n",
      "\t timepoint 1000\n",
      "\t timepoint 2000\n",
      "\t timepoint 3000\n",
      "start fold  1\n",
      "decoding fold 1\n",
      "\t total timepoints = 4007\n",
      "\t timepoint 0\n",
      "\t timepoint 1000\n",
      "\t timepoint 2000\n",
      "\t timepoint 3000\n",
      "\t timepoint 4000\n",
      "start fold  2\n",
      "decoding fold 2\n",
      "\t total timepoints = 4168\n",
      "\t timepoint 0\n",
      "\t timepoint 1000\n",
      "\t timepoint 2000\n",
      "\t timepoint 3000\n",
      "\t timepoint 4000\n"
     ]
    },
    {
     "name": "stderr",
     "output_type": "stream",
     "text": [
      "C:\\Users\\mplitt\\MightyMorphingPhotonRangers\\utilities.py:324: RuntimeWarning: Mean of empty slice\n",
      "  zone1_speed[i] = np.nanmean(sub_frame.loc[zone1_mask,'speed'])\n",
      "C:\\Users\\mplitt\\Anaconda3\\lib\\site-packages\\matplotlib\\pyplot.py:514: RuntimeWarning: More than 20 figures have been opened. Figures created through the pyplot interface (`matplotlib.pyplot.figure`) are retained until explicitly closed and may consume too much memory. (To control this warning, see the rcParam `figure.max_open_warning`).\n",
      "  max_open_warning, RuntimeWarning)\n"
     ]
    },
    {
     "name": "stdout",
     "output_type": "stream",
     "text": [
      "MouseName                                                4139219.2\n",
      "DateFolder                                              19_10_2018\n",
      "SessionNumber                                                    1\n",
      "Track                                             TwoTower_Timeout\n",
      "RewardCount                                                     38\n",
      "Imaging                                                          1\n",
      "ImagingRegion                                                  CA1\n",
      "DateTime                                       2018-10-19 00:00:00\n",
      "data file        G:\\My Drive\\VR_Data\\TwoTower\\4139219.2\\19_10_2...\n",
      "scanfile         G:\\My Drive\\2P_Data\\TwoTower\\4139219.2\\19_10_2...\n",
      "scanmat          G:\\My Drive\\2P_Data\\TwoTower\\4139219.2\\19_10_2...\n",
      "s2pfolder        G:\\My Drive\\2P_Data\\TwoTower\\4139219.2\\19_10_2...\n",
      "Name: 818, dtype: object\n",
      "num aberrant ttls 0.0\n",
      "23163 (23163,) (23163, 20) 73565\n"
     ]
    },
    {
     "name": "stderr",
     "output_type": "stream",
     "text": [
      "C:\\Users\\mplitt\\Anaconda3\\lib\\site-packages\\pandas\\core\\frame.py:4034: SettingWithCopyWarning: \n",
      "A value is trying to be set on a copy of a slice from a DataFrame\n",
      "\n",
      "See the caveats in the documentation: http://pandas.pydata.org/pandas-docs/stable/indexing.html#indexing-view-versus-copy\n",
      "  downcast=downcast, **kwargs)\n"
     ]
    },
    {
     "name": "stdout",
     "output_type": "stream",
     "text": [
      "frame diff 0\n"
     ]
    },
    {
     "name": "stderr",
     "output_type": "stream",
     "text": [
      "C:\\Users\\mplitt\\MightyMorphingPhotonRangers\\utilities.py:323: RuntimeWarning: Mean of empty slice\n",
      "  zone0_speed[i]=np.nanmean(sub_frame.loc[zone0_mask,'speed'])\n"
     ]
    },
    {
     "name": "stdout",
     "output_type": "stream",
     "text": [
      "training fold 0\n",
      "training fold 1\n",
      "training fold 2\n",
      "160 cells included in decoding model\n",
      "start fold  0\n",
      "decoding fold 0\n",
      "\t total timepoints = 6744\n",
      "\t timepoint 0\n",
      "\t timepoint 1000\n",
      "\t timepoint 2000\n",
      "\t timepoint 3000\n",
      "\t timepoint 4000\n",
      "\t timepoint 5000\n",
      "\t timepoint 6000\n",
      "start fold  1\n",
      "decoding fold 1\n",
      "\t total timepoints = 5411\n",
      "\t timepoint 0\n",
      "\t timepoint 1000\n",
      "\t timepoint 2000\n",
      "\t timepoint 3000\n",
      "\t timepoint 4000\n",
      "\t timepoint 5000\n",
      "start fold  2\n",
      "decoding fold 2\n",
      "\t total timepoints = 4897\n",
      "\t timepoint 0\n",
      "\t timepoint 1000\n",
      "\t timepoint 2000\n",
      "\t timepoint 3000\n",
      "\t timepoint 4000\n"
     ]
    },
    {
     "name": "stderr",
     "output_type": "stream",
     "text": [
      "C:\\Users\\mplitt\\MightyMorphingPhotonRangers\\utilities.py:324: RuntimeWarning: Mean of empty slice\n",
      "  zone1_speed[i] = np.nanmean(sub_frame.loc[zone1_mask,'speed'])\n",
      "C:\\Users\\mplitt\\MightyMorphingPhotonRangers\\utilities.py:323: RuntimeWarning: Mean of empty slice\n",
      "  zone0_speed[i]=np.nanmean(sub_frame.loc[zone0_mask,'speed'])\n",
      "C:\\Users\\mplitt\\Anaconda3\\lib\\site-packages\\matplotlib\\pyplot.py:514: RuntimeWarning: More than 20 figures have been opened. Figures created through the pyplot interface (`matplotlib.pyplot.figure`) are retained until explicitly closed and may consume too much memory. (To control this warning, see the rcParam `figure.max_open_warning`).\n",
      "  max_open_warning, RuntimeWarning)\n"
     ]
    },
    {
     "name": "stdout",
     "output_type": "stream",
     "text": [
      "MouseName                                                4139219.2\n",
      "DateFolder                                              19_10_2018\n",
      "SessionNumber                                                    3\n",
      "Track                                             TwoTower_Timeout\n",
      "RewardCount                                                     47\n",
      "Imaging                                                          1\n",
      "ImagingRegion                                                  CA1\n",
      "DateTime                                       2018-10-19 00:00:00\n",
      "data file        G:\\My Drive\\VR_Data\\TwoTower\\4139219.2\\19_10_2...\n",
      "scanfile         G:\\My Drive\\2P_Data\\TwoTower\\4139219.2\\19_10_2...\n",
      "scanmat          G:\\My Drive\\2P_Data\\TwoTower\\4139219.2\\19_10_2...\n",
      "s2pfolder        G:\\My Drive\\2P_Data\\TwoTower\\4139219.2\\19_10_2...\n",
      "Name: 820, dtype: object\n",
      "num aberrant ttls 0.0\n",
      "18728 (18728,) (18728, 20) 57221\n"
     ]
    },
    {
     "name": "stderr",
     "output_type": "stream",
     "text": [
      "C:\\Users\\mplitt\\Anaconda3\\lib\\site-packages\\pandas\\core\\frame.py:4034: SettingWithCopyWarning: \n",
      "A value is trying to be set on a copy of a slice from a DataFrame\n",
      "\n",
      "See the caveats in the documentation: http://pandas.pydata.org/pandas-docs/stable/indexing.html#indexing-view-versus-copy\n",
      "  downcast=downcast, **kwargs)\n"
     ]
    },
    {
     "name": "stdout",
     "output_type": "stream",
     "text": [
      "frame diff 0\n",
      "training fold 0\n",
      "training fold 1\n",
      "training fold 2\n",
      "201 cells included in decoding model\n",
      "start fold  0\n",
      "decoding fold 0\n",
      "\t total timepoints = 4844\n",
      "\t timepoint 0\n",
      "\t timepoint 1000\n",
      "\t timepoint 2000\n",
      "\t timepoint 3000\n",
      "\t timepoint 4000\n",
      "start fold  1\n",
      "decoding fold 1\n",
      "\t total timepoints = 4462\n",
      "\t timepoint 0\n",
      "\t timepoint 1000\n",
      "\t timepoint 2000\n",
      "\t timepoint 3000\n",
      "\t timepoint 4000\n",
      "start fold  2\n",
      "decoding fold 2\n",
      "\t total timepoints = 5291\n",
      "\t timepoint 0\n",
      "\t timepoint 1000\n",
      "\t timepoint 2000\n",
      "\t timepoint 3000\n",
      "\t timepoint 4000\n",
      "\t timepoint 5000\n"
     ]
    },
    {
     "name": "stderr",
     "output_type": "stream",
     "text": [
      "C:\\Users\\mplitt\\MightyMorphingPhotonRangers\\utilities.py:324: RuntimeWarning: Mean of empty slice\n",
      "  zone1_speed[i] = np.nanmean(sub_frame.loc[zone1_mask,'speed'])\n",
      "C:\\Users\\mplitt\\Anaconda3\\lib\\site-packages\\matplotlib\\pyplot.py:514: RuntimeWarning: More than 20 figures have been opened. Figures created through the pyplot interface (`matplotlib.pyplot.figure`) are retained until explicitly closed and may consume too much memory. (To control this warning, see the rcParam `figure.max_open_warning`).\n",
      "  max_open_warning, RuntimeWarning)\n"
     ]
    },
    {
     "name": "stdout",
     "output_type": "stream",
     "text": [
      "MouseName                                                4139219.2\n",
      "DateFolder                                              20_10_2018\n",
      "SessionNumber                                                    3\n",
      "Track                                             TwoTower_Timeout\n",
      "RewardCount                                                     52\n",
      "Imaging                                                          1\n",
      "ImagingRegion                                                  CA1\n",
      "DateTime                                       2018-10-20 00:00:00\n",
      "data file        G:\\My Drive\\VR_Data\\TwoTower\\4139219.2\\20_10_2...\n",
      "scanfile         G:\\My Drive\\2P_Data\\TwoTower\\4139219.2\\20_10_2...\n",
      "scanmat          G:\\My Drive\\2P_Data\\TwoTower\\4139219.2\\20_10_2...\n",
      "s2pfolder        G:\\My Drive\\2P_Data\\TwoTower\\4139219.2\\20_10_2...\n",
      "Name: 835, dtype: object\n",
      "MouseName                                                4139219.2\n",
      "DateFolder                                              22_10_2018\n",
      "SessionNumber                                                    2\n",
      "Track                                             TwoTower_Timeout\n",
      "RewardCount                                                     51\n",
      "Imaging                                                          1\n",
      "ImagingRegion                                                  CA1\n",
      "DateTime                                       2018-10-22 00:00:00\n",
      "data file        G:\\My Drive\\VR_Data\\TwoTower\\4139219.2\\22_10_2...\n",
      "scanfile         G:\\My Drive\\2P_Data\\TwoTower\\4139219.2\\22_10_2...\n",
      "scanmat          G:\\My Drive\\2P_Data\\TwoTower\\4139219.2\\22_10_2...\n",
      "s2pfolder        G:\\My Drive\\2P_Data\\TwoTower\\4139219.2\\22_10_2...\n",
      "Name: 853, dtype: object\n",
      "num aberrant ttls 0.0\n",
      "17339 (17339,) (17339, 20) 52237\n"
     ]
    },
    {
     "name": "stderr",
     "output_type": "stream",
     "text": [
      "C:\\Users\\mplitt\\Anaconda3\\lib\\site-packages\\pandas\\core\\frame.py:4034: SettingWithCopyWarning: \n",
      "A value is trying to be set on a copy of a slice from a DataFrame\n",
      "\n",
      "See the caveats in the documentation: http://pandas.pydata.org/pandas-docs/stable/indexing.html#indexing-view-versus-copy\n",
      "  downcast=downcast, **kwargs)\n"
     ]
    },
    {
     "name": "stdout",
     "output_type": "stream",
     "text": [
      "frame diff 0\n"
     ]
    },
    {
     "name": "stderr",
     "output_type": "stream",
     "text": [
      "C:\\Users\\mplitt\\MightyMorphingPhotonRangers\\utilities.py:323: RuntimeWarning: Mean of empty slice\n",
      "  zone0_speed[i]=np.nanmean(sub_frame.loc[zone0_mask,'speed'])\n"
     ]
    },
    {
     "name": "stdout",
     "output_type": "stream",
     "text": [
      "training fold 0\n",
      "training fold 1\n",
      "training fold 2\n",
      "32 cells included in decoding model\n",
      "start fold  0\n",
      "decoding fold 0\n",
      "\t total timepoints = 4393\n",
      "\t timepoint 0\n",
      "\t timepoint 1000\n",
      "\t timepoint 2000\n",
      "\t timepoint 3000\n",
      "\t timepoint 4000\n",
      "start fold  1\n",
      "decoding fold 1\n",
      "\t total timepoints = 4664\n",
      "\t timepoint 0\n",
      "\t timepoint 1000\n",
      "\t timepoint 2000\n",
      "\t timepoint 3000\n",
      "\t timepoint 4000\n",
      "start fold  2\n",
      "decoding fold 2\n",
      "\t total timepoints = 4858\n",
      "\t timepoint 0\n",
      "\t timepoint 1000\n",
      "\t timepoint 2000\n",
      "\t timepoint 3000\n",
      "\t timepoint 4000\n"
     ]
    },
    {
     "name": "stderr",
     "output_type": "stream",
     "text": [
      "C:\\Users\\mplitt\\MightyMorphingPhotonRangers\\utilities.py:323: RuntimeWarning: Mean of empty slice\n",
      "  zone0_speed[i]=np.nanmean(sub_frame.loc[zone0_mask,'speed'])\n",
      "C:\\Users\\mplitt\\MightyMorphingPhotonRangers\\utilities.py:324: RuntimeWarning: Mean of empty slice\n",
      "  zone1_speed[i] = np.nanmean(sub_frame.loc[zone1_mask,'speed'])\n",
      "C:\\Users\\mplitt\\Anaconda3\\lib\\site-packages\\matplotlib\\pyplot.py:514: RuntimeWarning: More than 20 figures have been opened. Figures created through the pyplot interface (`matplotlib.pyplot.figure`) are retained until explicitly closed and may consume too much memory. (To control this warning, see the rcParam `figure.max_open_warning`).\n",
      "  max_open_warning, RuntimeWarning)\n"
     ]
    },
    {
     "name": "stdout",
     "output_type": "stream",
     "text": [
      "MouseName                                                4139219.2\n",
      "DateFolder                                              23_10_2018\n",
      "SessionNumber                                                    2\n",
      "Track                                             TwoTower_Timeout\n",
      "RewardCount                                                    101\n",
      "Imaging                                                          1\n",
      "ImagingRegion                                                  CA1\n",
      "DateTime                                       2018-10-23 00:00:00\n",
      "data file        G:\\My Drive\\VR_Data\\TwoTower\\4139219.2\\23_10_2...\n",
      "scanfile         G:\\My Drive\\2P_Data\\TwoTower\\4139219.2\\23_10_2...\n",
      "scanmat          G:\\My Drive\\2P_Data\\TwoTower\\4139219.2\\23_10_2...\n",
      "s2pfolder        G:\\My Drive\\2P_Data\\TwoTower\\4139219.2\\23_10_2...\n",
      "Name: 872, dtype: object\n",
      "num aberrant ttls 0.0\n",
      "29258 (29258,) (29258, 20) 90985\n"
     ]
    },
    {
     "name": "stderr",
     "output_type": "stream",
     "text": [
      "C:\\Users\\mplitt\\Anaconda3\\lib\\site-packages\\pandas\\core\\frame.py:4034: SettingWithCopyWarning: \n",
      "A value is trying to be set on a copy of a slice from a DataFrame\n",
      "\n",
      "See the caveats in the documentation: http://pandas.pydata.org/pandas-docs/stable/indexing.html#indexing-view-versus-copy\n",
      "  downcast=downcast, **kwargs)\n"
     ]
    },
    {
     "name": "stdout",
     "output_type": "stream",
     "text": [
      "frame diff 0\n",
      "training fold 0\n",
      "training fold 1\n",
      "training fold 2\n",
      "95 cells included in decoding model\n",
      "start fold  0\n",
      "decoding fold 0\n",
      "\t total timepoints = 7947\n",
      "\t timepoint 0\n",
      "\t timepoint 1000\n",
      "\t timepoint 2000\n",
      "\t timepoint 3000\n",
      "\t timepoint 4000\n",
      "\t timepoint 5000\n",
      "\t timepoint 6000\n",
      "\t timepoint 7000\n",
      "start fold  1\n",
      "decoding fold 1\n",
      "\t total timepoints = 7986\n",
      "\t timepoint 0\n",
      "\t timepoint 1000\n",
      "\t timepoint 2000\n",
      "\t timepoint 3000\n",
      "\t timepoint 4000\n",
      "\t timepoint 5000\n",
      "\t timepoint 6000\n",
      "\t timepoint 7000\n",
      "start fold  2\n",
      "decoding fold 2\n",
      "\t total timepoints = 7918\n",
      "\t timepoint 0\n",
      "\t timepoint 1000\n",
      "\t timepoint 2000\n",
      "\t timepoint 3000\n",
      "\t timepoint 4000\n",
      "\t timepoint 5000\n",
      "\t timepoint 6000\n",
      "\t timepoint 7000\n"
     ]
    },
    {
     "name": "stderr",
     "output_type": "stream",
     "text": [
      "C:\\Users\\mplitt\\MightyMorphingPhotonRangers\\utilities.py:323: RuntimeWarning: Mean of empty slice\n",
      "  zone0_speed[i]=np.nanmean(sub_frame.loc[zone0_mask,'speed'])\n",
      "C:\\Users\\mplitt\\MightyMorphingPhotonRangers\\utilities.py:324: RuntimeWarning: Mean of empty slice\n",
      "  zone1_speed[i] = np.nanmean(sub_frame.loc[zone1_mask,'speed'])\n",
      "C:\\Users\\mplitt\\Anaconda3\\lib\\site-packages\\matplotlib\\pyplot.py:514: RuntimeWarning: More than 20 figures have been opened. Figures created through the pyplot interface (`matplotlib.pyplot.figure`) are retained until explicitly closed and may consume too much memory. (To control this warning, see the rcParam `figure.max_open_warning`).\n",
      "  max_open_warning, RuntimeWarning)\n"
     ]
    },
    {
     "name": "stdout",
     "output_type": "stream",
     "text": [
      "MouseName                                                4139219.2\n",
      "DateFolder                                              24_10_2018\n",
      "SessionNumber                                                    2\n",
      "Track                                             TwoTower_Timeout\n",
      "RewardCount                                                     92\n",
      "Imaging                                                          1\n",
      "ImagingRegion                                                  CA1\n",
      "DateTime                                       2018-10-24 00:00:00\n",
      "data file        G:\\My Drive\\VR_Data\\TwoTower\\4139219.2\\24_10_2...\n",
      "scanfile         G:\\My Drive\\2P_Data\\TwoTower\\4139219.2\\24_10_2...\n",
      "scanmat          G:\\My Drive\\2P_Data\\TwoTower\\4139219.2\\24_10_2...\n",
      "s2pfolder        G:\\My Drive\\2P_Data\\TwoTower\\4139219.2\\24_10_2...\n",
      "Name: 891, dtype: object\n",
      "num aberrant ttls 0.0\n",
      "33725 (33725,) (33725, 20) 104008\n"
     ]
    },
    {
     "name": "stderr",
     "output_type": "stream",
     "text": [
      "C:\\Users\\mplitt\\Anaconda3\\lib\\site-packages\\pandas\\core\\frame.py:4034: SettingWithCopyWarning: \n",
      "A value is trying to be set on a copy of a slice from a DataFrame\n",
      "\n",
      "See the caveats in the documentation: http://pandas.pydata.org/pandas-docs/stable/indexing.html#indexing-view-versus-copy\n",
      "  downcast=downcast, **kwargs)\n"
     ]
    },
    {
     "name": "stdout",
     "output_type": "stream",
     "text": [
      "frame diff 0\n",
      "training fold 0\n",
      "training fold 1\n",
      "training fold 2\n",
      "146 cells included in decoding model\n",
      "start fold  0\n",
      "decoding fold 0\n",
      "\t total timepoints = 7862\n",
      "\t timepoint 0\n",
      "\t timepoint 1000\n",
      "\t timepoint 2000\n",
      "\t timepoint 3000\n",
      "\t timepoint 4000\n",
      "\t timepoint 5000\n",
      "\t timepoint 6000\n",
      "\t timepoint 7000\n",
      "start fold  1\n",
      "decoding fold 1\n",
      "\t total timepoints = 8479\n",
      "\t timepoint 0\n",
      "\t timepoint 1000\n",
      "\t timepoint 2000\n",
      "\t timepoint 3000\n",
      "\t timepoint 4000\n",
      "\t timepoint 5000\n",
      "\t timepoint 6000\n",
      "\t timepoint 7000\n",
      "\t timepoint 8000\n",
      "start fold  2\n",
      "decoding fold 2\n",
      "\t total timepoints = 8827\n",
      "\t timepoint 0\n",
      "\t timepoint 1000\n",
      "\t timepoint 2000\n",
      "\t timepoint 3000\n",
      "\t timepoint 4000\n",
      "\t timepoint 5000\n",
      "\t timepoint 6000\n",
      "\t timepoint 7000\n",
      "\t timepoint 8000\n"
     ]
    },
    {
     "name": "stderr",
     "output_type": "stream",
     "text": [
      "C:\\Users\\mplitt\\MightyMorphingPhotonRangers\\utilities.py:324: RuntimeWarning: Mean of empty slice\n",
      "  zone1_speed[i] = np.nanmean(sub_frame.loc[zone1_mask,'speed'])\n",
      "C:\\Users\\mplitt\\Anaconda3\\lib\\site-packages\\matplotlib\\pyplot.py:514: RuntimeWarning: More than 20 figures have been opened. Figures created through the pyplot interface (`matplotlib.pyplot.figure`) are retained until explicitly closed and may consume too much memory. (To control this warning, see the rcParam `figure.max_open_warning`).\n",
      "  max_open_warning, RuntimeWarning)\n"
     ]
    },
    {
     "name": "stdout",
     "output_type": "stream",
     "text": [
      "MouseName                                                4139219.2\n",
      "DateFolder                                              25_10_2018\n",
      "SessionNumber                                                    1\n",
      "Track                                             TwoTower_Timeout\n",
      "RewardCount                                                     73\n",
      "Imaging                                                          1\n",
      "ImagingRegion                                                  CA1\n",
      "DateTime                                       2018-10-25 00:00:00\n",
      "data file        G:\\My Drive\\VR_Data\\TwoTower\\4139219.2\\25_10_2...\n",
      "scanfile         G:\\My Drive\\2P_Data\\TwoTower\\4139219.2\\25_10_2...\n",
      "scanmat          G:\\My Drive\\2P_Data\\TwoTower\\4139219.2\\25_10_2...\n",
      "s2pfolder        G:\\My Drive\\2P_Data\\TwoTower\\4139219.2\\25_10_2...\n",
      "Name: 898, dtype: object\n",
      "num aberrant ttls 0.0\n",
      "25429 (25429,) (25429, 20) 81271\n"
     ]
    },
    {
     "name": "stderr",
     "output_type": "stream",
     "text": [
      "C:\\Users\\mplitt\\Anaconda3\\lib\\site-packages\\pandas\\core\\frame.py:4034: SettingWithCopyWarning: \n",
      "A value is trying to be set on a copy of a slice from a DataFrame\n",
      "\n",
      "See the caveats in the documentation: http://pandas.pydata.org/pandas-docs/stable/indexing.html#indexing-view-versus-copy\n",
      "  downcast=downcast, **kwargs)\n"
     ]
    },
    {
     "name": "stdout",
     "output_type": "stream",
     "text": [
      "frame diff 0\n"
     ]
    },
    {
     "name": "stderr",
     "output_type": "stream",
     "text": [
      "C:\\Users\\mplitt\\MightyMorphingPhotonRangers\\utilities.py:323: RuntimeWarning: Mean of empty slice\n",
      "  zone0_speed[i]=np.nanmean(sub_frame.loc[zone0_mask,'speed'])\n"
     ]
    },
    {
     "name": "stdout",
     "output_type": "stream",
     "text": [
      "training fold 0\n",
      "training fold 1\n",
      "training fold 2\n",
      "108 cells included in decoding model\n",
      "start fold  0\n",
      "decoding fold 0\n",
      "\t total timepoints = 6444\n",
      "\t timepoint 0\n",
      "\t timepoint 1000\n",
      "\t timepoint 2000\n",
      "\t timepoint 3000\n",
      "\t timepoint 4000\n",
      "\t timepoint 5000\n",
      "\t timepoint 6000\n",
      "start fold  1\n",
      "decoding fold 1\n",
      "\t total timepoints = 6341\n",
      "\t timepoint 0\n",
      "\t timepoint 1000\n",
      "\t timepoint 2000\n",
      "\t timepoint 3000\n",
      "\t timepoint 4000\n",
      "\t timepoint 5000\n",
      "\t timepoint 6000\n",
      "start fold  2\n",
      "decoding fold 2\n",
      "\t total timepoints = 6677\n",
      "\t timepoint 0\n",
      "\t timepoint 1000\n",
      "\t timepoint 2000\n",
      "\t timepoint 3000\n",
      "\t timepoint 4000\n",
      "\t timepoint 5000\n",
      "\t timepoint 6000\n"
     ]
    },
    {
     "name": "stderr",
     "output_type": "stream",
     "text": [
      "C:\\Users\\mplitt\\MightyMorphingPhotonRangers\\utilities.py:324: RuntimeWarning: Mean of empty slice\n",
      "  zone1_speed[i] = np.nanmean(sub_frame.loc[zone1_mask,'speed'])\n",
      "C:\\Users\\mplitt\\MightyMorphingPhotonRangers\\utilities.py:323: RuntimeWarning: Mean of empty slice\n",
      "  zone0_speed[i]=np.nanmean(sub_frame.loc[zone0_mask,'speed'])\n",
      "C:\\Users\\mplitt\\Anaconda3\\lib\\site-packages\\matplotlib\\pyplot.py:514: RuntimeWarning: More than 20 figures have been opened. Figures created through the pyplot interface (`matplotlib.pyplot.figure`) are retained until explicitly closed and may consume too much memory. (To control this warning, see the rcParam `figure.max_open_warning`).\n",
      "  max_open_warning, RuntimeWarning)\n"
     ]
    },
    {
     "name": "stdout",
     "output_type": "stream",
     "text": [
      "MouseName                                                4139219.2\n",
      "DateFolder                                              25_10_2018\n",
      "SessionNumber                                                    2\n",
      "Track                                             TwoTower_Timeout\n",
      "RewardCount                                                     49\n",
      "Imaging                                                          1\n",
      "ImagingRegion                                                   DG\n",
      "DateTime                                       2018-10-25 00:00:00\n",
      "data file        G:\\My Drive\\VR_Data\\TwoTower\\4139219.2\\25_10_2...\n",
      "scanfile         G:\\My Drive\\2P_Data\\TwoTower\\4139219.2\\25_10_2...\n",
      "scanmat          G:\\My Drive\\2P_Data\\TwoTower\\4139219.2\\25_10_2...\n",
      "s2pfolder        G:\\My Drive\\2P_Data\\TwoTower\\4139219.2\\25_10_2...\n",
      "Name: 900, dtype: object\n",
      "num aberrant ttls 0.0\n",
      "16387 (16387,) (16387, 20) 50817\n"
     ]
    },
    {
     "name": "stderr",
     "output_type": "stream",
     "text": [
      "C:\\Users\\mplitt\\Anaconda3\\lib\\site-packages\\pandas\\core\\frame.py:4034: SettingWithCopyWarning: \n",
      "A value is trying to be set on a copy of a slice from a DataFrame\n",
      "\n",
      "See the caveats in the documentation: http://pandas.pydata.org/pandas-docs/stable/indexing.html#indexing-view-versus-copy\n",
      "  downcast=downcast, **kwargs)\n"
     ]
    },
    {
     "name": "stdout",
     "output_type": "stream",
     "text": [
      "frame diff 0\n",
      "training fold 0\n",
      "training fold 1\n",
      "training fold 2\n",
      "49 cells included in decoding model\n",
      "start fold  0\n",
      "decoding fold 0\n",
      "\t total timepoints = 3982\n",
      "\t timepoint 0\n",
      "\t timepoint 1000\n",
      "\t timepoint 2000\n",
      "\t timepoint 3000\n",
      "start fold  1\n",
      "decoding fold 1\n",
      "\t total timepoints = 3966\n",
      "\t timepoint 0\n",
      "\t timepoint 1000\n",
      "\t timepoint 2000\n",
      "\t timepoint 3000\n",
      "start fold  2\n",
      "decoding fold 2\n",
      "\t total timepoints = 4388\n",
      "\t timepoint 0\n",
      "\t timepoint 1000\n",
      "\t timepoint 2000\n",
      "\t timepoint 3000\n",
      "\t timepoint 4000\n"
     ]
    },
    {
     "name": "stderr",
     "output_type": "stream",
     "text": [
      "C:\\Users\\mplitt\\MightyMorphingPhotonRangers\\utilities.py:324: RuntimeWarning: Mean of empty slice\n",
      "  zone1_speed[i] = np.nanmean(sub_frame.loc[zone1_mask,'speed'])\n",
      "C:\\Users\\mplitt\\Anaconda3\\lib\\site-packages\\matplotlib\\pyplot.py:514: RuntimeWarning: More than 20 figures have been opened. Figures created through the pyplot interface (`matplotlib.pyplot.figure`) are retained until explicitly closed and may consume too much memory. (To control this warning, see the rcParam `figure.max_open_warning`).\n",
      "  max_open_warning, RuntimeWarning)\n"
     ]
    },
    {
     "name": "stdout",
     "output_type": "stream",
     "text": [
      "MouseName                                                4139219.2\n",
      "DateFolder                                              26_10_2018\n",
      "SessionNumber                                                    2\n",
      "Track                                             TwoTower_Timeout\n",
      "RewardCount                                                     72\n",
      "Imaging                                                          1\n",
      "ImagingRegion                                                  CA1\n",
      "DateTime                                       2018-10-26 00:00:00\n",
      "data file        G:\\My Drive\\VR_Data\\TwoTower\\4139219.2\\26_10_2...\n",
      "scanfile         G:\\My Drive\\2P_Data\\TwoTower\\4139219.2\\26_10_2...\n",
      "scanmat          G:\\My Drive\\2P_Data\\TwoTower\\4139219.2\\26_10_2...\n",
      "s2pfolder        G:\\My Drive\\2P_Data\\TwoTower\\4139219.2\\26_10_2...\n",
      "Name: 920, dtype: object\n",
      "num aberrant ttls 0.0\n",
      "23022 (23022,) (23022, 20) 71868\n"
     ]
    },
    {
     "name": "stderr",
     "output_type": "stream",
     "text": [
      "C:\\Users\\mplitt\\Anaconda3\\lib\\site-packages\\pandas\\core\\frame.py:4034: SettingWithCopyWarning: \n",
      "A value is trying to be set on a copy of a slice from a DataFrame\n",
      "\n",
      "See the caveats in the documentation: http://pandas.pydata.org/pandas-docs/stable/indexing.html#indexing-view-versus-copy\n",
      "  downcast=downcast, **kwargs)\n"
     ]
    },
    {
     "name": "stdout",
     "output_type": "stream",
     "text": [
      "frame diff 0\n",
      "training fold 0\n",
      "training fold 1\n",
      "training fold 2\n",
      "460 cells included in decoding model\n",
      "start fold  0\n",
      "decoding fold 0\n",
      "\t total timepoints = 6533\n",
      "\t timepoint 0\n",
      "\t timepoint 1000\n",
      "\t timepoint 2000\n",
      "\t timepoint 3000\n",
      "\t timepoint 4000\n",
      "\t timepoint 5000\n",
      "\t timepoint 6000\n",
      "start fold  1\n",
      "decoding fold 1\n",
      "\t total timepoints = 5750\n",
      "\t timepoint 0\n",
      "\t timepoint 1000\n",
      "\t timepoint 2000\n",
      "\t timepoint 3000\n",
      "\t timepoint 4000\n",
      "\t timepoint 5000\n",
      "start fold  2\n",
      "decoding fold 2\n",
      "\t total timepoints = 6029\n",
      "\t timepoint 0\n",
      "\t timepoint 1000\n",
      "\t timepoint 2000\n",
      "\t timepoint 3000\n",
      "\t timepoint 4000\n",
      "\t timepoint 5000\n",
      "\t timepoint 6000\n"
     ]
    },
    {
     "name": "stderr",
     "output_type": "stream",
     "text": [
      "C:\\Users\\mplitt\\MightyMorphingPhotonRangers\\utilities.py:324: RuntimeWarning: Mean of empty slice\n",
      "  zone1_speed[i] = np.nanmean(sub_frame.loc[zone1_mask,'speed'])\n",
      "C:\\Users\\mplitt\\Anaconda3\\lib\\site-packages\\matplotlib\\pyplot.py:514: RuntimeWarning: More than 20 figures have been opened. Figures created through the pyplot interface (`matplotlib.pyplot.figure`) are retained until explicitly closed and may consume too much memory. (To control this warning, see the rcParam `figure.max_open_warning`).\n",
      "  max_open_warning, RuntimeWarning)\n"
     ]
    },
    {
     "name": "stdout",
     "output_type": "stream",
     "text": [
      "MouseName                                                4139219.2\n",
      "DateFolder                                              26_10_2018\n",
      "SessionNumber                                                    6\n",
      "Track                                             TwoTower_Timeout\n",
      "RewardCount                                                     50\n",
      "Imaging                                                          1\n",
      "ImagingRegion                                                   DG\n",
      "DateTime                                       2018-10-26 00:00:00\n",
      "data file        G:\\My Drive\\VR_Data\\TwoTower\\4139219.2\\26_10_2...\n",
      "scanfile         G:\\My Drive\\2P_Data\\TwoTower\\4139219.2\\26_10_2...\n",
      "scanmat          G:\\My Drive\\2P_Data\\TwoTower\\4139219.2\\26_10_2...\n",
      "s2pfolder        G:\\My Drive\\2P_Data\\TwoTower\\4139219.2\\26_10_2...\n",
      "Name: 924, dtype: object\n",
      "num aberrant ttls 0.0\n",
      "15402 (15402,) (15402, 20) 49831\n"
     ]
    },
    {
     "name": "stderr",
     "output_type": "stream",
     "text": [
      "C:\\Users\\mplitt\\Anaconda3\\lib\\site-packages\\pandas\\core\\frame.py:4034: SettingWithCopyWarning: \n",
      "A value is trying to be set on a copy of a slice from a DataFrame\n",
      "\n",
      "See the caveats in the documentation: http://pandas.pydata.org/pandas-docs/stable/indexing.html#indexing-view-versus-copy\n",
      "  downcast=downcast, **kwargs)\n"
     ]
    },
    {
     "name": "stdout",
     "output_type": "stream",
     "text": [
      "frame diff 0\n",
      "training fold 0\n",
      "training fold 1\n",
      "training fold 2\n",
      "36 cells included in decoding model\n",
      "start fold  0\n",
      "decoding fold 0\n",
      "\t total timepoints = 4122\n",
      "\t timepoint 0\n",
      "\t timepoint 1000\n",
      "\t timepoint 2000\n",
      "\t timepoint 3000\n",
      "\t timepoint 4000\n",
      "start fold  1\n",
      "decoding fold 1\n",
      "\t total timepoints = 4202\n",
      "\t timepoint 0\n",
      "\t timepoint 1000\n",
      "\t timepoint 2000\n",
      "\t timepoint 3000\n",
      "\t timepoint 4000\n",
      "start fold  2\n",
      "decoding fold 2\n",
      "\t total timepoints = 3840\n",
      "\t timepoint 0\n",
      "\t timepoint 1000\n",
      "\t timepoint 2000\n",
      "\t timepoint 3000\n"
     ]
    },
    {
     "name": "stderr",
     "output_type": "stream",
     "text": [
      "C:\\Users\\mplitt\\MightyMorphingPhotonRangers\\utilities.py:324: RuntimeWarning: Mean of empty slice\n",
      "  zone1_speed[i] = np.nanmean(sub_frame.loc[zone1_mask,'speed'])\n",
      "C:\\Users\\mplitt\\Anaconda3\\lib\\site-packages\\matplotlib\\pyplot.py:514: RuntimeWarning: More than 20 figures have been opened. Figures created through the pyplot interface (`matplotlib.pyplot.figure`) are retained until explicitly closed and may consume too much memory. (To control this warning, see the rcParam `figure.max_open_warning`).\n",
      "  max_open_warning, RuntimeWarning)\n"
     ]
    },
    {
     "name": "stdout",
     "output_type": "stream",
     "text": [
      "MouseName                                                4139251.1\n",
      "DateFolder                                              19_01_2019\n",
      "SessionNumber                                                    1\n",
      "Track                                           Reversal_noTimeout\n",
      "RewardCount                                                     60\n",
      "Imaging                                                          1\n",
      "ImagingRegion                                                  CA1\n",
      "DateTime                                       2019-01-19 00:00:00\n",
      "data file        G:\\My Drive\\VR_Data\\TwoTower\\4139251.1\\19_01_2...\n",
      "scanfile                                                      None\n",
      "scanmat          G:\\My Drive\\2P_Data\\TwoTower\\4139251.1\\19_01_2...\n",
      "s2pfolder        G:\\My Drive\\2P_Data\\TwoTower\\4139251.1\\19_01_2...\n",
      "Name: 1046, dtype: object\n",
      "num aberrant ttls 0.0\n",
      "25391 (25391,) (25391, 21) 78066\n"
     ]
    },
    {
     "name": "stderr",
     "output_type": "stream",
     "text": [
      "C:\\Users\\mplitt\\Anaconda3\\lib\\site-packages\\pandas\\core\\frame.py:4034: SettingWithCopyWarning: \n",
      "A value is trying to be set on a copy of a slice from a DataFrame\n",
      "\n",
      "See the caveats in the documentation: http://pandas.pydata.org/pandas-docs/stable/indexing.html#indexing-view-versus-copy\n",
      "  downcast=downcast, **kwargs)\n"
     ]
    },
    {
     "name": "stdout",
     "output_type": "stream",
     "text": [
      "frame diff 0\n",
      "training fold 0\n",
      "training fold 1\n",
      "training fold 2\n",
      "6 cells included in decoding model\n",
      "start fold  0\n",
      "decoding fold 0\n",
      "\t total timepoints = 7703\n",
      "\t timepoint 0\n",
      "\t timepoint 1000\n",
      "\t timepoint 2000\n",
      "\t timepoint 3000\n",
      "\t timepoint 4000\n",
      "\t timepoint 5000\n",
      "\t timepoint 6000\n",
      "\t timepoint 7000\n",
      "start fold  1\n",
      "decoding fold 1\n",
      "\t total timepoints = 7319\n",
      "\t timepoint 0\n",
      "\t timepoint 1000\n",
      "\t timepoint 2000\n",
      "\t timepoint 3000\n",
      "\t timepoint 4000\n",
      "\t timepoint 5000\n",
      "\t timepoint 6000\n",
      "\t timepoint 7000\n",
      "start fold  2\n",
      "decoding fold 2\n",
      "\t total timepoints = 7853\n",
      "\t timepoint 0\n",
      "\t timepoint 1000\n",
      "\t timepoint 2000\n",
      "\t timepoint 3000\n",
      "\t timepoint 4000\n",
      "\t timepoint 5000\n",
      "\t timepoint 6000\n",
      "\t timepoint 7000\n"
     ]
    },
    {
     "name": "stderr",
     "output_type": "stream",
     "text": [
      "C:\\Users\\mplitt\\Anaconda3\\lib\\site-packages\\matplotlib\\pyplot.py:514: RuntimeWarning: More than 20 figures have been opened. Figures created through the pyplot interface (`matplotlib.pyplot.figure`) are retained until explicitly closed and may consume too much memory. (To control this warning, see the rcParam `figure.max_open_warning`).\n",
      "  max_open_warning, RuntimeWarning)\n"
     ]
    },
    {
     "name": "stdout",
     "output_type": "stream",
     "text": [
      "MouseName                                                4139251.1\n",
      "DateFolder                                              19_01_2019\n",
      "SessionNumber                                                    3\n",
      "Track                                           Reversal_noTimeout\n",
      "RewardCount                                                     60\n",
      "Imaging                                                          1\n",
      "ImagingRegion                                                  CA1\n",
      "DateTime                                       2019-01-19 00:00:00\n",
      "data file        G:\\My Drive\\VR_Data\\TwoTower\\4139251.1\\19_01_2...\n",
      "scanfile                                                      None\n",
      "scanmat          G:\\My Drive\\2P_Data\\TwoTower\\4139251.1\\19_01_2...\n",
      "s2pfolder        G:\\My Drive\\2P_Data\\TwoTower\\4139251.1\\19_01_2...\n",
      "Name: 1048, dtype: object\n",
      "num aberrant ttls 0.0\n",
      "23680 (23680,) (23680, 21) 74971\n"
     ]
    },
    {
     "name": "stderr",
     "output_type": "stream",
     "text": [
      "C:\\Users\\mplitt\\Anaconda3\\lib\\site-packages\\pandas\\core\\frame.py:4034: SettingWithCopyWarning: \n",
      "A value is trying to be set on a copy of a slice from a DataFrame\n",
      "\n",
      "See the caveats in the documentation: http://pandas.pydata.org/pandas-docs/stable/indexing.html#indexing-view-versus-copy\n",
      "  downcast=downcast, **kwargs)\n"
     ]
    },
    {
     "name": "stdout",
     "output_type": "stream",
     "text": [
      "frame diff 0\n",
      "training fold 0\n",
      "training fold 1\n",
      "training fold 2\n",
      "33 cells included in decoding model\n",
      "start fold  0\n",
      "decoding fold 0\n",
      "\t total timepoints = 6815\n",
      "\t timepoint 0\n",
      "\t timepoint 1000\n",
      "\t timepoint 2000\n",
      "\t timepoint 3000\n",
      "\t timepoint 4000\n",
      "\t timepoint 5000\n",
      "\t timepoint 6000\n",
      "start fold  1\n",
      "decoding fold 1\n",
      "\t total timepoints = 6511\n",
      "\t timepoint 0\n",
      "\t timepoint 1000\n",
      "\t timepoint 2000\n",
      "\t timepoint 3000\n",
      "\t timepoint 4000\n",
      "\t timepoint 5000\n",
      "\t timepoint 6000\n",
      "start fold  2\n",
      "decoding fold 2\n",
      "\t total timepoints = 7896\n",
      "\t timepoint 0\n",
      "\t timepoint 1000\n",
      "\t timepoint 2000\n",
      "\t timepoint 3000\n",
      "\t timepoint 4000\n",
      "\t timepoint 5000\n",
      "\t timepoint 6000\n",
      "\t timepoint 7000\n"
     ]
    },
    {
     "name": "stderr",
     "output_type": "stream",
     "text": [
      "C:\\Users\\mplitt\\Anaconda3\\lib\\site-packages\\matplotlib\\pyplot.py:514: RuntimeWarning: More than 20 figures have been opened. Figures created through the pyplot interface (`matplotlib.pyplot.figure`) are retained until explicitly closed and may consume too much memory. (To control this warning, see the rcParam `figure.max_open_warning`).\n",
      "  max_open_warning, RuntimeWarning)\n"
     ]
    },
    {
     "name": "stdout",
     "output_type": "stream",
     "text": [
      "MouseName                                                4139251.1\n",
      "DateFolder                                              21_01_2019\n",
      "SessionNumber                                                    2\n",
      "Track                                           Reversal_noTimeout\n",
      "RewardCount                                                     59\n",
      "Imaging                                                          1\n",
      "ImagingRegion                                                  CA1\n",
      "DateTime                                       2019-01-21 00:00:00\n",
      "data file        G:\\My Drive\\VR_Data\\TwoTower\\4139251.1\\21_01_2...\n",
      "scanfile                                                      None\n",
      "scanmat          G:\\My Drive\\2P_Data\\TwoTower\\4139251.1\\21_01_2...\n",
      "s2pfolder        G:\\My Drive\\2P_Data\\TwoTower\\4139251.1\\21_01_2...\n",
      "Name: 1075, dtype: object\n",
      "num aberrant ttls 0.0\n",
      "20307 (20307,) (20307, 21) 60456\n"
     ]
    },
    {
     "name": "stderr",
     "output_type": "stream",
     "text": [
      "C:\\Users\\mplitt\\Anaconda3\\lib\\site-packages\\pandas\\core\\frame.py:4034: SettingWithCopyWarning: \n",
      "A value is trying to be set on a copy of a slice from a DataFrame\n",
      "\n",
      "See the caveats in the documentation: http://pandas.pydata.org/pandas-docs/stable/indexing.html#indexing-view-versus-copy\n",
      "  downcast=downcast, **kwargs)\n"
     ]
    },
    {
     "name": "stdout",
     "output_type": "stream",
     "text": [
      "frame diff 0\n",
      "training fold 0\n",
      "training fold 1\n",
      "training fold 2\n",
      "329 cells included in decoding model\n",
      "start fold  0\n",
      "decoding fold 0\n",
      "\t total timepoints = 6135\n",
      "\t timepoint 0\n",
      "\t timepoint 1000\n",
      "\t timepoint 2000\n",
      "\t timepoint 3000\n",
      "\t timepoint 4000\n",
      "\t timepoint 5000\n",
      "\t timepoint 6000\n",
      "start fold  1\n",
      "decoding fold 1\n",
      "\t total timepoints = 6065\n",
      "\t timepoint 0\n",
      "\t timepoint 1000\n",
      "\t timepoint 2000\n",
      "\t timepoint 3000\n",
      "\t timepoint 4000\n",
      "\t timepoint 5000\n",
      "\t timepoint 6000\n",
      "start fold  2\n",
      "decoding fold 2\n",
      "\t total timepoints = 6126\n",
      "\t timepoint 0\n",
      "\t timepoint 1000\n",
      "\t timepoint 2000\n",
      "\t timepoint 3000\n",
      "\t timepoint 4000\n",
      "\t timepoint 5000\n",
      "\t timepoint 6000\n"
     ]
    },
    {
     "name": "stderr",
     "output_type": "stream",
     "text": [
      "C:\\Users\\mplitt\\Anaconda3\\lib\\site-packages\\matplotlib\\pyplot.py:514: RuntimeWarning: More than 20 figures have been opened. Figures created through the pyplot interface (`matplotlib.pyplot.figure`) are retained until explicitly closed and may consume too much memory. (To control this warning, see the rcParam `figure.max_open_warning`).\n",
      "  max_open_warning, RuntimeWarning)\n"
     ]
    },
    {
     "name": "stdout",
     "output_type": "stream",
     "text": [
      "MouseName                                                4139251.1\n",
      "DateFolder                                              23_01_2019\n",
      "SessionNumber                                                    2\n",
      "Track                                                     Reversal\n",
      "RewardCount                                                     35\n",
      "Imaging                                                          1\n",
      "ImagingRegion                                                  CA1\n",
      "DateTime                                       2019-01-23 00:00:00\n",
      "data file        G:\\My Drive\\VR_Data\\TwoTower\\4139251.1\\23_01_2...\n",
      "scanfile                                                      None\n",
      "scanmat          G:\\My Drive\\2P_Data\\TwoTower\\4139251.1\\23_01_2...\n",
      "s2pfolder        G:\\My Drive\\2P_Data\\TwoTower\\4139251.1\\23_01_2...\n",
      "Name: 1111, dtype: object\n",
      "num aberrant ttls 0.0\n",
      "23129 (23129,) (23129, 21) 74568\n"
     ]
    },
    {
     "name": "stderr",
     "output_type": "stream",
     "text": [
      "C:\\Users\\mplitt\\Anaconda3\\lib\\site-packages\\pandas\\core\\frame.py:4034: SettingWithCopyWarning: \n",
      "A value is trying to be set on a copy of a slice from a DataFrame\n",
      "\n",
      "See the caveats in the documentation: http://pandas.pydata.org/pandas-docs/stable/indexing.html#indexing-view-versus-copy\n",
      "  downcast=downcast, **kwargs)\n"
     ]
    },
    {
     "name": "stdout",
     "output_type": "stream",
     "text": [
      "frame diff 0\n"
     ]
    },
    {
     "name": "stderr",
     "output_type": "stream",
     "text": [
      "C:\\Users\\mplitt\\MightyMorphingPhotonRangers\\utilities.py:324: RuntimeWarning: Mean of empty slice\n",
      "  zone1_speed[i] = np.nanmean(sub_frame.loc[zone1_mask,'speed'])\n",
      "C:\\Users\\mplitt\\MightyMorphingPhotonRangers\\utilities.py:323: RuntimeWarning: Mean of empty slice\n",
      "  zone0_speed[i]=np.nanmean(sub_frame.loc[zone0_mask,'speed'])\n"
     ]
    },
    {
     "name": "stdout",
     "output_type": "stream",
     "text": [
      "training fold 0\n"
     ]
    },
    {
     "name": "stderr",
     "output_type": "stream",
     "text": [
      "C:\\Users\\mplitt\\MightyMorphingPhotonRangers\\SplineEncodingModel\\LinearRegressionSpline.py:291: RuntimeWarning: divide by zero encountered in log\n",
      "  return (rate-np.multiply(y,np.log(rate))).sum()  + f_l2\n",
      "C:\\Users\\mplitt\\Anaconda3\\lib\\site-packages\\numpy\\core\\_methods.py:36: RuntimeWarning: invalid value encountered in reduce\n",
      "  return umr_sum(a, axis, dtype, out, keepdims, initial)\n",
      "C:\\Users\\mplitt\\MightyMorphingPhotonRangers\\SplineEncodingModel\\LinearRegressionSpline.py:291: RuntimeWarning: divide by zero encountered in log\n",
      "  return (rate-np.multiply(y,np.log(rate))).sum()  + f_l2\n",
      "C:\\Users\\mplitt\\Anaconda3\\lib\\site-packages\\numpy\\core\\_methods.py:36: RuntimeWarning: invalid value encountered in reduce\n",
      "  return umr_sum(a, axis, dtype, out, keepdims, initial)\n",
      "C:\\Users\\mplitt\\MightyMorphingPhotonRangers\\SplineEncodingModel\\LinearRegressionSpline.py:291: RuntimeWarning: divide by zero encountered in log\n",
      "  return (rate-np.multiply(y,np.log(rate))).sum()  + f_l2\n",
      "C:\\Users\\mplitt\\Anaconda3\\lib\\site-packages\\numpy\\core\\_methods.py:36: RuntimeWarning: invalid value encountered in reduce\n",
      "  return umr_sum(a, axis, dtype, out, keepdims, initial)\n",
      "C:\\Users\\mplitt\\MightyMorphingPhotonRangers\\SplineEncodingModel\\LinearRegressionSpline.py:291: RuntimeWarning: divide by zero encountered in log\n",
      "  return (rate-np.multiply(y,np.log(rate))).sum()  + f_l2\n",
      "C:\\Users\\mplitt\\Anaconda3\\lib\\site-packages\\numpy\\core\\_methods.py:36: RuntimeWarning: invalid value encountered in reduce\n",
      "  return umr_sum(a, axis, dtype, out, keepdims, initial)\n",
      "C:\\Users\\mplitt\\MightyMorphingPhotonRangers\\SplineEncodingModel\\LinearRegressionSpline.py:291: RuntimeWarning: divide by zero encountered in log\n",
      "  return (rate-np.multiply(y,np.log(rate))).sum()  + f_l2\n",
      "C:\\Users\\mplitt\\Anaconda3\\lib\\site-packages\\numpy\\core\\_methods.py:36: RuntimeWarning: invalid value encountered in reduce\n",
      "  return umr_sum(a, axis, dtype, out, keepdims, initial)\n",
      "C:\\Users\\mplitt\\MightyMorphingPhotonRangers\\SplineEncodingModel\\LinearRegressionSpline.py:291: RuntimeWarning: divide by zero encountered in log\n",
      "  return (rate-np.multiply(y,np.log(rate))).sum()  + f_l2\n",
      "C:\\Users\\mplitt\\Anaconda3\\lib\\site-packages\\numpy\\core\\_methods.py:36: RuntimeWarning: invalid value encountered in reduce\n",
      "  return umr_sum(a, axis, dtype, out, keepdims, initial)\n",
      "C:\\Users\\mplitt\\MightyMorphingPhotonRangers\\SplineEncodingModel\\LinearRegressionSpline.py:291: RuntimeWarning: divide by zero encountered in log\n",
      "  return (rate-np.multiply(y,np.log(rate))).sum()  + f_l2\n",
      "C:\\Users\\mplitt\\Anaconda3\\lib\\site-packages\\numpy\\core\\_methods.py:36: RuntimeWarning: invalid value encountered in reduce\n",
      "  return umr_sum(a, axis, dtype, out, keepdims, initial)\n",
      "C:\\Users\\mplitt\\MightyMorphingPhotonRangers\\SplineEncodingModel\\LinearRegressionSpline.py:291: RuntimeWarning: divide by zero encountered in log\n",
      "  return (rate-np.multiply(y,np.log(rate))).sum()  + f_l2\n",
      "C:\\Users\\mplitt\\Anaconda3\\lib\\site-packages\\numpy\\core\\_methods.py:36: RuntimeWarning: invalid value encountered in reduce\n",
      "  return umr_sum(a, axis, dtype, out, keepdims, initial)\n",
      "C:\\Users\\mplitt\\MightyMorphingPhotonRangers\\SplineEncodingModel\\LinearRegressionSpline.py:291: RuntimeWarning: divide by zero encountered in log\n",
      "  return (rate-np.multiply(y,np.log(rate))).sum()  + f_l2\n",
      "C:\\Users\\mplitt\\Anaconda3\\lib\\site-packages\\numpy\\core\\_methods.py:36: RuntimeWarning: invalid value encountered in reduce\n",
      "  return umr_sum(a, axis, dtype, out, keepdims, initial)\n",
      "C:\\Users\\mplitt\\MightyMorphingPhotonRangers\\SplineEncodingModel\\LinearRegressionSpline.py:291: RuntimeWarning: divide by zero encountered in log\n",
      "  return (rate-np.multiply(y,np.log(rate))).sum()  + f_l2\n",
      "C:\\Users\\mplitt\\Anaconda3\\lib\\site-packages\\numpy\\core\\_methods.py:36: RuntimeWarning: invalid value encountered in reduce\n",
      "  return umr_sum(a, axis, dtype, out, keepdims, initial)\n",
      "C:\\Users\\mplitt\\MightyMorphingPhotonRangers\\SplineEncodingModel\\LinearRegressionSpline.py:291: RuntimeWarning: divide by zero encountered in log\n",
      "  return (rate-np.multiply(y,np.log(rate))).sum()  + f_l2\n",
      "C:\\Users\\mplitt\\Anaconda3\\lib\\site-packages\\numpy\\core\\_methods.py:36: RuntimeWarning: invalid value encountered in reduce\n",
      "  return umr_sum(a, axis, dtype, out, keepdims, initial)\n",
      "C:\\Users\\mplitt\\MightyMorphingPhotonRangers\\SplineEncodingModel\\LinearRegressionSpline.py:291: RuntimeWarning: divide by zero encountered in log\n",
      "  return (rate-np.multiply(y,np.log(rate))).sum()  + f_l2\n",
      "C:\\Users\\mplitt\\Anaconda3\\lib\\site-packages\\numpy\\core\\_methods.py:36: RuntimeWarning: invalid value encountered in reduce\n",
      "  return umr_sum(a, axis, dtype, out, keepdims, initial)\n",
      "C:\\Users\\mplitt\\MightyMorphingPhotonRangers\\SplineEncodingModel\\LinearRegressionSpline.py:291: RuntimeWarning: divide by zero encountered in log\n",
      "  return (rate-np.multiply(y,np.log(rate))).sum()  + f_l2\n",
      "C:\\Users\\mplitt\\Anaconda3\\lib\\site-packages\\numpy\\core\\_methods.py:36: RuntimeWarning: invalid value encountered in reduce\n",
      "  return umr_sum(a, axis, dtype, out, keepdims, initial)\n",
      "C:\\Users\\mplitt\\MightyMorphingPhotonRangers\\SplineEncodingModel\\LinearRegressionSpline.py:291: RuntimeWarning: divide by zero encountered in log\n",
      "  return (rate-np.multiply(y,np.log(rate))).sum()  + f_l2\n",
      "C:\\Users\\mplitt\\Anaconda3\\lib\\site-packages\\numpy\\core\\_methods.py:36: RuntimeWarning: invalid value encountered in reduce\n",
      "  return umr_sum(a, axis, dtype, out, keepdims, initial)\n",
      "C:\\Users\\mplitt\\MightyMorphingPhotonRangers\\SplineEncodingModel\\LinearRegressionSpline.py:291: RuntimeWarning: divide by zero encountered in log\n",
      "  return (rate-np.multiply(y,np.log(rate))).sum()  + f_l2\n",
      "C:\\Users\\mplitt\\Anaconda3\\lib\\site-packages\\numpy\\core\\_methods.py:36: RuntimeWarning: invalid value encountered in reduce\n",
      "  return umr_sum(a, axis, dtype, out, keepdims, initial)\n",
      "C:\\Users\\mplitt\\MightyMorphingPhotonRangers\\SplineEncodingModel\\LinearRegressionSpline.py:291: RuntimeWarning: divide by zero encountered in log\n",
      "  return (rate-np.multiply(y,np.log(rate))).sum()  + f_l2\n",
      "C:\\Users\\mplitt\\Anaconda3\\lib\\site-packages\\numpy\\core\\_methods.py:36: RuntimeWarning: invalid value encountered in reduce\n",
      "  return umr_sum(a, axis, dtype, out, keepdims, initial)\n",
      "C:\\Users\\mplitt\\MightyMorphingPhotonRangers\\SplineEncodingModel\\LinearRegressionSpline.py:291: RuntimeWarning: divide by zero encountered in log\n",
      "  return (rate-np.multiply(y,np.log(rate))).sum()  + f_l2\n",
      "C:\\Users\\mplitt\\Anaconda3\\lib\\site-packages\\numpy\\core\\_methods.py:36: RuntimeWarning: invalid value encountered in reduce\n",
      "  return umr_sum(a, axis, dtype, out, keepdims, initial)\n",
      "C:\\Users\\mplitt\\MightyMorphingPhotonRangers\\SplineEncodingModel\\LinearRegressionSpline.py:291: RuntimeWarning: divide by zero encountered in log\n",
      "  return (rate-np.multiply(y,np.log(rate))).sum()  + f_l2\n",
      "C:\\Users\\mplitt\\Anaconda3\\lib\\site-packages\\numpy\\core\\_methods.py:36: RuntimeWarning: invalid value encountered in reduce\n",
      "  return umr_sum(a, axis, dtype, out, keepdims, initial)\n",
      "C:\\Users\\mplitt\\MightyMorphingPhotonRangers\\SplineEncodingModel\\LinearRegressionSpline.py:291: RuntimeWarning: divide by zero encountered in log\n",
      "  return (rate-np.multiply(y,np.log(rate))).sum()  + f_l2\n",
      "C:\\Users\\mplitt\\Anaconda3\\lib\\site-packages\\numpy\\core\\_methods.py:36: RuntimeWarning: invalid value encountered in reduce\n",
      "  return umr_sum(a, axis, dtype, out, keepdims, initial)\n",
      "C:\\Users\\mplitt\\MightyMorphingPhotonRangers\\SplineEncodingModel\\LinearRegressionSpline.py:291: RuntimeWarning: divide by zero encountered in log\n",
      "  return (rate-np.multiply(y,np.log(rate))).sum()  + f_l2\n",
      "C:\\Users\\mplitt\\Anaconda3\\lib\\site-packages\\numpy\\core\\_methods.py:36: RuntimeWarning: invalid value encountered in reduce\n",
      "  return umr_sum(a, axis, dtype, out, keepdims, initial)\n",
      "C:\\Users\\mplitt\\MightyMorphingPhotonRangers\\SplineEncodingModel\\LinearRegressionSpline.py:291: RuntimeWarning: divide by zero encountered in log\n",
      "  return (rate-np.multiply(y,np.log(rate))).sum()  + f_l2\n",
      "C:\\Users\\mplitt\\Anaconda3\\lib\\site-packages\\numpy\\core\\_methods.py:36: RuntimeWarning: invalid value encountered in reduce\n",
      "  return umr_sum(a, axis, dtype, out, keepdims, initial)\n",
      "C:\\Users\\mplitt\\MightyMorphingPhotonRangers\\SplineEncodingModel\\LinearRegressionSpline.py:291: RuntimeWarning: divide by zero encountered in log\n",
      "  return (rate-np.multiply(y,np.log(rate))).sum()  + f_l2\n",
      "C:\\Users\\mplitt\\Anaconda3\\lib\\site-packages\\numpy\\core\\_methods.py:36: RuntimeWarning: invalid value encountered in reduce\n",
      "  return umr_sum(a, axis, dtype, out, keepdims, initial)\n",
      "C:\\Users\\mplitt\\MightyMorphingPhotonRangers\\SplineEncodingModel\\LinearRegressionSpline.py:291: RuntimeWarning: divide by zero encountered in log\n",
      "  return (rate-np.multiply(y,np.log(rate))).sum()  + f_l2\n",
      "C:\\Users\\mplitt\\Anaconda3\\lib\\site-packages\\numpy\\core\\_methods.py:36: RuntimeWarning: invalid value encountered in reduce\n",
      "  return umr_sum(a, axis, dtype, out, keepdims, initial)\n",
      "C:\\Users\\mplitt\\MightyMorphingPhotonRangers\\SplineEncodingModel\\LinearRegressionSpline.py:291: RuntimeWarning: divide by zero encountered in log\n",
      "  return (rate-np.multiply(y,np.log(rate))).sum()  + f_l2\n",
      "C:\\Users\\mplitt\\Anaconda3\\lib\\site-packages\\numpy\\core\\_methods.py:36: RuntimeWarning: invalid value encountered in reduce\n",
      "  return umr_sum(a, axis, dtype, out, keepdims, initial)\n",
      "C:\\Users\\mplitt\\MightyMorphingPhotonRangers\\SplineEncodingModel\\LinearRegressionSpline.py:291: RuntimeWarning: divide by zero encountered in log\n",
      "  return (rate-np.multiply(y,np.log(rate))).sum()  + f_l2\n",
      "C:\\Users\\mplitt\\Anaconda3\\lib\\site-packages\\numpy\\core\\_methods.py:36: RuntimeWarning: invalid value encountered in reduce\n",
      "  return umr_sum(a, axis, dtype, out, keepdims, initial)\n",
      "C:\\Users\\mplitt\\MightyMorphingPhotonRangers\\SplineEncodingModel\\LinearRegressionSpline.py:291: RuntimeWarning: divide by zero encountered in log\n",
      "  return (rate-np.multiply(y,np.log(rate))).sum()  + f_l2\n",
      "C:\\Users\\mplitt\\Anaconda3\\lib\\site-packages\\numpy\\core\\_methods.py:36: RuntimeWarning: invalid value encountered in reduce\n",
      "  return umr_sum(a, axis, dtype, out, keepdims, initial)\n",
      "C:\\Users\\mplitt\\MightyMorphingPhotonRangers\\SplineEncodingModel\\LinearRegressionSpline.py:291: RuntimeWarning: divide by zero encountered in log\n",
      "  return (rate-np.multiply(y,np.log(rate))).sum()  + f_l2\n",
      "C:\\Users\\mplitt\\Anaconda3\\lib\\site-packages\\numpy\\core\\_methods.py:36: RuntimeWarning: invalid value encountered in reduce\n",
      "  return umr_sum(a, axis, dtype, out, keepdims, initial)\n",
      "C:\\Users\\mplitt\\MightyMorphingPhotonRangers\\SplineEncodingModel\\LinearRegressionSpline.py:291: RuntimeWarning: divide by zero encountered in log\n",
      "  return (rate-np.multiply(y,np.log(rate))).sum()  + f_l2\n",
      "C:\\Users\\mplitt\\Anaconda3\\lib\\site-packages\\numpy\\core\\_methods.py:36: RuntimeWarning: invalid value encountered in reduce\n",
      "  return umr_sum(a, axis, dtype, out, keepdims, initial)\n"
     ]
    },
    {
     "name": "stdout",
     "output_type": "stream",
     "text": [
      "training fold 1\n",
      "training fold 2\n"
     ]
    },
    {
     "name": "stderr",
     "output_type": "stream",
     "text": [
      "C:\\Users\\mplitt\\MightyMorphingPhotonRangers\\SplineEncodingModel\\LinearRegressionSpline.py:291: RuntimeWarning: divide by zero encountered in log\n",
      "  return (rate-np.multiply(y,np.log(rate))).sum()  + f_l2\n"
     ]
    },
    {
     "name": "stdout",
     "output_type": "stream",
     "text": [
      "559 cells included in decoding model\n",
      "start fold  0\n",
      "decoding fold 0\n",
      "\t total timepoints = 5287\n",
      "\t timepoint 0\n",
      "\t timepoint 1000\n",
      "\t timepoint 2000\n",
      "\t timepoint 3000\n",
      "\t timepoint 4000\n",
      "\t timepoint 5000\n",
      "start fold  1\n",
      "decoding fold 1\n",
      "\t total timepoints = 5794\n",
      "\t timepoint 0\n",
      "\t timepoint 1000\n",
      "\t timepoint 2000\n",
      "\t timepoint 3000\n",
      "\t timepoint 4000\n",
      "\t timepoint 5000\n",
      "start fold  2\n",
      "decoding fold 2\n",
      "\t total timepoints = 5502\n",
      "\t timepoint 0\n",
      "\t timepoint 1000\n",
      "\t timepoint 2000\n"
     ]
    }
   ],
   "source": [
    "\n",
    "for mouse in fam_dec+rare_dec:\n",
    "    df_mouse = df[df['MouseName'].str.match(mouse)]\n",
    "\n",
    "    for i in range(df_mouse.shape[0]):\n",
    "        sess = df_mouse.iloc[i]\n",
    "        print(sess)\n",
    "        try:\n",
    "            pdcv.run_sess(sess)\n",
    "        except:\n",
    "            pass\n",
    "            "
   ]
  },
  {
   "cell_type": "code",
   "execution_count": null,
   "metadata": {},
   "outputs": [],
   "source": []
  }
 ],
 "metadata": {
  "kernelspec": {
   "display_name": "Python 3",
   "language": "python",
   "name": "python3"
  },
  "language_info": {
   "codemirror_mode": {
    "name": "ipython",
    "version": 3
   },
   "file_extension": ".py",
   "mimetype": "text/x-python",
   "name": "python",
   "nbconvert_exporter": "python",
   "pygments_lexer": "ipython3",
   "version": "3.7.3"
  }
 },
 "nbformat": 4,
 "nbformat_minor": 2
}
