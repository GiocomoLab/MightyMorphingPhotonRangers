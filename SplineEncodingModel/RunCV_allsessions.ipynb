{
 "cells": [
  {
   "cell_type": "code",
   "execution_count": 1,
   "metadata": {},
   "outputs": [],
   "source": [
    "import os\n",
    "os.sys.path.append(\"C:\\\\Users\\mplitt\\MightyMorphingPhotonRangers\")\n",
    "import utilities as u\n",
    "import preprocessing as pp\n",
    "from SplineEncodingModel import PopDecodingCV as pdcv\n",
    "\n",
    "%load_ext autoreload\n",
    "%autoreload 2\n",
    "\n"
   ]
  },
  {
   "cell_type": "code",
   "execution_count": 2,
   "metadata": {},
   "outputs": [],
   "source": [
    "morph_rare = ['4139265.3','4139265.4','4139265.5','4222175.0']\n",
    "morph_fam = ['4222153.2','4222154.1','4222153.1','4222157.3','4222174.1']\n",
    "\n",
    "fam_dec = ['4139278.2','4222157.4']\n",
    "rare_dec  = ['4139224.2','4139224.3','4139224.5','4139219.2','4139219.3','4139251.1','4139260.1','4139261.2']"
   ]
  },
  {
   "cell_type": "code",
   "execution_count": 4,
   "metadata": {},
   "outputs": [
    {
     "name": "stdout",
     "output_type": "stream",
     "text": [
      "['4139265.3', '4139265.4', '4139265.5', '4222175.0', '4222153.2', '4222154.1', '4222153.1', '4222157.3', '4222174.1']\n"
     ]
    }
   ],
   "source": [
    "print(morph_rare+morph_fam)"
   ]
  },
  {
   "cell_type": "code",
   "execution_count": 3,
   "metadata": {},
   "outputs": [
    {
     "name": "stdout",
     "output_type": "stream",
     "text": [
      "G:\\My Drive\\VR_Data\\TwoTower\\behavior.sqlite\n",
      "G:\\My Drive\\VR_Data\\TwoTower\\4222174.0\\30_05_2019\\RuningTraining_1.sqlite\n",
      "file doesn't exist, errors to come!!!\n"
     ]
    }
   ],
   "source": [
    "\n",
    "df = pp.load_session_db()\n",
    "\n",
    "\n",
    "df = df[df['RewardCount']>30]\n",
    "df = df[df['Imaging']==1]\n",
    "df = df.sort_values(['MouseName','DateTime','SessionNumber'])\n",
    "tracks = 'TwoTower_noTimeout|TwoTower_Timeout|Reversal_noTimeout|Reversal|TwoTower_foraging'\n",
    "df = df[df['Track'].str.contains(tracks,regex=True)]\n",
    "\n"
   ]
  },
  {
   "cell_type": "code",
   "execution_count": null,
   "metadata": {},
   "outputs": [
    {
     "name": "stdout",
     "output_type": "stream",
     "text": [
      "MouseName                                                4139224.2\n",
      "DateFolder                                              17_10_2018\n",
      "SessionNumber                                                    1\n",
      "Track                                           TwoTower_noTimeout\n",
      "RewardCount                                                     60\n",
      "Imaging                                                          1\n",
      "ImagingRegion                                                  CA1\n",
      "DateTime                                       2018-10-17 00:00:00\n",
      "data file        G:\\My Drive\\VR_Data\\TwoTower\\4139224.2\\17_10_2...\n",
      "scanfile         G:\\My Drive\\2P_Data\\TwoTower\\4139224.2\\17_10_2...\n",
      "scanmat          G:\\My Drive\\2P_Data\\TwoTower\\4139224.2\\17_10_2...\n",
      "s2pfolder        G:\\My Drive\\2P_Data\\TwoTower\\4139224.2\\17_10_2...\n",
      "Name: 787, dtype: object\n",
      "num aberrant ttls 0.0\n",
      "21152 (21152,) (21152, 20) 66872\n"
     ]
    },
    {
     "name": "stderr",
     "output_type": "stream",
     "text": [
      "C:\\Users\\mplitt\\Anaconda3\\lib\\site-packages\\pandas\\core\\frame.py:4034: SettingWithCopyWarning: \n",
      "A value is trying to be set on a copy of a slice from a DataFrame\n",
      "\n",
      "See the caveats in the documentation: http://pandas.pydata.org/pandas-docs/stable/indexing.html#indexing-view-versus-copy\n",
      "  downcast=downcast, **kwargs)\n"
     ]
    },
    {
     "name": "stdout",
     "output_type": "stream",
     "text": [
      "frame diff 0\n",
      "training fold 0\n",
      "training fold 1\n",
      "training fold 2\n",
      "4 cells included in decoding model\n",
      "start fold  0\n",
      "decoding fold 0\n",
      "\t total timepoints = 5831\n",
      "\t timepoint 0\n",
      "\t timepoint 1000\n",
      "\t timepoint 2000\n",
      "\t timepoint 3000\n",
      "\t timepoint 4000\n",
      "\t timepoint 5000\n",
      "start fold  1\n",
      "decoding fold 1\n",
      "\t total timepoints = 6025\n",
      "\t timepoint 0\n",
      "\t timepoint 1000\n",
      "\t timepoint 2000\n",
      "\t timepoint 3000\n",
      "\t timepoint 4000\n",
      "\t timepoint 5000\n",
      "\t timepoint 6000\n",
      "start fold  2\n",
      "decoding fold 2\n",
      "\t total timepoints = 5967\n",
      "\t timepoint 0\n",
      "\t timepoint 1000\n",
      "\t timepoint 2000\n",
      "\t timepoint 3000\n",
      "\t timepoint 4000\n",
      "\t timepoint 5000\n"
     ]
    },
    {
     "name": "stderr",
     "output_type": "stream",
     "text": [
      "C:\\Users\\mplitt\\Anaconda3\\lib\\site-packages\\matplotlib\\pyplot.py:514: RuntimeWarning: More than 20 figures have been opened. Figures created through the pyplot interface (`matplotlib.pyplot.figure`) are retained until explicitly closed and may consume too much memory. (To control this warning, see the rcParam `figure.max_open_warning`).\n",
      "  max_open_warning, RuntimeWarning)\n"
     ]
    },
    {
     "name": "stdout",
     "output_type": "stream",
     "text": [
      "MouseName                                                4139224.2\n",
      "DateFolder                                              18_10_2018\n",
      "SessionNumber                                                    2\n",
      "Track                                           TwoTower_noTimeout\n",
      "RewardCount                                                     58\n",
      "Imaging                                                          1\n",
      "ImagingRegion                                                  CA1\n",
      "DateTime                                       2018-10-18 00:00:00\n",
      "data file        G:\\My Drive\\VR_Data\\TwoTower\\4139224.2\\18_10_2...\n",
      "scanfile         G:\\My Drive\\2P_Data\\TwoTower\\4139224.2\\18_10_2...\n",
      "scanmat          G:\\My Drive\\2P_Data\\TwoTower\\4139224.2\\18_10_2...\n",
      "s2pfolder        G:\\My Drive\\2P_Data\\TwoTower\\4139224.2\\18_10_2...\n",
      "Name: 802, dtype: object\n",
      "num aberrant ttls 0.0\n",
      "25965 (25965,) (25965, 20) 80655\n"
     ]
    },
    {
     "name": "stderr",
     "output_type": "stream",
     "text": [
      "C:\\Users\\mplitt\\Anaconda3\\lib\\site-packages\\pandas\\core\\frame.py:4034: SettingWithCopyWarning: \n",
      "A value is trying to be set on a copy of a slice from a DataFrame\n",
      "\n",
      "See the caveats in the documentation: http://pandas.pydata.org/pandas-docs/stable/indexing.html#indexing-view-versus-copy\n",
      "  downcast=downcast, **kwargs)\n"
     ]
    },
    {
     "name": "stdout",
     "output_type": "stream",
     "text": [
      "frame diff 0\n",
      "training fold 0\n",
      "training fold 1\n"
     ]
    }
   ],
   "source": [
    "\n",
    "for mouse in fam_dec+rare_dec:\n",
    "    df_mouse = df[df['MouseName'].str.match(mouse)]\n",
    "\n",
    "    for i in range(df_mouse.shape[0]):\n",
    "        sess = df_mouse.iloc[i]\n",
    "        print(sess)\n",
    "        try:\n",
    "            pdcv.run_sess(sess)\n",
    "        except:\n",
    "            pass\n",
    "            "
   ]
  },
  {
   "cell_type": "code",
   "execution_count": null,
   "metadata": {},
   "outputs": [],
   "source": []
  }
 ],
 "metadata": {
  "kernelspec": {
   "display_name": "Python 3",
   "language": "python",
   "name": "python3"
  },
  "language_info": {
   "codemirror_mode": {
    "name": "ipython",
    "version": 3
   },
   "file_extension": ".py",
   "mimetype": "text/x-python",
   "name": "python",
   "nbconvert_exporter": "python",
   "pygments_lexer": "ipython3",
   "version": "3.7.3"
  }
 },
 "nbformat": 4,
 "nbformat_minor": 2
}
