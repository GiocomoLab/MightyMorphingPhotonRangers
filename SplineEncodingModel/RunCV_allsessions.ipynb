{
 "cells": [
  {
   "cell_type": "code",
   "execution_count": 1,
   "metadata": {},
   "outputs": [],
   "source": [
    "import os\n",
    "os.sys.path.append(\"C:\\\\Users\\mplitt\\MightyMorphingPhotonRangers\")\n",
    "import utilities as u\n",
    "import preprocessing as pp\n",
    "from SplineEncodingModel import PopDecodingCV as pdcv\n",
    "\n",
    "%load_ext autoreload\n",
    "%autoreload 2\n",
    "\n"
   ]
  },
  {
   "cell_type": "code",
   "execution_count": 2,
   "metadata": {},
   "outputs": [],
   "source": [
    "morph_rare = ['4139265.3','4139265.4','4139265.5','4222175.0']\n",
    "morph_fam = ['4222153.2','4222154.1','4222153.1','4222157.3','4222174.1']\n",
    "\n",
    "fam_dec = ['4139278.2','4222157.4']\n",
    "rare_dec  = ['4139224.2','4139224.3','4139224.5','4139219.2','4139219.3','4139251.1','4139260.1','4139261.2']"
   ]
  },
  {
   "cell_type": "code",
   "execution_count": 4,
   "metadata": {},
   "outputs": [
    {
     "name": "stdout",
     "output_type": "stream",
     "text": [
      "['4139265.3', '4139265.4', '4139265.5', '4222175.0', '4222153.2', '4222154.1', '4222153.1', '4222157.3', '4222174.1']\n"
     ]
    }
   ],
   "source": [
    "print(morph_rare+morph_fam)"
   ]
  },
  {
   "cell_type": "code",
   "execution_count": 3,
   "metadata": {},
   "outputs": [
    {
     "name": "stdout",
     "output_type": "stream",
     "text": [
      "G:\\My Drive\\VR_Data\\TwoTower\\behavior.sqlite\n",
      "G:\\My Drive\\VR_Data\\TwoTower\\4222174.0\\30_05_2019\\RuningTraining_1.sqlite\n",
      "file doesn't exist, errors to come!!!\n"
     ]
    }
   ],
   "source": [
    "\n",
    "df = pp.load_session_db()\n",
    "\n",
    "\n",
    "df = df[df['RewardCount']>30]\n",
    "df = df[df['Imaging']==1]\n",
    "df = df.sort_values(['MouseName','DateTime','SessionNumber'])\n",
    "tracks = 'TwoTower_noTimeout|TwoTower_Timeout|Reversal_noTimeout|Reversal|TwoTower_foraging'\n",
    "df = df[df['Track'].str.contains(tracks,regex=True)]\n",
    "\n"
   ]
  },
  {
   "cell_type": "code",
   "execution_count": null,
   "metadata": {},
   "outputs": [
    {
     "name": "stdout",
     "output_type": "stream",
     "text": [
      "MouseName                                                4139265.3\n",
      "DateFolder                                              10_02_2019\n",
      "SessionNumber                                                    1\n",
      "Track                                            TwoTower_foraging\n",
      "RewardCount                                                     60\n",
      "Imaging                                                          1\n",
      "ImagingRegion                                                  CA1\n",
      "DateTime                                       2019-02-10 00:00:00\n",
      "data file        G:\\My Drive\\VR_Data\\TwoTower\\4139265.3\\10_02_2...\n",
      "scanfile                                                      None\n",
      "scanmat          G:\\My Drive\\2P_Data\\TwoTower\\4139265.3\\10_02_2...\n",
      "s2pfolder        G:\\My Drive\\2P_Data\\TwoTower\\4139265.3\\10_02_2...\n",
      "Name: 1403, dtype: object\n",
      "num aberrant ttls 0.0\n",
      "18730 (18730,) (18730, 21) 62980\n"
     ]
    },
    {
     "name": "stderr",
     "output_type": "stream",
     "text": [
      "C:\\Users\\mplitt\\Anaconda3\\lib\\site-packages\\pandas\\core\\frame.py:4034: SettingWithCopyWarning: \n",
      "A value is trying to be set on a copy of a slice from a DataFrame\n",
      "\n",
      "See the caveats in the documentation: http://pandas.pydata.org/pandas-docs/stable/indexing.html#indexing-view-versus-copy\n",
      "  downcast=downcast, **kwargs)\n"
     ]
    },
    {
     "name": "stdout",
     "output_type": "stream",
     "text": [
      "frame diff 0\n",
      "training fold 0\n",
      "MouseName                                                4139265.3\n",
      "DateFolder                                              10_02_2019\n",
      "SessionNumber                                                    3\n",
      "Track                                            TwoTower_foraging\n",
      "RewardCount                                                     60\n",
      "Imaging                                                          1\n",
      "ImagingRegion                                                  CA1\n",
      "DateTime                                       2019-02-10 00:00:00\n",
      "data file        G:\\My Drive\\VR_Data\\TwoTower\\4139265.3\\10_02_2...\n",
      "scanfile                                                      None\n",
      "scanmat          G:\\My Drive\\2P_Data\\TwoTower\\4139265.3\\10_02_2...\n",
      "s2pfolder        G:\\My Drive\\2P_Data\\TwoTower\\4139265.3\\10_02_2...\n",
      "Name: 1405, dtype: object\n",
      "num aberrant ttls 0.0\n",
      "20963 (20963,) (20963, 21) 69486\n"
     ]
    },
    {
     "name": "stderr",
     "output_type": "stream",
     "text": [
      "C:\\Users\\mplitt\\Anaconda3\\lib\\site-packages\\pandas\\core\\frame.py:4034: SettingWithCopyWarning: \n",
      "A value is trying to be set on a copy of a slice from a DataFrame\n",
      "\n",
      "See the caveats in the documentation: http://pandas.pydata.org/pandas-docs/stable/indexing.html#indexing-view-versus-copy\n",
      "  downcast=downcast, **kwargs)\n"
     ]
    },
    {
     "name": "stdout",
     "output_type": "stream",
     "text": [
      "frame diff 0\n",
      "training fold 0\n",
      "training fold 1\n",
      "training fold 2\n",
      "456 cells included in decoding model\n",
      "start fold  0\n",
      "decoding fold 0\n",
      "\t total timepoints = 6644\n",
      "\t timepoint 0\n",
      "\t timepoint 1000\n",
      "\t timepoint 2000\n",
      "\t timepoint 3000\n",
      "\t timepoint 4000\n",
      "\t timepoint 5000\n",
      "\t timepoint 6000\n",
      "start fold  1\n",
      "decoding fold 1\n",
      "\t total timepoints = 6109\n",
      "\t timepoint 0\n",
      "\t timepoint 1000\n",
      "\t timepoint 2000\n",
      "\t timepoint 3000\n",
      "\t timepoint 4000\n",
      "\t timepoint 5000\n",
      "\t timepoint 6000\n",
      "start fold  2\n",
      "decoding fold 2\n",
      "\t total timepoints = 6053\n",
      "\t timepoint 0\n",
      "\t timepoint 1000\n",
      "\t timepoint 2000\n",
      "\t timepoint 3000\n",
      "\t timepoint 4000\n",
      "\t timepoint 5000\n",
      "\t timepoint 6000\n"
     ]
    },
    {
     "name": "stderr",
     "output_type": "stream",
     "text": [
      "C:\\Users\\mplitt\\Anaconda3\\lib\\site-packages\\matplotlib\\pyplot.py:514: RuntimeWarning: More than 20 figures have been opened. Figures created through the pyplot interface (`matplotlib.pyplot.figure`) are retained until explicitly closed and may consume too much memory. (To control this warning, see the rcParam `figure.max_open_warning`).\n",
      "  max_open_warning, RuntimeWarning)\n"
     ]
    },
    {
     "name": "stdout",
     "output_type": "stream",
     "text": [
      "MouseName                                                4139265.3\n",
      "DateFolder                                              12_02_2019\n",
      "SessionNumber                                                    2\n",
      "Track                                            TwoTower_foraging\n",
      "RewardCount                                                     90\n",
      "Imaging                                                          1\n",
      "ImagingRegion                                                  CA1\n",
      "DateTime                                       2019-02-12 00:00:00\n",
      "data file        G:\\My Drive\\VR_Data\\TwoTower\\4139265.3\\12_02_2...\n",
      "scanfile                                                      None\n",
      "scanmat          G:\\My Drive\\2P_Data\\TwoTower\\4139265.3\\12_02_2...\n",
      "s2pfolder        G:\\My Drive\\2P_Data\\TwoTower\\4139265.3\\12_02_2...\n",
      "Name: 1433, dtype: object\n",
      "num aberrant ttls 0.0\n",
      "22392 (22392,) (22392, 21) 74301\n"
     ]
    },
    {
     "name": "stderr",
     "output_type": "stream",
     "text": [
      "C:\\Users\\mplitt\\Anaconda3\\lib\\site-packages\\pandas\\core\\frame.py:4034: SettingWithCopyWarning: \n",
      "A value is trying to be set on a copy of a slice from a DataFrame\n",
      "\n",
      "See the caveats in the documentation: http://pandas.pydata.org/pandas-docs/stable/indexing.html#indexing-view-versus-copy\n",
      "  downcast=downcast, **kwargs)\n"
     ]
    },
    {
     "name": "stdout",
     "output_type": "stream",
     "text": [
      "frame diff 0\n",
      "training fold 0\n",
      "training fold 1\n",
      "training fold 2\n",
      "99 cells included in decoding model\n",
      "start fold  0\n",
      "decoding fold 0\n",
      "\t total timepoints = 6652\n",
      "\t timepoint 0\n",
      "\t timepoint 1000\n",
      "\t timepoint 2000\n",
      "\t timepoint 3000\n",
      "\t timepoint 4000\n",
      "\t timepoint 5000\n",
      "\t timepoint 6000\n",
      "start fold  1\n",
      "decoding fold 1\n",
      "\t total timepoints = 6501\n",
      "\t timepoint 0\n",
      "\t timepoint 1000\n",
      "\t timepoint 2000\n",
      "\t timepoint 3000\n",
      "\t timepoint 4000\n",
      "\t timepoint 5000\n",
      "\t timepoint 6000\n",
      "start fold  2\n",
      "decoding fold 2\n",
      "\t total timepoints = 6472\n",
      "\t timepoint 0\n",
      "\t timepoint 1000\n",
      "\t timepoint 2000\n",
      "\t timepoint 3000\n",
      "\t timepoint 4000\n",
      "\t timepoint 5000\n",
      "\t timepoint 6000\n"
     ]
    },
    {
     "name": "stderr",
     "output_type": "stream",
     "text": [
      "C:\\Users\\mplitt\\Anaconda3\\lib\\site-packages\\matplotlib\\pyplot.py:514: RuntimeWarning: More than 20 figures have been opened. Figures created through the pyplot interface (`matplotlib.pyplot.figure`) are retained until explicitly closed and may consume too much memory. (To control this warning, see the rcParam `figure.max_open_warning`).\n",
      "  max_open_warning, RuntimeWarning)\n"
     ]
    },
    {
     "name": "stdout",
     "output_type": "stream",
     "text": [
      "MouseName                                                4139265.3\n",
      "DateFolder                                              15_02_2019\n",
      "SessionNumber                                                    4\n",
      "Track                                            TwoTower_foraging\n",
      "RewardCount                                                     72\n",
      "Imaging                                                          1\n",
      "ImagingRegion                                                  CA1\n",
      "DateTime                                       2019-02-15 00:00:00\n",
      "data file        G:\\My Drive\\VR_Data\\TwoTower\\4139265.3\\15_02_2...\n",
      "scanfile                                                      None\n",
      "scanmat          G:\\My Drive\\2P_Data\\TwoTower\\4139265.3\\15_02_2...\n",
      "s2pfolder        G:\\My Drive\\2P_Data\\TwoTower\\4139265.3\\15_02_2...\n",
      "Name: 1455, dtype: object\n",
      "num aberrant ttls 0.0\n",
      "30909 (30909,) (30909, 21) 102031\n"
     ]
    },
    {
     "name": "stderr",
     "output_type": "stream",
     "text": [
      "C:\\Users\\mplitt\\Anaconda3\\lib\\site-packages\\pandas\\core\\frame.py:4034: SettingWithCopyWarning: \n",
      "A value is trying to be set on a copy of a slice from a DataFrame\n",
      "\n",
      "See the caveats in the documentation: http://pandas.pydata.org/pandas-docs/stable/indexing.html#indexing-view-versus-copy\n",
      "  downcast=downcast, **kwargs)\n"
     ]
    },
    {
     "name": "stdout",
     "output_type": "stream",
     "text": [
      "frame diff 0\n",
      "training fold 0\n",
      "training fold 1\n",
      "training fold 2\n",
      "531 cells included in decoding model\n",
      "start fold  0\n",
      "decoding fold 0\n",
      "\t total timepoints = 8659\n",
      "\t timepoint 0\n",
      "\t timepoint 1000\n",
      "\t timepoint 2000\n",
      "\t timepoint 3000\n",
      "\t timepoint 4000\n",
      "\t timepoint 5000\n",
      "\t timepoint 6000\n",
      "\t timepoint 7000\n",
      "\t timepoint 8000\n",
      "start fold  1\n",
      "decoding fold 1\n",
      "\t total timepoints = 8515\n",
      "\t timepoint 0\n",
      "\t timepoint 1000\n",
      "\t timepoint 2000\n",
      "\t timepoint 3000\n",
      "\t timepoint 4000\n",
      "\t timepoint 5000\n",
      "\t timepoint 6000\n",
      "\t timepoint 7000\n",
      "\t timepoint 8000\n",
      "start fold  2\n",
      "decoding fold 2\n",
      "\t total timepoints = 8294\n",
      "\t timepoint 0\n",
      "\t timepoint 1000\n",
      "\t timepoint 2000\n",
      "\t timepoint 3000\n",
      "\t timepoint 4000\n",
      "\t timepoint 5000\n",
      "\t timepoint 6000\n",
      "\t timepoint 7000\n",
      "\t timepoint 8000\n"
     ]
    },
    {
     "name": "stderr",
     "output_type": "stream",
     "text": [
      "C:\\Users\\mplitt\\Anaconda3\\lib\\site-packages\\matplotlib\\pyplot.py:514: RuntimeWarning: More than 20 figures have been opened. Figures created through the pyplot interface (`matplotlib.pyplot.figure`) are retained until explicitly closed and may consume too much memory. (To control this warning, see the rcParam `figure.max_open_warning`).\n",
      "  max_open_warning, RuntimeWarning)\n"
     ]
    },
    {
     "name": "stdout",
     "output_type": "stream",
     "text": [
      "MouseName                                                4139265.3\n",
      "DateFolder                                              17_02_2019\n",
      "SessionNumber                                                    2\n",
      "Track                                            TwoTower_foraging\n",
      "RewardCount                                                     81\n",
      "Imaging                                                          1\n",
      "ImagingRegion                                                  CA1\n",
      "DateTime                                       2019-02-17 00:00:00\n",
      "data file        G:\\My Drive\\VR_Data\\TwoTower\\4139265.3\\17_02_2...\n",
      "scanfile                                                      None\n",
      "scanmat          G:\\My Drive\\2P_Data\\TwoTower\\4139265.3\\17_02_2...\n",
      "s2pfolder        G:\\My Drive\\2P_Data\\TwoTower\\4139265.3\\17_02_2...\n",
      "Name: 1475, dtype: object\n",
      "num aberrant ttls 0.0\n",
      "27389 (27389,) (27389, 21) 90435\n"
     ]
    },
    {
     "name": "stderr",
     "output_type": "stream",
     "text": [
      "C:\\Users\\mplitt\\Anaconda3\\lib\\site-packages\\pandas\\core\\frame.py:4034: SettingWithCopyWarning: \n",
      "A value is trying to be set on a copy of a slice from a DataFrame\n",
      "\n",
      "See the caveats in the documentation: http://pandas.pydata.org/pandas-docs/stable/indexing.html#indexing-view-versus-copy\n",
      "  downcast=downcast, **kwargs)\n"
     ]
    },
    {
     "name": "stdout",
     "output_type": "stream",
     "text": [
      "frame diff 0\n",
      "training fold 0\n",
      "training fold 1\n",
      "training fold 2\n",
      "658 cells included in decoding model\n",
      "start fold  0\n",
      "decoding fold 0\n",
      "\t total timepoints = 7568\n",
      "\t timepoint 0\n",
      "\t timepoint 1000\n",
      "\t timepoint 2000\n",
      "\t timepoint 3000\n",
      "\t timepoint 4000\n",
      "\t timepoint 5000\n",
      "\t timepoint 6000\n",
      "\t timepoint 7000\n",
      "start fold  1\n",
      "decoding fold 1\n",
      "\t total timepoints = 6991\n",
      "\t timepoint 0\n",
      "\t timepoint 1000\n",
      "\t timepoint 2000\n",
      "\t timepoint 3000\n",
      "\t timepoint 4000\n",
      "\t timepoint 5000\n",
      "\t timepoint 6000\n",
      "start fold  2\n",
      "decoding fold 2\n",
      "\t total timepoints = 7242\n",
      "\t timepoint 0\n",
      "\t timepoint 1000\n",
      "\t timepoint 2000\n",
      "\t timepoint 3000\n",
      "\t timepoint 4000\n",
      "\t timepoint 5000\n",
      "\t timepoint 6000\n",
      "\t timepoint 7000\n"
     ]
    },
    {
     "name": "stderr",
     "output_type": "stream",
     "text": [
      "C:\\Users\\mplitt\\Anaconda3\\lib\\site-packages\\matplotlib\\pyplot.py:514: RuntimeWarning: More than 20 figures have been opened. Figures created through the pyplot interface (`matplotlib.pyplot.figure`) are retained until explicitly closed and may consume too much memory. (To control this warning, see the rcParam `figure.max_open_warning`).\n",
      "  max_open_warning, RuntimeWarning)\n"
     ]
    },
    {
     "name": "stdout",
     "output_type": "stream",
     "text": [
      "MouseName                                                4139265.3\n",
      "DateFolder                                              19_02_2019\n",
      "SessionNumber                                                    2\n",
      "Track                                            TwoTower_foraging\n",
      "RewardCount                                                     92\n",
      "Imaging                                                          1\n",
      "ImagingRegion                                                  CA1\n",
      "DateTime                                       2019-02-19 00:00:00\n",
      "data file        G:\\My Drive\\VR_Data\\TwoTower\\4139265.3\\19_02_2...\n",
      "scanfile                                                      None\n",
      "scanmat          G:\\My Drive\\2P_Data\\TwoTower\\4139265.3\\19_02_2...\n",
      "s2pfolder        G:\\My Drive\\2P_Data\\TwoTower\\4139265.3\\19_02_2...\n",
      "Name: 1495, dtype: object\n",
      "num aberrant ttls 0.0\n",
      "35085 (35085,) (35085, 21) 115307\n"
     ]
    },
    {
     "name": "stderr",
     "output_type": "stream",
     "text": [
      "C:\\Users\\mplitt\\Anaconda3\\lib\\site-packages\\pandas\\core\\frame.py:4034: SettingWithCopyWarning: \n",
      "A value is trying to be set on a copy of a slice from a DataFrame\n",
      "\n",
      "See the caveats in the documentation: http://pandas.pydata.org/pandas-docs/stable/indexing.html#indexing-view-versus-copy\n",
      "  downcast=downcast, **kwargs)\n"
     ]
    },
    {
     "name": "stdout",
     "output_type": "stream",
     "text": [
      "frame diff 0\n",
      "training fold 0\n",
      "training fold 1\n",
      "training fold 2\n",
      "453 cells included in decoding model\n",
      "start fold  0\n",
      "decoding fold 0\n",
      "\t total timepoints = 9196\n",
      "\t timepoint 0\n",
      "\t timepoint 1000\n",
      "\t timepoint 2000\n",
      "\t timepoint 3000\n",
      "\t timepoint 4000\n",
      "\t timepoint 5000\n",
      "\t timepoint 6000\n",
      "\t timepoint 7000\n",
      "\t timepoint 8000\n",
      "\t timepoint 9000\n",
      "start fold  1\n",
      "decoding fold 1\n",
      "\t total timepoints = 9119\n",
      "\t timepoint 0\n",
      "\t timepoint 1000\n",
      "\t timepoint 2000\n",
      "\t timepoint 3000\n",
      "\t timepoint 4000\n",
      "\t timepoint 5000\n",
      "\t timepoint 6000\n",
      "\t timepoint 7000\n",
      "\t timepoint 8000\n",
      "\t timepoint 9000\n",
      "start fold  2\n",
      "decoding fold 2\n",
      "\t total timepoints = 9294\n",
      "\t timepoint 0\n",
      "\t timepoint 1000\n",
      "\t timepoint 2000\n",
      "\t timepoint 3000\n",
      "\t timepoint 4000\n",
      "\t timepoint 5000\n",
      "\t timepoint 6000\n",
      "\t timepoint 7000\n",
      "\t timepoint 8000\n",
      "\t timepoint 9000\n"
     ]
    },
    {
     "name": "stderr",
     "output_type": "stream",
     "text": [
      "C:\\Users\\mplitt\\Anaconda3\\lib\\site-packages\\matplotlib\\pyplot.py:514: RuntimeWarning: More than 20 figures have been opened. Figures created through the pyplot interface (`matplotlib.pyplot.figure`) are retained until explicitly closed and may consume too much memory. (To control this warning, see the rcParam `figure.max_open_warning`).\n",
      "  max_open_warning, RuntimeWarning)\n"
     ]
    },
    {
     "name": "stdout",
     "output_type": "stream",
     "text": [
      "MouseName                                                4139265.3\n",
      "DateFolder                                              21_02_2019\n",
      "SessionNumber                                                    2\n",
      "Track                                            TwoTower_foraging\n",
      "RewardCount                                                     90\n",
      "Imaging                                                          1\n",
      "ImagingRegion                                                  CA1\n",
      "DateTime                                       2019-02-21 00:00:00\n",
      "data file        G:\\My Drive\\VR_Data\\TwoTower\\4139265.3\\21_02_2...\n",
      "scanfile                                                      None\n",
      "scanmat          G:\\My Drive\\2P_Data\\TwoTower\\4139265.3\\21_02_2...\n",
      "s2pfolder        G:\\My Drive\\2P_Data\\TwoTower\\4139265.3\\21_02_2...\n",
      "Name: 1513, dtype: object\n",
      "num aberrant ttls 0.0\n",
      "33140 (33140,) (33140, 21) 109003\n"
     ]
    },
    {
     "name": "stderr",
     "output_type": "stream",
     "text": [
      "C:\\Users\\mplitt\\Anaconda3\\lib\\site-packages\\pandas\\core\\frame.py:4034: SettingWithCopyWarning: \n",
      "A value is trying to be set on a copy of a slice from a DataFrame\n",
      "\n",
      "See the caveats in the documentation: http://pandas.pydata.org/pandas-docs/stable/indexing.html#indexing-view-versus-copy\n",
      "  downcast=downcast, **kwargs)\n"
     ]
    },
    {
     "name": "stdout",
     "output_type": "stream",
     "text": [
      "frame diff 0\n",
      "training fold 0\n",
      "training fold 1\n",
      "training fold 2\n",
      "623 cells included in decoding model\n",
      "start fold  0\n",
      "decoding fold 0\n",
      "\t total timepoints = 8237\n",
      "\t timepoint 0\n",
      "\t timepoint 1000\n",
      "\t timepoint 2000\n",
      "\t timepoint 3000\n",
      "\t timepoint 4000\n",
      "\t timepoint 5000\n",
      "\t timepoint 6000\n",
      "\t timepoint 7000\n",
      "\t timepoint 8000\n",
      "start fold  1\n",
      "decoding fold 1\n",
      "\t total timepoints = 8245\n",
      "\t timepoint 0\n",
      "\t timepoint 1000\n",
      "\t timepoint 2000\n",
      "\t timepoint 3000\n",
      "\t timepoint 4000\n",
      "\t timepoint 5000\n",
      "\t timepoint 6000\n",
      "\t timepoint 7000\n",
      "\t timepoint 8000\n",
      "start fold  2\n",
      "decoding fold 2\n",
      "\t total timepoints = 8832\n",
      "\t timepoint 0\n",
      "\t timepoint 1000\n",
      "\t timepoint 2000\n",
      "\t timepoint 3000\n",
      "\t timepoint 4000\n",
      "\t timepoint 5000\n",
      "\t timepoint 6000\n",
      "\t timepoint 7000\n",
      "\t timepoint 8000\n"
     ]
    },
    {
     "name": "stderr",
     "output_type": "stream",
     "text": [
      "C:\\Users\\mplitt\\Anaconda3\\lib\\site-packages\\matplotlib\\pyplot.py:514: RuntimeWarning: More than 20 figures have been opened. Figures created through the pyplot interface (`matplotlib.pyplot.figure`) are retained until explicitly closed and may consume too much memory. (To control this warning, see the rcParam `figure.max_open_warning`).\n",
      "  max_open_warning, RuntimeWarning)\n"
     ]
    },
    {
     "name": "stdout",
     "output_type": "stream",
     "text": [
      "MouseName                                                4139265.3\n",
      "DateFolder                                              22_02_2019\n",
      "SessionNumber                                                    2\n",
      "Track                                            TwoTower_foraging\n",
      "RewardCount                                                     90\n",
      "Imaging                                                          1\n",
      "ImagingRegion                                                  CA1\n",
      "DateTime                                       2019-02-22 00:00:00\n",
      "data file        G:\\My Drive\\VR_Data\\TwoTower\\4139265.3\\22_02_2...\n",
      "scanfile                                                      None\n",
      "scanmat          G:\\My Drive\\2P_Data\\TwoTower\\4139265.3\\22_02_2...\n",
      "s2pfolder        G:\\My Drive\\2P_Data\\TwoTower\\4139265.3\\22_02_2...\n",
      "Name: 1522, dtype: object\n",
      "num aberrant ttls 0.0\n",
      "38209 (38209,) (38209, 21) 126969\n"
     ]
    },
    {
     "name": "stderr",
     "output_type": "stream",
     "text": [
      "C:\\Users\\mplitt\\Anaconda3\\lib\\site-packages\\pandas\\core\\frame.py:4034: SettingWithCopyWarning: \n",
      "A value is trying to be set on a copy of a slice from a DataFrame\n",
      "\n",
      "See the caveats in the documentation: http://pandas.pydata.org/pandas-docs/stable/indexing.html#indexing-view-versus-copy\n",
      "  downcast=downcast, **kwargs)\n"
     ]
    },
    {
     "name": "stdout",
     "output_type": "stream",
     "text": [
      "frame diff 0\n",
      "training fold 0\n",
      "training fold 1\n",
      "training fold 2\n",
      "449 cells included in decoding model\n",
      "start fold  0\n",
      "decoding fold 0\n",
      "\t total timepoints = 9834\n",
      "\t timepoint 0\n",
      "\t timepoint 1000\n",
      "\t timepoint 2000\n",
      "\t timepoint 3000\n",
      "\t timepoint 4000\n",
      "\t timepoint 5000\n",
      "\t timepoint 6000\n",
      "\t timepoint 7000\n",
      "\t timepoint 8000\n",
      "\t timepoint 9000\n",
      "start fold  1\n",
      "decoding fold 1\n",
      "\t total timepoints = 10159\n",
      "\t timepoint 0\n",
      "\t timepoint 1000\n",
      "\t timepoint 2000\n",
      "\t timepoint 3000\n",
      "\t timepoint 4000\n",
      "\t timepoint 5000\n",
      "\t timepoint 6000\n",
      "\t timepoint 7000\n",
      "\t timepoint 8000\n",
      "\t timepoint 9000\n",
      "\t timepoint 10000\n",
      "start fold  2\n",
      "decoding fold 2\n",
      "\t total timepoints = 10117\n",
      "\t timepoint 0\n",
      "\t timepoint 1000\n",
      "\t timepoint 2000\n",
      "\t timepoint 3000\n",
      "\t timepoint 4000\n",
      "\t timepoint 5000\n",
      "\t timepoint 6000\n",
      "\t timepoint 7000\n",
      "\t timepoint 8000\n",
      "\t timepoint 9000\n",
      "\t timepoint 10000\n"
     ]
    },
    {
     "name": "stderr",
     "output_type": "stream",
     "text": [
      "C:\\Users\\mplitt\\Anaconda3\\lib\\site-packages\\matplotlib\\pyplot.py:514: RuntimeWarning: More than 20 figures have been opened. Figures created through the pyplot interface (`matplotlib.pyplot.figure`) are retained until explicitly closed and may consume too much memory. (To control this warning, see the rcParam `figure.max_open_warning`).\n",
      "  max_open_warning, RuntimeWarning)\n"
     ]
    },
    {
     "name": "stdout",
     "output_type": "stream",
     "text": [
      "MouseName                                                4139265.3\n",
      "DateFolder                                              23_02_2019\n",
      "SessionNumber                                                    2\n",
      "Track                                            TwoTower_foraging\n",
      "RewardCount                                                     93\n",
      "Imaging                                                          1\n",
      "ImagingRegion                                                  CA1\n",
      "DateTime                                       2019-02-23 00:00:00\n",
      "data file        G:\\My Drive\\VR_Data\\TwoTower\\4139265.3\\23_02_2...\n",
      "scanfile                                                      None\n",
      "scanmat          G:\\My Drive\\2P_Data\\TwoTower\\4139265.3\\23_02_2...\n",
      "s2pfolder        G:\\My Drive\\2P_Data\\TwoTower\\4139265.3\\23_02_2...\n",
      "Name: 1531, dtype: object\n",
      "num aberrant ttls 0.0\n",
      "33547 (33547,) (33547, 21) 110218\n"
     ]
    },
    {
     "name": "stderr",
     "output_type": "stream",
     "text": [
      "C:\\Users\\mplitt\\Anaconda3\\lib\\site-packages\\pandas\\core\\frame.py:4034: SettingWithCopyWarning: \n",
      "A value is trying to be set on a copy of a slice from a DataFrame\n",
      "\n",
      "See the caveats in the documentation: http://pandas.pydata.org/pandas-docs/stable/indexing.html#indexing-view-versus-copy\n",
      "  downcast=downcast, **kwargs)\n"
     ]
    },
    {
     "name": "stdout",
     "output_type": "stream",
     "text": [
      "frame diff 0\n",
      "training fold 0\n",
      "training fold 1\n",
      "training fold 2\n",
      "438 cells included in decoding model\n",
      "start fold  0\n",
      "decoding fold 0\n",
      "\t total timepoints = 8530\n",
      "\t timepoint 0\n",
      "\t timepoint 1000\n",
      "\t timepoint 2000\n",
      "\t timepoint 3000\n",
      "\t timepoint 4000\n",
      "\t timepoint 5000\n",
      "\t timepoint 6000\n",
      "\t timepoint 7000\n",
      "\t timepoint 8000\n",
      "start fold  1\n",
      "decoding fold 1\n",
      "\t total timepoints = 8343\n",
      "\t timepoint 0\n",
      "\t timepoint 1000\n",
      "\t timepoint 2000\n",
      "\t timepoint 3000\n",
      "\t timepoint 4000\n",
      "\t timepoint 5000\n",
      "\t timepoint 6000\n",
      "\t timepoint 7000\n"
     ]
    }
   ],
   "source": [
    "\n",
    "for mouse in morph_rare+morph_fam:\n",
    "    df_mouse = df[df['MouseName'].str.match(mouse)]\n",
    "\n",
    "    for i in range(df_mouse.shape[0]):\n",
    "        sess = df_mouse.iloc[i]\n",
    "        print(sess)\n",
    "        try:\n",
    "            pdcv.run_sess(sess)\n",
    "        except:\n",
    "            pass\n",
    "            "
   ]
  },
  {
   "cell_type": "code",
   "execution_count": null,
   "metadata": {},
   "outputs": [],
   "source": []
  }
 ],
 "metadata": {
  "kernelspec": {
   "display_name": "Python 3",
   "language": "python",
   "name": "python3"
  },
  "language_info": {
   "codemirror_mode": {
    "name": "ipython",
    "version": 3
   },
   "file_extension": ".py",
   "mimetype": "text/x-python",
   "name": "python",
   "nbconvert_exporter": "python",
   "pygments_lexer": "ipython3",
   "version": "3.7.3"
  }
 },
 "nbformat": 4,
 "nbformat_minor": 2
}
