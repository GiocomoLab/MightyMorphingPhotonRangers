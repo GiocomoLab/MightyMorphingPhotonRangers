{
 "cells": [
  {
   "cell_type": "code",
   "execution_count": 11,
   "metadata": {},
   "outputs": [
    {
     "name": "stdout",
     "output_type": "stream",
     "text": [
      "The autoreload extension is already loaded. To reload it, use:\n",
      "  %reload_ext autoreload\n"
     ]
    }
   ],
   "source": [
    "import matplotlib.pyplot as plt\n",
    "import numpy as np\n",
    "import scipy as sp\n",
    "from scipy.ndimage.filters import gaussian_filter1d\n",
    "import sqlite3 as sql\n",
    "import os\n",
    "import pandas as pd\n",
    "from datetime import datetime\n",
    "from glob import glob\n",
    "import PlaceCellAnalysis as pc\n",
    "import single_session_plots as ssp\n",
    "import SimilarityMatrixAnalysis as sm\n",
    "import BayesianDecoding as bd\n",
    "import sklearn as sk\n",
    "\n",
    "os.sys.path.append('../')\n",
    "import utilities as u\n",
    "import preprocessing as pp\n",
    "import behavior as b\n",
    "\n",
    "from sklearn.decomposition import PCA\n",
    "from mpl_toolkits.mplot3d import Axes3D\n",
    "\n",
    "\n",
    "%load_ext autoreload\n",
    "%autoreload 2\n",
    "\n",
    "%matplotlib inline"
   ]
  },
  {
   "cell_type": "code",
   "execution_count": 12,
   "metadata": {},
   "outputs": [
    {
     "data": {
      "text/html": [
       "<div>\n",
       "<style scoped>\n",
       "    .dataframe tbody tr th:only-of-type {\n",
       "        vertical-align: middle;\n",
       "    }\n",
       "\n",
       "    .dataframe tbody tr th {\n",
       "        vertical-align: top;\n",
       "    }\n",
       "\n",
       "    .dataframe thead th {\n",
       "        text-align: right;\n",
       "    }\n",
       "</style>\n",
       "<table border=\"1\" class=\"dataframe\">\n",
       "  <thead>\n",
       "    <tr style=\"text-align: right;\">\n",
       "      <th></th>\n",
       "      <th>MouseName</th>\n",
       "      <th>DateFolder</th>\n",
       "      <th>SessionNumber</th>\n",
       "      <th>Track</th>\n",
       "      <th>RewardCount</th>\n",
       "      <th>Imaging</th>\n",
       "      <th>ImagingRegion</th>\n",
       "      <th>DateTime</th>\n",
       "      <th>data file</th>\n",
       "      <th>scanfile</th>\n",
       "      <th>scanmat</th>\n",
       "    </tr>\n",
       "  </thead>\n",
       "  <tbody>\n",
       "    <tr>\n",
       "      <th>632</th>\n",
       "      <td>4139219.3</td>\n",
       "      <td>08_10_2018</td>\n",
       "      <td>3</td>\n",
       "      <td>TwoTower_noTimeout</td>\n",
       "      <td>63</td>\n",
       "      <td>1</td>\n",
       "      <td>CA1</td>\n",
       "      <td>2018-10-08</td>\n",
       "      <td>G:\\My Drive\\\\VR_Data\\TwoTower\\4139219.3\\08_10_...</td>\n",
       "      <td>G:\\My Drive\\2P_Data\\TwoTower\\4139219.3\\08_10_2...</td>\n",
       "      <td>G:\\My Drive\\2P_Data\\TwoTower\\4139219.3\\08_10_2...</td>\n",
       "    </tr>\n",
       "    <tr>\n",
       "      <th>635</th>\n",
       "      <td>4139219.3</td>\n",
       "      <td>08_10_2018</td>\n",
       "      <td>5</td>\n",
       "      <td>TwoTower_noTimeout</td>\n",
       "      <td>55</td>\n",
       "      <td>1</td>\n",
       "      <td>CA1</td>\n",
       "      <td>2018-10-08</td>\n",
       "      <td>G:\\My Drive\\\\VR_Data\\TwoTower\\4139219.3\\08_10_...</td>\n",
       "      <td>G:\\My Drive\\2P_Data\\TwoTower\\4139219.3\\08_10_2...</td>\n",
       "      <td>G:\\My Drive\\2P_Data\\TwoTower\\4139219.3\\08_10_2...</td>\n",
       "    </tr>\n",
       "    <tr>\n",
       "      <th>667</th>\n",
       "      <td>4139219.3</td>\n",
       "      <td>10_10_2018</td>\n",
       "      <td>2</td>\n",
       "      <td>TwoTower_noTimeout</td>\n",
       "      <td>100</td>\n",
       "      <td>1</td>\n",
       "      <td>CA1</td>\n",
       "      <td>2018-10-10</td>\n",
       "      <td>G:\\My Drive\\\\VR_Data\\TwoTower\\4139219.3\\10_10_...</td>\n",
       "      <td>G:\\My Drive\\2P_Data\\TwoTower\\4139219.3\\10_10_2...</td>\n",
       "      <td>G:\\My Drive\\2P_Data\\TwoTower\\4139219.3\\10_10_2...</td>\n",
       "    </tr>\n",
       "    <tr>\n",
       "      <th>708</th>\n",
       "      <td>4139219.3</td>\n",
       "      <td>12_10_2018</td>\n",
       "      <td>2</td>\n",
       "      <td>TwoTower_Timeout</td>\n",
       "      <td>54</td>\n",
       "      <td>1</td>\n",
       "      <td>CA1</td>\n",
       "      <td>2018-10-12</td>\n",
       "      <td>G:\\My Drive\\\\VR_Data\\TwoTower\\4139219.3\\12_10_...</td>\n",
       "      <td>G:\\My Drive\\2P_Data\\TwoTower\\4139219.3\\12_10_2...</td>\n",
       "      <td>G:\\My Drive\\2P_Data\\TwoTower\\4139219.3\\12_10_2...</td>\n",
       "    </tr>\n",
       "    <tr>\n",
       "      <th>754</th>\n",
       "      <td>4139219.3</td>\n",
       "      <td>15_10_2018</td>\n",
       "      <td>2</td>\n",
       "      <td>TwoTower_Timeout</td>\n",
       "      <td>46</td>\n",
       "      <td>1</td>\n",
       "      <td>CA1</td>\n",
       "      <td>2018-10-15</td>\n",
       "      <td>G:\\My Drive\\\\VR_Data\\TwoTower\\4139219.3\\15_10_...</td>\n",
       "      <td>G:\\My Drive\\2P_Data\\TwoTower\\4139219.3\\15_10_2...</td>\n",
       "      <td>G:\\My Drive\\2P_Data\\TwoTower\\4139219.3\\15_10_2...</td>\n",
       "    </tr>\n",
       "    <tr>\n",
       "      <th>801</th>\n",
       "      <td>4139219.3</td>\n",
       "      <td>17_10_2018</td>\n",
       "      <td>2</td>\n",
       "      <td>TwoTower_Timeout</td>\n",
       "      <td>38</td>\n",
       "      <td>1</td>\n",
       "      <td>CA1</td>\n",
       "      <td>2018-10-17</td>\n",
       "      <td>G:\\My Drive\\\\VR_Data\\TwoTower\\4139219.3\\17_10_...</td>\n",
       "      <td>G:\\My Drive\\2P_Data\\TwoTower\\4139219.3\\17_10_2...</td>\n",
       "      <td>G:\\My Drive\\2P_Data\\TwoTower\\4139219.3\\17_10_2...</td>\n",
       "    </tr>\n",
       "    <tr>\n",
       "      <th>841</th>\n",
       "      <td>4139219.3</td>\n",
       "      <td>19_10_2018</td>\n",
       "      <td>2</td>\n",
       "      <td>TwoTower_Timeout</td>\n",
       "      <td>51</td>\n",
       "      <td>1</td>\n",
       "      <td>CA1</td>\n",
       "      <td>2018-10-19</td>\n",
       "      <td>G:\\My Drive\\\\VR_Data\\TwoTower\\4139219.3\\19_10_...</td>\n",
       "      <td>G:\\My Drive\\2P_Data\\TwoTower\\4139219.3\\19_10_2...</td>\n",
       "      <td>G:\\My Drive\\2P_Data\\TwoTower\\4139219.3\\19_10_2...</td>\n",
       "    </tr>\n",
       "    <tr>\n",
       "      <th>856</th>\n",
       "      <td>4139219.3</td>\n",
       "      <td>20_10_2018</td>\n",
       "      <td>1</td>\n",
       "      <td>TwoTower_Timeout</td>\n",
       "      <td>51</td>\n",
       "      <td>1</td>\n",
       "      <td>CA1</td>\n",
       "      <td>2018-10-20</td>\n",
       "      <td>G:\\My Drive\\\\VR_Data\\TwoTower\\4139219.3\\20_10_...</td>\n",
       "      <td>G:\\My Drive\\2P_Data\\TwoTower\\4139219.3\\20_10_2...</td>\n",
       "      <td>G:\\My Drive\\2P_Data\\TwoTower\\4139219.3\\20_10_2...</td>\n",
       "    </tr>\n",
       "    <tr>\n",
       "      <th>857</th>\n",
       "      <td>4139219.3</td>\n",
       "      <td>20_10_2018</td>\n",
       "      <td>2</td>\n",
       "      <td>TwoTower_Timeout</td>\n",
       "      <td>53</td>\n",
       "      <td>1</td>\n",
       "      <td>CA1</td>\n",
       "      <td>2018-10-20</td>\n",
       "      <td>G:\\My Drive\\\\VR_Data\\TwoTower\\4139219.3\\20_10_...</td>\n",
       "      <td>G:\\My Drive\\2P_Data\\TwoTower\\4139219.3\\20_10_2...</td>\n",
       "      <td>G:\\My Drive\\2P_Data\\TwoTower\\4139219.3\\20_10_2...</td>\n",
       "    </tr>\n",
       "    <tr>\n",
       "      <th>874</th>\n",
       "      <td>4139219.3</td>\n",
       "      <td>22_10_2018</td>\n",
       "      <td>1</td>\n",
       "      <td>TwoTower_Timeout</td>\n",
       "      <td>49</td>\n",
       "      <td>1</td>\n",
       "      <td>CA1</td>\n",
       "      <td>2018-10-22</td>\n",
       "      <td>G:\\My Drive\\\\VR_Data\\TwoTower\\4139219.3\\22_10_...</td>\n",
       "      <td>G:\\My Drive\\2P_Data\\TwoTower\\4139219.3\\22_10_2...</td>\n",
       "      <td>G:\\My Drive\\2P_Data\\TwoTower\\4139219.3\\22_10_2...</td>\n",
       "    </tr>\n",
       "    <tr>\n",
       "      <th>893</th>\n",
       "      <td>4139219.3</td>\n",
       "      <td>23_10_2018</td>\n",
       "      <td>1</td>\n",
       "      <td>TwoTower_Timeout</td>\n",
       "      <td>102</td>\n",
       "      <td>1</td>\n",
       "      <td>CA1</td>\n",
       "      <td>2018-10-23</td>\n",
       "      <td>G:\\My Drive\\\\VR_Data\\TwoTower\\4139219.3\\23_10_...</td>\n",
       "      <td>G:\\My Drive\\2P_Data\\TwoTower\\4139219.3\\23_10_2...</td>\n",
       "      <td>G:\\My Drive\\2P_Data\\TwoTower\\4139219.3\\23_10_2...</td>\n",
       "    </tr>\n",
       "    <tr>\n",
       "      <th>920</th>\n",
       "      <td>4139219.3</td>\n",
       "      <td>25_10_2018</td>\n",
       "      <td>1</td>\n",
       "      <td>TwoTower_Timeout</td>\n",
       "      <td>85</td>\n",
       "      <td>1</td>\n",
       "      <td>CA1</td>\n",
       "      <td>2018-10-25</td>\n",
       "      <td>G:\\My Drive\\\\VR_Data\\TwoTower\\4139219.3\\25_10_...</td>\n",
       "      <td>G:\\My Drive\\2P_Data\\TwoTower\\4139219.3\\25_10_2...</td>\n",
       "      <td>G:\\My Drive\\2P_Data\\TwoTower\\4139219.3\\25_10_2...</td>\n",
       "    </tr>\n",
       "    <tr>\n",
       "      <th>921</th>\n",
       "      <td>4139219.3</td>\n",
       "      <td>25_10_2018</td>\n",
       "      <td>2</td>\n",
       "      <td>TwoTower_Timeout</td>\n",
       "      <td>32</td>\n",
       "      <td>1</td>\n",
       "      <td>DG</td>\n",
       "      <td>2018-10-25</td>\n",
       "      <td>G:\\My Drive\\\\VR_Data\\TwoTower\\4139219.3\\25_10_...</td>\n",
       "      <td>G:\\My Drive\\2P_Data\\TwoTower\\4139219.3\\25_10_2...</td>\n",
       "      <td>G:\\My Drive\\2P_Data\\TwoTower\\4139219.3\\25_10_2...</td>\n",
       "    </tr>\n",
       "    <tr>\n",
       "      <th>945</th>\n",
       "      <td>4139219.3</td>\n",
       "      <td>26_10_2018</td>\n",
       "      <td>1</td>\n",
       "      <td>TwoTower_Timeout</td>\n",
       "      <td>77</td>\n",
       "      <td>1</td>\n",
       "      <td>CA1</td>\n",
       "      <td>2018-10-26</td>\n",
       "      <td>G:\\My Drive\\\\VR_Data\\TwoTower\\4139219.3\\26_10_...</td>\n",
       "      <td>G:\\My Drive\\2P_Data\\TwoTower\\4139219.3\\26_10_2...</td>\n",
       "      <td>G:\\My Drive\\2P_Data\\TwoTower\\4139219.3\\26_10_2...</td>\n",
       "    </tr>\n",
       "  </tbody>\n",
       "</table>\n",
       "</div>"
      ],
      "text/plain": [
       "     MouseName  DateFolder  SessionNumber               Track  RewardCount  \\\n",
       "632  4139219.3  08_10_2018              3  TwoTower_noTimeout           63   \n",
       "635  4139219.3  08_10_2018              5  TwoTower_noTimeout           55   \n",
       "667  4139219.3  10_10_2018              2  TwoTower_noTimeout          100   \n",
       "708  4139219.3  12_10_2018              2    TwoTower_Timeout           54   \n",
       "754  4139219.3  15_10_2018              2    TwoTower_Timeout           46   \n",
       "801  4139219.3  17_10_2018              2    TwoTower_Timeout           38   \n",
       "841  4139219.3  19_10_2018              2    TwoTower_Timeout           51   \n",
       "856  4139219.3  20_10_2018              1    TwoTower_Timeout           51   \n",
       "857  4139219.3  20_10_2018              2    TwoTower_Timeout           53   \n",
       "874  4139219.3  22_10_2018              1    TwoTower_Timeout           49   \n",
       "893  4139219.3  23_10_2018              1    TwoTower_Timeout          102   \n",
       "920  4139219.3  25_10_2018              1    TwoTower_Timeout           85   \n",
       "921  4139219.3  25_10_2018              2    TwoTower_Timeout           32   \n",
       "945  4139219.3  26_10_2018              1    TwoTower_Timeout           77   \n",
       "\n",
       "     Imaging ImagingRegion   DateTime  \\\n",
       "632        1           CA1 2018-10-08   \n",
       "635        1           CA1 2018-10-08   \n",
       "667        1           CA1 2018-10-10   \n",
       "708        1           CA1 2018-10-12   \n",
       "754        1           CA1 2018-10-15   \n",
       "801        1           CA1 2018-10-17   \n",
       "841        1           CA1 2018-10-19   \n",
       "856        1           CA1 2018-10-20   \n",
       "857        1           CA1 2018-10-20   \n",
       "874        1           CA1 2018-10-22   \n",
       "893        1           CA1 2018-10-23   \n",
       "920        1           CA1 2018-10-25   \n",
       "921        1            DG 2018-10-25   \n",
       "945        1           CA1 2018-10-26   \n",
       "\n",
       "                                             data file  \\\n",
       "632  G:\\My Drive\\\\VR_Data\\TwoTower\\4139219.3\\08_10_...   \n",
       "635  G:\\My Drive\\\\VR_Data\\TwoTower\\4139219.3\\08_10_...   \n",
       "667  G:\\My Drive\\\\VR_Data\\TwoTower\\4139219.3\\10_10_...   \n",
       "708  G:\\My Drive\\\\VR_Data\\TwoTower\\4139219.3\\12_10_...   \n",
       "754  G:\\My Drive\\\\VR_Data\\TwoTower\\4139219.3\\15_10_...   \n",
       "801  G:\\My Drive\\\\VR_Data\\TwoTower\\4139219.3\\17_10_...   \n",
       "841  G:\\My Drive\\\\VR_Data\\TwoTower\\4139219.3\\19_10_...   \n",
       "856  G:\\My Drive\\\\VR_Data\\TwoTower\\4139219.3\\20_10_...   \n",
       "857  G:\\My Drive\\\\VR_Data\\TwoTower\\4139219.3\\20_10_...   \n",
       "874  G:\\My Drive\\\\VR_Data\\TwoTower\\4139219.3\\22_10_...   \n",
       "893  G:\\My Drive\\\\VR_Data\\TwoTower\\4139219.3\\23_10_...   \n",
       "920  G:\\My Drive\\\\VR_Data\\TwoTower\\4139219.3\\25_10_...   \n",
       "921  G:\\My Drive\\\\VR_Data\\TwoTower\\4139219.3\\25_10_...   \n",
       "945  G:\\My Drive\\\\VR_Data\\TwoTower\\4139219.3\\26_10_...   \n",
       "\n",
       "                                              scanfile  \\\n",
       "632  G:\\My Drive\\2P_Data\\TwoTower\\4139219.3\\08_10_2...   \n",
       "635  G:\\My Drive\\2P_Data\\TwoTower\\4139219.3\\08_10_2...   \n",
       "667  G:\\My Drive\\2P_Data\\TwoTower\\4139219.3\\10_10_2...   \n",
       "708  G:\\My Drive\\2P_Data\\TwoTower\\4139219.3\\12_10_2...   \n",
       "754  G:\\My Drive\\2P_Data\\TwoTower\\4139219.3\\15_10_2...   \n",
       "801  G:\\My Drive\\2P_Data\\TwoTower\\4139219.3\\17_10_2...   \n",
       "841  G:\\My Drive\\2P_Data\\TwoTower\\4139219.3\\19_10_2...   \n",
       "856  G:\\My Drive\\2P_Data\\TwoTower\\4139219.3\\20_10_2...   \n",
       "857  G:\\My Drive\\2P_Data\\TwoTower\\4139219.3\\20_10_2...   \n",
       "874  G:\\My Drive\\2P_Data\\TwoTower\\4139219.3\\22_10_2...   \n",
       "893  G:\\My Drive\\2P_Data\\TwoTower\\4139219.3\\23_10_2...   \n",
       "920  G:\\My Drive\\2P_Data\\TwoTower\\4139219.3\\25_10_2...   \n",
       "921  G:\\My Drive\\2P_Data\\TwoTower\\4139219.3\\25_10_2...   \n",
       "945  G:\\My Drive\\2P_Data\\TwoTower\\4139219.3\\26_10_2...   \n",
       "\n",
       "                                               scanmat  \n",
       "632  G:\\My Drive\\2P_Data\\TwoTower\\4139219.3\\08_10_2...  \n",
       "635  G:\\My Drive\\2P_Data\\TwoTower\\4139219.3\\08_10_2...  \n",
       "667  G:\\My Drive\\2P_Data\\TwoTower\\4139219.3\\10_10_2...  \n",
       "708  G:\\My Drive\\2P_Data\\TwoTower\\4139219.3\\12_10_2...  \n",
       "754  G:\\My Drive\\2P_Data\\TwoTower\\4139219.3\\15_10_2...  \n",
       "801  G:\\My Drive\\2P_Data\\TwoTower\\4139219.3\\17_10_2...  \n",
       "841  G:\\My Drive\\2P_Data\\TwoTower\\4139219.3\\19_10_2...  \n",
       "856  G:\\My Drive\\2P_Data\\TwoTower\\4139219.3\\20_10_2...  \n",
       "857  G:\\My Drive\\2P_Data\\TwoTower\\4139219.3\\20_10_2...  \n",
       "874  G:\\My Drive\\2P_Data\\TwoTower\\4139219.3\\22_10_2...  \n",
       "893  G:\\My Drive\\2P_Data\\TwoTower\\4139219.3\\23_10_2...  \n",
       "920  G:\\My Drive\\2P_Data\\TwoTower\\4139219.3\\25_10_2...  \n",
       "921  G:\\My Drive\\2P_Data\\TwoTower\\4139219.3\\25_10_2...  \n",
       "945  G:\\My Drive\\2P_Data\\TwoTower\\4139219.3\\26_10_2...  "
      ]
     },
     "execution_count": 12,
     "metadata": {},
     "output_type": "execute_result"
    }
   ],
   "source": [
    "# load session\n",
    "mouse = '4139219.3'\n",
    "df = pp.load_session_db()\n",
    "\n",
    "\n",
    "#df = df[df['RewardCount']>30]\n",
    "df = df[df['Imaging']==1]\n",
    "df = df.sort_values(['MouseName','DateTime','SessionNumber'])\n",
    "\n",
    "df_mouse = df[df['MouseName'].str.match(mouse)]\n",
    "df_sess = df_mouse[df_mouse['Track'].str.match('TwoTower_noTimeout') | df_mouse['Track'].str.match('TwoTower_Timeout')]\n",
    "df_sess\n"
   ]
  },
  {
   "cell_type": "code",
   "execution_count": 13,
   "metadata": {},
   "outputs": [
    {
     "name": "stdout",
     "output_type": "stream",
     "text": [
      "G:\\My Drive\\2P_Data\\TwoTower\\4139219.3\\26_10_2018\\TwoTower_Timeout\\TwoTower_Timeout_001_001.mat\n"
     ]
    },
    {
     "name": "stderr",
     "output_type": "stream",
     "text": [
      "C:\\Users\\mplitt\\MightyMorphingPhotonRangers\\preprocessing.py:185: SettingWithCopyWarning: \n",
      "A value is trying to be set on a copy of a slice from a DataFrame.\n",
      "Try using .loc[row_indexer,col_indexer] = value instead\n",
      "\n",
      "See the caveats in the documentation: http://pandas.pydata.org/pandas-docs/stable/indexing.html#indexing-view-versus-copy\n",
      "  frame['ca inds'] = caInds\n",
      "C:\\Users\\mplitt\\Anaconda3\\lib\\site-packages\\pandas\\core\\frame.py:3035: SettingWithCopyWarning: \n",
      "A value is trying to be set on a copy of a slice from a DataFrame\n",
      "\n",
      "See the caveats in the documentation: http://pandas.pydata.org/pandas-docs/stable/indexing.html#indexing-view-versus-copy\n",
      "  downcast=downcast, **kwargs)\n"
     ]
    },
    {
     "name": "stdout",
     "output_type": "stream",
     "text": [
      "G:\\My Drive\\2P_Data\\TwoTower\\4139219.3\\26_10_2018\\TwoTower_Timeout\\TwoTower_Timeout_001_001.mat\n",
      "#subsystem#not made into numpy array\n",
      "frame diff 0\n"
     ]
    },
    {
     "name": "stderr",
     "output_type": "stream",
     "text": [
      "C:\\Users\\mplitt\\MightyMorphingPhotonRangers\\utilities.py:189: RuntimeWarning: Mean of empty slice\n",
      "  zone1_speed[i] = np.nanmean(sub_frame.loc[zone1_mask,'speed'])\n"
     ]
    }
   ],
   "source": [
    "VRDat,C,Cd, S, A = pp.load_scan_sess(df_sess.iloc[-1])\n",
    "trial_info, tstart_inds, teleport_inds = u.by_trial_info(VRDat)\n",
    "C_trial_mat, occ_trial_mat, edges,centers = u.make_pos_bin_trial_matrices(C,VRDat['pos']._values,VRDat['tstart']._values,VRDat['teleport']._values)"
   ]
  },
  {
   "cell_type": "code",
   "execution_count": 14,
   "metadata": {},
   "outputs": [
    {
     "name": "stdout",
     "output_type": "stream",
     "text": [
      "dict_keys(['morphs', 'max_pos', 'rewards', 'zone0_licks', 'zone1_licks', 'zone0_speed', 'zone1_speed', 'pcnt', 'wallJitter', 'towerJitter', 'bckgndJitter', 'clickOn', 'pos_lick'])\n"
     ]
    }
   ],
   "source": [
    "print(trial_info.keys())"
   ]
  },
  {
   "cell_type": "code",
   "execution_count": 15,
   "metadata": {},
   "outputs": [],
   "source": [
    "correctMask = trial_info['rewards']>0\n",
    "mask0 = correctMask & (trial_info['morphs']==0)\n",
    "mask1 = correctMask & (trial_info['morphs']==1)\n",
    "\n",
    "C_mu_0 = np.squeeze(np.nanmean(C_trial_mat[mask0,:,:],axis=0))\n",
    "C_mu_1 = np.squeeze(np.nanmean(C_trial_mat[mask1,:,:],axis=0))"
   ]
  },
  {
   "cell_type": "code",
   "execution_count": 20,
   "metadata": {},
   "outputs": [
    {
     "data": {
      "image/png": "[encoded data removed]",
      "text/plain": [
       "<matplotlib.figure.Figure at 0x1cc0c3b2550>"
      ]
     },
     "metadata": {},
     "output_type": "display_data"
    }
   ],
   "source": [
    "pca = PCA()\n",
    "#C_tm = np.reshape(C_trial_mat[~np.isnan(C_trial_mat)],[-1,C_trial_mat.shape[-1]])\n",
    "mask0 = (VRDat['morph']==0) & (VRDat['pos']>0)\n",
    "mask1 = (VRDat['morph']==1) & (VRDat['pos']>1)\n",
    "X0 = pca.fit_transform(C[mask0,:])\n",
    "X0_all = pca.transform(C)\n",
    "f = plt.figure()\n",
    "ax = f.add_subplot(221,projection='3d')\n",
    "s_cxt = ax.scatter(X0_all[:,0],X0_all[:,1],X0_all[:,2],c=VRDat['morph']._values,cmap='cool')\n",
    "\n",
    "\n",
    "\n",
    "\n"
   ]
  },
  {
   "cell_type": "code",
   "execution_count": 17,
   "metadata": {},
   "outputs": [
    {
     "name": "stdout",
     "output_type": "stream",
     "text": [
      "(90, 650)\n"
     ]
    }
   ],
   "source": [
    "X_mu0 = pca.transform(C_mu_0)\n",
    "X_mu1 = pca.transform(C_mu_1)\n",
    "print(X_mu0.shape)"
   ]
  },
  {
   "cell_type": "code",
   "execution_count": null,
   "metadata": {},
   "outputs": [],
   "source": []
  },
  {
   "cell_type": "code",
   "execution_count": 19,
   "metadata": {},
   "outputs": [
    {
     "name": "stderr",
     "output_type": "stream",
     "text": [
      "C:\\Users\\mplitt\\Anaconda3\\lib\\site-packages\\matplotlib\\figure.py:418: UserWarning: matplotlib is currently using a non-GUI backend, so cannot show the figure\n",
      "  \"matplotlib is currently using a non-GUI backend, \"\n"
     ]
    },
    {
     "data": {
      "image/png": "[encoded data removed]",
      "text/plain": [
       "<matplotlib.figure.Figure at 0x1cc0c24bb70>"
      ]
     },
     "metadata": {},
     "output_type": "display_data"
    }
   ],
   "source": [
    "\n",
    "f = plt.figure()\n",
    "ax = f.add_subplot(221,projection='3d')\n",
    "\n",
    "s_cxt = ax.scatter(X[:,0],X[:,1],X[:,2],c=VRDat['morph']._values,cmap='cool')\n",
    "\n",
    "f.show()"
   ]
  },
  {
   "cell_type": "code",
   "execution_count": 9,
   "metadata": {},
   "outputs": [
    {
     "name": "stderr",
     "output_type": "stream",
     "text": [
      "C:\\Users\\mplitt\\Anaconda3\\lib\\site-packages\\matplotlib\\figure.py:418: UserWarning: matplotlib is currently using a non-GUI backend, so cannot show the figure\n",
      "  \"matplotlib is currently using a non-GUI backend, \"\n"
     ]
    }
   ],
   "source": []
  },
  {
   "cell_type": "code",
   "execution_count": null,
   "metadata": {},
   "outputs": [],
   "source": []
  }
 ],
 "metadata": {
  "kernelspec": {
   "display_name": "Python 3",
   "language": "python",
   "name": "python3"
  },
  "language_info": {
   "codemirror_mode": {
    "name": "ipython",
    "version": 3
   },
   "file_extension": ".py",
   "mimetype": "text/x-python",
   "name": "python",
   "nbconvert_exporter": "python",
   "pygments_lexer": "ipython3",
   "version": "3.6.4"
  }
 },
 "nbformat": 4,
 "nbformat_minor": 2
}
