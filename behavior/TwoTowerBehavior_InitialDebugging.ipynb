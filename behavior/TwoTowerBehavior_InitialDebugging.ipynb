{
 "cells": [
  {
   "cell_type": "code",
   "execution_count": null,
   "metadata": {},
   "outputs": [],
   "source": [
    "mice = ['4054010.5','4054011.1','4054011.2','4139190.1','4139190.3','4054016.1']\n",
    "\n",
    "train_sessions = [['1PortTower_noTimeout_1_','1PortTower_noTimeout_2','1PortTower_noTimeout_3_imaging_'], #4054010.5\n",
    "                 [], # 4054011.1\n",
    "                 [], # 4054011.2\n",
    "                 [], # 4139190.1\n",
    "                 [], # 4139190.3\n",
    "                 []] # 4054016.1\n",
    "\n",
    "test_sessions = [[['1PortTower_Timeout_1_', '1PortTower_Timeout_1_imaging'],'1PortTower_Timeout_2_imaging_','1PortTower_Timeout_3_','1PortTower_Timeout_3_1_'], #4054010.5\n",
    "                [], # 4054011.1\n",
    "                [], # 4054011.2\n",
    "                [], # 4139190.1\n",
    "                [], # 4139190.3\n",
    "                []] # 4054016.1\n",
    "\n",
    "morph_sessions = [[], #4054010.5\n",
    "                 [],  # 4054011.1\n",
    "                 [], # 4054011.2\n",
    "                 [], # 4139190.1\n",
    "                 [], # 4139190.3\n",
    "                 []] # 4054016.1\n",
    "\n",
    "\n",
    "# rzone0 = 250-300\n",
    "\n",
    "# rzone1 = 350-400"
   ]
  }
 ],
 "metadata": {
  "kernelspec": {
   "display_name": "Python 3",
   "language": "python",
   "name": "python3"
  },
  "language_info": {
   "codemirror_mode": {
    "name": "ipython",
    "version": 3
   },
   "file_extension": ".py",
   "mimetype": "text/x-python",
   "name": "python",
   "nbconvert_exporter": "python",
   "pygments_lexer": "ipython3",
   "version": "3.6.4"
  }
 },
 "nbformat": 4,
 "nbformat_minor": 2
}
