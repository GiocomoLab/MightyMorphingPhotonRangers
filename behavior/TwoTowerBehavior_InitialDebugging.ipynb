{
 "cells": [
  {
   "cell_type": "code",
   "execution_count": 109,
   "metadata": {},
   "outputs": [
    {
     "name": "stdout",
     "output_type": "stream",
     "text": [
      "The autoreload extension is already loaded. To reload it, use:\n",
      "  %reload_ext autoreload\n"
     ]
    }
   ],
   "source": [
    "import behavior_two_towers as b\n",
    "import matplotlib.pyplot as plt\n",
    "import numpy as np\n",
    "import scipy as sp\n",
    "\n",
    "\n",
    "%load_ext autoreload\n",
    "%autoreload 2\n",
    "\n",
    "%matplotlib inline"
   ]
  },
  {
   "cell_type": "code",
   "execution_count": 12,
   "metadata": {
    "collapsed": true
   },
   "outputs": [],
   "source": [
    "\n",
    "dataDict = {}\n",
    "\n",
    "# DG imaging\n",
    "dataDict['4054010.4']={}\n",
    "dataDict['4054010.4']['behavior']={}\n",
    "dataDict['4054010.4']['noTimeout']= ['1','2',['3','3_imaging']]\n",
    "#dataDict['4054010.4']['scans'] = {'noTimeout':[['TT_train3/TT_train3_000_003',]]}\n",
    "\n",
    "\n",
    "\n",
    "dataDict['4054010.5'] = {}\n",
    "dataDict['4054010.5']['behavior'] = {}\n",
    "dataDict['4054010.5']['noTimeout']={}\n",
    "dataDict['4054010.5']['noTimeout']['files'] = ['1', '2', '3_imaging','4']\n",
    "dataDict['4054010.5']['preTimeout'] = ['preTO_4']\n",
    "dataDict['4054010.5']['Timeout'] = [['1', '1_imaging'],['2','2_imaging'],['3','3_1'],['4','4_imaging'] ]\n",
    "\n",
    "\n",
    "# CA1 imaging\n",
    "dataDict['4054011.1']={}\n",
    "dataDict['4054011.1']['behavior']={}\n",
    "dataDict['4054011.1']['noTimeout']=['1', ['2','2_1'],'3',['4','4_imaging']]\n",
    "dataDict['4054011.1']['preTimeout'] = ['preTO_2']\n",
    "dataDict['4054011.1']['Timeout'] = ['1',['2','2_imaging','2_postimaging']]\n",
    "\n",
    "\n",
    "dataDict['4139190.1']={}\n",
    "dataDict['4139190.1']['behavior']={}\n",
    "dataDict['4139190.1']['noTimeout']=[['1_imaging','1_postimaging1','1_imaging2',],['2','2_imaging']]\n",
    "dataDict['4139190.1']['preTimeout']=['preTO_2','preTO_4','preTO_5_1']\n",
    "dataDict['4139190.1']['Timeout']=[['1','1_imaging','1_postimaging','1_postimaging2'],'2',['4','4_1'],['5_1','5_1_imaging']]\n",
    "\n",
    "\n",
    "dataDict['4139190.3']={}\n",
    "dataDict['4139190.3']['behavior']={}\n",
    "dataDict['4139190.3']['noTimeout']=[['1_imaging2','1_postimaging2','1_imaging3','1_postimaging3'],['2','2_1'],['3','3_imaging']]\n",
    "dataDict['4139190.3']['preTimeout']=['preTO_1','preTO_2']                                              \n",
    "dataDict['4139190.3']['Timeout']=['1',['2','2_imaging']]\n",
    "\n",
    "\n",
    "# Behavior only\n",
    "dataDict['4054011.2']={}\n",
    "dataDict['4054011.2']['behavior']={}\n",
    "dataDict['4054011.2']['noTimeout'] = ['1','2','3']\n",
    "dataDict['4054011.2']['preTimeout']=['preTO_4']\n",
    "dataDict['4054011.2']['Timeout'] = ['1','2','3','4']\n",
    "\n",
    "\n",
    "dataDict['4054016.1']={}\n",
    "dataDict['4054016.1']['behavior']={}\n",
    "dataDict['4054016.1']['noTimeout']=['1_revised','1_1','2','preTO_2']\n",
    "dataDict['4054016.1']['preTimeout']=['preTO_4']\n",
    "dataDict['4054016.1']['Timeout']=['1',['2','2_1'],['3','3_1'],'4']\n",
    "\n",
    "\n",
    "\n",
    "\n",
    "\n",
    "\n",
    "\n",
    "\n",
    "# rzone0 = 250-300\n",
    "\n",
    "# rzone1 = 350-400"
   ]
  },
  {
   "cell_type": "code",
   "execution_count": 106,
   "metadata": {
    "collapsed": true
   },
   "outputs": [
    {
     "name": "stdout",
     "output_type": "stream",
     "text": [
      "0.8697674418604651\n"
     ]
    }
   ],
   "source": [
    "print(187./215)"
   ]
  },
  {
   "cell_type": "code",
   "execution_count": 103,
   "metadata": {},
   "outputs": [],
   "source": [
    "# make \n",
    "\n",
    "c = b.process_data('4054011.2','1PortTower_Timeout_4_')"
   ]
  },
  {
   "cell_type": "code",
   "execution_count": 104,
   "metadata": {},
   "outputs": [],
   "source": [
    "gridData, (rewardedTrials, errorTrials, omissionTrials, morphList) = c._interpolate_data()"
   ]
  },
  {
   "cell_type": "code",
   "execution_count": 105,
   "metadata": {},
   "outputs": [
    {
     "name": "stdout",
     "output_type": "stream",
     "text": [
      "200\n",
      "200\n",
      "200\n"
     ]
    }
   ],
   "source": [
    "trial_matrices, bin_edges, bin_centers = c.make_trial_matrices(gridData)"
   ]
  },
  {
   "cell_type": "code",
   "execution_count": 107,
   "metadata": {},
   "outputs": [
    {
     "name": "stdout",
     "output_type": "stream",
     "text": [
      "[1.0, 1.0, 0.0, 1.0, 1.0, 1.0, 0.0, 0.0, 0.0, 0.0, 1.0, 1.0, 1.0, 1.0, 1.0, 0.0, 1.0, 1.0, 1.0, 1.0, 1.0, 0.0, 0.0, 1.0, 1.0, 1.0, 1.0, 1.0, 1.0, 1.0, 1.0, 1.0, 1.0, 1.0, 1.0, 1.0, 1.0, 0.0, 0.0, 1.0, 1.0, 0.0, 1.0, 1.0, 1.0, 0.0, 1.0, 1.0, 1.0, 1.0, 1.0, 1.0, 1.0, 1.0, 0.0, 0.0, 0.0, 0.0, 1.0, 1.0, 1.0, 1.0, 1.0, 1.0, 1.0, 0.0, 0.0, 0.0, 0.0, 1.0, 1.0, 1.0, 0.0, 1.0, 1.0, 1.0, 1.0, 1.0, 1.0, 1.0, 1.0, 0.0, 1.0, 1.0, 1.0, 1.0, 1.0, 1.0, 1.0, 1.0, 1.0, 0.0, 1.0, 1.0, 0.0, 1.0, 1.0, 1.0, 1.0, 1.0, 0.0, 0.5, 1.0, 1.0, 1.0, 0.75, 0.5, 1.0, 1.0, 0.75, 0.75, 0.5, 1.0, 1.0, 0.25, 1.0, 1.0, 1.0, 1.0, 0.0, 0.0, 0.0, 0.25, 0.75, 1.0, 1.0, 0.5, 0.25, 0.25, 0.5, 0.5, 0.0, 0.25, 1.0, 1.0, 1.0, 0.0, 0.75, 1.0, 1.0, 1.0, 1.0, 1.0, 1.0, 1.0, 0.75, 1.0, 1.0, 0.75, 1.0, 1.0, 0.0, 0.5, 1.0, 1.0, 0.5, 0.75, 1.0, 1.0, 1.0, 1.0, 1.0, 1.0, 1.0, 0.0, 0.5, 0.5, 1.0, 1.0, 1.0, 1.0, 1.0, 1.0, 0.25, 0.25, 0.25, 0.25, 1.0, 1.0, 0.5, 1.0, 1.0, 1.0, 1.0, 1.0, 1.0, 1.0, 0.0, 0.25, 1.0, 1.0, 1.0, 0.75, 1.0, 1.0, 1.0, 0.75, 0.0, 1.0, 1.0]\n"
     ]
    }
   ],
   "source": [
    "print(morphList)"
   ]
  },
  {
   "cell_type": "code",
   "execution_count": 108,
   "metadata": {},
   "outputs": [
    {
     "name": "stdout",
     "output_type": "stream",
     "text": [
      "0.845\n"
     ]
    }
   ],
   "source": [
    "print(len(rewardedTrials)/float(len(morphList)))"
   ]
  },
  {
   "cell_type": "code",
   "execution_count": 120,
   "metadata": {},
   "outputs": [
    {
     "name": "stdout",
     "output_type": "stream",
     "text": [
      "[  2   6   7   8   9  15  21  22  37  38  41  45  54  55  56  57  65  66\n",
      "  67  68  72  81  91  94 100 119 120 121 131 136 151 164 187 197]\n",
      "[  0   1   3   4   5  10  11  12  13  14  16  17  18  19  20  23  24  25\n",
      "  26  27  28  29  30  31  32  33  34  35  36  39  40  42  43  44  46  47\n",
      "  48  49  50  51  52  53  58  59  60  61  62  63  64  69  70  71  73  74\n",
      "  75  76  77  78  79  80  82  83  84  85  86  87  88  89  90  92  93  95\n",
      "  96  97  98  99 102 103 104 107 108 112 113 115 116 117 118 124 125 133\n",
      " 134 135 138 139 140 141 142 143 144 146 147 149 150 153 154 157 158 159\n",
      " 160 161 162 163 167 168 169 170 171 172 177 178 180 181 182 183 184 185\n",
      " 186 189 190 191 193 194 195 198 199]\n",
      "[114 122 127 128 132 173 174 175 176 188]\n",
      "[101 106 111 126 129 130 152 155 165 166 179]\n",
      "[105 109 110 123 137 145 148 156 192 196]\n",
      "34\n",
      "135\n"
     ]
    }
   ],
   "source": [
    "zeroInds = np.where(np.array(morphList)==0)[0]\n",
    "print(zeroInds)\n",
    "\n",
    "oneInds = np.where(np.array(morphList)==1)[0]\n",
    "print(oneInds)\n",
    "\n",
    "quartInds = np.where(np.array(morphList)==.25)[0]\n",
    "print(quartInds)\n",
    "\n",
    "fiftyInds = np.where(np.array(morphList)==.5)[0]\n",
    "print(fiftyInds)\n",
    "\n",
    "threeQuartInds = np.where(np.array(morphList)==.75)[0]\n",
    "print(threeQuartInds)\n",
    "\n",
    "for m in [0, 1]:\n",
    "    inds = [i for i in range(len(morphList)) if morphList[i]==m]\n",
    "    \n",
    "    print(len(inds))"
   ]
  },
  {
   "cell_type": "code",
   "execution_count": 121,
   "metadata": {},
   "outputs": [],
   "source": [
    "# line plots\n",
    "# speed vs position for correct trials\n",
    "\n",
    "# speed vs position for incorrect trials\n",
    "\n",
    "# speed vs position for morphs"
   ]
  },
  {
   "cell_type": "code",
   "execution_count": null,
   "metadata": {},
   "outputs": [],
   "source": [
    "# rasters\n",
    "# licks vs position for correct trials\n",
    "\n",
    "# licks vs position for incorrect trials\n",
    "\n",
    "# licks vs position for morphs"
   ]
  },
  {
   "cell_type": "code",
   "execution_count": null,
   "metadata": {},
   "outputs": [],
   "source": [
    "# licks in each reward zone vs trial number\n",
    "# extreme morphs\n",
    "# normalize number of trials\n",
    "\n",
    "# intermediate morphs"
   ]
  },
  {
   "cell_type": "code",
   "execution_count": null,
   "metadata": {},
   "outputs": [],
   "source": [
    "# cumulative errors vs trial number"
   ]
  },
  {
   "cell_type": "code",
   "execution_count": null,
   "metadata": {},
   "outputs": [],
   "source": [
    "# % correct per morph vs session"
   ]
  },
  {
   "cell_type": "code",
   "execution_count": null,
   "metadata": {},
   "outputs": [],
   "source": [
    "# % lick at first tower vs morph"
   ]
  }
 ],
 "metadata": {
  "kernelspec": {
   "display_name": "Python 3",
   "language": "python",
   "name": "python3"
  },
  "language_info": {
   "codemirror_mode": {
    "name": "ipython",
    "version": 3
   },
   "file_extension": ".py",
   "mimetype": "text/x-python",
   "name": "python",
   "nbconvert_exporter": "python",
   "pygments_lexer": "ipython3",
   "version": "3.6.4"
  }
 },
 "nbformat": 4,
 "nbformat_minor": 2
}
