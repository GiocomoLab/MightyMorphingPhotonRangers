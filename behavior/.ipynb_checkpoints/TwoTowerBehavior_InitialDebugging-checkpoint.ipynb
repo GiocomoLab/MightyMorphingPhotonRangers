{
 "cells": [
  {
   "cell_type": "code",
   "execution_count": 12,
   "metadata": {
    "collapsed": true
   },
   "outputs": [],
   "source": [
    "\n",
    "dataDict = {}\n",
    "\n",
    "# DG imaging\n",
    "dataDict['4054010.4']={}\n",
    "dataDict['4054010.4']['behavior']={}\n",
    "dataDict['4054010.4']['noTimeout']= ['1','2',['3','3_imaging']]\n",
    "#dataDict['4054010.4']['scans'] = {'noTimeout':[['TT_train3/TT_train3_000_003',]]}\n",
    "\n",
    "\n",
    "\n",
    "dataDict['4054010.5'] = {}\n",
    "dataDict['4054010.5']['behavior'] = {}\n",
    "dataDict['4054010.5']['noTimeout']={}\n",
    "dataDict['4054010.5']['noTimeout']['files'] = ['1', '2', '3_imaging','4']\n",
    "dataDict['4054010.5']['preTimeout'] = ['preTO_4']\n",
    "dataDict['4054010.5']['Timeout'] = [['1', '1_imaging'],['2','2_imaging'],['3','3_1'],['4','4_imaging'] ]\n",
    "\n",
    "\n",
    "# CA1 imaging\n",
    "dataDict['4054011.1']={}\n",
    "dataDict['4054011.1']['behavior']={}\n",
    "dataDict['4054011.1']['noTimeout']=['1', ['2','2_1'],'3',['4','4_imaging']]\n",
    "dataDict['4054011.1']['preTimeout'] = ['preTO_2']\n",
    "dataDict['4054011.1']['Timeout'] = ['1',['2','2_imaging','2_postimaging']]\n",
    "\n",
    "\n",
    "dataDict['4139190.1']={}\n",
    "dataDict['4139190.1']['behavior']={}\n",
    "dataDict['4139190.1']['noTimeout']=[['1_imaging','1_postimaging1','1_imaging2',],['2','2_imaging']]\n",
    "dataDict['4139190.1']['preTimeout']=['preTO_2','preTO_4','preTO_5_1']\n",
    "dataDict['4139190.1']['Timeout']=[['1','1_imaging','1_postimaging','1_postimaging2'],'2',['4','4_1'],['5_1','5_1_imaging']]\n",
    "\n",
    "\n",
    "dataDict['4139190.3']={}\n",
    "dataDict['4139190.3']['behavior']={}\n",
    "dataDict['4139190.3']['noTimeout']=[['1_imaging2','1_postimaging2','1_imaging3','1_postimaging3'],['2','2_1'],['3','3_imaging']]\n",
    "dataDict['4139190.3']['preTimeout']=['preTO_1','preTO_2']                                              \n",
    "dataDict['4139190.3']['Timeout']=['1',['2','2_imaging']]\n",
    "\n",
    "\n",
    "# Behavior only\n",
    "dataDict['4054011.2']={}\n",
    "dataDict['4054011.2']['behavior']={}\n",
    "dataDict['4054011.2']['noTimeout'] = ['1','2','3']\n",
    "dataDict['4054011.2']['preTimeout']=['preTO_4']\n",
    "dataDict['4054011.2']['Timeout'] = ['1','2','3','4']\n",
    "\n",
    "\n",
    "dataDict['4054016.1']={}\n",
    "dataDict['4054016.1']['behavior']={}\n",
    "dataDict['4054016.1']['noTimeout']=['1_revised','1_1','2','preTO_2']\n",
    "dataDict['4054016.1']['preTimeout']=['preTO_4']\n",
    "dataDict['4054016.1']['Timeout']=['1',['2','2_1'],['3','3_1'],'4']\n",
    "\n",
    "\n",
    "\n",
    "\n",
    "\n",
    "\n",
    "\n",
    "\n",
    "# rzone0 = 250-300\n",
    "\n",
    "# rzone1 = 350-400"
   ]
  },
  {
   "cell_type": "code",
   "execution_count": 44,
   "metadata": {
    "collapsed": true
   },
   "outputs": [
    {
     "name": "stdout",
     "output_type": "stream",
     "text": [
      "0.8563218390804598\n"
     ]
    }
   ],
   "source": [
    "print(149/174.)"
   ]
  },
  {
   "cell_type": "code",
   "execution_count": null,
   "metadata": {},
   "outputs": [],
   "source": [
    "# make "
   ]
  }
 ],
 "metadata": {
  "kernelspec": {
   "display_name": "Python 3",
   "language": "python",
   "name": "python3"
  },
  "language_info": {
   "codemirror_mode": {
    "name": "ipython",
    "version": 3
   },
   "file_extension": ".py",
   "mimetype": "text/x-python",
   "name": "python",
   "nbconvert_exporter": "python",
   "pygments_lexer": "ipython3",
   "version": "3.6.4"
  }
 },
 "nbformat": 4,
 "nbformat_minor": 2
}
