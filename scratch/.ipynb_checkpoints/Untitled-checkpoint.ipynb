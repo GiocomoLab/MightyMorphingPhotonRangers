{
 "cells": [
  {
   "cell_type": "code",
   "execution_count": 4,
   "metadata": {},
   "outputs": [
    {
     "name": "stdout",
     "output_type": "stream",
     "text": [
      "The autoreload extension is already loaded. To reload it, use:\n",
      "  %reload_ext autoreload\n"
     ]
    }
   ],
   "source": [
    "#load data.bin\n",
    "\n",
    "import suite2p as s2p\n",
    "import numpy as np\n",
    "import matplotlib\n",
    "#matplotlib.use(\"Agg\")\n",
    "import matplotlib.pyplot as plt\n",
    "import matplotlib.animation as manimation\n",
    "import os\n",
    "\n",
    "\n",
    "%matplotlib inline\n",
    "%load_ext autoreload\n",
    "%autoreload 2"
   ]
  },
  {
   "cell_type": "code",
   "execution_count": 6,
   "metadata": {},
   "outputs": [],
   "source": [
    "d = \"G:\\\\My Drive\\\\2P_Data\\\\TwoTower\\\\4139224.3\\\\18_10_2018\\\\TwoTower_noTimeout\\\\TwoTower_noTimeout_001_004\\\\suite2p\"\n",
    "ops = np.load(os.path.join(d,'ops1.npy')).all()\n",
    "ops['reg_file']=os.path.join(d,'data.bin')"
   ]
  },
  {
   "cell_type": "code",
   "execution_count": 8,
   "metadata": {},
   "outputs": [],
   "source": [
    "Ly = ops['Ly']\n",
    "Lx = ops['Lx']\n",
    "# ops['nframes'] = get_nFrames(ops)\n",
    "nbytesread = 2 * Ly * Lx * 10000\n",
    "\n",
    "reg_file_align = open(ops['reg_file'], 'r+b')\n",
    "buff = reg_file_align.read(nbytesread)\n",
    "data = np.frombuffer(buff, dtype=np.int16, offset=0)\n",
    "data = np.reshape(data, (-1, Ly, Lx))\n",
    "\n",
    "    "
   ]
  },
  {
   "cell_type": "code",
   "execution_count": null,
   "metadata": {},
   "outputs": [],
   "source": []
  },
  {
   "cell_type": "code",
   "execution_count": null,
   "metadata": {},
   "outputs": [],
   "source": [
    "FFMpegWriter = manimation.writers['ffmpeg']\n",
    "metadata = dict(title='Movie Test', artist='Matplotlib',\n",
    "                comment='Movie support!')\n",
    "writer = FFMpegWriter(fps=15, metadata=metadata)\n",
    "\n",
    "fig = plt.figure()\n",
    "im = plt.imshow(data[0,:,:],cmap='Greys',vmin=0,vmax=32767)\n",
    "# l, = plt.plot([], [], 'k-o')\n",
    "\n",
    "# plt.xlim(-5, 5)\n",
    "# plt.ylim(-5, 5)\n",
    "\n",
    "# x0, y0 = 0, 0\n",
    "\n",
    "with writer.saving(fig, \"writer_test.mp4\", 100):\n",
    "    for i in range(100):\n",
    "#         x0 += 0.1 * np.random.randn()\n",
    "#         y0 += 0.1 * np.random.randn()\n",
    "        im.set_data(data[i,:,:])\n",
    "        writer.grab_frame()"
   ]
  }
 ],
 "metadata": {
  "kernelspec": {
   "display_name": "Python 3",
   "language": "python",
   "name": "python3"
  },
  "language_info": {
   "codemirror_mode": {
    "name": "ipython",
    "version": 3
   },
   "file_extension": ".py",
   "mimetype": "text/x-python",
   "name": "python",
   "nbconvert_exporter": "python",
   "pygments_lexer": "ipython3",
   "version": "3.6.6"
  }
 },
 "nbformat": 4,
 "nbformat_minor": 2
}
