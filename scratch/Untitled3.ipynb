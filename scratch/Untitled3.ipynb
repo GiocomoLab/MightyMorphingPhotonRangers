{
 "cells": [
  {
   "cell_type": "code",
   "execution_count": 6,
   "metadata": {},
   "outputs": [
    {
     "name": "stdout",
     "output_type": "stream",
     "text": [
      "The autoreload extension is already loaded. To reload it, use:\n",
      "  %reload_ext autoreload\n"
     ]
    }
   ],
   "source": [
    "import os\n",
    "os.sys.path.append(\"C:\\\\Users\\mplitt\\MightyMorphingPhotonRangers\")\n",
    "import numpy as np\n",
    "import matplotlib.pyplot as plt\n",
    "\n",
    "import utilities as u\n",
    "import preprocessing as pp\n",
    "import behavior as b\n",
    "import SimilarityMatrixAnalysis as sm\n",
    "import scipy as sp\n",
    "import PlaceCellAnalysis as pc\n",
    "from SplineEncodingModel.LinearRegressionSpline import EncodingModel, NBDecodingModel\n",
    "from SplineEncodingModel import PopDecodingCV as pdcv\n",
    "import matplotlib.gridspec as gridspec\n",
    "import pickle\n",
    "\n",
    "%load_ext autoreload\n",
    "%autoreload 2\n",
    "\n",
    "%matplotlib inline"
   ]
  },
  {
   "cell_type": "code",
   "execution_count": 2,
   "metadata": {},
   "outputs": [
    {
     "name": "stdout",
     "output_type": "stream",
     "text": [
      "G:\\My Drive\\VR_Data\\TwoTower\\behavior.sqlite\n",
      "G:\\My Drive\\VR_Data\\TwoTower\\4222174.0\\30_05_2019\\RuningTraining_1.sqlite\n",
      "file doesn't exist, errors to come!!!\n"
     ]
    }
   ],
   "source": [
    "\n",
    "df = pp.load_session_db()\n",
    "\n",
    "\n",
    "df = df[df['RewardCount']>30]\n",
    "df = df[df['Imaging']==1]\n",
    "df = df.sort_values(['MouseName','DateTime','SessionNumber'])\n",
    "tracks = 'TwoTower_noTimeout|TwoTower_Timeout|Reversal_noTimeout|Reversal|TwoTower_foraging'\n",
    "df = df[df['Track'].str.contains(tracks,regex=True)]\n",
    "\n",
    "\n",
    "\n",
    "\n"
   ]
  },
  {
   "cell_type": "code",
   "execution_count": 132,
   "metadata": {},
   "outputs": [
    {
     "data": {
      "text/html": [
       "<div>\n",
       "<style scoped>\n",
       "    .dataframe tbody tr th:only-of-type {\n",
       "        vertical-align: middle;\n",
       "    }\n",
       "\n",
       "    .dataframe tbody tr th {\n",
       "        vertical-align: top;\n",
       "    }\n",
       "\n",
       "    .dataframe thead th {\n",
       "        text-align: right;\n",
       "    }\n",
       "</style>\n",
       "<table border=\"1\" class=\"dataframe\">\n",
       "  <thead>\n",
       "    <tr style=\"text-align: right;\">\n",
       "      <th></th>\n",
       "      <th>MouseName</th>\n",
       "      <th>DateFolder</th>\n",
       "      <th>SessionNumber</th>\n",
       "      <th>Track</th>\n",
       "      <th>RewardCount</th>\n",
       "      <th>Imaging</th>\n",
       "      <th>ImagingRegion</th>\n",
       "      <th>DateTime</th>\n",
       "      <th>data file</th>\n",
       "      <th>scanfile</th>\n",
       "      <th>scanmat</th>\n",
       "      <th>s2pfolder</th>\n",
       "    </tr>\n",
       "  </thead>\n",
       "  <tbody>\n",
       "    <tr>\n",
       "      <th>1727</th>\n",
       "      <td>4222153.2</td>\n",
       "      <td>08_04_2019</td>\n",
       "      <td>1</td>\n",
       "      <td>TwoTower_foraging</td>\n",
       "      <td>86</td>\n",
       "      <td>1</td>\n",
       "      <td>CA1</td>\n",
       "      <td>2019-04-08</td>\n",
       "      <td>G:\\My Drive\\VR_Data\\TwoTower\\4222153.2\\08_04_2...</td>\n",
       "      <td>None</td>\n",
       "      <td>G:\\My Drive\\2P_Data\\TwoTower\\4222153.2\\08_04_2...</td>\n",
       "      <td>G:\\My Drive\\2P_Data\\TwoTower\\4222153.2\\08_04_2...</td>\n",
       "    </tr>\n",
       "    <tr>\n",
       "      <th>1751</th>\n",
       "      <td>4222153.2</td>\n",
       "      <td>10_04_2019</td>\n",
       "      <td>3</td>\n",
       "      <td>TwoTower_foraging</td>\n",
       "      <td>80</td>\n",
       "      <td>1</td>\n",
       "      <td>CA1</td>\n",
       "      <td>2019-04-10</td>\n",
       "      <td>G:\\My Drive\\VR_Data\\TwoTower\\4222153.2\\10_04_2...</td>\n",
       "      <td>None</td>\n",
       "      <td>G:\\My Drive\\2P_Data\\TwoTower\\4222153.2\\10_04_2...</td>\n",
       "      <td>G:\\My Drive\\2P_Data\\TwoTower\\4222153.2\\10_04_2...</td>\n",
       "    </tr>\n",
       "    <tr>\n",
       "      <th>1771</th>\n",
       "      <td>4222153.2</td>\n",
       "      <td>12_04_2019</td>\n",
       "      <td>2</td>\n",
       "      <td>TwoTower_foraging</td>\n",
       "      <td>86</td>\n",
       "      <td>1</td>\n",
       "      <td>CA1</td>\n",
       "      <td>2019-04-12</td>\n",
       "      <td>G:\\My Drive\\VR_Data\\TwoTower\\4222153.2\\12_04_2...</td>\n",
       "      <td>None</td>\n",
       "      <td>G:\\My Drive\\2P_Data\\TwoTower\\4222153.2\\12_04_2...</td>\n",
       "      <td>G:\\My Drive\\2P_Data\\TwoTower\\4222153.2\\12_04_2...</td>\n",
       "    </tr>\n",
       "    <tr>\n",
       "      <th>1788</th>\n",
       "      <td>4222153.2</td>\n",
       "      <td>14_04_2019</td>\n",
       "      <td>2</td>\n",
       "      <td>TwoTower_foraging</td>\n",
       "      <td>96</td>\n",
       "      <td>1</td>\n",
       "      <td>CA1</td>\n",
       "      <td>2019-04-14</td>\n",
       "      <td>G:\\My Drive\\VR_Data\\TwoTower\\4222153.2\\14_04_2...</td>\n",
       "      <td>None</td>\n",
       "      <td>G:\\My Drive\\2P_Data\\TwoTower\\4222153.2\\14_04_2...</td>\n",
       "      <td>G:\\My Drive\\2P_Data\\TwoTower\\4222153.2\\14_04_2...</td>\n",
       "    </tr>\n",
       "    <tr>\n",
       "      <th>1800</th>\n",
       "      <td>4222153.2</td>\n",
       "      <td>15_04_2019</td>\n",
       "      <td>2</td>\n",
       "      <td>TwoTower_foraging</td>\n",
       "      <td>103</td>\n",
       "      <td>1</td>\n",
       "      <td>CA1</td>\n",
       "      <td>2019-04-15</td>\n",
       "      <td>G:\\My Drive\\VR_Data\\TwoTower\\4222153.2\\15_04_2...</td>\n",
       "      <td>None</td>\n",
       "      <td>G:\\My Drive\\2P_Data\\TwoTower\\4222153.2\\15_04_2...</td>\n",
       "      <td>G:\\My Drive\\2P_Data\\TwoTower\\4222153.2\\15_04_2...</td>\n",
       "    </tr>\n",
       "    <tr>\n",
       "      <th>1816</th>\n",
       "      <td>4222153.2</td>\n",
       "      <td>16_04_2019</td>\n",
       "      <td>2</td>\n",
       "      <td>TwoTower_foraging</td>\n",
       "      <td>98</td>\n",
       "      <td>1</td>\n",
       "      <td>CA1</td>\n",
       "      <td>2019-04-16</td>\n",
       "      <td>G:\\My Drive\\VR_Data\\TwoTower\\4222153.2\\16_04_2...</td>\n",
       "      <td>None</td>\n",
       "      <td>G:\\My Drive\\2P_Data\\TwoTower\\4222153.2\\16_04_2...</td>\n",
       "      <td>G:\\My Drive\\2P_Data\\TwoTower\\4222153.2\\16_04_2...</td>\n",
       "    </tr>\n",
       "    <tr>\n",
       "      <th>1825</th>\n",
       "      <td>4222153.2</td>\n",
       "      <td>17_04_2019</td>\n",
       "      <td>2</td>\n",
       "      <td>TwoTower_foraging</td>\n",
       "      <td>77</td>\n",
       "      <td>1</td>\n",
       "      <td>CA1</td>\n",
       "      <td>2019-04-17</td>\n",
       "      <td>G:\\My Drive\\VR_Data\\TwoTower\\4222153.2\\17_04_2...</td>\n",
       "      <td>None</td>\n",
       "      <td>G:\\My Drive\\2P_Data\\TwoTower\\4222153.2\\17_04_2...</td>\n",
       "      <td>G:\\My Drive\\2P_Data\\TwoTower\\4222153.2\\17_04_2...</td>\n",
       "    </tr>\n",
       "    <tr>\n",
       "      <th>1833</th>\n",
       "      <td>4222153.2</td>\n",
       "      <td>18_04_2019</td>\n",
       "      <td>3</td>\n",
       "      <td>TwoTower_foraging</td>\n",
       "      <td>70</td>\n",
       "      <td>1</td>\n",
       "      <td>CA1</td>\n",
       "      <td>2019-04-18</td>\n",
       "      <td>G:\\My Drive\\VR_Data\\TwoTower\\4222153.2\\18_04_2...</td>\n",
       "      <td>None</td>\n",
       "      <td>G:\\My Drive\\2P_Data\\TwoTower\\4222153.2\\18_04_2...</td>\n",
       "      <td>G:\\My Drive\\2P_Data\\TwoTower\\4222153.2\\18_04_2...</td>\n",
       "    </tr>\n",
       "  </tbody>\n",
       "</table>\n",
       "</div>"
      ],
      "text/plain": [
       "      MouseName  DateFolder  SessionNumber              Track  RewardCount  \\\n",
       "1727  4222153.2  08_04_2019              1  TwoTower_foraging           86   \n",
       "1751  4222153.2  10_04_2019              3  TwoTower_foraging           80   \n",
       "1771  4222153.2  12_04_2019              2  TwoTower_foraging           86   \n",
       "1788  4222153.2  14_04_2019              2  TwoTower_foraging           96   \n",
       "1800  4222153.2  15_04_2019              2  TwoTower_foraging          103   \n",
       "1816  4222153.2  16_04_2019              2  TwoTower_foraging           98   \n",
       "1825  4222153.2  17_04_2019              2  TwoTower_foraging           77   \n",
       "1833  4222153.2  18_04_2019              3  TwoTower_foraging           70   \n",
       "\n",
       "      Imaging ImagingRegion   DateTime  \\\n",
       "1727        1           CA1 2019-04-08   \n",
       "1751        1           CA1 2019-04-10   \n",
       "1771        1           CA1 2019-04-12   \n",
       "1788        1           CA1 2019-04-14   \n",
       "1800        1           CA1 2019-04-15   \n",
       "1816        1           CA1 2019-04-16   \n",
       "1825        1           CA1 2019-04-17   \n",
       "1833        1           CA1 2019-04-18   \n",
       "\n",
       "                                              data file scanfile  \\\n",
       "1727  G:\\My Drive\\VR_Data\\TwoTower\\4222153.2\\08_04_2...     None   \n",
       "1751  G:\\My Drive\\VR_Data\\TwoTower\\4222153.2\\10_04_2...     None   \n",
       "1771  G:\\My Drive\\VR_Data\\TwoTower\\4222153.2\\12_04_2...     None   \n",
       "1788  G:\\My Drive\\VR_Data\\TwoTower\\4222153.2\\14_04_2...     None   \n",
       "1800  G:\\My Drive\\VR_Data\\TwoTower\\4222153.2\\15_04_2...     None   \n",
       "1816  G:\\My Drive\\VR_Data\\TwoTower\\4222153.2\\16_04_2...     None   \n",
       "1825  G:\\My Drive\\VR_Data\\TwoTower\\4222153.2\\17_04_2...     None   \n",
       "1833  G:\\My Drive\\VR_Data\\TwoTower\\4222153.2\\18_04_2...     None   \n",
       "\n",
       "                                                scanmat  \\\n",
       "1727  G:\\My Drive\\2P_Data\\TwoTower\\4222153.2\\08_04_2...   \n",
       "1751  G:\\My Drive\\2P_Data\\TwoTower\\4222153.2\\10_04_2...   \n",
       "1771  G:\\My Drive\\2P_Data\\TwoTower\\4222153.2\\12_04_2...   \n",
       "1788  G:\\My Drive\\2P_Data\\TwoTower\\4222153.2\\14_04_2...   \n",
       "1800  G:\\My Drive\\2P_Data\\TwoTower\\4222153.2\\15_04_2...   \n",
       "1816  G:\\My Drive\\2P_Data\\TwoTower\\4222153.2\\16_04_2...   \n",
       "1825  G:\\My Drive\\2P_Data\\TwoTower\\4222153.2\\17_04_2...   \n",
       "1833  G:\\My Drive\\2P_Data\\TwoTower\\4222153.2\\18_04_2...   \n",
       "\n",
       "                                              s2pfolder  \n",
       "1727  G:\\My Drive\\2P_Data\\TwoTower\\4222153.2\\08_04_2...  \n",
       "1751  G:\\My Drive\\2P_Data\\TwoTower\\4222153.2\\10_04_2...  \n",
       "1771  G:\\My Drive\\2P_Data\\TwoTower\\4222153.2\\12_04_2...  \n",
       "1788  G:\\My Drive\\2P_Data\\TwoTower\\4222153.2\\14_04_2...  \n",
       "1800  G:\\My Drive\\2P_Data\\TwoTower\\4222153.2\\15_04_2...  \n",
       "1816  G:\\My Drive\\2P_Data\\TwoTower\\4222153.2\\16_04_2...  \n",
       "1825  G:\\My Drive\\2P_Data\\TwoTower\\4222153.2\\17_04_2...  \n",
       "1833  G:\\My Drive\\2P_Data\\TwoTower\\4222153.2\\18_04_2...  "
      ]
     },
     "execution_count": 132,
     "metadata": {},
     "output_type": "execute_result"
    }
   ],
   "source": [
    "mouse = '4222153.2'\n",
    "df_mouse = df[df['MouseName'].str.match(mouse)]\n",
    "# df_mouse = df_mouse[df_mouse['Track'].str.match('TwoTower_noTimeout') | df_mouse['Track'].str.match('TwoTower_Timeout')]\n",
    "df_mouse\n",
    "\n"
   ]
  },
  {
   "cell_type": "code",
   "execution_count": 133,
   "metadata": {},
   "outputs": [
    {
     "name": "stdout",
     "output_type": "stream",
     "text": [
      "num aberrant ttls 0.0\n",
      "37344 (37344,) (37344, 21) 121463\n",
      "frame diff 0\n"
     ]
    }
   ],
   "source": [
    "sess = df_mouse.iloc[-1]\n",
    "\n",
    "VRDat,C, S, A = pp.load_scan_sess(sess)\n",
    "trial_info, tstart_inds, teleport_inds = u.by_trial_info(VRDat)\n",
    "C/=1546\n",
    "\n"
   ]
  },
  {
   "cell_type": "code",
   "execution_count": 134,
   "metadata": {},
   "outputs": [],
   "source": [
    "effMorph = (trial_info['morphs']+trial_info['wallJitter']+trial_info['towerJitter']+trial_info['bckgndJitter']+.25)/1.5\n",
    "msort=np.argsort(effMorph)"
   ]
  },
  {
   "cell_type": "code",
   "execution_count": 135,
   "metadata": {},
   "outputs": [],
   "source": [
    "fname = os.path.join('G:\\My Drive\\Figures\\TwoTower\\PosCtxtSplineGLM\\\\',\"%s_%s_%s\" % (mouse,sess['DateFolder'],sess['SessionNumber']),'mdloutput.pkl')\n",
    "\n",
    "with open(fname,'rb') as f:\n",
    "    results = pickle.load(f)"
   ]
  },
  {
   "cell_type": "code",
   "execution_count": 136,
   "metadata": {},
   "outputs": [
    {
     "name": "stdout",
     "output_type": "stream",
     "text": [
      "dict_keys(['Likelihood_XC', 'C_hat', 'cellmask'])\n"
     ]
    }
   ],
   "source": [
    "print(results.keys())"
   ]
  },
  {
   "cell_type": "code",
   "execution_count": 137,
   "metadata": {},
   "outputs": [
    {
     "name": "stdout",
     "output_type": "stream",
     "text": [
      "(37344, 50, 50)\n"
     ]
    }
   ],
   "source": [
    "L_XC = results['Likelihood_XC']\n",
    "print(L_XC.shape)"
   ]
  },
  {
   "cell_type": "code",
   "execution_count": 138,
   "metadata": {},
   "outputs": [],
   "source": [
    "ll_c = np.zeros([trial_info['morphs'].shape[0],50])\n",
    "for t, (start,stop) in enumerate(zip(tstart_inds.tolist(),teleport_inds.tolist())):\n",
    "    ll_c[t,:] = np.log(L_XC[start:stop,:,:].sum(axis=1)).mean(axis=0)"
   ]
  },
  {
   "cell_type": "code",
   "execution_count": 141,
   "metadata": {},
   "outputs": [
    {
     "data": {
      "text/plain": [
       "<matplotlib.image.AxesImage at 0x1f48102d7f0>"
      ]
     },
     "execution_count": 141,
     "metadata": {},
     "output_type": "execute_result"
    },
    {
     "data": {
      "image/png": "[encoded data removed]",
      "text/plain": [
       "<Figure size 432x288 with 1 Axes>"
      ]
     },
     "metadata": {
      "needs_background": "light"
     },
     "output_type": "display_data"
    }
   ],
   "source": [
    "f,ax= plt.subplots()\n",
    "ax.imshow(ll_c[msort,2:-2],cmap='cividis',vmax=.05)"
   ]
  },
  {
   "cell_type": "code",
   "execution_count": 140,
   "metadata": {},
   "outputs": [
    {
     "data": {
      "text/plain": [
       "<matplotlib.collections.PathCollection at 0x1f480f66c88>"
      ]
     },
     "execution_count": 140,
     "metadata": {},
     "output_type": "execute_result"
    },
    {
     "data": {
      "image/png": "[encoded data removed]",
      "text/plain": [
       "<Figure size 432x288 with 1 Axes>"
      ]
     },
     "metadata": {
      "needs_background": "light"
     },
     "output_type": "display_data"
    }
   ],
   "source": [
    "mlc = np.argmax(ll_c,axis=1)/50.\n",
    "f,ax= plt.subplots()\n",
    "ax.scatter(effMorph,mlc)\n",
    "mlc_r = np.copy(mlc)\n",
    "mlc_r[trial_info['rewards']>0]=np.nan\n",
    "ax.scatter(effMorph,mlc_r,color='black')"
   ]
  },
  {
   "cell_type": "code",
   "execution_count": null,
   "metadata": {},
   "outputs": [],
   "source": []
  },
  {
   "cell_type": "code",
   "execution_count": null,
   "metadata": {},
   "outputs": [],
   "source": []
  }
 ],
 "metadata": {
  "kernelspec": {
   "display_name": "Python 3",
   "language": "python",
   "name": "python3"
  },
  "language_info": {
   "codemirror_mode": {
    "name": "ipython",
    "version": 3
   },
   "file_extension": ".py",
   "mimetype": "text/x-python",
   "name": "python",
   "nbconvert_exporter": "python",
   "pygments_lexer": "ipython3",
   "version": "3.7.3"
  }
 },
 "nbformat": 4,
 "nbformat_minor": 2
}
