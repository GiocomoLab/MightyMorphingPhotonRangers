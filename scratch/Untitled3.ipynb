{
 "cells": [
  {
   "cell_type": "code",
   "execution_count": 6,
   "metadata": {},
   "outputs": [
    {
     "name": "stdout",
     "output_type": "stream",
     "text": [
      "The autoreload extension is already loaded. To reload it, use:\n",
      "  %reload_ext autoreload\n"
     ]
    }
   ],
   "source": [
    "import os\n",
    "os.sys.path.append(\"C:\\\\Users\\mplitt\\MightyMorphingPhotonRangers\")\n",
    "import numpy as np\n",
    "import matplotlib.pyplot as plt\n",
    "\n",
    "import utilities as u\n",
    "import preprocessing as pp\n",
    "import behavior as b\n",
    "import SimilarityMatrixAnalysis as sm\n",
    "import scipy as sp\n",
    "import PlaceCellAnalysis as pc\n",
    "from SplineEncodingModel.LinearRegressionSpline import EncodingModel, NBDecodingModel\n",
    "from SplineEncodingModel import PopDecodingCV as pdcv\n",
    "import matplotlib.gridspec as gridspec\n",
    "import pickle\n",
    "\n",
    "%load_ext autoreload\n",
    "%autoreload 2\n",
    "\n",
    "%matplotlib inline"
   ]
  },
  {
   "cell_type": "code",
   "execution_count": 2,
   "metadata": {},
   "outputs": [
    {
     "name": "stdout",
     "output_type": "stream",
     "text": [
      "G:\\My Drive\\VR_Data\\TwoTower\\behavior.sqlite\n",
      "G:\\My Drive\\VR_Data\\TwoTower\\4222174.0\\30_05_2019\\RuningTraining_1.sqlite\n",
      "file doesn't exist, errors to come!!!\n"
     ]
    }
   ],
   "source": [
    "\n",
    "df = pp.load_session_db()\n",
    "\n",
    "\n",
    "df = df[df['RewardCount']>30]\n",
    "df = df[df['Imaging']==1]\n",
    "df = df.sort_values(['MouseName','DateTime','SessionNumber'])\n",
    "tracks = 'TwoTower_noTimeout|TwoTower_Timeout|Reversal_noTimeout|Reversal|TwoTower_foraging'\n",
    "df = df[df['Track'].str.contains(tracks,regex=True)]\n",
    "\n",
    "\n",
    "\n",
    "\n"
   ]
  },
  {
   "cell_type": "code",
   "execution_count": 123,
   "metadata": {},
   "outputs": [
    {
     "data": {
      "text/html": [
       "<div>\n",
       "<style scoped>\n",
       "    .dataframe tbody tr th:only-of-type {\n",
       "        vertical-align: middle;\n",
       "    }\n",
       "\n",
       "    .dataframe tbody tr th {\n",
       "        vertical-align: top;\n",
       "    }\n",
       "\n",
       "    .dataframe thead th {\n",
       "        text-align: right;\n",
       "    }\n",
       "</style>\n",
       "<table border=\"1\" class=\"dataframe\">\n",
       "  <thead>\n",
       "    <tr style=\"text-align: right;\">\n",
       "      <th></th>\n",
       "      <th>MouseName</th>\n",
       "      <th>DateFolder</th>\n",
       "      <th>SessionNumber</th>\n",
       "      <th>Track</th>\n",
       "      <th>RewardCount</th>\n",
       "      <th>Imaging</th>\n",
       "      <th>ImagingRegion</th>\n",
       "      <th>DateTime</th>\n",
       "      <th>data file</th>\n",
       "      <th>scanfile</th>\n",
       "      <th>scanmat</th>\n",
       "      <th>s2pfolder</th>\n",
       "    </tr>\n",
       "  </thead>\n",
       "  <tbody>\n",
       "    <tr>\n",
       "      <th>1371</th>\n",
       "      <td>4139265.4</td>\n",
       "      <td>07_02_2019</td>\n",
       "      <td>2</td>\n",
       "      <td>TwoTower_foraging</td>\n",
       "      <td>60</td>\n",
       "      <td>1</td>\n",
       "      <td>CA1</td>\n",
       "      <td>2019-02-07</td>\n",
       "      <td>G:\\My Drive\\VR_Data\\TwoTower\\4139265.4\\07_02_2...</td>\n",
       "      <td>None</td>\n",
       "      <td>G:\\My Drive\\2P_Data\\TwoTower\\4139265.4\\07_02_2...</td>\n",
       "      <td>G:\\My Drive\\2P_Data\\TwoTower\\4139265.4\\07_02_2...</td>\n",
       "    </tr>\n",
       "    <tr>\n",
       "      <th>1373</th>\n",
       "      <td>4139265.4</td>\n",
       "      <td>07_02_2019</td>\n",
       "      <td>4</td>\n",
       "      <td>TwoTower_foraging</td>\n",
       "      <td>60</td>\n",
       "      <td>1</td>\n",
       "      <td>CA1</td>\n",
       "      <td>2019-02-07</td>\n",
       "      <td>G:\\My Drive\\VR_Data\\TwoTower\\4139265.4\\07_02_2...</td>\n",
       "      <td>None</td>\n",
       "      <td>G:\\My Drive\\2P_Data\\TwoTower\\4139265.4\\07_02_2...</td>\n",
       "      <td>G:\\My Drive\\2P_Data\\TwoTower\\4139265.4\\07_02_2...</td>\n",
       "    </tr>\n",
       "    <tr>\n",
       "      <th>1407</th>\n",
       "      <td>4139265.4</td>\n",
       "      <td>10_02_2019</td>\n",
       "      <td>2</td>\n",
       "      <td>TwoTower_foraging</td>\n",
       "      <td>60</td>\n",
       "      <td>1</td>\n",
       "      <td>CA1</td>\n",
       "      <td>2019-02-10</td>\n",
       "      <td>G:\\My Drive\\VR_Data\\TwoTower\\4139265.4\\10_02_2...</td>\n",
       "      <td>None</td>\n",
       "      <td>G:\\My Drive\\2P_Data\\TwoTower\\4139265.4\\10_02_2...</td>\n",
       "      <td>G:\\My Drive\\2P_Data\\TwoTower\\4139265.4\\10_02_2...</td>\n",
       "    </tr>\n",
       "    <tr>\n",
       "      <th>1436</th>\n",
       "      <td>4139265.4</td>\n",
       "      <td>12_02_2019</td>\n",
       "      <td>2</td>\n",
       "      <td>TwoTower_foraging</td>\n",
       "      <td>85</td>\n",
       "      <td>1</td>\n",
       "      <td>CA1</td>\n",
       "      <td>2019-02-12</td>\n",
       "      <td>G:\\My Drive\\VR_Data\\TwoTower\\4139265.4\\12_02_2...</td>\n",
       "      <td>None</td>\n",
       "      <td>G:\\My Drive\\2P_Data\\TwoTower\\4139265.4\\12_02_2...</td>\n",
       "      <td>G:\\My Drive\\2P_Data\\TwoTower\\4139265.4\\12_02_2...</td>\n",
       "    </tr>\n",
       "    <tr>\n",
       "      <th>1459</th>\n",
       "      <td>4139265.4</td>\n",
       "      <td>15_02_2019</td>\n",
       "      <td>3</td>\n",
       "      <td>TwoTower_foraging</td>\n",
       "      <td>82</td>\n",
       "      <td>1</td>\n",
       "      <td>CA1</td>\n",
       "      <td>2019-02-15</td>\n",
       "      <td>G:\\My Drive\\VR_Data\\TwoTower\\4139265.4\\15_02_2...</td>\n",
       "      <td>None</td>\n",
       "      <td>G:\\My Drive\\2P_Data\\TwoTower\\4139265.4\\15_02_2...</td>\n",
       "      <td>G:\\My Drive\\2P_Data\\TwoTower\\4139265.4\\15_02_2...</td>\n",
       "    </tr>\n",
       "    <tr>\n",
       "      <th>1478</th>\n",
       "      <td>4139265.4</td>\n",
       "      <td>17_02_2019</td>\n",
       "      <td>2</td>\n",
       "      <td>TwoTower_foraging</td>\n",
       "      <td>94</td>\n",
       "      <td>1</td>\n",
       "      <td>CA1</td>\n",
       "      <td>2019-02-17</td>\n",
       "      <td>G:\\My Drive\\VR_Data\\TwoTower\\4139265.4\\17_02_2...</td>\n",
       "      <td>None</td>\n",
       "      <td>G:\\My Drive\\2P_Data\\TwoTower\\4139265.4\\17_02_2...</td>\n",
       "      <td>G:\\My Drive\\2P_Data\\TwoTower\\4139265.4\\17_02_2...</td>\n",
       "    </tr>\n",
       "    <tr>\n",
       "      <th>1489</th>\n",
       "      <td>4139265.4</td>\n",
       "      <td>18_02_2019</td>\n",
       "      <td>2</td>\n",
       "      <td>TwoTower_foraging</td>\n",
       "      <td>101</td>\n",
       "      <td>1</td>\n",
       "      <td>CA1</td>\n",
       "      <td>2019-02-18</td>\n",
       "      <td>G:\\My Drive\\VR_Data\\TwoTower\\4139265.4\\18_02_2...</td>\n",
       "      <td>None</td>\n",
       "      <td>G:\\My Drive\\2P_Data\\TwoTower\\4139265.4\\18_02_2...</td>\n",
       "      <td>G:\\My Drive\\2P_Data\\TwoTower\\4139265.4\\18_02_2...</td>\n",
       "    </tr>\n",
       "    <tr>\n",
       "      <th>1498</th>\n",
       "      <td>4139265.4</td>\n",
       "      <td>19_02_2019</td>\n",
       "      <td>2</td>\n",
       "      <td>TwoTower_foraging</td>\n",
       "      <td>97</td>\n",
       "      <td>1</td>\n",
       "      <td>CA1</td>\n",
       "      <td>2019-02-19</td>\n",
       "      <td>G:\\My Drive\\VR_Data\\TwoTower\\4139265.4\\19_02_2...</td>\n",
       "      <td>None</td>\n",
       "      <td>G:\\My Drive\\2P_Data\\TwoTower\\4139265.4\\19_02_2...</td>\n",
       "      <td>G:\\My Drive\\2P_Data\\TwoTower\\4139265.4\\19_02_2...</td>\n",
       "    </tr>\n",
       "    <tr>\n",
       "      <th>1510</th>\n",
       "      <td>4139265.4</td>\n",
       "      <td>20_02_2019</td>\n",
       "      <td>2</td>\n",
       "      <td>TwoTower_foraging</td>\n",
       "      <td>99</td>\n",
       "      <td>1</td>\n",
       "      <td>CA1</td>\n",
       "      <td>2019-02-20</td>\n",
       "      <td>G:\\My Drive\\VR_Data\\TwoTower\\4139265.4\\20_02_2...</td>\n",
       "      <td>None</td>\n",
       "      <td>G:\\My Drive\\2P_Data\\TwoTower\\4139265.4\\20_02_2...</td>\n",
       "      <td>G:\\My Drive\\2P_Data\\TwoTower\\4139265.4\\20_02_2...</td>\n",
       "    </tr>\n",
       "    <tr>\n",
       "      <th>1516</th>\n",
       "      <td>4139265.4</td>\n",
       "      <td>21_02_2019</td>\n",
       "      <td>2</td>\n",
       "      <td>TwoTower_foraging</td>\n",
       "      <td>97</td>\n",
       "      <td>1</td>\n",
       "      <td>CA1</td>\n",
       "      <td>2019-02-21</td>\n",
       "      <td>G:\\My Drive\\VR_Data\\TwoTower\\4139265.4\\21_02_2...</td>\n",
       "      <td>None</td>\n",
       "      <td>G:\\My Drive\\2P_Data\\TwoTower\\4139265.4\\21_02_2...</td>\n",
       "      <td>G:\\My Drive\\2P_Data\\TwoTower\\4139265.4\\21_02_2...</td>\n",
       "    </tr>\n",
       "    <tr>\n",
       "      <th>1525</th>\n",
       "      <td>4139265.4</td>\n",
       "      <td>22_02_2019</td>\n",
       "      <td>2</td>\n",
       "      <td>TwoTower_foraging</td>\n",
       "      <td>91</td>\n",
       "      <td>1</td>\n",
       "      <td>CA1</td>\n",
       "      <td>2019-02-22</td>\n",
       "      <td>G:\\My Drive\\VR_Data\\TwoTower\\4139265.4\\22_02_2...</td>\n",
       "      <td>None</td>\n",
       "      <td>G:\\My Drive\\2P_Data\\TwoTower\\4139265.4\\22_02_2...</td>\n",
       "      <td>G:\\My Drive\\2P_Data\\TwoTower\\4139265.4\\22_02_2...</td>\n",
       "    </tr>\n",
       "  </tbody>\n",
       "</table>\n",
       "</div>"
      ],
      "text/plain": [
       "      MouseName  DateFolder  SessionNumber              Track  RewardCount  \\\n",
       "1371  4139265.4  07_02_2019              2  TwoTower_foraging           60   \n",
       "1373  4139265.4  07_02_2019              4  TwoTower_foraging           60   \n",
       "1407  4139265.4  10_02_2019              2  TwoTower_foraging           60   \n",
       "1436  4139265.4  12_02_2019              2  TwoTower_foraging           85   \n",
       "1459  4139265.4  15_02_2019              3  TwoTower_foraging           82   \n",
       "1478  4139265.4  17_02_2019              2  TwoTower_foraging           94   \n",
       "1489  4139265.4  18_02_2019              2  TwoTower_foraging          101   \n",
       "1498  4139265.4  19_02_2019              2  TwoTower_foraging           97   \n",
       "1510  4139265.4  20_02_2019              2  TwoTower_foraging           99   \n",
       "1516  4139265.4  21_02_2019              2  TwoTower_foraging           97   \n",
       "1525  4139265.4  22_02_2019              2  TwoTower_foraging           91   \n",
       "\n",
       "      Imaging ImagingRegion   DateTime  \\\n",
       "1371        1           CA1 2019-02-07   \n",
       "1373        1           CA1 2019-02-07   \n",
       "1407        1           CA1 2019-02-10   \n",
       "1436        1           CA1 2019-02-12   \n",
       "1459        1           CA1 2019-02-15   \n",
       "1478        1           CA1 2019-02-17   \n",
       "1489        1           CA1 2019-02-18   \n",
       "1498        1           CA1 2019-02-19   \n",
       "1510        1           CA1 2019-02-20   \n",
       "1516        1           CA1 2019-02-21   \n",
       "1525        1           CA1 2019-02-22   \n",
       "\n",
       "                                              data file scanfile  \\\n",
       "1371  G:\\My Drive\\VR_Data\\TwoTower\\4139265.4\\07_02_2...     None   \n",
       "1373  G:\\My Drive\\VR_Data\\TwoTower\\4139265.4\\07_02_2...     None   \n",
       "1407  G:\\My Drive\\VR_Data\\TwoTower\\4139265.4\\10_02_2...     None   \n",
       "1436  G:\\My Drive\\VR_Data\\TwoTower\\4139265.4\\12_02_2...     None   \n",
       "1459  G:\\My Drive\\VR_Data\\TwoTower\\4139265.4\\15_02_2...     None   \n",
       "1478  G:\\My Drive\\VR_Data\\TwoTower\\4139265.4\\17_02_2...     None   \n",
       "1489  G:\\My Drive\\VR_Data\\TwoTower\\4139265.4\\18_02_2...     None   \n",
       "1498  G:\\My Drive\\VR_Data\\TwoTower\\4139265.4\\19_02_2...     None   \n",
       "1510  G:\\My Drive\\VR_Data\\TwoTower\\4139265.4\\20_02_2...     None   \n",
       "1516  G:\\My Drive\\VR_Data\\TwoTower\\4139265.4\\21_02_2...     None   \n",
       "1525  G:\\My Drive\\VR_Data\\TwoTower\\4139265.4\\22_02_2...     None   \n",
       "\n",
       "                                                scanmat  \\\n",
       "1371  G:\\My Drive\\2P_Data\\TwoTower\\4139265.4\\07_02_2...   \n",
       "1373  G:\\My Drive\\2P_Data\\TwoTower\\4139265.4\\07_02_2...   \n",
       "1407  G:\\My Drive\\2P_Data\\TwoTower\\4139265.4\\10_02_2...   \n",
       "1436  G:\\My Drive\\2P_Data\\TwoTower\\4139265.4\\12_02_2...   \n",
       "1459  G:\\My Drive\\2P_Data\\TwoTower\\4139265.4\\15_02_2...   \n",
       "1478  G:\\My Drive\\2P_Data\\TwoTower\\4139265.4\\17_02_2...   \n",
       "1489  G:\\My Drive\\2P_Data\\TwoTower\\4139265.4\\18_02_2...   \n",
       "1498  G:\\My Drive\\2P_Data\\TwoTower\\4139265.4\\19_02_2...   \n",
       "1510  G:\\My Drive\\2P_Data\\TwoTower\\4139265.4\\20_02_2...   \n",
       "1516  G:\\My Drive\\2P_Data\\TwoTower\\4139265.4\\21_02_2...   \n",
       "1525  G:\\My Drive\\2P_Data\\TwoTower\\4139265.4\\22_02_2...   \n",
       "\n",
       "                                              s2pfolder  \n",
       "1371  G:\\My Drive\\2P_Data\\TwoTower\\4139265.4\\07_02_2...  \n",
       "1373  G:\\My Drive\\2P_Data\\TwoTower\\4139265.4\\07_02_2...  \n",
       "1407  G:\\My Drive\\2P_Data\\TwoTower\\4139265.4\\10_02_2...  \n",
       "1436  G:\\My Drive\\2P_Data\\TwoTower\\4139265.4\\12_02_2...  \n",
       "1459  G:\\My Drive\\2P_Data\\TwoTower\\4139265.4\\15_02_2...  \n",
       "1478  G:\\My Drive\\2P_Data\\TwoTower\\4139265.4\\17_02_2...  \n",
       "1489  G:\\My Drive\\2P_Data\\TwoTower\\4139265.4\\18_02_2...  \n",
       "1498  G:\\My Drive\\2P_Data\\TwoTower\\4139265.4\\19_02_2...  \n",
       "1510  G:\\My Drive\\2P_Data\\TwoTower\\4139265.4\\20_02_2...  \n",
       "1516  G:\\My Drive\\2P_Data\\TwoTower\\4139265.4\\21_02_2...  \n",
       "1525  G:\\My Drive\\2P_Data\\TwoTower\\4139265.4\\22_02_2...  "
      ]
     },
     "execution_count": 123,
     "metadata": {},
     "output_type": "execute_result"
    }
   ],
   "source": [
    "mouse = '4139265.4'\n",
    "df_mouse = df[df['MouseName'].str.match(mouse)]\n",
    "# df_mouse = df_mouse[df_mouse['Track'].str.match('TwoTower_noTimeout') | df_mouse['Track'].str.match('TwoTower_Timeout')]\n",
    "df_mouse\n",
    "\n"
   ]
  },
  {
   "cell_type": "code",
   "execution_count": 124,
   "metadata": {},
   "outputs": [
    {
     "name": "stdout",
     "output_type": "stream",
     "text": [
      "num aberrant ttls 0.0\n",
      "32084 (32084,) (32084, 21) 105601\n",
      "frame diff 0\n"
     ]
    }
   ],
   "source": [
    "sess = df_mouse.iloc[-1]\n",
    "\n",
    "VRDat,C, S, A = pp.load_scan_sess(sess)\n",
    "trial_info, tstart_inds, teleport_inds = u.by_trial_info(VRDat)\n",
    "C/=1546\n",
    "\n"
   ]
  },
  {
   "cell_type": "code",
   "execution_count": 125,
   "metadata": {},
   "outputs": [],
   "source": [
    "effMorph = (trial_info['morphs']+trial_info['wallJitter']+trial_info['towerJitter']+trial_info['bckgndJitter']+.25)/1.5\n",
    "msort=np.argsort(effMorph)"
   ]
  },
  {
   "cell_type": "code",
   "execution_count": 126,
   "metadata": {},
   "outputs": [],
   "source": [
    "fname = os.path.join('G:\\My Drive\\Figures\\TwoTower\\PosCtxtSplineGLM\\\\',\"%s_%s_%s\" % (mouse,sess['DateFolder'],sess['SessionNumber']),'mdloutput.pkl')\n",
    "\n",
    "with open(fname,'rb') as f:\n",
    "    results = pickle.load(f)"
   ]
  },
  {
   "cell_type": "code",
   "execution_count": 127,
   "metadata": {},
   "outputs": [
    {
     "name": "stdout",
     "output_type": "stream",
     "text": [
      "dict_keys(['Likelihood_XC', 'C_hat', 'cellmask'])\n"
     ]
    }
   ],
   "source": [
    "print(results.keys())"
   ]
  },
  {
   "cell_type": "code",
   "execution_count": 128,
   "metadata": {},
   "outputs": [
    {
     "name": "stdout",
     "output_type": "stream",
     "text": [
      "(32084, 50, 50)\n"
     ]
    }
   ],
   "source": [
    "L_XC = results['Likelihood_XC']\n",
    "print(L_XC.shape)"
   ]
  },
  {
   "cell_type": "code",
   "execution_count": 129,
   "metadata": {},
   "outputs": [],
   "source": [
    "ll_c = np.zeros([trial_info['morphs'].shape[0],50])\n",
    "for t, (start,stop) in enumerate(zip(tstart_inds.tolist(),teleport_inds.tolist())):\n",
    "    ll_c[t,:] = np.log(L_XC[start:stop,:,:].sum(axis=1)).mean(axis=0)"
   ]
  },
  {
   "cell_type": "code",
   "execution_count": 130,
   "metadata": {},
   "outputs": [
    {
     "data": {
      "text/plain": [
       "<matplotlib.image.AxesImage at 0x1f483367cf8>"
      ]
     },
     "execution_count": 130,
     "metadata": {},
     "output_type": "execute_result"
    },
    {
     "data": {
      "image/png": "[encoded data removed]",
      "text/plain": [
       "<Figure size 432x288 with 1 Axes>"
      ]
     },
     "metadata": {
      "needs_background": "light"
     },
     "output_type": "display_data"
    }
   ],
   "source": [
    "f,ax= plt.subplots()\n",
    "ax.imshow(np.exp(ll_c[msort,2:-2]),cmap='cividis',vmax=.05)"
   ]
  },
  {
   "cell_type": "code",
   "execution_count": 131,
   "metadata": {},
   "outputs": [
    {
     "data": {
      "text/plain": [
       "<matplotlib.collections.PathCollection at 0x1f483218860>"
      ]
     },
     "execution_count": 131,
     "metadata": {},
     "output_type": "execute_result"
    },
    {
     "data": {
      "image/png": "[encoded data removed]",
      "text/plain": [
       "<Figure size 432x288 with 1 Axes>"
      ]
     },
     "metadata": {
      "needs_background": "light"
     },
     "output_type": "display_data"
    }
   ],
   "source": [
    "mlc = np.argmax(ll_c,axis=1)/50.\n",
    "f,ax= plt.subplots()\n",
    "ax.scatter(effMorph,mlc)\n",
    "mlc_r = np.copy(mlc)\n",
    "mlc_r[trial_info['rewards']>0]=np.nan\n",
    "ax.scatter(effMorph,mlc_r,color='black')"
   ]
  },
  {
   "cell_type": "code",
   "execution_count": null,
   "metadata": {},
   "outputs": [],
   "source": []
  },
  {
   "cell_type": "code",
   "execution_count": null,
   "metadata": {},
   "outputs": [],
   "source": []
  }
 ],
 "metadata": {
  "kernelspec": {
   "display_name": "Python 3",
   "language": "python",
   "name": "python3"
  },
  "language_info": {
   "codemirror_mode": {
    "name": "ipython",
    "version": 3
   },
   "file_extension": ".py",
   "mimetype": "text/x-python",
   "name": "python",
   "nbconvert_exporter": "python",
   "pygments_lexer": "ipython3",
   "version": "3.7.3"
  }
 },
 "nbformat": 4,
 "nbformat_minor": 2
}
