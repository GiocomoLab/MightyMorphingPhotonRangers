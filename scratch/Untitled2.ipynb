{
 "cells": [
  {
   "cell_type": "code",
   "execution_count": 1,
   "metadata": {},
   "outputs": [],
   "source": [
    "import os\n",
    "os.sys.path.append(\"C:\\\\Users\\mplitt\\MightyMorphingPhotonRangers\")\n",
    "import numpy as np\n",
    "import matplotlib.pyplot as plt\n",
    "import utilities as u\n",
    "import preprocessing as pp\n",
    "import behavior as b\n",
    "import SimilarityMatrixAnalysis as sm\n",
    "import scipy as sp\n",
    "import PlaceCellAnalysis as pc\n",
    "import pickle\n",
    "\n",
    "\n",
    "%load_ext autoreload\n",
    "%autoreload 2\n",
    "\n",
    "%matplotlib inline"
   ]
  },
  {
   "cell_type": "code",
   "execution_count": 8,
   "metadata": {},
   "outputs": [
    {
     "name": "stdout",
     "output_type": "stream",
     "text": [
      "G:\\My Drive\\VR_Data\\TwoTower\\behavior.sqlite\n",
      "G:\\My Drive\\VR_Data\\TwoTower\\4222174.0\\30_05_2019\\RuningTraining_1.sqlite\n",
      "file doesn't exist, errors to come!!!\n"
     ]
    },
    {
     "data": {
      "text/html": [
       "<div>\n",
       "<style scoped>\n",
       "    .dataframe tbody tr th:only-of-type {\n",
       "        vertical-align: middle;\n",
       "    }\n",
       "\n",
       "    .dataframe tbody tr th {\n",
       "        vertical-align: top;\n",
       "    }\n",
       "\n",
       "    .dataframe thead th {\n",
       "        text-align: right;\n",
       "    }\n",
       "</style>\n",
       "<table border=\"1\" class=\"dataframe\">\n",
       "  <thead>\n",
       "    <tr style=\"text-align: right;\">\n",
       "      <th></th>\n",
       "      <th>MouseName</th>\n",
       "      <th>DateFolder</th>\n",
       "      <th>SessionNumber</th>\n",
       "      <th>Track</th>\n",
       "      <th>RewardCount</th>\n",
       "      <th>Imaging</th>\n",
       "      <th>ImagingRegion</th>\n",
       "      <th>DateTime</th>\n",
       "      <th>data file</th>\n",
       "      <th>scanfile</th>\n",
       "      <th>scanmat</th>\n",
       "      <th>s2pfolder</th>\n",
       "    </tr>\n",
       "  </thead>\n",
       "  <tbody>\n",
       "    <tr>\n",
       "      <th>805</th>\n",
       "      <td>4139224.3</td>\n",
       "      <td>18_10_2018</td>\n",
       "      <td>1</td>\n",
       "      <td>TwoTower_noTimeout</td>\n",
       "      <td>61</td>\n",
       "      <td>1</td>\n",
       "      <td>CA1</td>\n",
       "      <td>2018-10-18</td>\n",
       "      <td>G:\\My Drive\\VR_Data\\TwoTower\\4139224.3\\18_10_2...</td>\n",
       "      <td>G:\\My Drive\\2P_Data\\TwoTower\\4139224.3\\18_10_2...</td>\n",
       "      <td>G:\\My Drive\\2P_Data\\TwoTower\\4139224.3\\18_10_2...</td>\n",
       "      <td>G:\\My Drive\\2P_Data\\TwoTower\\4139224.3\\18_10_2...</td>\n",
       "    </tr>\n",
       "    <tr>\n",
       "      <th>807</th>\n",
       "      <td>4139224.3</td>\n",
       "      <td>18_10_2018</td>\n",
       "      <td>3</td>\n",
       "      <td>TwoTower_noTimeout</td>\n",
       "      <td>41</td>\n",
       "      <td>1</td>\n",
       "      <td>CA1</td>\n",
       "      <td>2018-10-18</td>\n",
       "      <td>G:\\My Drive\\VR_Data\\TwoTower\\4139224.3\\18_10_2...</td>\n",
       "      <td>G:\\My Drive\\2P_Data\\TwoTower\\4139224.3\\18_10_2...</td>\n",
       "      <td>G:\\My Drive\\2P_Data\\TwoTower\\4139224.3\\18_10_2...</td>\n",
       "      <td>G:\\My Drive\\2P_Data\\TwoTower\\4139224.3\\18_10_2...</td>\n",
       "    </tr>\n",
       "    <tr>\n",
       "      <th>841</th>\n",
       "      <td>4139224.3</td>\n",
       "      <td>20_10_2018</td>\n",
       "      <td>2</td>\n",
       "      <td>TwoTower_noTimeout</td>\n",
       "      <td>60</td>\n",
       "      <td>1</td>\n",
       "      <td>CA1</td>\n",
       "      <td>2018-10-20</td>\n",
       "      <td>G:\\My Drive\\VR_Data\\TwoTower\\4139224.3\\20_10_2...</td>\n",
       "      <td>G:\\My Drive\\2P_Data\\TwoTower\\4139224.3\\20_10_2...</td>\n",
       "      <td>G:\\My Drive\\2P_Data\\TwoTower\\4139224.3\\20_10_2...</td>\n",
       "      <td>G:\\My Drive\\2P_Data\\TwoTower\\4139224.3\\20_10_2...</td>\n",
       "    </tr>\n",
       "    <tr>\n",
       "      <th>879</th>\n",
       "      <td>4139224.3</td>\n",
       "      <td>23_10_2018</td>\n",
       "      <td>1</td>\n",
       "      <td>TwoTower_Timeout</td>\n",
       "      <td>48</td>\n",
       "      <td>1</td>\n",
       "      <td>CA1</td>\n",
       "      <td>2018-10-23</td>\n",
       "      <td>G:\\My Drive\\VR_Data\\TwoTower\\4139224.3\\23_10_2...</td>\n",
       "      <td>G:\\My Drive\\2P_Data\\TwoTower\\4139224.3\\23_10_2...</td>\n",
       "      <td>G:\\My Drive\\2P_Data\\TwoTower\\4139224.3\\23_10_2...</td>\n",
       "      <td>G:\\My Drive\\2P_Data\\TwoTower\\4139224.3\\23_10_2...</td>\n",
       "    </tr>\n",
       "    <tr>\n",
       "      <th>909</th>\n",
       "      <td>4139224.3</td>\n",
       "      <td>25_10_2018</td>\n",
       "      <td>1</td>\n",
       "      <td>TwoTower_Timeout</td>\n",
       "      <td>69</td>\n",
       "      <td>1</td>\n",
       "      <td></td>\n",
       "      <td>2018-10-25</td>\n",
       "      <td>G:\\My Drive\\VR_Data\\TwoTower\\4139224.3\\25_10_2...</td>\n",
       "      <td>G:\\My Drive\\2P_Data\\TwoTower\\4139224.3\\25_10_2...</td>\n",
       "      <td>G:\\My Drive\\2P_Data\\TwoTower\\4139224.3\\25_10_2...</td>\n",
       "      <td>G:\\My Drive\\2P_Data\\TwoTower\\4139224.3\\25_10_2...</td>\n",
       "    </tr>\n",
       "    <tr>\n",
       "      <th>933</th>\n",
       "      <td>4139224.3</td>\n",
       "      <td>26_10_2018</td>\n",
       "      <td>3</td>\n",
       "      <td>TwoTower_Timeout</td>\n",
       "      <td>72</td>\n",
       "      <td>1</td>\n",
       "      <td>CA1</td>\n",
       "      <td>2018-10-26</td>\n",
       "      <td>G:\\My Drive\\VR_Data\\TwoTower\\4139224.3\\26_10_2...</td>\n",
       "      <td>G:\\My Drive\\2P_Data\\TwoTower\\4139224.3\\26_10_2...</td>\n",
       "      <td>G:\\My Drive\\2P_Data\\TwoTower\\4139224.3\\26_10_2...</td>\n",
       "      <td>G:\\My Drive\\2P_Data\\TwoTower\\4139224.3\\26_10_2...</td>\n",
       "    </tr>\n",
       "    <tr>\n",
       "      <th>949</th>\n",
       "      <td>4139224.3</td>\n",
       "      <td>27_10_2018</td>\n",
       "      <td>4</td>\n",
       "      <td>TwoTower_Timeout</td>\n",
       "      <td>67</td>\n",
       "      <td>1</td>\n",
       "      <td>CA1</td>\n",
       "      <td>2018-10-27</td>\n",
       "      <td>G:\\My Drive\\VR_Data\\TwoTower\\4139224.3\\27_10_2...</td>\n",
       "      <td>G:\\My Drive\\2P_Data\\TwoTower\\4139224.3\\27_10_2...</td>\n",
       "      <td>G:\\My Drive\\2P_Data\\TwoTower\\4139224.3\\27_10_2...</td>\n",
       "      <td>G:\\My Drive\\2P_Data\\TwoTower\\4139224.3\\27_10_2...</td>\n",
       "    </tr>\n",
       "    <tr>\n",
       "      <th>959</th>\n",
       "      <td>4139224.3</td>\n",
       "      <td>29_10_2018</td>\n",
       "      <td>1</td>\n",
       "      <td>TwoTower_Timeout</td>\n",
       "      <td>71</td>\n",
       "      <td>1</td>\n",
       "      <td>CA1</td>\n",
       "      <td>2018-10-29</td>\n",
       "      <td>G:\\My Drive\\VR_Data\\TwoTower\\4139224.3\\29_10_2...</td>\n",
       "      <td>G:\\My Drive\\2P_Data\\TwoTower\\4139224.3\\29_10_2...</td>\n",
       "      <td>G:\\My Drive\\2P_Data\\TwoTower\\4139224.3\\29_10_2...</td>\n",
       "      <td>G:\\My Drive\\2P_Data\\TwoTower\\4139224.3\\29_10_2...</td>\n",
       "    </tr>\n",
       "    <tr>\n",
       "      <th>970</th>\n",
       "      <td>4139224.3</td>\n",
       "      <td>30_10_2018</td>\n",
       "      <td>1</td>\n",
       "      <td>TwoTower_Timeout</td>\n",
       "      <td>78</td>\n",
       "      <td>1</td>\n",
       "      <td>CA1</td>\n",
       "      <td>2018-10-30</td>\n",
       "      <td>G:\\My Drive\\VR_Data\\TwoTower\\4139224.3\\30_10_2...</td>\n",
       "      <td>G:\\My Drive\\2P_Data\\TwoTower\\4139224.3\\30_10_2...</td>\n",
       "      <td>G:\\My Drive\\2P_Data\\TwoTower\\4139224.3\\30_10_2...</td>\n",
       "      <td>G:\\My Drive\\2P_Data\\TwoTower\\4139224.3\\30_10_2...</td>\n",
       "    </tr>\n",
       "    <tr>\n",
       "      <th>983</th>\n",
       "      <td>4139224.3</td>\n",
       "      <td>31_10_2018</td>\n",
       "      <td>2</td>\n",
       "      <td>TwoTower_Timeout</td>\n",
       "      <td>66</td>\n",
       "      <td>1</td>\n",
       "      <td>CA1</td>\n",
       "      <td>2018-10-31</td>\n",
       "      <td>G:\\My Drive\\VR_Data\\TwoTower\\4139224.3\\31_10_2...</td>\n",
       "      <td>G:\\My Drive\\2P_Data\\TwoTower\\4139224.3\\31_10_2...</td>\n",
       "      <td>G:\\My Drive\\2P_Data\\TwoTower\\4139224.3\\31_10_2...</td>\n",
       "      <td>G:\\My Drive\\2P_Data\\TwoTower\\4139224.3\\31_10_2...</td>\n",
       "    </tr>\n",
       "    <tr>\n",
       "      <th>993</th>\n",
       "      <td>4139224.3</td>\n",
       "      <td>02_11_2018</td>\n",
       "      <td>1</td>\n",
       "      <td>TwoTower_Timeout</td>\n",
       "      <td>64</td>\n",
       "      <td>1</td>\n",
       "      <td>CA1</td>\n",
       "      <td>2018-11-02</td>\n",
       "      <td>G:\\My Drive\\VR_Data\\TwoTower\\4139224.3\\02_11_2...</td>\n",
       "      <td>G:\\My Drive\\2P_Data\\TwoTower\\4139224.3\\02_11_2...</td>\n",
       "      <td>G:\\My Drive\\2P_Data\\TwoTower\\4139224.3\\02_11_2...</td>\n",
       "      <td>G:\\My Drive\\2P_Data\\TwoTower\\4139224.3\\02_11_2...</td>\n",
       "    </tr>\n",
       "  </tbody>\n",
       "</table>\n",
       "</div>"
      ],
      "text/plain": [
       "     MouseName  DateFolder  SessionNumber               Track  RewardCount  \\\n",
       "805  4139224.3  18_10_2018              1  TwoTower_noTimeout           61   \n",
       "807  4139224.3  18_10_2018              3  TwoTower_noTimeout           41   \n",
       "841  4139224.3  20_10_2018              2  TwoTower_noTimeout           60   \n",
       "879  4139224.3  23_10_2018              1    TwoTower_Timeout           48   \n",
       "909  4139224.3  25_10_2018              1    TwoTower_Timeout           69   \n",
       "933  4139224.3  26_10_2018              3    TwoTower_Timeout           72   \n",
       "949  4139224.3  27_10_2018              4    TwoTower_Timeout           67   \n",
       "959  4139224.3  29_10_2018              1    TwoTower_Timeout           71   \n",
       "970  4139224.3  30_10_2018              1    TwoTower_Timeout           78   \n",
       "983  4139224.3  31_10_2018              2    TwoTower_Timeout           66   \n",
       "993  4139224.3  02_11_2018              1    TwoTower_Timeout           64   \n",
       "\n",
       "     Imaging ImagingRegion   DateTime  \\\n",
       "805        1           CA1 2018-10-18   \n",
       "807        1           CA1 2018-10-18   \n",
       "841        1           CA1 2018-10-20   \n",
       "879        1           CA1 2018-10-23   \n",
       "909        1               2018-10-25   \n",
       "933        1           CA1 2018-10-26   \n",
       "949        1           CA1 2018-10-27   \n",
       "959        1           CA1 2018-10-29   \n",
       "970        1           CA1 2018-10-30   \n",
       "983        1           CA1 2018-10-31   \n",
       "993        1           CA1 2018-11-02   \n",
       "\n",
       "                                             data file  \\\n",
       "805  G:\\My Drive\\VR_Data\\TwoTower\\4139224.3\\18_10_2...   \n",
       "807  G:\\My Drive\\VR_Data\\TwoTower\\4139224.3\\18_10_2...   \n",
       "841  G:\\My Drive\\VR_Data\\TwoTower\\4139224.3\\20_10_2...   \n",
       "879  G:\\My Drive\\VR_Data\\TwoTower\\4139224.3\\23_10_2...   \n",
       "909  G:\\My Drive\\VR_Data\\TwoTower\\4139224.3\\25_10_2...   \n",
       "933  G:\\My Drive\\VR_Data\\TwoTower\\4139224.3\\26_10_2...   \n",
       "949  G:\\My Drive\\VR_Data\\TwoTower\\4139224.3\\27_10_2...   \n",
       "959  G:\\My Drive\\VR_Data\\TwoTower\\4139224.3\\29_10_2...   \n",
       "970  G:\\My Drive\\VR_Data\\TwoTower\\4139224.3\\30_10_2...   \n",
       "983  G:\\My Drive\\VR_Data\\TwoTower\\4139224.3\\31_10_2...   \n",
       "993  G:\\My Drive\\VR_Data\\TwoTower\\4139224.3\\02_11_2...   \n",
       "\n",
       "                                              scanfile  \\\n",
       "805  G:\\My Drive\\2P_Data\\TwoTower\\4139224.3\\18_10_2...   \n",
       "807  G:\\My Drive\\2P_Data\\TwoTower\\4139224.3\\18_10_2...   \n",
       "841  G:\\My Drive\\2P_Data\\TwoTower\\4139224.3\\20_10_2...   \n",
       "879  G:\\My Drive\\2P_Data\\TwoTower\\4139224.3\\23_10_2...   \n",
       "909  G:\\My Drive\\2P_Data\\TwoTower\\4139224.3\\25_10_2...   \n",
       "933  G:\\My Drive\\2P_Data\\TwoTower\\4139224.3\\26_10_2...   \n",
       "949  G:\\My Drive\\2P_Data\\TwoTower\\4139224.3\\27_10_2...   \n",
       "959  G:\\My Drive\\2P_Data\\TwoTower\\4139224.3\\29_10_2...   \n",
       "970  G:\\My Drive\\2P_Data\\TwoTower\\4139224.3\\30_10_2...   \n",
       "983  G:\\My Drive\\2P_Data\\TwoTower\\4139224.3\\31_10_2...   \n",
       "993  G:\\My Drive\\2P_Data\\TwoTower\\4139224.3\\02_11_2...   \n",
       "\n",
       "                                               scanmat  \\\n",
       "805  G:\\My Drive\\2P_Data\\TwoTower\\4139224.3\\18_10_2...   \n",
       "807  G:\\My Drive\\2P_Data\\TwoTower\\4139224.3\\18_10_2...   \n",
       "841  G:\\My Drive\\2P_Data\\TwoTower\\4139224.3\\20_10_2...   \n",
       "879  G:\\My Drive\\2P_Data\\TwoTower\\4139224.3\\23_10_2...   \n",
       "909  G:\\My Drive\\2P_Data\\TwoTower\\4139224.3\\25_10_2...   \n",
       "933  G:\\My Drive\\2P_Data\\TwoTower\\4139224.3\\26_10_2...   \n",
       "949  G:\\My Drive\\2P_Data\\TwoTower\\4139224.3\\27_10_2...   \n",
       "959  G:\\My Drive\\2P_Data\\TwoTower\\4139224.3\\29_10_2...   \n",
       "970  G:\\My Drive\\2P_Data\\TwoTower\\4139224.3\\30_10_2...   \n",
       "983  G:\\My Drive\\2P_Data\\TwoTower\\4139224.3\\31_10_2...   \n",
       "993  G:\\My Drive\\2P_Data\\TwoTower\\4139224.3\\02_11_2...   \n",
       "\n",
       "                                             s2pfolder  \n",
       "805  G:\\My Drive\\2P_Data\\TwoTower\\4139224.3\\18_10_2...  \n",
       "807  G:\\My Drive\\2P_Data\\TwoTower\\4139224.3\\18_10_2...  \n",
       "841  G:\\My Drive\\2P_Data\\TwoTower\\4139224.3\\20_10_2...  \n",
       "879  G:\\My Drive\\2P_Data\\TwoTower\\4139224.3\\23_10_2...  \n",
       "909  G:\\My Drive\\2P_Data\\TwoTower\\4139224.3\\25_10_2...  \n",
       "933  G:\\My Drive\\2P_Data\\TwoTower\\4139224.3\\26_10_2...  \n",
       "949  G:\\My Drive\\2P_Data\\TwoTower\\4139224.3\\27_10_2...  \n",
       "959  G:\\My Drive\\2P_Data\\TwoTower\\4139224.3\\29_10_2...  \n",
       "970  G:\\My Drive\\2P_Data\\TwoTower\\4139224.3\\30_10_2...  \n",
       "983  G:\\My Drive\\2P_Data\\TwoTower\\4139224.3\\31_10_2...  \n",
       "993  G:\\My Drive\\2P_Data\\TwoTower\\4139224.3\\02_11_2...  "
      ]
     },
     "execution_count": 8,
     "metadata": {},
     "output_type": "execute_result"
    }
   ],
   "source": [
    "mouse = '4139224.3'\n",
    "df = pp.load_session_db()\n",
    "\n",
    "\n",
    "df = df[df['RewardCount']>30]\n",
    "df = df[df['Imaging']==1]\n",
    "df = df.sort_values(['MouseName','DateTime','SessionNumber'])\n",
    "tracks = 'TwoTower_noTimeout|TwoTower_Timeout|Reversal_noTimeout|Reversal|TwoTower_foraging'\n",
    "df = df[df['Track'].str.contains(tracks,regex=True)]\n",
    "\n",
    "df_mouse = df[df['MouseName'].str.match(mouse)]\n",
    "# df_mouse = df_mouse[df_mouse['Track'].str.match('TwoTower_noTimeout') | df_mouse['Track'].str.match('TwoTower_Timeout')]\n",
    "df_mouse"
   ]
  },
  {
   "cell_type": "code",
   "execution_count": 9,
   "metadata": {},
   "outputs": [],
   "source": [
    "sess = df_mouse.iloc[-3]"
   ]
  },
  {
   "cell_type": "code",
   "execution_count": 10,
   "metadata": {},
   "outputs": [
    {
     "name": "stdout",
     "output_type": "stream",
     "text": [
      "num aberrant ttls 0.0\n",
      "32188 (32188,) (32188, 20) 101194\n",
      "frame diff 0\n"
     ]
    },
    {
     "name": "stderr",
     "output_type": "stream",
     "text": [
      "C:\\Users\\mplitt\\MightyMorphingPhotonRangers\\utilities.py:324: RuntimeWarning: Mean of empty slice\n",
      "  zone1_speed[i] = np.nanmean(sub_frame.loc[zone1_mask,'speed'])\n"
     ]
    }
   ],
   "source": [
    "VRDat,C, S, A = pp.load_scan_sess(sess)\n",
    "trial_info, tstart_inds, teleport_inds = u.by_trial_info(VRDat)\n",
    "S_trial_mat, occ_trial_mat, edges,centers = u.make_pos_bin_trial_matrices(S,VRDat['pos']._values,VRDat['tstart']._values,VRDat['teleport']._values,bin_size=10,speed=VRDat.speed._values)"
   ]
  },
  {
   "cell_type": "code",
   "execution_count": 11,
   "metadata": {},
   "outputs": [],
   "source": [
    "pos = VRDat.pos._values\n",
    "pos_mask = (pos>0) & (pos<450.)\n",
    "\n",
    "pos_trialonly = pos[pos_mask]\n",
    "S_trialonly = S[pos_mask,:]\n",
    "C_trialonly= C[pos_mask,:]"
   ]
  },
  {
   "cell_type": "code",
   "execution_count": 12,
   "metadata": {},
   "outputs": [
    {
     "data": {
      "text/plain": [
       "[<matplotlib.lines.Line2D at 0x2661e2f9e48>]"
      ]
     },
     "execution_count": 12,
     "metadata": {},
     "output_type": "execute_result"
    },
    {
     "data": {
      "image/png": "[encoded data removed]",
      "text/plain": [
       "<Figure size 1440x216 with 1 Axes>"
      ]
     },
     "metadata": {
      "needs_background": "light"
     },
     "output_type": "display_data"
    }
   ],
   "source": [
    "f,ax = plt.subplots(figsize=[20,3])\n",
    "ax.plot(pos_trialonly)"
   ]
  },
  {
   "cell_type": "code",
   "execution_count": 13,
   "metadata": {},
   "outputs": [],
   "source": [
    "with open(\"G:\\\\My Drive\\\\HMMGLM_DemoData\\\\4139224.3_30_10_2018_1.pkl\",'wb') as f:\n",
    "    pickle.dump({'activity_rate':S_trialonly,'position':pos_trialonly,'dff':C_trialonly},f)\n"
   ]
  },
  {
   "cell_type": "code",
   "execution_count": null,
   "metadata": {},
   "outputs": [],
   "source": []
  },
  {
   "cell_type": "code",
   "execution_count": 5,
   "metadata": {},
   "outputs": [
    {
     "name": "stdout",
     "output_type": "stream",
     "text": [
      "(120, 45, 1340)\n"
     ]
    }
   ],
   "source": [
    "print(S_trial_mat.shape)"
   ]
  },
  {
   "cell_type": "code",
   "execution_count": 6,
   "metadata": {},
   "outputs": [
    {
     "data": {
      "text/plain": [
       "(36583, 1340)"
      ]
     },
     "execution_count": 6,
     "metadata": {},
     "output_type": "execute_result"
    }
   ],
   "source": [
    "S.shape"
   ]
  },
  {
   "cell_type": "code",
   "execution_count": 9,
   "metadata": {},
   "outputs": [],
   "source": [
    "S_tmat = np.zeros([S_trial_mat.shape[0]*S_trial_mat.shape[1],S_trial_mat.shape[-1]])\n",
    "nposbins = S_trial_mat.shape[1]"
   ]
  },
  {
   "cell_type": "code",
   "execution_count": 10,
   "metadata": {},
   "outputs": [],
   "source": [
    "for t in range(S_trial_mat.shape[0]-1):\n",
    "    S_tmat[t*nposbins:(t+1)*nposbins,:]=np.squeeze(S_trial_mat[t,:,:])"
   ]
  },
  {
   "cell_type": "code",
   "execution_count": 11,
   "metadata": {},
   "outputs": [
    {
     "name": "stdout",
     "output_type": "stream",
     "text": [
      "(5400, 1340)\n"
     ]
    }
   ],
   "source": [
    "print(S_tmat.shape)"
   ]
  },
  {
   "cell_type": "code",
   "execution_count": 19,
   "metadata": {},
   "outputs": [
    {
     "name": "stdout",
     "output_type": "stream",
     "text": [
      "0.007254992307692297 0.9363291076923077\n"
     ]
    }
   ],
   "source": [
    "# d = {}\n",
    "effMorph = trial_info['morphs']+trial_info['bckgndJitter']+trial_info['towerJitter']+trial_info['wallJitter']\n",
    "effMorph+=.25\n",
    "effMorph/=1.5\n",
    "print(np.amin(effMorph),np.amax(effMorph))\n",
    "with open('4139265.5_24_02_2019_2.pkl','wb+') as f:\n",
    "    pickle.dump({'deconv_dff':S,'raw_pos':VRDat.pos._values,'raw_morph':VRDat.morph._values,'trial_tensor_dff':S_trial_mat,'pos_binned_dff':S_tmat,'trial_morph':effMorph},f)\n"
   ]
  },
  {
   "cell_type": "code",
   "execution_count": 20,
   "metadata": {},
   "outputs": [
    {
     "name": "stdout",
     "output_type": "stream",
     "text": [
      "dict_keys(['raw_dff', 'raw_pos', 'raw_morph', 'trial_tensor_dff', 'pos_binned_dff', 'trial_morph'])\n"
     ]
    }
   ],
   "source": [
    "with open('4139265.5_24_02_2019_2.pkl','rb+') as f:\n",
    "    d = pickle.load(f)\n",
    "print(d.keys())"
   ]
  },
  {
   "cell_type": "code",
   "execution_count": 21,
   "metadata": {},
   "outputs": [
    {
     "name": "stdout",
     "output_type": "stream",
     "text": [
      "raw_dff (36583, 1340)\n",
      "raw_pos (36583,)\n",
      "raw_morph (36583,)\n",
      "trial_tensor_dff (120, 45, 1340)\n",
      "pos_binned_dff (5400, 1340)\n",
      "trial_morph (120,)\n"
     ]
    }
   ],
   "source": [
    "for k,v in d.items():\n",
    "    print(k,v.shape)"
   ]
  },
  {
   "cell_type": "code",
   "execution_count": 22,
   "metadata": {},
   "outputs": [
    {
     "name": "stdout",
     "output_type": "stream",
     "text": [
      "0\n"
     ]
    }
   ],
   "source": [
    "print(np.isnan(S_trial_mat).sum())"
   ]
  },
  {
   "cell_type": "code",
   "execution_count": null,
   "metadata": {},
   "outputs": [],
   "source": []
  }
 ],
 "metadata": {
  "kernelspec": {
   "display_name": "Python 3",
   "language": "python",
   "name": "python3"
  },
  "language_info": {
   "codemirror_mode": {
    "name": "ipython",
    "version": 3
   },
   "file_extension": ".py",
   "mimetype": "text/x-python",
   "name": "python",
   "nbconvert_exporter": "python",
   "pygments_lexer": "ipython3",
   "version": "3.7.3"
  }
 },
 "nbformat": 4,
 "nbformat_minor": 2
}
