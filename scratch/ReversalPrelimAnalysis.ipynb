{
 "cells": [
  {
   "cell_type": "code",
   "execution_count": 2,
   "metadata": {},
   "outputs": [],
   "source": [
    "import matplotlib.pyplot as plt\n",
    "import numpy as np\n",
    "import scipy as sp\n",
    "from scipy.ndimage.filters import gaussian_filter1d\n",
    "import sqlite3 as sql\n",
    "import os\n",
    "import pandas as pd\n",
    "from datetime import datetime\n",
    "from glob import glob\n",
    "import PlaceCellAnalysis as pc\n",
    "\n",
    "os.sys.path.append('../')\n",
    "import utilities as u\n",
    "import preprocessing as pp\n",
    "import behavior as b\n",
    "import BayesianDecoding as bd\n",
    "\n",
    "\n",
    "%load_ext autoreload\n",
    "%autoreload 2\n",
    "\n",
    "%matplotlib inline"
   ]
  },
  {
   "cell_type": "code",
   "execution_count": 14,
   "metadata": {},
   "outputs": [
    {
     "data": {
      "text/html": [
       "<div>\n",
       "<style scoped>\n",
       "    .dataframe tbody tr th:only-of-type {\n",
       "        vertical-align: middle;\n",
       "    }\n",
       "\n",
       "    .dataframe tbody tr th {\n",
       "        vertical-align: top;\n",
       "    }\n",
       "\n",
       "    .dataframe thead th {\n",
       "        text-align: right;\n",
       "    }\n",
       "</style>\n",
       "<table border=\"1\" class=\"dataframe\">\n",
       "  <thead>\n",
       "    <tr style=\"text-align: right;\">\n",
       "      <th></th>\n",
       "      <th>MouseName</th>\n",
       "      <th>DateFolder</th>\n",
       "      <th>SessionNumber</th>\n",
       "      <th>Track</th>\n",
       "      <th>RewardCount</th>\n",
       "      <th>Imaging</th>\n",
       "      <th>ImagingRegion</th>\n",
       "      <th>DateTime</th>\n",
       "      <th>data file</th>\n",
       "      <th>scanfile</th>\n",
       "      <th>scanmat</th>\n",
       "    </tr>\n",
       "  </thead>\n",
       "  <tbody>\n",
       "    <tr>\n",
       "      <th>1151</th>\n",
       "      <td>4139261.2</td>\n",
       "      <td>22_01_2019</td>\n",
       "      <td>2</td>\n",
       "      <td>Reversal_noTimeout</td>\n",
       "      <td>60</td>\n",
       "      <td>1</td>\n",
       "      <td>CA1</td>\n",
       "      <td>2019-01-22</td>\n",
       "      <td>G:\\My Drive\\\\VR_Data\\TwoTower\\4139261.2\\22_01_...</td>\n",
       "      <td>None</td>\n",
       "      <td>G:\\My Drive\\2P_Data\\TwoTower\\4139261.2\\22_01_2...</td>\n",
       "    </tr>\n",
       "    <tr>\n",
       "      <th>1153</th>\n",
       "      <td>4139261.2</td>\n",
       "      <td>22_01_2019</td>\n",
       "      <td>4</td>\n",
       "      <td>Reversal_noTimeout</td>\n",
       "      <td>60</td>\n",
       "      <td>1</td>\n",
       "      <td>CA1</td>\n",
       "      <td>2019-01-22</td>\n",
       "      <td>G:\\My Drive\\\\VR_Data\\TwoTower\\4139261.2\\22_01_...</td>\n",
       "      <td>None</td>\n",
       "      <td>G:\\My Drive\\2P_Data\\TwoTower\\4139261.2\\22_01_2...</td>\n",
       "    </tr>\n",
       "    <tr>\n",
       "      <th>1187</th>\n",
       "      <td>4139261.2</td>\n",
       "      <td>24_01_2019</td>\n",
       "      <td>3</td>\n",
       "      <td>Reversal_noTimeout</td>\n",
       "      <td>78</td>\n",
       "      <td>1</td>\n",
       "      <td>CA1</td>\n",
       "      <td>2019-01-24</td>\n",
       "      <td>G:\\My Drive\\\\VR_Data\\TwoTower\\4139261.2\\24_01_...</td>\n",
       "      <td>None</td>\n",
       "      <td>G:\\My Drive\\2P_Data\\TwoTower\\4139261.2\\24_01_2...</td>\n",
       "    </tr>\n",
       "    <tr>\n",
       "      <th>1215</th>\n",
       "      <td>4139261.2</td>\n",
       "      <td>26_01_2019</td>\n",
       "      <td>3</td>\n",
       "      <td>Reversal</td>\n",
       "      <td>55</td>\n",
       "      <td>1</td>\n",
       "      <td>CA1</td>\n",
       "      <td>2019-01-26</td>\n",
       "      <td>G:\\My Drive\\\\VR_Data\\TwoTower\\4139261.2\\26_01_...</td>\n",
       "      <td>None</td>\n",
       "      <td>G:\\My Drive\\2P_Data\\TwoTower\\4139261.2\\26_01_2...</td>\n",
       "    </tr>\n",
       "  </tbody>\n",
       "</table>\n",
       "</div>"
      ],
      "text/plain": [
       "      MouseName  DateFolder  SessionNumber               Track  RewardCount  \\\n",
       "1151  4139261.2  22_01_2019              2  Reversal_noTimeout           60   \n",
       "1153  4139261.2  22_01_2019              4  Reversal_noTimeout           60   \n",
       "1187  4139261.2  24_01_2019              3  Reversal_noTimeout           78   \n",
       "1215  4139261.2  26_01_2019              3            Reversal           55   \n",
       "\n",
       "      Imaging ImagingRegion   DateTime  \\\n",
       "1151        1           CA1 2019-01-22   \n",
       "1153        1           CA1 2019-01-22   \n",
       "1187        1           CA1 2019-01-24   \n",
       "1215        1           CA1 2019-01-26   \n",
       "\n",
       "                                              data file scanfile  \\\n",
       "1151  G:\\My Drive\\\\VR_Data\\TwoTower\\4139261.2\\22_01_...     None   \n",
       "1153  G:\\My Drive\\\\VR_Data\\TwoTower\\4139261.2\\22_01_...     None   \n",
       "1187  G:\\My Drive\\\\VR_Data\\TwoTower\\4139261.2\\24_01_...     None   \n",
       "1215  G:\\My Drive\\\\VR_Data\\TwoTower\\4139261.2\\26_01_...     None   \n",
       "\n",
       "                                                scanmat  \n",
       "1151  G:\\My Drive\\2P_Data\\TwoTower\\4139261.2\\22_01_2...  \n",
       "1153  G:\\My Drive\\2P_Data\\TwoTower\\4139261.2\\22_01_2...  \n",
       "1187  G:\\My Drive\\2P_Data\\TwoTower\\4139261.2\\24_01_2...  \n",
       "1215  G:\\My Drive\\2P_Data\\TwoTower\\4139261.2\\26_01_2...  "
      ]
     },
     "execution_count": 14,
     "metadata": {},
     "output_type": "execute_result"
    }
   ],
   "source": [
    "# load session\n",
    "mouse = '4139261.2'\n",
    "df = pp.load_session_db()\n",
    "\n",
    "\n",
    "df = df[df['RewardCount']>30]\n",
    "df = df[df['Imaging']==1]\n",
    "df = df.sort_values(['MouseName','DateTime','SessionNumber'])\n",
    "\n",
    "df_mouse = df[df['MouseName'].str.match(mouse)]\n",
    "df_mouse = df_mouse[df_mouse['Track'].str.match('Reversal_noTimeout') | df_mouse['Track'].str.match('Reversal')]\n",
    "df_mouse"
   ]
  },
  {
   "cell_type": "code",
   "execution_count": 15,
   "metadata": {},
   "outputs": [
    {
     "name": "stderr",
     "output_type": "stream",
     "text": [
      "C:\\Users\\mplitt\\Anaconda3\\lib\\site-packages\\pandas\\core\\frame.py:3790: SettingWithCopyWarning: \n",
      "A value is trying to be set on a copy of a slice from a DataFrame\n",
      "\n",
      "See the caveats in the documentation: http://pandas.pydata.org/pandas-docs/stable/indexing.html#indexing-view-versus-copy\n",
      "  downcast=downcast, **kwargs)\n",
      "C:\\Users\\mplitt\\MightyMorphingPhotonRangers\\utilities.py:257: RuntimeWarning: Mean of empty slice\n",
      "  zone1_speed[i] = np.nanmean(sub_frame.loc[zone1_mask,'speed'])\n",
      "C:\\Users\\mplitt\\MightyMorphingPhotonRangers\\utilities.py:256: RuntimeWarning: Mean of empty slice\n",
      "  zone0_speed[i]=np.nanmean(sub_frame.loc[zone0_mask,'speed'])\n"
     ]
    },
    {
     "data": {
      "text/plain": [
       "((<Figure size 360x360 with 1 Axes>,\n",
       "  <matplotlib.axes._subplots.AxesSubplot at 0x24e86526e48>),\n",
       " (<Figure size 360x360 with 1 Axes>,\n",
       "  <matplotlib.axes._subplots.AxesSubplot at 0x24e86428f28>),\n",
       " (<Figure size 360x360 with 1 Axes>,\n",
       "  <matplotlib.axes._subplots.AxesSubplot at 0x24e8650aa20>))"
      ]
     },
     "execution_count": 15,
     "metadata": {},
     "output_type": "execute_result"
    },
    {
     "data": {
      "image/png": "[encoded data removed]",
      "text/plain": [
       "<Figure size 360x360 with 1 Axes>"
      ]
     },
     "metadata": {
      "needs_background": "light"
     },
     "output_type": "display_data"
    },
    {
     "data": {
      "image/png": "[encoded data removed]",
      "text/plain": [
       "<Figure size 360x360 with 1 Axes>"
      ]
     },
     "metadata": {
      "needs_background": "light"
     },
     "output_type": "display_data"
    },
    {
     "data": {
      "image/png": "[encoded data removed]",
      "text/plain": [
       "<Figure size 360x360 with 1 Axes>"
      ]
     },
     "metadata": {
      "needs_background": "light"
     },
     "output_type": "display_data"
    }
   ],
   "source": [
    "data = pp.behavior_dataframe([df_mouse['data file'].iloc[i] for i in range(3,df_mouse.shape[0],1)],concat=False)\n",
    "b.learning_curve_plots(data)"
   ]
  },
  {
   "cell_type": "code",
   "execution_count": null,
   "metadata": {},
   "outputs": [],
   "source": [
    "s2pdir = \"G:\\My Drive\\2P_Data\\TwoTower\\4139251.1\\23_01_2019\\Reversal\\suite2p\\plane0\"\n",
    "F = "
   ]
  }
 ],
 "metadata": {
  "kernelspec": {
   "display_name": "Python 3",
   "language": "python",
   "name": "python3"
  },
  "language_info": {
   "codemirror_mode": {
    "name": "ipython",
    "version": 3
   },
   "file_extension": ".py",
   "mimetype": "text/x-python",
   "name": "python",
   "nbconvert_exporter": "python",
   "pygments_lexer": "ipython3",
   "version": "3.6.6"
  }
 },
 "nbformat": 4,
 "nbformat_minor": 2
}
